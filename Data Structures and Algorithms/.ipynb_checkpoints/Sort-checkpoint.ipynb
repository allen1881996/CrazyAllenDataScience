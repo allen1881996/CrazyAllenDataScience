{
 "cells": [
  {
   "cell_type": "markdown",
   "metadata": {},
   "source": [
    "# Merge Sort"
   ]
  },
  {
   "cell_type": "code",
   "execution_count": 18,
   "metadata": {},
   "outputs": [
    {
     "name": "stdout",
     "output_type": "stream",
     "text": [
      "[0, 1, 2, 3, 4, 5, 6, 7, 8, 9]\n",
      "[6, 0, 9, 5, 1, 4, 3, 2, 7, 8]\n"
     ]
    }
   ],
   "source": [
    "from random import randint\n",
    "\n",
    "class ArrayUtil:\n",
    "    def generateSequenceArray(self, n):\n",
    "        result = []\n",
    "        for i in range(n):\n",
    "            result.append(i)\n",
    "        return result\n",
    "\n",
    "    def generateRandomArray(self, n):\n",
    "        result = self.generateSequenceArray(n)\n",
    "        for i in range(n):\n",
    "            r = randint(i,n-1)\n",
    "            t = result[r]\n",
    "            result[r] = result[i]\n",
    "            result[i] = t\n",
    "        return result\n",
    "\n",
    "    def printList(self, list):\n",
    "        print(list)\n",
    "\n",
    "if __name__ == \"__main__\":\n",
    "    util = ArrayUtil()\n",
    "    list = util.generateSequenceArray(10)\n",
    "    util.printList(list)\n",
    " \n",
    "    list = util.generateRandomArray(10)\n",
    "    util.printList(list)"
   ]
  },
  {
   "cell_type": "code",
   "execution_count": 19,
   "metadata": {},
   "outputs": [
    {
     "name": "stdout",
     "output_type": "stream",
     "text": [
      "[4, 8, 6, 5, 0, 1, 2, 7, 9, 3]\n",
      "[0, 1, 2, 3, 4, 5, 6, 7, 8, 9]\n"
     ]
    }
   ],
   "source": [
    "class MergeSort:\n",
    "   \n",
    "    def sort(self, array):\n",
    "        tmp_array = [None] * len(array)\n",
    "        self.helper(array, tmp_array, 0, len(array) - 1)\n",
    "        \n",
    "    def helper(self, array, tmp_array, left, right):\n",
    "        if (left < right):\n",
    "            middle = left + (right - left) // 2   # (left+right)//2\n",
    "            self.helper(array, tmp_array, left, middle)\n",
    "            self.helper(array, tmp_array, middle + 1, right)\n",
    "            self.merge(array, tmp_array, left, middle + 1, right)\n",
    "\n",
    "    def merge(self, array, tmpArray, leftPos, rightPos, rightEnd):\n",
    "        leftEnd = rightPos - 1;\n",
    "        tmpPos = leftPos;\n",
    "        count = rightEnd - leftPos + 1;\n",
    "        \n",
    "        while (leftPos <= leftEnd and rightPos <= rightEnd):\n",
    "            if(array[leftPos] < array[rightPos]):\n",
    "                tmpArray[tmpPos] = array[leftPos]\n",
    "                tmpPos += 1\n",
    "                leftPos += 1\n",
    "            else:\n",
    "                tmpArray[tmpPos] = array[rightPos]\n",
    "                tmpPos += 1\n",
    "                rightPos += 1\n",
    "                \n",
    "        while (leftPos <= leftEnd):\n",
    "            tmpArray[tmpPos] = array[leftPos]\n",
    "            tmpPos += 1\n",
    "            leftPos += 1\n",
    "            \n",
    "        while (rightPos <= rightEnd):\n",
    "            tmpArray[tmpPos] = array[rightPos]\n",
    "            tmpPos += 1\n",
    "            rightPos += 1\n",
    "        \n",
    "        for i in range (count):  # Copy tmpArray back\n",
    "            array[rightEnd] = tmpArray[rightEnd]\n",
    "            rightEnd -= 1\n",
    "        \n",
    "def main():\n",
    "    util = ArrayUtil()\n",
    "    mylist = util.generateRandomArray(10)\n",
    "    print(mylist)\n",
    "    merge = MergeSort()\n",
    "    merge.sort(mylist)\n",
    "    print(mylist)\n",
    "\n",
    "    \n",
    "if __name__ == \"__main__\":\n",
    "    main()"
   ]
  },
  {
   "cell_type": "code",
   "execution_count": null,
   "metadata": {},
   "outputs": [],
   "source": []
  }
 ],
 "metadata": {
  "kernelspec": {
   "display_name": "Python 3",
   "language": "python",
   "name": "python3"
  },
  "language_info": {
   "codemirror_mode": {
    "name": "ipython",
    "version": 3
   },
   "file_extension": ".py",
   "mimetype": "text/x-python",
   "name": "python",
   "nbconvert_exporter": "python",
   "pygments_lexer": "ipython3",
   "version": "3.7.4"
  },
  "toc": {
   "base_numbering": 1,
   "nav_menu": {},
   "number_sections": true,
   "sideBar": true,
   "skip_h1_title": false,
   "title_cell": "Table of Contents",
   "title_sidebar": "Contents",
   "toc_cell": false,
   "toc_position": {},
   "toc_section_display": true,
   "toc_window_display": false
  }
 },
 "nbformat": 4,
 "nbformat_minor": 2
}
