{
 "cells": [
  {
   "cell_type": "markdown",
   "metadata": {},
   "source": [
    "# File Objects in Python\n",
    "## By Allen Huang"
   ]
  },
  {
   "cell_type": "markdown",
   "metadata": {},
   "source": [
    "1. The Basics"
   ]
  },
  {
   "cell_type": "markdown",
   "metadata": {},
   "source": [
    "### 1 The Basics"
   ]
  },
  {
   "cell_type": "markdown",
   "metadata": {},
   "source": [
    "### 1.1 Read the files"
   ]
  },
  {
   "cell_type": "markdown",
   "metadata": {},
   "source": [
    "Ways to read a file:\n",
    "    1. context manager (recommend)\n",
    "    2. open() (we need to explicitly close the file)"
   ]
  },
  {
   "cell_type": "code",
   "execution_count": 1,
   "metadata": {},
   "outputs": [
    {
     "name": "stdout",
     "output_type": "stream",
     "text": [
      "/Users/hkmac/Desktop/Carzy Allen Github/Python\r\n"
     ]
    }
   ],
   "source": [
    "! pwd"
   ]
  },
  {
   "cell_type": "code",
   "execution_count": 2,
   "metadata": {
    "scrolled": false
   },
   "outputs": [
    {
     "name": "stdout",
     "output_type": "stream",
     "text": [
      "Common Problem with Strings.ipynb \u001b[34mLibraries\u001b[m\u001b[m\r\n",
      "Data Structure.ipynb              \u001b[34mModules\u001b[m\u001b[m\r\n",
      "File Objects.ipynb                OOP.ipynb\r\n",
      "Formatting.ipynb                  \u001b[34mPackage Management\u001b[m\u001b[m\r\n",
      "Function.ipynb                    Variable Scope.ipynb\r\n",
      "Generators.ipynb                  testfile.txt\r\n",
      "Jupyter Notebook.ipynb\r\n"
     ]
    }
   ],
   "source": [
    "!ls\n",
    "# testfile.txt is the file object that we want to deal with"
   ]
  },
  {
   "cell_type": "code",
   "execution_count": 7,
   "metadata": {},
   "outputs": [
    {
     "name": "stdout",
     "output_type": "stream",
     "text": [
      "testfile.txt\n",
      "r\n"
     ]
    }
   ],
   "source": [
    "# the default is reading  \n",
    "f = open(\"testfile.txt\", \"r\")\n",
    "# the the file is actually open and we can print the name of a file\n",
    "print(f.name)\n",
    "print(f.mode)\n",
    "# if we open a file, we need to explicitly close it when we were done using it\n",
    "f.close()"
   ]
  },
  {
   "cell_type": "markdown",
   "metadata": {},
   "source": [
    "1. write to a file: f = open(\"test.txt\", \"w\")\n",
    "2. appending to a file: f = open(\"test.txt\", \"a\")\n",
    "3. read and write a file: f = open(\"test.txt\", \"r+\")"
   ]
  },
  {
   "cell_type": "code",
   "execution_count": 9,
   "metadata": {},
   "outputs": [],
   "source": [
    "# Using context manager\n",
    "# it allow us to work with files within this block, after we exit that block of code, it will automatically close the file for us \n",
    "# Reading Files:\n",
    "with open(\"testfile.txt\", \"r\") as f:\n",
    "\tpass"
   ]
  },
  {
   "cell_type": "code",
   "execution_count": 10,
   "metadata": {},
   "outputs": [
    {
     "data": {
      "text/plain": [
       "<_io.TextIOWrapper name='testfile.txt' mode='r' encoding='UTF-8'>"
      ]
     },
     "execution_count": 10,
     "metadata": {},
     "output_type": "execute_result"
    }
   ],
   "source": [
    "f"
   ]
  },
  {
   "cell_type": "code",
   "execution_count": 12,
   "metadata": {},
   "outputs": [
    {
     "name": "stdout",
     "output_type": "stream",
     "text": [
      "True\n"
     ]
    }
   ],
   "source": [
    "# it is closed and we can not read \n",
    "print(f.closed)"
   ]
  },
  {
   "cell_type": "code",
   "execution_count": 16,
   "metadata": {},
   "outputs": [
    {
     "name": "stdout",
     "output_type": "stream",
     "text": [
      "The is a txt file:\n",
      "1.first line\n",
      "2.second line\n",
      "3.third line\n",
      "4.最后一道防线！\n"
     ]
    }
   ],
   "source": [
    "# how we can read the file \n",
    "with open(\"testfile.txt\", \"r\") as f:\n",
    "    f_content  = f.read()\n",
    "    print(f_content)"
   ]
  },
  {
   "cell_type": "code",
   "execution_count": 19,
   "metadata": {},
   "outputs": [
    {
     "name": "stdout",
     "output_type": "stream",
     "text": [
      "['The is a txt file:\\n', '1.first line\\n', '2.second line\\n', '3.third line\\n', '4.最后一道防线！']\n"
     ]
    }
   ],
   "source": [
    "# we do not want to load all of the file \n",
    "# all of the line into a list\n",
    "with open(\"testfile.txt\", \"r\") as f:\n",
    "    f_contentline  = f.readlines()\n",
    "    print(f_contentline)"
   ]
  },
  {
   "cell_type": "code",
   "execution_count": 25,
   "metadata": {},
   "outputs": [
    {
     "name": "stdout",
     "output_type": "stream",
     "text": [
      "The is a txt file:\n",
      "1.first line\n",
      "2.second line\n",
      "3.third line\n",
      "4.最后一道防线！"
     ]
    }
   ],
   "source": [
    "with open(\"testfile.txt\", \"r\") as f:\n",
    "    for i in range(5):\n",
    "        # every time it gives us a line in the file \n",
    "        f_line = f.readline()\n",
    "        print(f_line, end = '')\n",
    "        # end = ''就是去掉print之间的空格"
   ]
  },
  {
   "cell_type": "code",
   "execution_count": 27,
   "metadata": {},
   "outputs": [
    {
     "name": "stdout",
     "output_type": "stream",
     "text": [
      "The is a txt file:\n",
      "1.first line\n",
      "2.second line\n",
      "3.third line\n",
      "4.最后一道防线！"
     ]
    }
   ],
   "source": [
    "# Iterating through the file\n",
    "# get one line at a time\n",
    "with open(\"testfile.txt\", \"r\") as f:\n",
    "    for line in f:\n",
    "        print(line, end = '')"
   ]
  },
  {
   "cell_type": "code",
   "execution_count": 31,
   "metadata": {},
   "outputs": [
    {
     "name": "stdout",
     "output_type": "stream",
     "text": [
      "The is a txt file:\n",
      "1\n",
      ".first line\n",
      "2.second\n"
     ]
    }
   ],
   "source": [
    "# Printing by characters:\n",
    "# print first 20 characters of the file\n",
    "with open(\"testfile.txt\", \"r\") as f:\n",
    "    f_contents = f.read(20)\n",
    "    print(f_contents)\n",
    "    \n",
    "    f_contents = f.read(20)\n",
    "    print(f_contents)"
   ]
  },
  {
   "cell_type": "code",
   "execution_count": 34,
   "metadata": {},
   "outputs": [
    {
     "name": "stdout",
     "output_type": "stream",
     "text": [
      "The is a t*xt file:\n",
      "1*.first lin*e\n",
      "2.second* line\n",
      "3.th*ird line\n",
      "4*.最后一道防线！*"
     ]
    }
   ],
   "source": [
    "# Iterating through small chunks:\n",
    "with open(\"testfile.txt\", \"r\") as f:\n",
    "    size_to_read = 10\n",
    "    f_contents = f.read(size_to_read)\n",
    "    while len(f_contents) > 0:\n",
    "        print(f_contents, end = '*')\n",
    "        f_contents = f.read(size_to_read)"
   ]
  },
  {
   "cell_type": "markdown",
   "metadata": {},
   "source": [
    "在前面的例子中，每次执行read(20)都会将前20个characters储存到f_contents中，此处应用while循环，每次读取10个characters，直到读取完整个while，这个file就close了，len(f_contents)就成了0，跳出循环。"
   ]
  },
  {
   "cell_type": "code",
   "execution_count": 38,
   "metadata": {},
   "outputs": [
    {
     "name": "stdout",
     "output_type": "stream",
     "text": [
      "The is a txt file:\n",
      "1.first lin\n",
      "30\n",
      "----分界线----\n",
      "e\n",
      "2.second line\n",
      "3.third line\n",
      "4\n",
      "30\n",
      "----分界线----\n",
      ".最后一道防线！\n",
      "8\n",
      "----分界线----\n",
      "\n",
      "0\n"
     ]
    }
   ],
   "source": [
    "# 比如：\n",
    "with open(\"testfile.txt\", \"r\") as f:\n",
    "    size_to_read = 30\n",
    "    f_contents1 = f.read(size_to_read)\n",
    "    print(f_contents1)\n",
    "    print(len(f_contents1))\n",
    "    print('----分界线----')\n",
    "    f_contents2 = f.read(size_to_read)\n",
    "    print(f_contents2)\n",
    "    print(len(f_contents2))\n",
    "    print('----分界线----')\n",
    "    f_contents3 = f.read(size_to_read)\n",
    "    print(f_contents3)\n",
    "    print(len(f_contents3))\n",
    "    print('----分界线----')\n",
    "    f_contents4 = f.read(size_to_read)\n",
    "    print(f_contents4)\n",
    "    print(len(f_contents4))"
   ]
  },
  {
   "cell_type": "code",
   "execution_count": 39,
   "metadata": {},
   "outputs": [
    {
     "name": "stdout",
     "output_type": "stream",
     "text": [
      "30\n"
     ]
    }
   ],
   "source": [
    "# see our currently position in the file\n",
    "with open(\"testfile.txt\", \"r\") as f:\n",
    "    size_to_read = 30\n",
    "    f_contents = f.read(size_to_read)\n",
    "    print(f.tell())"
   ]
  },
  {
   "cell_type": "code",
   "execution_count": 43,
   "metadata": {},
   "outputs": [
    {
     "name": "stdout",
     "output_type": "stream",
     "text": [
      "The is a t\n",
      " a txt fil\n"
     ]
    }
   ],
   "source": [
    "# what if i want the second read to begin not at 10 position\n",
    "with open(\"testfile.txt\", \"r\") as f:\n",
    "    size_to_read = 10\n",
    "    f_contents = f.read(size_to_read)\n",
    "    print(f_contents, end = '\\n')\n",
    "    f.seek(6)\n",
    "    f_contents = f.read(size_to_read)\n",
    "    print(f_contents)"
   ]
  },
  {
   "cell_type": "markdown",
   "metadata": {},
   "source": [
    "### 1.2 Write the files"
   ]
  },
  {
   "cell_type": "markdown",
   "metadata": {},
   "source": [
    "You must open the files with a writable method"
   ]
  },
  {
   "cell_type": "code",
   "execution_count": 1,
   "metadata": {},
   "outputs": [],
   "source": [
    "import os"
   ]
  },
  {
   "cell_type": "code",
   "execution_count": 2,
   "metadata": {},
   "outputs": [],
   "source": [
    "os.chdir('/Users/hkmac/Desktop/Carzy_Allen_Github/Data_and_Testfile')"
   ]
  },
  {
   "cell_type": "code",
   "execution_count": 3,
   "metadata": {},
   "outputs": [
    {
     "data": {
      "text/plain": [
       "'/Users/hkmac/Desktop/Carzy_Allen_Github/Data_and_Testfile'"
      ]
     },
     "execution_count": 3,
     "metadata": {},
     "output_type": "execute_result"
    }
   ],
   "source": [
    "os.getcwd()"
   ]
  },
  {
   "cell_type": "code",
   "execution_count": 6,
   "metadata": {
    "scrolled": false
   },
   "outputs": [],
   "source": [
    "# Writing Starts:\n",
    "# if this file exist, it will write; otherwise, it will create it at first\n",
    "with open(\"testfile2.txt\", \"w\") as f:\n",
    "    f.write(\"Test\")\n",
    "    f.seek(10)\n",
    "    f.write(\"Test\")"
   ]
  },
  {
   "cell_type": "code",
   "execution_count": 5,
   "metadata": {},
   "outputs": [],
   "source": [
    "# Copying Files:\n",
    "with open(\"testfile.txt\", \"r\") as rf:\n",
    "    with open(\"test_copy.txt\", \"w\") as wf:\n",
    "        # here we have two files open, r for reading original file and w for writing our copy\n",
    "        for line in rf:\n",
    "            wf.write(line)"
   ]
  },
  {
   "cell_type": "code",
   "execution_count": 7,
   "metadata": {},
   "outputs": [],
   "source": [
    "# copy a picture file\n",
    "# we need to reading and writing bytes intead of text\n",
    "# use a binary mode\n",
    "with open(\"cat.jpg\", \"rb\") as rf:\n",
    "    with open(\"cat_copy.jpg\", \"wb\") as wf:\n",
    "        for line in rf:\n",
    "            wf.write(line)"
   ]
  },
  {
   "cell_type": "code",
   "execution_count": null,
   "metadata": {},
   "outputs": [],
   "source": [
    "# Copying the image with chunks:\n",
    "with open(\"cat.jpg\", \"rb\") as rf:\n",
    "    with open(\"cat_copy.jpg\", \"wb\") as wf:\n",
    "        chunk_size = 4096\n",
    "        rf_chunk = rf.read(chunk_size)\n",
    "        while len(rf_chunk) > 0:\n",
    "            wf.write(rf_chunk)\n",
    "            rf_chunk = rf.read(chunk_size)"
   ]
  }
 ],
 "metadata": {
  "kernelspec": {
   "display_name": "Python 3",
   "language": "python",
   "name": "python3"
  },
  "language_info": {
   "codemirror_mode": {
    "name": "ipython",
    "version": 3
   },
   "file_extension": ".py",
   "mimetype": "text/x-python",
   "name": "python",
   "nbconvert_exporter": "python",
   "pygments_lexer": "ipython3",
   "version": "3.7.4"
  },
  "toc": {
   "base_numbering": 1,
   "nav_menu": {},
   "number_sections": true,
   "sideBar": true,
   "skip_h1_title": false,
   "title_cell": "Table of Contents",
   "title_sidebar": "Contents",
   "toc_cell": false,
   "toc_position": {},
   "toc_section_display": true,
   "toc_window_display": false
  }
 },
 "nbformat": 4,
 "nbformat_minor": 2
}
