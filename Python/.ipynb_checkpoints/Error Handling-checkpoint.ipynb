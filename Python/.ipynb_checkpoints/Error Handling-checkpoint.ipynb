{
 "cells": [
  {
   "cell_type": "markdown",
   "metadata": {},
   "source": [
    "# Error Handling in Python\n",
    "## By Allen Huang"
   ]
  },
  {
   "cell_type": "markdown",
   "metadata": {},
   "source": [
    "### 1. Try and Except"
   ]
  },
  {
   "cell_type": "code",
   "execution_count": 1,
   "metadata": {},
   "outputs": [],
   "source": [
    "try:\n",
    "    # we are going to try to run some code\n",
    "    pass\n",
    "except Exception:\n",
    "    # it's mean to catch the errors that we expect and headle them properly\n",
    "    # this is a general exception, and it's going to catch many kind of errors \n",
    "    pass"
   ]
  },
  {
   "cell_type": "code",
   "execution_count": 2,
   "metadata": {},
   "outputs": [
    {
     "ename": "FileNotFoundError",
     "evalue": "[Errno 2] No such file or directory: '/Users/hkmac/Desktop/Carzy_Allen_Github/Data_and_Testfile/testcopy.txt'",
     "output_type": "error",
     "traceback": [
      "\u001b[0;31m---------------------------------------------------------------------------\u001b[0m",
      "\u001b[0;31mFileNotFoundError\u001b[0m                         Traceback (most recent call last)",
      "\u001b[0;32m<ipython-input-2-e7aa24519220>\u001b[0m in \u001b[0;36m<module>\u001b[0;34m\u001b[0m\n\u001b[0;32m----> 1\u001b[0;31m \u001b[0mf\u001b[0m  \u001b[0;34m=\u001b[0m \u001b[0mopen\u001b[0m\u001b[0;34m(\u001b[0m\u001b[0;34m'/Users/hkmac/Desktop/Carzy_Allen_Github/Data_and_Testfile/testcopy.txt'\u001b[0m\u001b[0;34m)\u001b[0m\u001b[0;34m\u001b[0m\u001b[0;34m\u001b[0m\u001b[0m\n\u001b[0m",
      "\u001b[0;31mFileNotFoundError\u001b[0m: [Errno 2] No such file or directory: '/Users/hkmac/Desktop/Carzy_Allen_Github/Data_and_Testfile/testcopy.txt'"
     ]
    }
   ],
   "source": [
    "f  = open('/Users/hkmac/Desktop/Carzy_Allen_Github/Data_and_Testfile/testcopy.txt')\n",
    "# This is a Errno 2"
   ]
  },
  {
   "cell_type": "code",
   "execution_count": 4,
   "metadata": {},
   "outputs": [
    {
     "name": "stdout",
     "output_type": "stream",
     "text": [
      "Sorry, this file doesn't exist\n"
     ]
    }
   ],
   "source": [
    "try:\n",
    "    f = open('/Users/hkmac/Desktop/Carzy_Allen_Github/Data_and_Testfile/testcopy.txt')\n",
    "except FileNotFoundError:\n",
    "    print('Sorry, this file doesn\\'t exist')"
   ]
  },
  {
   "cell_type": "code",
   "execution_count": 5,
   "metadata": {},
   "outputs": [
    {
     "name": "stdout",
     "output_type": "stream",
     "text": [
      "[Errno 2] No such file or directory: '/Users/hkmac/Desktop/Carzy_Allen_Github/Data_and_Testfile/testcopy.txt'\n"
     ]
    }
   ],
   "source": [
    "try:\n",
    "    f = open('/Users/hkmac/Desktop/Carzy_Allen_Github/Data_and_Testfile/testcopy.txt')\n",
    "except FileNotFoundError as e:\n",
    "    print(e)"
   ]
  },
  {
   "cell_type": "markdown",
   "metadata": {},
   "source": [
    "### 2. Else and Finally"
   ]
  },
  {
   "cell_type": "code",
   "execution_count": 8,
   "metadata": {},
   "outputs": [
    {
     "name": "stdout",
     "output_type": "stream",
     "text": [
      "The is a txt file:\n",
      "1.first line\n",
      "2.second line\n",
      "3.third line\n",
      "4.最后一道防线！\n",
      "\n",
      "Executing Finally......\n"
     ]
    }
   ],
   "source": [
    "try:\n",
    "    f = open('/Users/hkmac/Desktop/Carzy_Allen_Github/Data_and_Testfile/test_copy.txt')\n",
    "except FileNotFoundError as e:\n",
    "    print(e)\n",
    "else:\n",
    "    print(f.read())\n",
    "    f.close()\n",
    "    # it runs ocde that needs to be executed if the try clause doesn't raise an exception \n",
    "finally:\n",
    "    # it runs always, no matter what happened\n",
    "    print('\\nExecuting Finally......')\n",
    "    # make sure you properly close down sth, sth that need to be done regardless if the code is successful or not"
   ]
  },
  {
   "cell_type": "code",
   "execution_count": 14,
   "metadata": {},
   "outputs": [
    {
     "name": "stdout",
     "output_type": "stream",
     "text": [
      "Something Wrong!\n",
      "Executing Finally...\n"
     ]
    }
   ],
   "source": [
    "# you can also raise exceptions on your own \n",
    "try:\n",
    "    f = open('/Users/hkmac/Desktop/Carzy_Allen_Github/Data_and_Testfile/test_copy.txt')\n",
    "    # there is nothing wrong \n",
    "    if f.name == '/Users/hkmac/Desktop/Carzy_Allen_Github/Data_and_Testfile/test_copy.txt':\n",
    "        raise Exception\n",
    "except Exception as e:\n",
    "    print('Something Wrong!')\n",
    "else:\n",
    "    print(f.read())\n",
    "    f.close()\n",
    "finally:\n",
    "    print(\"Executing Finally...\")"
   ]
  },
  {
   "cell_type": "code",
   "execution_count": null,
   "metadata": {},
   "outputs": [],
   "source": []
  }
 ],
 "metadata": {
  "kernelspec": {
   "display_name": "Python 3",
   "language": "python",
   "name": "python3"
  },
  "language_info": {
   "codemirror_mode": {
    "name": "ipython",
    "version": 3
   },
   "file_extension": ".py",
   "mimetype": "text/x-python",
   "name": "python",
   "nbconvert_exporter": "python",
   "pygments_lexer": "ipython3",
   "version": "3.7.3"
  }
 },
 "nbformat": 4,
 "nbformat_minor": 2
}
