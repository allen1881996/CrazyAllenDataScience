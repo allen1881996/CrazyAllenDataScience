{
 "cells": [
  {
   "cell_type": "code",
   "execution_count": null,
   "metadata": {},
   "outputs": [],
   "source": []
  },
  {
   "cell_type": "markdown",
   "metadata": {},
   "source": [
    "Pythonic means that you are following conventions and coding styles of the Python language in order to write clean and readable code."
   ]
  },
  {
   "cell_type": "markdown",
   "metadata": {},
   "source": [
    "1. Duck typing\n",
    "2. EAFP(Easier to ask forgiveness than permission)"
   ]
  },
  {
   "cell_type": "markdown",
   "metadata": {},
   "source": [
    "### 1. Duck typing"
   ]
  },
  {
   "cell_type": "markdown",
   "metadata": {},
   "source": [
    "we simply do not care about what type of object we are working with, we only care if our object can do what we ask it to do."
   ]
  },
  {
   "cell_type": "code",
   "execution_count": null,
   "metadata": {},
   "outputs": [],
   "source": [
    "class Duck:\n",
    "\n",
    "    def quack(self):\n",
    "        print('Quack, quack')\n",
    "\n",
    "    def fly(self):\n",
    "        print('Flap, Flap!')\n",
    "\n",
    "\n",
    "class Person:\n",
    "\n",
    "    def quack(self):\n",
    "        print(\"I'm Quacking Like a Duck!\")\n",
    "\n",
    "    def fly(self):\n",
    "        print(\"I'm Flapping my Arms!\")\n",
    "        \n",
    "    def quack_and_fly(thing):\n",
    "pass\n",
    "# Not Duck-Typed (Non-Pythonic)\n",
    "if isinstance(thing, Duck):\n",
    "thing.quack()\n",
    "thing.fly()\n",
    "else:\n",
    "print('This has to be a Duck!')"
   ]
  },
  {
   "cell_type": "markdown",
   "metadata": {},
   "source": [
    "\n",
    "\n",
    "\n",
    "def quack_and_fly(thing):\n",
    "    pass\n",
    "    # Not Duck-Typed (Non-Pythonic)\n",
    "    # if isinstance(thing, Duck):\n",
    "    #     thing.quack()\n",
    "    #     thing.fly()\n",
    "    # else:\n",
    "    #     print('This has to be a Duck!')\n",
    "\n",
    "    # LBYL (Non-Pythonic)\n",
    "    # if hasattr(thing, 'quack'):\n",
    "    #     if callable(thing.quack):\n",
    "    #         thing.quack()\n",
    "\n",
    "    # if hasattr(thing, 'fly'):\n",
    "    #     if callable(thing.fly):\n",
    "    #         thing.fly()\n",
    "\n",
    "    #     try:\n",
    "    #         thing.quack()\n",
    "    #         thing.fly()\n",
    "    #         thing.bark()\n",
    "    #     except AttributeError as e:\n",
    "    #         print(e)\n",
    "\n",
    "d = Duck()\n",
    "\n",
    "print(type(dir(d)))"
   ]
  }
 ],
 "metadata": {
  "kernelspec": {
   "display_name": "Python 3",
   "language": "python",
   "name": "python3"
  },
  "language_info": {
   "codemirror_mode": {
    "name": "ipython",
    "version": 3
   },
   "file_extension": ".py",
   "mimetype": "text/x-python",
   "name": "python",
   "nbconvert_exporter": "python",
   "pygments_lexer": "ipython3",
   "version": "3.7.3"
  }
 },
 "nbformat": 4,
 "nbformat_minor": 2
}
