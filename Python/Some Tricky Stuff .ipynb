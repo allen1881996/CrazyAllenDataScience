{
 "cells": [
  {
   "cell_type": "markdown",
   "metadata": {},
   "source": [
    "# Some Tricky Stuff in Python\n",
    "## By Allen Huang"
   ]
  },
  {
   "cell_type": "markdown",
   "metadata": {},
   "source": [
    "1. == and is\n",
    "2. else statement on loops\n",
    "3. if \\__name__ = '\\__main__'"
   ]
  },
  {
   "cell_type": "markdown",
   "metadata": {},
   "source": [
    "### 1. == and is"
   ]
  },
  {
   "cell_type": "markdown",
   "metadata": {},
   "source": [
    "''=='' checks value for quality, and 'is' checks value for identity (if the value is identical in term of being the same object in memory).\n",
    "\n",
    "For example, my bother have a coke, and I have a pepsi, coke == pepsi is wrong. If both of us have a pepsi, peisi == peisi is true. However, pepsi is pepsi is not true, because they are not the same object. Maybe one pepsi have lemon inside, but another doesn't. What if I and my brother share the same pepsi, just like two variable point to a same object? Now, it will be true."
   ]
  },
  {
   "cell_type": "markdown",
   "metadata": {},
   "source": [
    "⚽ = \"football\"\n",
    "\n",
    "🏈 = \"football\"\n",
    "\n",
    "⚽ == 🏈\n",
    "\n",
    "True\n",
    "\n",
    "⚽ is 🏈\n",
    "\n",
    "False "
   ]
  },
  {
   "cell_type": "code",
   "execution_count": 1,
   "metadata": {},
   "outputs": [
    {
     "name": "stdout",
     "output_type": "stream",
     "text": [
      "False\n"
     ]
    }
   ],
   "source": [
    "l1 = [1,2,3,4,5]\n",
    "l2 = [1,2,4,5]\n",
    "if l1 == l2:\n",
    "    print(True)\n",
    "else:\n",
    "    print(False)"
   ]
  },
  {
   "cell_type": "code",
   "execution_count": 2,
   "metadata": {},
   "outputs": [
    {
     "name": "stdout",
     "output_type": "stream",
     "text": [
      "True\n"
     ]
    }
   ],
   "source": [
    "l1 = [1,2,3,4,5]\n",
    "l2 = [1,2,3,4,5]\n",
    "if l1 == l2:\n",
    "    print(True)\n",
    "else:\n",
    "    print(False)"
   ]
  },
  {
   "cell_type": "code",
   "execution_count": 3,
   "metadata": {},
   "outputs": [
    {
     "name": "stdout",
     "output_type": "stream",
     "text": [
      "False\n"
     ]
    }
   ],
   "source": [
    "l1 = [1,2,3,4,5]\n",
    "l2 = [1,2,3,4,5]\n",
    "if l1 is l2:\n",
    "    print(True)\n",
    "else:\n",
    "    print(False)"
   ]
  },
  {
   "cell_type": "code",
   "execution_count": 4,
   "metadata": {},
   "outputs": [
    {
     "name": "stdout",
     "output_type": "stream",
     "text": [
      "True\n"
     ]
    }
   ],
   "source": [
    "l1 = [1,2,3,4,5]\n",
    "l2 = l1   # now l2 is the exact same object in memory as l1\n",
    "if l1 is l2:\n",
    "    print(True)\n",
    "else:\n",
    "    print(False)"
   ]
  },
  {
   "cell_type": "code",
   "execution_count": 5,
   "metadata": {},
   "outputs": [
    {
     "name": "stdout",
     "output_type": "stream",
     "text": [
      "[1, 6, 3, 4, 5]\n"
     ]
    }
   ],
   "source": [
    "l1[1] = 6\n",
    "print(l2)"
   ]
  },
  {
   "cell_type": "code",
   "execution_count": 6,
   "metadata": {},
   "outputs": [
    {
     "name": "stdout",
     "output_type": "stream",
     "text": [
      "4335108296\n",
      "4335108296\n"
     ]
    }
   ],
   "source": [
    "# check the memory location\n",
    "print(id(l1))\n",
    "print(id(l2))"
   ]
  },
  {
   "cell_type": "markdown",
   "metadata": {},
   "source": [
    "### 2. else statement on loops"
   ]
  },
  {
   "cell_type": "code",
   "execution_count": 8,
   "metadata": {},
   "outputs": [
    {
     "name": "stdout",
     "output_type": "stream",
     "text": [
      "1\n",
      "2\n",
      "3\n",
      "4\n",
      "5\n",
      "Hit the For/Else Statement\n"
     ]
    }
   ],
   "source": [
    "# here, the else means no break, if no break was his, print \n",
    "my_list = [1,2,3,4,5]\n",
    "for i in my_list:\n",
    "    print(i)\n",
    "else:\n",
    "    print('Hit the For/Else Statement')"
   ]
  },
  {
   "cell_type": "code",
   "execution_count": 13,
   "metadata": {},
   "outputs": [
    {
     "name": "stdout",
     "output_type": "stream",
     "text": [
      "1\n",
      "2\n",
      "3\n"
     ]
    }
   ],
   "source": [
    "my_list = [1,2,3,4,5]\n",
    "for i in my_list:\n",
    "    print(i)\n",
    "    if i == 3:\n",
    "         break\n",
    "else:\n",
    "    print('Hit the For/Else Statement')"
   ]
  },
  {
   "cell_type": "code",
   "execution_count": 15,
   "metadata": {},
   "outputs": [
    {
     "name": "stdout",
     "output_type": "stream",
     "text": [
      "1\n",
      "2\n",
      "3\n",
      "4\n",
      "5\n",
      "Hit the While/Else Statement!\n"
     ]
    }
   ],
   "source": [
    "i = 1\n",
    "while i <= 5:\n",
    "    print(i)\n",
    "    i += 1\n",
    "    if i == 9:\n",
    "        break\n",
    "else:\n",
    "    print('Hit the While/Else Statement!')"
   ]
  },
  {
   "cell_type": "code",
   "execution_count": 21,
   "metadata": {},
   "outputs": [
    {
     "name": "stdout",
     "output_type": "stream",
     "text": [
      "Location of target is index: 1\n"
     ]
    }
   ],
   "source": [
    "def find_index(to_search, target):\n",
    "    for i, value in enumerate(to_search):\n",
    "        if value == target:\n",
    "            break\n",
    "    else:\n",
    "        return -1\n",
    "    return i\n",
    "\n",
    "\n",
    "my_list = ['Corey', 'Rick', 'John']\n",
    "index_location = find_index(my_list, 'Rick')\n",
    "\n",
    "print('Location of target is index: {}'.format(index_location))"
   ]
  },
  {
   "cell_type": "code",
   "execution_count": 22,
   "metadata": {},
   "outputs": [
    {
     "name": "stdout",
     "output_type": "stream",
     "text": [
      "Location of target is index: -1\n"
     ]
    }
   ],
   "source": [
    "my_list = ['Corey', 'Rick', 'John']\n",
    "index_location = find_index(my_list, 'Steve')\n",
    "\n",
    "print('Location of target is index: {}'.format(index_location))\n",
    "# never hit the break, excute the else, and return a -1"
   ]
  },
  {
   "cell_type": "code",
   "execution_count": 18,
   "metadata": {},
   "outputs": [
    {
     "name": "stdout",
     "output_type": "stream",
     "text": [
      "0\n",
      "Corey\n",
      "1\n",
      "Rick\n",
      "2\n",
      "John\n"
     ]
    }
   ],
   "source": [
    "my_list = ['Corey', 'Rick', 'John']\n",
    "for i,j in enumerate(my_list):\n",
    "    print(i)\n",
    "    print(j)"
   ]
  },
  {
   "cell_type": "markdown",
   "metadata": {},
   "source": [
    "### 3. if \\__name__ = '\\__main__'"
   ]
  },
  {
   "cell_type": "code",
   "execution_count": 23,
   "metadata": {},
   "outputs": [
    {
     "name": "stdout",
     "output_type": "stream",
     "text": [
      "__main__\n"
     ]
    }
   ],
   "source": [
    "print(__name__)"
   ]
  },
  {
   "cell_type": "code",
   "execution_count": 26,
   "metadata": {},
   "outputs": [
    {
     "name": "stdout",
     "output_type": "stream",
     "text": [
      "__main__\n"
     ]
    }
   ],
   "source": [
    "# Python always run some special variables before run a file. When python run a file directly, it set __name__ = __main__\n",
    "# When we import a module, Python set __name__ equal to the name of the file\n",
    "# if we make a module, which include\n",
    "print(__name__)\n",
    "# when we import the module, it will print the module's name"
   ]
  },
  {
   "cell_type": "code",
   "execution_count": 27,
   "metadata": {},
   "outputs": [],
   "source": [
    "import os\n",
    "os.chdir('/Users/hkmac/Desktop/Carzy_Allen_Github/Data_and_Testfile')"
   ]
  },
  {
   "cell_type": "code",
   "execution_count": 40,
   "metadata": {},
   "outputs": [
    {
     "name": "stdout",
     "output_type": "stream",
     "text": [
      "First module's name:__main__\n",
      "run directly\n"
     ]
    }
   ],
   "source": [
    "def main():\n",
    "    print(f'First module\\'s name:{__name__}')\n",
    "\n",
    "if __name__ == '__main__':\n",
    "    main()\n",
    "    print('run directly')\n",
    "\n",
    "else:\n",
    "    print('run from import')\n",
    "    # some code you want to run only when it is imported"
   ]
  },
  {
   "cell_type": "code",
   "execution_count": 46,
   "metadata": {},
   "outputs": [
    {
     "name": "stdout",
     "output_type": "stream",
     "text": [
      "This wll always run\n",
      "run from import\n"
     ]
    }
   ],
   "source": [
    "import firstmodule"
   ]
  },
  {
   "cell_type": "code",
   "execution_count": 47,
   "metadata": {},
   "outputs": [
    {
     "name": "stdout",
     "output_type": "stream",
     "text": [
      "First module's name:firstmodule\n"
     ]
    }
   ],
   "source": [
    "# when the main() is out of the condition, we also can run it through this way\n",
    "firstmodule.main()"
   ]
  },
  {
   "cell_type": "code",
   "execution_count": null,
   "metadata": {},
   "outputs": [],
   "source": []
  }
 ],
 "metadata": {
  "kernelspec": {
   "display_name": "Python 3",
   "language": "python",
   "name": "python3"
  },
  "language_info": {
   "codemirror_mode": {
    "name": "ipython",
    "version": 3
   },
   "file_extension": ".py",
   "mimetype": "text/x-python",
   "name": "python",
   "nbconvert_exporter": "python",
   "pygments_lexer": "ipython3",
   "version": "3.7.3"
  }
 },
 "nbformat": 4,
 "nbformat_minor": 2
}
