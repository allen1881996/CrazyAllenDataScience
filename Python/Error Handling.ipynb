{
 "cells": [
  {
   "cell_type": "markdown",
   "metadata": {},
   "source": [
    "# Error Handling in Python\n",
    "## By Allen Huang"
   ]
  },
  {
   "cell_type": "code",
   "execution_count": 5,
   "metadata": {},
   "outputs": [
    {
     "ename": "IndexError",
     "evalue": "list index out of range",
     "output_type": "error",
     "traceback": [
      "\u001b[0;31m---------------------------------------------------------------------------\u001b[0m",
      "\u001b[0;31mIndexError\u001b[0m                                Traceback (most recent call last)",
      "\u001b[0;32m<ipython-input-5-2b072c8dd048>\u001b[0m in \u001b[0;36m<module>\u001b[0;34m\u001b[0m\n\u001b[1;32m      1\u001b[0m \u001b[0mnumber\u001b[0m \u001b[0;34m=\u001b[0m \u001b[0;34m[\u001b[0m\u001b[0;36m1\u001b[0m\u001b[0;34m,\u001b[0m\u001b[0;36m23\u001b[0m\u001b[0;34m]\u001b[0m\u001b[0;34m\u001b[0m\u001b[0;34m\u001b[0m\u001b[0m\n\u001b[0;32m----> 2\u001b[0;31m \u001b[0mnumber\u001b[0m\u001b[0;34m[\u001b[0m\u001b[0;36m3\u001b[0m\u001b[0;34m]\u001b[0m\u001b[0;34m\u001b[0m\u001b[0;34m\u001b[0m\u001b[0m\n\u001b[0m",
      "\u001b[0;31mIndexError\u001b[0m: list index out of range"
     ]
    }
   ],
   "source": [
    "# IndexError\n",
    "number = [1,23]\n",
    "number[3]"
   ]
  },
  {
   "cell_type": "code",
   "execution_count": 6,
   "metadata": {},
   "outputs": [
    {
     "name": "stdout",
     "output_type": "stream",
     "text": [
      "age: 1.2\n"
     ]
    },
    {
     "ename": "ValueError",
     "evalue": "invalid literal for int() with base 10: '1.2'",
     "output_type": "error",
     "traceback": [
      "\u001b[0;31m---------------------------------------------------------------------------\u001b[0m",
      "\u001b[0;31mValueError\u001b[0m                                Traceback (most recent call last)",
      "\u001b[0;32m<ipython-input-6-8dae1f9589d4>\u001b[0m in \u001b[0;36m<module>\u001b[0;34m\u001b[0m\n\u001b[0;32m----> 1\u001b[0;31m \u001b[0minput\u001b[0m \u001b[0;34m=\u001b[0m \u001b[0mint\u001b[0m\u001b[0;34m(\u001b[0m\u001b[0minput\u001b[0m\u001b[0;34m(\u001b[0m\u001b[0;34m\"age: \"\u001b[0m\u001b[0;34m)\u001b[0m\u001b[0;34m)\u001b[0m\u001b[0;34m\u001b[0m\u001b[0;34m\u001b[0m\u001b[0m\n\u001b[0m",
      "\u001b[0;31mValueError\u001b[0m: invalid literal for int() with base 10: '1.2'"
     ]
    }
   ],
   "source": [
    "# ValueError\n",
    "input = int(input(\"age: \"))"
   ]
  },
  {
   "cell_type": "markdown",
   "metadata": {},
   "source": [
    "### 1. Try and Except"
   ]
  },
  {
   "cell_type": "code",
   "execution_count": 7,
   "metadata": {},
   "outputs": [
    {
     "name": "stdout",
     "output_type": "stream",
     "text": [
      "age: a\n",
      "You didn't enter a valid age\n"
     ]
    }
   ],
   "source": [
    "try:\n",
    "    input = int(input(\"age: \"))\n",
    "except ValueError:\n",
    "    print(\"You didn't enter a valid age\")"
   ]
  },
  {
   "cell_type": "code",
   "execution_count": 1,
   "metadata": {},
   "outputs": [],
   "source": [
    "try:\n",
    "    # we are going to try to run some code\n",
    "    pass\n",
    "except Exception:\n",
    "    # it's mean to catch the errors that we expect and headle them properly\n",
    "    # this is a general exception, and it's going to catch many kind of errors \n",
    "    pass"
   ]
  },
  {
   "cell_type": "code",
   "execution_count": 2,
   "metadata": {},
   "outputs": [
    {
     "ename": "FileNotFoundError",
     "evalue": "[Errno 2] No such file or directory: '/Users/hkmac/Desktop/Carzy_Allen_Github/Data_and_Testfile/testcopy.txt'",
     "output_type": "error",
     "traceback": [
      "\u001b[0;31m---------------------------------------------------------------------------\u001b[0m",
      "\u001b[0;31mFileNotFoundError\u001b[0m                         Traceback (most recent call last)",
      "\u001b[0;32m<ipython-input-2-b884fd2937e3>\u001b[0m in \u001b[0;36m<module>\u001b[0;34m\u001b[0m\n\u001b[0;32m----> 1\u001b[0;31m \u001b[0mf\u001b[0m  \u001b[0;34m=\u001b[0m \u001b[0mopen\u001b[0m\u001b[0;34m(\u001b[0m\u001b[0;34m'/Users/hkmac/Desktop/Carzy_Allen_Github/Data_and_Testfile/testcopy.txt'\u001b[0m\u001b[0;34m)\u001b[0m\u001b[0;34m\u001b[0m\u001b[0;34m\u001b[0m\u001b[0m\n\u001b[0m\u001b[1;32m      2\u001b[0m \u001b[0;31m# This is a Errno 2\u001b[0m\u001b[0;34m\u001b[0m\u001b[0;34m\u001b[0m\u001b[0;34m\u001b[0m\u001b[0m\n",
      "\u001b[0;31mFileNotFoundError\u001b[0m: [Errno 2] No such file or directory: '/Users/hkmac/Desktop/Carzy_Allen_Github/Data_and_Testfile/testcopy.txt'"
     ]
    }
   ],
   "source": [
    "f  = open('/Users/hkmac/Desktop/Carzy_Allen_Github/Data_and_Testfile/testcopy.txt')\n",
    "# This is a Errno 2"
   ]
  },
  {
   "cell_type": "code",
   "execution_count": 3,
   "metadata": {},
   "outputs": [
    {
     "name": "stdout",
     "output_type": "stream",
     "text": [
      "Sorry, this file doesn't exist\n"
     ]
    }
   ],
   "source": [
    "try:\n",
    "    f = open('/Users/hkmac/Desktop/Carzy_Allen_Github/Data_and_Testfile/testcopy.txt')\n",
    "except FileNotFoundError:\n",
    "    print('Sorry, this file doesn\\'t exist')"
   ]
  },
  {
   "cell_type": "code",
   "execution_count": 4,
   "metadata": {},
   "outputs": [
    {
     "name": "stdout",
     "output_type": "stream",
     "text": [
      "[Errno 2] No such file or directory: '/Users/hkmac/Desktop/Carzy_Allen_Github/Data_and_Testfile/testcopy.txt'\n"
     ]
    }
   ],
   "source": [
    "try:\n",
    "    f = open('/Users/hkmac/Desktop/Carzy_Allen_Github/Data_and_Testfile/testcopy.txt')\n",
    "except FileNotFoundError as e:\n",
    "    print(e)"
   ]
  },
  {
   "cell_type": "markdown",
   "metadata": {},
   "source": [
    "### 2. Else and Finally"
   ]
  },
  {
   "cell_type": "code",
   "execution_count": 8,
   "metadata": {},
   "outputs": [
    {
     "name": "stdout",
     "output_type": "stream",
     "text": [
      "The is a txt file:\n",
      "1.first line\n",
      "2.second line\n",
      "3.third line\n",
      "4.最后一道防线！\n",
      "\n",
      "Executing Finally......\n"
     ]
    }
   ],
   "source": [
    "try:\n",
    "    f = open('/Users/hkmac/Desktop/Carzy_Allen_Github/Data_and_Testfile/test_copy.txt')\n",
    "except FileNotFoundError as e:\n",
    "    print(e)\n",
    "else:\n",
    "    print(f.read())\n",
    "    f.close()\n",
    "    # it runs ocde that needs to be executed if the try clause doesn't raise an exception \n",
    "finally:\n",
    "    # it runs always, no matter what happened\n",
    "    print('\\nExecuting Finally......')\n",
    "    # make sure you properly close down sth, sth that need to be done regardless if the code is successful or not"
   ]
  },
  {
   "cell_type": "code",
   "execution_count": 14,
   "metadata": {},
   "outputs": [
    {
     "name": "stdout",
     "output_type": "stream",
     "text": [
      "Something Wrong!\n",
      "Executing Finally...\n"
     ]
    }
   ],
   "source": [
    "# you can also raise exceptions on your own \n",
    "try:\n",
    "    f = open('/Users/hkmac/Desktop/Carzy_Allen_Github/Data_and_Testfile/test_copy.txt')\n",
    "    # there is nothing wrong \n",
    "    if f.name == '/Users/hkmac/Desktop/Carzy_Allen_Github/Data_and_Testfile/test_copy.txt':\n",
    "        raise Exception\n",
    "except Exception as e:\n",
    "    print('Something Wrong!')\n",
    "else:\n",
    "    print(f.read())\n",
    "    f.close()\n",
    "finally:\n",
    "    print(\"Executing Finally...\")"
   ]
  },
  {
   "cell_type": "code",
   "execution_count": 12,
   "metadata": {},
   "outputs": [
    {
     "name": "stdout",
     "output_type": "stream",
     "text": [
      "This is try\n",
      "This element is int:1\n",
      "One round\n",
      "\n",
      "This is try\n",
      "This element is int:3\n",
      "One round\n",
      "\n",
      "This is try\n",
      "This element is int:8\n",
      "One round\n",
      "\n",
      "This is try\n",
      "This element is int:9\n",
      "One round\n",
      "\n",
      "This is try\n",
      "This element is not int:Ilovyou\n",
      "One round\n",
      "\n"
     ]
    }
   ],
   "source": [
    "# 练习\n",
    "list1 = [1,3,8,9,'Ilovyou']\n",
    "\n",
    "for i in list1:\n",
    "    try:\n",
    "        print(\"This is try\")\n",
    "        if type(i) == str:\n",
    "            raise Exception\n",
    "    except Exception as e:\n",
    "        print(f\"This element is not int:{i}\")\n",
    "    else: \n",
    "        print(f\"This element is int:{i}\")\n",
    "    finally:\n",
    "        print('One round\\n')    "
   ]
  },
  {
   "cell_type": "code",
   "execution_count": null,
   "metadata": {},
   "outputs": [],
   "source": []
  }
 ],
 "metadata": {
  "kernelspec": {
   "display_name": "Python 3",
   "language": "python",
   "name": "python3"
  },
  "language_info": {
   "codemirror_mode": {
    "name": "ipython",
    "version": 3
   },
   "file_extension": ".py",
   "mimetype": "text/x-python",
   "name": "python",
   "nbconvert_exporter": "python",
   "pygments_lexer": "ipython3",
   "version": "3.7.4"
  },
  "toc": {
   "base_numbering": 1,
   "nav_menu": {},
   "number_sections": true,
   "sideBar": true,
   "skip_h1_title": false,
   "title_cell": "Table of Contents",
   "title_sidebar": "Contents",
   "toc_cell": false,
   "toc_position": {},
   "toc_section_display": true,
   "toc_window_display": false
  }
 },
 "nbformat": 4,
 "nbformat_minor": 2
}
