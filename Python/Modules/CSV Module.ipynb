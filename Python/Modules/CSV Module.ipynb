{
 "cells": [
  {
   "cell_type": "markdown",
   "metadata": {},
   "source": [
    "# CSV Module in Python\n",
    "## By Allen Huang"
   ]
  },
  {
   "cell_type": "markdown",
   "metadata": {},
   "source": [
    "1. Read csv files\n",
    "2. Write to a csv file\n",
    "3. Using the dictionary reader nd dictionary writer\n",
    "4. Real practice of parsing names from a CSV to a HTML list"
   ]
  },
  {
   "cell_type": "markdown",
   "metadata": {},
   "source": [
    "CSV files use comma as a dilimiter to seperate data. Sometimes tab or dashes are used as dilimiter."
   ]
  },
  {
   "cell_type": "code",
   "execution_count": 49,
   "metadata": {},
   "outputs": [],
   "source": [
    "import csv"
   ]
  },
  {
   "cell_type": "markdown",
   "metadata": {},
   "source": [
    "### 1. Read csv files"
   ]
  },
  {
   "cell_type": "code",
   "execution_count": 50,
   "metadata": {},
   "outputs": [
    {
     "name": "stdout",
     "output_type": "stream",
     "text": [
      "<_csv.reader object at 0x1030b9a58>\n",
      "['John', 'Doe', 'john-doe@bogusemail.com']\n",
      "['Mary', 'Smith-Robinson', 'maryjacobs@bogusemail.com']\n",
      "['Dave', 'Smith', 'davesmith@bogusemail.com']\n",
      "['Jane', 'Stuart', 'janestuart@bogusemail.com']\n",
      "['Tom', 'Wright', 'tomwright@bogusemail.com']\n",
      "['Steve', 'Robinson', 'steverobinson@bogusemail.com']\n",
      "['Nicole', 'Jacobs', 'nicolejacobs@bogusemail.com']\n",
      "['Jane', 'Wright', 'janewright@bogusemail.com']\n",
      "['Jane', 'Doe', 'janedoe@bogusemail.com']\n",
      "['Kurt', 'Wright', 'kurtwright@bogusemail.com']\n",
      "['Kurt', 'Robinson', 'kurtrobinson@bogusemail.com']\n",
      "['Jane', 'Jenkins', 'janejenkins@bogusemail.com']\n",
      "['Neil', 'Robinson', 'neilrobinson@bogusemail.com']\n",
      "['Tom', 'Patterson', 'tompatterson@bogusemail.com']\n",
      "['Sam', 'Jenkins', 'samjenkins@bogusemail.com']\n",
      "['Steve', 'Stuart', 'stevestuart@bogusemail.com']\n",
      "['Maggie', 'Patterson', 'maggiepatterson@bogusemail.com']\n",
      "['Maggie', 'Stuart', 'maggiestuart@bogusemail.com']\n",
      "['Jane', 'Doe', 'janedoe@bogusemail.com']\n",
      "['Steve', 'Patterson', 'stevepatterson@bogusemail.com']\n",
      "['Dave', 'Smith', 'davesmith@bogusemail.com']\n",
      "['Sam', 'Wilks', 'samwilks@bogusemail.com']\n",
      "['Kurt', 'Jefferson', 'kurtjefferson@bogusemail.com']\n",
      "['Sam', 'Stuart', 'samstuart@bogusemail.com']\n",
      "['Jane', 'Stuart', 'janestuart@bogusemail.com']\n",
      "['Dave', 'Davis', 'davedavis@bogusemail.com']\n",
      "['Sam', 'Patterson', 'sampatterson@bogusemail.com']\n",
      "['Tom', 'Jefferson', 'tomjefferson@bogusemail.com']\n",
      "['Jane', 'Stuart', 'janestuart@bogusemail.com']\n",
      "['Maggie', 'Jefferson', 'maggiejefferson@bogusemail.com']\n",
      "['Mary', 'Wilks', 'marywilks@bogusemail.com']\n",
      "['Neil', 'Patterson', 'neilpatterson@bogusemail.com']\n",
      "['Corey', 'Davis', 'coreydavis@bogusemail.com']\n",
      "['Steve', 'Jacobs', 'stevejacobs@bogusemail.com']\n",
      "['Jane', 'Jenkins', 'janejenkins@bogusemail.com']\n",
      "['John', 'Jacobs', 'johnjacobs@bogusemail.com']\n",
      "['Neil', 'Smith', 'neilsmith@bogusemail.com']\n",
      "['Corey', 'Wilks', 'coreywilks@bogusemail.com']\n",
      "['Corey', 'Smith', 'coreysmith@bogusemail.com']\n",
      "['Mary', 'Patterson', 'marypatterson@bogusemail.com']\n",
      "['Jane', 'Stuart', 'janestuart@bogusemail.com']\n",
      "['Travis', 'Arnold', 'travisarnold@bogusemail.com']\n",
      "['John', 'Robinson', 'johnrobinson@bogusemail.com']\n",
      "['Travis', 'Arnold', 'travisarnold@bogusemail.com']\n"
     ]
    }
   ],
   "source": [
    "with open('/Users/hkmac/Desktop/Carzy_Allen_Github/Data_and_Testfile/name.csv','r') as csv_file:\n",
    "    csv_reader = csv.reader(csv_file)\n",
    "    # the reader method can pass in the csc file into that reader method\n",
    "    # the reader method use dialect, by default, the csv is seperate by a comma \n",
    "    print(csv_reader)\n",
    "    # it's an object in memory\n",
    "    next(csv_reader)\n",
    "    # we can capture it in a variable; otherwise, step over the value\n",
    "    # 目的是跳过第一行，email\n",
    "    for line in csv_reader:\n",
    "        print(line)"
   ]
  },
  {
   "cell_type": "markdown",
   "metadata": {},
   "source": [
    "### 2. Write to a csv file"
   ]
  },
  {
   "cell_type": "code",
   "execution_count": 51,
   "metadata": {
    "scrolled": true
   },
   "outputs": [],
   "source": [
    "# save a copy of this file and use dash as a delimiter\n",
    "with open('/Users/hkmac/Desktop/Carzy_Allen_Github/Data_and_Testfile/name.csv','r') as csv_file:\n",
    "    csv_reader = csv.reader(csv_file)\n",
    "    with open('/Users/hkmac/Desktop/Carzy_Allen_Github/Data_and_Testfile/new_name.csv','w') as  new_csv_file:\n",
    "        # open a new file for writing\n",
    "        csv_writer = csv.writer(new_csv_file, delimiter = '\\t')\n",
    "        for line in csv_reader:\n",
    "        # use origional file to write the new file\n",
    "            csv_writer.writerow(line[0:3])"
   ]
  },
  {
   "cell_type": "code",
   "execution_count": 52,
   "metadata": {
    "collapsed": true
   },
   "outputs": [
    {
     "name": "stdout",
     "output_type": "stream",
     "text": [
      "['first_name', 'last_name', 'email']\n",
      "['John', 'Doe', 'john-doe@bogusemail.com']\n",
      "['Mary', 'Smith-Robinson', 'maryjacobs@bogusemail.com']\n",
      "['Dave', 'Smith', 'davesmith@bogusemail.com']\n",
      "['Jane', 'Stuart', 'janestuart@bogusemail.com']\n",
      "['Tom', 'Wright', 'tomwright@bogusemail.com']\n",
      "['Steve', 'Robinson', 'steverobinson@bogusemail.com']\n",
      "['Nicole', 'Jacobs', 'nicolejacobs@bogusemail.com']\n",
      "['Jane', 'Wright', 'janewright@bogusemail.com']\n",
      "['Jane', 'Doe', 'janedoe@bogusemail.com']\n",
      "['Kurt', 'Wright', 'kurtwright@bogusemail.com']\n",
      "['Kurt', 'Robinson', 'kurtrobinson@bogusemail.com']\n",
      "['Jane', 'Jenkins', 'janejenkins@bogusemail.com']\n",
      "['Neil', 'Robinson', 'neilrobinson@bogusemail.com']\n",
      "['Tom', 'Patterson', 'tompatterson@bogusemail.com']\n",
      "['Sam', 'Jenkins', 'samjenkins@bogusemail.com']\n",
      "['Steve', 'Stuart', 'stevestuart@bogusemail.com']\n",
      "['Maggie', 'Patterson', 'maggiepatterson@bogusemail.com']\n",
      "['Maggie', 'Stuart', 'maggiestuart@bogusemail.com']\n",
      "['Jane', 'Doe', 'janedoe@bogusemail.com']\n",
      "['Steve', 'Patterson', 'stevepatterson@bogusemail.com']\n",
      "['Dave', 'Smith', 'davesmith@bogusemail.com']\n",
      "['Sam', 'Wilks', 'samwilks@bogusemail.com']\n",
      "['Kurt', 'Jefferson', 'kurtjefferson@bogusemail.com']\n",
      "['Sam', 'Stuart', 'samstuart@bogusemail.com']\n",
      "['Jane', 'Stuart', 'janestuart@bogusemail.com']\n",
      "['Dave', 'Davis', 'davedavis@bogusemail.com']\n",
      "['Sam', 'Patterson', 'sampatterson@bogusemail.com']\n",
      "['Tom', 'Jefferson', 'tomjefferson@bogusemail.com']\n",
      "['Jane', 'Stuart', 'janestuart@bogusemail.com']\n",
      "['Maggie', 'Jefferson', 'maggiejefferson@bogusemail.com']\n",
      "['Mary', 'Wilks', 'marywilks@bogusemail.com']\n",
      "['Neil', 'Patterson', 'neilpatterson@bogusemail.com']\n",
      "['Corey', 'Davis', 'coreydavis@bogusemail.com']\n",
      "['Steve', 'Jacobs', 'stevejacobs@bogusemail.com']\n",
      "['Jane', 'Jenkins', 'janejenkins@bogusemail.com']\n",
      "['John', 'Jacobs', 'johnjacobs@bogusemail.com']\n",
      "['Neil', 'Smith', 'neilsmith@bogusemail.com']\n",
      "['Corey', 'Wilks', 'coreywilks@bogusemail.com']\n",
      "['Corey', 'Smith', 'coreysmith@bogusemail.com']\n",
      "['Mary', 'Patterson', 'marypatterson@bogusemail.com']\n",
      "['Jane', 'Stuart', 'janestuart@bogusemail.com']\n",
      "['Travis', 'Arnold', 'travisarnold@bogusemail.com']\n",
      "['John', 'Robinson', 'johnrobinson@bogusemail.com']\n",
      "['Travis', 'Arnold', 'travisarnold@bogusemail.com']\n"
     ]
    }
   ],
   "source": [
    "with open('/Users/hkmac/Desktop/Carzy_Allen_Github/Data_and_Testfile/new_name.csv','r') as  new_csv_file:\n",
    "    csv_new_reader = csv.reader(new_csv_file, delimiter = '\\t')\n",
    "    for line in csv_new_reader:\n",
    "        print(line)"
   ]
  },
  {
   "cell_type": "markdown",
   "metadata": {},
   "source": [
    "### 3. Using the dictionary reader and dictionary writer"
   ]
  },
  {
   "cell_type": "markdown",
   "metadata": {},
   "source": [
    "使用dictionary reader and dictionary writer的作用在于，不需要用index of a list，而是可以用key of a dictionary, which is more readable."
   ]
  },
  {
   "cell_type": "code",
   "execution_count": 54,
   "metadata": {},
   "outputs": [
    {
     "name": "stdout",
     "output_type": "stream",
     "text": [
      "john-doe@bogusemail.com\n",
      "maryjacobs@bogusemail.com\n",
      "davesmith@bogusemail.com\n",
      "janestuart@bogusemail.com\n",
      "tomwright@bogusemail.com\n",
      "steverobinson@bogusemail.com\n",
      "nicolejacobs@bogusemail.com\n",
      "janewright@bogusemail.com\n",
      "janedoe@bogusemail.com\n",
      "kurtwright@bogusemail.com\n",
      "kurtrobinson@bogusemail.com\n",
      "janejenkins@bogusemail.com\n",
      "neilrobinson@bogusemail.com\n",
      "tompatterson@bogusemail.com\n",
      "samjenkins@bogusemail.com\n",
      "stevestuart@bogusemail.com\n",
      "maggiepatterson@bogusemail.com\n",
      "maggiestuart@bogusemail.com\n",
      "janedoe@bogusemail.com\n",
      "stevepatterson@bogusemail.com\n",
      "davesmith@bogusemail.com\n",
      "samwilks@bogusemail.com\n",
      "kurtjefferson@bogusemail.com\n",
      "samstuart@bogusemail.com\n",
      "janestuart@bogusemail.com\n",
      "davedavis@bogusemail.com\n",
      "sampatterson@bogusemail.com\n",
      "tomjefferson@bogusemail.com\n",
      "janestuart@bogusemail.com\n",
      "maggiejefferson@bogusemail.com\n",
      "marywilks@bogusemail.com\n",
      "neilpatterson@bogusemail.com\n",
      "coreydavis@bogusemail.com\n",
      "stevejacobs@bogusemail.com\n",
      "janejenkins@bogusemail.com\n",
      "johnjacobs@bogusemail.com\n",
      "neilsmith@bogusemail.com\n",
      "coreywilks@bogusemail.com\n",
      "coreysmith@bogusemail.com\n",
      "marypatterson@bogusemail.com\n",
      "janestuart@bogusemail.com\n",
      "travisarnold@bogusemail.com\n",
      "johnrobinson@bogusemail.com\n",
      "travisarnold@bogusemail.com\n"
     ]
    }
   ],
   "source": [
    "with open('/Users/hkmac/Desktop/Carzy_Allen_Github/Data_and_Testfile/name.csv','r') as csv_file:\n",
    "    csv_reader = csv.DictReader(csv_file)\n",
    "    for line in csv_reader:\n",
    "        print(line['email'])\n",
    "    # the first line no longer contains the field names \n",
    "    # the field name are now the keys of each of these values\n",
    "    # we can get the data by accessing the key"
   ]
  },
  {
   "cell_type": "code",
   "execution_count": 59,
   "metadata": {},
   "outputs": [],
   "source": [
    "with open('/Users/hkmac/Desktop/Carzy_Allen_Github/Data_and_Testfile/name.csv','r') as csv_file:\n",
    "    csv_reader = csv.DictReader(csv_file)\n",
    "    with open('/Users/hkmac/Desktop/Carzy_Allen_Github/Data_and_Testfile/new_name_dict.csv','w') as  new_csv_file:\n",
    "        fieldnames = ['first_name', 'last_name']\n",
    "        # different from normal writer, we need to provide the filed name of our files\n",
    "        csv_writer = csv.DictWriter(new_csv_file, fieldnames = fieldnames, delimiter = '\\t')\n",
    "        # instead of pass in the file, you need to pass in the fieldnames\n",
    "        csv_writer.writeheader()\n",
    "        # write the field names as the first line\n",
    "        for line in csv_reader:\n",
    "            del line['email']\n",
    "            csv_writer.writerow(line)"
   ]
  },
  {
   "cell_type": "markdown",
   "metadata": {},
   "source": [
    "### 4. Real practice of parsing names from a CSV to a HTML list"
   ]
  },
  {
   "cell_type": "code",
   "execution_count": 71,
   "metadata": {},
   "outputs": [],
   "source": [
    "# create html output\n",
    "html_output = ''\n",
    "names = []\n",
    "# names of people that I want to add to that output "
   ]
  },
  {
   "cell_type": "code",
   "execution_count": 72,
   "metadata": {},
   "outputs": [],
   "source": [
    "with open('/Users/hkmac/Desktop/Carzy_Allen_Github/Data_and_Testfile/Patreon.csv','r') as data_file:\n",
    "    csv_data = csv.reader(data_file)\n",
    "    # this csv_data is a object and behavior like a generator\n",
    "    next(csv_data)\n",
    "    next(csv_data)\n",
    "    # we do not want the first two rows\n",
    "    for line in csv_data:\n",
    "        if line[0] == 'No Reward':\n",
    "            break\n",
    "        names.append(f'{line[0]} {line[1]}')"
   ]
  },
  {
   "cell_type": "code",
   "execution_count": 73,
   "metadata": {},
   "outputs": [
    {
     "name": "stdout",
     "output_type": "stream",
     "text": [
      "John Doe\n",
      "Dave Smith\n",
      "Mary Jacobs\n",
      "Jane Stuart\n",
      "Tom Wright\n",
      "Steve Robinson\n",
      "Nicole Jacobs\n",
      "Jane Wright\n",
      "Jane Doe\n",
      "Kurt Wright\n",
      "Kurt Robinson\n",
      "Jane Jenkins\n",
      "Neil Robinson\n",
      "Tom Patterson\n",
      "Sam Jenkins\n",
      "Steve Stuart\n",
      "Maggie Patterson\n",
      "Maggie Stuart\n",
      "Jane Doe\n",
      "Steve Patterson\n",
      "Dave Smith\n",
      "Sam Wilks\n",
      "Kurt Jefferson\n",
      "Sam Stuart\n",
      "Jane Stuart\n",
      "Dave Davis\n",
      "Sam Patterson\n",
      "Tom Jefferson\n",
      "Jane Stuart\n",
      "Maggie Jefferson\n"
     ]
    }
   ],
   "source": [
    "for name in names:\n",
    "    print(name)"
   ]
  },
  {
   "cell_type": "code",
   "execution_count": 74,
   "metadata": {
    "scrolled": true
   },
   "outputs": [
    {
     "name": "stdout",
     "output_type": "stream",
     "text": [
      "<p>There are currently 30 public contributors. Thank You!</p>\n",
      "<ul>\n",
      "\t<li>John Doe</li>\n",
      "\t<li>Dave Smith</li>\n",
      "\t<li>Mary Jacobs</li>\n",
      "\t<li>Jane Stuart</li>\n",
      "\t<li>Tom Wright</li>\n",
      "\t<li>Steve Robinson</li>\n",
      "\t<li>Nicole Jacobs</li>\n",
      "\t<li>Jane Wright</li>\n",
      "\t<li>Jane Doe</li>\n",
      "\t<li>Kurt Wright</li>\n",
      "\t<li>Kurt Robinson</li>\n",
      "\t<li>Jane Jenkins</li>\n",
      "\t<li>Neil Robinson</li>\n",
      "\t<li>Tom Patterson</li>\n",
      "\t<li>Sam Jenkins</li>\n",
      "\t<li>Steve Stuart</li>\n",
      "\t<li>Maggie Patterson</li>\n",
      "\t<li>Maggie Stuart</li>\n",
      "\t<li>Jane Doe</li>\n",
      "\t<li>Steve Patterson</li>\n",
      "\t<li>Dave Smith</li>\n",
      "\t<li>Sam Wilks</li>\n",
      "\t<li>Kurt Jefferson</li>\n",
      "\t<li>Sam Stuart</li>\n",
      "\t<li>Jane Stuart</li>\n",
      "\t<li>Dave Davis</li>\n",
      "\t<li>Sam Patterson</li>\n",
      "\t<li>Tom Jefferson</li>\n",
      "\t<li>Jane Stuart</li>\n",
      "\t<li>Maggie Jefferson</li>\n",
      "</ul>\n"
     ]
    }
   ],
   "source": [
    "# html paragraph tag\n",
    "html_output += f'<p>There are currently {len(names)} public contributors. Thank You!</p>'\n",
    "# create html unordered list with each name\n",
    "# ul tag, \\n就是为了添加一个new line, more readable\n",
    "html_output += '\\n<ul>'\n",
    "for name in names:\n",
    "    html_output += f'\\n\\t<li>{name}</li>'\n",
    "html_output += '\\n</ul>'\n",
    "print(html_output)"
   ]
  }
 ],
 "metadata": {
  "kernelspec": {
   "display_name": "Python 3",
   "language": "python",
   "name": "python3"
  },
  "language_info": {
   "codemirror_mode": {
    "name": "ipython",
    "version": 3
   },
   "file_extension": ".py",
   "mimetype": "text/x-python",
   "name": "python",
   "nbconvert_exporter": "python",
   "pygments_lexer": "ipython3",
   "version": "3.7.4"
  },
  "toc": {
   "base_numbering": 1,
   "nav_menu": {},
   "number_sections": true,
   "sideBar": true,
   "skip_h1_title": false,
   "title_cell": "Table of Contents",
   "title_sidebar": "Contents",
   "toc_cell": false,
   "toc_position": {},
   "toc_section_display": true,
   "toc_window_display": false
  }
 },
 "nbformat": 4,
 "nbformat_minor": 2
}
