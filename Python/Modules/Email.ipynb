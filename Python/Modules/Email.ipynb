{
 "cells": [
  {
   "cell_type": "code",
   "execution_count": 2,
   "metadata": {},
   "outputs": [],
   "source": [
    "from email.mime.multipart import MIMEMultipart\n",
    "from email.mime.text import MIMEText\n",
    "import smtplib\n",
    "from email.mime.image import MIMEImage\n",
    "from pathlib import Path\n",
    "from email.header import Header\n",
    "import os\n",
    "from string import Template"
   ]
  },
  {
   "cell_type": "code",
   "execution_count": 3,
   "metadata": {},
   "outputs": [],
   "source": [
    "template = Template(Path(\"../Data/template.html\").read_text())"
   ]
  },
  {
   "cell_type": "code",
   "execution_count": 5,
   "metadata": {
    "scrolled": true
   },
   "outputs": [
    {
     "data": {
      "text/plain": [
       "<string.Template at 0x1035fad10>"
      ]
     },
     "execution_count": 5,
     "metadata": {},
     "output_type": "execute_result"
    }
   ],
   "source": [
    "template"
   ]
  },
  {
   "cell_type": "code",
   "execution_count": 7,
   "metadata": {},
   "outputs": [],
   "source": [
    "message = MIMEMultipart()\n",
    "message[\"from\"] = \"Allen\"\n",
    "message[\"to\"] = \"xxx@qq.com\"\n",
    "message[\"subject\"] = \"xxx\"\n",
    "message.attach(MIMEText(template.substitute({\"name\":\"Allen\"}), \"html\"))\n",
    "path = \"../Data/cat.jpg\"\n",
    "att = MIMEImage(Path(path).read_bytes())\n",
    "att[\"Content-Disposition\"] = 'attachment; filename=\"%s\"'%str(Header(os.path.basename(path), 'UTF-8'))\n",
    "message.attach(att)"
   ]
  },
  {
   "cell_type": "code",
   "execution_count": 10,
   "metadata": {
    "scrolled": false
   },
   "outputs": [
    {
     "name": "stdout",
     "output_type": "stream",
     "text": [
      "sent..\n"
     ]
    }
   ],
   "source": [
    "with smtplib.SMTP(host=\"smtp.gmail.com\", port=587) as smtp:\n",
    "    smtp.ehlo()\n",
    "    # put the smtp connection in tls (transport layer security) mode\n",
    "    smtp.starttls()\n",
    "    smtp.login(\"xxx@gmail.com\",\"xxx\")\n",
    "    smtp.send_message(message)\n",
    "    print(\"sent..\")"
   ]
  },
  {
   "cell_type": "code",
   "execution_count": null,
   "metadata": {},
   "outputs": [],
   "source": []
  }
 ],
 "metadata": {
  "kernelspec": {
   "display_name": "Python 3",
   "language": "python",
   "name": "python3"
  },
  "language_info": {
   "codemirror_mode": {
    "name": "ipython",
    "version": 3
   },
   "file_extension": ".py",
   "mimetype": "text/x-python",
   "name": "python",
   "nbconvert_exporter": "python",
   "pygments_lexer": "ipython3",
   "version": "3.7.4"
  },
  "toc": {
   "base_numbering": 1,
   "nav_menu": {},
   "number_sections": true,
   "sideBar": true,
   "skip_h1_title": false,
   "title_cell": "Table of Contents",
   "title_sidebar": "Contents",
   "toc_cell": false,
   "toc_position": {},
   "toc_section_display": true,
   "toc_window_display": false
  }
 },
 "nbformat": 4,
 "nbformat_minor": 2
}
