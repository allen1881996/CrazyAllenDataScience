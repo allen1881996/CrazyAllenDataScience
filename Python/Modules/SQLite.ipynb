{
 "cells": [
  {
   "cell_type": "code",
   "execution_count": 2,
   "metadata": {},
   "outputs": [],
   "source": [
    "import sqlite3\n",
    "import json\n",
    "from pathlib import Path"
   ]
  },
  {
   "cell_type": "code",
   "execution_count": 3,
   "metadata": {},
   "outputs": [],
   "source": [
    "path = Path(\"../Data/new_states.json\")"
   ]
  },
  {
   "cell_type": "code",
   "execution_count": 4,
   "metadata": {},
   "outputs": [],
   "source": [
    "with open(path) as f: \n",
    "    data = json.load(f)"
   ]
  },
  {
   "cell_type": "code",
   "execution_count": 19,
   "metadata": {},
   "outputs": [
    {
     "data": {
      "text/plain": [
       "{'states': [{'name': 'Alabama', 'abbreviation': 'AL'},\n",
       "  {'name': 'Alaska', 'abbreviation': 'AK'},\n",
       "  {'name': 'Arizona', 'abbreviation': 'AZ'},\n",
       "  {'name': 'Arkansas', 'abbreviation': 'AR'},\n",
       "  {'name': 'California', 'abbreviation': 'CA'},\n",
       "  {'name': 'Colorado', 'abbreviation': 'CO'},\n",
       "  {'name': 'Connecticut', 'abbreviation': 'CT'},\n",
       "  {'name': 'Delaware', 'abbreviation': 'DE'},\n",
       "  {'name': 'Florida', 'abbreviation': 'FL'},\n",
       "  {'name': 'Georgia', 'abbreviation': 'GA'},\n",
       "  {'name': 'Hawaii', 'abbreviation': 'HI'},\n",
       "  {'name': 'Idaho', 'abbreviation': 'ID'},\n",
       "  {'name': 'Illinois', 'abbreviation': 'IL'},\n",
       "  {'name': 'Indiana', 'abbreviation': 'IN'},\n",
       "  {'name': 'Iowa', 'abbreviation': 'IA'},\n",
       "  {'name': 'Kansas', 'abbreviation': 'KS'},\n",
       "  {'name': 'Kentucky', 'abbreviation': 'KY'},\n",
       "  {'name': 'Louisiana', 'abbreviation': 'LA'},\n",
       "  {'name': 'Maine', 'abbreviation': 'ME'},\n",
       "  {'name': 'Maryland', 'abbreviation': 'MD'},\n",
       "  {'name': 'Massachusetts', 'abbreviation': 'MA'},\n",
       "  {'name': 'Michigan', 'abbreviation': 'MI'},\n",
       "  {'name': 'Minnesota', 'abbreviation': 'MN'},\n",
       "  {'name': 'Mississippi', 'abbreviation': 'MS'},\n",
       "  {'name': 'Missouri', 'abbreviation': 'MO'},\n",
       "  {'name': 'Montana', 'abbreviation': 'MT'},\n",
       "  {'name': 'Nebraska', 'abbreviation': 'NE'},\n",
       "  {'name': 'Nevada', 'abbreviation': 'NV'},\n",
       "  {'name': 'New Hampshire', 'abbreviation': 'NH'},\n",
       "  {'name': 'New Jersey', 'abbreviation': 'NJ'},\n",
       "  {'name': 'New Mexico', 'abbreviation': 'NM'},\n",
       "  {'name': 'New York', 'abbreviation': 'NY'},\n",
       "  {'name': 'North Carolina', 'abbreviation': 'NC'},\n",
       "  {'name': 'North Dakota', 'abbreviation': 'ND'},\n",
       "  {'name': 'Ohio', 'abbreviation': 'OH'},\n",
       "  {'name': 'Oklahoma', 'abbreviation': 'OK'},\n",
       "  {'name': 'Oregon', 'abbreviation': 'OR'},\n",
       "  {'name': 'Pennsylvania', 'abbreviation': 'PA'},\n",
       "  {'name': 'Rhode Island', 'abbreviation': 'RI'},\n",
       "  {'name': 'South Carolina', 'abbreviation': 'SC'},\n",
       "  {'name': 'South Dakota', 'abbreviation': 'SD'},\n",
       "  {'name': 'Tennessee', 'abbreviation': 'TN'},\n",
       "  {'name': 'Texas', 'abbreviation': 'TX'},\n",
       "  {'name': 'Utah', 'abbreviation': 'UT'},\n",
       "  {'name': 'Vermont', 'abbreviation': 'VT'},\n",
       "  {'name': 'Virginia', 'abbreviation': 'VA'},\n",
       "  {'name': 'Washington', 'abbreviation': 'WA'},\n",
       "  {'name': 'West Virginia', 'abbreviation': 'WV'},\n",
       "  {'name': 'Wisconsin', 'abbreviation': 'WI'},\n",
       "  {'name': 'Wyoming', 'abbreviation': 'WY'}]}"
      ]
     },
     "execution_count": 19,
     "metadata": {},
     "output_type": "execute_result"
    }
   ],
   "source": [
    "data"
   ]
  },
  {
   "cell_type": "code",
   "execution_count": 21,
   "metadata": {
    "scrolled": true
   },
   "outputs": [],
   "source": [
    "with sqlite3.connect(\"../Data/db.sqlite3\") as connection:\n",
    "    command = \"INSERT INTO Movies VALUES(?,?)\"\n",
    "    for state in data['states']:\n",
    "        connection.execute(command, tuple(state.values()))\n",
    "    connection.commit()"
   ]
  },
  {
   "cell_type": "code",
   "execution_count": 23,
   "metadata": {},
   "outputs": [
    {
     "name": "stdout",
     "output_type": "stream",
     "text": [
      "('Alabama', 'AL')\n"
     ]
    }
   ],
   "source": [
    "# read data\n",
    "with sqlite3.connect(\"../Data/db.sqlite3\") as connection:\n",
    "    command = \"SELECT * FROM Movies WHERE name == 'Alabama'\"\n",
    "    cursur = connection.execute(command)\n",
    "    for row in cursur:\n",
    "        print(row)"
   ]
  },
  {
   "cell_type": "code",
   "execution_count": 24,
   "metadata": {},
   "outputs": [
    {
     "name": "stdout",
     "output_type": "stream",
     "text": [
      "[('Alabama', 'AL')]\n"
     ]
    }
   ],
   "source": [
    "with sqlite3.connect(\"../Data/db.sqlite3\") as connection:\n",
    "    command = \"SELECT * FROM Movies WHERE name == 'Alabama'\"\n",
    "    cursur = connection.execute(command)\n",
    "    state = cursur.fetchall()\n",
    "    print(state)"
   ]
  },
  {
   "cell_type": "code",
   "execution_count": null,
   "metadata": {},
   "outputs": [],
   "source": []
  }
 ],
 "metadata": {
  "kernelspec": {
   "display_name": "Python 3",
   "language": "python",
   "name": "python3"
  },
  "language_info": {
   "codemirror_mode": {
    "name": "ipython",
    "version": 3
   },
   "file_extension": ".py",
   "mimetype": "text/x-python",
   "name": "python",
   "nbconvert_exporter": "python",
   "pygments_lexer": "ipython3",
   "version": "3.7.4"
  },
  "toc": {
   "base_numbering": 1,
   "nav_menu": {},
   "number_sections": true,
   "sideBar": true,
   "skip_h1_title": false,
   "title_cell": "Table of Contents",
   "title_sidebar": "Contents",
   "toc_cell": false,
   "toc_position": {},
   "toc_section_display": true,
   "toc_window_display": false
  }
 },
 "nbformat": 4,
 "nbformat_minor": 2
}
