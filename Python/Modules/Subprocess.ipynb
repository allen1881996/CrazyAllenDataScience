{
 "cells": [
  {
   "cell_type": "code",
   "execution_count": 1,
   "metadata": {},
   "outputs": [],
   "source": [
    "import subprocess"
   ]
  },
  {
   "cell_type": "code",
   "execution_count": 8,
   "metadata": {},
   "outputs": [],
   "source": [
    "!cd \"..\" "
   ]
  },
  {
   "cell_type": "code",
   "execution_count": 9,
   "metadata": {},
   "outputs": [
    {
     "name": "stdout",
     "output_type": "stream",
     "text": [
      "/Users/hkmac/Desktop/CrazyAllenDataScience/Python/Modules\r\n"
     ]
    }
   ],
   "source": [
    "!pwd"
   ]
  },
  {
   "cell_type": "code",
   "execution_count": 27,
   "metadata": {},
   "outputs": [],
   "source": [
    "# create a Popen (process open) object\n",
    "result = subprocess.run([\"ls\",\"-l\"], capture_output=True, text=True)"
   ]
  },
  {
   "cell_type": "code",
   "execution_count": 28,
   "metadata": {},
   "outputs": [
    {
     "name": "stdout",
     "output_type": "stream",
     "text": [
      "<class 'subprocess.CompletedProcess'>\n"
     ]
    }
   ],
   "source": [
    "print(type(result))"
   ]
  },
  {
   "cell_type": "code",
   "execution_count": 29,
   "metadata": {},
   "outputs": [
    {
     "data": {
      "text/plain": [
       "CompletedProcess(args=['ls', '-l'], returncode=0, stdout='total 832\\n-rw-r--r--  1 hkmac  staff   16537 Mar 19 19:20 CSV Module.ipynb\\n-rw-r--r--  1 hkmac  staff   11222 Mar 17 16:40 Collections.ipynb\\n-rw-r--r--  1 hkmac  staff   30641 Jan 29 18:44 Datetime Module.ipynb\\n-rw-r--r--  1 hkmac  staff    2978 Mar 20 10:01 Email.ipynb\\n-rw-r--r--  1 hkmac  staff    2346 Nov 19 10:25 Itertools.ipynb\\n-rw-r--r--  1 hkmac  staff   25424 Mar 19 19:53 JSON Module.ipynb\\n-rw-r--r--  1 hkmac  staff  195776 Nov  3 22:53 OS Module.ipynb\\n-rw-r--r--  1 hkmac  staff   15450 Mar 19 19:18 Path.ipynb\\n-rw-r--r--  1 hkmac  staff    3924 Nov  8 22:10 Pillow Module .ipynb\\n-rw-r--r--  1 hkmac  staff   22523 Feb  2 16:00 Random Module.ipynb\\n-rw-r--r--  1 hkmac  staff    6011 Mar 19 19:53 SQLite.ipynb\\n-rw-r--r--  1 hkmac  staff    2738 Mar 20 10:14 Subprocess.ipynb\\n-rw-r--r--  1 hkmac  staff   66428 Nov 22 17:27 re Module.ipynb\\n', stderr='')"
      ]
     },
     "execution_count": 29,
     "metadata": {},
     "output_type": "execute_result"
    }
   ],
   "source": [
    "result"
   ]
  },
  {
   "cell_type": "code",
   "execution_count": 30,
   "metadata": {},
   "outputs": [
    {
     "name": "stdout",
     "output_type": "stream",
     "text": [
      "args:  ['ls', '-l']\n",
      "returncode:  0\n",
      "stderr:  \n",
      "stdout:  total 832\n",
      "-rw-r--r--  1 hkmac  staff   16537 Mar 19 19:20 CSV Module.ipynb\n",
      "-rw-r--r--  1 hkmac  staff   11222 Mar 17 16:40 Collections.ipynb\n",
      "-rw-r--r--  1 hkmac  staff   30641 Jan 29 18:44 Datetime Module.ipynb\n",
      "-rw-r--r--  1 hkmac  staff    2978 Mar 20 10:01 Email.ipynb\n",
      "-rw-r--r--  1 hkmac  staff    2346 Nov 19 10:25 Itertools.ipynb\n",
      "-rw-r--r--  1 hkmac  staff   25424 Mar 19 19:53 JSON Module.ipynb\n",
      "-rw-r--r--  1 hkmac  staff  195776 Nov  3 22:53 OS Module.ipynb\n",
      "-rw-r--r--  1 hkmac  staff   15450 Mar 19 19:18 Path.ipynb\n",
      "-rw-r--r--  1 hkmac  staff    3924 Nov  8 22:10 Pillow Module .ipynb\n",
      "-rw-r--r--  1 hkmac  staff   22523 Feb  2 16:00 Random Module.ipynb\n",
      "-rw-r--r--  1 hkmac  staff    6011 Mar 19 19:53 SQLite.ipynb\n",
      "-rw-r--r--  1 hkmac  staff    2738 Mar 20 10:14 Subprocess.ipynb\n",
      "-rw-r--r--  1 hkmac  staff   66428 Nov 22 17:27 re Module.ipynb\n",
      "\n"
     ]
    }
   ],
   "source": [
    "print(\"args: \" , result.args)\n",
    "print(\"returncode: \" , result.returncode)\n",
    "print(\"stderr: \" , result.stderr)\n",
    "print(\"stdout: \" , result.stdout)\n",
    "# returncode 0 means no error"
   ]
  },
  {
   "cell_type": "code",
   "execution_count": 33,
   "metadata": {},
   "outputs": [],
   "source": [
    "result = subprocess.run([\"python\",\"XXX.py\"], capture_output=True, text=True)"
   ]
  },
  {
   "cell_type": "code",
   "execution_count": 34,
   "metadata": {},
   "outputs": [
    {
     "name": "stdout",
     "output_type": "stream",
     "text": [
      "args:  ['python', 'XXX.py']\n",
      "returncode:  2\n",
      "stderr:  python: can't open file 'XXX.py': [Errno 2] No such file or directory\n",
      "\n",
      "stdout:  \n"
     ]
    }
   ],
   "source": [
    "print(\"args: \" , result.args)\n",
    "print(\"returncode: \" , result.returncode)\n",
    "print(\"stderr: \" , result.stderr)\n",
    "print(\"stdout: \" , result.stdout)\n",
    "# returncode 0 means no error"
   ]
  },
  {
   "cell_type": "code",
   "execution_count": 35,
   "metadata": {},
   "outputs": [
    {
     "ename": "CalledProcessError",
     "evalue": "Command '['python', 'XXX.py']' returned non-zero exit status 2.",
     "output_type": "error",
     "traceback": [
      "\u001b[0;31m---------------------------------------------------------------------------\u001b[0m",
      "\u001b[0;31mCalledProcessError\u001b[0m                        Traceback (most recent call last)",
      "\u001b[0;32m<ipython-input-35-4592b69dcc1a>\u001b[0m in \u001b[0;36m<module>\u001b[0;34m\u001b[0m\n\u001b[0;32m----> 1\u001b[0;31m \u001b[0msubprocess\u001b[0m\u001b[0;34m.\u001b[0m\u001b[0mrun\u001b[0m\u001b[0;34m(\u001b[0m\u001b[0;34m[\u001b[0m\u001b[0;34m\"python\"\u001b[0m\u001b[0;34m,\u001b[0m\u001b[0;34m\"XXX.py\"\u001b[0m\u001b[0;34m]\u001b[0m\u001b[0;34m,\u001b[0m \u001b[0mcapture_output\u001b[0m\u001b[0;34m=\u001b[0m\u001b[0;32mTrue\u001b[0m\u001b[0;34m,\u001b[0m \u001b[0mtext\u001b[0m\u001b[0;34m=\u001b[0m\u001b[0;32mTrue\u001b[0m\u001b[0;34m,\u001b[0m \u001b[0mcheck\u001b[0m\u001b[0;34m=\u001b[0m\u001b[0;32mTrue\u001b[0m\u001b[0;34m)\u001b[0m\u001b[0;34m\u001b[0m\u001b[0;34m\u001b[0m\u001b[0m\n\u001b[0m",
      "\u001b[0;32m~/anaconda3/lib/python3.7/subprocess.py\u001b[0m in \u001b[0;36mrun\u001b[0;34m(input, capture_output, timeout, check, *popenargs, **kwargs)\u001b[0m\n\u001b[1;32m    485\u001b[0m         \u001b[0;32mif\u001b[0m \u001b[0mcheck\u001b[0m \u001b[0;32mand\u001b[0m \u001b[0mretcode\u001b[0m\u001b[0;34m:\u001b[0m\u001b[0;34m\u001b[0m\u001b[0;34m\u001b[0m\u001b[0m\n\u001b[1;32m    486\u001b[0m             raise CalledProcessError(retcode, process.args,\n\u001b[0;32m--> 487\u001b[0;31m                                      output=stdout, stderr=stderr)\n\u001b[0m\u001b[1;32m    488\u001b[0m     \u001b[0;32mreturn\u001b[0m \u001b[0mCompletedProcess\u001b[0m\u001b[0;34m(\u001b[0m\u001b[0mprocess\u001b[0m\u001b[0;34m.\u001b[0m\u001b[0margs\u001b[0m\u001b[0;34m,\u001b[0m \u001b[0mretcode\u001b[0m\u001b[0;34m,\u001b[0m \u001b[0mstdout\u001b[0m\u001b[0;34m,\u001b[0m \u001b[0mstderr\u001b[0m\u001b[0;34m)\u001b[0m\u001b[0;34m\u001b[0m\u001b[0;34m\u001b[0m\u001b[0m\n\u001b[1;32m    489\u001b[0m \u001b[0;34m\u001b[0m\u001b[0m\n",
      "\u001b[0;31mCalledProcessError\u001b[0m: Command '['python', 'XXX.py']' returned non-zero exit status 2."
     ]
    }
   ],
   "source": [
    "subprocess.run([\"python\",\"XXX.py\"], capture_output=True, text=True, check=True)"
   ]
  },
  {
   "cell_type": "code",
   "execution_count": 36,
   "metadata": {},
   "outputs": [
    {
     "name": "stdout",
     "output_type": "stream",
     "text": [
      "Command '['python', 'XXX.py']' returned non-zero exit status 2.\n"
     ]
    }
   ],
   "source": [
    "try:\n",
    "    subprocess.run([\"python\",\"XXX.py\"], capture_output=True, text=True, check=True)\n",
    "except subprocess.CalledProcessError as ex:\n",
    "    print(ex)"
   ]
  },
  {
   "cell_type": "code",
   "execution_count": null,
   "metadata": {},
   "outputs": [],
   "source": []
  }
 ],
 "metadata": {
  "kernelspec": {
   "display_name": "Python 3",
   "language": "python",
   "name": "python3"
  },
  "language_info": {
   "codemirror_mode": {
    "name": "ipython",
    "version": 3
   },
   "file_extension": ".py",
   "mimetype": "text/x-python",
   "name": "python",
   "nbconvert_exporter": "python",
   "pygments_lexer": "ipython3",
   "version": "3.7.4"
  },
  "toc": {
   "base_numbering": 1,
   "nav_menu": {},
   "number_sections": true,
   "sideBar": true,
   "skip_h1_title": false,
   "title_cell": "Table of Contents",
   "title_sidebar": "Contents",
   "toc_cell": false,
   "toc_position": {},
   "toc_section_display": true,
   "toc_window_display": false
  }
 },
 "nbformat": 4,
 "nbformat_minor": 2
}
