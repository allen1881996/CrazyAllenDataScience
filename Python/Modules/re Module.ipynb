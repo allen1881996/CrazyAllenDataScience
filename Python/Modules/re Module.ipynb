{
 "cells": [
  {
   "cell_type": "markdown",
   "metadata": {},
   "source": [
    "# re Module in Python\n",
    "## By Allen Huang"
   ]
  },
  {
   "cell_type": "markdown",
   "metadata": {},
   "source": [
    "1. Basics\n",
    "2. Anchors\n",
    "3. Characters in brackets\n",
    "4. Quantifiers\n",
    "5. Practice\n",
    "6. Capture information from groups\n",
    "7. Methods other than finditer"
   ]
  },
  {
   "cell_type": "markdown",
   "metadata": {},
   "source": [
    " Regular Expression: re Module can be used to search for text patterns within text editors "
   ]
  },
  {
   "cell_type": "markdown",
   "metadata": {},
   "source": [
    "### 1. Basics"
   ]
  },
  {
   "cell_type": "code",
   "execution_count": 2,
   "metadata": {
    "scrolled": true
   },
   "outputs": [
    {
     "name": "stdout",
     "output_type": "stream",
     "text": [
      "\tTab\n",
      "\\tTab\n"
     ]
    }
   ],
   "source": [
    "# a raw string is a string prefixed with an r, that tells Python not to handle any back slashes in any special way  \n",
    "print('\\tTab')\n",
    "print(r'\\tTab')\n",
    "# we want our regular expression to interpret strings that passing in and not have python doing anything to them first  "
   ]
  },
  {
   "cell_type": "code",
   "execution_count": 3,
   "metadata": {},
   "outputs": [
    {
     "name": "stdout",
     "output_type": "stream",
     "text": [
      "<re.Match object; span=(1, 4), match='abc'>\n"
     ]
    }
   ],
   "source": [
    "import re\n",
    "\n",
    "text_to_search = '''\n",
    "abcdefghijklmnopqurtuvwxyz\n",
    "ABCDEFGHIJKLMNOPQRSTUVWXYZ\n",
    "1234567890\n",
    "Ha HaHa\n",
    "MetaCharacters (Need to be escaped):\n",
    ". ^ $ * + ? { } [ ] \\ | ( )\n",
    "coreyms.com\n",
    "321-555-4321\n",
    "123.555.1234\n",
    "123*555*1234\n",
    "800-555-1234\n",
    "900-555-1234\n",
    "Mr. Schafer\n",
    "Mr Smith\n",
    "Ms Davis\n",
    "Mrs. Robinson\n",
    "Mr. T\n",
    "'''\n",
    "# separate patterns into a variable and also can reuse that variable to perform mutiple searches\n",
    "# just search for literal text ABV\n",
    "pattern = re.compile(r'abc')\n",
    "matches = pattern.finditer(text_to_search)\n",
    "for match in matches:\n",
    "    print(match)\n",
    "# it returns an iterator that contains all of the matches \n",
    "# span is begining and end index of the match\n",
    "# it is case sensitive, so ABC can not be matched, and also the order abc is strict"
   ]
  },
  {
   "cell_type": "code",
   "execution_count": 4,
   "metadata": {},
   "outputs": [
    {
     "name": "stdout",
     "output_type": "stream",
     "text": [
      "abc\n"
     ]
    }
   ],
   "source": [
    "print(text_to_search[1:4])"
   ]
  },
  {
   "cell_type": "code",
   "execution_count": 7,
   "metadata": {},
   "outputs": [
    {
     "name": "stdout",
     "output_type": "stream",
     "text": [
      "<re.Match object; span=(111, 112), match='.'>\n",
      "<re.Match object; span=(146, 147), match='.'>\n",
      "<re.Match object; span=(167, 168), match='.'>\n",
      "<re.Match object; span=(171, 172), match='.'>\n",
      "<re.Match object; span=(218, 219), match='.'>\n",
      "<re.Match object; span=(249, 250), match='.'>\n",
      "<re.Match object; span=(262, 263), match='.'>\n"
     ]
    }
   ],
   "source": [
    "# match . 需要用\\.\n",
    "pattern = re.compile(r'\\.')\n",
    "matches = pattern.finditer(text_to_search)\n",
    "for match in matches:\n",
    "    print(match)\n",
    "# MetaCharacters (Need to be escaped):\n",
    "# . ^ $ * + ? { } [ ] \\ | ( )"
   ]
  },
  {
   "cell_type": "code",
   "execution_count": 8,
   "metadata": {},
   "outputs": [
    {
     "name": "stdout",
     "output_type": "stream",
     "text": [
      "<re.Match object; span=(139, 150), match='coreyms.com'>\n"
     ]
    }
   ],
   "source": [
    "# match the URL and escaped . using a backslash\n",
    "pattern = re.compile(r'coreyms\\.com')\n",
    "matches = pattern.finditer(text_to_search)\n",
    "for match in matches:\n",
    "    print(match)"
   ]
  },
  {
   "cell_type": "code",
   "execution_count": 12,
   "metadata": {
    "collapsed": true
   },
   "outputs": [
    {
     "name": "stdout",
     "output_type": "stream",
     "text": [
      "<re.Match object; span=(1, 2), match='a'>\n",
      "<re.Match object; span=(2, 3), match='b'>\n",
      "<re.Match object; span=(3, 4), match='c'>\n",
      "<re.Match object; span=(4, 5), match='d'>\n",
      "<re.Match object; span=(5, 6), match='e'>\n",
      "<re.Match object; span=(6, 7), match='f'>\n",
      "<re.Match object; span=(7, 8), match='g'>\n",
      "<re.Match object; span=(8, 9), match='h'>\n",
      "<re.Match object; span=(9, 10), match='i'>\n",
      "<re.Match object; span=(10, 11), match='j'>\n",
      "<re.Match object; span=(11, 12), match='k'>\n",
      "<re.Match object; span=(12, 13), match='l'>\n",
      "<re.Match object; span=(13, 14), match='m'>\n",
      "<re.Match object; span=(14, 15), match='n'>\n",
      "<re.Match object; span=(15, 16), match='o'>\n",
      "<re.Match object; span=(16, 17), match='p'>\n",
      "<re.Match object; span=(17, 18), match='q'>\n",
      "<re.Match object; span=(18, 19), match='u'>\n",
      "<re.Match object; span=(19, 20), match='r'>\n",
      "<re.Match object; span=(20, 21), match='t'>\n",
      "<re.Match object; span=(21, 22), match='u'>\n",
      "<re.Match object; span=(22, 23), match='v'>\n",
      "<re.Match object; span=(23, 24), match='w'>\n",
      "<re.Match object; span=(24, 25), match='x'>\n",
      "<re.Match object; span=(25, 26), match='y'>\n",
      "<re.Match object; span=(26, 27), match='z'>\n",
      "<re.Match object; span=(28, 29), match='A'>\n",
      "<re.Match object; span=(29, 30), match='B'>\n",
      "<re.Match object; span=(30, 31), match='C'>\n",
      "<re.Match object; span=(31, 32), match='D'>\n",
      "<re.Match object; span=(32, 33), match='E'>\n",
      "<re.Match object; span=(33, 34), match='F'>\n",
      "<re.Match object; span=(34, 35), match='G'>\n",
      "<re.Match object; span=(35, 36), match='H'>\n",
      "<re.Match object; span=(36, 37), match='I'>\n",
      "<re.Match object; span=(37, 38), match='J'>\n",
      "<re.Match object; span=(38, 39), match='K'>\n",
      "<re.Match object; span=(39, 40), match='L'>\n",
      "<re.Match object; span=(40, 41), match='M'>\n",
      "<re.Match object; span=(41, 42), match='N'>\n",
      "<re.Match object; span=(42, 43), match='O'>\n",
      "<re.Match object; span=(43, 44), match='P'>\n",
      "<re.Match object; span=(44, 45), match='Q'>\n",
      "<re.Match object; span=(45, 46), match='R'>\n",
      "<re.Match object; span=(46, 47), match='S'>\n",
      "<re.Match object; span=(47, 48), match='T'>\n",
      "<re.Match object; span=(48, 49), match='U'>\n",
      "<re.Match object; span=(49, 50), match='V'>\n",
      "<re.Match object; span=(50, 51), match='W'>\n",
      "<re.Match object; span=(51, 52), match='X'>\n",
      "<re.Match object; span=(52, 53), match='Y'>\n",
      "<re.Match object; span=(53, 54), match='Z'>\n",
      "<re.Match object; span=(55, 56), match='1'>\n",
      "<re.Match object; span=(56, 57), match='2'>\n",
      "<re.Match object; span=(57, 58), match='3'>\n",
      "<re.Match object; span=(58, 59), match='4'>\n",
      "<re.Match object; span=(59, 60), match='5'>\n",
      "<re.Match object; span=(60, 61), match='6'>\n",
      "<re.Match object; span=(61, 62), match='7'>\n",
      "<re.Match object; span=(62, 63), match='8'>\n",
      "<re.Match object; span=(63, 64), match='9'>\n",
      "<re.Match object; span=(64, 65), match='0'>\n",
      "<re.Match object; span=(66, 67), match='H'>\n",
      "<re.Match object; span=(67, 68), match='a'>\n",
      "<re.Match object; span=(68, 69), match=' '>\n",
      "<re.Match object; span=(69, 70), match='H'>\n",
      "<re.Match object; span=(70, 71), match='a'>\n",
      "<re.Match object; span=(71, 72), match='H'>\n",
      "<re.Match object; span=(72, 73), match='a'>\n",
      "<re.Match object; span=(74, 75), match='M'>\n",
      "<re.Match object; span=(75, 76), match='e'>\n",
      "<re.Match object; span=(76, 77), match='t'>\n",
      "<re.Match object; span=(77, 78), match='a'>\n",
      "<re.Match object; span=(78, 79), match='C'>\n",
      "<re.Match object; span=(79, 80), match='h'>\n",
      "<re.Match object; span=(80, 81), match='a'>\n",
      "<re.Match object; span=(81, 82), match='r'>\n",
      "<re.Match object; span=(82, 83), match='a'>\n",
      "<re.Match object; span=(83, 84), match='c'>\n",
      "<re.Match object; span=(84, 85), match='t'>\n",
      "<re.Match object; span=(85, 86), match='e'>\n",
      "<re.Match object; span=(86, 87), match='r'>\n",
      "<re.Match object; span=(87, 88), match='s'>\n",
      "<re.Match object; span=(88, 89), match=' '>\n",
      "<re.Match object; span=(89, 90), match='('>\n",
      "<re.Match object; span=(90, 91), match='N'>\n",
      "<re.Match object; span=(91, 92), match='e'>\n",
      "<re.Match object; span=(92, 93), match='e'>\n",
      "<re.Match object; span=(93, 94), match='d'>\n",
      "<re.Match object; span=(94, 95), match=' '>\n",
      "<re.Match object; span=(95, 96), match='t'>\n",
      "<re.Match object; span=(96, 97), match='o'>\n",
      "<re.Match object; span=(97, 98), match=' '>\n",
      "<re.Match object; span=(98, 99), match='b'>\n",
      "<re.Match object; span=(99, 100), match='e'>\n",
      "<re.Match object; span=(100, 101), match=' '>\n",
      "<re.Match object; span=(101, 102), match='e'>\n",
      "<re.Match object; span=(102, 103), match='s'>\n",
      "<re.Match object; span=(103, 104), match='c'>\n",
      "<re.Match object; span=(104, 105), match='a'>\n",
      "<re.Match object; span=(105, 106), match='p'>\n",
      "<re.Match object; span=(106, 107), match='e'>\n",
      "<re.Match object; span=(107, 108), match='d'>\n",
      "<re.Match object; span=(108, 109), match=')'>\n",
      "<re.Match object; span=(109, 110), match=':'>\n",
      "<re.Match object; span=(111, 112), match='.'>\n",
      "<re.Match object; span=(112, 113), match=' '>\n",
      "<re.Match object; span=(113, 114), match='^'>\n",
      "<re.Match object; span=(114, 115), match=' '>\n",
      "<re.Match object; span=(115, 116), match='$'>\n",
      "<re.Match object; span=(116, 117), match=' '>\n",
      "<re.Match object; span=(117, 118), match='*'>\n",
      "<re.Match object; span=(118, 119), match=' '>\n",
      "<re.Match object; span=(119, 120), match='+'>\n",
      "<re.Match object; span=(120, 121), match=' '>\n",
      "<re.Match object; span=(121, 122), match='?'>\n",
      "<re.Match object; span=(122, 123), match=' '>\n",
      "<re.Match object; span=(123, 124), match='{'>\n",
      "<re.Match object; span=(124, 125), match=' '>\n",
      "<re.Match object; span=(125, 126), match='}'>\n",
      "<re.Match object; span=(126, 127), match=' '>\n",
      "<re.Match object; span=(127, 128), match='['>\n",
      "<re.Match object; span=(128, 129), match=' '>\n",
      "<re.Match object; span=(129, 130), match=']'>\n",
      "<re.Match object; span=(130, 131), match=' '>\n",
      "<re.Match object; span=(131, 132), match='\\\\'>\n",
      "<re.Match object; span=(132, 133), match=' '>\n",
      "<re.Match object; span=(133, 134), match='|'>\n",
      "<re.Match object; span=(134, 135), match=' '>\n",
      "<re.Match object; span=(135, 136), match='('>\n",
      "<re.Match object; span=(136, 137), match=' '>\n",
      "<re.Match object; span=(137, 138), match=')'>\n",
      "<re.Match object; span=(139, 140), match='c'>\n",
      "<re.Match object; span=(140, 141), match='o'>\n",
      "<re.Match object; span=(141, 142), match='r'>\n",
      "<re.Match object; span=(142, 143), match='e'>\n",
      "<re.Match object; span=(143, 144), match='y'>\n",
      "<re.Match object; span=(144, 145), match='m'>\n",
      "<re.Match object; span=(145, 146), match='s'>\n",
      "<re.Match object; span=(146, 147), match='.'>\n",
      "<re.Match object; span=(147, 148), match='c'>\n",
      "<re.Match object; span=(148, 149), match='o'>\n",
      "<re.Match object; span=(149, 150), match='m'>\n",
      "<re.Match object; span=(151, 152), match='3'>\n",
      "<re.Match object; span=(152, 153), match='2'>\n",
      "<re.Match object; span=(153, 154), match='1'>\n",
      "<re.Match object; span=(154, 155), match='-'>\n",
      "<re.Match object; span=(155, 156), match='5'>\n",
      "<re.Match object; span=(156, 157), match='5'>\n",
      "<re.Match object; span=(157, 158), match='5'>\n",
      "<re.Match object; span=(158, 159), match='-'>\n",
      "<re.Match object; span=(159, 160), match='4'>\n",
      "<re.Match object; span=(160, 161), match='3'>\n",
      "<re.Match object; span=(161, 162), match='2'>\n",
      "<re.Match object; span=(162, 163), match='1'>\n",
      "<re.Match object; span=(164, 165), match='1'>\n",
      "<re.Match object; span=(165, 166), match='2'>\n",
      "<re.Match object; span=(166, 167), match='3'>\n",
      "<re.Match object; span=(167, 168), match='.'>\n",
      "<re.Match object; span=(168, 169), match='5'>\n",
      "<re.Match object; span=(169, 170), match='5'>\n",
      "<re.Match object; span=(170, 171), match='5'>\n",
      "<re.Match object; span=(171, 172), match='.'>\n",
      "<re.Match object; span=(172, 173), match='1'>\n",
      "<re.Match object; span=(173, 174), match='2'>\n",
      "<re.Match object; span=(174, 175), match='3'>\n",
      "<re.Match object; span=(175, 176), match='4'>\n",
      "<re.Match object; span=(177, 178), match='1'>\n",
      "<re.Match object; span=(178, 179), match='2'>\n",
      "<re.Match object; span=(179, 180), match='3'>\n",
      "<re.Match object; span=(180, 181), match='*'>\n",
      "<re.Match object; span=(181, 182), match='5'>\n",
      "<re.Match object; span=(182, 183), match='5'>\n",
      "<re.Match object; span=(183, 184), match='5'>\n",
      "<re.Match object; span=(184, 185), match='*'>\n",
      "<re.Match object; span=(185, 186), match='1'>\n",
      "<re.Match object; span=(186, 187), match='2'>\n",
      "<re.Match object; span=(187, 188), match='3'>\n",
      "<re.Match object; span=(188, 189), match='4'>\n",
      "<re.Match object; span=(190, 191), match='8'>\n",
      "<re.Match object; span=(191, 192), match='0'>\n",
      "<re.Match object; span=(192, 193), match='0'>\n",
      "<re.Match object; span=(193, 194), match='-'>\n",
      "<re.Match object; span=(194, 195), match='5'>\n",
      "<re.Match object; span=(195, 196), match='5'>\n",
      "<re.Match object; span=(196, 197), match='5'>\n",
      "<re.Match object; span=(197, 198), match='-'>\n",
      "<re.Match object; span=(198, 199), match='1'>\n",
      "<re.Match object; span=(199, 200), match='2'>\n",
      "<re.Match object; span=(200, 201), match='3'>\n",
      "<re.Match object; span=(201, 202), match='4'>\n",
      "<re.Match object; span=(203, 204), match='9'>\n",
      "<re.Match object; span=(204, 205), match='0'>\n",
      "<re.Match object; span=(205, 206), match='0'>\n",
      "<re.Match object; span=(206, 207), match='-'>\n",
      "<re.Match object; span=(207, 208), match='5'>\n",
      "<re.Match object; span=(208, 209), match='5'>\n",
      "<re.Match object; span=(209, 210), match='5'>\n",
      "<re.Match object; span=(210, 211), match='-'>\n",
      "<re.Match object; span=(211, 212), match='1'>\n",
      "<re.Match object; span=(212, 213), match='2'>\n",
      "<re.Match object; span=(213, 214), match='3'>\n",
      "<re.Match object; span=(214, 215), match='4'>\n",
      "<re.Match object; span=(216, 217), match='M'>\n",
      "<re.Match object; span=(217, 218), match='r'>\n",
      "<re.Match object; span=(218, 219), match='.'>\n",
      "<re.Match object; span=(219, 220), match=' '>\n",
      "<re.Match object; span=(220, 221), match='S'>\n",
      "<re.Match object; span=(221, 222), match='c'>\n",
      "<re.Match object; span=(222, 223), match='h'>\n",
      "<re.Match object; span=(223, 224), match='a'>\n",
      "<re.Match object; span=(224, 225), match='f'>\n",
      "<re.Match object; span=(225, 226), match='e'>\n",
      "<re.Match object; span=(226, 227), match='r'>\n",
      "<re.Match object; span=(228, 229), match='M'>\n",
      "<re.Match object; span=(229, 230), match='r'>\n",
      "<re.Match object; span=(230, 231), match=' '>\n",
      "<re.Match object; span=(231, 232), match='S'>\n",
      "<re.Match object; span=(232, 233), match='m'>\n",
      "<re.Match object; span=(233, 234), match='i'>\n",
      "<re.Match object; span=(234, 235), match='t'>\n",
      "<re.Match object; span=(235, 236), match='h'>\n",
      "<re.Match object; span=(237, 238), match='M'>\n",
      "<re.Match object; span=(238, 239), match='s'>\n",
      "<re.Match object; span=(239, 240), match=' '>\n",
      "<re.Match object; span=(240, 241), match='D'>\n",
      "<re.Match object; span=(241, 242), match='a'>\n",
      "<re.Match object; span=(242, 243), match='v'>\n",
      "<re.Match object; span=(243, 244), match='i'>\n",
      "<re.Match object; span=(244, 245), match='s'>\n",
      "<re.Match object; span=(246, 247), match='M'>\n",
      "<re.Match object; span=(247, 248), match='r'>\n",
      "<re.Match object; span=(248, 249), match='s'>\n",
      "<re.Match object; span=(249, 250), match='.'>\n",
      "<re.Match object; span=(250, 251), match=' '>\n",
      "<re.Match object; span=(251, 252), match='R'>\n",
      "<re.Match object; span=(252, 253), match='o'>\n",
      "<re.Match object; span=(253, 254), match='b'>\n",
      "<re.Match object; span=(254, 255), match='i'>\n",
      "<re.Match object; span=(255, 256), match='n'>\n",
      "<re.Match object; span=(256, 257), match='s'>\n",
      "<re.Match object; span=(257, 258), match='o'>\n",
      "<re.Match object; span=(258, 259), match='n'>\n",
      "<re.Match object; span=(260, 261), match='M'>\n",
      "<re.Match object; span=(261, 262), match='r'>\n",
      "<re.Match object; span=(262, 263), match='.'>\n",
      "<re.Match object; span=(263, 264), match=' '>\n",
      "<re.Match object; span=(264, 265), match='T'>\n"
     ]
    }
   ],
   "source": [
    "# dot matches any character except new line\n",
    "pattern = re.compile(r'.')\n",
    "matches = pattern.finditer(text_to_search)\n",
    "for match in matches:\n",
    "    print(match)"
   ]
  },
  {
   "cell_type": "code",
   "execution_count": 11,
   "metadata": {},
   "outputs": [],
   "source": [
    "# Type of characters that we can match\n",
    "# the capital letter alway negate whatever the lowercase version means\n",
    "type_match = '''\n",
    ".       - Any Character Except New Line\n",
    "\\d      - Digit (0-9)\n",
    "\\D      - Not a Digit (0-9)\n",
    "\\w      - Word Character (a-z, A-Z, 0-9, _)  including: lowercase, uppercase, ditgit, underscore \n",
    "\\W      - Not a Word Character\n",
    "\\s      - Whitespace (space, tab, newline)  including: ' ', \\n\n",
    "\\S      - Not Whitespace (space, tab, newline)\n",
    "Anchors: do not actually match any characters but rather invisible positions berfore or after characters. Can be used as a conjunction.\n",
    "\\b      - Word Boundary  including: whitespace, non alpanumeric character\n",
    "\\B      - Not a Word Boundary\n",
    "^       - Beginning of a String\n",
    "$       - End of a String\n",
    "\n",
    "[]      - Matches Characters in brackets  attention: only match ONE character\n",
    "[^ ]    - Matches Characters NOT in brackets\n",
    "|       - Either Or\n",
    "( )     - Group\n",
    "\n",
    "Quantifiers:\n",
    "*       - 0 or More\n",
    "+       - 1 or More\n",
    "?       - 0 or One\n",
    "{3}     - Exact Number\n",
    "{3,4}   - Range of Numbers (Minimum, Maximum)\n",
    "'''"
   ]
  },
  {
   "cell_type": "code",
   "execution_count": 14,
   "metadata": {
    "collapsed": true
   },
   "outputs": [
    {
     "name": "stdout",
     "output_type": "stream",
     "text": [
      "<re.Match object; span=(0, 1), match='\\n'>\n",
      "<re.Match object; span=(27, 28), match='\\n'>\n",
      "<re.Match object; span=(54, 55), match='\\n'>\n",
      "<re.Match object; span=(65, 66), match='\\n'>\n",
      "<re.Match object; span=(68, 69), match=' '>\n",
      "<re.Match object; span=(73, 74), match='\\n'>\n",
      "<re.Match object; span=(88, 89), match=' '>\n",
      "<re.Match object; span=(94, 95), match=' '>\n",
      "<re.Match object; span=(97, 98), match=' '>\n",
      "<re.Match object; span=(100, 101), match=' '>\n",
      "<re.Match object; span=(110, 111), match='\\n'>\n",
      "<re.Match object; span=(112, 113), match=' '>\n",
      "<re.Match object; span=(114, 115), match=' '>\n",
      "<re.Match object; span=(116, 117), match=' '>\n",
      "<re.Match object; span=(118, 119), match=' '>\n",
      "<re.Match object; span=(120, 121), match=' '>\n",
      "<re.Match object; span=(122, 123), match=' '>\n",
      "<re.Match object; span=(124, 125), match=' '>\n",
      "<re.Match object; span=(126, 127), match=' '>\n",
      "<re.Match object; span=(128, 129), match=' '>\n",
      "<re.Match object; span=(130, 131), match=' '>\n",
      "<re.Match object; span=(132, 133), match=' '>\n",
      "<re.Match object; span=(134, 135), match=' '>\n",
      "<re.Match object; span=(136, 137), match=' '>\n",
      "<re.Match object; span=(138, 139), match='\\n'>\n",
      "<re.Match object; span=(150, 151), match='\\n'>\n",
      "<re.Match object; span=(163, 164), match='\\n'>\n",
      "<re.Match object; span=(176, 177), match='\\n'>\n",
      "<re.Match object; span=(189, 190), match='\\n'>\n",
      "<re.Match object; span=(202, 203), match='\\n'>\n",
      "<re.Match object; span=(215, 216), match='\\n'>\n",
      "<re.Match object; span=(219, 220), match=' '>\n",
      "<re.Match object; span=(227, 228), match='\\n'>\n",
      "<re.Match object; span=(230, 231), match=' '>\n",
      "<re.Match object; span=(236, 237), match='\\n'>\n",
      "<re.Match object; span=(239, 240), match=' '>\n",
      "<re.Match object; span=(245, 246), match='\\n'>\n",
      "<re.Match object; span=(250, 251), match=' '>\n",
      "<re.Match object; span=(259, 260), match='\\n'>\n",
      "<re.Match object; span=(263, 264), match=' '>\n",
      "<re.Match object; span=(265, 266), match='\\n'>\n"
     ]
    }
   ],
   "source": [
    "pattern = re.compile(r'\\s')\n",
    "matches = pattern.finditer(text_to_search)\n",
    "for match in matches:\n",
    "    print(match)"
   ]
  },
  {
   "cell_type": "markdown",
   "metadata": {},
   "source": [
    "### 2. Anchors"
   ]
  },
  {
   "cell_type": "code",
   "execution_count": 15,
   "metadata": {},
   "outputs": [
    {
     "name": "stdout",
     "output_type": "stream",
     "text": [
      "<re.Match object; span=(66, 68), match='Ha'>\n",
      "<re.Match object; span=(69, 71), match='Ha'>\n"
     ]
    }
   ],
   "source": [
    "# word boundary before \n",
    "pattern = re.compile(r'\\bHa')\n",
    "matches = pattern.finditer(text_to_search)\n",
    "for match in matches:\n",
    "    print(match)\n",
    "# it matching the first Ha, becasue the start of the line a word boundary\n",
    "# also matcging the second Ha, space is also a word boundary\n",
    "# the third one is not, no word boundary before it"
   ]
  },
  {
   "cell_type": "code",
   "execution_count": 17,
   "metadata": {},
   "outputs": [
    {
     "name": "stdout",
     "output_type": "stream",
     "text": [
      "<re.Match object; span=(71, 73), match='Ha'>\n"
     ]
    }
   ],
   "source": [
    "pattern = re.compile(r'\\BHa')\n",
    "matches = pattern.finditer(text_to_search)\n",
    "for match in matches:\n",
    "    print(match)"
   ]
  },
  {
   "cell_type": "code",
   "execution_count": 16,
   "metadata": {},
   "outputs": [
    {
     "name": "stdout",
     "output_type": "stream",
     "text": [
      "<re.Match object; span=(66, 68), match='Ha'>\n",
      "<re.Match object; span=(71, 73), match='Ha'>\n"
     ]
    }
   ],
   "source": [
    "# word boundary after\n",
    "pattern = re.compile(r'Ha\\b')\n",
    "matches = pattern.finditer(text_to_search)\n",
    "for match in matches:\n",
    "    print(match)"
   ]
  },
  {
   "cell_type": "code",
   "execution_count": 20,
   "metadata": {},
   "outputs": [],
   "source": [
    "sentence  = 'Start a sentence and then bring it to an end'"
   ]
  },
  {
   "cell_type": "code",
   "execution_count": 21,
   "metadata": {},
   "outputs": [
    {
     "name": "stdout",
     "output_type": "stream",
     "text": [
      "<re.Match object; span=(0, 5), match='Start'>\n"
     ]
    }
   ],
   "source": [
    "pattern = re.compile(r'^Start')\n",
    "matches = pattern.finditer(sentence)\n",
    "for match in matches:\n",
    "    print(match)"
   ]
  },
  {
   "cell_type": "code",
   "execution_count": 22,
   "metadata": {},
   "outputs": [],
   "source": [
    "# we get no match if it is not the begining of a string\n",
    "pattern = re.compile(r'^and')\n",
    "matches = pattern.finditer(sentence)\n",
    "for match in matches:\n",
    "    print(match)"
   ]
  },
  {
   "cell_type": "code",
   "execution_count": 23,
   "metadata": {},
   "outputs": [
    {
     "name": "stdout",
     "output_type": "stream",
     "text": [
      "<re.Match object; span=(41, 44), match='end'>\n"
     ]
    }
   ],
   "source": [
    "pattern = re.compile(r'end$')\n",
    "matches = pattern.finditer(sentence)\n",
    "for match in matches:\n",
    "    print(match)"
   ]
  },
  {
   "cell_type": "markdown",
   "metadata": {},
   "source": [
    "### 3. Characters in brackets"
   ]
  },
  {
   "cell_type": "code",
   "execution_count": 25,
   "metadata": {
    "scrolled": false
   },
   "outputs": [
    {
     "name": "stdout",
     "output_type": "stream",
     "text": [
      "<re.Match object; span=(151, 163), match='321-555-4321'>\n",
      "<re.Match object; span=(164, 176), match='123.555.1234'>\n",
      "<re.Match object; span=(177, 189), match='123*555*1234'>\n",
      "<re.Match object; span=(190, 202), match='800-555-1234'>\n",
      "<re.Match object; span=(203, 215), match='900-555-1234'>\n"
     ]
    }
   ],
   "source": [
    "# create a pattern to match 321-555-4321 and 123.555.1234\n",
    "pattern = re.compile(r'\\d\\d\\d.\\d\\d\\d.\\d\\d\\d\\d')\n",
    "matches = pattern.finditer(text_to_search)\n",
    "for match in matches:\n",
    "    print(match)"
   ]
  },
  {
   "cell_type": "code",
   "execution_count": 28,
   "metadata": {},
   "outputs": [
    {
     "name": "stdout",
     "output_type": "stream",
     "text": [
      "<re.Match object; span=(151, 163), match='321-555-4321'>\n",
      "<re.Match object; span=(164, 176), match='123.555.1234'>\n",
      "<re.Match object; span=(190, 202), match='800-555-1234'>\n",
      "<re.Match object; span=(203, 215), match='900-555-1234'>\n"
     ]
    }
   ],
   "source": [
    "# only match a . or a -\n",
    "# within a character set, we do not need to escape the .\n",
    "pattern = re.compile(r'\\d\\d\\d[.-]\\d\\d\\d[.-]\\d\\d\\d\\d')\n",
    "matches = pattern.finditer(text_to_search)\n",
    "for match in matches:\n",
    "    print(match)"
   ]
  },
  {
   "cell_type": "code",
   "execution_count": 29,
   "metadata": {},
   "outputs": [
    {
     "name": "stdout",
     "output_type": "stream",
     "text": [
      "<re.Match object; span=(190, 202), match='800-555-1234'>\n",
      "<re.Match object; span=(203, 215), match='900-555-1234'>\n"
     ]
    }
   ],
   "source": [
    "pattern = re.compile(r'[89]00[.-]\\d\\d\\d[.-]\\d\\d\\d\\d')\n",
    "matches = pattern.finditer(text_to_search)\n",
    "for match in matches:\n",
    "    print(match)"
   ]
  },
  {
   "cell_type": "code",
   "execution_count": 35,
   "metadata": {
    "collapsed": true
   },
   "outputs": [
    {
     "name": "stdout",
     "output_type": "stream",
     "text": [
      "<re.Match object; span=(1, 2), match='a'>\n",
      "<re.Match object; span=(2, 3), match='b'>\n",
      "<re.Match object; span=(3, 4), match='c'>\n",
      "<re.Match object; span=(4, 5), match='d'>\n",
      "<re.Match object; span=(5, 6), match='e'>\n",
      "<re.Match object; span=(6, 7), match='f'>\n",
      "<re.Match object; span=(7, 8), match='g'>\n",
      "<re.Match object; span=(8, 9), match='h'>\n",
      "<re.Match object; span=(9, 10), match='i'>\n",
      "<re.Match object; span=(10, 11), match='j'>\n",
      "<re.Match object; span=(11, 12), match='k'>\n",
      "<re.Match object; span=(12, 13), match='l'>\n",
      "<re.Match object; span=(13, 14), match='m'>\n",
      "<re.Match object; span=(14, 15), match='n'>\n",
      "<re.Match object; span=(15, 16), match='o'>\n",
      "<re.Match object; span=(16, 17), match='p'>\n",
      "<re.Match object; span=(17, 18), match='q'>\n",
      "<re.Match object; span=(18, 19), match='u'>\n",
      "<re.Match object; span=(19, 20), match='r'>\n",
      "<re.Match object; span=(20, 21), match='t'>\n",
      "<re.Match object; span=(21, 22), match='u'>\n",
      "<re.Match object; span=(22, 23), match='v'>\n",
      "<re.Match object; span=(23, 24), match='w'>\n",
      "<re.Match object; span=(24, 25), match='x'>\n",
      "<re.Match object; span=(25, 26), match='y'>\n",
      "<re.Match object; span=(26, 27), match='z'>\n",
      "<re.Match object; span=(28, 29), match='A'>\n",
      "<re.Match object; span=(29, 30), match='B'>\n",
      "<re.Match object; span=(30, 31), match='C'>\n",
      "<re.Match object; span=(31, 32), match='D'>\n",
      "<re.Match object; span=(32, 33), match='E'>\n",
      "<re.Match object; span=(33, 34), match='F'>\n",
      "<re.Match object; span=(34, 35), match='G'>\n",
      "<re.Match object; span=(35, 36), match='H'>\n",
      "<re.Match object; span=(36, 37), match='I'>\n",
      "<re.Match object; span=(37, 38), match='J'>\n",
      "<re.Match object; span=(38, 39), match='K'>\n",
      "<re.Match object; span=(39, 40), match='L'>\n",
      "<re.Match object; span=(40, 41), match='M'>\n",
      "<re.Match object; span=(41, 42), match='N'>\n",
      "<re.Match object; span=(42, 43), match='O'>\n",
      "<re.Match object; span=(43, 44), match='P'>\n",
      "<re.Match object; span=(44, 45), match='Q'>\n",
      "<re.Match object; span=(45, 46), match='R'>\n",
      "<re.Match object; span=(46, 47), match='S'>\n",
      "<re.Match object; span=(47, 48), match='T'>\n",
      "<re.Match object; span=(48, 49), match='U'>\n",
      "<re.Match object; span=(49, 50), match='V'>\n",
      "<re.Match object; span=(50, 51), match='W'>\n",
      "<re.Match object; span=(51, 52), match='X'>\n",
      "<re.Match object; span=(52, 53), match='Y'>\n",
      "<re.Match object; span=(53, 54), match='Z'>\n",
      "<re.Match object; span=(55, 56), match='1'>\n",
      "<re.Match object; span=(56, 57), match='2'>\n",
      "<re.Match object; span=(57, 58), match='3'>\n",
      "<re.Match object; span=(58, 59), match='4'>\n",
      "<re.Match object; span=(59, 60), match='5'>\n",
      "<re.Match object; span=(66, 67), match='H'>\n",
      "<re.Match object; span=(67, 68), match='a'>\n",
      "<re.Match object; span=(69, 70), match='H'>\n",
      "<re.Match object; span=(70, 71), match='a'>\n",
      "<re.Match object; span=(71, 72), match='H'>\n",
      "<re.Match object; span=(72, 73), match='a'>\n",
      "<re.Match object; span=(74, 75), match='M'>\n",
      "<re.Match object; span=(75, 76), match='e'>\n",
      "<re.Match object; span=(76, 77), match='t'>\n",
      "<re.Match object; span=(77, 78), match='a'>\n",
      "<re.Match object; span=(78, 79), match='C'>\n",
      "<re.Match object; span=(79, 80), match='h'>\n",
      "<re.Match object; span=(80, 81), match='a'>\n",
      "<re.Match object; span=(81, 82), match='r'>\n",
      "<re.Match object; span=(82, 83), match='a'>\n",
      "<re.Match object; span=(83, 84), match='c'>\n",
      "<re.Match object; span=(84, 85), match='t'>\n",
      "<re.Match object; span=(85, 86), match='e'>\n",
      "<re.Match object; span=(86, 87), match='r'>\n",
      "<re.Match object; span=(87, 88), match='s'>\n",
      "<re.Match object; span=(90, 91), match='N'>\n",
      "<re.Match object; span=(91, 92), match='e'>\n",
      "<re.Match object; span=(92, 93), match='e'>\n",
      "<re.Match object; span=(93, 94), match='d'>\n",
      "<re.Match object; span=(95, 96), match='t'>\n",
      "<re.Match object; span=(96, 97), match='o'>\n",
      "<re.Match object; span=(98, 99), match='b'>\n",
      "<re.Match object; span=(99, 100), match='e'>\n",
      "<re.Match object; span=(101, 102), match='e'>\n",
      "<re.Match object; span=(102, 103), match='s'>\n",
      "<re.Match object; span=(103, 104), match='c'>\n",
      "<re.Match object; span=(104, 105), match='a'>\n",
      "<re.Match object; span=(105, 106), match='p'>\n",
      "<re.Match object; span=(106, 107), match='e'>\n",
      "<re.Match object; span=(107, 108), match='d'>\n",
      "<re.Match object; span=(139, 140), match='c'>\n",
      "<re.Match object; span=(140, 141), match='o'>\n",
      "<re.Match object; span=(141, 142), match='r'>\n",
      "<re.Match object; span=(142, 143), match='e'>\n",
      "<re.Match object; span=(143, 144), match='y'>\n",
      "<re.Match object; span=(144, 145), match='m'>\n",
      "<re.Match object; span=(145, 146), match='s'>\n",
      "<re.Match object; span=(147, 148), match='c'>\n",
      "<re.Match object; span=(148, 149), match='o'>\n",
      "<re.Match object; span=(149, 150), match='m'>\n",
      "<re.Match object; span=(151, 152), match='3'>\n",
      "<re.Match object; span=(152, 153), match='2'>\n",
      "<re.Match object; span=(153, 154), match='1'>\n",
      "<re.Match object; span=(155, 156), match='5'>\n",
      "<re.Match object; span=(156, 157), match='5'>\n",
      "<re.Match object; span=(157, 158), match='5'>\n",
      "<re.Match object; span=(159, 160), match='4'>\n",
      "<re.Match object; span=(160, 161), match='3'>\n",
      "<re.Match object; span=(161, 162), match='2'>\n",
      "<re.Match object; span=(162, 163), match='1'>\n",
      "<re.Match object; span=(164, 165), match='1'>\n",
      "<re.Match object; span=(165, 166), match='2'>\n",
      "<re.Match object; span=(166, 167), match='3'>\n",
      "<re.Match object; span=(168, 169), match='5'>\n",
      "<re.Match object; span=(169, 170), match='5'>\n",
      "<re.Match object; span=(170, 171), match='5'>\n",
      "<re.Match object; span=(172, 173), match='1'>\n",
      "<re.Match object; span=(173, 174), match='2'>\n",
      "<re.Match object; span=(174, 175), match='3'>\n",
      "<re.Match object; span=(175, 176), match='4'>\n",
      "<re.Match object; span=(177, 178), match='1'>\n",
      "<re.Match object; span=(178, 179), match='2'>\n",
      "<re.Match object; span=(179, 180), match='3'>\n",
      "<re.Match object; span=(181, 182), match='5'>\n",
      "<re.Match object; span=(182, 183), match='5'>\n",
      "<re.Match object; span=(183, 184), match='5'>\n",
      "<re.Match object; span=(185, 186), match='1'>\n",
      "<re.Match object; span=(186, 187), match='2'>\n",
      "<re.Match object; span=(187, 188), match='3'>\n",
      "<re.Match object; span=(188, 189), match='4'>\n",
      "<re.Match object; span=(194, 195), match='5'>\n",
      "<re.Match object; span=(195, 196), match='5'>\n",
      "<re.Match object; span=(196, 197), match='5'>\n",
      "<re.Match object; span=(198, 199), match='1'>\n",
      "<re.Match object; span=(199, 200), match='2'>\n",
      "<re.Match object; span=(200, 201), match='3'>\n",
      "<re.Match object; span=(201, 202), match='4'>\n",
      "<re.Match object; span=(207, 208), match='5'>\n",
      "<re.Match object; span=(208, 209), match='5'>\n",
      "<re.Match object; span=(209, 210), match='5'>\n",
      "<re.Match object; span=(211, 212), match='1'>\n",
      "<re.Match object; span=(212, 213), match='2'>\n",
      "<re.Match object; span=(213, 214), match='3'>\n",
      "<re.Match object; span=(214, 215), match='4'>\n",
      "<re.Match object; span=(216, 217), match='M'>\n",
      "<re.Match object; span=(217, 218), match='r'>\n",
      "<re.Match object; span=(220, 221), match='S'>\n",
      "<re.Match object; span=(221, 222), match='c'>\n",
      "<re.Match object; span=(222, 223), match='h'>\n",
      "<re.Match object; span=(223, 224), match='a'>\n",
      "<re.Match object; span=(224, 225), match='f'>\n",
      "<re.Match object; span=(225, 226), match='e'>\n",
      "<re.Match object; span=(226, 227), match='r'>\n",
      "<re.Match object; span=(228, 229), match='M'>\n",
      "<re.Match object; span=(229, 230), match='r'>\n",
      "<re.Match object; span=(231, 232), match='S'>\n",
      "<re.Match object; span=(232, 233), match='m'>\n",
      "<re.Match object; span=(233, 234), match='i'>\n",
      "<re.Match object; span=(234, 235), match='t'>\n",
      "<re.Match object; span=(235, 236), match='h'>\n",
      "<re.Match object; span=(237, 238), match='M'>\n",
      "<re.Match object; span=(238, 239), match='s'>\n",
      "<re.Match object; span=(240, 241), match='D'>\n",
      "<re.Match object; span=(241, 242), match='a'>\n",
      "<re.Match object; span=(242, 243), match='v'>\n",
      "<re.Match object; span=(243, 244), match='i'>\n",
      "<re.Match object; span=(244, 245), match='s'>\n",
      "<re.Match object; span=(246, 247), match='M'>\n",
      "<re.Match object; span=(247, 248), match='r'>\n",
      "<re.Match object; span=(248, 249), match='s'>\n",
      "<re.Match object; span=(251, 252), match='R'>\n",
      "<re.Match object; span=(252, 253), match='o'>\n",
      "<re.Match object; span=(253, 254), match='b'>\n",
      "<re.Match object; span=(254, 255), match='i'>\n",
      "<re.Match object; span=(255, 256), match='n'>\n",
      "<re.Match object; span=(256, 257), match='s'>\n",
      "<re.Match object; span=(257, 258), match='o'>\n",
      "<re.Match object; span=(258, 259), match='n'>\n",
      "<re.Match object; span=(260, 261), match='M'>\n",
      "<re.Match object; span=(261, 262), match='r'>\n",
      "<re.Match object; span=(264, 265), match='T'>\n"
     ]
    }
   ],
   "source": [
    "# range in character set\n",
    "pattern = re.compile(r'[^1-5A-Za-z]')\n",
    "matches = pattern.finditer(text_to_search)\n",
    "for match in matches:\n",
    "    print(match)"
   ]
  },
  {
   "cell_type": "code",
   "execution_count": 37,
   "metadata": {},
   "outputs": [
    {
     "name": "stdout",
     "output_type": "stream",
     "text": [
      "<re.Match object; span=(40, 42), match='MN'>\n",
      "<re.Match object; span=(74, 76), match='Me'>\n",
      "<re.Match object; span=(216, 218), match='Mr'>\n",
      "<re.Match object; span=(228, 230), match='Mr'>\n",
      "<re.Match object; span=(246, 248), match='Mr'>\n",
      "<re.Match object; span=(260, 262), match='Mr'>\n"
     ]
    }
   ],
   "source": [
    "# everything is not a 's' after M\n",
    "pattern = re.compile(r'M[^s]')\n",
    "matches = pattern.finditer(text_to_search)\n",
    "for match in matches:\n",
    "    print(match)"
   ]
  },
  {
   "cell_type": "code",
   "execution_count": null,
   "metadata": {},
   "outputs": [],
   "source": [
    "pattern = re.compile(r'[^]')\n",
    "matches = pattern.finditer(text_to_search)\n",
    "for match in matches:\n",
    "    print(match)"
   ]
  },
  {
   "cell_type": "code",
   "execution_count": 27,
   "metadata": {
    "collapsed": true
   },
   "outputs": [
    {
     "name": "stdout",
     "output_type": "stream",
     "text": [
      "<re.Match object; span=(12, 24), match='615-555-7164'>\n",
      "<re.Match object; span=(102, 114), match='800-555-5669'>\n",
      "<re.Match object; span=(191, 203), match='560-555-5153'>\n",
      "<re.Match object; span=(281, 293), match='900-555-9340'>\n",
      "<re.Match object; span=(378, 390), match='714-555-7405'>\n",
      "<re.Match object; span=(467, 479), match='800-555-6771'>\n",
      "<re.Match object; span=(557, 569), match='783-555-4799'>\n",
      "<re.Match object; span=(647, 659), match='516-555-4615'>\n",
      "<re.Match object; span=(740, 752), match='127-555-1867'>\n",
      "<re.Match object; span=(829, 841), match='608-555-4938'>\n",
      "<re.Match object; span=(915, 927), match='568-555-6051'>\n",
      "<re.Match object; span=(1003, 1015), match='292-555-1875'>\n",
      "<re.Match object; span=(1091, 1103), match='900-555-3205'>\n",
      "<re.Match object; span=(1180, 1192), match='614-555-1166'>\n",
      "<re.Match object; span=(1269, 1281), match='530-555-2676'>\n",
      "<re.Match object; span=(1355, 1367), match='470-555-2750'>\n",
      "<re.Match object; span=(1439, 1451), match='800-555-6089'>\n",
      "<re.Match object; span=(1526, 1538), match='880-555-8319'>\n",
      "<re.Match object; span=(1614, 1626), match='777-555-8378'>\n",
      "<re.Match object; span=(1697, 1709), match='998-555-7385'>\n",
      "<re.Match object; span=(1790, 1802), match='800-555-7100'>\n",
      "<re.Match object; span=(1874, 1886), match='903-555-8277'>\n",
      "<re.Match object; span=(1962, 1974), match='196-555-5674'>\n",
      "<re.Match object; span=(2051, 2063), match='900-555-5118'>\n",
      "<re.Match object; span=(2135, 2147), match='905-555-1630'>\n",
      "<re.Match object; span=(2216, 2228), match='203-555-3475'>\n",
      "<re.Match object; span=(2300, 2312), match='884-555-8444'>\n",
      "<re.Match object; span=(2387, 2399), match='904-555-8559'>\n",
      "<re.Match object; span=(2475, 2487), match='889-555-7393'>\n",
      "<re.Match object; span=(2562, 2574), match='195-555-2405'>\n",
      "<re.Match object; span=(2647, 2659), match='321-555-9053'>\n",
      "<re.Match object; span=(2734, 2746), match='133-555-1711'>\n",
      "<re.Match object; span=(2826, 2838), match='900-555-5428'>\n",
      "<re.Match object; span=(2915, 2927), match='760-555-7147'>\n",
      "<re.Match object; span=(3012, 3024), match='391-555-6621'>\n",
      "<re.Match object; span=(3103, 3115), match='932-555-7724'>\n",
      "<re.Match object; span=(3192, 3204), match='609-555-7908'>\n",
      "<re.Match object; span=(3284, 3296), match='800-555-8810'>\n",
      "<re.Match object; span=(3372, 3384), match='149-555-7657'>\n",
      "<re.Match object; span=(3452, 3464), match='130-555-9709'>\n",
      "<re.Match object; span=(3535, 3547), match='143-555-9295'>\n",
      "<re.Match object; span=(3624, 3636), match='903-555-9878'>\n",
      "<re.Match object; span=(3714, 3726), match='574-555-3194'>\n",
      "<re.Match object; span=(3802, 3814), match='496-555-7533'>\n",
      "<re.Match object; span=(3887, 3899), match='210-555-3757'>\n",
      "<re.Match object; span=(3971, 3983), match='900-555-9598'>\n",
      "<re.Match object; span=(4056, 4068), match='866-555-9844'>\n",
      "<re.Match object; span=(4140, 4152), match='669-555-7159'>\n",
      "<re.Match object; span=(4225, 4237), match='152-555-7417'>\n",
      "<re.Match object; span=(4317, 4329), match='893-555-9832'>\n",
      "<re.Match object; span=(4407, 4419), match='217-555-7123'>\n",
      "<re.Match object; span=(4498, 4510), match='786-555-6544'>\n",
      "<re.Match object; span=(4588, 4600), match='780-555-2574'>\n",
      "<re.Match object; span=(4676, 4688), match='926-555-8735'>\n",
      "<re.Match object; span=(4762, 4774), match='895-555-3539'>\n",
      "<re.Match object; span=(4859, 4871), match='874-555-3949'>\n",
      "<re.Match object; span=(4945, 4957), match='800-555-2420'>\n",
      "<re.Match object; span=(5034, 5046), match='936-555-6340'>\n",
      "<re.Match object; span=(5123, 5135), match='372-555-9809'>\n",
      "<re.Match object; span=(5210, 5222), match='890-555-5618'>\n",
      "<re.Match object; span=(5292, 5304), match='670-555-3005'>\n",
      "<re.Match object; span=(5382, 5394), match='509-555-5997'>\n",
      "<re.Match object; span=(5475, 5487), match='721-555-5632'>\n",
      "<re.Match object; span=(5566, 5578), match='900-555-3567'>\n",
      "<re.Match object; span=(5656, 5668), match='147-555-6830'>\n",
      "<re.Match object; span=(5745, 5757), match='582-555-3426'>\n",
      "<re.Match object; span=(5830, 5842), match='400-555-1706'>\n",
      "<re.Match object; span=(5921, 5933), match='525-555-1793'>\n",
      "<re.Match object; span=(6011, 6023), match='317-555-6700'>\n",
      "<re.Match object; span=(6099, 6111), match='974-555-8301'>\n",
      "<re.Match object; span=(6189, 6201), match='800-555-3216'>\n",
      "<re.Match object; span=(6273, 6285), match='746-555-4094'>\n",
      "<re.Match object; span=(6360, 6372), match='922-555-1773'>\n",
      "<re.Match object; span=(6445, 6457), match='711-555-4427'>\n",
      "<re.Match object; span=(6530, 6542), match='355-555-1872'>\n",
      "<re.Match object; span=(6619, 6631), match='852-555-6521'>\n",
      "<re.Match object; span=(6711, 6723), match='691-555-5773'>\n",
      "<re.Match object; span=(6803, 6815), match='332-555-5441'>\n",
      "<re.Match object; span=(6889, 6901), match='900-555-7755'>\n",
      "<re.Match object; span=(6971, 6983), match='379-555-3685'>\n",
      "<re.Match object; span=(7061, 7073), match='127-555-9682'>\n",
      "<re.Match object; span=(7152, 7164), match='789-555-7032'>\n",
      "<re.Match object; span=(7243, 7255), match='783-555-5135'>\n",
      "<re.Match object; span=(7336, 7348), match='315-555-6507'>\n",
      "<re.Match object; span=(7427, 7439), match='481-555-5835'>\n",
      "<re.Match object; span=(7515, 7527), match='365-555-8287'>\n",
      "<re.Match object; span=(7607, 7619), match='911-555-7535'>\n",
      "<re.Match object; span=(7693, 7705), match='681-555-2460'>\n",
      "<re.Match object; span=(7779, 7791), match='274-555-9800'>\n",
      "<re.Match object; span=(7864, 7876), match='800-555-1372'>\n",
      "<re.Match object; span=(7953, 7965), match='300-555-7821'>\n",
      "<re.Match object; span=(8043, 8055), match='133-555-3889'>\n",
      "<re.Match object; span=(8129, 8141), match='705-555-6863'>\n",
      "<re.Match object; span=(8218, 8230), match='215-555-9449'>\n",
      "<re.Match object; span=(8309, 8321), match='988-555-6112'>\n",
      "<re.Match object; span=(8395, 8407), match='623-555-3006'>\n",
      "<re.Match object; span=(8479, 8491), match='192-555-4977'>\n",
      "<re.Match object; span=(8564, 8576), match='178-555-4899'>\n",
      "<re.Match object; span=(8648, 8660), match='952-555-3089'>\n",
      "<re.Match object; span=(8741, 8753), match='900-555-6426'>\n"
     ]
    }
   ],
   "source": [
    "# parsing information\n",
    "with open('/Users/hkmac/Desktop/Carzy_Allen_Github/Data_and_Testfile/re_Module_data.txt', 'r') as f:\n",
    "    contents = f.read()\n",
    "    pattern = re.compile(r'\\d\\d\\d.\\d\\d\\d.\\d\\d\\d\\d')\n",
    "    matches = pattern.finditer(contents)\n",
    "    for match in matches:\n",
    "        print(match)"
   ]
  },
  {
   "cell_type": "code",
   "execution_count": 30,
   "metadata": {
    "collapsed": true
   },
   "outputs": [
    {
     "name": "stdout",
     "output_type": "stream",
     "text": [
      "<re.Match object; span=(102, 114), match='800-555-5669'>\n",
      "<re.Match object; span=(281, 293), match='900-555-9340'>\n",
      "<re.Match object; span=(467, 479), match='800-555-6771'>\n",
      "<re.Match object; span=(1091, 1103), match='900-555-3205'>\n",
      "<re.Match object; span=(1439, 1451), match='800-555-6089'>\n",
      "<re.Match object; span=(1790, 1802), match='800-555-7100'>\n",
      "<re.Match object; span=(2051, 2063), match='900-555-5118'>\n",
      "<re.Match object; span=(2826, 2838), match='900-555-5428'>\n",
      "<re.Match object; span=(3284, 3296), match='800-555-8810'>\n",
      "<re.Match object; span=(3971, 3983), match='900-555-9598'>\n",
      "<re.Match object; span=(4945, 4957), match='800-555-2420'>\n",
      "<re.Match object; span=(5566, 5578), match='900-555-3567'>\n",
      "<re.Match object; span=(6189, 6201), match='800-555-3216'>\n",
      "<re.Match object; span=(6889, 6901), match='900-555-7755'>\n",
      "<re.Match object; span=(7864, 7876), match='800-555-1372'>\n",
      "<re.Match object; span=(8741, 8753), match='900-555-6426'>\n"
     ]
    }
   ],
   "source": [
    "with open('/Users/hkmac/Desktop/Carzy_Allen_Github/Data_and_Testfile/re_Module_data.txt', 'r') as f:\n",
    "    contents = f.read()\n",
    "    pattern = re.compile(r'[89]00.\\d\\d\\d.\\d\\d\\d\\d')\n",
    "    matches = pattern.finditer(contents)\n",
    "    for match in matches:\n",
    "        print(match)"
   ]
  },
  {
   "cell_type": "markdown",
   "metadata": {},
   "source": [
    "### 4. Quantifiers"
   ]
  },
  {
   "cell_type": "markdown",
   "metadata": {},
   "source": [
    "Different from character set, quantifiers can match more than one character at once."
   ]
  },
  {
   "cell_type": "code",
   "execution_count": 38,
   "metadata": {
    "scrolled": true
   },
   "outputs": [
    {
     "name": "stdout",
     "output_type": "stream",
     "text": [
      "<re.Match object; span=(151, 163), match='321-555-4321'>\n",
      "<re.Match object; span=(164, 176), match='123.555.1234'>\n",
      "<re.Match object; span=(177, 189), match='123*555*1234'>\n",
      "<re.Match object; span=(190, 202), match='800-555-1234'>\n",
      "<re.Match object; span=(203, 215), match='900-555-1234'>\n"
     ]
    }
   ],
   "source": [
    "pattern = re.compile(r'\\d\\d\\d.\\d\\d\\d.\\d\\d\\d\\d')\n",
    "matches = pattern.finditer(text_to_search)\n",
    "for match in matches:\n",
    "    print(match)"
   ]
  },
  {
   "cell_type": "raw",
   "metadata": {},
   "source": [
    "*       - 0 or More\n",
    "+       - 1 or More\n",
    "?       - 0 or One\n",
    "{3}     - Exact Number\n",
    "{3,4}   - Range of Numbers (Minimum, Maximum)"
   ]
  },
  {
   "cell_type": "code",
   "execution_count": 40,
   "metadata": {},
   "outputs": [
    {
     "name": "stdout",
     "output_type": "stream",
     "text": [
      "<re.Match object; span=(151, 163), match='321-555-4321'>\n",
      "<re.Match object; span=(164, 176), match='123.555.1234'>\n",
      "<re.Match object; span=(177, 189), match='123*555*1234'>\n",
      "<re.Match object; span=(190, 202), match='800-555-1234'>\n",
      "<re.Match object; span=(203, 215), match='900-555-1234'>\n"
     ]
    }
   ],
   "source": [
    "# match mutiple characters at once\n",
    "pattern = re.compile(r'\\d{3}.\\d{3}.\\d{4}')\n",
    "matches = pattern.finditer(text_to_search)\n",
    "for match in matches:\n",
    "    print(match)"
   ]
  },
  {
   "cell_type": "code",
   "execution_count": 44,
   "metadata": {},
   "outputs": [
    {
     "name": "stdout",
     "output_type": "stream",
     "text": [
      "<re.Match object; span=(216, 227), match='Mr. Schafer'>\n",
      "<re.Match object; span=(228, 236), match='Mr Smith'>\n",
      "<re.Match object; span=(237, 245), match='Ms Davis'>\n",
      "<re.Match object; span=(246, 259), match='Mrs. Robinson'>\n",
      "<re.Match object; span=(260, 265), match='Mr. T'>\n"
     ]
    }
   ],
   "source": [
    "pattern = re.compile(r'M(r|s|rs).?\\s[A-Z]\\w*')\n",
    "matches = pattern.finditer(text_to_search)\n",
    "for match in matches:\n",
    "    print(match)"
   ]
  },
  {
   "cell_type": "markdown",
   "metadata": {},
   "source": [
    "### 5. Practice"
   ]
  },
  {
   "cell_type": "raw",
   "metadata": {},
   "source": [
    ".       - Any Character Except New Line\n",
    "\\d      - Digit (0-9)\n",
    "\\D      - Not a Digit (0-9)\n",
    "\\w      - Word Character (a-z, A-Z, 0-9, _)  including: lowercase, uppercase, ditgit, underscore \n",
    "\\W      - Not a Word Character\n",
    "\\s      - Whitespace (space, tab, newline)  including: ' ', \\n\n",
    "\\S      - Not Whitespace (space, tab, newline)\n",
    "Anchors: do not actually match any characters but rather invisible positions berfore or after characters. Can be used as a conjunction.\n",
    "\\b      - Word Boundary  including: whitespace, non alpanumeric character\n",
    "\\B      - Not a Word Boundary\n",
    "^       - Beginning of a String\n",
    "$       - End of a String\n",
    "\n",
    "[]      - Matches Characters in brackets  attention: only match ONE character\n",
    "[^ ]    - Matches Characters NOT in brackets\n",
    "|       - Either Or\n",
    "( )     - Group\n",
    "\n",
    "Quantifiers:\n",
    "*       - 0 or More\n",
    "+       - 1 or More\n",
    "?       - 0 or One\n",
    "{3}     - Exact Number\n",
    "{3,4}   - Range of Numbers (Minimum, Maximum)"
   ]
  },
  {
   "cell_type": "raw",
   "metadata": {},
   "source": [
    "MetaCharacters (Need to be escaped):\n",
    ". ^ $ * + ? { } [ ] \\ | ( )"
   ]
  },
  {
   "cell_type": "code",
   "execution_count": 46,
   "metadata": {},
   "outputs": [],
   "source": [
    "emails = '''\n",
    "CoreyMSchafer@gmail.com\n",
    "corey.schafer@university.edu\n",
    "corey-321-schafer@my-work.net\n",
    "'''"
   ]
  },
  {
   "cell_type": "code",
   "execution_count": 58,
   "metadata": {
    "scrolled": true
   },
   "outputs": [
    {
     "name": "stdout",
     "output_type": "stream",
     "text": [
      "<re.Match object; span=(1, 24), match='CoreyMSchafer@gmail.com'>\n",
      "<re.Match object; span=(25, 53), match='corey.schafer@university.edu'>\n",
      "<re.Match object; span=(54, 83), match='corey-321-schafer@my-work.net'>\n"
     ]
    }
   ],
   "source": [
    "pattern = re.compile(r'[c|C]orey\\.?-?(321)?-?M?(S|s)chafer\\@\\w*-?\\w*\\.\\w*')\n",
    "\n",
    "matches = pattern.finditer(emails)\n",
    "\n",
    "for match in matches:\n",
    "    print(match)\n",
    "# it is not readable\n",
    "# 注意，Group后面可以跟quantifiers，但是{}本身就是quantifiers，后面不能跟"
   ]
  },
  {
   "cell_type": "code",
   "execution_count": 64,
   "metadata": {},
   "outputs": [
    {
     "name": "stdout",
     "output_type": "stream",
     "text": [
      "<re.Match object; span=(1, 24), match='CoreyMSchafer@gmail.com'>\n",
      "<re.Match object; span=(25, 53), match='corey.schafer@university.edu'>\n",
      "<re.Match object; span=(54, 83), match='corey-321-schafer@my-work.net'>\n"
     ]
    }
   ],
   "source": [
    "# step by step\n",
    "# + means repeat[]one or more times untill we reach @\n",
    "pattern = re.compile(r'[a-zA-Z.0-9-]+@[a-z-]+.[a-z]+')\n",
    "\n",
    "matches = pattern.finditer(emails)\n",
    "\n",
    "for match in matches:\n",
    "    print(match)"
   ]
  },
  {
   "cell_type": "code",
   "execution_count": 59,
   "metadata": {},
   "outputs": [
    {
     "name": "stdout",
     "output_type": "stream",
     "text": [
      "<re.Match object; span=(1, 24), match='CoreyMSchafer@gmail.com'>\n",
      "<re.Match object; span=(25, 53), match='corey.schafer@university.edu'>\n",
      "<re.Match object; span=(54, 83), match='corey-321-schafer@my-work.net'>\n"
     ]
    }
   ],
   "source": [
    "# a pattern can match every E-mails\n",
    "pattern = re.compile(r'[a-zA-Z0-9_.+-]+@[a-zA-Z0-9-]+\\.[a-zA-Z0-9-.]+')\n",
    "\n",
    "matches = pattern.finditer(emails)\n",
    "\n",
    "for match in matches:\n",
    "    print(match)"
   ]
  },
  {
   "cell_type": "markdown",
   "metadata": {},
   "source": [
    "### 6. Capture information from groups"
   ]
  },
  {
   "cell_type": "markdown",
   "metadata": {},
   "source": [
    "After matching, we can actually use the information captured from those groups."
   ]
  },
  {
   "cell_type": "code",
   "execution_count": 70,
   "metadata": {},
   "outputs": [],
   "source": [
    "import re\n",
    "\n",
    "urls = '''\n",
    "https://www.google.com\n",
    "http://coreyms.com\n",
    "https://youtube.com\n",
    "https://www.nasa.gov\n",
    "'''"
   ]
  },
  {
   "cell_type": "code",
   "execution_count": 72,
   "metadata": {},
   "outputs": [
    {
     "name": "stdout",
     "output_type": "stream",
     "text": [
      "<re.Match object; span=(1, 23), match='https://www.google.com'>\n",
      "<re.Match object; span=(24, 42), match='http://coreyms.com'>\n",
      "<re.Match object; span=(43, 62), match='https://youtube.com'>\n",
      "<re.Match object; span=(63, 83), match='https://www.nasa.gov'>\n"
     ]
    }
   ],
   "source": [
    "pattern = re.compile(r'[a-z]+:/{2}[a-z]+\\.[a-z.]+')\n",
    "\n",
    "matches = pattern.finditer(urls)\n",
    "\n",
    "for match in matches:\n",
    "    print(match)"
   ]
  },
  {
   "cell_type": "code",
   "execution_count": 79,
   "metadata": {
    "scrolled": true
   },
   "outputs": [
    {
     "name": "stdout",
     "output_type": "stream",
     "text": [
      "https://www.google.com\n",
      "http://coreyms.com\n",
      "https://youtube.com\n",
      "https://www.nasa.gov\n"
     ]
    }
   ],
   "source": [
    "pattern = re.compile(r'https?://(www\\.)?(\\w+)(\\.\\w+)')\n",
    "matches = pattern.finditer(urls)\n",
    "\n",
    "for match in matches:\n",
    "    print(match.group(0))"
   ]
  },
  {
   "cell_type": "markdown",
   "metadata": {},
   "source": [
    "Now we have 3 different groups, the first group is optional www, the second is word characters that make up the domain name, and the last group is top-level group. Group 0 is everything that we captured."
   ]
  },
  {
   "cell_type": "code",
   "execution_count": 86,
   "metadata": {},
   "outputs": [
    {
     "name": "stdout",
     "output_type": "stream",
     "text": [
      "www.*google*.com\n",
      "None*coreyms*.com\n",
      "None*youtube*.com\n",
      "www.*nasa*.gov\n"
     ]
    }
   ],
   "source": [
    "pattern = re.compile(r'https?://(www\\.)?(\\w+)(\\.\\w+)')\n",
    "matches = pattern.finditer(urls)\n",
    "for match in matches:\n",
    "    print(match.group(1), end = '*')\n",
    "    print(match.group(2), end = '*')\n",
    "    print(match.group(3), end = '\\n')"
   ]
  },
  {
   "cell_type": "code",
   "execution_count": 87,
   "metadata": {},
   "outputs": [
    {
     "name": "stdout",
     "output_type": "stream",
     "text": [
      "\n",
      "google.com\n",
      "coreyms.com\n",
      "youtube.com\n",
      "nasa.gov\n",
      "\n"
     ]
    }
   ],
   "source": [
    "# back reference, pass in the substitution -- back references that reference these groups\n",
    "# also, pass in the text that we want to replace\n",
    "subbed_urls = pattern.sub(r'\\2\\3', urls)\n",
    "print(subbed_urls)\n",
    "# every time it finds a match, it replace the match with group2 and group3"
   ]
  },
  {
   "cell_type": "markdown",
   "metadata": {},
   "source": [
    "### 7. Methods other than finditer"
   ]
  },
  {
   "cell_type": "markdown",
   "metadata": {},
   "source": [
    "- finditer: returns match objects with extra information and functionality\n",
    "- findall: just return the matches as a list of strings, if it is matching groups, it will only return groups"
   ]
  },
  {
   "cell_type": "markdown",
   "metadata": {},
   "source": [
    "- if only one group, onyl return this group\n",
    "- if mutiple groups, returns a tuple that contains all of the group\n",
    "- if no groups, returns a list of strings of all matches "
   ]
  },
  {
   "cell_type": "code",
   "execution_count": 89,
   "metadata": {
    "scrolled": true
   },
   "outputs": [
    {
     "name": "stdout",
     "output_type": "stream",
     "text": [
      "('www.', 'google', '.com')\n",
      "('', 'coreyms', '.com')\n",
      "('', 'youtube', '.com')\n",
      "('www.', 'nasa', '.gov')\n"
     ]
    }
   ],
   "source": [
    "pattern = re.compile(r'https?://(www\\.)?(\\w+)(\\.\\w+)')\n",
    "matches = pattern.findall(urls)\n",
    "for match in matches:\n",
    "    print(match)"
   ]
  },
  {
   "cell_type": "markdown",
   "metadata": {},
   "source": [
    "match method: the regular expression matches at the begining of the string"
   ]
  },
  {
   "cell_type": "code",
   "execution_count": 90,
   "metadata": {},
   "outputs": [],
   "source": [
    "sentence = 'Start here and dance with me'"
   ]
  },
  {
   "cell_type": "code",
   "execution_count": 92,
   "metadata": {},
   "outputs": [
    {
     "name": "stdout",
     "output_type": "stream",
     "text": [
      "None\n"
     ]
    }
   ],
   "source": [
    "pattern = re.compile(r'dance')\n",
    "matches = pattern.match(sentence)\n",
    "print(matches)\n",
    "# it only return the first match, without iterate. If no match, it returns None\n",
    "# sentence is not at the begining"
   ]
  },
  {
   "cell_type": "code",
   "execution_count": 93,
   "metadata": {},
   "outputs": [
    {
     "name": "stdout",
     "output_type": "stream",
     "text": [
      "<re.Match object; span=(0, 5), match='Start'>\n"
     ]
    }
   ],
   "source": [
    "pattern = re.compile(r'Start')\n",
    "matches = pattern.match(sentence)\n",
    "print(matches)"
   ]
  },
  {
   "cell_type": "code",
   "execution_count": 94,
   "metadata": {},
   "outputs": [
    {
     "name": "stdout",
     "output_type": "stream",
     "text": [
      "<re.Match object; span=(15, 20), match='dance'>\n"
     ]
    }
   ],
   "source": [
    "# search within the entire string\n",
    "pattern = re.compile(r'dance')\n",
    "matches = pattern.search(sentence)\n",
    "print(matches)\n",
    "# only print out the first match"
   ]
  },
  {
   "cell_type": "code",
   "execution_count": 95,
   "metadata": {
    "scrolled": true
   },
   "outputs": [
    {
     "name": "stdout",
     "output_type": "stream",
     "text": [
      "None\n"
     ]
    }
   ],
   "source": [
    "pattern = re.compile(r'play')\n",
    "matches = pattern.search(sentence)\n",
    "print(matches)"
   ]
  },
  {
   "cell_type": "markdown",
   "metadata": {},
   "source": [
    "flags:\n",
    "\n",
    "- muti-line flag: allows us to use the caret and the dot sign to match the begining of each line in a multi-line string rather than just the begining or end of the string.\n",
    "- verbose flag: add whiteplace and add comments directly within your pattern."
   ]
  },
  {
   "cell_type": "code",
   "execution_count": 96,
   "metadata": {},
   "outputs": [
    {
     "name": "stdout",
     "output_type": "stream",
     "text": [
      "<re.Match object; span=(0, 5), match='Start'>\n"
     ]
    }
   ],
   "source": [
    "# each letter in ''Start\" could be lowercase or uppercase\n",
    "# add a ignore case flag\n",
    "# 简写：re.I\n",
    "pattern = re.compile(r'start', re.IGNORECASE)\n",
    "matches = pattern.finditer(sentence)\n",
    "for match in matches:\n",
    "    print(match)"
   ]
  }
 ],
 "metadata": {
  "kernelspec": {
   "display_name": "Python 3",
   "language": "python",
   "name": "python3"
  },
  "language_info": {
   "codemirror_mode": {
    "name": "ipython",
    "version": 3
   },
   "file_extension": ".py",
   "mimetype": "text/x-python",
   "name": "python",
   "nbconvert_exporter": "python",
   "pygments_lexer": "ipython3",
   "version": "3.7.3"
  }
 },
 "nbformat": 4,
 "nbformat_minor": 2
}
