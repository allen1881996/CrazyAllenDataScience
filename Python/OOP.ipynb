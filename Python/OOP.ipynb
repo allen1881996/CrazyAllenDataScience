{
 "cells": [
  {
   "cell_type": "markdown",
   "metadata": {},
   "source": [
    "# Object-Oriented Programming in Python\n",
    "### By Allen Huang\n",
    "1. Creating and instantiating simple classes\n",
    "2. Class & instance variables\n",
    "3. Class methods & regular methods & static methods\n",
    "4. Inheritance\n",
    "5. Special methods (Magic/Dunder)\n",
    "6. Property decorators"
   ]
  },
  {
   "cell_type": "markdown",
   "metadata": {},
   "source": [
    "Why we use classes?\n",
    "- 在面向对象编程中，你编写表示现实世界中的事物和情景的类，并基于这些类来创建对象。\n",
    "- 编写类时，你定义一大类对象都有的通用行为。\n",
    "- 基于类创建对象时，每个对象都自动具备这种通用行为，然后可根据需要赋予每个对象独特的个性。\n",
    "- Allow us to reuse grouped data(attributes) & functions(methods). "
   ]
  },
  {
   "cell_type": "markdown",
   "metadata": {},
   "source": [
    "### 1. Creating and instantiating simple classes "
   ]
  },
  {
   "cell_type": "code",
   "execution_count": 133,
   "metadata": {},
   "outputs": [],
   "source": [
    "class Employee:\n",
    "# 定义了一个名为Employee的类，类的首字母大写\n",
    "\n",
    "    raise_amount = 1.04\n",
    "    num_of_emps = 0\n",
    "    def __init__(self, first, last, pay):\n",
    "# __init__是类中的函数，称为方法，self就是instance. Once we create a new instance, it will run \n",
    "# Python调用这个__init__()方法来创建Employee实例时，将自动传入实参self，放在第一位。\n",
    "# self会自动传递，因此我们不需要传递它，只需要传递其余形参所对应的实参。它是一个指向实例本身的引用，让实例能够访问类中的属性和方法\n",
    "        self.first = first\n",
    "        self.last = last\n",
    "        self.email = first + '.' + last + '@email.com'\n",
    "        self.pay = pay\n",
    "# 以self为前缀的变量都可供类中的所有方法使用，在这里，实参被分别传入self.first, self.last等变量中\n",
    "        Employee.num_of_emps += 1\n",
    "    def fullname(self):\n",
    "# define a functionality of the class\n",
    "# self(the instance)is only we need to implement this functionality, the self.first that we defined above can be used here directly\n",
    "# 注意这里形参一定要写self\n",
    "        return '{} {}'.format(self.first, self.last)\n",
    "    def apply_raise(self):\n",
    "        self.pay = int(self.pay * self.raise_amount)\n",
    "    # 这里也可以用Employee.raise_amount\n",
    "    # 如果用self.raise_amount，就可以change the amount of single instance，allow subclass to override it\n",
    "    @classmethod\n",
    "    # deocrator is used to turn regularmethod into classmathod\n",
    "    def set_raise_amt(cls, amount):\n",
    "    # cls is a commen convention for class, just like self for instance, class本身是一个key word of Python，不能随便用\n",
    "        cls.raise_amount = amount\n",
    "    @classmethod\n",
    "    # This method is a alternative constructer in order to split string of new employee\n",
    "    def from_string(cls, emp_str):\n",
    "        first, last, pay = emp_str.split('-')\n",
    "        return cls(first, last, pay)\n",
    "    # 形参emp_str接受一个实参string，split后储存为列表并赋值给first, last, pay\n",
    "    # cls(first, last, pay) 相当于create了这个employee, return\n",
    "    @staticmethod\n",
    "    def is_workday(day):\n",
    "    # Staticmethod do not take instance or class as the first argument\n",
    "    # We can pass in the argument that we want to working with -- day \n",
    "        if day.weekday() in [5,6]:\n",
    "        # Python中 Monday = 0, 以此类推\n",
    "            return False\n",
    "        return True\n",
    "     \n",
    "    def __repr__(self):\n",
    "        return \"Employee('{}', '{}', {})\".format(self.first, self.last, self.pay)\n",
    "    # try to return a string that I can use to recreate the object\n",
    "    def __str__(self):\n",
    "        return '{} - {}'.format(self.fullname(), self.email)\n",
    "    def __add__(self, other):\n",
    "    # self is the left side of addtion, and other is the right side of addtion\n",
    "        return self.pay + other.pay\n",
    "    def __len__(self):\n",
    "        return len(self.fullname())"
   ]
  },
  {
   "cell_type": "code",
   "execution_count": 137,
   "metadata": {},
   "outputs": [],
   "source": [
    "# 根据类创建实例\n",
    "# 不需要赋值self，传递实参给self之后的形参\n",
    "emp_1 = Employee('Corey', 'Schafer', 50000)\n",
    "emp_2 = Employee('Paul', 'Kim', 60000)\n",
    "# 虽然方法__init__中并没有return，但Python自动返回一个表示该instance的实例并储存在emp_1中"
   ]
  },
  {
   "cell_type": "code",
   "execution_count": 30,
   "metadata": {
    "scrolled": false
   },
   "outputs": [
    {
     "name": "stdout",
     "output_type": "stream",
     "text": [
      "<__main__.Employee object at 0x112a3ea58>\n",
      "<__main__.Employee object at 0x112a3eac8>\n",
      "Corey.Schafer@email.com\n",
      "Paul.Kim@email.com\n",
      "Corey Schafer\n"
     ]
    }
   ],
   "source": [
    "# emp_1和emp_2分别占用不同的内存，是不同的object. 也就是class Employee的两个instance\n",
    "# emp_1 & emp_2 share attributes in the class but have different data\n",
    "print(emp_1)\n",
    "print(emp_2)\n",
    "# 访问特定实例的属性和方法\n",
    "# Python先找到实例emp_1，再查找与这个实例相关联的属性name\n",
    "print(emp_1.email)\n",
    "print(emp_2.email)\n",
    "print(emp_1.fullname())\n",
    "# 注意methods的调用格式，self.method_name()"
   ]
  },
  {
   "cell_type": "code",
   "execution_count": 31,
   "metadata": {
    "scrolled": false
   },
   "outputs": [
    {
     "name": "stdout",
     "output_type": "stream",
     "text": [
      "<bound method Employee.fullname of <__main__.Employee object at 0x112a3ea58>>\n"
     ]
    },
    {
     "data": {
      "text/plain": [
       "'Corey Schafer'"
      ]
     },
     "execution_count": 31,
     "metadata": {},
     "output_type": "execute_result"
    }
   ],
   "source": [
    "# if you print method itself\n",
    "print(emp_1.fullname)\n",
    "# 还可以这样调用method(需要pass in self)\n",
    "Employee.fullname(emp_1)"
   ]
  },
  {
   "cell_type": "markdown",
   "metadata": {},
   "source": [
    "从上面的例子可以看出，对于多个instance，属性和方法我们只需要设定一次，便可以循环、多次使用。例如：我们不需要对emp_1和emp_2分别赋予emp.name这个变量的值，只需要调用class中的某个属性就可以实现"
   ]
  },
  {
   "cell_type": "markdown",
   "metadata": {
    "scrolled": true
   },
   "source": [
    "### 2. Class variables and instance variable"
   ]
  },
  {
   "cell_type": "markdown",
   "metadata": {},
   "source": [
    "Class variables are variables that are shared among all instances of a class. For example: name, email\n",
    "Instance varibles can be unique for each instance. For example, emp_1.name is unique for emp_1"
   ]
  },
  {
   "cell_type": "code",
   "execution_count": 32,
   "metadata": {
    "scrolled": false
   },
   "outputs": [
    {
     "name": "stdout",
     "output_type": "stream",
     "text": [
      "50000\n",
      "52000\n"
     ]
    }
   ],
   "source": [
    "print(emp_1.pay)\n",
    "# 对于emp_1, 调用了一个方法，使得它的pay上升了4%\n",
    "emp_1.apply_raise()\n",
    "print(emp_1.pay)"
   ]
  },
  {
   "cell_type": "code",
   "execution_count": 33,
   "metadata": {},
   "outputs": [
    {
     "name": "stdout",
     "output_type": "stream",
     "text": [
      "1.04\n",
      "1.04\n"
     ]
    }
   ],
   "source": [
    "# You can get class variable from both your class itself and instances\n",
    "print(Employee.raise_amount)\n",
    "print(emp_1.raise_amount)\n",
    "# 如果你想访问instance的一个attribute，首先会check if this instance have this attribute\n",
    "# 如果没有，会check if the class or any class that it inherits from contains that attribute\n",
    "# 所以，当我们assess emp_1 的raise_amount, 实际上是assess the class's\n"
   ]
  },
  {
   "cell_type": "code",
   "execution_count": 34,
   "metadata": {},
   "outputs": [
    {
     "name": "stdout",
     "output_type": "stream",
     "text": [
      "{'first': 'Corey', 'last': 'Schafer', 'email': 'Corey.Schafer@email.com', 'pay': 52000}\n"
     ]
    }
   ],
   "source": [
    "# instance attribute\n",
    "print(emp_1.__dict__)"
   ]
  },
  {
   "cell_type": "code",
   "execution_count": 35,
   "metadata": {},
   "outputs": [
    {
     "name": "stdout",
     "output_type": "stream",
     "text": [
      "{'__module__': '__main__', 'raise_amount': 1.04, 'num_of_emps': 2, '__init__': <function Employee.__init__ at 0x1128b6e18>, 'fullname': <function Employee.fullname at 0x1128b6400>, 'apply_raise': <function Employee.apply_raise at 0x1128b6510>, 'set_raise_amt': <classmethod object at 0x11289e6a0>, 'from_string': <classmethod object at 0x11289eb70>, 'is_workday': <staticmethod object at 0x11289ec88>, '__dict__': <attribute '__dict__' of 'Employee' objects>, '__weakref__': <attribute '__weakref__' of 'Employee' objects>, '__doc__': None}\n"
     ]
    }
   ],
   "source": [
    "# class attribute contains the raise_amount\n",
    "print(Employee.__dict__)"
   ]
  },
  {
   "cell_type": "code",
   "execution_count": 36,
   "metadata": {},
   "outputs": [],
   "source": [
    "# Change the class attribute for class and all of the attributes\n",
    "Employee.raise_amount = 1.5"
   ]
  },
  {
   "cell_type": "code",
   "execution_count": 37,
   "metadata": {
    "scrolled": true
   },
   "outputs": [
    {
     "name": "stdout",
     "output_type": "stream",
     "text": [
      "1.5\n",
      "1.5\n",
      "1.5\n"
     ]
    }
   ],
   "source": [
    "print(Employee.raise_amount)\n",
    "print(emp_1.raise_amount)\n",
    "print(emp_2.raise_amount)"
   ]
  },
  {
   "cell_type": "code",
   "execution_count": 38,
   "metadata": {},
   "outputs": [],
   "source": [
    "# When you change the class attribute for a instance, it's only work for this instance\n",
    "emp_1.raise_amount = 1.3"
   ]
  },
  {
   "cell_type": "code",
   "execution_count": 39,
   "metadata": {
    "scrolled": true
   },
   "outputs": [
    {
     "name": "stdout",
     "output_type": "stream",
     "text": [
      "1.5\n",
      "1.3\n",
      "1.5\n"
     ]
    }
   ],
   "source": [
    "print(Employee.raise_amount)\n",
    "print(emp_1.raise_amount)\n",
    "print(emp_2.raise_amount)"
   ]
  },
  {
   "cell_type": "code",
   "execution_count": 40,
   "metadata": {
    "scrolled": true
   },
   "outputs": [
    {
     "name": "stdout",
     "output_type": "stream",
     "text": [
      "{'first': 'Corey', 'last': 'Schafer', 'email': 'Corey.Schafer@email.com', 'pay': 52000, 'raise_amount': 1.3}\n",
      "{'first': 'Paul', 'last': 'Kim', 'email': 'Paul.Kim@email.com', 'pay': 60000}\n",
      "{'__module__': '__main__', 'raise_amount': 1.5, 'num_of_emps': 2, '__init__': <function Employee.__init__ at 0x1128b6e18>, 'fullname': <function Employee.fullname at 0x1128b6400>, 'apply_raise': <function Employee.apply_raise at 0x1128b6510>, 'set_raise_amt': <classmethod object at 0x11289e6a0>, 'from_string': <classmethod object at 0x11289eb70>, 'is_workday': <staticmethod object at 0x11289ec88>, '__dict__': <attribute '__dict__' of 'Employee' objects>, '__weakref__': <attribute '__weakref__' of 'Employee' objects>, '__doc__': None}\n"
     ]
    }
   ],
   "source": [
    "print(emp_1.__dict__)\n",
    "# 这个出现在列emp_1的namespace里面，return this value before going and searching the class\n",
    "print(emp_2.__dict__)\n",
    "print(Employee.__dict__)\n",
    "# 这个时候，当我们调用方法raise_amount, 使用self或者Employee就不同了"
   ]
  },
  {
   "cell_type": "code",
   "execution_count": 41,
   "metadata": {
    "scrolled": false
   },
   "outputs": [
    {
     "name": "stdout",
     "output_type": "stream",
     "text": [
      "2\n"
     ]
    }
   ],
   "source": [
    "print(Employee.num_of_emps)"
   ]
  },
  {
   "cell_type": "markdown",
   "metadata": {},
   "source": [
    "### 3. Class methods & regular methods & static methods"
   ]
  },
  {
   "cell_type": "markdown",
   "metadata": {},
   "source": [
    "- Regular method in a class automaticlly take the instance as the first argument. By convention, we use 'self'.\n",
    "- Class method take the class as the first argument. By convention, we use 'cls'.\n",
    "- Static method do not pass anything automaticly. They behave just like regular functions, we use it in our class because they have some logical connection with the class. "
   ]
  },
  {
   "cell_type": "code",
   "execution_count": 46,
   "metadata": {},
   "outputs": [],
   "source": [
    "Employee.set_raise_amt(1.05)\n",
    "# Also, we do not need to pass cls. "
   ]
  },
  {
   "cell_type": "code",
   "execution_count": 47,
   "metadata": {
    "scrolled": false
   },
   "outputs": [
    {
     "name": "stdout",
     "output_type": "stream",
     "text": [
      "1.05\n",
      "1.3\n",
      "1.05\n"
     ]
    }
   ],
   "source": [
    "print(Employee.raise_amount)\n",
    "print(emp_1.raise_amount)\n",
    "print(emp_2.raise_amount)"
   ]
  },
  {
   "cell_type": "markdown",
   "metadata": {},
   "source": [
    "RECAP class & instance variable "
   ]
  },
  {
   "cell_type": "code",
   "execution_count": 57,
   "metadata": {},
   "outputs": [
    {
     "name": "stdout",
     "output_type": "stream",
     "text": [
      "{'first': 'Corey', 'last': 'Schafer', 'email': 'Corey.Schafer@email.com', 'pay': 52000, 'raise_amount': 1.3}\n",
      "{'first': 'Paul', 'last': 'Kim', 'email': 'Paul.Kim@email.com', 'pay': 60000}\n",
      "{'__module__': '__main__', 'raise_amount': 1.05, 'num_of_emps': 5, '__init__': <function Employee.__init__ at 0x1128b6e18>, 'fullname': <function Employee.fullname at 0x1128b6400>, 'apply_raise': <function Employee.apply_raise at 0x1128b6510>, 'set_raise_amt': <classmethod object at 0x11289e6a0>, 'from_string': <classmethod object at 0x11289eb70>, 'is_workday': <staticmethod object at 0x11289ec88>, '__dict__': <attribute '__dict__' of 'Employee' objects>, '__weakref__': <attribute '__weakref__' of 'Employee' objects>, '__doc__': None}\n"
     ]
    }
   ],
   "source": [
    "# 注意，emp_1的raise_amount并没有发生任何变化\n",
    "print(emp_1.__dict__)\n",
    "print(emp_2.__dict__)\n",
    "print(Employee.__dict__)\n",
    "# 因为raise_amount这个variable出现在列emp_1的namespace里面，return this value before going and searching the class\n",
    "# emp_2的namespace里面并没有这个变量，所以返回class的namespace中的raise_amount"
   ]
  },
  {
   "cell_type": "code",
   "execution_count": 48,
   "metadata": {},
   "outputs": [],
   "source": [
    "# 3 strings here that are employees is using our class\n",
    "# the string is seperate by hyphens, contains: firstname, lastname and salary\n",
    "# create a new employee from these string\n",
    "emp_str_1 = 'John-Doe-70000'\n",
    "emp_str_2 = 'Steve-Smith-30000'\n",
    "emp_str_3 = 'Jane-Doe-90000'"
   ]
  },
  {
   "cell_type": "code",
   "execution_count": 49,
   "metadata": {},
   "outputs": [],
   "source": [
    "# splict the string on the hyphens \n",
    "first, last, pay = emp_str_1.split('-')"
   ]
  },
  {
   "cell_type": "code",
   "execution_count": 50,
   "metadata": {},
   "outputs": [
    {
     "name": "stdout",
     "output_type": "stream",
     "text": [
      "['aml', 'all', 'in', '1']\n",
      "['as', 'aaa', '1']\n"
     ]
    }
   ],
   "source": [
    "# What happen when we use string.split -- 把string split into a list\n",
    "a = 'aml-all-in-1'\n",
    "b = 'as.aaa.1'\n",
    "print(a.split('-'))\n",
    "print(b.split('.'))"
   ]
  },
  {
   "cell_type": "code",
   "execution_count": 51,
   "metadata": {},
   "outputs": [
    {
     "data": {
      "text/plain": [
       "('John', 'Doe', '70000')"
      ]
     },
     "execution_count": 51,
     "metadata": {},
     "output_type": "execute_result"
    }
   ],
   "source": [
    "first, last, pay"
   ]
  },
  {
   "cell_type": "code",
   "execution_count": 52,
   "metadata": {},
   "outputs": [],
   "source": [
    "new_emp_1 = Employee(first, last, pay)"
   ]
  },
  {
   "cell_type": "code",
   "execution_count": 53,
   "metadata": {},
   "outputs": [
    {
     "name": "stdout",
     "output_type": "stream",
     "text": [
      "John.Doe@email.com\n"
     ]
    }
   ],
   "source": [
    "print(new_emp_1.email)"
   ]
  },
  {
   "cell_type": "code",
   "execution_count": 54,
   "metadata": {},
   "outputs": [],
   "source": [
    "# 上面的功能在classmethod'from_string()'中实现了, 这个功能接受我们输入的字符串，split成列表并创建对象，最后返回到new_emp_2中\n",
    "# 这就是应用classmethod做alternative constructer\n",
    "new_emp_2 = Employee.from_string(emp_str_2)\n",
    "new_emp_3 = Employee.from_string(emp_str_3)"
   ]
  },
  {
   "cell_type": "code",
   "execution_count": 55,
   "metadata": {
    "scrolled": true
   },
   "outputs": [
    {
     "name": "stdout",
     "output_type": "stream",
     "text": [
      "Steve.Smith@email.com\n",
      "Jane.Doe@email.com\n"
     ]
    }
   ],
   "source": [
    "print(new_emp_2.email)\n",
    "print(new_emp_3.email)"
   ]
  },
  {
   "cell_type": "code",
   "execution_count": 56,
   "metadata": {
    "scrolled": true
   },
   "outputs": [
    {
     "name": "stdout",
     "output_type": "stream",
     "text": [
      "5\n"
     ]
    }
   ],
   "source": [
    "# 这时class中已经有了5个对象\n",
    "print(Employee.num_of_emps)"
   ]
  },
  {
   "cell_type": "markdown",
   "metadata": {},
   "source": [
    "RECAP 调用method的方法\n",
    "- print(object_name.method())\n",
    "- Class_name.method(object_name)"
   ]
  },
  {
   "cell_type": "markdown",
   "metadata": {},
   "source": [
    "When we use a static method? \n",
    "- We want to return a date and find out that if it is a Workday, this functionality have relationship with our class, but it do not depend on any instance or class variable. "
   ]
  },
  {
   "cell_type": "code",
   "execution_count": 63,
   "metadata": {},
   "outputs": [],
   "source": [
    "import datetime\n",
    "# creating a new date\n",
    "my_date = datetime.date(2019, 10, 31)"
   ]
  },
  {
   "cell_type": "code",
   "execution_count": 64,
   "metadata": {},
   "outputs": [
    {
     "name": "stdout",
     "output_type": "stream",
     "text": [
      "2019-10-31\n"
     ]
    }
   ],
   "source": [
    "print(my_date)"
   ]
  },
  {
   "cell_type": "code",
   "execution_count": 65,
   "metadata": {},
   "outputs": [
    {
     "name": "stdout",
     "output_type": "stream",
     "text": [
      "True\n"
     ]
    }
   ],
   "source": [
    "print(Employee.is_workday(my_date))"
   ]
  },
  {
   "cell_type": "markdown",
   "metadata": {},
   "source": [
    "### 4. Inheritance"
   ]
  },
  {
   "cell_type": "markdown",
   "metadata": {},
   "source": [
    "- A subclass can inheritance attributes and methods from a parent class.\n",
    "- A subclass can overide functionality in parent class or add competely new functionality without affecting the parent class."
   ]
  },
  {
   "cell_type": "code",
   "execution_count": 83,
   "metadata": {},
   "outputs": [],
   "source": [
    "# We define a new class called Developer and specify which class we want it to inherit from in the ''()''\n",
    "class Developer(Employee):\n",
    "# This subclass has all of the attribute and functionality from Employee \n",
    "    raise_amount = 1.10\n",
    "    def __init__(self, first, last, pay, prog_lang):\n",
    "    # initiate our subclass with more information than the parents class can handle\n",
    "    # a new attribute prog_lang\n",
    "        super().__init__(first, last, pay)\n",
    "        # let our parent class handle these attribute, which can avoid copy codes from our parent class\n",
    "        # another way is: Employee.__init__(self,first, last, pay)\n",
    "        self.prog_lang = prog_lang"
   ]
  },
  {
   "cell_type": "code",
   "execution_count": 84,
   "metadata": {},
   "outputs": [],
   "source": [
    "# Pass in two new developers\n",
    "# When we instantiated our developers, it first look in our developer class for a __init__ method\n",
    "# Otherwise, Python will walk up this chain of inheritance until finding what it is looking for\n",
    "# The chain is called the method resolution order\n",
    "dev_1 = Developer('Corey', 'Schafer', 50000, 'Python')\n",
    "dev_2 = Developer('Test', 'Employee', 60000, 'Java')"
   ]
  },
  {
   "cell_type": "code",
   "execution_count": 81,
   "metadata": {
    "collapsed": true
   },
   "outputs": [
    {
     "name": "stdout",
     "output_type": "stream",
     "text": [
      "Help on class Developer in module __main__:\n",
      "\n",
      "class Developer(Employee)\n",
      " |  Developer(first, last, pay, prog_lang)\n",
      " |  \n",
      " |  Method resolution order:\n",
      " |      Developer\n",
      " |      Employee\n",
      " |      builtins.object\n",
      " |  \n",
      " |  Methods defined here:\n",
      " |  \n",
      " |  __init__(self, first, last, pay, prog_lang)\n",
      " |      Initialize self.  See help(type(self)) for accurate signature.\n",
      " |  \n",
      " |  ----------------------------------------------------------------------\n",
      " |  Data and other attributes defined here:\n",
      " |  \n",
      " |  raise_amt = 1.1\n",
      " |  \n",
      " |  ----------------------------------------------------------------------\n",
      " |  Methods inherited from Employee:\n",
      " |  \n",
      " |  apply_raise(self)\n",
      " |  \n",
      " |  fullname(self)\n",
      " |  \n",
      " |  ----------------------------------------------------------------------\n",
      " |  Class methods inherited from Employee:\n",
      " |  \n",
      " |  from_string(emp_str) from builtins.type\n",
      " |  \n",
      " |  set_raise_amt(amount) from builtins.type\n",
      " |      # 这里也可以用Employee.raise_amount\n",
      " |      # 如果用self.raise_amount，就可以change the amount of single instance，allow subclass to override it\n",
      " |  \n",
      " |  ----------------------------------------------------------------------\n",
      " |  Static methods inherited from Employee:\n",
      " |  \n",
      " |  is_workday(day)\n",
      " |      # 形参emp_str接受一个实参string，split后储存为列表并赋值给first, last, pay\n",
      " |      # cls(first, last, pay) 相当于create了这个employee, return\n",
      " |  \n",
      " |  ----------------------------------------------------------------------\n",
      " |  Data descriptors inherited from Employee:\n",
      " |  \n",
      " |  __dict__\n",
      " |      dictionary for instance variables (if defined)\n",
      " |  \n",
      " |  __weakref__\n",
      " |      list of weak references to the object (if defined)\n",
      " |  \n",
      " |  ----------------------------------------------------------------------\n",
      " |  Data and other attributes inherited from Employee:\n",
      " |  \n",
      " |  num_of_emps = 4\n",
      " |  \n",
      " |  raise_amount = 1.04\n",
      "\n"
     ]
    }
   ],
   "source": [
    "# Visualize many good things\n",
    "# Method resolution order: places that Python search for attributes and methods, from Up to Bottom\n",
    "# If it can not find out from Employee's __init__ method, it will look the object class, which is every class inherient from this base object\n",
    "help(Developer)"
   ]
  },
  {
   "cell_type": "code",
   "execution_count": 85,
   "metadata": {
    "scrolled": true
   },
   "outputs": [
    {
     "name": "stdout",
     "output_type": "stream",
     "text": [
      "50000\n",
      "55000\n"
     ]
    }
   ],
   "source": [
    "# The method apply_raise is inherient from Employee\n",
    "# But the raise_amont is set diffenertly from Employee\n",
    "# 我们对subset做出的任何改变，都不会影响parent class\n",
    "print(dev_1.pay)\n",
    "dev_1.apply_raise()\n",
    "print(dev_1.pay)"
   ]
  },
  {
   "cell_type": "code",
   "execution_count": 88,
   "metadata": {
    "scrolled": true
   },
   "outputs": [
    {
     "name": "stdout",
     "output_type": "stream",
     "text": [
      "Python\n",
      "Corey.Schafer@email.com\n"
     ]
    }
   ],
   "source": [
    "print(dev_1.prog_lang)\n",
    "print(dev_1.email)"
   ]
  },
  {
   "cell_type": "code",
   "execution_count": 89,
   "metadata": {},
   "outputs": [
    {
     "name": "stdout",
     "output_type": "stream",
     "text": [
      "Java\n",
      "Test.Employee@email.com\n"
     ]
    }
   ],
   "source": [
    "print(dev_2.prog_lang)\n",
    "print(dev_2.email)"
   ]
  },
  {
   "cell_type": "code",
   "execution_count": 95,
   "metadata": {},
   "outputs": [],
   "source": [
    "class Manager(Employee):\n",
    "\n",
    "    def __init__(self, first, last, pay, employees=None):\n",
    "    # a new attribute is employees that this manager supervises\n",
    "        super().__init__(first, last, pay)\n",
    "        if employees is None:\n",
    "            self.employees = []\n",
    "        # set our employee to a empty list if the argument is not provided \n",
    "        else:\n",
    "            self.employees = employees\n",
    "\n",
    "    def add_emp(self, emp):\n",
    "    # add employees to that list\n",
    "        if emp not in self.employees:\n",
    "            self.employees.append(emp)\n",
    "\n",
    "    def remove_emp(self, emp):\n",
    "    # remove employees from that list\n",
    "        if emp in self.employees:\n",
    "            self.employees.remove(emp)\n",
    "\n",
    "    def print_emps(self):\n",
    "    # print out all of the employess that this manager supervise\n",
    "        for emp in self.employees:\n",
    "            print('-->', emp.fullname())"
   ]
  },
  {
   "cell_type": "code",
   "execution_count": 96,
   "metadata": {},
   "outputs": [],
   "source": [
    "mgr_1 = Manager('Sue', 'Smith', 90000, [dev_1])"
   ]
  },
  {
   "cell_type": "code",
   "execution_count": 97,
   "metadata": {},
   "outputs": [
    {
     "data": {
      "text/plain": [
       "'Sue.Smith@email.com'"
      ]
     },
     "execution_count": 97,
     "metadata": {},
     "output_type": "execute_result"
    }
   ],
   "source": [
    "mgr_1.email"
   ]
  },
  {
   "cell_type": "code",
   "execution_count": 99,
   "metadata": {},
   "outputs": [
    {
     "name": "stdout",
     "output_type": "stream",
     "text": [
      "--> Corey Schafer\n"
     ]
    }
   ],
   "source": [
    "mgr_1.print_emps()"
   ]
  },
  {
   "cell_type": "code",
   "execution_count": 100,
   "metadata": {},
   "outputs": [],
   "source": [
    "mgr_1.add_emp(dev_2)"
   ]
  },
  {
   "cell_type": "code",
   "execution_count": 101,
   "metadata": {},
   "outputs": [
    {
     "name": "stdout",
     "output_type": "stream",
     "text": [
      "--> Corey Schafer\n",
      "--> Test Employee\n"
     ]
    }
   ],
   "source": [
    "mgr_1.print_emps()"
   ]
  },
  {
   "cell_type": "code",
   "execution_count": 102,
   "metadata": {},
   "outputs": [],
   "source": [
    "mgr_1.remove_emp(dev_1)"
   ]
  },
  {
   "cell_type": "code",
   "execution_count": 103,
   "metadata": {},
   "outputs": [
    {
     "name": "stdout",
     "output_type": "stream",
     "text": [
      "--> Test Employee\n"
     ]
    }
   ],
   "source": [
    "mgr_1.print_emps()"
   ]
  },
  {
   "cell_type": "code",
   "execution_count": 104,
   "metadata": {},
   "outputs": [],
   "source": [
    "mgr_2 = Manager('Jimmy', 'Smith', 120000, [new_emp_3,new_emp_2,new_emp_1])"
   ]
  },
  {
   "cell_type": "code",
   "execution_count": 114,
   "metadata": {
    "scrolled": true
   },
   "outputs": [
    {
     "name": "stdout",
     "output_type": "stream",
     "text": [
      "--> Jane Doe\n",
      "--> Steve Smith\n",
      "--> John Doe\n"
     ]
    }
   ],
   "source": [
    "mgr_2.print_emps()"
   ]
  },
  {
   "cell_type": "code",
   "execution_count": 119,
   "metadata": {},
   "outputs": [],
   "source": [
    "# 关于上面函数使用的说明\n",
    "def people(name,age,interest = None):\n",
    "    # 在这个函数中，interest的初始值为None\n",
    "    if interest is None:\n",
    "        interests = []\n",
    "    else:\n",
    "        interests = interest\n",
    "    print(interests)"
   ]
  },
  {
   "cell_type": "code",
   "execution_count": 120,
   "metadata": {
    "scrolled": false
   },
   "outputs": [
    {
     "name": "stdout",
     "output_type": "stream",
     "text": [
      "[]\n"
     ]
    }
   ],
   "source": [
    "# 我们没有传递关于interest的实参，因此interest取默认值\n",
    "people('allen',23)"
   ]
  },
  {
   "cell_type": "code",
   "execution_count": 121,
   "metadata": {},
   "outputs": [
    {
     "name": "stdout",
     "output_type": "stream",
     "text": [
      "play games\n"
     ]
    }
   ],
   "source": [
    "people('KK',23,'play games')"
   ]
  },
  {
   "cell_type": "code",
   "execution_count": 122,
   "metadata": {},
   "outputs": [
    {
     "name": "stdout",
     "output_type": "stream",
     "text": [
      "['play games', 'study']\n"
     ]
    }
   ],
   "source": [
    "# 我们也可以传递一个列表\n",
    "people('ZZ',23,['play games','study'])"
   ]
  },
  {
   "cell_type": "code",
   "execution_count": 124,
   "metadata": {},
   "outputs": [
    {
     "name": "stdout",
     "output_type": "stream",
     "text": [
      "False\n",
      "True\n",
      "True\n"
     ]
    }
   ],
   "source": [
    "# 关于inheritance的几个build in function\n",
    "print(isinstance(mgr_1,Developer))\n",
    "# check if mgr_1 is a instance of Developer\n",
    "print(isinstance(mgr_1,Manager))\n",
    "print(isinstance(mgr_1,Employee))"
   ]
  },
  {
   "cell_type": "code",
   "execution_count": 126,
   "metadata": {},
   "outputs": [
    {
     "name": "stdout",
     "output_type": "stream",
     "text": [
      "True\n"
     ]
    }
   ],
   "source": [
    "print(issubclass(Developer,Employee))\n",
    "# check if "
   ]
  },
  {
   "cell_type": "markdown",
   "metadata": {},
   "source": [
    "### 5. Special methods (Magic/Dunder)"
   ]
  },
  {
   "cell_type": "markdown",
   "metadata": {},
   "source": [
    "- These methods allow us to emulate some build-in behavior within Python.\n",
    "- How we implement operator overloading.\n",
    "- Surronded by double underscores (dunder).\n",
    "- Help us to change the method our object are printed or displayed."
   ]
  },
  {
   "cell_type": "code",
   "execution_count": 128,
   "metadata": {},
   "outputs": [
    {
     "name": "stdout",
     "output_type": "stream",
     "text": [
      "3\n",
      "ab\n"
     ]
    }
   ],
   "source": [
    "# When you deal with different object, the behavior is different\n",
    "print(1 + 2)\n",
    "print('a' + 'b')"
   ]
  },
  {
   "cell_type": "code",
   "execution_count": 145,
   "metadata": {},
   "outputs": [
    {
     "name": "stdout",
     "output_type": "stream",
     "text": [
      "3\n",
      "ab\n"
     ]
    }
   ],
   "source": [
    "# because str and int use thier own dunder method\n",
    "print(int.__add__(1,2))\n",
    "print(str.__add__('a','b'))"
   ]
  },
  {
   "cell_type": "code",
   "execution_count": 129,
   "metadata": {
    "scrolled": true
   },
   "outputs": [
    {
     "name": "stdout",
     "output_type": "stream",
     "text": [
      "<__main__.Employee object at 0x112a3ea58>\n"
     ]
    }
   ],
   "source": [
    "# When we print emp_1, we just get vague emp_1 object\n",
    "# So, how to change this behavior more user friendly?\n",
    "print(emp_1)"
   ]
  },
  {
   "cell_type": "code",
   "execution_count": 130,
   "metadata": {},
   "outputs": [],
   "source": [
    "# __methodname__'. For example, dunder init is '__init__'\n",
    "# __repr__: an ambiguous representation of the object, should be use for debugging and logging and things like that\n",
    "# __str__: more readable representation of an object and is meant to be used as a display to the end-user"
   ]
  },
  {
   "cell_type": "code",
   "execution_count": 138,
   "metadata": {
    "scrolled": true
   },
   "outputs": [
    {
     "data": {
      "text/plain": [
       "\"Employee('Corey', 'Schafer', 50000)\""
      ]
     },
     "execution_count": 138,
     "metadata": {},
     "output_type": "execute_result"
    }
   ],
   "source": [
    "repr(emp_1)\n",
    "# 得到的结果就可以用于recreate object, 比如，复制粘贴给 emp_1 = Employee('Corey', 'Schafer', 50000)"
   ]
  },
  {
   "cell_type": "code",
   "execution_count": 139,
   "metadata": {},
   "outputs": [
    {
     "data": {
      "text/plain": [
       "'Corey Schafer - Corey.Schafer@email.com'"
      ]
     },
     "execution_count": 139,
     "metadata": {},
     "output_type": "execute_result"
    }
   ],
   "source": [
    "str(emp_1)"
   ]
  },
  {
   "cell_type": "code",
   "execution_count": 143,
   "metadata": {},
   "outputs": [
    {
     "name": "stdout",
     "output_type": "stream",
     "text": [
      "Corey Schafer - Corey.Schafer@email.com\n",
      "Corey Schafer - Corey.Schafer@email.com\n"
     ]
    }
   ],
   "source": [
    "print(emp_1)\n",
    "# In fact, it is like the following code\n",
    "print(emp_1.__str__())"
   ]
  },
  {
   "cell_type": "code",
   "execution_count": 148,
   "metadata": {
    "scrolled": true
   },
   "outputs": [
    {
     "data": {
      "text/plain": [
       "110000"
      ]
     },
     "execution_count": 148,
     "metadata": {},
     "output_type": "execute_result"
    }
   ],
   "source": [
    "# Caculate total salary by add employee together\n",
    "emp_1 + emp_2"
   ]
  },
  {
   "cell_type": "code",
   "execution_count": 149,
   "metadata": {},
   "outputs": [
    {
     "data": {
      "text/plain": [
       "13"
      ]
     },
     "execution_count": 149,
     "metadata": {},
     "output_type": "execute_result"
    }
   ],
   "source": [
    "# find how many characters long\n",
    "len(emp_1)"
   ]
  },
  {
   "cell_type": "markdown",
   "metadata": {},
   "source": [
    "### 6. Property decorators"
   ]
  },
  {
   "cell_type": "code",
   "execution_count": 172,
   "metadata": {},
   "outputs": [],
   "source": [
    "# Here, a new class called customer was defined\n",
    "class Customer:\n",
    "\n",
    "    def __init__(self, first, last):\n",
    "        self.first = first\n",
    "        self.last = last\n",
    "        self.email = first + '.' + last + '@email.com'\n",
    "\n",
    "    def fullname(self):\n",
    "        return '{} {}'.format(self.first, self.last)"
   ]
  },
  {
   "cell_type": "code",
   "execution_count": 173,
   "metadata": {},
   "outputs": [],
   "source": [
    "cus_1 = Customer('Hale','Smith')"
   ]
  },
  {
   "cell_type": "code",
   "execution_count": 175,
   "metadata": {},
   "outputs": [
    {
     "name": "stdout",
     "output_type": "stream",
     "text": [
      "Hale\n",
      "Hale.Smith@email.com\n",
      "Hale Smith\n"
     ]
    }
   ],
   "source": [
    "print(cus_1.first)\n",
    "print(cus_1.email)\n",
    "print(cus_1.fullname())"
   ]
  },
  {
   "cell_type": "code",
   "execution_count": 176,
   "metadata": {},
   "outputs": [],
   "source": [
    "cus_1.first = 'Jim'"
   ]
  },
  {
   "cell_type": "code",
   "execution_count": 177,
   "metadata": {},
   "outputs": [
    {
     "name": "stdout",
     "output_type": "stream",
     "text": [
      "Jim\n",
      "Hale.Smith@email.com\n",
      "Jim Smith\n"
     ]
    }
   ],
   "source": [
    "# E-mail still has our old firstname\n",
    "# When we use the fullname method, every time it comes and grab the current firstname and lastname\n",
    "print(cus_1.first)\n",
    "print(cus_1.email)\n",
    "print(cus_1.fullname())"
   ]
  },
  {
   "cell_type": "markdown",
   "metadata": {},
   "source": [
    "如果我们希望email这个attribute也能够同步更新，可以选择把email也写成像fullname一样的method。但是，这意味着所有使用这个class的人，都需要把所有关于email的代码改写。在Python中，我们可以使用property decoraters, the method that can be access as an attribute."
   ]
  },
  {
   "cell_type": "code",
   "execution_count": 192,
   "metadata": {},
   "outputs": [],
   "source": [
    "class Customer_r:\n",
    "\n",
    "    def __init__(self, first, last):\n",
    "        self.first = first\n",
    "        self.last = last\n",
    "    \n",
    "    @property\n",
    "    def email(self):\n",
    "        return '{}.{}@email.com'.format(self.first, self.last)\n",
    "    @property\n",
    "    def fullname(self):\n",
    "        return '{} {}'.format(self.first, self.last)\n",
    "    \n",
    "    @fullname.setter\n",
    "    # 格式：@nameofproperty.setter\n",
    "    def fullname(self, name):\n",
    "    # name here is the value that we are trying to set\n",
    "        first, last = name.split(' ')\n",
    "        # 按照空格split并传递给first和last\n",
    "        self.first = first\n",
    "        self.last = last\n",
    "    \n",
    "    @fullname.deleter\n",
    "    # kind of clean up code\n",
    "    def fullname(self):\n",
    "        print('Delete Name!')\n",
    "        self.first = None\n",
    "        self.last = None"
   ]
  },
  {
   "cell_type": "code",
   "execution_count": 193,
   "metadata": {},
   "outputs": [],
   "source": [
    "cus_2 = Customer_r('Carmelo','Anthony')"
   ]
  },
  {
   "cell_type": "code",
   "execution_count": 186,
   "metadata": {},
   "outputs": [
    {
     "name": "stdout",
     "output_type": "stream",
     "text": [
      "Carmelo\n",
      "Carmelo.Anthony@email.com\n",
      "Carmelo Anthony\n"
     ]
    }
   ],
   "source": [
    "print(cus_2.first)\n",
    "print(cus_2.email)\n",
    "print(cus_2.fullname)"
   ]
  },
  {
   "cell_type": "code",
   "execution_count": 187,
   "metadata": {},
   "outputs": [
    {
     "name": "stdout",
     "output_type": "stream",
     "text": [
      "Carl\n",
      "Carl.Anthony@email.com\n",
      "Carl Anthony\n"
     ]
    }
   ],
   "source": [
    "cus_2.first = 'Carl'\n",
    "print(cus_2.first)\n",
    "print(cus_2.email)\n",
    "print(cus_2.fullname)"
   ]
  },
  {
   "cell_type": "code",
   "execution_count": 194,
   "metadata": {
    "scrolled": false
   },
   "outputs": [],
   "source": [
    "# setter is another decorater, \n",
    "cus_2.fullname = 'Peter Paker'"
   ]
  },
  {
   "cell_type": "code",
   "execution_count": 195,
   "metadata": {},
   "outputs": [
    {
     "name": "stdout",
     "output_type": "stream",
     "text": [
      "Peter\n",
      "Peter.Paker@email.com\n",
      "Peter Paker\n"
     ]
    }
   ],
   "source": [
    "print(cus_2.first)\n",
    "print(cus_2.email)\n",
    "print(cus_2.fullname)"
   ]
  },
  {
   "cell_type": "code",
   "execution_count": 196,
   "metadata": {},
   "outputs": [
    {
     "name": "stdout",
     "output_type": "stream",
     "text": [
      "Delete Name!\n"
     ]
    }
   ],
   "source": [
    "del cus_2.fullname"
   ]
  },
  {
   "cell_type": "code",
   "execution_count": 197,
   "metadata": {},
   "outputs": [
    {
     "name": "stdout",
     "output_type": "stream",
     "text": [
      "None\n",
      "None.None@email.com\n",
      "None None\n"
     ]
    }
   ],
   "source": [
    "print(cus_2.first)\n",
    "print(cus_2.email)\n",
    "print(cus_2.fullname)"
   ]
  }
 ],
 "metadata": {
  "kernelspec": {
   "display_name": "Python 3",
   "language": "python",
   "name": "python3"
  },
  "language_info": {
   "codemirror_mode": {
    "name": "ipython",
    "version": 3
   },
   "file_extension": ".py",
   "mimetype": "text/x-python",
   "name": "python",
   "nbconvert_exporter": "python",
   "pygments_lexer": "ipython3",
   "version": "3.7.3"
  }
 },
 "nbformat": 4,
 "nbformat_minor": 2
}
