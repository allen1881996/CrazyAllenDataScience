{
 "cells": [
  {
   "cell_type": "markdown",
   "metadata": {},
   "source": [
    "# Summary of Pandas\n",
    "## By Allen Huang"
   ]
  },
  {
   "cell_type": "code",
   "execution_count": 9,
   "metadata": {},
   "outputs": [],
   "source": [
    "import pandas as pd"
   ]
  },
  {
   "cell_type": "markdown",
   "metadata": {},
   "source": [
    "### 1. Create Pandas Object"
   ]
  },
  {
   "cell_type": "markdown",
   "metadata": {},
   "source": [
    "#### 1.1 Create Series\n",
    "``` Python\n",
    "pd.Series(data=None, index=None, dtype=None, name=None, copy=False, fastpath=False)\n",
    "# pass in a list to create a Series\n",
    "pd.Series([0.25, 0.5, 0.75, 1.0]) \n",
    "# set the index argument\n",
    "pd.Series([0.25, 0.5, 0.75, 1.0], index=['a', 'b', 'c', 'd'])\n",
    "# pass in a dict to creare a Series, key->index, value->value \n",
    "pd.Series({2:'a', 1:'b', 3:'c'})\n",
    "# attribute of a Series\n",
    "Series.values\n",
    "Series.index\n",
    "Series.index.names\n",
    "# change a value using index\n",
    "data['e'] = 1.25\n",
    "# reindex\n",
    "Series.reindex(index)\n",
    "```\n",
    "#### 1.2 Create DataFrame\n",
    "``` Python\n",
    "# you can set the columns and index\n",
    "pd.DataFrame(data=None, index=None, columns=None, dtype=None, copy=False)\n",
    "# create from Series (population and area)\n",
    "# key->column name, value->value, keep index as before\n",
    "pd.DataFrame({'population': population,'area': area})\n",
    "# from a list of dict. \n",
    "pd.DataFrame([{'a': 1, 'b': 2}, {'b': 3, 'c': 4}])\n",
    "\n",
    "# attribute of a DataFrame\n",
    "DataFrame.values\n",
    "DataFrame.index\n",
    "DataFrame.index.names\n",
    "DataFrame.columns\n",
    "DataFrame.columns.names\n",
    "```"
   ]
  },
  {
   "cell_type": "markdown",
   "metadata": {},
   "source": [
    "### 2. Index"
   ]
  },
  {
   "cell_type": "markdown",
   "metadata": {},
   "source": [
    "#### 2.1 Slicing by explicit index or implicit index\n",
    "- Explicit index: when using data[1] or loc. \n",
    "- Implicit index: when using data[1:3] or iloc\n",
    "- ix: a combination of loc and iloc\n",
    "\n",
    "```Python\n",
    "# for a Series, just use the index if index is a string\n",
    "data['a':'c']\n",
    "data.iloc[1:3]\n",
    "data.loc[1:3]\n",
    "data.ix[1:3]\n",
    "# for a DataFrame, [slicing row, slicing column] \n",
    "data.iloc[:3, :2]\n",
    "data.loc[:'Florida', :'pop']\n",
    "data.ix[:3, :'pop']\n",
    "```\n",
    "#### 2.2 MultiIndex\n",
    "```Python\n",
    "# get index from..\n",
    "pd.MultiIndex.from_tuples([('a', 1), ('a', 2), ('b', 1), ('b', 2)])\n",
    "pd.MultiIndex.from_arrays([['a', 'a', 'b', 'b'], [1, 2, 1, 2]])\n",
    "pd.MultiIndex.from_product([['a', 'b'], [1, 2]])\n",
    "pd.MultiIndex(levels=[['a', 'b'], [1, 2]], labels=[[0, 0, 1, 1], [0, 1, 0, 1]])\n",
    "# we can set the index as a list\n",
    "index=[['a', 'a', 'b', 'b'], [1, 2, 1, 2]]\n",
    "# MultiIndex of a Series: Series[the first level, the second level]\n",
    "pop[:, 2000]\n",
    "# MultiIndex of a DataFrame: df[column level1, column level2]\n",
    "# df.loc[(row level1, row level2), (column level1, column level2)]\n",
    "health_data.loc[:, ('Bob', 'HR')]\n",
    "health_data.loc[(2013,1), ('Bob', 'HR')]\n",
    "# unstack(): multiply indexed Series -> DataFrame\n",
    "pop_df = pop.unstack()\n",
    "pop_df.stack()\n",
    "pop.unstack(level=0)\n",
    "# the best way: using IndexSlice\n",
    "idx = pd.IndexSlice\n",
    "health_data.loc[idx[2013:2014,1], idx['Bob':'Guido', 'Temp']]\n",
    "health_data.loc[idx[:, 1], idx[:, 'HR']]\n",
    "# build a MultiIndex from the column values\n",
    "pop_flat.set_index(['state', 'year'])\n",
    "```\n",
    "#### 2.3 Sort and set index\n",
    "```Python\n",
    "# sort index\n",
    "data = data.sort_index()\n",
    "# set a column for a Series, then trun into a df\n",
    "pop_flat = pop.reset_index(name='population')\n",
    "```"
   ]
  },
  {
   "cell_type": "markdown",
   "metadata": {},
   "source": [
    "### 3. Selection"
   ]
  },
  {
   "cell_type": "markdown",
   "metadata": {},
   "source": [
    "#### 3.1 selection of Series\n",
    "\n",
    "```Python\n",
    "# It will select index\n",
    "data['area']\n",
    "# masking of a Series\n",
    "data[(data > 0.3) & (data < 0.8)]\n",
    "# fancy indexing, take care of double []\n",
    "data[['a', 'e']]\n",
    "\n",
    "\n",
    "```\n",
    "#### 3.2 selection of DataFrame\n",
    "\n",
    "```Python\n",
    "# It will select column\n",
    "data['area']\n",
    "# data.density is data['density'] only when column is a string\n",
    "data.loc[data.density > 100]\n",
    "data['density'] = data['pop'] / data['area']\n",
    "# fancy indexing, select column\n",
    "data.iloc[[0,1,2,3]]\n",
    "```"
   ]
  },
  {
   "cell_type": "markdown",
   "metadata": {},
   "source": [
    "### 4. Basic Operations"
   ]
  },
  {
   "cell_type": "markdown",
   "metadata": {},
   "source": [
    "#### 4.1 UFuncs\n",
    "\n",
    "```Python\n",
    "# transposition\n",
    "data.T\n",
    "# divide between two Series\n",
    "Series1 / Series2\n",
    "# union of two Series index\n",
    "area.index | population.index\n",
    "# add\n",
    "A+B\n",
    "A.add(B, fill_value = ?)\n",
    "# operation between df and Series\n",
    "df.subtract(df['R'], axis=0)\n",
    "```\n",
    "#### 4.2 Deal with missing value\n",
    "\n",
    "```Python\n",
    "# check for missing value\n",
    "data.isnull()\n",
    "data.notnull()\n",
    "# Boolean masks can be used directly as a ``Series`` or ``DataFrame`` index\n",
    "data[data.notnull()]\n",
    "# drop missing value, rows by default\n",
    "data.dropna()\n",
    "df.dropna(axis='columns')\n",
    "# all or any\n",
    "df.dropna(axis='columns', how='all')\n",
    "# the thresh parameter lets you specify a minimum number of non-null values for the row/column to be kept\n",
    "df.dropna(axis='rows', thresh=3)\n",
    "# fill null value\n",
    "data.fillna(0)\n",
    "# forward fill and back fill\n",
    "data.fillna(method='ffill')\n",
    "data.fillna(method='bfill')\n",
    "df.fillna(method='ffill', axis=1)\n",
    "```\n",
    "#### 4.3 Data Aggregations\n",
    "```Python\n",
    "data_mean = health_data.mean(level='year')\n",
    "data_mean.sum(axis=1, level='type')\n",
    "```"
   ]
  },
  {
   "cell_type": "markdown",
   "metadata": {},
   "source": [
    "### 5. Advance Operations"
   ]
  },
  {
   "cell_type": "markdown",
   "metadata": {},
   "source": [
    "#### 5.1 Concat and Append\n",
    "```Python\n",
    "pd.concat([ser1, ser2])\n",
    "pd.concat([df3, df4], axis= 1)\n",
    "# ignore overlap of index\n",
    "pd.concat([x, y], ignore_index=True)\n",
    "# Error when overlap of index\n",
    "pd.concat([x, y], verify_integrity=True)\n",
    "# specify a label for the data sources\n",
    "pd.concat([x, y], keys=['x', 'y'])\n",
    "# use inner join to avoid NaN\n",
    "pd.concat([df5, df6], join='inner')\n",
    "# specify the index of the remaininig colums\n",
    "pd.concat([df5, df6], join_axes=[df5.columns])\n",
    "# append \n",
    "df1.append(df2)\n",
    "```\n",
    "#### 5.2 Merge\n",
    "```Python\n",
    "pd.merge(df1, df2)"
   ]
  },
  {
   "cell_type": "markdown",
   "metadata": {},
   "source": []
  },
  {
   "cell_type": "code",
   "execution_count": null,
   "metadata": {},
   "outputs": [],
   "source": []
  }
 ],
 "metadata": {
  "kernelspec": {
   "display_name": "Python 3",
   "language": "python",
   "name": "python3"
  },
  "language_info": {
   "codemirror_mode": {
    "name": "ipython",
    "version": 3
   },
   "file_extension": ".py",
   "mimetype": "text/x-python",
   "name": "python",
   "nbconvert_exporter": "python",
   "pygments_lexer": "ipython3",
   "version": "3.7.3"
  }
 },
 "nbformat": 4,
 "nbformat_minor": 2
}
