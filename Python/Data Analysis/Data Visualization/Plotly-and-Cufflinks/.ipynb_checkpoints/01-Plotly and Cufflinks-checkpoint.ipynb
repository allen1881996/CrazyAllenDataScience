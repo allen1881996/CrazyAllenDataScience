{
 "cells": [
  {
   "cell_type": "markdown",
   "metadata": {},
   "source": [
    "___\n",
    "\n",
    "<a href='http://www.pieriandata.com'> <img src='../Pierian_Data_Logo.png' /></a>\n",
    "___\n",
    "# Plotly and Cufflinks"
   ]
  },
  {
   "cell_type": "markdown",
   "metadata": {},
   "source": [
    "Plotly is a library that allows you to create interactive plots that you can use in dashboards or websites (you can save them as html files or static images).\n",
    "\n",
    "## Installation\n",
    "\n",
    "In order for this all to work, you'll need to install plotly and cufflinks to call plots directly off of a pandas dataframe. These libraries are not currently available through **conda** but are available through **pip**. Install the libraries at your command line/terminal using:\n",
    "\n",
    "    pip install plotly\n",
    "    pip install cufflinks\n",
    "\n",
    "** NOTE: Make sure you only have one installation of Python on your computer when you do this, otherwise the installation may not work. **\n",
    "\n",
    "## Imports and Set-up"
   ]
  },
  {
   "cell_type": "code",
   "execution_count": 1,
   "metadata": {},
   "outputs": [],
   "source": [
    "import pandas as pd\n",
    "import numpy as np\n",
    "%matplotlib inline"
   ]
  },
  {
   "cell_type": "code",
   "execution_count": 2,
   "metadata": {},
   "outputs": [
    {
     "name": "stdout",
     "output_type": "stream",
     "text": [
      "4.3.0\n"
     ]
    }
   ],
   "source": [
    "from plotly import __version__\n",
    "from plotly.offline import download_plotlyjs, init_notebook_mode, plot, iplot\n",
    "\n",
    "print(__version__) # requires version >= 1.9.0"
   ]
  },
  {
   "cell_type": "code",
   "execution_count": 4,
   "metadata": {},
   "outputs": [],
   "source": [
    "import cufflinks as cf"
   ]
  },
  {
   "cell_type": "code",
   "execution_count": 5,
   "metadata": {},
   "outputs": [
    {
     "data": {
      "text/html": [
       "        <script type=\"text/javascript\">\n",
       "        window.PlotlyConfig = {MathJaxConfig: 'local'};\n",
       "        if (window.MathJax) {MathJax.Hub.Config({SVG: {font: \"STIX-Web\"}});}\n",
       "        if (typeof require !== 'undefined') {\n",
       "        require.undef(\"plotly\");\n",
       "        requirejs.config({\n",
       "            paths: {\n",
       "                'plotly': ['https://cdn.plot.ly/plotly-latest.min']\n",
       "            }\n",
       "        });\n",
       "        require(['plotly'], function(Plotly) {\n",
       "            window._Plotly = Plotly;\n",
       "        });\n",
       "        }\n",
       "        </script>\n",
       "        "
      ]
     },
     "metadata": {},
     "output_type": "display_data"
    }
   ],
   "source": [
    "# For Notebooks\n",
    "init_notebook_mode(connected=True)"
   ]
  },
  {
   "cell_type": "code",
   "execution_count": 6,
   "metadata": {},
   "outputs": [
    {
     "data": {
      "text/html": [
       "        <script type=\"text/javascript\">\n",
       "        window.PlotlyConfig = {MathJaxConfig: 'local'};\n",
       "        if (window.MathJax) {MathJax.Hub.Config({SVG: {font: \"STIX-Web\"}});}\n",
       "        if (typeof require !== 'undefined') {\n",
       "        require.undef(\"plotly\");\n",
       "        requirejs.config({\n",
       "            paths: {\n",
       "                'plotly': ['https://cdn.plot.ly/plotly-latest.min']\n",
       "            }\n",
       "        });\n",
       "        require(['plotly'], function(Plotly) {\n",
       "            window._Plotly = Plotly;\n",
       "        });\n",
       "        }\n",
       "        </script>\n",
       "        "
      ]
     },
     "metadata": {},
     "output_type": "display_data"
    }
   ],
   "source": [
    "# For offline use\n",
    "cf.go_offline()"
   ]
  },
  {
   "cell_type": "markdown",
   "metadata": {},
   "source": [
    "### Fake Data"
   ]
  },
  {
   "cell_type": "code",
   "execution_count": 7,
   "metadata": {},
   "outputs": [],
   "source": [
    "df = pd.DataFrame(np.random.randn(100,4),columns='A B C D'.split())"
   ]
  },
  {
   "cell_type": "code",
   "execution_count": 8,
   "metadata": {},
   "outputs": [
    {
     "data": {
      "text/html": [
       "<div>\n",
       "<style scoped>\n",
       "    .dataframe tbody tr th:only-of-type {\n",
       "        vertical-align: middle;\n",
       "    }\n",
       "\n",
       "    .dataframe tbody tr th {\n",
       "        vertical-align: top;\n",
       "    }\n",
       "\n",
       "    .dataframe thead th {\n",
       "        text-align: right;\n",
       "    }\n",
       "</style>\n",
       "<table border=\"1\" class=\"dataframe\">\n",
       "  <thead>\n",
       "    <tr style=\"text-align: right;\">\n",
       "      <th></th>\n",
       "      <th>A</th>\n",
       "      <th>B</th>\n",
       "      <th>C</th>\n",
       "      <th>D</th>\n",
       "    </tr>\n",
       "  </thead>\n",
       "  <tbody>\n",
       "    <tr>\n",
       "      <th>0</th>\n",
       "      <td>-0.688996</td>\n",
       "      <td>-1.207384</td>\n",
       "      <td>1.357254</td>\n",
       "      <td>-0.242953</td>\n",
       "    </tr>\n",
       "    <tr>\n",
       "      <th>1</th>\n",
       "      <td>-0.109989</td>\n",
       "      <td>-0.891415</td>\n",
       "      <td>0.388954</td>\n",
       "      <td>-0.128275</td>\n",
       "    </tr>\n",
       "    <tr>\n",
       "      <th>2</th>\n",
       "      <td>0.096999</td>\n",
       "      <td>0.912200</td>\n",
       "      <td>-0.220428</td>\n",
       "      <td>2.970660</td>\n",
       "    </tr>\n",
       "    <tr>\n",
       "      <th>3</th>\n",
       "      <td>-0.880826</td>\n",
       "      <td>0.649807</td>\n",
       "      <td>0.327948</td>\n",
       "      <td>0.459741</td>\n",
       "    </tr>\n",
       "    <tr>\n",
       "      <th>4</th>\n",
       "      <td>2.217240</td>\n",
       "      <td>-0.008996</td>\n",
       "      <td>-0.102675</td>\n",
       "      <td>1.164454</td>\n",
       "    </tr>\n",
       "  </tbody>\n",
       "</table>\n",
       "</div>"
      ],
      "text/plain": [
       "          A         B         C         D\n",
       "0 -0.688996 -1.207384  1.357254 -0.242953\n",
       "1 -0.109989 -0.891415  0.388954 -0.128275\n",
       "2  0.096999  0.912200 -0.220428  2.970660\n",
       "3 -0.880826  0.649807  0.327948  0.459741\n",
       "4  2.217240 -0.008996 -0.102675  1.164454"
      ]
     },
     "execution_count": 8,
     "metadata": {},
     "output_type": "execute_result"
    }
   ],
   "source": [
    "df.head()"
   ]
  },
  {
   "cell_type": "code",
   "execution_count": 9,
   "metadata": {},
   "outputs": [],
   "source": [
    "df2 = pd.DataFrame({'Category':['A','B','C'],'Values':[32,43,50]})"
   ]
  },
  {
   "cell_type": "code",
   "execution_count": 10,
   "metadata": {},
   "outputs": [
    {
     "data": {
      "text/html": [
       "<div>\n",
       "<style scoped>\n",
       "    .dataframe tbody tr th:only-of-type {\n",
       "        vertical-align: middle;\n",
       "    }\n",
       "\n",
       "    .dataframe tbody tr th {\n",
       "        vertical-align: top;\n",
       "    }\n",
       "\n",
       "    .dataframe thead th {\n",
       "        text-align: right;\n",
       "    }\n",
       "</style>\n",
       "<table border=\"1\" class=\"dataframe\">\n",
       "  <thead>\n",
       "    <tr style=\"text-align: right;\">\n",
       "      <th></th>\n",
       "      <th>Category</th>\n",
       "      <th>Values</th>\n",
       "    </tr>\n",
       "  </thead>\n",
       "  <tbody>\n",
       "    <tr>\n",
       "      <th>0</th>\n",
       "      <td>A</td>\n",
       "      <td>32</td>\n",
       "    </tr>\n",
       "    <tr>\n",
       "      <th>1</th>\n",
       "      <td>B</td>\n",
       "      <td>43</td>\n",
       "    </tr>\n",
       "    <tr>\n",
       "      <th>2</th>\n",
       "      <td>C</td>\n",
       "      <td>50</td>\n",
       "    </tr>\n",
       "  </tbody>\n",
       "</table>\n",
       "</div>"
      ],
      "text/plain": [
       "  Category  Values\n",
       "0        A      32\n",
       "1        B      43\n",
       "2        C      50"
      ]
     },
     "execution_count": 10,
     "metadata": {},
     "output_type": "execute_result"
    }
   ],
   "source": [
    "df2.head()"
   ]
  },
  {
   "cell_type": "markdown",
   "metadata": {},
   "source": [
    "## Using Cufflinks and iplot()\n",
    "\n",
    "* scatter\n",
    "* bar\n",
    "* box\n",
    "* spread\n",
    "* ratio\n",
    "* heatmap\n",
    "* surface\n",
    "* histogram\n",
    "* bubble"
   ]
  },
  {
   "cell_type": "markdown",
   "metadata": {},
   "source": [
    "## Scatter"
   ]
  },
  {
   "cell_type": "code",
   "execution_count": 11,
   "metadata": {},
   "outputs": [
    {
     "data": {
      "application/vnd.plotly.v1+json": {
       "config": {
        "linkText": "Export to plot.ly",
        "plotlyServerURL": "https://plot.ly",
        "showLink": true
       },
       "data": [
        {
         "line": {
          "color": "rgba(255, 153, 51, 1.0)",
          "dash": "solid",
          "shape": "linear",
          "width": 1.3
         },
         "marker": {
          "size": 10,
          "symbol": "circle"
         },
         "mode": "markers",
         "name": "B",
         "text": "",
         "type": "scatter",
         "x": [
          -0.6889956521739307,
          -0.10998876634393508,
          0.09699922766269028,
          -0.8808256190850161,
          2.2172396213269425,
          -0.5181556954513972,
          0.044220521243459814,
          -0.6182983871486031,
          0.5035632820391117,
          -1.9735185015594627,
          -1.1226476322836956,
          -0.033709732199987,
          -0.47506049831864783,
          0.4062401342415919,
          -0.8298431157254298,
          0.6484928745668593,
          -0.8484283621195674,
          -0.11478932596098841,
          0.4156464856047231,
          -1.2044313934808315,
          -0.7377218812849837,
          -0.3530399705530779,
          -1.2354471686035418,
          1.415323768152012,
          0.03667147351896974,
          1.3757424357499963,
          -0.6204186792444727,
          0.32246037711615533,
          0.7176758702542765,
          -0.08952871392329798,
          -1.9115942832046897,
          0.6464809271333035,
          0.25280282897385653,
          -0.3030241591898929,
          0.13348160896768804,
          1.7778329413926857,
          -0.2706982328639064,
          0.174223288645667,
          -0.6443864622112773,
          0.05767854227106527,
          0.9359769594187413,
          -0.2108110112579468,
          0.7232976098150298,
          0.13782196537317143,
          0.1965086400798674,
          -0.35595137558340306,
          0.19120368500211257,
          1.190555681945383,
          0.29840087375121377,
          1.709979954740142,
          -2.448437868821938,
          0.23410079150844357,
          0.433512903693733,
          1.9187512221029763,
          0.34796679107170425,
          0.28328638799105765,
          0.44287235575880485,
          -0.7266976761259687,
          0.3816684048555259,
          -0.8004660246613597,
          -0.06094814916289371,
          -0.48342674827606424,
          0.8255274909549741,
          -0.10068957109932336,
          -2.172269351419027,
          -0.7422295876820347,
          -1.235546393094691,
          -1.2995927217470409,
          -0.684511063368568,
          0.9958837433328543,
          -3.1991579221704414,
          1.1793687045818502,
          -0.319124939743108,
          0.8491143895203022,
          -1.1359643999435747,
          -0.5865615969649363,
          -0.19172108517410447,
          -0.30362087781243813,
          -0.03695050115199503,
          0.9785928191618193,
          2.0128678073383885,
          0.5639780665112403,
          -1.7990312710673546,
          -1.114647156508601,
          0.2947390593870421,
          0.3690855749682276,
          0.25285277904826237,
          2.1287882496107553,
          0.08504298776070535,
          0.2704915897148827,
          -1.039195748914558,
          0.5889777880510121,
          0.9996470311558219,
          0.9065031222001652,
          -0.7944687044530946,
          -0.4705706405607836,
          -0.07239019799691816,
          0.017726005413281606,
          -1.640842578699129,
          -0.9970442281743205
         ],
         "y": [
          -1.2073839278312855,
          -0.8914152871341857,
          0.9122000538112298,
          0.6498066921507818,
          -0.00899612165220606,
          -0.5004526156800174,
          0.34729418384591637,
          0.15897743642567497,
          -0.21839432228170258,
          -0.49991139525442396,
          0.9610693389406737,
          0.5618914806405604,
          1.201558960930769,
          -0.2273238288028599,
          1.1138543091175164,
          -1.0868005540326964,
          -1.1715605560090836,
          0.9003730719574612,
          0.03682778941603213,
          -0.15459482647855446,
          0.7221015269889887,
          0.38583033388373106,
          0.6543951885091118,
          0.040095597861937025,
          0.17972487983609023,
          0.28158447514524965,
          1.8330586456748375,
          -1.4855936550488982,
          -0.1883376767633526,
          1.0024422321628312,
          -0.9234550503192078,
          -0.11575204468620277,
          -0.6234014385670065,
          0.9415011286362762,
          -1.0517190719433238,
          2.0515592254487953,
          -0.2580451508330001,
          -0.5150870104052806,
          0.09088235032580956,
          2.231352209037297,
          -0.15859836080583842,
          -0.9808380119046511,
          0.06323059919233626,
          -0.21106543250299467,
          -0.6576314663591996,
          0.09798213161331863,
          -0.24017783056310635,
          0.46385088321858264,
          0.256202641291782,
          1.5882261135642595,
          -0.49785387726708114,
          -2.996055335076067,
          1.0979391220131691,
          0.3627975014686308,
          -0.10786076072121988,
          0.0641227457433506,
          -0.5508234727964582,
          -0.4893642929797324,
          -0.01295655628743466,
          0.6364408498489723,
          -1.3445070194151048,
          -1.2060950265348032,
          -1.302017996699132,
          0.30575364739168376,
          1.1344522718513066,
          -0.40899495791668117,
          -0.1879338341978866,
          0.7701867136427122,
          -0.3142097601883405,
          0.3768390832801088,
          2.2322106533883845,
          -0.6105290427360885,
          0.12788746771461784,
          0.6964055162543205,
          1.188468028747178,
          -0.1983515900990588,
          -1.8987123602775557,
          -0.4467780747490587,
          -1.401342976649239,
          1.9570162473353976,
          -2.181136421012167,
          -1.1794166803130908,
          0.19599267454193595,
          0.7740325867092016,
          -1.0193643289430883,
          -0.023458044632571996,
          -1.7150708376874946,
          0.397417382762338,
          -0.7029977592823403,
          0.6311539886525172,
          -0.4145841586488041,
          -2.4197468703272453,
          -0.46942188535039864,
          0.5744298855541616,
          -0.29328939444327295,
          2.377437799872268,
          -1.7487701098601915,
          -0.7913451308489126,
          0.46738856275175306,
          -0.7480590074762296
         ]
        }
       ],
       "layout": {
        "legend": {
         "bgcolor": "#F5F6F9",
         "font": {
          "color": "#4D5663"
         }
        },
        "paper_bgcolor": "#F5F6F9",
        "plot_bgcolor": "#F5F6F9",
        "template": {
         "data": {
          "bar": [
           {
            "error_x": {
             "color": "#2a3f5f"
            },
            "error_y": {
             "color": "#2a3f5f"
            },
            "marker": {
             "line": {
              "color": "#E5ECF6",
              "width": 0.5
             }
            },
            "type": "bar"
           }
          ],
          "barpolar": [
           {
            "marker": {
             "line": {
              "color": "#E5ECF6",
              "width": 0.5
             }
            },
            "type": "barpolar"
           }
          ],
          "carpet": [
           {
            "aaxis": {
             "endlinecolor": "#2a3f5f",
             "gridcolor": "white",
             "linecolor": "white",
             "minorgridcolor": "white",
             "startlinecolor": "#2a3f5f"
            },
            "baxis": {
             "endlinecolor": "#2a3f5f",
             "gridcolor": "white",
             "linecolor": "white",
             "minorgridcolor": "white",
             "startlinecolor": "#2a3f5f"
            },
            "type": "carpet"
           }
          ],
          "choropleth": [
           {
            "colorbar": {
             "outlinewidth": 0,
             "ticks": ""
            },
            "type": "choropleth"
           }
          ],
          "contour": [
           {
            "colorbar": {
             "outlinewidth": 0,
             "ticks": ""
            },
            "colorscale": [
             [
              0,
              "#0d0887"
             ],
             [
              0.1111111111111111,
              "#46039f"
             ],
             [
              0.2222222222222222,
              "#7201a8"
             ],
             [
              0.3333333333333333,
              "#9c179e"
             ],
             [
              0.4444444444444444,
              "#bd3786"
             ],
             [
              0.5555555555555556,
              "#d8576b"
             ],
             [
              0.6666666666666666,
              "#ed7953"
             ],
             [
              0.7777777777777778,
              "#fb9f3a"
             ],
             [
              0.8888888888888888,
              "#fdca26"
             ],
             [
              1,
              "#f0f921"
             ]
            ],
            "type": "contour"
           }
          ],
          "contourcarpet": [
           {
            "colorbar": {
             "outlinewidth": 0,
             "ticks": ""
            },
            "type": "contourcarpet"
           }
          ],
          "heatmap": [
           {
            "colorbar": {
             "outlinewidth": 0,
             "ticks": ""
            },
            "colorscale": [
             [
              0,
              "#0d0887"
             ],
             [
              0.1111111111111111,
              "#46039f"
             ],
             [
              0.2222222222222222,
              "#7201a8"
             ],
             [
              0.3333333333333333,
              "#9c179e"
             ],
             [
              0.4444444444444444,
              "#bd3786"
             ],
             [
              0.5555555555555556,
              "#d8576b"
             ],
             [
              0.6666666666666666,
              "#ed7953"
             ],
             [
              0.7777777777777778,
              "#fb9f3a"
             ],
             [
              0.8888888888888888,
              "#fdca26"
             ],
             [
              1,
              "#f0f921"
             ]
            ],
            "type": "heatmap"
           }
          ],
          "heatmapgl": [
           {
            "colorbar": {
             "outlinewidth": 0,
             "ticks": ""
            },
            "colorscale": [
             [
              0,
              "#0d0887"
             ],
             [
              0.1111111111111111,
              "#46039f"
             ],
             [
              0.2222222222222222,
              "#7201a8"
             ],
             [
              0.3333333333333333,
              "#9c179e"
             ],
             [
              0.4444444444444444,
              "#bd3786"
             ],
             [
              0.5555555555555556,
              "#d8576b"
             ],
             [
              0.6666666666666666,
              "#ed7953"
             ],
             [
              0.7777777777777778,
              "#fb9f3a"
             ],
             [
              0.8888888888888888,
              "#fdca26"
             ],
             [
              1,
              "#f0f921"
             ]
            ],
            "type": "heatmapgl"
           }
          ],
          "histogram": [
           {
            "marker": {
             "colorbar": {
              "outlinewidth": 0,
              "ticks": ""
             }
            },
            "type": "histogram"
           }
          ],
          "histogram2d": [
           {
            "colorbar": {
             "outlinewidth": 0,
             "ticks": ""
            },
            "colorscale": [
             [
              0,
              "#0d0887"
             ],
             [
              0.1111111111111111,
              "#46039f"
             ],
             [
              0.2222222222222222,
              "#7201a8"
             ],
             [
              0.3333333333333333,
              "#9c179e"
             ],
             [
              0.4444444444444444,
              "#bd3786"
             ],
             [
              0.5555555555555556,
              "#d8576b"
             ],
             [
              0.6666666666666666,
              "#ed7953"
             ],
             [
              0.7777777777777778,
              "#fb9f3a"
             ],
             [
              0.8888888888888888,
              "#fdca26"
             ],
             [
              1,
              "#f0f921"
             ]
            ],
            "type": "histogram2d"
           }
          ],
          "histogram2dcontour": [
           {
            "colorbar": {
             "outlinewidth": 0,
             "ticks": ""
            },
            "colorscale": [
             [
              0,
              "#0d0887"
             ],
             [
              0.1111111111111111,
              "#46039f"
             ],
             [
              0.2222222222222222,
              "#7201a8"
             ],
             [
              0.3333333333333333,
              "#9c179e"
             ],
             [
              0.4444444444444444,
              "#bd3786"
             ],
             [
              0.5555555555555556,
              "#d8576b"
             ],
             [
              0.6666666666666666,
              "#ed7953"
             ],
             [
              0.7777777777777778,
              "#fb9f3a"
             ],
             [
              0.8888888888888888,
              "#fdca26"
             ],
             [
              1,
              "#f0f921"
             ]
            ],
            "type": "histogram2dcontour"
           }
          ],
          "mesh3d": [
           {
            "colorbar": {
             "outlinewidth": 0,
             "ticks": ""
            },
            "type": "mesh3d"
           }
          ],
          "parcoords": [
           {
            "line": {
             "colorbar": {
              "outlinewidth": 0,
              "ticks": ""
             }
            },
            "type": "parcoords"
           }
          ],
          "pie": [
           {
            "automargin": true,
            "type": "pie"
           }
          ],
          "scatter": [
           {
            "marker": {
             "colorbar": {
              "outlinewidth": 0,
              "ticks": ""
             }
            },
            "type": "scatter"
           }
          ],
          "scatter3d": [
           {
            "line": {
             "colorbar": {
              "outlinewidth": 0,
              "ticks": ""
             }
            },
            "marker": {
             "colorbar": {
              "outlinewidth": 0,
              "ticks": ""
             }
            },
            "type": "scatter3d"
           }
          ],
          "scattercarpet": [
           {
            "marker": {
             "colorbar": {
              "outlinewidth": 0,
              "ticks": ""
             }
            },
            "type": "scattercarpet"
           }
          ],
          "scattergeo": [
           {
            "marker": {
             "colorbar": {
              "outlinewidth": 0,
              "ticks": ""
             }
            },
            "type": "scattergeo"
           }
          ],
          "scattergl": [
           {
            "marker": {
             "colorbar": {
              "outlinewidth": 0,
              "ticks": ""
             }
            },
            "type": "scattergl"
           }
          ],
          "scattermapbox": [
           {
            "marker": {
             "colorbar": {
              "outlinewidth": 0,
              "ticks": ""
             }
            },
            "type": "scattermapbox"
           }
          ],
          "scatterpolar": [
           {
            "marker": {
             "colorbar": {
              "outlinewidth": 0,
              "ticks": ""
             }
            },
            "type": "scatterpolar"
           }
          ],
          "scatterpolargl": [
           {
            "marker": {
             "colorbar": {
              "outlinewidth": 0,
              "ticks": ""
             }
            },
            "type": "scatterpolargl"
           }
          ],
          "scatterternary": [
           {
            "marker": {
             "colorbar": {
              "outlinewidth": 0,
              "ticks": ""
             }
            },
            "type": "scatterternary"
           }
          ],
          "surface": [
           {
            "colorbar": {
             "outlinewidth": 0,
             "ticks": ""
            },
            "colorscale": [
             [
              0,
              "#0d0887"
             ],
             [
              0.1111111111111111,
              "#46039f"
             ],
             [
              0.2222222222222222,
              "#7201a8"
             ],
             [
              0.3333333333333333,
              "#9c179e"
             ],
             [
              0.4444444444444444,
              "#bd3786"
             ],
             [
              0.5555555555555556,
              "#d8576b"
             ],
             [
              0.6666666666666666,
              "#ed7953"
             ],
             [
              0.7777777777777778,
              "#fb9f3a"
             ],
             [
              0.8888888888888888,
              "#fdca26"
             ],
             [
              1,
              "#f0f921"
             ]
            ],
            "type": "surface"
           }
          ],
          "table": [
           {
            "cells": {
             "fill": {
              "color": "#EBF0F8"
             },
             "line": {
              "color": "white"
             }
            },
            "header": {
             "fill": {
              "color": "#C8D4E3"
             },
             "line": {
              "color": "white"
             }
            },
            "type": "table"
           }
          ]
         },
         "layout": {
          "annotationdefaults": {
           "arrowcolor": "#2a3f5f",
           "arrowhead": 0,
           "arrowwidth": 1
          },
          "coloraxis": {
           "colorbar": {
            "outlinewidth": 0,
            "ticks": ""
           }
          },
          "colorscale": {
           "diverging": [
            [
             0,
             "#8e0152"
            ],
            [
             0.1,
             "#c51b7d"
            ],
            [
             0.2,
             "#de77ae"
            ],
            [
             0.3,
             "#f1b6da"
            ],
            [
             0.4,
             "#fde0ef"
            ],
            [
             0.5,
             "#f7f7f7"
            ],
            [
             0.6,
             "#e6f5d0"
            ],
            [
             0.7,
             "#b8e186"
            ],
            [
             0.8,
             "#7fbc41"
            ],
            [
             0.9,
             "#4d9221"
            ],
            [
             1,
             "#276419"
            ]
           ],
           "sequential": [
            [
             0,
             "#0d0887"
            ],
            [
             0.1111111111111111,
             "#46039f"
            ],
            [
             0.2222222222222222,
             "#7201a8"
            ],
            [
             0.3333333333333333,
             "#9c179e"
            ],
            [
             0.4444444444444444,
             "#bd3786"
            ],
            [
             0.5555555555555556,
             "#d8576b"
            ],
            [
             0.6666666666666666,
             "#ed7953"
            ],
            [
             0.7777777777777778,
             "#fb9f3a"
            ],
            [
             0.8888888888888888,
             "#fdca26"
            ],
            [
             1,
             "#f0f921"
            ]
           ],
           "sequentialminus": [
            [
             0,
             "#0d0887"
            ],
            [
             0.1111111111111111,
             "#46039f"
            ],
            [
             0.2222222222222222,
             "#7201a8"
            ],
            [
             0.3333333333333333,
             "#9c179e"
            ],
            [
             0.4444444444444444,
             "#bd3786"
            ],
            [
             0.5555555555555556,
             "#d8576b"
            ],
            [
             0.6666666666666666,
             "#ed7953"
            ],
            [
             0.7777777777777778,
             "#fb9f3a"
            ],
            [
             0.8888888888888888,
             "#fdca26"
            ],
            [
             1,
             "#f0f921"
            ]
           ]
          },
          "colorway": [
           "#636efa",
           "#EF553B",
           "#00cc96",
           "#ab63fa",
           "#FFA15A",
           "#19d3f3",
           "#FF6692",
           "#B6E880",
           "#FF97FF",
           "#FECB52"
          ],
          "font": {
           "color": "#2a3f5f"
          },
          "geo": {
           "bgcolor": "white",
           "lakecolor": "white",
           "landcolor": "#E5ECF6",
           "showlakes": true,
           "showland": true,
           "subunitcolor": "white"
          },
          "hoverlabel": {
           "align": "left"
          },
          "hovermode": "closest",
          "mapbox": {
           "style": "light"
          },
          "paper_bgcolor": "white",
          "plot_bgcolor": "#E5ECF6",
          "polar": {
           "angularaxis": {
            "gridcolor": "white",
            "linecolor": "white",
            "ticks": ""
           },
           "bgcolor": "#E5ECF6",
           "radialaxis": {
            "gridcolor": "white",
            "linecolor": "white",
            "ticks": ""
           }
          },
          "scene": {
           "xaxis": {
            "backgroundcolor": "#E5ECF6",
            "gridcolor": "white",
            "gridwidth": 2,
            "linecolor": "white",
            "showbackground": true,
            "ticks": "",
            "zerolinecolor": "white"
           },
           "yaxis": {
            "backgroundcolor": "#E5ECF6",
            "gridcolor": "white",
            "gridwidth": 2,
            "linecolor": "white",
            "showbackground": true,
            "ticks": "",
            "zerolinecolor": "white"
           },
           "zaxis": {
            "backgroundcolor": "#E5ECF6",
            "gridcolor": "white",
            "gridwidth": 2,
            "linecolor": "white",
            "showbackground": true,
            "ticks": "",
            "zerolinecolor": "white"
           }
          },
          "shapedefaults": {
           "line": {
            "color": "#2a3f5f"
           }
          },
          "ternary": {
           "aaxis": {
            "gridcolor": "white",
            "linecolor": "white",
            "ticks": ""
           },
           "baxis": {
            "gridcolor": "white",
            "linecolor": "white",
            "ticks": ""
           },
           "bgcolor": "#E5ECF6",
           "caxis": {
            "gridcolor": "white",
            "linecolor": "white",
            "ticks": ""
           }
          },
          "title": {
           "x": 0.05
          },
          "xaxis": {
           "automargin": true,
           "gridcolor": "white",
           "linecolor": "white",
           "ticks": "",
           "title": {
            "standoff": 15
           },
           "zerolinecolor": "white",
           "zerolinewidth": 2
          },
          "yaxis": {
           "automargin": true,
           "gridcolor": "white",
           "linecolor": "white",
           "ticks": "",
           "title": {
            "standoff": 15
           },
           "zerolinecolor": "white",
           "zerolinewidth": 2
          }
         }
        },
        "title": {
         "font": {
          "color": "#4D5663"
         }
        },
        "xaxis": {
         "gridcolor": "#E1E5ED",
         "showgrid": true,
         "tickfont": {
          "color": "#4D5663"
         },
         "title": {
          "font": {
           "color": "#4D5663"
          },
          "text": ""
         },
         "zerolinecolor": "#E1E5ED"
        },
        "yaxis": {
         "gridcolor": "#E1E5ED",
         "showgrid": true,
         "tickfont": {
          "color": "#4D5663"
         },
         "title": {
          "font": {
           "color": "#4D5663"
          },
          "text": ""
         },
         "zerolinecolor": "#E1E5ED"
        }
       }
      },
      "text/html": [
       "<div>\n",
       "        \n",
       "        \n",
       "            <div id=\"d392011a-5645-4af2-93ab-13a95f8d99a9\" class=\"plotly-graph-div\" style=\"height:525px; width:100%;\"></div>\n",
       "            <script type=\"text/javascript\">\n",
       "                require([\"plotly\"], function(Plotly) {\n",
       "                    window.PLOTLYENV=window.PLOTLYENV || {};\n",
       "                    window.PLOTLYENV.BASE_URL='https://plot.ly';\n",
       "                    \n",
       "                if (document.getElementById(\"d392011a-5645-4af2-93ab-13a95f8d99a9\")) {\n",
       "                    Plotly.newPlot(\n",
       "                        'd392011a-5645-4af2-93ab-13a95f8d99a9',\n",
       "                        [{\"line\": {\"color\": \"rgba(255, 153, 51, 1.0)\", \"dash\": \"solid\", \"shape\": \"linear\", \"width\": 1.3}, \"marker\": {\"size\": 10, \"symbol\": \"circle\"}, \"mode\": \"markers\", \"name\": \"B\", \"text\": \"\", \"type\": \"scatter\", \"x\": [-0.6889956521739307, -0.10998876634393508, 0.09699922766269028, -0.8808256190850161, 2.2172396213269425, -0.5181556954513972, 0.044220521243459814, -0.6182983871486031, 0.5035632820391117, -1.9735185015594627, -1.1226476322836956, -0.033709732199987, -0.47506049831864783, 0.4062401342415919, -0.8298431157254298, 0.6484928745668593, -0.8484283621195674, -0.11478932596098841, 0.4156464856047231, -1.2044313934808315, -0.7377218812849837, -0.3530399705530779, -1.2354471686035418, 1.415323768152012, 0.03667147351896974, 1.3757424357499963, -0.6204186792444727, 0.32246037711615533, 0.7176758702542765, -0.08952871392329798, -1.9115942832046897, 0.6464809271333035, 0.25280282897385653, -0.3030241591898929, 0.13348160896768804, 1.7778329413926857, -0.2706982328639064, 0.174223288645667, -0.6443864622112773, 0.05767854227106527, 0.9359769594187413, -0.2108110112579468, 0.7232976098150298, 0.13782196537317143, 0.1965086400798674, -0.35595137558340306, 0.19120368500211257, 1.190555681945383, 0.29840087375121377, 1.709979954740142, -2.448437868821938, 0.23410079150844357, 0.433512903693733, 1.9187512221029763, 0.34796679107170425, 0.28328638799105765, 0.44287235575880485, -0.7266976761259687, 0.3816684048555259, -0.8004660246613597, -0.06094814916289371, -0.48342674827606424, 0.8255274909549741, -0.10068957109932336, -2.172269351419027, -0.7422295876820347, -1.235546393094691, -1.2995927217470409, -0.684511063368568, 0.9958837433328543, -3.1991579221704414, 1.1793687045818502, -0.319124939743108, 0.8491143895203022, -1.1359643999435747, -0.5865615969649363, -0.19172108517410447, -0.30362087781243813, -0.03695050115199503, 0.9785928191618193, 2.0128678073383885, 0.5639780665112403, -1.7990312710673546, -1.114647156508601, 0.2947390593870421, 0.3690855749682276, 0.25285277904826237, 2.1287882496107553, 0.08504298776070535, 0.2704915897148827, -1.039195748914558, 0.5889777880510121, 0.9996470311558219, 0.9065031222001652, -0.7944687044530946, -0.4705706405607836, -0.07239019799691816, 0.017726005413281606, -1.640842578699129, -0.9970442281743205], \"y\": [-1.2073839278312855, -0.8914152871341857, 0.9122000538112298, 0.6498066921507818, -0.00899612165220606, -0.5004526156800174, 0.34729418384591637, 0.15897743642567497, -0.21839432228170258, -0.49991139525442396, 0.9610693389406737, 0.5618914806405604, 1.201558960930769, -0.2273238288028599, 1.1138543091175164, -1.0868005540326964, -1.1715605560090836, 0.9003730719574612, 0.03682778941603213, -0.15459482647855446, 0.7221015269889887, 0.38583033388373106, 0.6543951885091118, 0.040095597861937025, 0.17972487983609023, 0.28158447514524965, 1.8330586456748375, -1.4855936550488982, -0.1883376767633526, 1.0024422321628312, -0.9234550503192078, -0.11575204468620277, -0.6234014385670065, 0.9415011286362762, -1.0517190719433238, 2.0515592254487953, -0.2580451508330001, -0.5150870104052806, 0.09088235032580956, 2.231352209037297, -0.15859836080583842, -0.9808380119046511, 0.06323059919233626, -0.21106543250299467, -0.6576314663591996, 0.09798213161331863, -0.24017783056310635, 0.46385088321858264, 0.256202641291782, 1.5882261135642595, -0.49785387726708114, -2.996055335076067, 1.0979391220131691, 0.3627975014686308, -0.10786076072121988, 0.0641227457433506, -0.5508234727964582, -0.4893642929797324, -0.01295655628743466, 0.6364408498489723, -1.3445070194151048, -1.2060950265348032, -1.302017996699132, 0.30575364739168376, 1.1344522718513066, -0.40899495791668117, -0.1879338341978866, 0.7701867136427122, -0.3142097601883405, 0.3768390832801088, 2.2322106533883845, -0.6105290427360885, 0.12788746771461784, 0.6964055162543205, 1.188468028747178, -0.1983515900990588, -1.8987123602775557, -0.4467780747490587, -1.401342976649239, 1.9570162473353976, -2.181136421012167, -1.1794166803130908, 0.19599267454193595, 0.7740325867092016, -1.0193643289430883, -0.023458044632571996, -1.7150708376874946, 0.397417382762338, -0.7029977592823403, 0.6311539886525172, -0.4145841586488041, -2.4197468703272453, -0.46942188535039864, 0.5744298855541616, -0.29328939444327295, 2.377437799872268, -1.7487701098601915, -0.7913451308489126, 0.46738856275175306, -0.7480590074762296]}],\n",
       "                        {\"legend\": {\"bgcolor\": \"#F5F6F9\", \"font\": {\"color\": \"#4D5663\"}}, \"paper_bgcolor\": \"#F5F6F9\", \"plot_bgcolor\": \"#F5F6F9\", \"template\": {\"data\": {\"bar\": [{\"error_x\": {\"color\": \"#2a3f5f\"}, \"error_y\": {\"color\": \"#2a3f5f\"}, \"marker\": {\"line\": {\"color\": \"#E5ECF6\", \"width\": 0.5}}, \"type\": \"bar\"}], \"barpolar\": [{\"marker\": {\"line\": {\"color\": \"#E5ECF6\", \"width\": 0.5}}, \"type\": \"barpolar\"}], \"carpet\": [{\"aaxis\": {\"endlinecolor\": \"#2a3f5f\", \"gridcolor\": \"white\", \"linecolor\": \"white\", \"minorgridcolor\": \"white\", \"startlinecolor\": \"#2a3f5f\"}, \"baxis\": {\"endlinecolor\": \"#2a3f5f\", \"gridcolor\": \"white\", \"linecolor\": \"white\", \"minorgridcolor\": \"white\", \"startlinecolor\": \"#2a3f5f\"}, \"type\": \"carpet\"}], \"choropleth\": [{\"colorbar\": {\"outlinewidth\": 0, \"ticks\": \"\"}, \"type\": \"choropleth\"}], \"contour\": [{\"colorbar\": {\"outlinewidth\": 0, \"ticks\": \"\"}, \"colorscale\": [[0.0, \"#0d0887\"], [0.1111111111111111, \"#46039f\"], [0.2222222222222222, \"#7201a8\"], [0.3333333333333333, \"#9c179e\"], [0.4444444444444444, \"#bd3786\"], [0.5555555555555556, \"#d8576b\"], [0.6666666666666666, \"#ed7953\"], [0.7777777777777778, \"#fb9f3a\"], [0.8888888888888888, \"#fdca26\"], [1.0, \"#f0f921\"]], \"type\": \"contour\"}], \"contourcarpet\": [{\"colorbar\": {\"outlinewidth\": 0, \"ticks\": \"\"}, \"type\": \"contourcarpet\"}], \"heatmap\": [{\"colorbar\": {\"outlinewidth\": 0, \"ticks\": \"\"}, \"colorscale\": [[0.0, \"#0d0887\"], [0.1111111111111111, \"#46039f\"], [0.2222222222222222, \"#7201a8\"], [0.3333333333333333, \"#9c179e\"], [0.4444444444444444, \"#bd3786\"], [0.5555555555555556, \"#d8576b\"], [0.6666666666666666, \"#ed7953\"], [0.7777777777777778, \"#fb9f3a\"], [0.8888888888888888, \"#fdca26\"], [1.0, \"#f0f921\"]], \"type\": \"heatmap\"}], \"heatmapgl\": [{\"colorbar\": {\"outlinewidth\": 0, \"ticks\": \"\"}, \"colorscale\": [[0.0, \"#0d0887\"], [0.1111111111111111, \"#46039f\"], [0.2222222222222222, \"#7201a8\"], [0.3333333333333333, \"#9c179e\"], [0.4444444444444444, \"#bd3786\"], [0.5555555555555556, \"#d8576b\"], [0.6666666666666666, \"#ed7953\"], [0.7777777777777778, \"#fb9f3a\"], [0.8888888888888888, \"#fdca26\"], [1.0, \"#f0f921\"]], \"type\": \"heatmapgl\"}], \"histogram\": [{\"marker\": {\"colorbar\": {\"outlinewidth\": 0, \"ticks\": \"\"}}, \"type\": \"histogram\"}], \"histogram2d\": [{\"colorbar\": {\"outlinewidth\": 0, \"ticks\": \"\"}, \"colorscale\": [[0.0, \"#0d0887\"], [0.1111111111111111, \"#46039f\"], [0.2222222222222222, \"#7201a8\"], [0.3333333333333333, \"#9c179e\"], [0.4444444444444444, \"#bd3786\"], [0.5555555555555556, \"#d8576b\"], [0.6666666666666666, \"#ed7953\"], [0.7777777777777778, \"#fb9f3a\"], [0.8888888888888888, \"#fdca26\"], [1.0, \"#f0f921\"]], \"type\": \"histogram2d\"}], \"histogram2dcontour\": [{\"colorbar\": {\"outlinewidth\": 0, \"ticks\": \"\"}, \"colorscale\": [[0.0, \"#0d0887\"], [0.1111111111111111, \"#46039f\"], [0.2222222222222222, \"#7201a8\"], [0.3333333333333333, \"#9c179e\"], [0.4444444444444444, \"#bd3786\"], [0.5555555555555556, \"#d8576b\"], [0.6666666666666666, \"#ed7953\"], [0.7777777777777778, \"#fb9f3a\"], [0.8888888888888888, \"#fdca26\"], [1.0, \"#f0f921\"]], \"type\": \"histogram2dcontour\"}], \"mesh3d\": [{\"colorbar\": {\"outlinewidth\": 0, \"ticks\": \"\"}, \"type\": \"mesh3d\"}], \"parcoords\": [{\"line\": {\"colorbar\": {\"outlinewidth\": 0, \"ticks\": \"\"}}, \"type\": \"parcoords\"}], \"pie\": [{\"automargin\": true, \"type\": \"pie\"}], \"scatter\": [{\"marker\": {\"colorbar\": {\"outlinewidth\": 0, \"ticks\": \"\"}}, \"type\": \"scatter\"}], \"scatter3d\": [{\"line\": {\"colorbar\": {\"outlinewidth\": 0, \"ticks\": \"\"}}, \"marker\": {\"colorbar\": {\"outlinewidth\": 0, \"ticks\": \"\"}}, \"type\": \"scatter3d\"}], \"scattercarpet\": [{\"marker\": {\"colorbar\": {\"outlinewidth\": 0, \"ticks\": \"\"}}, \"type\": \"scattercarpet\"}], \"scattergeo\": [{\"marker\": {\"colorbar\": {\"outlinewidth\": 0, \"ticks\": \"\"}}, \"type\": \"scattergeo\"}], \"scattergl\": [{\"marker\": {\"colorbar\": {\"outlinewidth\": 0, \"ticks\": \"\"}}, \"type\": \"scattergl\"}], \"scattermapbox\": [{\"marker\": {\"colorbar\": {\"outlinewidth\": 0, \"ticks\": \"\"}}, \"type\": \"scattermapbox\"}], \"scatterpolar\": [{\"marker\": {\"colorbar\": {\"outlinewidth\": 0, \"ticks\": \"\"}}, \"type\": \"scatterpolar\"}], \"scatterpolargl\": [{\"marker\": {\"colorbar\": {\"outlinewidth\": 0, \"ticks\": \"\"}}, \"type\": \"scatterpolargl\"}], \"scatterternary\": [{\"marker\": {\"colorbar\": {\"outlinewidth\": 0, \"ticks\": \"\"}}, \"type\": \"scatterternary\"}], \"surface\": [{\"colorbar\": {\"outlinewidth\": 0, \"ticks\": \"\"}, \"colorscale\": [[0.0, \"#0d0887\"], [0.1111111111111111, \"#46039f\"], [0.2222222222222222, \"#7201a8\"], [0.3333333333333333, \"#9c179e\"], [0.4444444444444444, \"#bd3786\"], [0.5555555555555556, \"#d8576b\"], [0.6666666666666666, \"#ed7953\"], [0.7777777777777778, \"#fb9f3a\"], [0.8888888888888888, \"#fdca26\"], [1.0, \"#f0f921\"]], \"type\": \"surface\"}], \"table\": [{\"cells\": {\"fill\": {\"color\": \"#EBF0F8\"}, \"line\": {\"color\": \"white\"}}, \"header\": {\"fill\": {\"color\": \"#C8D4E3\"}, \"line\": {\"color\": \"white\"}}, \"type\": \"table\"}]}, \"layout\": {\"annotationdefaults\": {\"arrowcolor\": \"#2a3f5f\", \"arrowhead\": 0, \"arrowwidth\": 1}, \"coloraxis\": {\"colorbar\": {\"outlinewidth\": 0, \"ticks\": \"\"}}, \"colorscale\": {\"diverging\": [[0, \"#8e0152\"], [0.1, \"#c51b7d\"], [0.2, \"#de77ae\"], [0.3, \"#f1b6da\"], [0.4, \"#fde0ef\"], [0.5, \"#f7f7f7\"], [0.6, \"#e6f5d0\"], [0.7, \"#b8e186\"], [0.8, \"#7fbc41\"], [0.9, \"#4d9221\"], [1, \"#276419\"]], \"sequential\": [[0.0, \"#0d0887\"], [0.1111111111111111, \"#46039f\"], [0.2222222222222222, \"#7201a8\"], [0.3333333333333333, \"#9c179e\"], [0.4444444444444444, \"#bd3786\"], [0.5555555555555556, \"#d8576b\"], [0.6666666666666666, \"#ed7953\"], [0.7777777777777778, \"#fb9f3a\"], [0.8888888888888888, \"#fdca26\"], [1.0, \"#f0f921\"]], \"sequentialminus\": [[0.0, \"#0d0887\"], [0.1111111111111111, \"#46039f\"], [0.2222222222222222, \"#7201a8\"], [0.3333333333333333, \"#9c179e\"], [0.4444444444444444, \"#bd3786\"], [0.5555555555555556, \"#d8576b\"], [0.6666666666666666, \"#ed7953\"], [0.7777777777777778, \"#fb9f3a\"], [0.8888888888888888, \"#fdca26\"], [1.0, \"#f0f921\"]]}, \"colorway\": [\"#636efa\", \"#EF553B\", \"#00cc96\", \"#ab63fa\", \"#FFA15A\", \"#19d3f3\", \"#FF6692\", \"#B6E880\", \"#FF97FF\", \"#FECB52\"], \"font\": {\"color\": \"#2a3f5f\"}, \"geo\": {\"bgcolor\": \"white\", \"lakecolor\": \"white\", \"landcolor\": \"#E5ECF6\", \"showlakes\": true, \"showland\": true, \"subunitcolor\": \"white\"}, \"hoverlabel\": {\"align\": \"left\"}, \"hovermode\": \"closest\", \"mapbox\": {\"style\": \"light\"}, \"paper_bgcolor\": \"white\", \"plot_bgcolor\": \"#E5ECF6\", \"polar\": {\"angularaxis\": {\"gridcolor\": \"white\", \"linecolor\": \"white\", \"ticks\": \"\"}, \"bgcolor\": \"#E5ECF6\", \"radialaxis\": {\"gridcolor\": \"white\", \"linecolor\": \"white\", \"ticks\": \"\"}}, \"scene\": {\"xaxis\": {\"backgroundcolor\": \"#E5ECF6\", \"gridcolor\": \"white\", \"gridwidth\": 2, \"linecolor\": \"white\", \"showbackground\": true, \"ticks\": \"\", \"zerolinecolor\": \"white\"}, \"yaxis\": {\"backgroundcolor\": \"#E5ECF6\", \"gridcolor\": \"white\", \"gridwidth\": 2, \"linecolor\": \"white\", \"showbackground\": true, \"ticks\": \"\", \"zerolinecolor\": \"white\"}, \"zaxis\": {\"backgroundcolor\": \"#E5ECF6\", \"gridcolor\": \"white\", \"gridwidth\": 2, \"linecolor\": \"white\", \"showbackground\": true, \"ticks\": \"\", \"zerolinecolor\": \"white\"}}, \"shapedefaults\": {\"line\": {\"color\": \"#2a3f5f\"}}, \"ternary\": {\"aaxis\": {\"gridcolor\": \"white\", \"linecolor\": \"white\", \"ticks\": \"\"}, \"baxis\": {\"gridcolor\": \"white\", \"linecolor\": \"white\", \"ticks\": \"\"}, \"bgcolor\": \"#E5ECF6\", \"caxis\": {\"gridcolor\": \"white\", \"linecolor\": \"white\", \"ticks\": \"\"}}, \"title\": {\"x\": 0.05}, \"xaxis\": {\"automargin\": true, \"gridcolor\": \"white\", \"linecolor\": \"white\", \"ticks\": \"\", \"title\": {\"standoff\": 15}, \"zerolinecolor\": \"white\", \"zerolinewidth\": 2}, \"yaxis\": {\"automargin\": true, \"gridcolor\": \"white\", \"linecolor\": \"white\", \"ticks\": \"\", \"title\": {\"standoff\": 15}, \"zerolinecolor\": \"white\", \"zerolinewidth\": 2}}}, \"title\": {\"font\": {\"color\": \"#4D5663\"}}, \"xaxis\": {\"gridcolor\": \"#E1E5ED\", \"showgrid\": true, \"tickfont\": {\"color\": \"#4D5663\"}, \"title\": {\"font\": {\"color\": \"#4D5663\"}, \"text\": \"\"}, \"zerolinecolor\": \"#E1E5ED\"}, \"yaxis\": {\"gridcolor\": \"#E1E5ED\", \"showgrid\": true, \"tickfont\": {\"color\": \"#4D5663\"}, \"title\": {\"font\": {\"color\": \"#4D5663\"}, \"text\": \"\"}, \"zerolinecolor\": \"#E1E5ED\"}},\n",
       "                        {\"showLink\": true, \"linkText\": \"Export to plot.ly\", \"plotlyServerURL\": \"https://plot.ly\", \"responsive\": true}\n",
       "                    ).then(function(){\n",
       "                            \n",
       "var gd = document.getElementById('d392011a-5645-4af2-93ab-13a95f8d99a9');\n",
       "var x = new MutationObserver(function (mutations, observer) {{\n",
       "        var display = window.getComputedStyle(gd).display;\n",
       "        if (!display || display === 'none') {{\n",
       "            console.log([gd, 'removed!']);\n",
       "            Plotly.purge(gd);\n",
       "            observer.disconnect();\n",
       "        }}\n",
       "}});\n",
       "\n",
       "// Listen for the removal of the full notebook cells\n",
       "var notebookContainer = gd.closest('#notebook-container');\n",
       "if (notebookContainer) {{\n",
       "    x.observe(notebookContainer, {childList: true});\n",
       "}}\n",
       "\n",
       "// Listen for the clearing of the current output cell\n",
       "var outputEl = gd.closest('.output');\n",
       "if (outputEl) {{\n",
       "    x.observe(outputEl, {childList: true});\n",
       "}}\n",
       "\n",
       "                        })\n",
       "                };\n",
       "                });\n",
       "            </script>\n",
       "        </div>"
      ]
     },
     "metadata": {},
     "output_type": "display_data"
    }
   ],
   "source": [
    "df.iplot(kind='scatter',x='A',y='B',mode='markers',size=10)"
   ]
  },
  {
   "cell_type": "markdown",
   "metadata": {},
   "source": [
    "## Bar Plots"
   ]
  },
  {
   "cell_type": "code",
   "execution_count": 12,
   "metadata": {},
   "outputs": [
    {
     "data": {
      "application/vnd.plotly.v1+json": {
       "config": {
        "linkText": "Export to plot.ly",
        "plotlyServerURL": "https://plot.ly",
        "showLink": true
       },
       "data": [
        {
         "marker": {
          "color": "rgba(255, 153, 51, 0.6)",
          "line": {
           "color": "rgba(255, 153, 51, 1.0)",
           "width": 1
          }
         },
         "name": "Values",
         "orientation": "v",
         "text": "",
         "type": "bar",
         "x": [
          "A",
          "B",
          "C"
         ],
         "y": [
          32,
          43,
          50
         ]
        }
       ],
       "layout": {
        "legend": {
         "bgcolor": "#F5F6F9",
         "font": {
          "color": "#4D5663"
         }
        },
        "paper_bgcolor": "#F5F6F9",
        "plot_bgcolor": "#F5F6F9",
        "template": {
         "data": {
          "bar": [
           {
            "error_x": {
             "color": "#2a3f5f"
            },
            "error_y": {
             "color": "#2a3f5f"
            },
            "marker": {
             "line": {
              "color": "#E5ECF6",
              "width": 0.5
             }
            },
            "type": "bar"
           }
          ],
          "barpolar": [
           {
            "marker": {
             "line": {
              "color": "#E5ECF6",
              "width": 0.5
             }
            },
            "type": "barpolar"
           }
          ],
          "carpet": [
           {
            "aaxis": {
             "endlinecolor": "#2a3f5f",
             "gridcolor": "white",
             "linecolor": "white",
             "minorgridcolor": "white",
             "startlinecolor": "#2a3f5f"
            },
            "baxis": {
             "endlinecolor": "#2a3f5f",
             "gridcolor": "white",
             "linecolor": "white",
             "minorgridcolor": "white",
             "startlinecolor": "#2a3f5f"
            },
            "type": "carpet"
           }
          ],
          "choropleth": [
           {
            "colorbar": {
             "outlinewidth": 0,
             "ticks": ""
            },
            "type": "choropleth"
           }
          ],
          "contour": [
           {
            "colorbar": {
             "outlinewidth": 0,
             "ticks": ""
            },
            "colorscale": [
             [
              0,
              "#0d0887"
             ],
             [
              0.1111111111111111,
              "#46039f"
             ],
             [
              0.2222222222222222,
              "#7201a8"
             ],
             [
              0.3333333333333333,
              "#9c179e"
             ],
             [
              0.4444444444444444,
              "#bd3786"
             ],
             [
              0.5555555555555556,
              "#d8576b"
             ],
             [
              0.6666666666666666,
              "#ed7953"
             ],
             [
              0.7777777777777778,
              "#fb9f3a"
             ],
             [
              0.8888888888888888,
              "#fdca26"
             ],
             [
              1,
              "#f0f921"
             ]
            ],
            "type": "contour"
           }
          ],
          "contourcarpet": [
           {
            "colorbar": {
             "outlinewidth": 0,
             "ticks": ""
            },
            "type": "contourcarpet"
           }
          ],
          "heatmap": [
           {
            "colorbar": {
             "outlinewidth": 0,
             "ticks": ""
            },
            "colorscale": [
             [
              0,
              "#0d0887"
             ],
             [
              0.1111111111111111,
              "#46039f"
             ],
             [
              0.2222222222222222,
              "#7201a8"
             ],
             [
              0.3333333333333333,
              "#9c179e"
             ],
             [
              0.4444444444444444,
              "#bd3786"
             ],
             [
              0.5555555555555556,
              "#d8576b"
             ],
             [
              0.6666666666666666,
              "#ed7953"
             ],
             [
              0.7777777777777778,
              "#fb9f3a"
             ],
             [
              0.8888888888888888,
              "#fdca26"
             ],
             [
              1,
              "#f0f921"
             ]
            ],
            "type": "heatmap"
           }
          ],
          "heatmapgl": [
           {
            "colorbar": {
             "outlinewidth": 0,
             "ticks": ""
            },
            "colorscale": [
             [
              0,
              "#0d0887"
             ],
             [
              0.1111111111111111,
              "#46039f"
             ],
             [
              0.2222222222222222,
              "#7201a8"
             ],
             [
              0.3333333333333333,
              "#9c179e"
             ],
             [
              0.4444444444444444,
              "#bd3786"
             ],
             [
              0.5555555555555556,
              "#d8576b"
             ],
             [
              0.6666666666666666,
              "#ed7953"
             ],
             [
              0.7777777777777778,
              "#fb9f3a"
             ],
             [
              0.8888888888888888,
              "#fdca26"
             ],
             [
              1,
              "#f0f921"
             ]
            ],
            "type": "heatmapgl"
           }
          ],
          "histogram": [
           {
            "marker": {
             "colorbar": {
              "outlinewidth": 0,
              "ticks": ""
             }
            },
            "type": "histogram"
           }
          ],
          "histogram2d": [
           {
            "colorbar": {
             "outlinewidth": 0,
             "ticks": ""
            },
            "colorscale": [
             [
              0,
              "#0d0887"
             ],
             [
              0.1111111111111111,
              "#46039f"
             ],
             [
              0.2222222222222222,
              "#7201a8"
             ],
             [
              0.3333333333333333,
              "#9c179e"
             ],
             [
              0.4444444444444444,
              "#bd3786"
             ],
             [
              0.5555555555555556,
              "#d8576b"
             ],
             [
              0.6666666666666666,
              "#ed7953"
             ],
             [
              0.7777777777777778,
              "#fb9f3a"
             ],
             [
              0.8888888888888888,
              "#fdca26"
             ],
             [
              1,
              "#f0f921"
             ]
            ],
            "type": "histogram2d"
           }
          ],
          "histogram2dcontour": [
           {
            "colorbar": {
             "outlinewidth": 0,
             "ticks": ""
            },
            "colorscale": [
             [
              0,
              "#0d0887"
             ],
             [
              0.1111111111111111,
              "#46039f"
             ],
             [
              0.2222222222222222,
              "#7201a8"
             ],
             [
              0.3333333333333333,
              "#9c179e"
             ],
             [
              0.4444444444444444,
              "#bd3786"
             ],
             [
              0.5555555555555556,
              "#d8576b"
             ],
             [
              0.6666666666666666,
              "#ed7953"
             ],
             [
              0.7777777777777778,
              "#fb9f3a"
             ],
             [
              0.8888888888888888,
              "#fdca26"
             ],
             [
              1,
              "#f0f921"
             ]
            ],
            "type": "histogram2dcontour"
           }
          ],
          "mesh3d": [
           {
            "colorbar": {
             "outlinewidth": 0,
             "ticks": ""
            },
            "type": "mesh3d"
           }
          ],
          "parcoords": [
           {
            "line": {
             "colorbar": {
              "outlinewidth": 0,
              "ticks": ""
             }
            },
            "type": "parcoords"
           }
          ],
          "pie": [
           {
            "automargin": true,
            "type": "pie"
           }
          ],
          "scatter": [
           {
            "marker": {
             "colorbar": {
              "outlinewidth": 0,
              "ticks": ""
             }
            },
            "type": "scatter"
           }
          ],
          "scatter3d": [
           {
            "line": {
             "colorbar": {
              "outlinewidth": 0,
              "ticks": ""
             }
            },
            "marker": {
             "colorbar": {
              "outlinewidth": 0,
              "ticks": ""
             }
            },
            "type": "scatter3d"
           }
          ],
          "scattercarpet": [
           {
            "marker": {
             "colorbar": {
              "outlinewidth": 0,
              "ticks": ""
             }
            },
            "type": "scattercarpet"
           }
          ],
          "scattergeo": [
           {
            "marker": {
             "colorbar": {
              "outlinewidth": 0,
              "ticks": ""
             }
            },
            "type": "scattergeo"
           }
          ],
          "scattergl": [
           {
            "marker": {
             "colorbar": {
              "outlinewidth": 0,
              "ticks": ""
             }
            },
            "type": "scattergl"
           }
          ],
          "scattermapbox": [
           {
            "marker": {
             "colorbar": {
              "outlinewidth": 0,
              "ticks": ""
             }
            },
            "type": "scattermapbox"
           }
          ],
          "scatterpolar": [
           {
            "marker": {
             "colorbar": {
              "outlinewidth": 0,
              "ticks": ""
             }
            },
            "type": "scatterpolar"
           }
          ],
          "scatterpolargl": [
           {
            "marker": {
             "colorbar": {
              "outlinewidth": 0,
              "ticks": ""
             }
            },
            "type": "scatterpolargl"
           }
          ],
          "scatterternary": [
           {
            "marker": {
             "colorbar": {
              "outlinewidth": 0,
              "ticks": ""
             }
            },
            "type": "scatterternary"
           }
          ],
          "surface": [
           {
            "colorbar": {
             "outlinewidth": 0,
             "ticks": ""
            },
            "colorscale": [
             [
              0,
              "#0d0887"
             ],
             [
              0.1111111111111111,
              "#46039f"
             ],
             [
              0.2222222222222222,
              "#7201a8"
             ],
             [
              0.3333333333333333,
              "#9c179e"
             ],
             [
              0.4444444444444444,
              "#bd3786"
             ],
             [
              0.5555555555555556,
              "#d8576b"
             ],
             [
              0.6666666666666666,
              "#ed7953"
             ],
             [
              0.7777777777777778,
              "#fb9f3a"
             ],
             [
              0.8888888888888888,
              "#fdca26"
             ],
             [
              1,
              "#f0f921"
             ]
            ],
            "type": "surface"
           }
          ],
          "table": [
           {
            "cells": {
             "fill": {
              "color": "#EBF0F8"
             },
             "line": {
              "color": "white"
             }
            },
            "header": {
             "fill": {
              "color": "#C8D4E3"
             },
             "line": {
              "color": "white"
             }
            },
            "type": "table"
           }
          ]
         },
         "layout": {
          "annotationdefaults": {
           "arrowcolor": "#2a3f5f",
           "arrowhead": 0,
           "arrowwidth": 1
          },
          "coloraxis": {
           "colorbar": {
            "outlinewidth": 0,
            "ticks": ""
           }
          },
          "colorscale": {
           "diverging": [
            [
             0,
             "#8e0152"
            ],
            [
             0.1,
             "#c51b7d"
            ],
            [
             0.2,
             "#de77ae"
            ],
            [
             0.3,
             "#f1b6da"
            ],
            [
             0.4,
             "#fde0ef"
            ],
            [
             0.5,
             "#f7f7f7"
            ],
            [
             0.6,
             "#e6f5d0"
            ],
            [
             0.7,
             "#b8e186"
            ],
            [
             0.8,
             "#7fbc41"
            ],
            [
             0.9,
             "#4d9221"
            ],
            [
             1,
             "#276419"
            ]
           ],
           "sequential": [
            [
             0,
             "#0d0887"
            ],
            [
             0.1111111111111111,
             "#46039f"
            ],
            [
             0.2222222222222222,
             "#7201a8"
            ],
            [
             0.3333333333333333,
             "#9c179e"
            ],
            [
             0.4444444444444444,
             "#bd3786"
            ],
            [
             0.5555555555555556,
             "#d8576b"
            ],
            [
             0.6666666666666666,
             "#ed7953"
            ],
            [
             0.7777777777777778,
             "#fb9f3a"
            ],
            [
             0.8888888888888888,
             "#fdca26"
            ],
            [
             1,
             "#f0f921"
            ]
           ],
           "sequentialminus": [
            [
             0,
             "#0d0887"
            ],
            [
             0.1111111111111111,
             "#46039f"
            ],
            [
             0.2222222222222222,
             "#7201a8"
            ],
            [
             0.3333333333333333,
             "#9c179e"
            ],
            [
             0.4444444444444444,
             "#bd3786"
            ],
            [
             0.5555555555555556,
             "#d8576b"
            ],
            [
             0.6666666666666666,
             "#ed7953"
            ],
            [
             0.7777777777777778,
             "#fb9f3a"
            ],
            [
             0.8888888888888888,
             "#fdca26"
            ],
            [
             1,
             "#f0f921"
            ]
           ]
          },
          "colorway": [
           "#636efa",
           "#EF553B",
           "#00cc96",
           "#ab63fa",
           "#FFA15A",
           "#19d3f3",
           "#FF6692",
           "#B6E880",
           "#FF97FF",
           "#FECB52"
          ],
          "font": {
           "color": "#2a3f5f"
          },
          "geo": {
           "bgcolor": "white",
           "lakecolor": "white",
           "landcolor": "#E5ECF6",
           "showlakes": true,
           "showland": true,
           "subunitcolor": "white"
          },
          "hoverlabel": {
           "align": "left"
          },
          "hovermode": "closest",
          "mapbox": {
           "style": "light"
          },
          "paper_bgcolor": "white",
          "plot_bgcolor": "#E5ECF6",
          "polar": {
           "angularaxis": {
            "gridcolor": "white",
            "linecolor": "white",
            "ticks": ""
           },
           "bgcolor": "#E5ECF6",
           "radialaxis": {
            "gridcolor": "white",
            "linecolor": "white",
            "ticks": ""
           }
          },
          "scene": {
           "xaxis": {
            "backgroundcolor": "#E5ECF6",
            "gridcolor": "white",
            "gridwidth": 2,
            "linecolor": "white",
            "showbackground": true,
            "ticks": "",
            "zerolinecolor": "white"
           },
           "yaxis": {
            "backgroundcolor": "#E5ECF6",
            "gridcolor": "white",
            "gridwidth": 2,
            "linecolor": "white",
            "showbackground": true,
            "ticks": "",
            "zerolinecolor": "white"
           },
           "zaxis": {
            "backgroundcolor": "#E5ECF6",
            "gridcolor": "white",
            "gridwidth": 2,
            "linecolor": "white",
            "showbackground": true,
            "ticks": "",
            "zerolinecolor": "white"
           }
          },
          "shapedefaults": {
           "line": {
            "color": "#2a3f5f"
           }
          },
          "ternary": {
           "aaxis": {
            "gridcolor": "white",
            "linecolor": "white",
            "ticks": ""
           },
           "baxis": {
            "gridcolor": "white",
            "linecolor": "white",
            "ticks": ""
           },
           "bgcolor": "#E5ECF6",
           "caxis": {
            "gridcolor": "white",
            "linecolor": "white",
            "ticks": ""
           }
          },
          "title": {
           "x": 0.05
          },
          "xaxis": {
           "automargin": true,
           "gridcolor": "white",
           "linecolor": "white",
           "ticks": "",
           "title": {
            "standoff": 15
           },
           "zerolinecolor": "white",
           "zerolinewidth": 2
          },
          "yaxis": {
           "automargin": true,
           "gridcolor": "white",
           "linecolor": "white",
           "ticks": "",
           "title": {
            "standoff": 15
           },
           "zerolinecolor": "white",
           "zerolinewidth": 2
          }
         }
        },
        "title": {
         "font": {
          "color": "#4D5663"
         }
        },
        "xaxis": {
         "gridcolor": "#E1E5ED",
         "showgrid": true,
         "tickfont": {
          "color": "#4D5663"
         },
         "title": {
          "font": {
           "color": "#4D5663"
          },
          "text": ""
         },
         "zerolinecolor": "#E1E5ED"
        },
        "yaxis": {
         "gridcolor": "#E1E5ED",
         "showgrid": true,
         "tickfont": {
          "color": "#4D5663"
         },
         "title": {
          "font": {
           "color": "#4D5663"
          },
          "text": ""
         },
         "zerolinecolor": "#E1E5ED"
        }
       }
      },
      "text/html": [
       "<div>\n",
       "        \n",
       "        \n",
       "            <div id=\"72c8514f-3d83-4416-ba8b-507735e1bc6e\" class=\"plotly-graph-div\" style=\"height:525px; width:100%;\"></div>\n",
       "            <script type=\"text/javascript\">\n",
       "                require([\"plotly\"], function(Plotly) {\n",
       "                    window.PLOTLYENV=window.PLOTLYENV || {};\n",
       "                    window.PLOTLYENV.BASE_URL='https://plot.ly';\n",
       "                    \n",
       "                if (document.getElementById(\"72c8514f-3d83-4416-ba8b-507735e1bc6e\")) {\n",
       "                    Plotly.newPlot(\n",
       "                        '72c8514f-3d83-4416-ba8b-507735e1bc6e',\n",
       "                        [{\"marker\": {\"color\": \"rgba(255, 153, 51, 0.6)\", \"line\": {\"color\": \"rgba(255, 153, 51, 1.0)\", \"width\": 1}}, \"name\": \"Values\", \"orientation\": \"v\", \"text\": \"\", \"type\": \"bar\", \"x\": [\"A\", \"B\", \"C\"], \"y\": [32, 43, 50]}],\n",
       "                        {\"legend\": {\"bgcolor\": \"#F5F6F9\", \"font\": {\"color\": \"#4D5663\"}}, \"paper_bgcolor\": \"#F5F6F9\", \"plot_bgcolor\": \"#F5F6F9\", \"template\": {\"data\": {\"bar\": [{\"error_x\": {\"color\": \"#2a3f5f\"}, \"error_y\": {\"color\": \"#2a3f5f\"}, \"marker\": {\"line\": {\"color\": \"#E5ECF6\", \"width\": 0.5}}, \"type\": \"bar\"}], \"barpolar\": [{\"marker\": {\"line\": {\"color\": \"#E5ECF6\", \"width\": 0.5}}, \"type\": \"barpolar\"}], \"carpet\": [{\"aaxis\": {\"endlinecolor\": \"#2a3f5f\", \"gridcolor\": \"white\", \"linecolor\": \"white\", \"minorgridcolor\": \"white\", \"startlinecolor\": \"#2a3f5f\"}, \"baxis\": {\"endlinecolor\": \"#2a3f5f\", \"gridcolor\": \"white\", \"linecolor\": \"white\", \"minorgridcolor\": \"white\", \"startlinecolor\": \"#2a3f5f\"}, \"type\": \"carpet\"}], \"choropleth\": [{\"colorbar\": {\"outlinewidth\": 0, \"ticks\": \"\"}, \"type\": \"choropleth\"}], \"contour\": [{\"colorbar\": {\"outlinewidth\": 0, \"ticks\": \"\"}, \"colorscale\": [[0.0, \"#0d0887\"], [0.1111111111111111, \"#46039f\"], [0.2222222222222222, \"#7201a8\"], [0.3333333333333333, \"#9c179e\"], [0.4444444444444444, \"#bd3786\"], [0.5555555555555556, \"#d8576b\"], [0.6666666666666666, \"#ed7953\"], [0.7777777777777778, \"#fb9f3a\"], [0.8888888888888888, \"#fdca26\"], [1.0, \"#f0f921\"]], \"type\": \"contour\"}], \"contourcarpet\": [{\"colorbar\": {\"outlinewidth\": 0, \"ticks\": \"\"}, \"type\": \"contourcarpet\"}], \"heatmap\": [{\"colorbar\": {\"outlinewidth\": 0, \"ticks\": \"\"}, \"colorscale\": [[0.0, \"#0d0887\"], [0.1111111111111111, \"#46039f\"], [0.2222222222222222, \"#7201a8\"], [0.3333333333333333, \"#9c179e\"], [0.4444444444444444, \"#bd3786\"], [0.5555555555555556, \"#d8576b\"], [0.6666666666666666, \"#ed7953\"], [0.7777777777777778, \"#fb9f3a\"], [0.8888888888888888, \"#fdca26\"], [1.0, \"#f0f921\"]], \"type\": \"heatmap\"}], \"heatmapgl\": [{\"colorbar\": {\"outlinewidth\": 0, \"ticks\": \"\"}, \"colorscale\": [[0.0, \"#0d0887\"], [0.1111111111111111, \"#46039f\"], [0.2222222222222222, \"#7201a8\"], [0.3333333333333333, \"#9c179e\"], [0.4444444444444444, \"#bd3786\"], [0.5555555555555556, \"#d8576b\"], [0.6666666666666666, \"#ed7953\"], [0.7777777777777778, \"#fb9f3a\"], [0.8888888888888888, \"#fdca26\"], [1.0, \"#f0f921\"]], \"type\": \"heatmapgl\"}], \"histogram\": [{\"marker\": {\"colorbar\": {\"outlinewidth\": 0, \"ticks\": \"\"}}, \"type\": \"histogram\"}], \"histogram2d\": [{\"colorbar\": {\"outlinewidth\": 0, \"ticks\": \"\"}, \"colorscale\": [[0.0, \"#0d0887\"], [0.1111111111111111, \"#46039f\"], [0.2222222222222222, \"#7201a8\"], [0.3333333333333333, \"#9c179e\"], [0.4444444444444444, \"#bd3786\"], [0.5555555555555556, \"#d8576b\"], [0.6666666666666666, \"#ed7953\"], [0.7777777777777778, \"#fb9f3a\"], [0.8888888888888888, \"#fdca26\"], [1.0, \"#f0f921\"]], \"type\": \"histogram2d\"}], \"histogram2dcontour\": [{\"colorbar\": {\"outlinewidth\": 0, \"ticks\": \"\"}, \"colorscale\": [[0.0, \"#0d0887\"], [0.1111111111111111, \"#46039f\"], [0.2222222222222222, \"#7201a8\"], [0.3333333333333333, \"#9c179e\"], [0.4444444444444444, \"#bd3786\"], [0.5555555555555556, \"#d8576b\"], [0.6666666666666666, \"#ed7953\"], [0.7777777777777778, \"#fb9f3a\"], [0.8888888888888888, \"#fdca26\"], [1.0, \"#f0f921\"]], \"type\": \"histogram2dcontour\"}], \"mesh3d\": [{\"colorbar\": {\"outlinewidth\": 0, \"ticks\": \"\"}, \"type\": \"mesh3d\"}], \"parcoords\": [{\"line\": {\"colorbar\": {\"outlinewidth\": 0, \"ticks\": \"\"}}, \"type\": \"parcoords\"}], \"pie\": [{\"automargin\": true, \"type\": \"pie\"}], \"scatter\": [{\"marker\": {\"colorbar\": {\"outlinewidth\": 0, \"ticks\": \"\"}}, \"type\": \"scatter\"}], \"scatter3d\": [{\"line\": {\"colorbar\": {\"outlinewidth\": 0, \"ticks\": \"\"}}, \"marker\": {\"colorbar\": {\"outlinewidth\": 0, \"ticks\": \"\"}}, \"type\": \"scatter3d\"}], \"scattercarpet\": [{\"marker\": {\"colorbar\": {\"outlinewidth\": 0, \"ticks\": \"\"}}, \"type\": \"scattercarpet\"}], \"scattergeo\": [{\"marker\": {\"colorbar\": {\"outlinewidth\": 0, \"ticks\": \"\"}}, \"type\": \"scattergeo\"}], \"scattergl\": [{\"marker\": {\"colorbar\": {\"outlinewidth\": 0, \"ticks\": \"\"}}, \"type\": \"scattergl\"}], \"scattermapbox\": [{\"marker\": {\"colorbar\": {\"outlinewidth\": 0, \"ticks\": \"\"}}, \"type\": \"scattermapbox\"}], \"scatterpolar\": [{\"marker\": {\"colorbar\": {\"outlinewidth\": 0, \"ticks\": \"\"}}, \"type\": \"scatterpolar\"}], \"scatterpolargl\": [{\"marker\": {\"colorbar\": {\"outlinewidth\": 0, \"ticks\": \"\"}}, \"type\": \"scatterpolargl\"}], \"scatterternary\": [{\"marker\": {\"colorbar\": {\"outlinewidth\": 0, \"ticks\": \"\"}}, \"type\": \"scatterternary\"}], \"surface\": [{\"colorbar\": {\"outlinewidth\": 0, \"ticks\": \"\"}, \"colorscale\": [[0.0, \"#0d0887\"], [0.1111111111111111, \"#46039f\"], [0.2222222222222222, \"#7201a8\"], [0.3333333333333333, \"#9c179e\"], [0.4444444444444444, \"#bd3786\"], [0.5555555555555556, \"#d8576b\"], [0.6666666666666666, \"#ed7953\"], [0.7777777777777778, \"#fb9f3a\"], [0.8888888888888888, \"#fdca26\"], [1.0, \"#f0f921\"]], \"type\": \"surface\"}], \"table\": [{\"cells\": {\"fill\": {\"color\": \"#EBF0F8\"}, \"line\": {\"color\": \"white\"}}, \"header\": {\"fill\": {\"color\": \"#C8D4E3\"}, \"line\": {\"color\": \"white\"}}, \"type\": \"table\"}]}, \"layout\": {\"annotationdefaults\": {\"arrowcolor\": \"#2a3f5f\", \"arrowhead\": 0, \"arrowwidth\": 1}, \"coloraxis\": {\"colorbar\": {\"outlinewidth\": 0, \"ticks\": \"\"}}, \"colorscale\": {\"diverging\": [[0, \"#8e0152\"], [0.1, \"#c51b7d\"], [0.2, \"#de77ae\"], [0.3, \"#f1b6da\"], [0.4, \"#fde0ef\"], [0.5, \"#f7f7f7\"], [0.6, \"#e6f5d0\"], [0.7, \"#b8e186\"], [0.8, \"#7fbc41\"], [0.9, \"#4d9221\"], [1, \"#276419\"]], \"sequential\": [[0.0, \"#0d0887\"], [0.1111111111111111, \"#46039f\"], [0.2222222222222222, \"#7201a8\"], [0.3333333333333333, \"#9c179e\"], [0.4444444444444444, \"#bd3786\"], [0.5555555555555556, \"#d8576b\"], [0.6666666666666666, \"#ed7953\"], [0.7777777777777778, \"#fb9f3a\"], [0.8888888888888888, \"#fdca26\"], [1.0, \"#f0f921\"]], \"sequentialminus\": [[0.0, \"#0d0887\"], [0.1111111111111111, \"#46039f\"], [0.2222222222222222, \"#7201a8\"], [0.3333333333333333, \"#9c179e\"], [0.4444444444444444, \"#bd3786\"], [0.5555555555555556, \"#d8576b\"], [0.6666666666666666, \"#ed7953\"], [0.7777777777777778, \"#fb9f3a\"], [0.8888888888888888, \"#fdca26\"], [1.0, \"#f0f921\"]]}, \"colorway\": [\"#636efa\", \"#EF553B\", \"#00cc96\", \"#ab63fa\", \"#FFA15A\", \"#19d3f3\", \"#FF6692\", \"#B6E880\", \"#FF97FF\", \"#FECB52\"], \"font\": {\"color\": \"#2a3f5f\"}, \"geo\": {\"bgcolor\": \"white\", \"lakecolor\": \"white\", \"landcolor\": \"#E5ECF6\", \"showlakes\": true, \"showland\": true, \"subunitcolor\": \"white\"}, \"hoverlabel\": {\"align\": \"left\"}, \"hovermode\": \"closest\", \"mapbox\": {\"style\": \"light\"}, \"paper_bgcolor\": \"white\", \"plot_bgcolor\": \"#E5ECF6\", \"polar\": {\"angularaxis\": {\"gridcolor\": \"white\", \"linecolor\": \"white\", \"ticks\": \"\"}, \"bgcolor\": \"#E5ECF6\", \"radialaxis\": {\"gridcolor\": \"white\", \"linecolor\": \"white\", \"ticks\": \"\"}}, \"scene\": {\"xaxis\": {\"backgroundcolor\": \"#E5ECF6\", \"gridcolor\": \"white\", \"gridwidth\": 2, \"linecolor\": \"white\", \"showbackground\": true, \"ticks\": \"\", \"zerolinecolor\": \"white\"}, \"yaxis\": {\"backgroundcolor\": \"#E5ECF6\", \"gridcolor\": \"white\", \"gridwidth\": 2, \"linecolor\": \"white\", \"showbackground\": true, \"ticks\": \"\", \"zerolinecolor\": \"white\"}, \"zaxis\": {\"backgroundcolor\": \"#E5ECF6\", \"gridcolor\": \"white\", \"gridwidth\": 2, \"linecolor\": \"white\", \"showbackground\": true, \"ticks\": \"\", \"zerolinecolor\": \"white\"}}, \"shapedefaults\": {\"line\": {\"color\": \"#2a3f5f\"}}, \"ternary\": {\"aaxis\": {\"gridcolor\": \"white\", \"linecolor\": \"white\", \"ticks\": \"\"}, \"baxis\": {\"gridcolor\": \"white\", \"linecolor\": \"white\", \"ticks\": \"\"}, \"bgcolor\": \"#E5ECF6\", \"caxis\": {\"gridcolor\": \"white\", \"linecolor\": \"white\", \"ticks\": \"\"}}, \"title\": {\"x\": 0.05}, \"xaxis\": {\"automargin\": true, \"gridcolor\": \"white\", \"linecolor\": \"white\", \"ticks\": \"\", \"title\": {\"standoff\": 15}, \"zerolinecolor\": \"white\", \"zerolinewidth\": 2}, \"yaxis\": {\"automargin\": true, \"gridcolor\": \"white\", \"linecolor\": \"white\", \"ticks\": \"\", \"title\": {\"standoff\": 15}, \"zerolinecolor\": \"white\", \"zerolinewidth\": 2}}}, \"title\": {\"font\": {\"color\": \"#4D5663\"}}, \"xaxis\": {\"gridcolor\": \"#E1E5ED\", \"showgrid\": true, \"tickfont\": {\"color\": \"#4D5663\"}, \"title\": {\"font\": {\"color\": \"#4D5663\"}, \"text\": \"\"}, \"zerolinecolor\": \"#E1E5ED\"}, \"yaxis\": {\"gridcolor\": \"#E1E5ED\", \"showgrid\": true, \"tickfont\": {\"color\": \"#4D5663\"}, \"title\": {\"font\": {\"color\": \"#4D5663\"}, \"text\": \"\"}, \"zerolinecolor\": \"#E1E5ED\"}},\n",
       "                        {\"showLink\": true, \"linkText\": \"Export to plot.ly\", \"plotlyServerURL\": \"https://plot.ly\", \"responsive\": true}\n",
       "                    ).then(function(){\n",
       "                            \n",
       "var gd = document.getElementById('72c8514f-3d83-4416-ba8b-507735e1bc6e');\n",
       "var x = new MutationObserver(function (mutations, observer) {{\n",
       "        var display = window.getComputedStyle(gd).display;\n",
       "        if (!display || display === 'none') {{\n",
       "            console.log([gd, 'removed!']);\n",
       "            Plotly.purge(gd);\n",
       "            observer.disconnect();\n",
       "        }}\n",
       "}});\n",
       "\n",
       "// Listen for the removal of the full notebook cells\n",
       "var notebookContainer = gd.closest('#notebook-container');\n",
       "if (notebookContainer) {{\n",
       "    x.observe(notebookContainer, {childList: true});\n",
       "}}\n",
       "\n",
       "// Listen for the clearing of the current output cell\n",
       "var outputEl = gd.closest('.output');\n",
       "if (outputEl) {{\n",
       "    x.observe(outputEl, {childList: true});\n",
       "}}\n",
       "\n",
       "                        })\n",
       "                };\n",
       "                });\n",
       "            </script>\n",
       "        </div>"
      ]
     },
     "metadata": {},
     "output_type": "display_data"
    }
   ],
   "source": [
    "df2.iplot(kind='bar',x='Category',y='Values')"
   ]
  },
  {
   "cell_type": "code",
   "execution_count": 13,
   "metadata": {},
   "outputs": [
    {
     "data": {
      "application/vnd.plotly.v1+json": {
       "config": {
        "linkText": "Export to plot.ly",
        "plotlyServerURL": "https://plot.ly",
        "showLink": true
       },
       "data": [
        {
         "marker": {
          "color": "rgba(255, 153, 51, 0.6)",
          "line": {
           "color": "rgba(255, 153, 51, 1.0)",
           "width": 1
          }
         },
         "name": "None",
         "orientation": "v",
         "text": "",
         "type": "bar",
         "x": [
          "A",
          "B",
          "C",
          "D"
         ],
         "y": [
          100,
          100,
          100,
          100
         ]
        }
       ],
       "layout": {
        "legend": {
         "bgcolor": "#F5F6F9",
         "font": {
          "color": "#4D5663"
         }
        },
        "paper_bgcolor": "#F5F6F9",
        "plot_bgcolor": "#F5F6F9",
        "template": {
         "data": {
          "bar": [
           {
            "error_x": {
             "color": "#2a3f5f"
            },
            "error_y": {
             "color": "#2a3f5f"
            },
            "marker": {
             "line": {
              "color": "#E5ECF6",
              "width": 0.5
             }
            },
            "type": "bar"
           }
          ],
          "barpolar": [
           {
            "marker": {
             "line": {
              "color": "#E5ECF6",
              "width": 0.5
             }
            },
            "type": "barpolar"
           }
          ],
          "carpet": [
           {
            "aaxis": {
             "endlinecolor": "#2a3f5f",
             "gridcolor": "white",
             "linecolor": "white",
             "minorgridcolor": "white",
             "startlinecolor": "#2a3f5f"
            },
            "baxis": {
             "endlinecolor": "#2a3f5f",
             "gridcolor": "white",
             "linecolor": "white",
             "minorgridcolor": "white",
             "startlinecolor": "#2a3f5f"
            },
            "type": "carpet"
           }
          ],
          "choropleth": [
           {
            "colorbar": {
             "outlinewidth": 0,
             "ticks": ""
            },
            "type": "choropleth"
           }
          ],
          "contour": [
           {
            "colorbar": {
             "outlinewidth": 0,
             "ticks": ""
            },
            "colorscale": [
             [
              0,
              "#0d0887"
             ],
             [
              0.1111111111111111,
              "#46039f"
             ],
             [
              0.2222222222222222,
              "#7201a8"
             ],
             [
              0.3333333333333333,
              "#9c179e"
             ],
             [
              0.4444444444444444,
              "#bd3786"
             ],
             [
              0.5555555555555556,
              "#d8576b"
             ],
             [
              0.6666666666666666,
              "#ed7953"
             ],
             [
              0.7777777777777778,
              "#fb9f3a"
             ],
             [
              0.8888888888888888,
              "#fdca26"
             ],
             [
              1,
              "#f0f921"
             ]
            ],
            "type": "contour"
           }
          ],
          "contourcarpet": [
           {
            "colorbar": {
             "outlinewidth": 0,
             "ticks": ""
            },
            "type": "contourcarpet"
           }
          ],
          "heatmap": [
           {
            "colorbar": {
             "outlinewidth": 0,
             "ticks": ""
            },
            "colorscale": [
             [
              0,
              "#0d0887"
             ],
             [
              0.1111111111111111,
              "#46039f"
             ],
             [
              0.2222222222222222,
              "#7201a8"
             ],
             [
              0.3333333333333333,
              "#9c179e"
             ],
             [
              0.4444444444444444,
              "#bd3786"
             ],
             [
              0.5555555555555556,
              "#d8576b"
             ],
             [
              0.6666666666666666,
              "#ed7953"
             ],
             [
              0.7777777777777778,
              "#fb9f3a"
             ],
             [
              0.8888888888888888,
              "#fdca26"
             ],
             [
              1,
              "#f0f921"
             ]
            ],
            "type": "heatmap"
           }
          ],
          "heatmapgl": [
           {
            "colorbar": {
             "outlinewidth": 0,
             "ticks": ""
            },
            "colorscale": [
             [
              0,
              "#0d0887"
             ],
             [
              0.1111111111111111,
              "#46039f"
             ],
             [
              0.2222222222222222,
              "#7201a8"
             ],
             [
              0.3333333333333333,
              "#9c179e"
             ],
             [
              0.4444444444444444,
              "#bd3786"
             ],
             [
              0.5555555555555556,
              "#d8576b"
             ],
             [
              0.6666666666666666,
              "#ed7953"
             ],
             [
              0.7777777777777778,
              "#fb9f3a"
             ],
             [
              0.8888888888888888,
              "#fdca26"
             ],
             [
              1,
              "#f0f921"
             ]
            ],
            "type": "heatmapgl"
           }
          ],
          "histogram": [
           {
            "marker": {
             "colorbar": {
              "outlinewidth": 0,
              "ticks": ""
             }
            },
            "type": "histogram"
           }
          ],
          "histogram2d": [
           {
            "colorbar": {
             "outlinewidth": 0,
             "ticks": ""
            },
            "colorscale": [
             [
              0,
              "#0d0887"
             ],
             [
              0.1111111111111111,
              "#46039f"
             ],
             [
              0.2222222222222222,
              "#7201a8"
             ],
             [
              0.3333333333333333,
              "#9c179e"
             ],
             [
              0.4444444444444444,
              "#bd3786"
             ],
             [
              0.5555555555555556,
              "#d8576b"
             ],
             [
              0.6666666666666666,
              "#ed7953"
             ],
             [
              0.7777777777777778,
              "#fb9f3a"
             ],
             [
              0.8888888888888888,
              "#fdca26"
             ],
             [
              1,
              "#f0f921"
             ]
            ],
            "type": "histogram2d"
           }
          ],
          "histogram2dcontour": [
           {
            "colorbar": {
             "outlinewidth": 0,
             "ticks": ""
            },
            "colorscale": [
             [
              0,
              "#0d0887"
             ],
             [
              0.1111111111111111,
              "#46039f"
             ],
             [
              0.2222222222222222,
              "#7201a8"
             ],
             [
              0.3333333333333333,
              "#9c179e"
             ],
             [
              0.4444444444444444,
              "#bd3786"
             ],
             [
              0.5555555555555556,
              "#d8576b"
             ],
             [
              0.6666666666666666,
              "#ed7953"
             ],
             [
              0.7777777777777778,
              "#fb9f3a"
             ],
             [
              0.8888888888888888,
              "#fdca26"
             ],
             [
              1,
              "#f0f921"
             ]
            ],
            "type": "histogram2dcontour"
           }
          ],
          "mesh3d": [
           {
            "colorbar": {
             "outlinewidth": 0,
             "ticks": ""
            },
            "type": "mesh3d"
           }
          ],
          "parcoords": [
           {
            "line": {
             "colorbar": {
              "outlinewidth": 0,
              "ticks": ""
             }
            },
            "type": "parcoords"
           }
          ],
          "pie": [
           {
            "automargin": true,
            "type": "pie"
           }
          ],
          "scatter": [
           {
            "marker": {
             "colorbar": {
              "outlinewidth": 0,
              "ticks": ""
             }
            },
            "type": "scatter"
           }
          ],
          "scatter3d": [
           {
            "line": {
             "colorbar": {
              "outlinewidth": 0,
              "ticks": ""
             }
            },
            "marker": {
             "colorbar": {
              "outlinewidth": 0,
              "ticks": ""
             }
            },
            "type": "scatter3d"
           }
          ],
          "scattercarpet": [
           {
            "marker": {
             "colorbar": {
              "outlinewidth": 0,
              "ticks": ""
             }
            },
            "type": "scattercarpet"
           }
          ],
          "scattergeo": [
           {
            "marker": {
             "colorbar": {
              "outlinewidth": 0,
              "ticks": ""
             }
            },
            "type": "scattergeo"
           }
          ],
          "scattergl": [
           {
            "marker": {
             "colorbar": {
              "outlinewidth": 0,
              "ticks": ""
             }
            },
            "type": "scattergl"
           }
          ],
          "scattermapbox": [
           {
            "marker": {
             "colorbar": {
              "outlinewidth": 0,
              "ticks": ""
             }
            },
            "type": "scattermapbox"
           }
          ],
          "scatterpolar": [
           {
            "marker": {
             "colorbar": {
              "outlinewidth": 0,
              "ticks": ""
             }
            },
            "type": "scatterpolar"
           }
          ],
          "scatterpolargl": [
           {
            "marker": {
             "colorbar": {
              "outlinewidth": 0,
              "ticks": ""
             }
            },
            "type": "scatterpolargl"
           }
          ],
          "scatterternary": [
           {
            "marker": {
             "colorbar": {
              "outlinewidth": 0,
              "ticks": ""
             }
            },
            "type": "scatterternary"
           }
          ],
          "surface": [
           {
            "colorbar": {
             "outlinewidth": 0,
             "ticks": ""
            },
            "colorscale": [
             [
              0,
              "#0d0887"
             ],
             [
              0.1111111111111111,
              "#46039f"
             ],
             [
              0.2222222222222222,
              "#7201a8"
             ],
             [
              0.3333333333333333,
              "#9c179e"
             ],
             [
              0.4444444444444444,
              "#bd3786"
             ],
             [
              0.5555555555555556,
              "#d8576b"
             ],
             [
              0.6666666666666666,
              "#ed7953"
             ],
             [
              0.7777777777777778,
              "#fb9f3a"
             ],
             [
              0.8888888888888888,
              "#fdca26"
             ],
             [
              1,
              "#f0f921"
             ]
            ],
            "type": "surface"
           }
          ],
          "table": [
           {
            "cells": {
             "fill": {
              "color": "#EBF0F8"
             },
             "line": {
              "color": "white"
             }
            },
            "header": {
             "fill": {
              "color": "#C8D4E3"
             },
             "line": {
              "color": "white"
             }
            },
            "type": "table"
           }
          ]
         },
         "layout": {
          "annotationdefaults": {
           "arrowcolor": "#2a3f5f",
           "arrowhead": 0,
           "arrowwidth": 1
          },
          "coloraxis": {
           "colorbar": {
            "outlinewidth": 0,
            "ticks": ""
           }
          },
          "colorscale": {
           "diverging": [
            [
             0,
             "#8e0152"
            ],
            [
             0.1,
             "#c51b7d"
            ],
            [
             0.2,
             "#de77ae"
            ],
            [
             0.3,
             "#f1b6da"
            ],
            [
             0.4,
             "#fde0ef"
            ],
            [
             0.5,
             "#f7f7f7"
            ],
            [
             0.6,
             "#e6f5d0"
            ],
            [
             0.7,
             "#b8e186"
            ],
            [
             0.8,
             "#7fbc41"
            ],
            [
             0.9,
             "#4d9221"
            ],
            [
             1,
             "#276419"
            ]
           ],
           "sequential": [
            [
             0,
             "#0d0887"
            ],
            [
             0.1111111111111111,
             "#46039f"
            ],
            [
             0.2222222222222222,
             "#7201a8"
            ],
            [
             0.3333333333333333,
             "#9c179e"
            ],
            [
             0.4444444444444444,
             "#bd3786"
            ],
            [
             0.5555555555555556,
             "#d8576b"
            ],
            [
             0.6666666666666666,
             "#ed7953"
            ],
            [
             0.7777777777777778,
             "#fb9f3a"
            ],
            [
             0.8888888888888888,
             "#fdca26"
            ],
            [
             1,
             "#f0f921"
            ]
           ],
           "sequentialminus": [
            [
             0,
             "#0d0887"
            ],
            [
             0.1111111111111111,
             "#46039f"
            ],
            [
             0.2222222222222222,
             "#7201a8"
            ],
            [
             0.3333333333333333,
             "#9c179e"
            ],
            [
             0.4444444444444444,
             "#bd3786"
            ],
            [
             0.5555555555555556,
             "#d8576b"
            ],
            [
             0.6666666666666666,
             "#ed7953"
            ],
            [
             0.7777777777777778,
             "#fb9f3a"
            ],
            [
             0.8888888888888888,
             "#fdca26"
            ],
            [
             1,
             "#f0f921"
            ]
           ]
          },
          "colorway": [
           "#636efa",
           "#EF553B",
           "#00cc96",
           "#ab63fa",
           "#FFA15A",
           "#19d3f3",
           "#FF6692",
           "#B6E880",
           "#FF97FF",
           "#FECB52"
          ],
          "font": {
           "color": "#2a3f5f"
          },
          "geo": {
           "bgcolor": "white",
           "lakecolor": "white",
           "landcolor": "#E5ECF6",
           "showlakes": true,
           "showland": true,
           "subunitcolor": "white"
          },
          "hoverlabel": {
           "align": "left"
          },
          "hovermode": "closest",
          "mapbox": {
           "style": "light"
          },
          "paper_bgcolor": "white",
          "plot_bgcolor": "#E5ECF6",
          "polar": {
           "angularaxis": {
            "gridcolor": "white",
            "linecolor": "white",
            "ticks": ""
           },
           "bgcolor": "#E5ECF6",
           "radialaxis": {
            "gridcolor": "white",
            "linecolor": "white",
            "ticks": ""
           }
          },
          "scene": {
           "xaxis": {
            "backgroundcolor": "#E5ECF6",
            "gridcolor": "white",
            "gridwidth": 2,
            "linecolor": "white",
            "showbackground": true,
            "ticks": "",
            "zerolinecolor": "white"
           },
           "yaxis": {
            "backgroundcolor": "#E5ECF6",
            "gridcolor": "white",
            "gridwidth": 2,
            "linecolor": "white",
            "showbackground": true,
            "ticks": "",
            "zerolinecolor": "white"
           },
           "zaxis": {
            "backgroundcolor": "#E5ECF6",
            "gridcolor": "white",
            "gridwidth": 2,
            "linecolor": "white",
            "showbackground": true,
            "ticks": "",
            "zerolinecolor": "white"
           }
          },
          "shapedefaults": {
           "line": {
            "color": "#2a3f5f"
           }
          },
          "ternary": {
           "aaxis": {
            "gridcolor": "white",
            "linecolor": "white",
            "ticks": ""
           },
           "baxis": {
            "gridcolor": "white",
            "linecolor": "white",
            "ticks": ""
           },
           "bgcolor": "#E5ECF6",
           "caxis": {
            "gridcolor": "white",
            "linecolor": "white",
            "ticks": ""
           }
          },
          "title": {
           "x": 0.05
          },
          "xaxis": {
           "automargin": true,
           "gridcolor": "white",
           "linecolor": "white",
           "ticks": "",
           "title": {
            "standoff": 15
           },
           "zerolinecolor": "white",
           "zerolinewidth": 2
          },
          "yaxis": {
           "automargin": true,
           "gridcolor": "white",
           "linecolor": "white",
           "ticks": "",
           "title": {
            "standoff": 15
           },
           "zerolinecolor": "white",
           "zerolinewidth": 2
          }
         }
        },
        "title": {
         "font": {
          "color": "#4D5663"
         }
        },
        "xaxis": {
         "gridcolor": "#E1E5ED",
         "showgrid": true,
         "tickfont": {
          "color": "#4D5663"
         },
         "title": {
          "font": {
           "color": "#4D5663"
          },
          "text": ""
         },
         "zerolinecolor": "#E1E5ED"
        },
        "yaxis": {
         "gridcolor": "#E1E5ED",
         "showgrid": true,
         "tickfont": {
          "color": "#4D5663"
         },
         "title": {
          "font": {
           "color": "#4D5663"
          },
          "text": ""
         },
         "zerolinecolor": "#E1E5ED"
        }
       }
      },
      "text/html": [
       "<div>\n",
       "        \n",
       "        \n",
       "            <div id=\"cb36a987-77bb-4ec3-9703-350ed46c25ad\" class=\"plotly-graph-div\" style=\"height:525px; width:100%;\"></div>\n",
       "            <script type=\"text/javascript\">\n",
       "                require([\"plotly\"], function(Plotly) {\n",
       "                    window.PLOTLYENV=window.PLOTLYENV || {};\n",
       "                    window.PLOTLYENV.BASE_URL='https://plot.ly';\n",
       "                    \n",
       "                if (document.getElementById(\"cb36a987-77bb-4ec3-9703-350ed46c25ad\")) {\n",
       "                    Plotly.newPlot(\n",
       "                        'cb36a987-77bb-4ec3-9703-350ed46c25ad',\n",
       "                        [{\"marker\": {\"color\": \"rgba(255, 153, 51, 0.6)\", \"line\": {\"color\": \"rgba(255, 153, 51, 1.0)\", \"width\": 1}}, \"name\": \"None\", \"orientation\": \"v\", \"text\": \"\", \"type\": \"bar\", \"x\": [\"A\", \"B\", \"C\", \"D\"], \"y\": [100, 100, 100, 100]}],\n",
       "                        {\"legend\": {\"bgcolor\": \"#F5F6F9\", \"font\": {\"color\": \"#4D5663\"}}, \"paper_bgcolor\": \"#F5F6F9\", \"plot_bgcolor\": \"#F5F6F9\", \"template\": {\"data\": {\"bar\": [{\"error_x\": {\"color\": \"#2a3f5f\"}, \"error_y\": {\"color\": \"#2a3f5f\"}, \"marker\": {\"line\": {\"color\": \"#E5ECF6\", \"width\": 0.5}}, \"type\": \"bar\"}], \"barpolar\": [{\"marker\": {\"line\": {\"color\": \"#E5ECF6\", \"width\": 0.5}}, \"type\": \"barpolar\"}], \"carpet\": [{\"aaxis\": {\"endlinecolor\": \"#2a3f5f\", \"gridcolor\": \"white\", \"linecolor\": \"white\", \"minorgridcolor\": \"white\", \"startlinecolor\": \"#2a3f5f\"}, \"baxis\": {\"endlinecolor\": \"#2a3f5f\", \"gridcolor\": \"white\", \"linecolor\": \"white\", \"minorgridcolor\": \"white\", \"startlinecolor\": \"#2a3f5f\"}, \"type\": \"carpet\"}], \"choropleth\": [{\"colorbar\": {\"outlinewidth\": 0, \"ticks\": \"\"}, \"type\": \"choropleth\"}], \"contour\": [{\"colorbar\": {\"outlinewidth\": 0, \"ticks\": \"\"}, \"colorscale\": [[0.0, \"#0d0887\"], [0.1111111111111111, \"#46039f\"], [0.2222222222222222, \"#7201a8\"], [0.3333333333333333, \"#9c179e\"], [0.4444444444444444, \"#bd3786\"], [0.5555555555555556, \"#d8576b\"], [0.6666666666666666, \"#ed7953\"], [0.7777777777777778, \"#fb9f3a\"], [0.8888888888888888, \"#fdca26\"], [1.0, \"#f0f921\"]], \"type\": \"contour\"}], \"contourcarpet\": [{\"colorbar\": {\"outlinewidth\": 0, \"ticks\": \"\"}, \"type\": \"contourcarpet\"}], \"heatmap\": [{\"colorbar\": {\"outlinewidth\": 0, \"ticks\": \"\"}, \"colorscale\": [[0.0, \"#0d0887\"], [0.1111111111111111, \"#46039f\"], [0.2222222222222222, \"#7201a8\"], [0.3333333333333333, \"#9c179e\"], [0.4444444444444444, \"#bd3786\"], [0.5555555555555556, \"#d8576b\"], [0.6666666666666666, \"#ed7953\"], [0.7777777777777778, \"#fb9f3a\"], [0.8888888888888888, \"#fdca26\"], [1.0, \"#f0f921\"]], \"type\": \"heatmap\"}], \"heatmapgl\": [{\"colorbar\": {\"outlinewidth\": 0, \"ticks\": \"\"}, \"colorscale\": [[0.0, \"#0d0887\"], [0.1111111111111111, \"#46039f\"], [0.2222222222222222, \"#7201a8\"], [0.3333333333333333, \"#9c179e\"], [0.4444444444444444, \"#bd3786\"], [0.5555555555555556, \"#d8576b\"], [0.6666666666666666, \"#ed7953\"], [0.7777777777777778, \"#fb9f3a\"], [0.8888888888888888, \"#fdca26\"], [1.0, \"#f0f921\"]], \"type\": \"heatmapgl\"}], \"histogram\": [{\"marker\": {\"colorbar\": {\"outlinewidth\": 0, \"ticks\": \"\"}}, \"type\": \"histogram\"}], \"histogram2d\": [{\"colorbar\": {\"outlinewidth\": 0, \"ticks\": \"\"}, \"colorscale\": [[0.0, \"#0d0887\"], [0.1111111111111111, \"#46039f\"], [0.2222222222222222, \"#7201a8\"], [0.3333333333333333, \"#9c179e\"], [0.4444444444444444, \"#bd3786\"], [0.5555555555555556, \"#d8576b\"], [0.6666666666666666, \"#ed7953\"], [0.7777777777777778, \"#fb9f3a\"], [0.8888888888888888, \"#fdca26\"], [1.0, \"#f0f921\"]], \"type\": \"histogram2d\"}], \"histogram2dcontour\": [{\"colorbar\": {\"outlinewidth\": 0, \"ticks\": \"\"}, \"colorscale\": [[0.0, \"#0d0887\"], [0.1111111111111111, \"#46039f\"], [0.2222222222222222, \"#7201a8\"], [0.3333333333333333, \"#9c179e\"], [0.4444444444444444, \"#bd3786\"], [0.5555555555555556, \"#d8576b\"], [0.6666666666666666, \"#ed7953\"], [0.7777777777777778, \"#fb9f3a\"], [0.8888888888888888, \"#fdca26\"], [1.0, \"#f0f921\"]], \"type\": \"histogram2dcontour\"}], \"mesh3d\": [{\"colorbar\": {\"outlinewidth\": 0, \"ticks\": \"\"}, \"type\": \"mesh3d\"}], \"parcoords\": [{\"line\": {\"colorbar\": {\"outlinewidth\": 0, \"ticks\": \"\"}}, \"type\": \"parcoords\"}], \"pie\": [{\"automargin\": true, \"type\": \"pie\"}], \"scatter\": [{\"marker\": {\"colorbar\": {\"outlinewidth\": 0, \"ticks\": \"\"}}, \"type\": \"scatter\"}], \"scatter3d\": [{\"line\": {\"colorbar\": {\"outlinewidth\": 0, \"ticks\": \"\"}}, \"marker\": {\"colorbar\": {\"outlinewidth\": 0, \"ticks\": \"\"}}, \"type\": \"scatter3d\"}], \"scattercarpet\": [{\"marker\": {\"colorbar\": {\"outlinewidth\": 0, \"ticks\": \"\"}}, \"type\": \"scattercarpet\"}], \"scattergeo\": [{\"marker\": {\"colorbar\": {\"outlinewidth\": 0, \"ticks\": \"\"}}, \"type\": \"scattergeo\"}], \"scattergl\": [{\"marker\": {\"colorbar\": {\"outlinewidth\": 0, \"ticks\": \"\"}}, \"type\": \"scattergl\"}], \"scattermapbox\": [{\"marker\": {\"colorbar\": {\"outlinewidth\": 0, \"ticks\": \"\"}}, \"type\": \"scattermapbox\"}], \"scatterpolar\": [{\"marker\": {\"colorbar\": {\"outlinewidth\": 0, \"ticks\": \"\"}}, \"type\": \"scatterpolar\"}], \"scatterpolargl\": [{\"marker\": {\"colorbar\": {\"outlinewidth\": 0, \"ticks\": \"\"}}, \"type\": \"scatterpolargl\"}], \"scatterternary\": [{\"marker\": {\"colorbar\": {\"outlinewidth\": 0, \"ticks\": \"\"}}, \"type\": \"scatterternary\"}], \"surface\": [{\"colorbar\": {\"outlinewidth\": 0, \"ticks\": \"\"}, \"colorscale\": [[0.0, \"#0d0887\"], [0.1111111111111111, \"#46039f\"], [0.2222222222222222, \"#7201a8\"], [0.3333333333333333, \"#9c179e\"], [0.4444444444444444, \"#bd3786\"], [0.5555555555555556, \"#d8576b\"], [0.6666666666666666, \"#ed7953\"], [0.7777777777777778, \"#fb9f3a\"], [0.8888888888888888, \"#fdca26\"], [1.0, \"#f0f921\"]], \"type\": \"surface\"}], \"table\": [{\"cells\": {\"fill\": {\"color\": \"#EBF0F8\"}, \"line\": {\"color\": \"white\"}}, \"header\": {\"fill\": {\"color\": \"#C8D4E3\"}, \"line\": {\"color\": \"white\"}}, \"type\": \"table\"}]}, \"layout\": {\"annotationdefaults\": {\"arrowcolor\": \"#2a3f5f\", \"arrowhead\": 0, \"arrowwidth\": 1}, \"coloraxis\": {\"colorbar\": {\"outlinewidth\": 0, \"ticks\": \"\"}}, \"colorscale\": {\"diverging\": [[0, \"#8e0152\"], [0.1, \"#c51b7d\"], [0.2, \"#de77ae\"], [0.3, \"#f1b6da\"], [0.4, \"#fde0ef\"], [0.5, \"#f7f7f7\"], [0.6, \"#e6f5d0\"], [0.7, \"#b8e186\"], [0.8, \"#7fbc41\"], [0.9, \"#4d9221\"], [1, \"#276419\"]], \"sequential\": [[0.0, \"#0d0887\"], [0.1111111111111111, \"#46039f\"], [0.2222222222222222, \"#7201a8\"], [0.3333333333333333, \"#9c179e\"], [0.4444444444444444, \"#bd3786\"], [0.5555555555555556, \"#d8576b\"], [0.6666666666666666, \"#ed7953\"], [0.7777777777777778, \"#fb9f3a\"], [0.8888888888888888, \"#fdca26\"], [1.0, \"#f0f921\"]], \"sequentialminus\": [[0.0, \"#0d0887\"], [0.1111111111111111, \"#46039f\"], [0.2222222222222222, \"#7201a8\"], [0.3333333333333333, \"#9c179e\"], [0.4444444444444444, \"#bd3786\"], [0.5555555555555556, \"#d8576b\"], [0.6666666666666666, \"#ed7953\"], [0.7777777777777778, \"#fb9f3a\"], [0.8888888888888888, \"#fdca26\"], [1.0, \"#f0f921\"]]}, \"colorway\": [\"#636efa\", \"#EF553B\", \"#00cc96\", \"#ab63fa\", \"#FFA15A\", \"#19d3f3\", \"#FF6692\", \"#B6E880\", \"#FF97FF\", \"#FECB52\"], \"font\": {\"color\": \"#2a3f5f\"}, \"geo\": {\"bgcolor\": \"white\", \"lakecolor\": \"white\", \"landcolor\": \"#E5ECF6\", \"showlakes\": true, \"showland\": true, \"subunitcolor\": \"white\"}, \"hoverlabel\": {\"align\": \"left\"}, \"hovermode\": \"closest\", \"mapbox\": {\"style\": \"light\"}, \"paper_bgcolor\": \"white\", \"plot_bgcolor\": \"#E5ECF6\", \"polar\": {\"angularaxis\": {\"gridcolor\": \"white\", \"linecolor\": \"white\", \"ticks\": \"\"}, \"bgcolor\": \"#E5ECF6\", \"radialaxis\": {\"gridcolor\": \"white\", \"linecolor\": \"white\", \"ticks\": \"\"}}, \"scene\": {\"xaxis\": {\"backgroundcolor\": \"#E5ECF6\", \"gridcolor\": \"white\", \"gridwidth\": 2, \"linecolor\": \"white\", \"showbackground\": true, \"ticks\": \"\", \"zerolinecolor\": \"white\"}, \"yaxis\": {\"backgroundcolor\": \"#E5ECF6\", \"gridcolor\": \"white\", \"gridwidth\": 2, \"linecolor\": \"white\", \"showbackground\": true, \"ticks\": \"\", \"zerolinecolor\": \"white\"}, \"zaxis\": {\"backgroundcolor\": \"#E5ECF6\", \"gridcolor\": \"white\", \"gridwidth\": 2, \"linecolor\": \"white\", \"showbackground\": true, \"ticks\": \"\", \"zerolinecolor\": \"white\"}}, \"shapedefaults\": {\"line\": {\"color\": \"#2a3f5f\"}}, \"ternary\": {\"aaxis\": {\"gridcolor\": \"white\", \"linecolor\": \"white\", \"ticks\": \"\"}, \"baxis\": {\"gridcolor\": \"white\", \"linecolor\": \"white\", \"ticks\": \"\"}, \"bgcolor\": \"#E5ECF6\", \"caxis\": {\"gridcolor\": \"white\", \"linecolor\": \"white\", \"ticks\": \"\"}}, \"title\": {\"x\": 0.05}, \"xaxis\": {\"automargin\": true, \"gridcolor\": \"white\", \"linecolor\": \"white\", \"ticks\": \"\", \"title\": {\"standoff\": 15}, \"zerolinecolor\": \"white\", \"zerolinewidth\": 2}, \"yaxis\": {\"automargin\": true, \"gridcolor\": \"white\", \"linecolor\": \"white\", \"ticks\": \"\", \"title\": {\"standoff\": 15}, \"zerolinecolor\": \"white\", \"zerolinewidth\": 2}}}, \"title\": {\"font\": {\"color\": \"#4D5663\"}}, \"xaxis\": {\"gridcolor\": \"#E1E5ED\", \"showgrid\": true, \"tickfont\": {\"color\": \"#4D5663\"}, \"title\": {\"font\": {\"color\": \"#4D5663\"}, \"text\": \"\"}, \"zerolinecolor\": \"#E1E5ED\"}, \"yaxis\": {\"gridcolor\": \"#E1E5ED\", \"showgrid\": true, \"tickfont\": {\"color\": \"#4D5663\"}, \"title\": {\"font\": {\"color\": \"#4D5663\"}, \"text\": \"\"}, \"zerolinecolor\": \"#E1E5ED\"}},\n",
       "                        {\"showLink\": true, \"linkText\": \"Export to plot.ly\", \"plotlyServerURL\": \"https://plot.ly\", \"responsive\": true}\n",
       "                    ).then(function(){\n",
       "                            \n",
       "var gd = document.getElementById('cb36a987-77bb-4ec3-9703-350ed46c25ad');\n",
       "var x = new MutationObserver(function (mutations, observer) {{\n",
       "        var display = window.getComputedStyle(gd).display;\n",
       "        if (!display || display === 'none') {{\n",
       "            console.log([gd, 'removed!']);\n",
       "            Plotly.purge(gd);\n",
       "            observer.disconnect();\n",
       "        }}\n",
       "}});\n",
       "\n",
       "// Listen for the removal of the full notebook cells\n",
       "var notebookContainer = gd.closest('#notebook-container');\n",
       "if (notebookContainer) {{\n",
       "    x.observe(notebookContainer, {childList: true});\n",
       "}}\n",
       "\n",
       "// Listen for the clearing of the current output cell\n",
       "var outputEl = gd.closest('.output');\n",
       "if (outputEl) {{\n",
       "    x.observe(outputEl, {childList: true});\n",
       "}}\n",
       "\n",
       "                        })\n",
       "                };\n",
       "                });\n",
       "            </script>\n",
       "        </div>"
      ]
     },
     "metadata": {},
     "output_type": "display_data"
    }
   ],
   "source": [
    "df.count().iplot(kind='bar')"
   ]
  },
  {
   "cell_type": "markdown",
   "metadata": {},
   "source": [
    "## Boxplots"
   ]
  },
  {
   "cell_type": "code",
   "execution_count": 14,
   "metadata": {},
   "outputs": [
    {
     "data": {
      "application/vnd.plotly.v1+json": {
       "config": {
        "linkText": "Export to plot.ly",
        "plotlyServerURL": "https://plot.ly",
        "showLink": true
       },
       "data": [
        {
         "boxpoints": false,
         "line": {
          "width": 1.3
         },
         "marker": {
          "color": "rgba(255, 153, 51, 1.0)"
         },
         "name": "A",
         "orientation": "v",
         "type": "box",
         "y": [
          -0.6889956521739307,
          -0.10998876634393508,
          0.09699922766269028,
          -0.8808256190850161,
          2.2172396213269425,
          -0.5181556954513972,
          0.044220521243459814,
          -0.6182983871486031,
          0.5035632820391117,
          -1.9735185015594627,
          -1.1226476322836956,
          -0.033709732199987,
          -0.47506049831864783,
          0.4062401342415919,
          -0.8298431157254298,
          0.6484928745668593,
          -0.8484283621195674,
          -0.11478932596098841,
          0.4156464856047231,
          -1.2044313934808315,
          -0.7377218812849837,
          -0.3530399705530779,
          -1.2354471686035418,
          1.415323768152012,
          0.03667147351896974,
          1.3757424357499963,
          -0.6204186792444727,
          0.32246037711615533,
          0.7176758702542765,
          -0.08952871392329798,
          -1.9115942832046897,
          0.6464809271333035,
          0.25280282897385653,
          -0.3030241591898929,
          0.13348160896768804,
          1.7778329413926857,
          -0.2706982328639064,
          0.174223288645667,
          -0.6443864622112773,
          0.05767854227106527,
          0.9359769594187413,
          -0.2108110112579468,
          0.7232976098150298,
          0.13782196537317143,
          0.1965086400798674,
          -0.35595137558340306,
          0.19120368500211257,
          1.190555681945383,
          0.29840087375121377,
          1.709979954740142,
          -2.448437868821938,
          0.23410079150844357,
          0.433512903693733,
          1.9187512221029763,
          0.34796679107170425,
          0.28328638799105765,
          0.44287235575880485,
          -0.7266976761259687,
          0.3816684048555259,
          -0.8004660246613597,
          -0.06094814916289371,
          -0.48342674827606424,
          0.8255274909549741,
          -0.10068957109932336,
          -2.172269351419027,
          -0.7422295876820347,
          -1.235546393094691,
          -1.2995927217470409,
          -0.684511063368568,
          0.9958837433328543,
          -3.1991579221704414,
          1.1793687045818502,
          -0.319124939743108,
          0.8491143895203022,
          -1.1359643999435747,
          -0.5865615969649363,
          -0.19172108517410447,
          -0.30362087781243813,
          -0.03695050115199503,
          0.9785928191618193,
          2.0128678073383885,
          0.5639780665112403,
          -1.7990312710673546,
          -1.114647156508601,
          0.2947390593870421,
          0.3690855749682276,
          0.25285277904826237,
          2.1287882496107553,
          0.08504298776070535,
          0.2704915897148827,
          -1.039195748914558,
          0.5889777880510121,
          0.9996470311558219,
          0.9065031222001652,
          -0.7944687044530946,
          -0.4705706405607836,
          -0.07239019799691816,
          0.017726005413281606,
          -1.640842578699129,
          -0.9970442281743205
         ]
        },
        {
         "boxpoints": false,
         "line": {
          "width": 1.3
         },
         "marker": {
          "color": "rgba(55, 128, 191, 1.0)"
         },
         "name": "B",
         "orientation": "v",
         "type": "box",
         "y": [
          -1.2073839278312855,
          -0.8914152871341857,
          0.9122000538112298,
          0.6498066921507818,
          -0.00899612165220606,
          -0.5004526156800174,
          0.34729418384591637,
          0.15897743642567497,
          -0.21839432228170258,
          -0.49991139525442396,
          0.9610693389406737,
          0.5618914806405604,
          1.201558960930769,
          -0.2273238288028599,
          1.1138543091175164,
          -1.0868005540326964,
          -1.1715605560090836,
          0.9003730719574612,
          0.03682778941603213,
          -0.15459482647855446,
          0.7221015269889887,
          0.38583033388373106,
          0.6543951885091118,
          0.040095597861937025,
          0.17972487983609023,
          0.28158447514524965,
          1.8330586456748375,
          -1.4855936550488982,
          -0.1883376767633526,
          1.0024422321628312,
          -0.9234550503192078,
          -0.11575204468620277,
          -0.6234014385670065,
          0.9415011286362762,
          -1.0517190719433238,
          2.0515592254487953,
          -0.2580451508330001,
          -0.5150870104052806,
          0.09088235032580956,
          2.231352209037297,
          -0.15859836080583842,
          -0.9808380119046511,
          0.06323059919233626,
          -0.21106543250299467,
          -0.6576314663591996,
          0.09798213161331863,
          -0.24017783056310635,
          0.46385088321858264,
          0.256202641291782,
          1.5882261135642595,
          -0.49785387726708114,
          -2.996055335076067,
          1.0979391220131691,
          0.3627975014686308,
          -0.10786076072121988,
          0.0641227457433506,
          -0.5508234727964582,
          -0.4893642929797324,
          -0.01295655628743466,
          0.6364408498489723,
          -1.3445070194151048,
          -1.2060950265348032,
          -1.302017996699132,
          0.30575364739168376,
          1.1344522718513066,
          -0.40899495791668117,
          -0.1879338341978866,
          0.7701867136427122,
          -0.3142097601883405,
          0.3768390832801088,
          2.2322106533883845,
          -0.6105290427360885,
          0.12788746771461784,
          0.6964055162543205,
          1.188468028747178,
          -0.1983515900990588,
          -1.8987123602775557,
          -0.4467780747490587,
          -1.401342976649239,
          1.9570162473353976,
          -2.181136421012167,
          -1.1794166803130908,
          0.19599267454193595,
          0.7740325867092016,
          -1.0193643289430883,
          -0.023458044632571996,
          -1.7150708376874946,
          0.397417382762338,
          -0.7029977592823403,
          0.6311539886525172,
          -0.4145841586488041,
          -2.4197468703272453,
          -0.46942188535039864,
          0.5744298855541616,
          -0.29328939444327295,
          2.377437799872268,
          -1.7487701098601915,
          -0.7913451308489126,
          0.46738856275175306,
          -0.7480590074762296
         ]
        },
        {
         "boxpoints": false,
         "line": {
          "width": 1.3
         },
         "marker": {
          "color": "rgba(50, 171, 96, 1.0)"
         },
         "name": "C",
         "orientation": "v",
         "type": "box",
         "y": [
          1.3572538079600367,
          0.3889542079424232,
          -0.2204280148649024,
          0.32794825283187407,
          -0.10267501810924519,
          0.37705374699585775,
          -0.20890151330780896,
          0.626243751571112,
          -1.8088289714837196,
          1.7252388502558291,
          0.48997474380667844,
          -1.9362219967236907,
          -0.1422968206402504,
          -0.15206945627461832,
          0.6214115109313594,
          -1.4615512777347377,
          -0.14958636372797185,
          0.35745921397008423,
          0.8357978106910908,
          -0.7470122961155502,
          -0.06157342593553133,
          1.312233513749872,
          0.5053341867761568,
          -0.20129983771528723,
          -1.032376489695527,
          -0.5013128056656442,
          -1.4043921119107579,
          -0.6391851582191036,
          -1.7698996934746816,
          -0.04957301282581744,
          -0.15775457767629247,
          -0.8264621718797414,
          -1.2006553269313285,
          -0.942889313612981,
          -1.56754839305474,
          0.5991803867711081,
          -0.38152555293429086,
          -2.1007726559392372,
          -0.17764077846774926,
          -1.2194784693211722,
          0.10525986908387237,
          -0.2759936902369652,
          1.797264068757335,
          -0.9064375293266415,
          -0.631599001198882,
          -0.23606505737488173,
          1.0464383207469847,
          0.7484508615287344,
          -0.6868827872993668,
          -1.2731841825690051,
          0.3194899183878682,
          -0.5449673146027159,
          -1.3574624317646504,
          -1.2157416817511568,
          1.3517008068763363,
          -0.16665352151456828,
          1.4415162667781476,
          -1.9502344824506048,
          1.6216169341371227,
          -0.10540795403149338,
          -0.20377632024452383,
          -0.3845510088852165,
          -0.35362843346234274,
          0.8547599515179909,
          0.4289986468411021,
          0.1426696706224036,
          -1.2294521706700443,
          1.340608730573424,
          -1.6643780335315081,
          0.5844734285376947,
          -0.4966543147921046,
          -0.22723137508522312,
          -1.2264747131258893,
          1.3182194186252083,
          -0.35775241673320024,
          -1.993955115142308,
          0.16731377579434287,
          -0.9746819259679719,
          -1.1010662431715916,
          1.1333955819748986,
          0.7865551264976777,
          -1.1033582478114714,
          0.27667325585704156,
          0.973013539999785,
          0.7472477246538872,
          0.5806588401418527,
          -0.9440690142746736,
          -0.7091314809087226,
          0.8292023335822314,
          -0.3111960484538863,
          -0.38686078242812555,
          -0.6731284700541769,
          -0.18278367881869112,
          -0.014898819710800332,
          0.994963349206386,
          0.5947018519682341,
          -0.6109611236269217,
          -0.18192401819093953,
          -1.5289530012851809,
          0.42490151621141736
         ]
        },
        {
         "boxpoints": false,
         "line": {
          "width": 1.3
         },
         "marker": {
          "color": "rgba(128, 0, 128, 1.0)"
         },
         "name": "D",
         "orientation": "v",
         "type": "box",
         "y": [
          -0.24295250953129108,
          -0.12827460320049489,
          2.970659842989287,
          0.45974132419489866,
          1.164454090962472,
          -0.7314055252035659,
          -0.5449101561588183,
          0.5117415970268605,
          0.3278007948311033,
          -0.23231751877037987,
          1.7868831272568824,
          -1.4135055934875524,
          0.27151805904491494,
          -1.291461804230663,
          0.0012425086116985915,
          2.3664084647711676,
          -0.2622917058892799,
          -2.1388305857772507,
          0.8069542410959432,
          -0.07977536099207176,
          0.7792965860411794,
          0.332539459677594,
          -1.9558835131769172,
          0.3031224284283438,
          -0.4402398607893659,
          -0.7981297374939099,
          0.21206370073994354,
          -0.13652782875817018,
          -0.2917311459639741,
          -0.6619420533173175,
          1.7864338216191098,
          0.4483115694708084,
          -2.8045739317148044,
          -0.37269533039988884,
          -1.03369866435832,
          -0.5065170686228558,
          -0.04597809325360672,
          0.8981809317738958,
          -0.18926184697998172,
          1.0562327390292001,
          -0.7100215522540436,
          0.061721096304667315,
          0.24362661681457334,
          1.2909836539249675,
          -1.8796434891569094,
          0.057165226884120034,
          -1.5442289516993324,
          0.06749486486318663,
          -0.7303673126311082,
          -0.7818430070190294,
          0.3589530849234872,
          0.7869622437653797,
          0.24007604461641832,
          1.1430643912329008,
          -0.708957021897143,
          0.8924603531688191,
          -1.0308859395863692,
          2.346418484754605,
          0.3616548319479292,
          -0.8701918572925443,
          0.7089471483071063,
          -0.9070039750845411,
          -0.17459980432821243,
          0.6702844154161197,
          -1.6249452282300787,
          -1.010142157907602,
          1.53797174447603,
          1.1581519529551638,
          0.24262638010011067,
          0.24072869175425662,
          -0.7941179508060363,
          0.18743613295526848,
          -0.14935234363963534,
          0.5733263723397176,
          1.7615480990725936,
          -0.057318590974638366,
          0.7553419270425359,
          -0.7173722111539768,
          -2.3089432393271414,
          0.6247880749109848,
          0.3911263785508444,
          0.6800977316187646,
          0.31656288728706317,
          1.5833236603519991,
          0.21783726551960741,
          1.2109998478708084,
          0.06837885604751842,
          0.5884254784829538,
          0.6051255415707739,
          0.08791390277971288,
          2.1845592118278785,
          1.527814568834567,
          -1.327221452690222,
          0.5428786782866669,
          0.3806844088743656,
          -1.1559784367300785,
          -0.0117129741558672,
          0.2648788265299483,
          0.35506176003794576,
          0.2318232594759154
         ]
        }
       ],
       "layout": {
        "legend": {
         "bgcolor": "#F5F6F9",
         "font": {
          "color": "#4D5663"
         }
        },
        "paper_bgcolor": "#F5F6F9",
        "plot_bgcolor": "#F5F6F9",
        "template": {
         "data": {
          "bar": [
           {
            "error_x": {
             "color": "#2a3f5f"
            },
            "error_y": {
             "color": "#2a3f5f"
            },
            "marker": {
             "line": {
              "color": "#E5ECF6",
              "width": 0.5
             }
            },
            "type": "bar"
           }
          ],
          "barpolar": [
           {
            "marker": {
             "line": {
              "color": "#E5ECF6",
              "width": 0.5
             }
            },
            "type": "barpolar"
           }
          ],
          "carpet": [
           {
            "aaxis": {
             "endlinecolor": "#2a3f5f",
             "gridcolor": "white",
             "linecolor": "white",
             "minorgridcolor": "white",
             "startlinecolor": "#2a3f5f"
            },
            "baxis": {
             "endlinecolor": "#2a3f5f",
             "gridcolor": "white",
             "linecolor": "white",
             "minorgridcolor": "white",
             "startlinecolor": "#2a3f5f"
            },
            "type": "carpet"
           }
          ],
          "choropleth": [
           {
            "colorbar": {
             "outlinewidth": 0,
             "ticks": ""
            },
            "type": "choropleth"
           }
          ],
          "contour": [
           {
            "colorbar": {
             "outlinewidth": 0,
             "ticks": ""
            },
            "colorscale": [
             [
              0,
              "#0d0887"
             ],
             [
              0.1111111111111111,
              "#46039f"
             ],
             [
              0.2222222222222222,
              "#7201a8"
             ],
             [
              0.3333333333333333,
              "#9c179e"
             ],
             [
              0.4444444444444444,
              "#bd3786"
             ],
             [
              0.5555555555555556,
              "#d8576b"
             ],
             [
              0.6666666666666666,
              "#ed7953"
             ],
             [
              0.7777777777777778,
              "#fb9f3a"
             ],
             [
              0.8888888888888888,
              "#fdca26"
             ],
             [
              1,
              "#f0f921"
             ]
            ],
            "type": "contour"
           }
          ],
          "contourcarpet": [
           {
            "colorbar": {
             "outlinewidth": 0,
             "ticks": ""
            },
            "type": "contourcarpet"
           }
          ],
          "heatmap": [
           {
            "colorbar": {
             "outlinewidth": 0,
             "ticks": ""
            },
            "colorscale": [
             [
              0,
              "#0d0887"
             ],
             [
              0.1111111111111111,
              "#46039f"
             ],
             [
              0.2222222222222222,
              "#7201a8"
             ],
             [
              0.3333333333333333,
              "#9c179e"
             ],
             [
              0.4444444444444444,
              "#bd3786"
             ],
             [
              0.5555555555555556,
              "#d8576b"
             ],
             [
              0.6666666666666666,
              "#ed7953"
             ],
             [
              0.7777777777777778,
              "#fb9f3a"
             ],
             [
              0.8888888888888888,
              "#fdca26"
             ],
             [
              1,
              "#f0f921"
             ]
            ],
            "type": "heatmap"
           }
          ],
          "heatmapgl": [
           {
            "colorbar": {
             "outlinewidth": 0,
             "ticks": ""
            },
            "colorscale": [
             [
              0,
              "#0d0887"
             ],
             [
              0.1111111111111111,
              "#46039f"
             ],
             [
              0.2222222222222222,
              "#7201a8"
             ],
             [
              0.3333333333333333,
              "#9c179e"
             ],
             [
              0.4444444444444444,
              "#bd3786"
             ],
             [
              0.5555555555555556,
              "#d8576b"
             ],
             [
              0.6666666666666666,
              "#ed7953"
             ],
             [
              0.7777777777777778,
              "#fb9f3a"
             ],
             [
              0.8888888888888888,
              "#fdca26"
             ],
             [
              1,
              "#f0f921"
             ]
            ],
            "type": "heatmapgl"
           }
          ],
          "histogram": [
           {
            "marker": {
             "colorbar": {
              "outlinewidth": 0,
              "ticks": ""
             }
            },
            "type": "histogram"
           }
          ],
          "histogram2d": [
           {
            "colorbar": {
             "outlinewidth": 0,
             "ticks": ""
            },
            "colorscale": [
             [
              0,
              "#0d0887"
             ],
             [
              0.1111111111111111,
              "#46039f"
             ],
             [
              0.2222222222222222,
              "#7201a8"
             ],
             [
              0.3333333333333333,
              "#9c179e"
             ],
             [
              0.4444444444444444,
              "#bd3786"
             ],
             [
              0.5555555555555556,
              "#d8576b"
             ],
             [
              0.6666666666666666,
              "#ed7953"
             ],
             [
              0.7777777777777778,
              "#fb9f3a"
             ],
             [
              0.8888888888888888,
              "#fdca26"
             ],
             [
              1,
              "#f0f921"
             ]
            ],
            "type": "histogram2d"
           }
          ],
          "histogram2dcontour": [
           {
            "colorbar": {
             "outlinewidth": 0,
             "ticks": ""
            },
            "colorscale": [
             [
              0,
              "#0d0887"
             ],
             [
              0.1111111111111111,
              "#46039f"
             ],
             [
              0.2222222222222222,
              "#7201a8"
             ],
             [
              0.3333333333333333,
              "#9c179e"
             ],
             [
              0.4444444444444444,
              "#bd3786"
             ],
             [
              0.5555555555555556,
              "#d8576b"
             ],
             [
              0.6666666666666666,
              "#ed7953"
             ],
             [
              0.7777777777777778,
              "#fb9f3a"
             ],
             [
              0.8888888888888888,
              "#fdca26"
             ],
             [
              1,
              "#f0f921"
             ]
            ],
            "type": "histogram2dcontour"
           }
          ],
          "mesh3d": [
           {
            "colorbar": {
             "outlinewidth": 0,
             "ticks": ""
            },
            "type": "mesh3d"
           }
          ],
          "parcoords": [
           {
            "line": {
             "colorbar": {
              "outlinewidth": 0,
              "ticks": ""
             }
            },
            "type": "parcoords"
           }
          ],
          "pie": [
           {
            "automargin": true,
            "type": "pie"
           }
          ],
          "scatter": [
           {
            "marker": {
             "colorbar": {
              "outlinewidth": 0,
              "ticks": ""
             }
            },
            "type": "scatter"
           }
          ],
          "scatter3d": [
           {
            "line": {
             "colorbar": {
              "outlinewidth": 0,
              "ticks": ""
             }
            },
            "marker": {
             "colorbar": {
              "outlinewidth": 0,
              "ticks": ""
             }
            },
            "type": "scatter3d"
           }
          ],
          "scattercarpet": [
           {
            "marker": {
             "colorbar": {
              "outlinewidth": 0,
              "ticks": ""
             }
            },
            "type": "scattercarpet"
           }
          ],
          "scattergeo": [
           {
            "marker": {
             "colorbar": {
              "outlinewidth": 0,
              "ticks": ""
             }
            },
            "type": "scattergeo"
           }
          ],
          "scattergl": [
           {
            "marker": {
             "colorbar": {
              "outlinewidth": 0,
              "ticks": ""
             }
            },
            "type": "scattergl"
           }
          ],
          "scattermapbox": [
           {
            "marker": {
             "colorbar": {
              "outlinewidth": 0,
              "ticks": ""
             }
            },
            "type": "scattermapbox"
           }
          ],
          "scatterpolar": [
           {
            "marker": {
             "colorbar": {
              "outlinewidth": 0,
              "ticks": ""
             }
            },
            "type": "scatterpolar"
           }
          ],
          "scatterpolargl": [
           {
            "marker": {
             "colorbar": {
              "outlinewidth": 0,
              "ticks": ""
             }
            },
            "type": "scatterpolargl"
           }
          ],
          "scatterternary": [
           {
            "marker": {
             "colorbar": {
              "outlinewidth": 0,
              "ticks": ""
             }
            },
            "type": "scatterternary"
           }
          ],
          "surface": [
           {
            "colorbar": {
             "outlinewidth": 0,
             "ticks": ""
            },
            "colorscale": [
             [
              0,
              "#0d0887"
             ],
             [
              0.1111111111111111,
              "#46039f"
             ],
             [
              0.2222222222222222,
              "#7201a8"
             ],
             [
              0.3333333333333333,
              "#9c179e"
             ],
             [
              0.4444444444444444,
              "#bd3786"
             ],
             [
              0.5555555555555556,
              "#d8576b"
             ],
             [
              0.6666666666666666,
              "#ed7953"
             ],
             [
              0.7777777777777778,
              "#fb9f3a"
             ],
             [
              0.8888888888888888,
              "#fdca26"
             ],
             [
              1,
              "#f0f921"
             ]
            ],
            "type": "surface"
           }
          ],
          "table": [
           {
            "cells": {
             "fill": {
              "color": "#EBF0F8"
             },
             "line": {
              "color": "white"
             }
            },
            "header": {
             "fill": {
              "color": "#C8D4E3"
             },
             "line": {
              "color": "white"
             }
            },
            "type": "table"
           }
          ]
         },
         "layout": {
          "annotationdefaults": {
           "arrowcolor": "#2a3f5f",
           "arrowhead": 0,
           "arrowwidth": 1
          },
          "coloraxis": {
           "colorbar": {
            "outlinewidth": 0,
            "ticks": ""
           }
          },
          "colorscale": {
           "diverging": [
            [
             0,
             "#8e0152"
            ],
            [
             0.1,
             "#c51b7d"
            ],
            [
             0.2,
             "#de77ae"
            ],
            [
             0.3,
             "#f1b6da"
            ],
            [
             0.4,
             "#fde0ef"
            ],
            [
             0.5,
             "#f7f7f7"
            ],
            [
             0.6,
             "#e6f5d0"
            ],
            [
             0.7,
             "#b8e186"
            ],
            [
             0.8,
             "#7fbc41"
            ],
            [
             0.9,
             "#4d9221"
            ],
            [
             1,
             "#276419"
            ]
           ],
           "sequential": [
            [
             0,
             "#0d0887"
            ],
            [
             0.1111111111111111,
             "#46039f"
            ],
            [
             0.2222222222222222,
             "#7201a8"
            ],
            [
             0.3333333333333333,
             "#9c179e"
            ],
            [
             0.4444444444444444,
             "#bd3786"
            ],
            [
             0.5555555555555556,
             "#d8576b"
            ],
            [
             0.6666666666666666,
             "#ed7953"
            ],
            [
             0.7777777777777778,
             "#fb9f3a"
            ],
            [
             0.8888888888888888,
             "#fdca26"
            ],
            [
             1,
             "#f0f921"
            ]
           ],
           "sequentialminus": [
            [
             0,
             "#0d0887"
            ],
            [
             0.1111111111111111,
             "#46039f"
            ],
            [
             0.2222222222222222,
             "#7201a8"
            ],
            [
             0.3333333333333333,
             "#9c179e"
            ],
            [
             0.4444444444444444,
             "#bd3786"
            ],
            [
             0.5555555555555556,
             "#d8576b"
            ],
            [
             0.6666666666666666,
             "#ed7953"
            ],
            [
             0.7777777777777778,
             "#fb9f3a"
            ],
            [
             0.8888888888888888,
             "#fdca26"
            ],
            [
             1,
             "#f0f921"
            ]
           ]
          },
          "colorway": [
           "#636efa",
           "#EF553B",
           "#00cc96",
           "#ab63fa",
           "#FFA15A",
           "#19d3f3",
           "#FF6692",
           "#B6E880",
           "#FF97FF",
           "#FECB52"
          ],
          "font": {
           "color": "#2a3f5f"
          },
          "geo": {
           "bgcolor": "white",
           "lakecolor": "white",
           "landcolor": "#E5ECF6",
           "showlakes": true,
           "showland": true,
           "subunitcolor": "white"
          },
          "hoverlabel": {
           "align": "left"
          },
          "hovermode": "closest",
          "mapbox": {
           "style": "light"
          },
          "paper_bgcolor": "white",
          "plot_bgcolor": "#E5ECF6",
          "polar": {
           "angularaxis": {
            "gridcolor": "white",
            "linecolor": "white",
            "ticks": ""
           },
           "bgcolor": "#E5ECF6",
           "radialaxis": {
            "gridcolor": "white",
            "linecolor": "white",
            "ticks": ""
           }
          },
          "scene": {
           "xaxis": {
            "backgroundcolor": "#E5ECF6",
            "gridcolor": "white",
            "gridwidth": 2,
            "linecolor": "white",
            "showbackground": true,
            "ticks": "",
            "zerolinecolor": "white"
           },
           "yaxis": {
            "backgroundcolor": "#E5ECF6",
            "gridcolor": "white",
            "gridwidth": 2,
            "linecolor": "white",
            "showbackground": true,
            "ticks": "",
            "zerolinecolor": "white"
           },
           "zaxis": {
            "backgroundcolor": "#E5ECF6",
            "gridcolor": "white",
            "gridwidth": 2,
            "linecolor": "white",
            "showbackground": true,
            "ticks": "",
            "zerolinecolor": "white"
           }
          },
          "shapedefaults": {
           "line": {
            "color": "#2a3f5f"
           }
          },
          "ternary": {
           "aaxis": {
            "gridcolor": "white",
            "linecolor": "white",
            "ticks": ""
           },
           "baxis": {
            "gridcolor": "white",
            "linecolor": "white",
            "ticks": ""
           },
           "bgcolor": "#E5ECF6",
           "caxis": {
            "gridcolor": "white",
            "linecolor": "white",
            "ticks": ""
           }
          },
          "title": {
           "x": 0.05
          },
          "xaxis": {
           "automargin": true,
           "gridcolor": "white",
           "linecolor": "white",
           "ticks": "",
           "title": {
            "standoff": 15
           },
           "zerolinecolor": "white",
           "zerolinewidth": 2
          },
          "yaxis": {
           "automargin": true,
           "gridcolor": "white",
           "linecolor": "white",
           "ticks": "",
           "title": {
            "standoff": 15
           },
           "zerolinecolor": "white",
           "zerolinewidth": 2
          }
         }
        },
        "title": {
         "font": {
          "color": "#4D5663"
         }
        },
        "xaxis": {
         "gridcolor": "#E1E5ED",
         "showgrid": true,
         "tickfont": {
          "color": "#4D5663"
         },
         "title": {
          "font": {
           "color": "#4D5663"
          },
          "text": ""
         },
         "zerolinecolor": "#E1E5ED"
        },
        "yaxis": {
         "gridcolor": "#E1E5ED",
         "showgrid": true,
         "tickfont": {
          "color": "#4D5663"
         },
         "title": {
          "font": {
           "color": "#4D5663"
          },
          "text": ""
         },
         "zerolinecolor": "#E1E5ED"
        }
       }
      },
      "text/html": [
       "<div>\n",
       "        \n",
       "        \n",
       "            <div id=\"9f5607ab-39df-4e72-9c96-071fd1c8c415\" class=\"plotly-graph-div\" style=\"height:525px; width:100%;\"></div>\n",
       "            <script type=\"text/javascript\">\n",
       "                require([\"plotly\"], function(Plotly) {\n",
       "                    window.PLOTLYENV=window.PLOTLYENV || {};\n",
       "                    window.PLOTLYENV.BASE_URL='https://plot.ly';\n",
       "                    \n",
       "                if (document.getElementById(\"9f5607ab-39df-4e72-9c96-071fd1c8c415\")) {\n",
       "                    Plotly.newPlot(\n",
       "                        '9f5607ab-39df-4e72-9c96-071fd1c8c415',\n",
       "                        [{\"boxpoints\": false, \"line\": {\"width\": 1.3}, \"marker\": {\"color\": \"rgba(255, 153, 51, 1.0)\"}, \"name\": \"A\", \"orientation\": \"v\", \"type\": \"box\", \"y\": [-0.6889956521739307, -0.10998876634393508, 0.09699922766269028, -0.8808256190850161, 2.2172396213269425, -0.5181556954513972, 0.044220521243459814, -0.6182983871486031, 0.5035632820391117, -1.9735185015594627, -1.1226476322836956, -0.033709732199987, -0.47506049831864783, 0.4062401342415919, -0.8298431157254298, 0.6484928745668593, -0.8484283621195674, -0.11478932596098841, 0.4156464856047231, -1.2044313934808315, -0.7377218812849837, -0.3530399705530779, -1.2354471686035418, 1.415323768152012, 0.03667147351896974, 1.3757424357499963, -0.6204186792444727, 0.32246037711615533, 0.7176758702542765, -0.08952871392329798, -1.9115942832046897, 0.6464809271333035, 0.25280282897385653, -0.3030241591898929, 0.13348160896768804, 1.7778329413926857, -0.2706982328639064, 0.174223288645667, -0.6443864622112773, 0.05767854227106527, 0.9359769594187413, -0.2108110112579468, 0.7232976098150298, 0.13782196537317143, 0.1965086400798674, -0.35595137558340306, 0.19120368500211257, 1.190555681945383, 0.29840087375121377, 1.709979954740142, -2.448437868821938, 0.23410079150844357, 0.433512903693733, 1.9187512221029763, 0.34796679107170425, 0.28328638799105765, 0.44287235575880485, -0.7266976761259687, 0.3816684048555259, -0.8004660246613597, -0.06094814916289371, -0.48342674827606424, 0.8255274909549741, -0.10068957109932336, -2.172269351419027, -0.7422295876820347, -1.235546393094691, -1.2995927217470409, -0.684511063368568, 0.9958837433328543, -3.1991579221704414, 1.1793687045818502, -0.319124939743108, 0.8491143895203022, -1.1359643999435747, -0.5865615969649363, -0.19172108517410447, -0.30362087781243813, -0.03695050115199503, 0.9785928191618193, 2.0128678073383885, 0.5639780665112403, -1.7990312710673546, -1.114647156508601, 0.2947390593870421, 0.3690855749682276, 0.25285277904826237, 2.1287882496107553, 0.08504298776070535, 0.2704915897148827, -1.039195748914558, 0.5889777880510121, 0.9996470311558219, 0.9065031222001652, -0.7944687044530946, -0.4705706405607836, -0.07239019799691816, 0.017726005413281606, -1.640842578699129, -0.9970442281743205]}, {\"boxpoints\": false, \"line\": {\"width\": 1.3}, \"marker\": {\"color\": \"rgba(55, 128, 191, 1.0)\"}, \"name\": \"B\", \"orientation\": \"v\", \"type\": \"box\", \"y\": [-1.2073839278312855, -0.8914152871341857, 0.9122000538112298, 0.6498066921507818, -0.00899612165220606, -0.5004526156800174, 0.34729418384591637, 0.15897743642567497, -0.21839432228170258, -0.49991139525442396, 0.9610693389406737, 0.5618914806405604, 1.201558960930769, -0.2273238288028599, 1.1138543091175164, -1.0868005540326964, -1.1715605560090836, 0.9003730719574612, 0.03682778941603213, -0.15459482647855446, 0.7221015269889887, 0.38583033388373106, 0.6543951885091118, 0.040095597861937025, 0.17972487983609023, 0.28158447514524965, 1.8330586456748375, -1.4855936550488982, -0.1883376767633526, 1.0024422321628312, -0.9234550503192078, -0.11575204468620277, -0.6234014385670065, 0.9415011286362762, -1.0517190719433238, 2.0515592254487953, -0.2580451508330001, -0.5150870104052806, 0.09088235032580956, 2.231352209037297, -0.15859836080583842, -0.9808380119046511, 0.06323059919233626, -0.21106543250299467, -0.6576314663591996, 0.09798213161331863, -0.24017783056310635, 0.46385088321858264, 0.256202641291782, 1.5882261135642595, -0.49785387726708114, -2.996055335076067, 1.0979391220131691, 0.3627975014686308, -0.10786076072121988, 0.0641227457433506, -0.5508234727964582, -0.4893642929797324, -0.01295655628743466, 0.6364408498489723, -1.3445070194151048, -1.2060950265348032, -1.302017996699132, 0.30575364739168376, 1.1344522718513066, -0.40899495791668117, -0.1879338341978866, 0.7701867136427122, -0.3142097601883405, 0.3768390832801088, 2.2322106533883845, -0.6105290427360885, 0.12788746771461784, 0.6964055162543205, 1.188468028747178, -0.1983515900990588, -1.8987123602775557, -0.4467780747490587, -1.401342976649239, 1.9570162473353976, -2.181136421012167, -1.1794166803130908, 0.19599267454193595, 0.7740325867092016, -1.0193643289430883, -0.023458044632571996, -1.7150708376874946, 0.397417382762338, -0.7029977592823403, 0.6311539886525172, -0.4145841586488041, -2.4197468703272453, -0.46942188535039864, 0.5744298855541616, -0.29328939444327295, 2.377437799872268, -1.7487701098601915, -0.7913451308489126, 0.46738856275175306, -0.7480590074762296]}, {\"boxpoints\": false, \"line\": {\"width\": 1.3}, \"marker\": {\"color\": \"rgba(50, 171, 96, 1.0)\"}, \"name\": \"C\", \"orientation\": \"v\", \"type\": \"box\", \"y\": [1.3572538079600367, 0.3889542079424232, -0.2204280148649024, 0.32794825283187407, -0.10267501810924519, 0.37705374699585775, -0.20890151330780896, 0.626243751571112, -1.8088289714837196, 1.7252388502558291, 0.48997474380667844, -1.9362219967236907, -0.1422968206402504, -0.15206945627461832, 0.6214115109313594, -1.4615512777347377, -0.14958636372797185, 0.35745921397008423, 0.8357978106910908, -0.7470122961155502, -0.06157342593553133, 1.312233513749872, 0.5053341867761568, -0.20129983771528723, -1.032376489695527, -0.5013128056656442, -1.4043921119107579, -0.6391851582191036, -1.7698996934746816, -0.04957301282581744, -0.15775457767629247, -0.8264621718797414, -1.2006553269313285, -0.942889313612981, -1.56754839305474, 0.5991803867711081, -0.38152555293429086, -2.1007726559392372, -0.17764077846774926, -1.2194784693211722, 0.10525986908387237, -0.2759936902369652, 1.797264068757335, -0.9064375293266415, -0.631599001198882, -0.23606505737488173, 1.0464383207469847, 0.7484508615287344, -0.6868827872993668, -1.2731841825690051, 0.3194899183878682, -0.5449673146027159, -1.3574624317646504, -1.2157416817511568, 1.3517008068763363, -0.16665352151456828, 1.4415162667781476, -1.9502344824506048, 1.6216169341371227, -0.10540795403149338, -0.20377632024452383, -0.3845510088852165, -0.35362843346234274, 0.8547599515179909, 0.4289986468411021, 0.1426696706224036, -1.2294521706700443, 1.340608730573424, -1.6643780335315081, 0.5844734285376947, -0.4966543147921046, -0.22723137508522312, -1.2264747131258893, 1.3182194186252083, -0.35775241673320024, -1.993955115142308, 0.16731377579434287, -0.9746819259679719, -1.1010662431715916, 1.1333955819748986, 0.7865551264976777, -1.1033582478114714, 0.27667325585704156, 0.973013539999785, 0.7472477246538872, 0.5806588401418527, -0.9440690142746736, -0.7091314809087226, 0.8292023335822314, -0.3111960484538863, -0.38686078242812555, -0.6731284700541769, -0.18278367881869112, -0.014898819710800332, 0.994963349206386, 0.5947018519682341, -0.6109611236269217, -0.18192401819093953, -1.5289530012851809, 0.42490151621141736]}, {\"boxpoints\": false, \"line\": {\"width\": 1.3}, \"marker\": {\"color\": \"rgba(128, 0, 128, 1.0)\"}, \"name\": \"D\", \"orientation\": \"v\", \"type\": \"box\", \"y\": [-0.24295250953129108, -0.12827460320049489, 2.970659842989287, 0.45974132419489866, 1.164454090962472, -0.7314055252035659, -0.5449101561588183, 0.5117415970268605, 0.3278007948311033, -0.23231751877037987, 1.7868831272568824, -1.4135055934875524, 0.27151805904491494, -1.291461804230663, 0.0012425086116985915, 2.3664084647711676, -0.2622917058892799, -2.1388305857772507, 0.8069542410959432, -0.07977536099207176, 0.7792965860411794, 0.332539459677594, -1.9558835131769172, 0.3031224284283438, -0.4402398607893659, -0.7981297374939099, 0.21206370073994354, -0.13652782875817018, -0.2917311459639741, -0.6619420533173175, 1.7864338216191098, 0.4483115694708084, -2.8045739317148044, -0.37269533039988884, -1.03369866435832, -0.5065170686228558, -0.04597809325360672, 0.8981809317738958, -0.18926184697998172, 1.0562327390292001, -0.7100215522540436, 0.061721096304667315, 0.24362661681457334, 1.2909836539249675, -1.8796434891569094, 0.057165226884120034, -1.5442289516993324, 0.06749486486318663, -0.7303673126311082, -0.7818430070190294, 0.3589530849234872, 0.7869622437653797, 0.24007604461641832, 1.1430643912329008, -0.708957021897143, 0.8924603531688191, -1.0308859395863692, 2.346418484754605, 0.3616548319479292, -0.8701918572925443, 0.7089471483071063, -0.9070039750845411, -0.17459980432821243, 0.6702844154161197, -1.6249452282300787, -1.010142157907602, 1.53797174447603, 1.1581519529551638, 0.24262638010011067, 0.24072869175425662, -0.7941179508060363, 0.18743613295526848, -0.14935234363963534, 0.5733263723397176, 1.7615480990725936, -0.057318590974638366, 0.7553419270425359, -0.7173722111539768, -2.3089432393271414, 0.6247880749109848, 0.3911263785508444, 0.6800977316187646, 0.31656288728706317, 1.5833236603519991, 0.21783726551960741, 1.2109998478708084, 0.06837885604751842, 0.5884254784829538, 0.6051255415707739, 0.08791390277971288, 2.1845592118278785, 1.527814568834567, -1.327221452690222, 0.5428786782866669, 0.3806844088743656, -1.1559784367300785, -0.0117129741558672, 0.2648788265299483, 0.35506176003794576, 0.2318232594759154]}],\n",
       "                        {\"legend\": {\"bgcolor\": \"#F5F6F9\", \"font\": {\"color\": \"#4D5663\"}}, \"paper_bgcolor\": \"#F5F6F9\", \"plot_bgcolor\": \"#F5F6F9\", \"template\": {\"data\": {\"bar\": [{\"error_x\": {\"color\": \"#2a3f5f\"}, \"error_y\": {\"color\": \"#2a3f5f\"}, \"marker\": {\"line\": {\"color\": \"#E5ECF6\", \"width\": 0.5}}, \"type\": \"bar\"}], \"barpolar\": [{\"marker\": {\"line\": {\"color\": \"#E5ECF6\", \"width\": 0.5}}, \"type\": \"barpolar\"}], \"carpet\": [{\"aaxis\": {\"endlinecolor\": \"#2a3f5f\", \"gridcolor\": \"white\", \"linecolor\": \"white\", \"minorgridcolor\": \"white\", \"startlinecolor\": \"#2a3f5f\"}, \"baxis\": {\"endlinecolor\": \"#2a3f5f\", \"gridcolor\": \"white\", \"linecolor\": \"white\", \"minorgridcolor\": \"white\", \"startlinecolor\": \"#2a3f5f\"}, \"type\": \"carpet\"}], \"choropleth\": [{\"colorbar\": {\"outlinewidth\": 0, \"ticks\": \"\"}, \"type\": \"choropleth\"}], \"contour\": [{\"colorbar\": {\"outlinewidth\": 0, \"ticks\": \"\"}, \"colorscale\": [[0.0, \"#0d0887\"], [0.1111111111111111, \"#46039f\"], [0.2222222222222222, \"#7201a8\"], [0.3333333333333333, \"#9c179e\"], [0.4444444444444444, \"#bd3786\"], [0.5555555555555556, \"#d8576b\"], [0.6666666666666666, \"#ed7953\"], [0.7777777777777778, \"#fb9f3a\"], [0.8888888888888888, \"#fdca26\"], [1.0, \"#f0f921\"]], \"type\": \"contour\"}], \"contourcarpet\": [{\"colorbar\": {\"outlinewidth\": 0, \"ticks\": \"\"}, \"type\": \"contourcarpet\"}], \"heatmap\": [{\"colorbar\": {\"outlinewidth\": 0, \"ticks\": \"\"}, \"colorscale\": [[0.0, \"#0d0887\"], [0.1111111111111111, \"#46039f\"], [0.2222222222222222, \"#7201a8\"], [0.3333333333333333, \"#9c179e\"], [0.4444444444444444, \"#bd3786\"], [0.5555555555555556, \"#d8576b\"], [0.6666666666666666, \"#ed7953\"], [0.7777777777777778, \"#fb9f3a\"], [0.8888888888888888, \"#fdca26\"], [1.0, \"#f0f921\"]], \"type\": \"heatmap\"}], \"heatmapgl\": [{\"colorbar\": {\"outlinewidth\": 0, \"ticks\": \"\"}, \"colorscale\": [[0.0, \"#0d0887\"], [0.1111111111111111, \"#46039f\"], [0.2222222222222222, \"#7201a8\"], [0.3333333333333333, \"#9c179e\"], [0.4444444444444444, \"#bd3786\"], [0.5555555555555556, \"#d8576b\"], [0.6666666666666666, \"#ed7953\"], [0.7777777777777778, \"#fb9f3a\"], [0.8888888888888888, \"#fdca26\"], [1.0, \"#f0f921\"]], \"type\": \"heatmapgl\"}], \"histogram\": [{\"marker\": {\"colorbar\": {\"outlinewidth\": 0, \"ticks\": \"\"}}, \"type\": \"histogram\"}], \"histogram2d\": [{\"colorbar\": {\"outlinewidth\": 0, \"ticks\": \"\"}, \"colorscale\": [[0.0, \"#0d0887\"], [0.1111111111111111, \"#46039f\"], [0.2222222222222222, \"#7201a8\"], [0.3333333333333333, \"#9c179e\"], [0.4444444444444444, \"#bd3786\"], [0.5555555555555556, \"#d8576b\"], [0.6666666666666666, \"#ed7953\"], [0.7777777777777778, \"#fb9f3a\"], [0.8888888888888888, \"#fdca26\"], [1.0, \"#f0f921\"]], \"type\": \"histogram2d\"}], \"histogram2dcontour\": [{\"colorbar\": {\"outlinewidth\": 0, \"ticks\": \"\"}, \"colorscale\": [[0.0, \"#0d0887\"], [0.1111111111111111, \"#46039f\"], [0.2222222222222222, \"#7201a8\"], [0.3333333333333333, \"#9c179e\"], [0.4444444444444444, \"#bd3786\"], [0.5555555555555556, \"#d8576b\"], [0.6666666666666666, \"#ed7953\"], [0.7777777777777778, \"#fb9f3a\"], [0.8888888888888888, \"#fdca26\"], [1.0, \"#f0f921\"]], \"type\": \"histogram2dcontour\"}], \"mesh3d\": [{\"colorbar\": {\"outlinewidth\": 0, \"ticks\": \"\"}, \"type\": \"mesh3d\"}], \"parcoords\": [{\"line\": {\"colorbar\": {\"outlinewidth\": 0, \"ticks\": \"\"}}, \"type\": \"parcoords\"}], \"pie\": [{\"automargin\": true, \"type\": \"pie\"}], \"scatter\": [{\"marker\": {\"colorbar\": {\"outlinewidth\": 0, \"ticks\": \"\"}}, \"type\": \"scatter\"}], \"scatter3d\": [{\"line\": {\"colorbar\": {\"outlinewidth\": 0, \"ticks\": \"\"}}, \"marker\": {\"colorbar\": {\"outlinewidth\": 0, \"ticks\": \"\"}}, \"type\": \"scatter3d\"}], \"scattercarpet\": [{\"marker\": {\"colorbar\": {\"outlinewidth\": 0, \"ticks\": \"\"}}, \"type\": \"scattercarpet\"}], \"scattergeo\": [{\"marker\": {\"colorbar\": {\"outlinewidth\": 0, \"ticks\": \"\"}}, \"type\": \"scattergeo\"}], \"scattergl\": [{\"marker\": {\"colorbar\": {\"outlinewidth\": 0, \"ticks\": \"\"}}, \"type\": \"scattergl\"}], \"scattermapbox\": [{\"marker\": {\"colorbar\": {\"outlinewidth\": 0, \"ticks\": \"\"}}, \"type\": \"scattermapbox\"}], \"scatterpolar\": [{\"marker\": {\"colorbar\": {\"outlinewidth\": 0, \"ticks\": \"\"}}, \"type\": \"scatterpolar\"}], \"scatterpolargl\": [{\"marker\": {\"colorbar\": {\"outlinewidth\": 0, \"ticks\": \"\"}}, \"type\": \"scatterpolargl\"}], \"scatterternary\": [{\"marker\": {\"colorbar\": {\"outlinewidth\": 0, \"ticks\": \"\"}}, \"type\": \"scatterternary\"}], \"surface\": [{\"colorbar\": {\"outlinewidth\": 0, \"ticks\": \"\"}, \"colorscale\": [[0.0, \"#0d0887\"], [0.1111111111111111, \"#46039f\"], [0.2222222222222222, \"#7201a8\"], [0.3333333333333333, \"#9c179e\"], [0.4444444444444444, \"#bd3786\"], [0.5555555555555556, \"#d8576b\"], [0.6666666666666666, \"#ed7953\"], [0.7777777777777778, \"#fb9f3a\"], [0.8888888888888888, \"#fdca26\"], [1.0, \"#f0f921\"]], \"type\": \"surface\"}], \"table\": [{\"cells\": {\"fill\": {\"color\": \"#EBF0F8\"}, \"line\": {\"color\": \"white\"}}, \"header\": {\"fill\": {\"color\": \"#C8D4E3\"}, \"line\": {\"color\": \"white\"}}, \"type\": \"table\"}]}, \"layout\": {\"annotationdefaults\": {\"arrowcolor\": \"#2a3f5f\", \"arrowhead\": 0, \"arrowwidth\": 1}, \"coloraxis\": {\"colorbar\": {\"outlinewidth\": 0, \"ticks\": \"\"}}, \"colorscale\": {\"diverging\": [[0, \"#8e0152\"], [0.1, \"#c51b7d\"], [0.2, \"#de77ae\"], [0.3, \"#f1b6da\"], [0.4, \"#fde0ef\"], [0.5, \"#f7f7f7\"], [0.6, \"#e6f5d0\"], [0.7, \"#b8e186\"], [0.8, \"#7fbc41\"], [0.9, \"#4d9221\"], [1, \"#276419\"]], \"sequential\": [[0.0, \"#0d0887\"], [0.1111111111111111, \"#46039f\"], [0.2222222222222222, \"#7201a8\"], [0.3333333333333333, \"#9c179e\"], [0.4444444444444444, \"#bd3786\"], [0.5555555555555556, \"#d8576b\"], [0.6666666666666666, \"#ed7953\"], [0.7777777777777778, \"#fb9f3a\"], [0.8888888888888888, \"#fdca26\"], [1.0, \"#f0f921\"]], \"sequentialminus\": [[0.0, \"#0d0887\"], [0.1111111111111111, \"#46039f\"], [0.2222222222222222, \"#7201a8\"], [0.3333333333333333, \"#9c179e\"], [0.4444444444444444, \"#bd3786\"], [0.5555555555555556, \"#d8576b\"], [0.6666666666666666, \"#ed7953\"], [0.7777777777777778, \"#fb9f3a\"], [0.8888888888888888, \"#fdca26\"], [1.0, \"#f0f921\"]]}, \"colorway\": [\"#636efa\", \"#EF553B\", \"#00cc96\", \"#ab63fa\", \"#FFA15A\", \"#19d3f3\", \"#FF6692\", \"#B6E880\", \"#FF97FF\", \"#FECB52\"], \"font\": {\"color\": \"#2a3f5f\"}, \"geo\": {\"bgcolor\": \"white\", \"lakecolor\": \"white\", \"landcolor\": \"#E5ECF6\", \"showlakes\": true, \"showland\": true, \"subunitcolor\": \"white\"}, \"hoverlabel\": {\"align\": \"left\"}, \"hovermode\": \"closest\", \"mapbox\": {\"style\": \"light\"}, \"paper_bgcolor\": \"white\", \"plot_bgcolor\": \"#E5ECF6\", \"polar\": {\"angularaxis\": {\"gridcolor\": \"white\", \"linecolor\": \"white\", \"ticks\": \"\"}, \"bgcolor\": \"#E5ECF6\", \"radialaxis\": {\"gridcolor\": \"white\", \"linecolor\": \"white\", \"ticks\": \"\"}}, \"scene\": {\"xaxis\": {\"backgroundcolor\": \"#E5ECF6\", \"gridcolor\": \"white\", \"gridwidth\": 2, \"linecolor\": \"white\", \"showbackground\": true, \"ticks\": \"\", \"zerolinecolor\": \"white\"}, \"yaxis\": {\"backgroundcolor\": \"#E5ECF6\", \"gridcolor\": \"white\", \"gridwidth\": 2, \"linecolor\": \"white\", \"showbackground\": true, \"ticks\": \"\", \"zerolinecolor\": \"white\"}, \"zaxis\": {\"backgroundcolor\": \"#E5ECF6\", \"gridcolor\": \"white\", \"gridwidth\": 2, \"linecolor\": \"white\", \"showbackground\": true, \"ticks\": \"\", \"zerolinecolor\": \"white\"}}, \"shapedefaults\": {\"line\": {\"color\": \"#2a3f5f\"}}, \"ternary\": {\"aaxis\": {\"gridcolor\": \"white\", \"linecolor\": \"white\", \"ticks\": \"\"}, \"baxis\": {\"gridcolor\": \"white\", \"linecolor\": \"white\", \"ticks\": \"\"}, \"bgcolor\": \"#E5ECF6\", \"caxis\": {\"gridcolor\": \"white\", \"linecolor\": \"white\", \"ticks\": \"\"}}, \"title\": {\"x\": 0.05}, \"xaxis\": {\"automargin\": true, \"gridcolor\": \"white\", \"linecolor\": \"white\", \"ticks\": \"\", \"title\": {\"standoff\": 15}, \"zerolinecolor\": \"white\", \"zerolinewidth\": 2}, \"yaxis\": {\"automargin\": true, \"gridcolor\": \"white\", \"linecolor\": \"white\", \"ticks\": \"\", \"title\": {\"standoff\": 15}, \"zerolinecolor\": \"white\", \"zerolinewidth\": 2}}}, \"title\": {\"font\": {\"color\": \"#4D5663\"}}, \"xaxis\": {\"gridcolor\": \"#E1E5ED\", \"showgrid\": true, \"tickfont\": {\"color\": \"#4D5663\"}, \"title\": {\"font\": {\"color\": \"#4D5663\"}, \"text\": \"\"}, \"zerolinecolor\": \"#E1E5ED\"}, \"yaxis\": {\"gridcolor\": \"#E1E5ED\", \"showgrid\": true, \"tickfont\": {\"color\": \"#4D5663\"}, \"title\": {\"font\": {\"color\": \"#4D5663\"}, \"text\": \"\"}, \"zerolinecolor\": \"#E1E5ED\"}},\n",
       "                        {\"showLink\": true, \"linkText\": \"Export to plot.ly\", \"plotlyServerURL\": \"https://plot.ly\", \"responsive\": true}\n",
       "                    ).then(function(){\n",
       "                            \n",
       "var gd = document.getElementById('9f5607ab-39df-4e72-9c96-071fd1c8c415');\n",
       "var x = new MutationObserver(function (mutations, observer) {{\n",
       "        var display = window.getComputedStyle(gd).display;\n",
       "        if (!display || display === 'none') {{\n",
       "            console.log([gd, 'removed!']);\n",
       "            Plotly.purge(gd);\n",
       "            observer.disconnect();\n",
       "        }}\n",
       "}});\n",
       "\n",
       "// Listen for the removal of the full notebook cells\n",
       "var notebookContainer = gd.closest('#notebook-container');\n",
       "if (notebookContainer) {{\n",
       "    x.observe(notebookContainer, {childList: true});\n",
       "}}\n",
       "\n",
       "// Listen for the clearing of the current output cell\n",
       "var outputEl = gd.closest('.output');\n",
       "if (outputEl) {{\n",
       "    x.observe(outputEl, {childList: true});\n",
       "}}\n",
       "\n",
       "                        })\n",
       "                };\n",
       "                });\n",
       "            </script>\n",
       "        </div>"
      ]
     },
     "metadata": {},
     "output_type": "display_data"
    }
   ],
   "source": [
    "df.iplot(kind='box')"
   ]
  },
  {
   "cell_type": "markdown",
   "metadata": {},
   "source": [
    "## 3d Surface"
   ]
  },
  {
   "cell_type": "code",
   "execution_count": 15,
   "metadata": {},
   "outputs": [
    {
     "data": {
      "application/vnd.plotly.v1+json": {
       "config": {
        "linkText": "Export to plot.ly",
        "plotlyServerURL": "https://plot.ly",
        "showLink": true
       },
       "data": [
        {
         "colorscale": [
          [
           0,
           "rgb(165,0,38)"
          ],
          [
           0.1,
           "rgb(215,48,39)"
          ],
          [
           0.2,
           "rgb(244,109,67)"
          ],
          [
           0.3,
           "rgb(253,174,97)"
          ],
          [
           0.4,
           "rgb(254,224,144)"
          ],
          [
           0.5,
           "rgb(255,255,191)"
          ],
          [
           0.6,
           "rgb(224,243,248)"
          ],
          [
           0.7,
           "rgb(171,217,233)"
          ],
          [
           0.8,
           "rgb(116,173,209)"
          ],
          [
           0.9,
           "rgb(69,117,180)"
          ],
          [
           1,
           "rgb(49,54,149)"
          ]
         ],
         "type": "surface",
         "x": [
          0,
          1,
          2,
          3,
          4
         ],
         "y": [
          "x",
          "y",
          "z"
         ],
         "z": [
          [
           1,
           2,
           3,
           4,
           5
          ],
          [
           10,
           20,
           30,
           20,
           10
          ],
          [
           5,
           4,
           3,
           2,
           1
          ]
         ]
        }
       ],
       "layout": {
        "legend": {
         "bgcolor": "#F5F6F9",
         "font": {
          "color": "#4D5663"
         }
        },
        "paper_bgcolor": "#F5F6F9",
        "plot_bgcolor": "#F5F6F9",
        "template": {
         "data": {
          "bar": [
           {
            "error_x": {
             "color": "#2a3f5f"
            },
            "error_y": {
             "color": "#2a3f5f"
            },
            "marker": {
             "line": {
              "color": "#E5ECF6",
              "width": 0.5
             }
            },
            "type": "bar"
           }
          ],
          "barpolar": [
           {
            "marker": {
             "line": {
              "color": "#E5ECF6",
              "width": 0.5
             }
            },
            "type": "barpolar"
           }
          ],
          "carpet": [
           {
            "aaxis": {
             "endlinecolor": "#2a3f5f",
             "gridcolor": "white",
             "linecolor": "white",
             "minorgridcolor": "white",
             "startlinecolor": "#2a3f5f"
            },
            "baxis": {
             "endlinecolor": "#2a3f5f",
             "gridcolor": "white",
             "linecolor": "white",
             "minorgridcolor": "white",
             "startlinecolor": "#2a3f5f"
            },
            "type": "carpet"
           }
          ],
          "choropleth": [
           {
            "colorbar": {
             "outlinewidth": 0,
             "ticks": ""
            },
            "type": "choropleth"
           }
          ],
          "contour": [
           {
            "colorbar": {
             "outlinewidth": 0,
             "ticks": ""
            },
            "colorscale": [
             [
              0,
              "#0d0887"
             ],
             [
              0.1111111111111111,
              "#46039f"
             ],
             [
              0.2222222222222222,
              "#7201a8"
             ],
             [
              0.3333333333333333,
              "#9c179e"
             ],
             [
              0.4444444444444444,
              "#bd3786"
             ],
             [
              0.5555555555555556,
              "#d8576b"
             ],
             [
              0.6666666666666666,
              "#ed7953"
             ],
             [
              0.7777777777777778,
              "#fb9f3a"
             ],
             [
              0.8888888888888888,
              "#fdca26"
             ],
             [
              1,
              "#f0f921"
             ]
            ],
            "type": "contour"
           }
          ],
          "contourcarpet": [
           {
            "colorbar": {
             "outlinewidth": 0,
             "ticks": ""
            },
            "type": "contourcarpet"
           }
          ],
          "heatmap": [
           {
            "colorbar": {
             "outlinewidth": 0,
             "ticks": ""
            },
            "colorscale": [
             [
              0,
              "#0d0887"
             ],
             [
              0.1111111111111111,
              "#46039f"
             ],
             [
              0.2222222222222222,
              "#7201a8"
             ],
             [
              0.3333333333333333,
              "#9c179e"
             ],
             [
              0.4444444444444444,
              "#bd3786"
             ],
             [
              0.5555555555555556,
              "#d8576b"
             ],
             [
              0.6666666666666666,
              "#ed7953"
             ],
             [
              0.7777777777777778,
              "#fb9f3a"
             ],
             [
              0.8888888888888888,
              "#fdca26"
             ],
             [
              1,
              "#f0f921"
             ]
            ],
            "type": "heatmap"
           }
          ],
          "heatmapgl": [
           {
            "colorbar": {
             "outlinewidth": 0,
             "ticks": ""
            },
            "colorscale": [
             [
              0,
              "#0d0887"
             ],
             [
              0.1111111111111111,
              "#46039f"
             ],
             [
              0.2222222222222222,
              "#7201a8"
             ],
             [
              0.3333333333333333,
              "#9c179e"
             ],
             [
              0.4444444444444444,
              "#bd3786"
             ],
             [
              0.5555555555555556,
              "#d8576b"
             ],
             [
              0.6666666666666666,
              "#ed7953"
             ],
             [
              0.7777777777777778,
              "#fb9f3a"
             ],
             [
              0.8888888888888888,
              "#fdca26"
             ],
             [
              1,
              "#f0f921"
             ]
            ],
            "type": "heatmapgl"
           }
          ],
          "histogram": [
           {
            "marker": {
             "colorbar": {
              "outlinewidth": 0,
              "ticks": ""
             }
            },
            "type": "histogram"
           }
          ],
          "histogram2d": [
           {
            "colorbar": {
             "outlinewidth": 0,
             "ticks": ""
            },
            "colorscale": [
             [
              0,
              "#0d0887"
             ],
             [
              0.1111111111111111,
              "#46039f"
             ],
             [
              0.2222222222222222,
              "#7201a8"
             ],
             [
              0.3333333333333333,
              "#9c179e"
             ],
             [
              0.4444444444444444,
              "#bd3786"
             ],
             [
              0.5555555555555556,
              "#d8576b"
             ],
             [
              0.6666666666666666,
              "#ed7953"
             ],
             [
              0.7777777777777778,
              "#fb9f3a"
             ],
             [
              0.8888888888888888,
              "#fdca26"
             ],
             [
              1,
              "#f0f921"
             ]
            ],
            "type": "histogram2d"
           }
          ],
          "histogram2dcontour": [
           {
            "colorbar": {
             "outlinewidth": 0,
             "ticks": ""
            },
            "colorscale": [
             [
              0,
              "#0d0887"
             ],
             [
              0.1111111111111111,
              "#46039f"
             ],
             [
              0.2222222222222222,
              "#7201a8"
             ],
             [
              0.3333333333333333,
              "#9c179e"
             ],
             [
              0.4444444444444444,
              "#bd3786"
             ],
             [
              0.5555555555555556,
              "#d8576b"
             ],
             [
              0.6666666666666666,
              "#ed7953"
             ],
             [
              0.7777777777777778,
              "#fb9f3a"
             ],
             [
              0.8888888888888888,
              "#fdca26"
             ],
             [
              1,
              "#f0f921"
             ]
            ],
            "type": "histogram2dcontour"
           }
          ],
          "mesh3d": [
           {
            "colorbar": {
             "outlinewidth": 0,
             "ticks": ""
            },
            "type": "mesh3d"
           }
          ],
          "parcoords": [
           {
            "line": {
             "colorbar": {
              "outlinewidth": 0,
              "ticks": ""
             }
            },
            "type": "parcoords"
           }
          ],
          "pie": [
           {
            "automargin": true,
            "type": "pie"
           }
          ],
          "scatter": [
           {
            "marker": {
             "colorbar": {
              "outlinewidth": 0,
              "ticks": ""
             }
            },
            "type": "scatter"
           }
          ],
          "scatter3d": [
           {
            "line": {
             "colorbar": {
              "outlinewidth": 0,
              "ticks": ""
             }
            },
            "marker": {
             "colorbar": {
              "outlinewidth": 0,
              "ticks": ""
             }
            },
            "type": "scatter3d"
           }
          ],
          "scattercarpet": [
           {
            "marker": {
             "colorbar": {
              "outlinewidth": 0,
              "ticks": ""
             }
            },
            "type": "scattercarpet"
           }
          ],
          "scattergeo": [
           {
            "marker": {
             "colorbar": {
              "outlinewidth": 0,
              "ticks": ""
             }
            },
            "type": "scattergeo"
           }
          ],
          "scattergl": [
           {
            "marker": {
             "colorbar": {
              "outlinewidth": 0,
              "ticks": ""
             }
            },
            "type": "scattergl"
           }
          ],
          "scattermapbox": [
           {
            "marker": {
             "colorbar": {
              "outlinewidth": 0,
              "ticks": ""
             }
            },
            "type": "scattermapbox"
           }
          ],
          "scatterpolar": [
           {
            "marker": {
             "colorbar": {
              "outlinewidth": 0,
              "ticks": ""
             }
            },
            "type": "scatterpolar"
           }
          ],
          "scatterpolargl": [
           {
            "marker": {
             "colorbar": {
              "outlinewidth": 0,
              "ticks": ""
             }
            },
            "type": "scatterpolargl"
           }
          ],
          "scatterternary": [
           {
            "marker": {
             "colorbar": {
              "outlinewidth": 0,
              "ticks": ""
             }
            },
            "type": "scatterternary"
           }
          ],
          "surface": [
           {
            "colorbar": {
             "outlinewidth": 0,
             "ticks": ""
            },
            "colorscale": [
             [
              0,
              "#0d0887"
             ],
             [
              0.1111111111111111,
              "#46039f"
             ],
             [
              0.2222222222222222,
              "#7201a8"
             ],
             [
              0.3333333333333333,
              "#9c179e"
             ],
             [
              0.4444444444444444,
              "#bd3786"
             ],
             [
              0.5555555555555556,
              "#d8576b"
             ],
             [
              0.6666666666666666,
              "#ed7953"
             ],
             [
              0.7777777777777778,
              "#fb9f3a"
             ],
             [
              0.8888888888888888,
              "#fdca26"
             ],
             [
              1,
              "#f0f921"
             ]
            ],
            "type": "surface"
           }
          ],
          "table": [
           {
            "cells": {
             "fill": {
              "color": "#EBF0F8"
             },
             "line": {
              "color": "white"
             }
            },
            "header": {
             "fill": {
              "color": "#C8D4E3"
             },
             "line": {
              "color": "white"
             }
            },
            "type": "table"
           }
          ]
         },
         "layout": {
          "annotationdefaults": {
           "arrowcolor": "#2a3f5f",
           "arrowhead": 0,
           "arrowwidth": 1
          },
          "coloraxis": {
           "colorbar": {
            "outlinewidth": 0,
            "ticks": ""
           }
          },
          "colorscale": {
           "diverging": [
            [
             0,
             "#8e0152"
            ],
            [
             0.1,
             "#c51b7d"
            ],
            [
             0.2,
             "#de77ae"
            ],
            [
             0.3,
             "#f1b6da"
            ],
            [
             0.4,
             "#fde0ef"
            ],
            [
             0.5,
             "#f7f7f7"
            ],
            [
             0.6,
             "#e6f5d0"
            ],
            [
             0.7,
             "#b8e186"
            ],
            [
             0.8,
             "#7fbc41"
            ],
            [
             0.9,
             "#4d9221"
            ],
            [
             1,
             "#276419"
            ]
           ],
           "sequential": [
            [
             0,
             "#0d0887"
            ],
            [
             0.1111111111111111,
             "#46039f"
            ],
            [
             0.2222222222222222,
             "#7201a8"
            ],
            [
             0.3333333333333333,
             "#9c179e"
            ],
            [
             0.4444444444444444,
             "#bd3786"
            ],
            [
             0.5555555555555556,
             "#d8576b"
            ],
            [
             0.6666666666666666,
             "#ed7953"
            ],
            [
             0.7777777777777778,
             "#fb9f3a"
            ],
            [
             0.8888888888888888,
             "#fdca26"
            ],
            [
             1,
             "#f0f921"
            ]
           ],
           "sequentialminus": [
            [
             0,
             "#0d0887"
            ],
            [
             0.1111111111111111,
             "#46039f"
            ],
            [
             0.2222222222222222,
             "#7201a8"
            ],
            [
             0.3333333333333333,
             "#9c179e"
            ],
            [
             0.4444444444444444,
             "#bd3786"
            ],
            [
             0.5555555555555556,
             "#d8576b"
            ],
            [
             0.6666666666666666,
             "#ed7953"
            ],
            [
             0.7777777777777778,
             "#fb9f3a"
            ],
            [
             0.8888888888888888,
             "#fdca26"
            ],
            [
             1,
             "#f0f921"
            ]
           ]
          },
          "colorway": [
           "#636efa",
           "#EF553B",
           "#00cc96",
           "#ab63fa",
           "#FFA15A",
           "#19d3f3",
           "#FF6692",
           "#B6E880",
           "#FF97FF",
           "#FECB52"
          ],
          "font": {
           "color": "#2a3f5f"
          },
          "geo": {
           "bgcolor": "white",
           "lakecolor": "white",
           "landcolor": "#E5ECF6",
           "showlakes": true,
           "showland": true,
           "subunitcolor": "white"
          },
          "hoverlabel": {
           "align": "left"
          },
          "hovermode": "closest",
          "mapbox": {
           "style": "light"
          },
          "paper_bgcolor": "white",
          "plot_bgcolor": "#E5ECF6",
          "polar": {
           "angularaxis": {
            "gridcolor": "white",
            "linecolor": "white",
            "ticks": ""
           },
           "bgcolor": "#E5ECF6",
           "radialaxis": {
            "gridcolor": "white",
            "linecolor": "white",
            "ticks": ""
           }
          },
          "scene": {
           "xaxis": {
            "backgroundcolor": "#E5ECF6",
            "gridcolor": "white",
            "gridwidth": 2,
            "linecolor": "white",
            "showbackground": true,
            "ticks": "",
            "zerolinecolor": "white"
           },
           "yaxis": {
            "backgroundcolor": "#E5ECF6",
            "gridcolor": "white",
            "gridwidth": 2,
            "linecolor": "white",
            "showbackground": true,
            "ticks": "",
            "zerolinecolor": "white"
           },
           "zaxis": {
            "backgroundcolor": "#E5ECF6",
            "gridcolor": "white",
            "gridwidth": 2,
            "linecolor": "white",
            "showbackground": true,
            "ticks": "",
            "zerolinecolor": "white"
           }
          },
          "shapedefaults": {
           "line": {
            "color": "#2a3f5f"
           }
          },
          "ternary": {
           "aaxis": {
            "gridcolor": "white",
            "linecolor": "white",
            "ticks": ""
           },
           "baxis": {
            "gridcolor": "white",
            "linecolor": "white",
            "ticks": ""
           },
           "bgcolor": "#E5ECF6",
           "caxis": {
            "gridcolor": "white",
            "linecolor": "white",
            "ticks": ""
           }
          },
          "title": {
           "x": 0.05
          },
          "xaxis": {
           "automargin": true,
           "gridcolor": "white",
           "linecolor": "white",
           "ticks": "",
           "title": {
            "standoff": 15
           },
           "zerolinecolor": "white",
           "zerolinewidth": 2
          },
          "yaxis": {
           "automargin": true,
           "gridcolor": "white",
           "linecolor": "white",
           "ticks": "",
           "title": {
            "standoff": 15
           },
           "zerolinecolor": "white",
           "zerolinewidth": 2
          }
         }
        },
        "title": {
         "font": {
          "color": "#4D5663"
         }
        },
        "xaxis": {
         "gridcolor": "#E1E5ED",
         "showgrid": true,
         "tickfont": {
          "color": "#4D5663"
         },
         "title": {
          "font": {
           "color": "#4D5663"
          },
          "text": ""
         },
         "zerolinecolor": "#E1E5ED"
        },
        "yaxis": {
         "gridcolor": "#E1E5ED",
         "showgrid": true,
         "tickfont": {
          "color": "#4D5663"
         },
         "title": {
          "font": {
           "color": "#4D5663"
          },
          "text": ""
         },
         "zerolinecolor": "#E1E5ED"
        }
       }
      },
      "text/html": [
       "<div>\n",
       "        \n",
       "        \n",
       "            <div id=\"8d134fef-b84d-4596-afd9-02e41ac4f706\" class=\"plotly-graph-div\" style=\"height:525px; width:100%;\"></div>\n",
       "            <script type=\"text/javascript\">\n",
       "                require([\"plotly\"], function(Plotly) {\n",
       "                    window.PLOTLYENV=window.PLOTLYENV || {};\n",
       "                    window.PLOTLYENV.BASE_URL='https://plot.ly';\n",
       "                    \n",
       "                if (document.getElementById(\"8d134fef-b84d-4596-afd9-02e41ac4f706\")) {\n",
       "                    Plotly.newPlot(\n",
       "                        '8d134fef-b84d-4596-afd9-02e41ac4f706',\n",
       "                        [{\"colorscale\": [[0.0, \"rgb(165,0,38)\"], [0.1, \"rgb(215,48,39)\"], [0.2, \"rgb(244,109,67)\"], [0.3, \"rgb(253,174,97)\"], [0.4, \"rgb(254,224,144)\"], [0.5, \"rgb(255,255,191)\"], [0.6, \"rgb(224,243,248)\"], [0.7, \"rgb(171,217,233)\"], [0.8, \"rgb(116,173,209)\"], [0.9, \"rgb(69,117,180)\"], [1.0, \"rgb(49,54,149)\"]], \"type\": \"surface\", \"x\": [0, 1, 2, 3, 4], \"y\": [\"x\", \"y\", \"z\"], \"z\": [[1, 2, 3, 4, 5], [10, 20, 30, 20, 10], [5, 4, 3, 2, 1]]}],\n",
       "                        {\"legend\": {\"bgcolor\": \"#F5F6F9\", \"font\": {\"color\": \"#4D5663\"}}, \"paper_bgcolor\": \"#F5F6F9\", \"plot_bgcolor\": \"#F5F6F9\", \"template\": {\"data\": {\"bar\": [{\"error_x\": {\"color\": \"#2a3f5f\"}, \"error_y\": {\"color\": \"#2a3f5f\"}, \"marker\": {\"line\": {\"color\": \"#E5ECF6\", \"width\": 0.5}}, \"type\": \"bar\"}], \"barpolar\": [{\"marker\": {\"line\": {\"color\": \"#E5ECF6\", \"width\": 0.5}}, \"type\": \"barpolar\"}], \"carpet\": [{\"aaxis\": {\"endlinecolor\": \"#2a3f5f\", \"gridcolor\": \"white\", \"linecolor\": \"white\", \"minorgridcolor\": \"white\", \"startlinecolor\": \"#2a3f5f\"}, \"baxis\": {\"endlinecolor\": \"#2a3f5f\", \"gridcolor\": \"white\", \"linecolor\": \"white\", \"minorgridcolor\": \"white\", \"startlinecolor\": \"#2a3f5f\"}, \"type\": \"carpet\"}], \"choropleth\": [{\"colorbar\": {\"outlinewidth\": 0, \"ticks\": \"\"}, \"type\": \"choropleth\"}], \"contour\": [{\"colorbar\": {\"outlinewidth\": 0, \"ticks\": \"\"}, \"colorscale\": [[0.0, \"#0d0887\"], [0.1111111111111111, \"#46039f\"], [0.2222222222222222, \"#7201a8\"], [0.3333333333333333, \"#9c179e\"], [0.4444444444444444, \"#bd3786\"], [0.5555555555555556, \"#d8576b\"], [0.6666666666666666, \"#ed7953\"], [0.7777777777777778, \"#fb9f3a\"], [0.8888888888888888, \"#fdca26\"], [1.0, \"#f0f921\"]], \"type\": \"contour\"}], \"contourcarpet\": [{\"colorbar\": {\"outlinewidth\": 0, \"ticks\": \"\"}, \"type\": \"contourcarpet\"}], \"heatmap\": [{\"colorbar\": {\"outlinewidth\": 0, \"ticks\": \"\"}, \"colorscale\": [[0.0, \"#0d0887\"], [0.1111111111111111, \"#46039f\"], [0.2222222222222222, \"#7201a8\"], [0.3333333333333333, \"#9c179e\"], [0.4444444444444444, \"#bd3786\"], [0.5555555555555556, \"#d8576b\"], [0.6666666666666666, \"#ed7953\"], [0.7777777777777778, \"#fb9f3a\"], [0.8888888888888888, \"#fdca26\"], [1.0, \"#f0f921\"]], \"type\": \"heatmap\"}], \"heatmapgl\": [{\"colorbar\": {\"outlinewidth\": 0, \"ticks\": \"\"}, \"colorscale\": [[0.0, \"#0d0887\"], [0.1111111111111111, \"#46039f\"], [0.2222222222222222, \"#7201a8\"], [0.3333333333333333, \"#9c179e\"], [0.4444444444444444, \"#bd3786\"], [0.5555555555555556, \"#d8576b\"], [0.6666666666666666, \"#ed7953\"], [0.7777777777777778, \"#fb9f3a\"], [0.8888888888888888, \"#fdca26\"], [1.0, \"#f0f921\"]], \"type\": \"heatmapgl\"}], \"histogram\": [{\"marker\": {\"colorbar\": {\"outlinewidth\": 0, \"ticks\": \"\"}}, \"type\": \"histogram\"}], \"histogram2d\": [{\"colorbar\": {\"outlinewidth\": 0, \"ticks\": \"\"}, \"colorscale\": [[0.0, \"#0d0887\"], [0.1111111111111111, \"#46039f\"], [0.2222222222222222, \"#7201a8\"], [0.3333333333333333, \"#9c179e\"], [0.4444444444444444, \"#bd3786\"], [0.5555555555555556, \"#d8576b\"], [0.6666666666666666, \"#ed7953\"], [0.7777777777777778, \"#fb9f3a\"], [0.8888888888888888, \"#fdca26\"], [1.0, \"#f0f921\"]], \"type\": \"histogram2d\"}], \"histogram2dcontour\": [{\"colorbar\": {\"outlinewidth\": 0, \"ticks\": \"\"}, \"colorscale\": [[0.0, \"#0d0887\"], [0.1111111111111111, \"#46039f\"], [0.2222222222222222, \"#7201a8\"], [0.3333333333333333, \"#9c179e\"], [0.4444444444444444, \"#bd3786\"], [0.5555555555555556, \"#d8576b\"], [0.6666666666666666, \"#ed7953\"], [0.7777777777777778, \"#fb9f3a\"], [0.8888888888888888, \"#fdca26\"], [1.0, \"#f0f921\"]], \"type\": \"histogram2dcontour\"}], \"mesh3d\": [{\"colorbar\": {\"outlinewidth\": 0, \"ticks\": \"\"}, \"type\": \"mesh3d\"}], \"parcoords\": [{\"line\": {\"colorbar\": {\"outlinewidth\": 0, \"ticks\": \"\"}}, \"type\": \"parcoords\"}], \"pie\": [{\"automargin\": true, \"type\": \"pie\"}], \"scatter\": [{\"marker\": {\"colorbar\": {\"outlinewidth\": 0, \"ticks\": \"\"}}, \"type\": \"scatter\"}], \"scatter3d\": [{\"line\": {\"colorbar\": {\"outlinewidth\": 0, \"ticks\": \"\"}}, \"marker\": {\"colorbar\": {\"outlinewidth\": 0, \"ticks\": \"\"}}, \"type\": \"scatter3d\"}], \"scattercarpet\": [{\"marker\": {\"colorbar\": {\"outlinewidth\": 0, \"ticks\": \"\"}}, \"type\": \"scattercarpet\"}], \"scattergeo\": [{\"marker\": {\"colorbar\": {\"outlinewidth\": 0, \"ticks\": \"\"}}, \"type\": \"scattergeo\"}], \"scattergl\": [{\"marker\": {\"colorbar\": {\"outlinewidth\": 0, \"ticks\": \"\"}}, \"type\": \"scattergl\"}], \"scattermapbox\": [{\"marker\": {\"colorbar\": {\"outlinewidth\": 0, \"ticks\": \"\"}}, \"type\": \"scattermapbox\"}], \"scatterpolar\": [{\"marker\": {\"colorbar\": {\"outlinewidth\": 0, \"ticks\": \"\"}}, \"type\": \"scatterpolar\"}], \"scatterpolargl\": [{\"marker\": {\"colorbar\": {\"outlinewidth\": 0, \"ticks\": \"\"}}, \"type\": \"scatterpolargl\"}], \"scatterternary\": [{\"marker\": {\"colorbar\": {\"outlinewidth\": 0, \"ticks\": \"\"}}, \"type\": \"scatterternary\"}], \"surface\": [{\"colorbar\": {\"outlinewidth\": 0, \"ticks\": \"\"}, \"colorscale\": [[0.0, \"#0d0887\"], [0.1111111111111111, \"#46039f\"], [0.2222222222222222, \"#7201a8\"], [0.3333333333333333, \"#9c179e\"], [0.4444444444444444, \"#bd3786\"], [0.5555555555555556, \"#d8576b\"], [0.6666666666666666, \"#ed7953\"], [0.7777777777777778, \"#fb9f3a\"], [0.8888888888888888, \"#fdca26\"], [1.0, \"#f0f921\"]], \"type\": \"surface\"}], \"table\": [{\"cells\": {\"fill\": {\"color\": \"#EBF0F8\"}, \"line\": {\"color\": \"white\"}}, \"header\": {\"fill\": {\"color\": \"#C8D4E3\"}, \"line\": {\"color\": \"white\"}}, \"type\": \"table\"}]}, \"layout\": {\"annotationdefaults\": {\"arrowcolor\": \"#2a3f5f\", \"arrowhead\": 0, \"arrowwidth\": 1}, \"coloraxis\": {\"colorbar\": {\"outlinewidth\": 0, \"ticks\": \"\"}}, \"colorscale\": {\"diverging\": [[0, \"#8e0152\"], [0.1, \"#c51b7d\"], [0.2, \"#de77ae\"], [0.3, \"#f1b6da\"], [0.4, \"#fde0ef\"], [0.5, \"#f7f7f7\"], [0.6, \"#e6f5d0\"], [0.7, \"#b8e186\"], [0.8, \"#7fbc41\"], [0.9, \"#4d9221\"], [1, \"#276419\"]], \"sequential\": [[0.0, \"#0d0887\"], [0.1111111111111111, \"#46039f\"], [0.2222222222222222, \"#7201a8\"], [0.3333333333333333, \"#9c179e\"], [0.4444444444444444, \"#bd3786\"], [0.5555555555555556, \"#d8576b\"], [0.6666666666666666, \"#ed7953\"], [0.7777777777777778, \"#fb9f3a\"], [0.8888888888888888, \"#fdca26\"], [1.0, \"#f0f921\"]], \"sequentialminus\": [[0.0, \"#0d0887\"], [0.1111111111111111, \"#46039f\"], [0.2222222222222222, \"#7201a8\"], [0.3333333333333333, \"#9c179e\"], [0.4444444444444444, \"#bd3786\"], [0.5555555555555556, \"#d8576b\"], [0.6666666666666666, \"#ed7953\"], [0.7777777777777778, \"#fb9f3a\"], [0.8888888888888888, \"#fdca26\"], [1.0, \"#f0f921\"]]}, \"colorway\": [\"#636efa\", \"#EF553B\", \"#00cc96\", \"#ab63fa\", \"#FFA15A\", \"#19d3f3\", \"#FF6692\", \"#B6E880\", \"#FF97FF\", \"#FECB52\"], \"font\": {\"color\": \"#2a3f5f\"}, \"geo\": {\"bgcolor\": \"white\", \"lakecolor\": \"white\", \"landcolor\": \"#E5ECF6\", \"showlakes\": true, \"showland\": true, \"subunitcolor\": \"white\"}, \"hoverlabel\": {\"align\": \"left\"}, \"hovermode\": \"closest\", \"mapbox\": {\"style\": \"light\"}, \"paper_bgcolor\": \"white\", \"plot_bgcolor\": \"#E5ECF6\", \"polar\": {\"angularaxis\": {\"gridcolor\": \"white\", \"linecolor\": \"white\", \"ticks\": \"\"}, \"bgcolor\": \"#E5ECF6\", \"radialaxis\": {\"gridcolor\": \"white\", \"linecolor\": \"white\", \"ticks\": \"\"}}, \"scene\": {\"xaxis\": {\"backgroundcolor\": \"#E5ECF6\", \"gridcolor\": \"white\", \"gridwidth\": 2, \"linecolor\": \"white\", \"showbackground\": true, \"ticks\": \"\", \"zerolinecolor\": \"white\"}, \"yaxis\": {\"backgroundcolor\": \"#E5ECF6\", \"gridcolor\": \"white\", \"gridwidth\": 2, \"linecolor\": \"white\", \"showbackground\": true, \"ticks\": \"\", \"zerolinecolor\": \"white\"}, \"zaxis\": {\"backgroundcolor\": \"#E5ECF6\", \"gridcolor\": \"white\", \"gridwidth\": 2, \"linecolor\": \"white\", \"showbackground\": true, \"ticks\": \"\", \"zerolinecolor\": \"white\"}}, \"shapedefaults\": {\"line\": {\"color\": \"#2a3f5f\"}}, \"ternary\": {\"aaxis\": {\"gridcolor\": \"white\", \"linecolor\": \"white\", \"ticks\": \"\"}, \"baxis\": {\"gridcolor\": \"white\", \"linecolor\": \"white\", \"ticks\": \"\"}, \"bgcolor\": \"#E5ECF6\", \"caxis\": {\"gridcolor\": \"white\", \"linecolor\": \"white\", \"ticks\": \"\"}}, \"title\": {\"x\": 0.05}, \"xaxis\": {\"automargin\": true, \"gridcolor\": \"white\", \"linecolor\": \"white\", \"ticks\": \"\", \"title\": {\"standoff\": 15}, \"zerolinecolor\": \"white\", \"zerolinewidth\": 2}, \"yaxis\": {\"automargin\": true, \"gridcolor\": \"white\", \"linecolor\": \"white\", \"ticks\": \"\", \"title\": {\"standoff\": 15}, \"zerolinecolor\": \"white\", \"zerolinewidth\": 2}}}, \"title\": {\"font\": {\"color\": \"#4D5663\"}}, \"xaxis\": {\"gridcolor\": \"#E1E5ED\", \"showgrid\": true, \"tickfont\": {\"color\": \"#4D5663\"}, \"title\": {\"font\": {\"color\": \"#4D5663\"}, \"text\": \"\"}, \"zerolinecolor\": \"#E1E5ED\"}, \"yaxis\": {\"gridcolor\": \"#E1E5ED\", \"showgrid\": true, \"tickfont\": {\"color\": \"#4D5663\"}, \"title\": {\"font\": {\"color\": \"#4D5663\"}, \"text\": \"\"}, \"zerolinecolor\": \"#E1E5ED\"}},\n",
       "                        {\"showLink\": true, \"linkText\": \"Export to plot.ly\", \"plotlyServerURL\": \"https://plot.ly\", \"responsive\": true}\n",
       "                    ).then(function(){\n",
       "                            \n",
       "var gd = document.getElementById('8d134fef-b84d-4596-afd9-02e41ac4f706');\n",
       "var x = new MutationObserver(function (mutations, observer) {{\n",
       "        var display = window.getComputedStyle(gd).display;\n",
       "        if (!display || display === 'none') {{\n",
       "            console.log([gd, 'removed!']);\n",
       "            Plotly.purge(gd);\n",
       "            observer.disconnect();\n",
       "        }}\n",
       "}});\n",
       "\n",
       "// Listen for the removal of the full notebook cells\n",
       "var notebookContainer = gd.closest('#notebook-container');\n",
       "if (notebookContainer) {{\n",
       "    x.observe(notebookContainer, {childList: true});\n",
       "}}\n",
       "\n",
       "// Listen for the clearing of the current output cell\n",
       "var outputEl = gd.closest('.output');\n",
       "if (outputEl) {{\n",
       "    x.observe(outputEl, {childList: true});\n",
       "}}\n",
       "\n",
       "                        })\n",
       "                };\n",
       "                });\n",
       "            </script>\n",
       "        </div>"
      ]
     },
     "metadata": {},
     "output_type": "display_data"
    }
   ],
   "source": [
    "df3 = pd.DataFrame({'x':[1,2,3,4,5],'y':[10,20,30,20,10],'z':[5,4,3,2,1]})\n",
    "df3.iplot(kind='surface',colorscale='rdylbu')"
   ]
  },
  {
   "cell_type": "markdown",
   "metadata": {},
   "source": [
    "## Spread"
   ]
  },
  {
   "cell_type": "code",
   "execution_count": 16,
   "metadata": {},
   "outputs": [
    {
     "data": {
      "application/vnd.plotly.v1+json": {
       "config": {
        "linkText": "Export to plot.ly",
        "plotlyServerURL": "https://plot.ly",
        "showLink": true
       },
       "data": [
        {
         "line": {
          "color": "rgba(255, 153, 51, 1.0)",
          "dash": "solid",
          "shape": "linear",
          "width": 1.3
         },
         "mode": "lines",
         "name": "A",
         "text": "",
         "type": "scatter",
         "x": [
          0,
          1,
          2,
          3,
          4,
          5,
          6,
          7,
          8,
          9,
          10,
          11,
          12,
          13,
          14,
          15,
          16,
          17,
          18,
          19,
          20,
          21,
          22,
          23,
          24,
          25,
          26,
          27,
          28,
          29,
          30,
          31,
          32,
          33,
          34,
          35,
          36,
          37,
          38,
          39,
          40,
          41,
          42,
          43,
          44,
          45,
          46,
          47,
          48,
          49,
          50,
          51,
          52,
          53,
          54,
          55,
          56,
          57,
          58,
          59,
          60,
          61,
          62,
          63,
          64,
          65,
          66,
          67,
          68,
          69,
          70,
          71,
          72,
          73,
          74,
          75,
          76,
          77,
          78,
          79,
          80,
          81,
          82,
          83,
          84,
          85,
          86,
          87,
          88,
          89,
          90,
          91,
          92,
          93,
          94,
          95,
          96,
          97,
          98,
          99
         ],
         "y": [
          -0.6889956521739307,
          -0.10998876634393508,
          0.09699922766269028,
          -0.8808256190850161,
          2.2172396213269425,
          -0.5181556954513972,
          0.044220521243459814,
          -0.6182983871486031,
          0.5035632820391117,
          -1.9735185015594627,
          -1.1226476322836956,
          -0.033709732199987,
          -0.47506049831864783,
          0.4062401342415919,
          -0.8298431157254298,
          0.6484928745668593,
          -0.8484283621195674,
          -0.11478932596098841,
          0.4156464856047231,
          -1.2044313934808315,
          -0.7377218812849837,
          -0.3530399705530779,
          -1.2354471686035418,
          1.415323768152012,
          0.03667147351896974,
          1.3757424357499963,
          -0.6204186792444727,
          0.32246037711615533,
          0.7176758702542765,
          -0.08952871392329798,
          -1.9115942832046897,
          0.6464809271333035,
          0.25280282897385653,
          -0.3030241591898929,
          0.13348160896768804,
          1.7778329413926857,
          -0.2706982328639064,
          0.174223288645667,
          -0.6443864622112773,
          0.05767854227106527,
          0.9359769594187413,
          -0.2108110112579468,
          0.7232976098150298,
          0.13782196537317143,
          0.1965086400798674,
          -0.35595137558340306,
          0.19120368500211257,
          1.190555681945383,
          0.29840087375121377,
          1.709979954740142,
          -2.448437868821938,
          0.23410079150844357,
          0.433512903693733,
          1.9187512221029763,
          0.34796679107170425,
          0.28328638799105765,
          0.44287235575880485,
          -0.7266976761259687,
          0.3816684048555259,
          -0.8004660246613597,
          -0.06094814916289371,
          -0.48342674827606424,
          0.8255274909549741,
          -0.10068957109932336,
          -2.172269351419027,
          -0.7422295876820347,
          -1.235546393094691,
          -1.2995927217470409,
          -0.684511063368568,
          0.9958837433328543,
          -3.1991579221704414,
          1.1793687045818502,
          -0.319124939743108,
          0.8491143895203022,
          -1.1359643999435747,
          -0.5865615969649363,
          -0.19172108517410447,
          -0.30362087781243813,
          -0.03695050115199503,
          0.9785928191618193,
          2.0128678073383885,
          0.5639780665112403,
          -1.7990312710673546,
          -1.114647156508601,
          0.2947390593870421,
          0.3690855749682276,
          0.25285277904826237,
          2.1287882496107553,
          0.08504298776070535,
          0.2704915897148827,
          -1.039195748914558,
          0.5889777880510121,
          0.9996470311558219,
          0.9065031222001652,
          -0.7944687044530946,
          -0.4705706405607836,
          -0.07239019799691816,
          0.017726005413281606,
          -1.640842578699129,
          -0.9970442281743205
         ]
        },
        {
         "line": {
          "color": "rgba(55, 128, 191, 1.0)",
          "dash": "solid",
          "shape": "linear",
          "width": 1.3
         },
         "mode": "lines",
         "name": "B",
         "text": "",
         "type": "scatter",
         "x": [
          0,
          1,
          2,
          3,
          4,
          5,
          6,
          7,
          8,
          9,
          10,
          11,
          12,
          13,
          14,
          15,
          16,
          17,
          18,
          19,
          20,
          21,
          22,
          23,
          24,
          25,
          26,
          27,
          28,
          29,
          30,
          31,
          32,
          33,
          34,
          35,
          36,
          37,
          38,
          39,
          40,
          41,
          42,
          43,
          44,
          45,
          46,
          47,
          48,
          49,
          50,
          51,
          52,
          53,
          54,
          55,
          56,
          57,
          58,
          59,
          60,
          61,
          62,
          63,
          64,
          65,
          66,
          67,
          68,
          69,
          70,
          71,
          72,
          73,
          74,
          75,
          76,
          77,
          78,
          79,
          80,
          81,
          82,
          83,
          84,
          85,
          86,
          87,
          88,
          89,
          90,
          91,
          92,
          93,
          94,
          95,
          96,
          97,
          98,
          99
         ],
         "y": [
          -1.2073839278312855,
          -0.8914152871341857,
          0.9122000538112298,
          0.6498066921507818,
          -0.00899612165220606,
          -0.5004526156800174,
          0.34729418384591637,
          0.15897743642567497,
          -0.21839432228170258,
          -0.49991139525442396,
          0.9610693389406737,
          0.5618914806405604,
          1.201558960930769,
          -0.2273238288028599,
          1.1138543091175164,
          -1.0868005540326964,
          -1.1715605560090836,
          0.9003730719574612,
          0.03682778941603213,
          -0.15459482647855446,
          0.7221015269889887,
          0.38583033388373106,
          0.6543951885091118,
          0.040095597861937025,
          0.17972487983609023,
          0.28158447514524965,
          1.8330586456748375,
          -1.4855936550488982,
          -0.1883376767633526,
          1.0024422321628312,
          -0.9234550503192078,
          -0.11575204468620277,
          -0.6234014385670065,
          0.9415011286362762,
          -1.0517190719433238,
          2.0515592254487953,
          -0.2580451508330001,
          -0.5150870104052806,
          0.09088235032580956,
          2.231352209037297,
          -0.15859836080583842,
          -0.9808380119046511,
          0.06323059919233626,
          -0.21106543250299467,
          -0.6576314663591996,
          0.09798213161331863,
          -0.24017783056310635,
          0.46385088321858264,
          0.256202641291782,
          1.5882261135642595,
          -0.49785387726708114,
          -2.996055335076067,
          1.0979391220131691,
          0.3627975014686308,
          -0.10786076072121988,
          0.0641227457433506,
          -0.5508234727964582,
          -0.4893642929797324,
          -0.01295655628743466,
          0.6364408498489723,
          -1.3445070194151048,
          -1.2060950265348032,
          -1.302017996699132,
          0.30575364739168376,
          1.1344522718513066,
          -0.40899495791668117,
          -0.1879338341978866,
          0.7701867136427122,
          -0.3142097601883405,
          0.3768390832801088,
          2.2322106533883845,
          -0.6105290427360885,
          0.12788746771461784,
          0.6964055162543205,
          1.188468028747178,
          -0.1983515900990588,
          -1.8987123602775557,
          -0.4467780747490587,
          -1.401342976649239,
          1.9570162473353976,
          -2.181136421012167,
          -1.1794166803130908,
          0.19599267454193595,
          0.7740325867092016,
          -1.0193643289430883,
          -0.023458044632571996,
          -1.7150708376874946,
          0.397417382762338,
          -0.7029977592823403,
          0.6311539886525172,
          -0.4145841586488041,
          -2.4197468703272453,
          -0.46942188535039864,
          0.5744298855541616,
          -0.29328939444327295,
          2.377437799872268,
          -1.7487701098601915,
          -0.7913451308489126,
          0.46738856275175306,
          -0.7480590074762296
         ]
        },
        {
         "connectgaps": false,
         "fill": "tozeroy",
         "line": {
          "color": "green",
          "dash": "solid",
          "shape": "linear",
          "width": 0.5
         },
         "mode": "lines",
         "name": "Spread",
         "showlegend": false,
         "type": "scatter",
         "x": [
          0,
          1,
          2,
          3,
          4,
          5,
          6,
          7,
          8,
          9,
          10,
          11,
          12,
          13,
          14,
          15,
          16,
          17,
          18,
          19,
          20,
          21,
          22,
          23,
          24,
          25,
          26,
          27,
          28,
          29,
          30,
          31,
          32,
          33,
          34,
          35,
          36,
          37,
          38,
          39,
          40,
          41,
          42,
          43,
          44,
          45,
          46,
          47,
          48,
          49,
          50,
          51,
          52,
          53,
          54,
          55,
          56,
          57,
          58,
          59,
          60,
          61,
          62,
          63,
          64,
          65,
          66,
          67,
          68,
          69,
          70,
          71,
          72,
          73,
          74,
          75,
          76,
          77,
          78,
          79,
          80,
          81,
          82,
          83,
          84,
          85,
          86,
          87,
          88,
          89,
          90,
          91,
          92,
          93,
          94,
          95,
          96,
          97,
          98,
          99
         ],
         "xaxis": "x2",
         "y": [
          0.5183882756573548,
          0.7814265207902507,
          "",
          "",
          2.2262357429791484,
          "",
          "",
          "",
          0.7219576043208142,
          "",
          "",
          "",
          "",
          0.6335639630444518,
          "",
          1.7352934285995558,
          0.3231321938895162,
          "",
          0.37881869618869096,
          "",
          "",
          "",
          "",
          1.375228170290075,
          "",
          1.0941579606047467,
          "",
          1.8080540321650536,
          0.9060135470176292,
          "",
          "",
          0.7622329718195063,
          0.876204267540863,
          "",
          1.1852006809110118,
          "",
          "",
          0.6893102990509477,
          "",
          "",
          1.0945753202245796,
          0.7700270006467044,
          0.6600670106226936,
          0.34888739787616607,
          0.854140106439067,
          "",
          0.4313815155652189,
          0.7267047987268005,
          0.04219823245943177,
          0.1217538411758825,
          "",
          3.2301561265845105,
          "",
          1.5559537206343454,
          0.4558275517929241,
          0.21916364224770707,
          0.9936958285552631,
          "",
          0.39462496114296053,
          "",
          1.283558870252211,
          0.7226682782587389,
          2.127545487654106,
          "",
          "",
          "",
          "",
          "",
          "",
          0.6190446600527455,
          "",
          1.7898977473179387,
          "",
          0.1527088732659817,
          "",
          "",
          1.7069912751034513,
          0.14315719693662055,
          1.3643924754972439,
          "",
          4.194004228350556,
          1.7433947468243312,
          "",
          "",
          1.3141033883301303,
          0.3925436196007996,
          1.967923616735757,
          1.7313708668484173,
          0.7880407470430457,
          "",
          "",
          3.0087246583782576,
          1.4690689165062205,
          0.3320732366460035,
          "",
          "",
          1.6763799118632734,
          0.8090711362621942,
          "",
          ""
         ],
         "yaxis": "y2"
        },
        {
         "connectgaps": false,
         "fill": "tozeroy",
         "line": {
          "color": "red",
          "dash": "solid",
          "shape": "linear",
          "width": 0.5
         },
         "mode": "lines",
         "name": "Spread",
         "showlegend": false,
         "type": "scatter",
         "x": [
          0,
          1,
          2,
          3,
          4,
          5,
          6,
          7,
          8,
          9,
          10,
          11,
          12,
          13,
          14,
          15,
          16,
          17,
          18,
          19,
          20,
          21,
          22,
          23,
          24,
          25,
          26,
          27,
          28,
          29,
          30,
          31,
          32,
          33,
          34,
          35,
          36,
          37,
          38,
          39,
          40,
          41,
          42,
          43,
          44,
          45,
          46,
          47,
          48,
          49,
          50,
          51,
          52,
          53,
          54,
          55,
          56,
          57,
          58,
          59,
          60,
          61,
          62,
          63,
          64,
          65,
          66,
          67,
          68,
          69,
          70,
          71,
          72,
          73,
          74,
          75,
          76,
          77,
          78,
          79,
          80,
          81,
          82,
          83,
          84,
          85,
          86,
          87,
          88,
          89,
          90,
          91,
          92,
          93,
          94,
          95,
          96,
          97,
          98,
          99
         ],
         "xaxis": "x2",
         "y": [
          "",
          "",
          -0.8152008261485395,
          -1.5306323112357978,
          "",
          -0.01770307977137975,
          -0.30307366260245655,
          -0.777275823574278,
          "",
          -1.4736071063050389,
          -2.0837169712243693,
          -0.5956012128405473,
          -1.6766194592494168,
          "",
          -1.9436974248429462,
          "",
          "",
          -1.0151623979184496,
          "",
          -1.0498365670022771,
          -1.4598234082739725,
          -0.738870304436809,
          -1.8898423571126535,
          "",
          -0.1430534063171205,
          "",
          -2.45347732491931,
          "",
          "",
          -1.0919709460861293,
          -0.9881392328854819,
          "",
          "",
          -1.244525287826169,
          "",
          -0.27372628405610966,
          -0.01265308203090626,
          "",
          -0.7352688125370869,
          -2.173673666766232,
          "",
          "",
          "",
          "",
          "",
          -0.4539335071967217,
          "",
          "",
          "",
          "",
          -1.950583991554857,
          "",
          -0.664426218319436,
          "",
          "",
          "",
          "",
          -0.2373333831462363,
          "",
          -1.4369068745103322,
          "",
          "",
          "",
          -0.4064432184910071,
          -3.3067216232703336,
          -0.33323462976535356,
          -1.0476125588968044,
          -2.069779435389753,
          -0.3703013031802275,
          "",
          -5.431368575558826,
          "",
          -0.44701240745772586,
          "",
          -2.324432428690753,
          -0.3882100068658775,
          "",
          "",
          "",
          -0.9784234281735783,
          "",
          "",
          -1.9950239456092906,
          -1.8886797432178026,
          "",
          "",
          "",
          "",
          "",
          -0.36066239893763447,
          -0.6246115902657539,
          "",
          "",
          "",
          -0.5011793100098216,
          -2.8480084404330515,
          "",
          "",
          -2.108231141450882,
          -0.24898522069809093
         ],
         "yaxis": "y2"
        }
       ],
       "layout": {
        "hovermode": "x",
        "legend": {
         "bgcolor": "#F5F6F9",
         "font": {
          "color": "#4D5663"
         }
        },
        "paper_bgcolor": "#F5F6F9",
        "plot_bgcolor": "#F5F6F9",
        "template": {
         "data": {
          "bar": [
           {
            "error_x": {
             "color": "#2a3f5f"
            },
            "error_y": {
             "color": "#2a3f5f"
            },
            "marker": {
             "line": {
              "color": "#E5ECF6",
              "width": 0.5
             }
            },
            "type": "bar"
           }
          ],
          "barpolar": [
           {
            "marker": {
             "line": {
              "color": "#E5ECF6",
              "width": 0.5
             }
            },
            "type": "barpolar"
           }
          ],
          "carpet": [
           {
            "aaxis": {
             "endlinecolor": "#2a3f5f",
             "gridcolor": "white",
             "linecolor": "white",
             "minorgridcolor": "white",
             "startlinecolor": "#2a3f5f"
            },
            "baxis": {
             "endlinecolor": "#2a3f5f",
             "gridcolor": "white",
             "linecolor": "white",
             "minorgridcolor": "white",
             "startlinecolor": "#2a3f5f"
            },
            "type": "carpet"
           }
          ],
          "choropleth": [
           {
            "colorbar": {
             "outlinewidth": 0,
             "ticks": ""
            },
            "type": "choropleth"
           }
          ],
          "contour": [
           {
            "colorbar": {
             "outlinewidth": 0,
             "ticks": ""
            },
            "colorscale": [
             [
              0,
              "#0d0887"
             ],
             [
              0.1111111111111111,
              "#46039f"
             ],
             [
              0.2222222222222222,
              "#7201a8"
             ],
             [
              0.3333333333333333,
              "#9c179e"
             ],
             [
              0.4444444444444444,
              "#bd3786"
             ],
             [
              0.5555555555555556,
              "#d8576b"
             ],
             [
              0.6666666666666666,
              "#ed7953"
             ],
             [
              0.7777777777777778,
              "#fb9f3a"
             ],
             [
              0.8888888888888888,
              "#fdca26"
             ],
             [
              1,
              "#f0f921"
             ]
            ],
            "type": "contour"
           }
          ],
          "contourcarpet": [
           {
            "colorbar": {
             "outlinewidth": 0,
             "ticks": ""
            },
            "type": "contourcarpet"
           }
          ],
          "heatmap": [
           {
            "colorbar": {
             "outlinewidth": 0,
             "ticks": ""
            },
            "colorscale": [
             [
              0,
              "#0d0887"
             ],
             [
              0.1111111111111111,
              "#46039f"
             ],
             [
              0.2222222222222222,
              "#7201a8"
             ],
             [
              0.3333333333333333,
              "#9c179e"
             ],
             [
              0.4444444444444444,
              "#bd3786"
             ],
             [
              0.5555555555555556,
              "#d8576b"
             ],
             [
              0.6666666666666666,
              "#ed7953"
             ],
             [
              0.7777777777777778,
              "#fb9f3a"
             ],
             [
              0.8888888888888888,
              "#fdca26"
             ],
             [
              1,
              "#f0f921"
             ]
            ],
            "type": "heatmap"
           }
          ],
          "heatmapgl": [
           {
            "colorbar": {
             "outlinewidth": 0,
             "ticks": ""
            },
            "colorscale": [
             [
              0,
              "#0d0887"
             ],
             [
              0.1111111111111111,
              "#46039f"
             ],
             [
              0.2222222222222222,
              "#7201a8"
             ],
             [
              0.3333333333333333,
              "#9c179e"
             ],
             [
              0.4444444444444444,
              "#bd3786"
             ],
             [
              0.5555555555555556,
              "#d8576b"
             ],
             [
              0.6666666666666666,
              "#ed7953"
             ],
             [
              0.7777777777777778,
              "#fb9f3a"
             ],
             [
              0.8888888888888888,
              "#fdca26"
             ],
             [
              1,
              "#f0f921"
             ]
            ],
            "type": "heatmapgl"
           }
          ],
          "histogram": [
           {
            "marker": {
             "colorbar": {
              "outlinewidth": 0,
              "ticks": ""
             }
            },
            "type": "histogram"
           }
          ],
          "histogram2d": [
           {
            "colorbar": {
             "outlinewidth": 0,
             "ticks": ""
            },
            "colorscale": [
             [
              0,
              "#0d0887"
             ],
             [
              0.1111111111111111,
              "#46039f"
             ],
             [
              0.2222222222222222,
              "#7201a8"
             ],
             [
              0.3333333333333333,
              "#9c179e"
             ],
             [
              0.4444444444444444,
              "#bd3786"
             ],
             [
              0.5555555555555556,
              "#d8576b"
             ],
             [
              0.6666666666666666,
              "#ed7953"
             ],
             [
              0.7777777777777778,
              "#fb9f3a"
             ],
             [
              0.8888888888888888,
              "#fdca26"
             ],
             [
              1,
              "#f0f921"
             ]
            ],
            "type": "histogram2d"
           }
          ],
          "histogram2dcontour": [
           {
            "colorbar": {
             "outlinewidth": 0,
             "ticks": ""
            },
            "colorscale": [
             [
              0,
              "#0d0887"
             ],
             [
              0.1111111111111111,
              "#46039f"
             ],
             [
              0.2222222222222222,
              "#7201a8"
             ],
             [
              0.3333333333333333,
              "#9c179e"
             ],
             [
              0.4444444444444444,
              "#bd3786"
             ],
             [
              0.5555555555555556,
              "#d8576b"
             ],
             [
              0.6666666666666666,
              "#ed7953"
             ],
             [
              0.7777777777777778,
              "#fb9f3a"
             ],
             [
              0.8888888888888888,
              "#fdca26"
             ],
             [
              1,
              "#f0f921"
             ]
            ],
            "type": "histogram2dcontour"
           }
          ],
          "mesh3d": [
           {
            "colorbar": {
             "outlinewidth": 0,
             "ticks": ""
            },
            "type": "mesh3d"
           }
          ],
          "parcoords": [
           {
            "line": {
             "colorbar": {
              "outlinewidth": 0,
              "ticks": ""
             }
            },
            "type": "parcoords"
           }
          ],
          "pie": [
           {
            "automargin": true,
            "type": "pie"
           }
          ],
          "scatter": [
           {
            "marker": {
             "colorbar": {
              "outlinewidth": 0,
              "ticks": ""
             }
            },
            "type": "scatter"
           }
          ],
          "scatter3d": [
           {
            "line": {
             "colorbar": {
              "outlinewidth": 0,
              "ticks": ""
             }
            },
            "marker": {
             "colorbar": {
              "outlinewidth": 0,
              "ticks": ""
             }
            },
            "type": "scatter3d"
           }
          ],
          "scattercarpet": [
           {
            "marker": {
             "colorbar": {
              "outlinewidth": 0,
              "ticks": ""
             }
            },
            "type": "scattercarpet"
           }
          ],
          "scattergeo": [
           {
            "marker": {
             "colorbar": {
              "outlinewidth": 0,
              "ticks": ""
             }
            },
            "type": "scattergeo"
           }
          ],
          "scattergl": [
           {
            "marker": {
             "colorbar": {
              "outlinewidth": 0,
              "ticks": ""
             }
            },
            "type": "scattergl"
           }
          ],
          "scattermapbox": [
           {
            "marker": {
             "colorbar": {
              "outlinewidth": 0,
              "ticks": ""
             }
            },
            "type": "scattermapbox"
           }
          ],
          "scatterpolar": [
           {
            "marker": {
             "colorbar": {
              "outlinewidth": 0,
              "ticks": ""
             }
            },
            "type": "scatterpolar"
           }
          ],
          "scatterpolargl": [
           {
            "marker": {
             "colorbar": {
              "outlinewidth": 0,
              "ticks": ""
             }
            },
            "type": "scatterpolargl"
           }
          ],
          "scatterternary": [
           {
            "marker": {
             "colorbar": {
              "outlinewidth": 0,
              "ticks": ""
             }
            },
            "type": "scatterternary"
           }
          ],
          "surface": [
           {
            "colorbar": {
             "outlinewidth": 0,
             "ticks": ""
            },
            "colorscale": [
             [
              0,
              "#0d0887"
             ],
             [
              0.1111111111111111,
              "#46039f"
             ],
             [
              0.2222222222222222,
              "#7201a8"
             ],
             [
              0.3333333333333333,
              "#9c179e"
             ],
             [
              0.4444444444444444,
              "#bd3786"
             ],
             [
              0.5555555555555556,
              "#d8576b"
             ],
             [
              0.6666666666666666,
              "#ed7953"
             ],
             [
              0.7777777777777778,
              "#fb9f3a"
             ],
             [
              0.8888888888888888,
              "#fdca26"
             ],
             [
              1,
              "#f0f921"
             ]
            ],
            "type": "surface"
           }
          ],
          "table": [
           {
            "cells": {
             "fill": {
              "color": "#EBF0F8"
             },
             "line": {
              "color": "white"
             }
            },
            "header": {
             "fill": {
              "color": "#C8D4E3"
             },
             "line": {
              "color": "white"
             }
            },
            "type": "table"
           }
          ]
         },
         "layout": {
          "annotationdefaults": {
           "arrowcolor": "#2a3f5f",
           "arrowhead": 0,
           "arrowwidth": 1
          },
          "coloraxis": {
           "colorbar": {
            "outlinewidth": 0,
            "ticks": ""
           }
          },
          "colorscale": {
           "diverging": [
            [
             0,
             "#8e0152"
            ],
            [
             0.1,
             "#c51b7d"
            ],
            [
             0.2,
             "#de77ae"
            ],
            [
             0.3,
             "#f1b6da"
            ],
            [
             0.4,
             "#fde0ef"
            ],
            [
             0.5,
             "#f7f7f7"
            ],
            [
             0.6,
             "#e6f5d0"
            ],
            [
             0.7,
             "#b8e186"
            ],
            [
             0.8,
             "#7fbc41"
            ],
            [
             0.9,
             "#4d9221"
            ],
            [
             1,
             "#276419"
            ]
           ],
           "sequential": [
            [
             0,
             "#0d0887"
            ],
            [
             0.1111111111111111,
             "#46039f"
            ],
            [
             0.2222222222222222,
             "#7201a8"
            ],
            [
             0.3333333333333333,
             "#9c179e"
            ],
            [
             0.4444444444444444,
             "#bd3786"
            ],
            [
             0.5555555555555556,
             "#d8576b"
            ],
            [
             0.6666666666666666,
             "#ed7953"
            ],
            [
             0.7777777777777778,
             "#fb9f3a"
            ],
            [
             0.8888888888888888,
             "#fdca26"
            ],
            [
             1,
             "#f0f921"
            ]
           ],
           "sequentialminus": [
            [
             0,
             "#0d0887"
            ],
            [
             0.1111111111111111,
             "#46039f"
            ],
            [
             0.2222222222222222,
             "#7201a8"
            ],
            [
             0.3333333333333333,
             "#9c179e"
            ],
            [
             0.4444444444444444,
             "#bd3786"
            ],
            [
             0.5555555555555556,
             "#d8576b"
            ],
            [
             0.6666666666666666,
             "#ed7953"
            ],
            [
             0.7777777777777778,
             "#fb9f3a"
            ],
            [
             0.8888888888888888,
             "#fdca26"
            ],
            [
             1,
             "#f0f921"
            ]
           ]
          },
          "colorway": [
           "#636efa",
           "#EF553B",
           "#00cc96",
           "#ab63fa",
           "#FFA15A",
           "#19d3f3",
           "#FF6692",
           "#B6E880",
           "#FF97FF",
           "#FECB52"
          ],
          "font": {
           "color": "#2a3f5f"
          },
          "geo": {
           "bgcolor": "white",
           "lakecolor": "white",
           "landcolor": "#E5ECF6",
           "showlakes": true,
           "showland": true,
           "subunitcolor": "white"
          },
          "hoverlabel": {
           "align": "left"
          },
          "hovermode": "closest",
          "mapbox": {
           "style": "light"
          },
          "paper_bgcolor": "white",
          "plot_bgcolor": "#E5ECF6",
          "polar": {
           "angularaxis": {
            "gridcolor": "white",
            "linecolor": "white",
            "ticks": ""
           },
           "bgcolor": "#E5ECF6",
           "radialaxis": {
            "gridcolor": "white",
            "linecolor": "white",
            "ticks": ""
           }
          },
          "scene": {
           "xaxis": {
            "backgroundcolor": "#E5ECF6",
            "gridcolor": "white",
            "gridwidth": 2,
            "linecolor": "white",
            "showbackground": true,
            "ticks": "",
            "zerolinecolor": "white"
           },
           "yaxis": {
            "backgroundcolor": "#E5ECF6",
            "gridcolor": "white",
            "gridwidth": 2,
            "linecolor": "white",
            "showbackground": true,
            "ticks": "",
            "zerolinecolor": "white"
           },
           "zaxis": {
            "backgroundcolor": "#E5ECF6",
            "gridcolor": "white",
            "gridwidth": 2,
            "linecolor": "white",
            "showbackground": true,
            "ticks": "",
            "zerolinecolor": "white"
           }
          },
          "shapedefaults": {
           "line": {
            "color": "#2a3f5f"
           }
          },
          "ternary": {
           "aaxis": {
            "gridcolor": "white",
            "linecolor": "white",
            "ticks": ""
           },
           "baxis": {
            "gridcolor": "white",
            "linecolor": "white",
            "ticks": ""
           },
           "bgcolor": "#E5ECF6",
           "caxis": {
            "gridcolor": "white",
            "linecolor": "white",
            "ticks": ""
           }
          },
          "title": {
           "x": 0.05
          },
          "xaxis": {
           "automargin": true,
           "gridcolor": "white",
           "linecolor": "white",
           "ticks": "",
           "title": {
            "standoff": 15
           },
           "zerolinecolor": "white",
           "zerolinewidth": 2
          },
          "yaxis": {
           "automargin": true,
           "gridcolor": "white",
           "linecolor": "white",
           "ticks": "",
           "title": {
            "standoff": 15
           },
           "zerolinecolor": "white",
           "zerolinewidth": 2
          }
         }
        },
        "title": {
         "font": {
          "color": "#4D5663"
         }
        },
        "xaxis": {
         "gridcolor": "#E1E5ED",
         "showgrid": true,
         "tickfont": {
          "color": "#4D5663"
         },
         "title": {
          "font": {
           "color": "#4D5663"
          },
          "text": ""
         },
         "zerolinecolor": "#E1E5ED"
        },
        "xaxis2": {
         "anchor": "y2",
         "gridcolor": "#E1E5ED",
         "showgrid": true,
         "showticklabels": false,
         "tickfont": {
          "color": "#4D5663"
         },
         "title": {
          "font": {
           "color": "#4D5663"
          },
          "text": ""
         },
         "zerolinecolor": "#E1E5ED"
        },
        "yaxis": {
         "domain": [
          0.3,
          1
         ],
         "gridcolor": "#E1E5ED",
         "showgrid": true,
         "tickfont": {
          "color": "#4D5663"
         },
         "title": {
          "font": {
           "color": "#4D5663"
          },
          "text": ""
         },
         "zerolinecolor": "#E1E5ED"
        },
        "yaxis2": {
         "domain": [
          0,
          0.25
         ],
         "gridcolor": "#E1E5ED",
         "showgrid": true,
         "tickfont": {
          "color": "#4D5663"
         },
         "title": {
          "font": {
           "color": "#4D5663"
          },
          "text": "Spread"
         },
         "zerolinecolor": "#E1E5ED"
        }
       }
      },
      "text/html": [
       "<div>\n",
       "        \n",
       "        \n",
       "            <div id=\"b9a69185-721d-4785-8bbb-7220dd0423cb\" class=\"plotly-graph-div\" style=\"height:525px; width:100%;\"></div>\n",
       "            <script type=\"text/javascript\">\n",
       "                require([\"plotly\"], function(Plotly) {\n",
       "                    window.PLOTLYENV=window.PLOTLYENV || {};\n",
       "                    window.PLOTLYENV.BASE_URL='https://plot.ly';\n",
       "                    \n",
       "                if (document.getElementById(\"b9a69185-721d-4785-8bbb-7220dd0423cb\")) {\n",
       "                    Plotly.newPlot(\n",
       "                        'b9a69185-721d-4785-8bbb-7220dd0423cb',\n",
       "                        [{\"line\": {\"color\": \"rgba(255, 153, 51, 1.0)\", \"dash\": \"solid\", \"shape\": \"linear\", \"width\": 1.3}, \"mode\": \"lines\", \"name\": \"A\", \"text\": \"\", \"type\": \"scatter\", \"x\": [0, 1, 2, 3, 4, 5, 6, 7, 8, 9, 10, 11, 12, 13, 14, 15, 16, 17, 18, 19, 20, 21, 22, 23, 24, 25, 26, 27, 28, 29, 30, 31, 32, 33, 34, 35, 36, 37, 38, 39, 40, 41, 42, 43, 44, 45, 46, 47, 48, 49, 50, 51, 52, 53, 54, 55, 56, 57, 58, 59, 60, 61, 62, 63, 64, 65, 66, 67, 68, 69, 70, 71, 72, 73, 74, 75, 76, 77, 78, 79, 80, 81, 82, 83, 84, 85, 86, 87, 88, 89, 90, 91, 92, 93, 94, 95, 96, 97, 98, 99], \"y\": [-0.6889956521739307, -0.10998876634393508, 0.09699922766269028, -0.8808256190850161, 2.2172396213269425, -0.5181556954513972, 0.044220521243459814, -0.6182983871486031, 0.5035632820391117, -1.9735185015594627, -1.1226476322836956, -0.033709732199987, -0.47506049831864783, 0.4062401342415919, -0.8298431157254298, 0.6484928745668593, -0.8484283621195674, -0.11478932596098841, 0.4156464856047231, -1.2044313934808315, -0.7377218812849837, -0.3530399705530779, -1.2354471686035418, 1.415323768152012, 0.03667147351896974, 1.3757424357499963, -0.6204186792444727, 0.32246037711615533, 0.7176758702542765, -0.08952871392329798, -1.9115942832046897, 0.6464809271333035, 0.25280282897385653, -0.3030241591898929, 0.13348160896768804, 1.7778329413926857, -0.2706982328639064, 0.174223288645667, -0.6443864622112773, 0.05767854227106527, 0.9359769594187413, -0.2108110112579468, 0.7232976098150298, 0.13782196537317143, 0.1965086400798674, -0.35595137558340306, 0.19120368500211257, 1.190555681945383, 0.29840087375121377, 1.709979954740142, -2.448437868821938, 0.23410079150844357, 0.433512903693733, 1.9187512221029763, 0.34796679107170425, 0.28328638799105765, 0.44287235575880485, -0.7266976761259687, 0.3816684048555259, -0.8004660246613597, -0.06094814916289371, -0.48342674827606424, 0.8255274909549741, -0.10068957109932336, -2.172269351419027, -0.7422295876820347, -1.235546393094691, -1.2995927217470409, -0.684511063368568, 0.9958837433328543, -3.1991579221704414, 1.1793687045818502, -0.319124939743108, 0.8491143895203022, -1.1359643999435747, -0.5865615969649363, -0.19172108517410447, -0.30362087781243813, -0.03695050115199503, 0.9785928191618193, 2.0128678073383885, 0.5639780665112403, -1.7990312710673546, -1.114647156508601, 0.2947390593870421, 0.3690855749682276, 0.25285277904826237, 2.1287882496107553, 0.08504298776070535, 0.2704915897148827, -1.039195748914558, 0.5889777880510121, 0.9996470311558219, 0.9065031222001652, -0.7944687044530946, -0.4705706405607836, -0.07239019799691816, 0.017726005413281606, -1.640842578699129, -0.9970442281743205]}, {\"line\": {\"color\": \"rgba(55, 128, 191, 1.0)\", \"dash\": \"solid\", \"shape\": \"linear\", \"width\": 1.3}, \"mode\": \"lines\", \"name\": \"B\", \"text\": \"\", \"type\": \"scatter\", \"x\": [0, 1, 2, 3, 4, 5, 6, 7, 8, 9, 10, 11, 12, 13, 14, 15, 16, 17, 18, 19, 20, 21, 22, 23, 24, 25, 26, 27, 28, 29, 30, 31, 32, 33, 34, 35, 36, 37, 38, 39, 40, 41, 42, 43, 44, 45, 46, 47, 48, 49, 50, 51, 52, 53, 54, 55, 56, 57, 58, 59, 60, 61, 62, 63, 64, 65, 66, 67, 68, 69, 70, 71, 72, 73, 74, 75, 76, 77, 78, 79, 80, 81, 82, 83, 84, 85, 86, 87, 88, 89, 90, 91, 92, 93, 94, 95, 96, 97, 98, 99], \"y\": [-1.2073839278312855, -0.8914152871341857, 0.9122000538112298, 0.6498066921507818, -0.00899612165220606, -0.5004526156800174, 0.34729418384591637, 0.15897743642567497, -0.21839432228170258, -0.49991139525442396, 0.9610693389406737, 0.5618914806405604, 1.201558960930769, -0.2273238288028599, 1.1138543091175164, -1.0868005540326964, -1.1715605560090836, 0.9003730719574612, 0.03682778941603213, -0.15459482647855446, 0.7221015269889887, 0.38583033388373106, 0.6543951885091118, 0.040095597861937025, 0.17972487983609023, 0.28158447514524965, 1.8330586456748375, -1.4855936550488982, -0.1883376767633526, 1.0024422321628312, -0.9234550503192078, -0.11575204468620277, -0.6234014385670065, 0.9415011286362762, -1.0517190719433238, 2.0515592254487953, -0.2580451508330001, -0.5150870104052806, 0.09088235032580956, 2.231352209037297, -0.15859836080583842, -0.9808380119046511, 0.06323059919233626, -0.21106543250299467, -0.6576314663591996, 0.09798213161331863, -0.24017783056310635, 0.46385088321858264, 0.256202641291782, 1.5882261135642595, -0.49785387726708114, -2.996055335076067, 1.0979391220131691, 0.3627975014686308, -0.10786076072121988, 0.0641227457433506, -0.5508234727964582, -0.4893642929797324, -0.01295655628743466, 0.6364408498489723, -1.3445070194151048, -1.2060950265348032, -1.302017996699132, 0.30575364739168376, 1.1344522718513066, -0.40899495791668117, -0.1879338341978866, 0.7701867136427122, -0.3142097601883405, 0.3768390832801088, 2.2322106533883845, -0.6105290427360885, 0.12788746771461784, 0.6964055162543205, 1.188468028747178, -0.1983515900990588, -1.8987123602775557, -0.4467780747490587, -1.401342976649239, 1.9570162473353976, -2.181136421012167, -1.1794166803130908, 0.19599267454193595, 0.7740325867092016, -1.0193643289430883, -0.023458044632571996, -1.7150708376874946, 0.397417382762338, -0.7029977592823403, 0.6311539886525172, -0.4145841586488041, -2.4197468703272453, -0.46942188535039864, 0.5744298855541616, -0.29328939444327295, 2.377437799872268, -1.7487701098601915, -0.7913451308489126, 0.46738856275175306, -0.7480590074762296]}, {\"connectgaps\": false, \"fill\": \"tozeroy\", \"line\": {\"color\": \"green\", \"dash\": \"solid\", \"shape\": \"linear\", \"width\": 0.5}, \"mode\": \"lines\", \"name\": \"Spread\", \"showlegend\": false, \"type\": \"scatter\", \"x\": [0, 1, 2, 3, 4, 5, 6, 7, 8, 9, 10, 11, 12, 13, 14, 15, 16, 17, 18, 19, 20, 21, 22, 23, 24, 25, 26, 27, 28, 29, 30, 31, 32, 33, 34, 35, 36, 37, 38, 39, 40, 41, 42, 43, 44, 45, 46, 47, 48, 49, 50, 51, 52, 53, 54, 55, 56, 57, 58, 59, 60, 61, 62, 63, 64, 65, 66, 67, 68, 69, 70, 71, 72, 73, 74, 75, 76, 77, 78, 79, 80, 81, 82, 83, 84, 85, 86, 87, 88, 89, 90, 91, 92, 93, 94, 95, 96, 97, 98, 99], \"xaxis\": \"x2\", \"y\": [0.5183882756573548, 0.7814265207902507, \"\", \"\", 2.2262357429791484, \"\", \"\", \"\", 0.7219576043208142, \"\", \"\", \"\", \"\", 0.6335639630444518, \"\", 1.7352934285995558, 0.3231321938895162, \"\", 0.37881869618869096, \"\", \"\", \"\", \"\", 1.375228170290075, \"\", 1.0941579606047467, \"\", 1.8080540321650536, 0.9060135470176292, \"\", \"\", 0.7622329718195063, 0.876204267540863, \"\", 1.1852006809110118, \"\", \"\", 0.6893102990509477, \"\", \"\", 1.0945753202245796, 0.7700270006467044, 0.6600670106226936, 0.34888739787616607, 0.854140106439067, \"\", 0.4313815155652189, 0.7267047987268005, 0.04219823245943177, 0.1217538411758825, \"\", 3.2301561265845105, \"\", 1.5559537206343454, 0.4558275517929241, 0.21916364224770707, 0.9936958285552631, \"\", 0.39462496114296053, \"\", 1.283558870252211, 0.7226682782587389, 2.127545487654106, \"\", \"\", \"\", \"\", \"\", \"\", 0.6190446600527455, \"\", 1.7898977473179387, \"\", 0.1527088732659817, \"\", \"\", 1.7069912751034513, 0.14315719693662055, 1.3643924754972439, \"\", 4.194004228350556, 1.7433947468243312, \"\", \"\", 1.3141033883301303, 0.3925436196007996, 1.967923616735757, 1.7313708668484173, 0.7880407470430457, \"\", \"\", 3.0087246583782576, 1.4690689165062205, 0.3320732366460035, \"\", \"\", 1.6763799118632734, 0.8090711362621942, \"\", \"\"], \"yaxis\": \"y2\"}, {\"connectgaps\": false, \"fill\": \"tozeroy\", \"line\": {\"color\": \"red\", \"dash\": \"solid\", \"shape\": \"linear\", \"width\": 0.5}, \"mode\": \"lines\", \"name\": \"Spread\", \"showlegend\": false, \"type\": \"scatter\", \"x\": [0, 1, 2, 3, 4, 5, 6, 7, 8, 9, 10, 11, 12, 13, 14, 15, 16, 17, 18, 19, 20, 21, 22, 23, 24, 25, 26, 27, 28, 29, 30, 31, 32, 33, 34, 35, 36, 37, 38, 39, 40, 41, 42, 43, 44, 45, 46, 47, 48, 49, 50, 51, 52, 53, 54, 55, 56, 57, 58, 59, 60, 61, 62, 63, 64, 65, 66, 67, 68, 69, 70, 71, 72, 73, 74, 75, 76, 77, 78, 79, 80, 81, 82, 83, 84, 85, 86, 87, 88, 89, 90, 91, 92, 93, 94, 95, 96, 97, 98, 99], \"xaxis\": \"x2\", \"y\": [\"\", \"\", -0.8152008261485395, -1.5306323112357978, \"\", -0.01770307977137975, -0.30307366260245655, -0.777275823574278, \"\", -1.4736071063050389, -2.0837169712243693, -0.5956012128405473, -1.6766194592494168, \"\", -1.9436974248429462, \"\", \"\", -1.0151623979184496, \"\", -1.0498365670022771, -1.4598234082739725, -0.738870304436809, -1.8898423571126535, \"\", -0.1430534063171205, \"\", -2.45347732491931, \"\", \"\", -1.0919709460861293, -0.9881392328854819, \"\", \"\", -1.244525287826169, \"\", -0.27372628405610966, -0.01265308203090626, \"\", -0.7352688125370869, -2.173673666766232, \"\", \"\", \"\", \"\", \"\", -0.4539335071967217, \"\", \"\", \"\", \"\", -1.950583991554857, \"\", -0.664426218319436, \"\", \"\", \"\", \"\", -0.2373333831462363, \"\", -1.4369068745103322, \"\", \"\", \"\", -0.4064432184910071, -3.3067216232703336, -0.33323462976535356, -1.0476125588968044, -2.069779435389753, -0.3703013031802275, \"\", -5.431368575558826, \"\", -0.44701240745772586, \"\", -2.324432428690753, -0.3882100068658775, \"\", \"\", \"\", -0.9784234281735783, \"\", \"\", -1.9950239456092906, -1.8886797432178026, \"\", \"\", \"\", \"\", \"\", -0.36066239893763447, -0.6246115902657539, \"\", \"\", \"\", -0.5011793100098216, -2.8480084404330515, \"\", \"\", -2.108231141450882, -0.24898522069809093], \"yaxis\": \"y2\"}],\n",
       "                        {\"hovermode\": \"x\", \"legend\": {\"bgcolor\": \"#F5F6F9\", \"font\": {\"color\": \"#4D5663\"}}, \"paper_bgcolor\": \"#F5F6F9\", \"plot_bgcolor\": \"#F5F6F9\", \"template\": {\"data\": {\"bar\": [{\"error_x\": {\"color\": \"#2a3f5f\"}, \"error_y\": {\"color\": \"#2a3f5f\"}, \"marker\": {\"line\": {\"color\": \"#E5ECF6\", \"width\": 0.5}}, \"type\": \"bar\"}], \"barpolar\": [{\"marker\": {\"line\": {\"color\": \"#E5ECF6\", \"width\": 0.5}}, \"type\": \"barpolar\"}], \"carpet\": [{\"aaxis\": {\"endlinecolor\": \"#2a3f5f\", \"gridcolor\": \"white\", \"linecolor\": \"white\", \"minorgridcolor\": \"white\", \"startlinecolor\": \"#2a3f5f\"}, \"baxis\": {\"endlinecolor\": \"#2a3f5f\", \"gridcolor\": \"white\", \"linecolor\": \"white\", \"minorgridcolor\": \"white\", \"startlinecolor\": \"#2a3f5f\"}, \"type\": \"carpet\"}], \"choropleth\": [{\"colorbar\": {\"outlinewidth\": 0, \"ticks\": \"\"}, \"type\": \"choropleth\"}], \"contour\": [{\"colorbar\": {\"outlinewidth\": 0, \"ticks\": \"\"}, \"colorscale\": [[0.0, \"#0d0887\"], [0.1111111111111111, \"#46039f\"], [0.2222222222222222, \"#7201a8\"], [0.3333333333333333, \"#9c179e\"], [0.4444444444444444, \"#bd3786\"], [0.5555555555555556, \"#d8576b\"], [0.6666666666666666, \"#ed7953\"], [0.7777777777777778, \"#fb9f3a\"], [0.8888888888888888, \"#fdca26\"], [1.0, \"#f0f921\"]], \"type\": \"contour\"}], \"contourcarpet\": [{\"colorbar\": {\"outlinewidth\": 0, \"ticks\": \"\"}, \"type\": \"contourcarpet\"}], \"heatmap\": [{\"colorbar\": {\"outlinewidth\": 0, \"ticks\": \"\"}, \"colorscale\": [[0.0, \"#0d0887\"], [0.1111111111111111, \"#46039f\"], [0.2222222222222222, \"#7201a8\"], [0.3333333333333333, \"#9c179e\"], [0.4444444444444444, \"#bd3786\"], [0.5555555555555556, \"#d8576b\"], [0.6666666666666666, \"#ed7953\"], [0.7777777777777778, \"#fb9f3a\"], [0.8888888888888888, \"#fdca26\"], [1.0, \"#f0f921\"]], \"type\": \"heatmap\"}], \"heatmapgl\": [{\"colorbar\": {\"outlinewidth\": 0, \"ticks\": \"\"}, \"colorscale\": [[0.0, \"#0d0887\"], [0.1111111111111111, \"#46039f\"], [0.2222222222222222, \"#7201a8\"], [0.3333333333333333, \"#9c179e\"], [0.4444444444444444, \"#bd3786\"], [0.5555555555555556, \"#d8576b\"], [0.6666666666666666, \"#ed7953\"], [0.7777777777777778, \"#fb9f3a\"], [0.8888888888888888, \"#fdca26\"], [1.0, \"#f0f921\"]], \"type\": \"heatmapgl\"}], \"histogram\": [{\"marker\": {\"colorbar\": {\"outlinewidth\": 0, \"ticks\": \"\"}}, \"type\": \"histogram\"}], \"histogram2d\": [{\"colorbar\": {\"outlinewidth\": 0, \"ticks\": \"\"}, \"colorscale\": [[0.0, \"#0d0887\"], [0.1111111111111111, \"#46039f\"], [0.2222222222222222, \"#7201a8\"], [0.3333333333333333, \"#9c179e\"], [0.4444444444444444, \"#bd3786\"], [0.5555555555555556, \"#d8576b\"], [0.6666666666666666, \"#ed7953\"], [0.7777777777777778, \"#fb9f3a\"], [0.8888888888888888, \"#fdca26\"], [1.0, \"#f0f921\"]], \"type\": \"histogram2d\"}], \"histogram2dcontour\": [{\"colorbar\": {\"outlinewidth\": 0, \"ticks\": \"\"}, \"colorscale\": [[0.0, \"#0d0887\"], [0.1111111111111111, \"#46039f\"], [0.2222222222222222, \"#7201a8\"], [0.3333333333333333, \"#9c179e\"], [0.4444444444444444, \"#bd3786\"], [0.5555555555555556, \"#d8576b\"], [0.6666666666666666, \"#ed7953\"], [0.7777777777777778, \"#fb9f3a\"], [0.8888888888888888, \"#fdca26\"], [1.0, \"#f0f921\"]], \"type\": \"histogram2dcontour\"}], \"mesh3d\": [{\"colorbar\": {\"outlinewidth\": 0, \"ticks\": \"\"}, \"type\": \"mesh3d\"}], \"parcoords\": [{\"line\": {\"colorbar\": {\"outlinewidth\": 0, \"ticks\": \"\"}}, \"type\": \"parcoords\"}], \"pie\": [{\"automargin\": true, \"type\": \"pie\"}], \"scatter\": [{\"marker\": {\"colorbar\": {\"outlinewidth\": 0, \"ticks\": \"\"}}, \"type\": \"scatter\"}], \"scatter3d\": [{\"line\": {\"colorbar\": {\"outlinewidth\": 0, \"ticks\": \"\"}}, \"marker\": {\"colorbar\": {\"outlinewidth\": 0, \"ticks\": \"\"}}, \"type\": \"scatter3d\"}], \"scattercarpet\": [{\"marker\": {\"colorbar\": {\"outlinewidth\": 0, \"ticks\": \"\"}}, \"type\": \"scattercarpet\"}], \"scattergeo\": [{\"marker\": {\"colorbar\": {\"outlinewidth\": 0, \"ticks\": \"\"}}, \"type\": \"scattergeo\"}], \"scattergl\": [{\"marker\": {\"colorbar\": {\"outlinewidth\": 0, \"ticks\": \"\"}}, \"type\": \"scattergl\"}], \"scattermapbox\": [{\"marker\": {\"colorbar\": {\"outlinewidth\": 0, \"ticks\": \"\"}}, \"type\": \"scattermapbox\"}], \"scatterpolar\": [{\"marker\": {\"colorbar\": {\"outlinewidth\": 0, \"ticks\": \"\"}}, \"type\": \"scatterpolar\"}], \"scatterpolargl\": [{\"marker\": {\"colorbar\": {\"outlinewidth\": 0, \"ticks\": \"\"}}, \"type\": \"scatterpolargl\"}], \"scatterternary\": [{\"marker\": {\"colorbar\": {\"outlinewidth\": 0, \"ticks\": \"\"}}, \"type\": \"scatterternary\"}], \"surface\": [{\"colorbar\": {\"outlinewidth\": 0, \"ticks\": \"\"}, \"colorscale\": [[0.0, \"#0d0887\"], [0.1111111111111111, \"#46039f\"], [0.2222222222222222, \"#7201a8\"], [0.3333333333333333, \"#9c179e\"], [0.4444444444444444, \"#bd3786\"], [0.5555555555555556, \"#d8576b\"], [0.6666666666666666, \"#ed7953\"], [0.7777777777777778, \"#fb9f3a\"], [0.8888888888888888, \"#fdca26\"], [1.0, \"#f0f921\"]], \"type\": \"surface\"}], \"table\": [{\"cells\": {\"fill\": {\"color\": \"#EBF0F8\"}, \"line\": {\"color\": \"white\"}}, \"header\": {\"fill\": {\"color\": \"#C8D4E3\"}, \"line\": {\"color\": \"white\"}}, \"type\": \"table\"}]}, \"layout\": {\"annotationdefaults\": {\"arrowcolor\": \"#2a3f5f\", \"arrowhead\": 0, \"arrowwidth\": 1}, \"coloraxis\": {\"colorbar\": {\"outlinewidth\": 0, \"ticks\": \"\"}}, \"colorscale\": {\"diverging\": [[0, \"#8e0152\"], [0.1, \"#c51b7d\"], [0.2, \"#de77ae\"], [0.3, \"#f1b6da\"], [0.4, \"#fde0ef\"], [0.5, \"#f7f7f7\"], [0.6, \"#e6f5d0\"], [0.7, \"#b8e186\"], [0.8, \"#7fbc41\"], [0.9, \"#4d9221\"], [1, \"#276419\"]], \"sequential\": [[0.0, \"#0d0887\"], [0.1111111111111111, \"#46039f\"], [0.2222222222222222, \"#7201a8\"], [0.3333333333333333, \"#9c179e\"], [0.4444444444444444, \"#bd3786\"], [0.5555555555555556, \"#d8576b\"], [0.6666666666666666, \"#ed7953\"], [0.7777777777777778, \"#fb9f3a\"], [0.8888888888888888, \"#fdca26\"], [1.0, \"#f0f921\"]], \"sequentialminus\": [[0.0, \"#0d0887\"], [0.1111111111111111, \"#46039f\"], [0.2222222222222222, \"#7201a8\"], [0.3333333333333333, \"#9c179e\"], [0.4444444444444444, \"#bd3786\"], [0.5555555555555556, \"#d8576b\"], [0.6666666666666666, \"#ed7953\"], [0.7777777777777778, \"#fb9f3a\"], [0.8888888888888888, \"#fdca26\"], [1.0, \"#f0f921\"]]}, \"colorway\": [\"#636efa\", \"#EF553B\", \"#00cc96\", \"#ab63fa\", \"#FFA15A\", \"#19d3f3\", \"#FF6692\", \"#B6E880\", \"#FF97FF\", \"#FECB52\"], \"font\": {\"color\": \"#2a3f5f\"}, \"geo\": {\"bgcolor\": \"white\", \"lakecolor\": \"white\", \"landcolor\": \"#E5ECF6\", \"showlakes\": true, \"showland\": true, \"subunitcolor\": \"white\"}, \"hoverlabel\": {\"align\": \"left\"}, \"hovermode\": \"closest\", \"mapbox\": {\"style\": \"light\"}, \"paper_bgcolor\": \"white\", \"plot_bgcolor\": \"#E5ECF6\", \"polar\": {\"angularaxis\": {\"gridcolor\": \"white\", \"linecolor\": \"white\", \"ticks\": \"\"}, \"bgcolor\": \"#E5ECF6\", \"radialaxis\": {\"gridcolor\": \"white\", \"linecolor\": \"white\", \"ticks\": \"\"}}, \"scene\": {\"xaxis\": {\"backgroundcolor\": \"#E5ECF6\", \"gridcolor\": \"white\", \"gridwidth\": 2, \"linecolor\": \"white\", \"showbackground\": true, \"ticks\": \"\", \"zerolinecolor\": \"white\"}, \"yaxis\": {\"backgroundcolor\": \"#E5ECF6\", \"gridcolor\": \"white\", \"gridwidth\": 2, \"linecolor\": \"white\", \"showbackground\": true, \"ticks\": \"\", \"zerolinecolor\": \"white\"}, \"zaxis\": {\"backgroundcolor\": \"#E5ECF6\", \"gridcolor\": \"white\", \"gridwidth\": 2, \"linecolor\": \"white\", \"showbackground\": true, \"ticks\": \"\", \"zerolinecolor\": \"white\"}}, \"shapedefaults\": {\"line\": {\"color\": \"#2a3f5f\"}}, \"ternary\": {\"aaxis\": {\"gridcolor\": \"white\", \"linecolor\": \"white\", \"ticks\": \"\"}, \"baxis\": {\"gridcolor\": \"white\", \"linecolor\": \"white\", \"ticks\": \"\"}, \"bgcolor\": \"#E5ECF6\", \"caxis\": {\"gridcolor\": \"white\", \"linecolor\": \"white\", \"ticks\": \"\"}}, \"title\": {\"x\": 0.05}, \"xaxis\": {\"automargin\": true, \"gridcolor\": \"white\", \"linecolor\": \"white\", \"ticks\": \"\", \"title\": {\"standoff\": 15}, \"zerolinecolor\": \"white\", \"zerolinewidth\": 2}, \"yaxis\": {\"automargin\": true, \"gridcolor\": \"white\", \"linecolor\": \"white\", \"ticks\": \"\", \"title\": {\"standoff\": 15}, \"zerolinecolor\": \"white\", \"zerolinewidth\": 2}}}, \"title\": {\"font\": {\"color\": \"#4D5663\"}}, \"xaxis\": {\"gridcolor\": \"#E1E5ED\", \"showgrid\": true, \"tickfont\": {\"color\": \"#4D5663\"}, \"title\": {\"font\": {\"color\": \"#4D5663\"}, \"text\": \"\"}, \"zerolinecolor\": \"#E1E5ED\"}, \"xaxis2\": {\"anchor\": \"y2\", \"gridcolor\": \"#E1E5ED\", \"showgrid\": true, \"showticklabels\": false, \"tickfont\": {\"color\": \"#4D5663\"}, \"title\": {\"font\": {\"color\": \"#4D5663\"}, \"text\": \"\"}, \"zerolinecolor\": \"#E1E5ED\"}, \"yaxis\": {\"domain\": [0.3, 1], \"gridcolor\": \"#E1E5ED\", \"showgrid\": true, \"tickfont\": {\"color\": \"#4D5663\"}, \"title\": {\"font\": {\"color\": \"#4D5663\"}, \"text\": \"\"}, \"zerolinecolor\": \"#E1E5ED\"}, \"yaxis2\": {\"domain\": [0, 0.25], \"gridcolor\": \"#E1E5ED\", \"showgrid\": true, \"tickfont\": {\"color\": \"#4D5663\"}, \"title\": {\"font\": {\"color\": \"#4D5663\"}, \"text\": \"Spread\"}, \"zerolinecolor\": \"#E1E5ED\"}},\n",
       "                        {\"showLink\": true, \"linkText\": \"Export to plot.ly\", \"plotlyServerURL\": \"https://plot.ly\", \"responsive\": true}\n",
       "                    ).then(function(){\n",
       "                            \n",
       "var gd = document.getElementById('b9a69185-721d-4785-8bbb-7220dd0423cb');\n",
       "var x = new MutationObserver(function (mutations, observer) {{\n",
       "        var display = window.getComputedStyle(gd).display;\n",
       "        if (!display || display === 'none') {{\n",
       "            console.log([gd, 'removed!']);\n",
       "            Plotly.purge(gd);\n",
       "            observer.disconnect();\n",
       "        }}\n",
       "}});\n",
       "\n",
       "// Listen for the removal of the full notebook cells\n",
       "var notebookContainer = gd.closest('#notebook-container');\n",
       "if (notebookContainer) {{\n",
       "    x.observe(notebookContainer, {childList: true});\n",
       "}}\n",
       "\n",
       "// Listen for the clearing of the current output cell\n",
       "var outputEl = gd.closest('.output');\n",
       "if (outputEl) {{\n",
       "    x.observe(outputEl, {childList: true});\n",
       "}}\n",
       "\n",
       "                        })\n",
       "                };\n",
       "                });\n",
       "            </script>\n",
       "        </div>"
      ]
     },
     "metadata": {},
     "output_type": "display_data"
    }
   ],
   "source": [
    "df[['A','B']].iplot(kind='spread')"
   ]
  },
  {
   "cell_type": "markdown",
   "metadata": {},
   "source": [
    "## histogram"
   ]
  },
  {
   "cell_type": "code",
   "execution_count": 17,
   "metadata": {},
   "outputs": [
    {
     "data": {
      "application/vnd.plotly.v1+json": {
       "config": {
        "linkText": "Export to plot.ly",
        "plotlyServerURL": "https://plot.ly",
        "showLink": true
       },
       "data": [
        {
         "histfunc": "count",
         "histnorm": "",
         "marker": {
          "color": "rgba(255, 153, 51, 1.0)",
          "line": {
           "color": "#4D5663",
           "width": 1.3
          }
         },
         "name": "A",
         "nbinsx": 25,
         "opacity": 0.8,
         "orientation": "v",
         "type": "histogram",
         "x": [
          -0.6889956521739307,
          -0.10998876634393508,
          0.09699922766269028,
          -0.8808256190850161,
          2.2172396213269425,
          -0.5181556954513972,
          0.044220521243459814,
          -0.6182983871486031,
          0.5035632820391117,
          -1.9735185015594627,
          -1.1226476322836956,
          -0.033709732199987,
          -0.47506049831864783,
          0.4062401342415919,
          -0.8298431157254298,
          0.6484928745668593,
          -0.8484283621195674,
          -0.11478932596098841,
          0.4156464856047231,
          -1.2044313934808315,
          -0.7377218812849837,
          -0.3530399705530779,
          -1.2354471686035418,
          1.415323768152012,
          0.03667147351896974,
          1.3757424357499963,
          -0.6204186792444727,
          0.32246037711615533,
          0.7176758702542765,
          -0.08952871392329798,
          -1.9115942832046897,
          0.6464809271333035,
          0.25280282897385653,
          -0.3030241591898929,
          0.13348160896768804,
          1.7778329413926857,
          -0.2706982328639064,
          0.174223288645667,
          -0.6443864622112773,
          0.05767854227106527,
          0.9359769594187413,
          -0.2108110112579468,
          0.7232976098150298,
          0.13782196537317143,
          0.1965086400798674,
          -0.35595137558340306,
          0.19120368500211257,
          1.190555681945383,
          0.29840087375121377,
          1.709979954740142,
          -2.448437868821938,
          0.23410079150844357,
          0.433512903693733,
          1.9187512221029763,
          0.34796679107170425,
          0.28328638799105765,
          0.44287235575880485,
          -0.7266976761259687,
          0.3816684048555259,
          -0.8004660246613597,
          -0.06094814916289371,
          -0.48342674827606424,
          0.8255274909549741,
          -0.10068957109932336,
          -2.172269351419027,
          -0.7422295876820347,
          -1.235546393094691,
          -1.2995927217470409,
          -0.684511063368568,
          0.9958837433328543,
          -3.1991579221704414,
          1.1793687045818502,
          -0.319124939743108,
          0.8491143895203022,
          -1.1359643999435747,
          -0.5865615969649363,
          -0.19172108517410447,
          -0.30362087781243813,
          -0.03695050115199503,
          0.9785928191618193,
          2.0128678073383885,
          0.5639780665112403,
          -1.7990312710673546,
          -1.114647156508601,
          0.2947390593870421,
          0.3690855749682276,
          0.25285277904826237,
          2.1287882496107553,
          0.08504298776070535,
          0.2704915897148827,
          -1.039195748914558,
          0.5889777880510121,
          0.9996470311558219,
          0.9065031222001652,
          -0.7944687044530946,
          -0.4705706405607836,
          -0.07239019799691816,
          0.017726005413281606,
          -1.640842578699129,
          -0.9970442281743205
         ]
        }
       ],
       "layout": {
        "barmode": "overlay",
        "legend": {
         "bgcolor": "#F5F6F9",
         "font": {
          "color": "#4D5663"
         }
        },
        "paper_bgcolor": "#F5F6F9",
        "plot_bgcolor": "#F5F6F9",
        "template": {
         "data": {
          "bar": [
           {
            "error_x": {
             "color": "#2a3f5f"
            },
            "error_y": {
             "color": "#2a3f5f"
            },
            "marker": {
             "line": {
              "color": "#E5ECF6",
              "width": 0.5
             }
            },
            "type": "bar"
           }
          ],
          "barpolar": [
           {
            "marker": {
             "line": {
              "color": "#E5ECF6",
              "width": 0.5
             }
            },
            "type": "barpolar"
           }
          ],
          "carpet": [
           {
            "aaxis": {
             "endlinecolor": "#2a3f5f",
             "gridcolor": "white",
             "linecolor": "white",
             "minorgridcolor": "white",
             "startlinecolor": "#2a3f5f"
            },
            "baxis": {
             "endlinecolor": "#2a3f5f",
             "gridcolor": "white",
             "linecolor": "white",
             "minorgridcolor": "white",
             "startlinecolor": "#2a3f5f"
            },
            "type": "carpet"
           }
          ],
          "choropleth": [
           {
            "colorbar": {
             "outlinewidth": 0,
             "ticks": ""
            },
            "type": "choropleth"
           }
          ],
          "contour": [
           {
            "colorbar": {
             "outlinewidth": 0,
             "ticks": ""
            },
            "colorscale": [
             [
              0,
              "#0d0887"
             ],
             [
              0.1111111111111111,
              "#46039f"
             ],
             [
              0.2222222222222222,
              "#7201a8"
             ],
             [
              0.3333333333333333,
              "#9c179e"
             ],
             [
              0.4444444444444444,
              "#bd3786"
             ],
             [
              0.5555555555555556,
              "#d8576b"
             ],
             [
              0.6666666666666666,
              "#ed7953"
             ],
             [
              0.7777777777777778,
              "#fb9f3a"
             ],
             [
              0.8888888888888888,
              "#fdca26"
             ],
             [
              1,
              "#f0f921"
             ]
            ],
            "type": "contour"
           }
          ],
          "contourcarpet": [
           {
            "colorbar": {
             "outlinewidth": 0,
             "ticks": ""
            },
            "type": "contourcarpet"
           }
          ],
          "heatmap": [
           {
            "colorbar": {
             "outlinewidth": 0,
             "ticks": ""
            },
            "colorscale": [
             [
              0,
              "#0d0887"
             ],
             [
              0.1111111111111111,
              "#46039f"
             ],
             [
              0.2222222222222222,
              "#7201a8"
             ],
             [
              0.3333333333333333,
              "#9c179e"
             ],
             [
              0.4444444444444444,
              "#bd3786"
             ],
             [
              0.5555555555555556,
              "#d8576b"
             ],
             [
              0.6666666666666666,
              "#ed7953"
             ],
             [
              0.7777777777777778,
              "#fb9f3a"
             ],
             [
              0.8888888888888888,
              "#fdca26"
             ],
             [
              1,
              "#f0f921"
             ]
            ],
            "type": "heatmap"
           }
          ],
          "heatmapgl": [
           {
            "colorbar": {
             "outlinewidth": 0,
             "ticks": ""
            },
            "colorscale": [
             [
              0,
              "#0d0887"
             ],
             [
              0.1111111111111111,
              "#46039f"
             ],
             [
              0.2222222222222222,
              "#7201a8"
             ],
             [
              0.3333333333333333,
              "#9c179e"
             ],
             [
              0.4444444444444444,
              "#bd3786"
             ],
             [
              0.5555555555555556,
              "#d8576b"
             ],
             [
              0.6666666666666666,
              "#ed7953"
             ],
             [
              0.7777777777777778,
              "#fb9f3a"
             ],
             [
              0.8888888888888888,
              "#fdca26"
             ],
             [
              1,
              "#f0f921"
             ]
            ],
            "type": "heatmapgl"
           }
          ],
          "histogram": [
           {
            "marker": {
             "colorbar": {
              "outlinewidth": 0,
              "ticks": ""
             }
            },
            "type": "histogram"
           }
          ],
          "histogram2d": [
           {
            "colorbar": {
             "outlinewidth": 0,
             "ticks": ""
            },
            "colorscale": [
             [
              0,
              "#0d0887"
             ],
             [
              0.1111111111111111,
              "#46039f"
             ],
             [
              0.2222222222222222,
              "#7201a8"
             ],
             [
              0.3333333333333333,
              "#9c179e"
             ],
             [
              0.4444444444444444,
              "#bd3786"
             ],
             [
              0.5555555555555556,
              "#d8576b"
             ],
             [
              0.6666666666666666,
              "#ed7953"
             ],
             [
              0.7777777777777778,
              "#fb9f3a"
             ],
             [
              0.8888888888888888,
              "#fdca26"
             ],
             [
              1,
              "#f0f921"
             ]
            ],
            "type": "histogram2d"
           }
          ],
          "histogram2dcontour": [
           {
            "colorbar": {
             "outlinewidth": 0,
             "ticks": ""
            },
            "colorscale": [
             [
              0,
              "#0d0887"
             ],
             [
              0.1111111111111111,
              "#46039f"
             ],
             [
              0.2222222222222222,
              "#7201a8"
             ],
             [
              0.3333333333333333,
              "#9c179e"
             ],
             [
              0.4444444444444444,
              "#bd3786"
             ],
             [
              0.5555555555555556,
              "#d8576b"
             ],
             [
              0.6666666666666666,
              "#ed7953"
             ],
             [
              0.7777777777777778,
              "#fb9f3a"
             ],
             [
              0.8888888888888888,
              "#fdca26"
             ],
             [
              1,
              "#f0f921"
             ]
            ],
            "type": "histogram2dcontour"
           }
          ],
          "mesh3d": [
           {
            "colorbar": {
             "outlinewidth": 0,
             "ticks": ""
            },
            "type": "mesh3d"
           }
          ],
          "parcoords": [
           {
            "line": {
             "colorbar": {
              "outlinewidth": 0,
              "ticks": ""
             }
            },
            "type": "parcoords"
           }
          ],
          "pie": [
           {
            "automargin": true,
            "type": "pie"
           }
          ],
          "scatter": [
           {
            "marker": {
             "colorbar": {
              "outlinewidth": 0,
              "ticks": ""
             }
            },
            "type": "scatter"
           }
          ],
          "scatter3d": [
           {
            "line": {
             "colorbar": {
              "outlinewidth": 0,
              "ticks": ""
             }
            },
            "marker": {
             "colorbar": {
              "outlinewidth": 0,
              "ticks": ""
             }
            },
            "type": "scatter3d"
           }
          ],
          "scattercarpet": [
           {
            "marker": {
             "colorbar": {
              "outlinewidth": 0,
              "ticks": ""
             }
            },
            "type": "scattercarpet"
           }
          ],
          "scattergeo": [
           {
            "marker": {
             "colorbar": {
              "outlinewidth": 0,
              "ticks": ""
             }
            },
            "type": "scattergeo"
           }
          ],
          "scattergl": [
           {
            "marker": {
             "colorbar": {
              "outlinewidth": 0,
              "ticks": ""
             }
            },
            "type": "scattergl"
           }
          ],
          "scattermapbox": [
           {
            "marker": {
             "colorbar": {
              "outlinewidth": 0,
              "ticks": ""
             }
            },
            "type": "scattermapbox"
           }
          ],
          "scatterpolar": [
           {
            "marker": {
             "colorbar": {
              "outlinewidth": 0,
              "ticks": ""
             }
            },
            "type": "scatterpolar"
           }
          ],
          "scatterpolargl": [
           {
            "marker": {
             "colorbar": {
              "outlinewidth": 0,
              "ticks": ""
             }
            },
            "type": "scatterpolargl"
           }
          ],
          "scatterternary": [
           {
            "marker": {
             "colorbar": {
              "outlinewidth": 0,
              "ticks": ""
             }
            },
            "type": "scatterternary"
           }
          ],
          "surface": [
           {
            "colorbar": {
             "outlinewidth": 0,
             "ticks": ""
            },
            "colorscale": [
             [
              0,
              "#0d0887"
             ],
             [
              0.1111111111111111,
              "#46039f"
             ],
             [
              0.2222222222222222,
              "#7201a8"
             ],
             [
              0.3333333333333333,
              "#9c179e"
             ],
             [
              0.4444444444444444,
              "#bd3786"
             ],
             [
              0.5555555555555556,
              "#d8576b"
             ],
             [
              0.6666666666666666,
              "#ed7953"
             ],
             [
              0.7777777777777778,
              "#fb9f3a"
             ],
             [
              0.8888888888888888,
              "#fdca26"
             ],
             [
              1,
              "#f0f921"
             ]
            ],
            "type": "surface"
           }
          ],
          "table": [
           {
            "cells": {
             "fill": {
              "color": "#EBF0F8"
             },
             "line": {
              "color": "white"
             }
            },
            "header": {
             "fill": {
              "color": "#C8D4E3"
             },
             "line": {
              "color": "white"
             }
            },
            "type": "table"
           }
          ]
         },
         "layout": {
          "annotationdefaults": {
           "arrowcolor": "#2a3f5f",
           "arrowhead": 0,
           "arrowwidth": 1
          },
          "coloraxis": {
           "colorbar": {
            "outlinewidth": 0,
            "ticks": ""
           }
          },
          "colorscale": {
           "diverging": [
            [
             0,
             "#8e0152"
            ],
            [
             0.1,
             "#c51b7d"
            ],
            [
             0.2,
             "#de77ae"
            ],
            [
             0.3,
             "#f1b6da"
            ],
            [
             0.4,
             "#fde0ef"
            ],
            [
             0.5,
             "#f7f7f7"
            ],
            [
             0.6,
             "#e6f5d0"
            ],
            [
             0.7,
             "#b8e186"
            ],
            [
             0.8,
             "#7fbc41"
            ],
            [
             0.9,
             "#4d9221"
            ],
            [
             1,
             "#276419"
            ]
           ],
           "sequential": [
            [
             0,
             "#0d0887"
            ],
            [
             0.1111111111111111,
             "#46039f"
            ],
            [
             0.2222222222222222,
             "#7201a8"
            ],
            [
             0.3333333333333333,
             "#9c179e"
            ],
            [
             0.4444444444444444,
             "#bd3786"
            ],
            [
             0.5555555555555556,
             "#d8576b"
            ],
            [
             0.6666666666666666,
             "#ed7953"
            ],
            [
             0.7777777777777778,
             "#fb9f3a"
            ],
            [
             0.8888888888888888,
             "#fdca26"
            ],
            [
             1,
             "#f0f921"
            ]
           ],
           "sequentialminus": [
            [
             0,
             "#0d0887"
            ],
            [
             0.1111111111111111,
             "#46039f"
            ],
            [
             0.2222222222222222,
             "#7201a8"
            ],
            [
             0.3333333333333333,
             "#9c179e"
            ],
            [
             0.4444444444444444,
             "#bd3786"
            ],
            [
             0.5555555555555556,
             "#d8576b"
            ],
            [
             0.6666666666666666,
             "#ed7953"
            ],
            [
             0.7777777777777778,
             "#fb9f3a"
            ],
            [
             0.8888888888888888,
             "#fdca26"
            ],
            [
             1,
             "#f0f921"
            ]
           ]
          },
          "colorway": [
           "#636efa",
           "#EF553B",
           "#00cc96",
           "#ab63fa",
           "#FFA15A",
           "#19d3f3",
           "#FF6692",
           "#B6E880",
           "#FF97FF",
           "#FECB52"
          ],
          "font": {
           "color": "#2a3f5f"
          },
          "geo": {
           "bgcolor": "white",
           "lakecolor": "white",
           "landcolor": "#E5ECF6",
           "showlakes": true,
           "showland": true,
           "subunitcolor": "white"
          },
          "hoverlabel": {
           "align": "left"
          },
          "hovermode": "closest",
          "mapbox": {
           "style": "light"
          },
          "paper_bgcolor": "white",
          "plot_bgcolor": "#E5ECF6",
          "polar": {
           "angularaxis": {
            "gridcolor": "white",
            "linecolor": "white",
            "ticks": ""
           },
           "bgcolor": "#E5ECF6",
           "radialaxis": {
            "gridcolor": "white",
            "linecolor": "white",
            "ticks": ""
           }
          },
          "scene": {
           "xaxis": {
            "backgroundcolor": "#E5ECF6",
            "gridcolor": "white",
            "gridwidth": 2,
            "linecolor": "white",
            "showbackground": true,
            "ticks": "",
            "zerolinecolor": "white"
           },
           "yaxis": {
            "backgroundcolor": "#E5ECF6",
            "gridcolor": "white",
            "gridwidth": 2,
            "linecolor": "white",
            "showbackground": true,
            "ticks": "",
            "zerolinecolor": "white"
           },
           "zaxis": {
            "backgroundcolor": "#E5ECF6",
            "gridcolor": "white",
            "gridwidth": 2,
            "linecolor": "white",
            "showbackground": true,
            "ticks": "",
            "zerolinecolor": "white"
           }
          },
          "shapedefaults": {
           "line": {
            "color": "#2a3f5f"
           }
          },
          "ternary": {
           "aaxis": {
            "gridcolor": "white",
            "linecolor": "white",
            "ticks": ""
           },
           "baxis": {
            "gridcolor": "white",
            "linecolor": "white",
            "ticks": ""
           },
           "bgcolor": "#E5ECF6",
           "caxis": {
            "gridcolor": "white",
            "linecolor": "white",
            "ticks": ""
           }
          },
          "title": {
           "x": 0.05
          },
          "xaxis": {
           "automargin": true,
           "gridcolor": "white",
           "linecolor": "white",
           "ticks": "",
           "title": {
            "standoff": 15
           },
           "zerolinecolor": "white",
           "zerolinewidth": 2
          },
          "yaxis": {
           "automargin": true,
           "gridcolor": "white",
           "linecolor": "white",
           "ticks": "",
           "title": {
            "standoff": 15
           },
           "zerolinecolor": "white",
           "zerolinewidth": 2
          }
         }
        },
        "title": {
         "font": {
          "color": "#4D5663"
         }
        },
        "xaxis": {
         "gridcolor": "#E1E5ED",
         "showgrid": true,
         "tickfont": {
          "color": "#4D5663"
         },
         "title": {
          "font": {
           "color": "#4D5663"
          },
          "text": ""
         },
         "zerolinecolor": "#E1E5ED"
        },
        "yaxis": {
         "gridcolor": "#E1E5ED",
         "showgrid": true,
         "tickfont": {
          "color": "#4D5663"
         },
         "title": {
          "font": {
           "color": "#4D5663"
          },
          "text": ""
         },
         "zerolinecolor": "#E1E5ED"
        }
       }
      },
      "text/html": [
       "<div>\n",
       "        \n",
       "        \n",
       "            <div id=\"b0cd209f-5e03-4c63-8309-cf94a67404b2\" class=\"plotly-graph-div\" style=\"height:525px; width:100%;\"></div>\n",
       "            <script type=\"text/javascript\">\n",
       "                require([\"plotly\"], function(Plotly) {\n",
       "                    window.PLOTLYENV=window.PLOTLYENV || {};\n",
       "                    window.PLOTLYENV.BASE_URL='https://plot.ly';\n",
       "                    \n",
       "                if (document.getElementById(\"b0cd209f-5e03-4c63-8309-cf94a67404b2\")) {\n",
       "                    Plotly.newPlot(\n",
       "                        'b0cd209f-5e03-4c63-8309-cf94a67404b2',\n",
       "                        [{\"histfunc\": \"count\", \"histnorm\": \"\", \"marker\": {\"color\": \"rgba(255, 153, 51, 1.0)\", \"line\": {\"color\": \"#4D5663\", \"width\": 1.3}}, \"name\": \"A\", \"nbinsx\": 25, \"opacity\": 0.8, \"orientation\": \"v\", \"type\": \"histogram\", \"x\": [-0.6889956521739307, -0.10998876634393508, 0.09699922766269028, -0.8808256190850161, 2.2172396213269425, -0.5181556954513972, 0.044220521243459814, -0.6182983871486031, 0.5035632820391117, -1.9735185015594627, -1.1226476322836956, -0.033709732199987, -0.47506049831864783, 0.4062401342415919, -0.8298431157254298, 0.6484928745668593, -0.8484283621195674, -0.11478932596098841, 0.4156464856047231, -1.2044313934808315, -0.7377218812849837, -0.3530399705530779, -1.2354471686035418, 1.415323768152012, 0.03667147351896974, 1.3757424357499963, -0.6204186792444727, 0.32246037711615533, 0.7176758702542765, -0.08952871392329798, -1.9115942832046897, 0.6464809271333035, 0.25280282897385653, -0.3030241591898929, 0.13348160896768804, 1.7778329413926857, -0.2706982328639064, 0.174223288645667, -0.6443864622112773, 0.05767854227106527, 0.9359769594187413, -0.2108110112579468, 0.7232976098150298, 0.13782196537317143, 0.1965086400798674, -0.35595137558340306, 0.19120368500211257, 1.190555681945383, 0.29840087375121377, 1.709979954740142, -2.448437868821938, 0.23410079150844357, 0.433512903693733, 1.9187512221029763, 0.34796679107170425, 0.28328638799105765, 0.44287235575880485, -0.7266976761259687, 0.3816684048555259, -0.8004660246613597, -0.06094814916289371, -0.48342674827606424, 0.8255274909549741, -0.10068957109932336, -2.172269351419027, -0.7422295876820347, -1.235546393094691, -1.2995927217470409, -0.684511063368568, 0.9958837433328543, -3.1991579221704414, 1.1793687045818502, -0.319124939743108, 0.8491143895203022, -1.1359643999435747, -0.5865615969649363, -0.19172108517410447, -0.30362087781243813, -0.03695050115199503, 0.9785928191618193, 2.0128678073383885, 0.5639780665112403, -1.7990312710673546, -1.114647156508601, 0.2947390593870421, 0.3690855749682276, 0.25285277904826237, 2.1287882496107553, 0.08504298776070535, 0.2704915897148827, -1.039195748914558, 0.5889777880510121, 0.9996470311558219, 0.9065031222001652, -0.7944687044530946, -0.4705706405607836, -0.07239019799691816, 0.017726005413281606, -1.640842578699129, -0.9970442281743205]}],\n",
       "                        {\"barmode\": \"overlay\", \"legend\": {\"bgcolor\": \"#F5F6F9\", \"font\": {\"color\": \"#4D5663\"}}, \"paper_bgcolor\": \"#F5F6F9\", \"plot_bgcolor\": \"#F5F6F9\", \"template\": {\"data\": {\"bar\": [{\"error_x\": {\"color\": \"#2a3f5f\"}, \"error_y\": {\"color\": \"#2a3f5f\"}, \"marker\": {\"line\": {\"color\": \"#E5ECF6\", \"width\": 0.5}}, \"type\": \"bar\"}], \"barpolar\": [{\"marker\": {\"line\": {\"color\": \"#E5ECF6\", \"width\": 0.5}}, \"type\": \"barpolar\"}], \"carpet\": [{\"aaxis\": {\"endlinecolor\": \"#2a3f5f\", \"gridcolor\": \"white\", \"linecolor\": \"white\", \"minorgridcolor\": \"white\", \"startlinecolor\": \"#2a3f5f\"}, \"baxis\": {\"endlinecolor\": \"#2a3f5f\", \"gridcolor\": \"white\", \"linecolor\": \"white\", \"minorgridcolor\": \"white\", \"startlinecolor\": \"#2a3f5f\"}, \"type\": \"carpet\"}], \"choropleth\": [{\"colorbar\": {\"outlinewidth\": 0, \"ticks\": \"\"}, \"type\": \"choropleth\"}], \"contour\": [{\"colorbar\": {\"outlinewidth\": 0, \"ticks\": \"\"}, \"colorscale\": [[0.0, \"#0d0887\"], [0.1111111111111111, \"#46039f\"], [0.2222222222222222, \"#7201a8\"], [0.3333333333333333, \"#9c179e\"], [0.4444444444444444, \"#bd3786\"], [0.5555555555555556, \"#d8576b\"], [0.6666666666666666, \"#ed7953\"], [0.7777777777777778, \"#fb9f3a\"], [0.8888888888888888, \"#fdca26\"], [1.0, \"#f0f921\"]], \"type\": \"contour\"}], \"contourcarpet\": [{\"colorbar\": {\"outlinewidth\": 0, \"ticks\": \"\"}, \"type\": \"contourcarpet\"}], \"heatmap\": [{\"colorbar\": {\"outlinewidth\": 0, \"ticks\": \"\"}, \"colorscale\": [[0.0, \"#0d0887\"], [0.1111111111111111, \"#46039f\"], [0.2222222222222222, \"#7201a8\"], [0.3333333333333333, \"#9c179e\"], [0.4444444444444444, \"#bd3786\"], [0.5555555555555556, \"#d8576b\"], [0.6666666666666666, \"#ed7953\"], [0.7777777777777778, \"#fb9f3a\"], [0.8888888888888888, \"#fdca26\"], [1.0, \"#f0f921\"]], \"type\": \"heatmap\"}], \"heatmapgl\": [{\"colorbar\": {\"outlinewidth\": 0, \"ticks\": \"\"}, \"colorscale\": [[0.0, \"#0d0887\"], [0.1111111111111111, \"#46039f\"], [0.2222222222222222, \"#7201a8\"], [0.3333333333333333, \"#9c179e\"], [0.4444444444444444, \"#bd3786\"], [0.5555555555555556, \"#d8576b\"], [0.6666666666666666, \"#ed7953\"], [0.7777777777777778, \"#fb9f3a\"], [0.8888888888888888, \"#fdca26\"], [1.0, \"#f0f921\"]], \"type\": \"heatmapgl\"}], \"histogram\": [{\"marker\": {\"colorbar\": {\"outlinewidth\": 0, \"ticks\": \"\"}}, \"type\": \"histogram\"}], \"histogram2d\": [{\"colorbar\": {\"outlinewidth\": 0, \"ticks\": \"\"}, \"colorscale\": [[0.0, \"#0d0887\"], [0.1111111111111111, \"#46039f\"], [0.2222222222222222, \"#7201a8\"], [0.3333333333333333, \"#9c179e\"], [0.4444444444444444, \"#bd3786\"], [0.5555555555555556, \"#d8576b\"], [0.6666666666666666, \"#ed7953\"], [0.7777777777777778, \"#fb9f3a\"], [0.8888888888888888, \"#fdca26\"], [1.0, \"#f0f921\"]], \"type\": \"histogram2d\"}], \"histogram2dcontour\": [{\"colorbar\": {\"outlinewidth\": 0, \"ticks\": \"\"}, \"colorscale\": [[0.0, \"#0d0887\"], [0.1111111111111111, \"#46039f\"], [0.2222222222222222, \"#7201a8\"], [0.3333333333333333, \"#9c179e\"], [0.4444444444444444, \"#bd3786\"], [0.5555555555555556, \"#d8576b\"], [0.6666666666666666, \"#ed7953\"], [0.7777777777777778, \"#fb9f3a\"], [0.8888888888888888, \"#fdca26\"], [1.0, \"#f0f921\"]], \"type\": \"histogram2dcontour\"}], \"mesh3d\": [{\"colorbar\": {\"outlinewidth\": 0, \"ticks\": \"\"}, \"type\": \"mesh3d\"}], \"parcoords\": [{\"line\": {\"colorbar\": {\"outlinewidth\": 0, \"ticks\": \"\"}}, \"type\": \"parcoords\"}], \"pie\": [{\"automargin\": true, \"type\": \"pie\"}], \"scatter\": [{\"marker\": {\"colorbar\": {\"outlinewidth\": 0, \"ticks\": \"\"}}, \"type\": \"scatter\"}], \"scatter3d\": [{\"line\": {\"colorbar\": {\"outlinewidth\": 0, \"ticks\": \"\"}}, \"marker\": {\"colorbar\": {\"outlinewidth\": 0, \"ticks\": \"\"}}, \"type\": \"scatter3d\"}], \"scattercarpet\": [{\"marker\": {\"colorbar\": {\"outlinewidth\": 0, \"ticks\": \"\"}}, \"type\": \"scattercarpet\"}], \"scattergeo\": [{\"marker\": {\"colorbar\": {\"outlinewidth\": 0, \"ticks\": \"\"}}, \"type\": \"scattergeo\"}], \"scattergl\": [{\"marker\": {\"colorbar\": {\"outlinewidth\": 0, \"ticks\": \"\"}}, \"type\": \"scattergl\"}], \"scattermapbox\": [{\"marker\": {\"colorbar\": {\"outlinewidth\": 0, \"ticks\": \"\"}}, \"type\": \"scattermapbox\"}], \"scatterpolar\": [{\"marker\": {\"colorbar\": {\"outlinewidth\": 0, \"ticks\": \"\"}}, \"type\": \"scatterpolar\"}], \"scatterpolargl\": [{\"marker\": {\"colorbar\": {\"outlinewidth\": 0, \"ticks\": \"\"}}, \"type\": \"scatterpolargl\"}], \"scatterternary\": [{\"marker\": {\"colorbar\": {\"outlinewidth\": 0, \"ticks\": \"\"}}, \"type\": \"scatterternary\"}], \"surface\": [{\"colorbar\": {\"outlinewidth\": 0, \"ticks\": \"\"}, \"colorscale\": [[0.0, \"#0d0887\"], [0.1111111111111111, \"#46039f\"], [0.2222222222222222, \"#7201a8\"], [0.3333333333333333, \"#9c179e\"], [0.4444444444444444, \"#bd3786\"], [0.5555555555555556, \"#d8576b\"], [0.6666666666666666, \"#ed7953\"], [0.7777777777777778, \"#fb9f3a\"], [0.8888888888888888, \"#fdca26\"], [1.0, \"#f0f921\"]], \"type\": \"surface\"}], \"table\": [{\"cells\": {\"fill\": {\"color\": \"#EBF0F8\"}, \"line\": {\"color\": \"white\"}}, \"header\": {\"fill\": {\"color\": \"#C8D4E3\"}, \"line\": {\"color\": \"white\"}}, \"type\": \"table\"}]}, \"layout\": {\"annotationdefaults\": {\"arrowcolor\": \"#2a3f5f\", \"arrowhead\": 0, \"arrowwidth\": 1}, \"coloraxis\": {\"colorbar\": {\"outlinewidth\": 0, \"ticks\": \"\"}}, \"colorscale\": {\"diverging\": [[0, \"#8e0152\"], [0.1, \"#c51b7d\"], [0.2, \"#de77ae\"], [0.3, \"#f1b6da\"], [0.4, \"#fde0ef\"], [0.5, \"#f7f7f7\"], [0.6, \"#e6f5d0\"], [0.7, \"#b8e186\"], [0.8, \"#7fbc41\"], [0.9, \"#4d9221\"], [1, \"#276419\"]], \"sequential\": [[0.0, \"#0d0887\"], [0.1111111111111111, \"#46039f\"], [0.2222222222222222, \"#7201a8\"], [0.3333333333333333, \"#9c179e\"], [0.4444444444444444, \"#bd3786\"], [0.5555555555555556, \"#d8576b\"], [0.6666666666666666, \"#ed7953\"], [0.7777777777777778, \"#fb9f3a\"], [0.8888888888888888, \"#fdca26\"], [1.0, \"#f0f921\"]], \"sequentialminus\": [[0.0, \"#0d0887\"], [0.1111111111111111, \"#46039f\"], [0.2222222222222222, \"#7201a8\"], [0.3333333333333333, \"#9c179e\"], [0.4444444444444444, \"#bd3786\"], [0.5555555555555556, \"#d8576b\"], [0.6666666666666666, \"#ed7953\"], [0.7777777777777778, \"#fb9f3a\"], [0.8888888888888888, \"#fdca26\"], [1.0, \"#f0f921\"]]}, \"colorway\": [\"#636efa\", \"#EF553B\", \"#00cc96\", \"#ab63fa\", \"#FFA15A\", \"#19d3f3\", \"#FF6692\", \"#B6E880\", \"#FF97FF\", \"#FECB52\"], \"font\": {\"color\": \"#2a3f5f\"}, \"geo\": {\"bgcolor\": \"white\", \"lakecolor\": \"white\", \"landcolor\": \"#E5ECF6\", \"showlakes\": true, \"showland\": true, \"subunitcolor\": \"white\"}, \"hoverlabel\": {\"align\": \"left\"}, \"hovermode\": \"closest\", \"mapbox\": {\"style\": \"light\"}, \"paper_bgcolor\": \"white\", \"plot_bgcolor\": \"#E5ECF6\", \"polar\": {\"angularaxis\": {\"gridcolor\": \"white\", \"linecolor\": \"white\", \"ticks\": \"\"}, \"bgcolor\": \"#E5ECF6\", \"radialaxis\": {\"gridcolor\": \"white\", \"linecolor\": \"white\", \"ticks\": \"\"}}, \"scene\": {\"xaxis\": {\"backgroundcolor\": \"#E5ECF6\", \"gridcolor\": \"white\", \"gridwidth\": 2, \"linecolor\": \"white\", \"showbackground\": true, \"ticks\": \"\", \"zerolinecolor\": \"white\"}, \"yaxis\": {\"backgroundcolor\": \"#E5ECF6\", \"gridcolor\": \"white\", \"gridwidth\": 2, \"linecolor\": \"white\", \"showbackground\": true, \"ticks\": \"\", \"zerolinecolor\": \"white\"}, \"zaxis\": {\"backgroundcolor\": \"#E5ECF6\", \"gridcolor\": \"white\", \"gridwidth\": 2, \"linecolor\": \"white\", \"showbackground\": true, \"ticks\": \"\", \"zerolinecolor\": \"white\"}}, \"shapedefaults\": {\"line\": {\"color\": \"#2a3f5f\"}}, \"ternary\": {\"aaxis\": {\"gridcolor\": \"white\", \"linecolor\": \"white\", \"ticks\": \"\"}, \"baxis\": {\"gridcolor\": \"white\", \"linecolor\": \"white\", \"ticks\": \"\"}, \"bgcolor\": \"#E5ECF6\", \"caxis\": {\"gridcolor\": \"white\", \"linecolor\": \"white\", \"ticks\": \"\"}}, \"title\": {\"x\": 0.05}, \"xaxis\": {\"automargin\": true, \"gridcolor\": \"white\", \"linecolor\": \"white\", \"ticks\": \"\", \"title\": {\"standoff\": 15}, \"zerolinecolor\": \"white\", \"zerolinewidth\": 2}, \"yaxis\": {\"automargin\": true, \"gridcolor\": \"white\", \"linecolor\": \"white\", \"ticks\": \"\", \"title\": {\"standoff\": 15}, \"zerolinecolor\": \"white\", \"zerolinewidth\": 2}}}, \"title\": {\"font\": {\"color\": \"#4D5663\"}}, \"xaxis\": {\"gridcolor\": \"#E1E5ED\", \"showgrid\": true, \"tickfont\": {\"color\": \"#4D5663\"}, \"title\": {\"font\": {\"color\": \"#4D5663\"}, \"text\": \"\"}, \"zerolinecolor\": \"#E1E5ED\"}, \"yaxis\": {\"gridcolor\": \"#E1E5ED\", \"showgrid\": true, \"tickfont\": {\"color\": \"#4D5663\"}, \"title\": {\"font\": {\"color\": \"#4D5663\"}, \"text\": \"\"}, \"zerolinecolor\": \"#E1E5ED\"}},\n",
       "                        {\"showLink\": true, \"linkText\": \"Export to plot.ly\", \"plotlyServerURL\": \"https://plot.ly\", \"responsive\": true}\n",
       "                    ).then(function(){\n",
       "                            \n",
       "var gd = document.getElementById('b0cd209f-5e03-4c63-8309-cf94a67404b2');\n",
       "var x = new MutationObserver(function (mutations, observer) {{\n",
       "        var display = window.getComputedStyle(gd).display;\n",
       "        if (!display || display === 'none') {{\n",
       "            console.log([gd, 'removed!']);\n",
       "            Plotly.purge(gd);\n",
       "            observer.disconnect();\n",
       "        }}\n",
       "}});\n",
       "\n",
       "// Listen for the removal of the full notebook cells\n",
       "var notebookContainer = gd.closest('#notebook-container');\n",
       "if (notebookContainer) {{\n",
       "    x.observe(notebookContainer, {childList: true});\n",
       "}}\n",
       "\n",
       "// Listen for the clearing of the current output cell\n",
       "var outputEl = gd.closest('.output');\n",
       "if (outputEl) {{\n",
       "    x.observe(outputEl, {childList: true});\n",
       "}}\n",
       "\n",
       "                        })\n",
       "                };\n",
       "                });\n",
       "            </script>\n",
       "        </div>"
      ]
     },
     "metadata": {},
     "output_type": "display_data"
    }
   ],
   "source": [
    "df['A'].iplot(kind='hist',bins=25)"
   ]
  },
  {
   "cell_type": "code",
   "execution_count": 18,
   "metadata": {},
   "outputs": [
    {
     "data": {
      "application/vnd.plotly.v1+json": {
       "config": {
        "linkText": "Export to plot.ly",
        "plotlyServerURL": "https://plot.ly",
        "showLink": true
       },
       "data": [
        {
         "marker": {
          "color": [
           "rgb(255, 153, 51)",
           "rgb(55, 128, 191)",
           "rgb(50, 171, 96)",
           "rgb(128, 0, 128)",
           "rgb(219, 64, 82)",
           "rgb(0, 128, 128)",
           "rgb(255, 255, 51)",
           "rgb(128, 128, 0)",
           "rgb(251, 128, 114)",
           "rgb(128, 177, 211)"
          ],
          "line": {
           "width": 1.3
          },
          "size": [
           100,
           75,
           60,
           74,
           63,
           75,
           60,
           81,
           19,
           110,
           78,
           16,
           62,
           61,
           81,
           28,
           62,
           75,
           87,
           46,
           64,
           99,
           78,
           60,
           39,
           53,
           29,
           49,
           20,
           64,
           61,
           44,
           35,
           41,
           25,
           81,
           56,
           12,
           61,
           34,
           68,
           58,
           112,
           42,
           49,
           59,
           92,
           85,
           48,
           33,
           74,
           51,
           31,
           34,
           100,
           61,
           102,
           15,
           107,
           63,
           60,
           56,
           56,
           87,
           76,
           69,
           34,
           100,
           23,
           80,
           53,
           60,
           34,
           99,
           56,
           14,
           70,
           40,
           37,
           94,
           86,
           37,
           72,
           90,
           85,
           80,
           41,
           47,
           87,
           57,
           55,
           48,
           61,
           65,
           91,
           81,
           50,
           61,
           26,
           76
          ],
          "symbol": "circle"
         },
         "mode": "markers",
         "text": "",
         "type": "scatter",
         "x": [
          -0.6889956521739307,
          -0.10998876634393508,
          0.09699922766269028,
          -0.8808256190850161,
          2.2172396213269425,
          -0.5181556954513972,
          0.044220521243459814,
          -0.6182983871486031,
          0.5035632820391117,
          -1.9735185015594627,
          -1.1226476322836956,
          -0.033709732199987,
          -0.47506049831864783,
          0.4062401342415919,
          -0.8298431157254298,
          0.6484928745668593,
          -0.8484283621195674,
          -0.11478932596098841,
          0.4156464856047231,
          -1.2044313934808315,
          -0.7377218812849837,
          -0.3530399705530779,
          -1.2354471686035418,
          1.415323768152012,
          0.03667147351896974,
          1.3757424357499963,
          -0.6204186792444727,
          0.32246037711615533,
          0.7176758702542765,
          -0.08952871392329798,
          -1.9115942832046897,
          0.6464809271333035,
          0.25280282897385653,
          -0.3030241591898929,
          0.13348160896768804,
          1.7778329413926857,
          -0.2706982328639064,
          0.174223288645667,
          -0.6443864622112773,
          0.05767854227106527,
          0.9359769594187413,
          -0.2108110112579468,
          0.7232976098150298,
          0.13782196537317143,
          0.1965086400798674,
          -0.35595137558340306,
          0.19120368500211257,
          1.190555681945383,
          0.29840087375121377,
          1.709979954740142,
          -2.448437868821938,
          0.23410079150844357,
          0.433512903693733,
          1.9187512221029763,
          0.34796679107170425,
          0.28328638799105765,
          0.44287235575880485,
          -0.7266976761259687,
          0.3816684048555259,
          -0.8004660246613597,
          -0.06094814916289371,
          -0.48342674827606424,
          0.8255274909549741,
          -0.10068957109932336,
          -2.172269351419027,
          -0.7422295876820347,
          -1.235546393094691,
          -1.2995927217470409,
          -0.684511063368568,
          0.9958837433328543,
          -3.1991579221704414,
          1.1793687045818502,
          -0.319124939743108,
          0.8491143895203022,
          -1.1359643999435747,
          -0.5865615969649363,
          -0.19172108517410447,
          -0.30362087781243813,
          -0.03695050115199503,
          0.9785928191618193,
          2.0128678073383885,
          0.5639780665112403,
          -1.7990312710673546,
          -1.114647156508601,
          0.2947390593870421,
          0.3690855749682276,
          0.25285277904826237,
          2.1287882496107553,
          0.08504298776070535,
          0.2704915897148827,
          -1.039195748914558,
          0.5889777880510121,
          0.9996470311558219,
          0.9065031222001652,
          -0.7944687044530946,
          -0.4705706405607836,
          -0.07239019799691816,
          0.017726005413281606,
          -1.640842578699129,
          -0.9970442281743205
         ],
         "y": [
          -1.2073839278312855,
          -0.8914152871341857,
          0.9122000538112298,
          0.6498066921507818,
          -0.00899612165220606,
          -0.5004526156800174,
          0.34729418384591637,
          0.15897743642567497,
          -0.21839432228170258,
          -0.49991139525442396,
          0.9610693389406737,
          0.5618914806405604,
          1.201558960930769,
          -0.2273238288028599,
          1.1138543091175164,
          -1.0868005540326964,
          -1.1715605560090836,
          0.9003730719574612,
          0.03682778941603213,
          -0.15459482647855446,
          0.7221015269889887,
          0.38583033388373106,
          0.6543951885091118,
          0.040095597861937025,
          0.17972487983609023,
          0.28158447514524965,
          1.8330586456748375,
          -1.4855936550488982,
          -0.1883376767633526,
          1.0024422321628312,
          -0.9234550503192078,
          -0.11575204468620277,
          -0.6234014385670065,
          0.9415011286362762,
          -1.0517190719433238,
          2.0515592254487953,
          -0.2580451508330001,
          -0.5150870104052806,
          0.09088235032580956,
          2.231352209037297,
          -0.15859836080583842,
          -0.9808380119046511,
          0.06323059919233626,
          -0.21106543250299467,
          -0.6576314663591996,
          0.09798213161331863,
          -0.24017783056310635,
          0.46385088321858264,
          0.256202641291782,
          1.5882261135642595,
          -0.49785387726708114,
          -2.996055335076067,
          1.0979391220131691,
          0.3627975014686308,
          -0.10786076072121988,
          0.0641227457433506,
          -0.5508234727964582,
          -0.4893642929797324,
          -0.01295655628743466,
          0.6364408498489723,
          -1.3445070194151048,
          -1.2060950265348032,
          -1.302017996699132,
          0.30575364739168376,
          1.1344522718513066,
          -0.40899495791668117,
          -0.1879338341978866,
          0.7701867136427122,
          -0.3142097601883405,
          0.3768390832801088,
          2.2322106533883845,
          -0.6105290427360885,
          0.12788746771461784,
          0.6964055162543205,
          1.188468028747178,
          -0.1983515900990588,
          -1.8987123602775557,
          -0.4467780747490587,
          -1.401342976649239,
          1.9570162473353976,
          -2.181136421012167,
          -1.1794166803130908,
          0.19599267454193595,
          0.7740325867092016,
          -1.0193643289430883,
          -0.023458044632571996,
          -1.7150708376874946,
          0.397417382762338,
          -0.7029977592823403,
          0.6311539886525172,
          -0.4145841586488041,
          -2.4197468703272453,
          -0.46942188535039864,
          0.5744298855541616,
          -0.29328939444327295,
          2.377437799872268,
          -1.7487701098601915,
          -0.7913451308489126,
          0.46738856275175306,
          -0.7480590074762296
         ]
        }
       ],
       "layout": {
        "legend": {
         "bgcolor": "#F5F6F9",
         "font": {
          "color": "#4D5663"
         }
        },
        "paper_bgcolor": "#F5F6F9",
        "plot_bgcolor": "#F5F6F9",
        "template": {
         "data": {
          "bar": [
           {
            "error_x": {
             "color": "#2a3f5f"
            },
            "error_y": {
             "color": "#2a3f5f"
            },
            "marker": {
             "line": {
              "color": "#E5ECF6",
              "width": 0.5
             }
            },
            "type": "bar"
           }
          ],
          "barpolar": [
           {
            "marker": {
             "line": {
              "color": "#E5ECF6",
              "width": 0.5
             }
            },
            "type": "barpolar"
           }
          ],
          "carpet": [
           {
            "aaxis": {
             "endlinecolor": "#2a3f5f",
             "gridcolor": "white",
             "linecolor": "white",
             "minorgridcolor": "white",
             "startlinecolor": "#2a3f5f"
            },
            "baxis": {
             "endlinecolor": "#2a3f5f",
             "gridcolor": "white",
             "linecolor": "white",
             "minorgridcolor": "white",
             "startlinecolor": "#2a3f5f"
            },
            "type": "carpet"
           }
          ],
          "choropleth": [
           {
            "colorbar": {
             "outlinewidth": 0,
             "ticks": ""
            },
            "type": "choropleth"
           }
          ],
          "contour": [
           {
            "colorbar": {
             "outlinewidth": 0,
             "ticks": ""
            },
            "colorscale": [
             [
              0,
              "#0d0887"
             ],
             [
              0.1111111111111111,
              "#46039f"
             ],
             [
              0.2222222222222222,
              "#7201a8"
             ],
             [
              0.3333333333333333,
              "#9c179e"
             ],
             [
              0.4444444444444444,
              "#bd3786"
             ],
             [
              0.5555555555555556,
              "#d8576b"
             ],
             [
              0.6666666666666666,
              "#ed7953"
             ],
             [
              0.7777777777777778,
              "#fb9f3a"
             ],
             [
              0.8888888888888888,
              "#fdca26"
             ],
             [
              1,
              "#f0f921"
             ]
            ],
            "type": "contour"
           }
          ],
          "contourcarpet": [
           {
            "colorbar": {
             "outlinewidth": 0,
             "ticks": ""
            },
            "type": "contourcarpet"
           }
          ],
          "heatmap": [
           {
            "colorbar": {
             "outlinewidth": 0,
             "ticks": ""
            },
            "colorscale": [
             [
              0,
              "#0d0887"
             ],
             [
              0.1111111111111111,
              "#46039f"
             ],
             [
              0.2222222222222222,
              "#7201a8"
             ],
             [
              0.3333333333333333,
              "#9c179e"
             ],
             [
              0.4444444444444444,
              "#bd3786"
             ],
             [
              0.5555555555555556,
              "#d8576b"
             ],
             [
              0.6666666666666666,
              "#ed7953"
             ],
             [
              0.7777777777777778,
              "#fb9f3a"
             ],
             [
              0.8888888888888888,
              "#fdca26"
             ],
             [
              1,
              "#f0f921"
             ]
            ],
            "type": "heatmap"
           }
          ],
          "heatmapgl": [
           {
            "colorbar": {
             "outlinewidth": 0,
             "ticks": ""
            },
            "colorscale": [
             [
              0,
              "#0d0887"
             ],
             [
              0.1111111111111111,
              "#46039f"
             ],
             [
              0.2222222222222222,
              "#7201a8"
             ],
             [
              0.3333333333333333,
              "#9c179e"
             ],
             [
              0.4444444444444444,
              "#bd3786"
             ],
             [
              0.5555555555555556,
              "#d8576b"
             ],
             [
              0.6666666666666666,
              "#ed7953"
             ],
             [
              0.7777777777777778,
              "#fb9f3a"
             ],
             [
              0.8888888888888888,
              "#fdca26"
             ],
             [
              1,
              "#f0f921"
             ]
            ],
            "type": "heatmapgl"
           }
          ],
          "histogram": [
           {
            "marker": {
             "colorbar": {
              "outlinewidth": 0,
              "ticks": ""
             }
            },
            "type": "histogram"
           }
          ],
          "histogram2d": [
           {
            "colorbar": {
             "outlinewidth": 0,
             "ticks": ""
            },
            "colorscale": [
             [
              0,
              "#0d0887"
             ],
             [
              0.1111111111111111,
              "#46039f"
             ],
             [
              0.2222222222222222,
              "#7201a8"
             ],
             [
              0.3333333333333333,
              "#9c179e"
             ],
             [
              0.4444444444444444,
              "#bd3786"
             ],
             [
              0.5555555555555556,
              "#d8576b"
             ],
             [
              0.6666666666666666,
              "#ed7953"
             ],
             [
              0.7777777777777778,
              "#fb9f3a"
             ],
             [
              0.8888888888888888,
              "#fdca26"
             ],
             [
              1,
              "#f0f921"
             ]
            ],
            "type": "histogram2d"
           }
          ],
          "histogram2dcontour": [
           {
            "colorbar": {
             "outlinewidth": 0,
             "ticks": ""
            },
            "colorscale": [
             [
              0,
              "#0d0887"
             ],
             [
              0.1111111111111111,
              "#46039f"
             ],
             [
              0.2222222222222222,
              "#7201a8"
             ],
             [
              0.3333333333333333,
              "#9c179e"
             ],
             [
              0.4444444444444444,
              "#bd3786"
             ],
             [
              0.5555555555555556,
              "#d8576b"
             ],
             [
              0.6666666666666666,
              "#ed7953"
             ],
             [
              0.7777777777777778,
              "#fb9f3a"
             ],
             [
              0.8888888888888888,
              "#fdca26"
             ],
             [
              1,
              "#f0f921"
             ]
            ],
            "type": "histogram2dcontour"
           }
          ],
          "mesh3d": [
           {
            "colorbar": {
             "outlinewidth": 0,
             "ticks": ""
            },
            "type": "mesh3d"
           }
          ],
          "parcoords": [
           {
            "line": {
             "colorbar": {
              "outlinewidth": 0,
              "ticks": ""
             }
            },
            "type": "parcoords"
           }
          ],
          "pie": [
           {
            "automargin": true,
            "type": "pie"
           }
          ],
          "scatter": [
           {
            "marker": {
             "colorbar": {
              "outlinewidth": 0,
              "ticks": ""
             }
            },
            "type": "scatter"
           }
          ],
          "scatter3d": [
           {
            "line": {
             "colorbar": {
              "outlinewidth": 0,
              "ticks": ""
             }
            },
            "marker": {
             "colorbar": {
              "outlinewidth": 0,
              "ticks": ""
             }
            },
            "type": "scatter3d"
           }
          ],
          "scattercarpet": [
           {
            "marker": {
             "colorbar": {
              "outlinewidth": 0,
              "ticks": ""
             }
            },
            "type": "scattercarpet"
           }
          ],
          "scattergeo": [
           {
            "marker": {
             "colorbar": {
              "outlinewidth": 0,
              "ticks": ""
             }
            },
            "type": "scattergeo"
           }
          ],
          "scattergl": [
           {
            "marker": {
             "colorbar": {
              "outlinewidth": 0,
              "ticks": ""
             }
            },
            "type": "scattergl"
           }
          ],
          "scattermapbox": [
           {
            "marker": {
             "colorbar": {
              "outlinewidth": 0,
              "ticks": ""
             }
            },
            "type": "scattermapbox"
           }
          ],
          "scatterpolar": [
           {
            "marker": {
             "colorbar": {
              "outlinewidth": 0,
              "ticks": ""
             }
            },
            "type": "scatterpolar"
           }
          ],
          "scatterpolargl": [
           {
            "marker": {
             "colorbar": {
              "outlinewidth": 0,
              "ticks": ""
             }
            },
            "type": "scatterpolargl"
           }
          ],
          "scatterternary": [
           {
            "marker": {
             "colorbar": {
              "outlinewidth": 0,
              "ticks": ""
             }
            },
            "type": "scatterternary"
           }
          ],
          "surface": [
           {
            "colorbar": {
             "outlinewidth": 0,
             "ticks": ""
            },
            "colorscale": [
             [
              0,
              "#0d0887"
             ],
             [
              0.1111111111111111,
              "#46039f"
             ],
             [
              0.2222222222222222,
              "#7201a8"
             ],
             [
              0.3333333333333333,
              "#9c179e"
             ],
             [
              0.4444444444444444,
              "#bd3786"
             ],
             [
              0.5555555555555556,
              "#d8576b"
             ],
             [
              0.6666666666666666,
              "#ed7953"
             ],
             [
              0.7777777777777778,
              "#fb9f3a"
             ],
             [
              0.8888888888888888,
              "#fdca26"
             ],
             [
              1,
              "#f0f921"
             ]
            ],
            "type": "surface"
           }
          ],
          "table": [
           {
            "cells": {
             "fill": {
              "color": "#EBF0F8"
             },
             "line": {
              "color": "white"
             }
            },
            "header": {
             "fill": {
              "color": "#C8D4E3"
             },
             "line": {
              "color": "white"
             }
            },
            "type": "table"
           }
          ]
         },
         "layout": {
          "annotationdefaults": {
           "arrowcolor": "#2a3f5f",
           "arrowhead": 0,
           "arrowwidth": 1
          },
          "coloraxis": {
           "colorbar": {
            "outlinewidth": 0,
            "ticks": ""
           }
          },
          "colorscale": {
           "diverging": [
            [
             0,
             "#8e0152"
            ],
            [
             0.1,
             "#c51b7d"
            ],
            [
             0.2,
             "#de77ae"
            ],
            [
             0.3,
             "#f1b6da"
            ],
            [
             0.4,
             "#fde0ef"
            ],
            [
             0.5,
             "#f7f7f7"
            ],
            [
             0.6,
             "#e6f5d0"
            ],
            [
             0.7,
             "#b8e186"
            ],
            [
             0.8,
             "#7fbc41"
            ],
            [
             0.9,
             "#4d9221"
            ],
            [
             1,
             "#276419"
            ]
           ],
           "sequential": [
            [
             0,
             "#0d0887"
            ],
            [
             0.1111111111111111,
             "#46039f"
            ],
            [
             0.2222222222222222,
             "#7201a8"
            ],
            [
             0.3333333333333333,
             "#9c179e"
            ],
            [
             0.4444444444444444,
             "#bd3786"
            ],
            [
             0.5555555555555556,
             "#d8576b"
            ],
            [
             0.6666666666666666,
             "#ed7953"
            ],
            [
             0.7777777777777778,
             "#fb9f3a"
            ],
            [
             0.8888888888888888,
             "#fdca26"
            ],
            [
             1,
             "#f0f921"
            ]
           ],
           "sequentialminus": [
            [
             0,
             "#0d0887"
            ],
            [
             0.1111111111111111,
             "#46039f"
            ],
            [
             0.2222222222222222,
             "#7201a8"
            ],
            [
             0.3333333333333333,
             "#9c179e"
            ],
            [
             0.4444444444444444,
             "#bd3786"
            ],
            [
             0.5555555555555556,
             "#d8576b"
            ],
            [
             0.6666666666666666,
             "#ed7953"
            ],
            [
             0.7777777777777778,
             "#fb9f3a"
            ],
            [
             0.8888888888888888,
             "#fdca26"
            ],
            [
             1,
             "#f0f921"
            ]
           ]
          },
          "colorway": [
           "#636efa",
           "#EF553B",
           "#00cc96",
           "#ab63fa",
           "#FFA15A",
           "#19d3f3",
           "#FF6692",
           "#B6E880",
           "#FF97FF",
           "#FECB52"
          ],
          "font": {
           "color": "#2a3f5f"
          },
          "geo": {
           "bgcolor": "white",
           "lakecolor": "white",
           "landcolor": "#E5ECF6",
           "showlakes": true,
           "showland": true,
           "subunitcolor": "white"
          },
          "hoverlabel": {
           "align": "left"
          },
          "hovermode": "closest",
          "mapbox": {
           "style": "light"
          },
          "paper_bgcolor": "white",
          "plot_bgcolor": "#E5ECF6",
          "polar": {
           "angularaxis": {
            "gridcolor": "white",
            "linecolor": "white",
            "ticks": ""
           },
           "bgcolor": "#E5ECF6",
           "radialaxis": {
            "gridcolor": "white",
            "linecolor": "white",
            "ticks": ""
           }
          },
          "scene": {
           "xaxis": {
            "backgroundcolor": "#E5ECF6",
            "gridcolor": "white",
            "gridwidth": 2,
            "linecolor": "white",
            "showbackground": true,
            "ticks": "",
            "zerolinecolor": "white"
           },
           "yaxis": {
            "backgroundcolor": "#E5ECF6",
            "gridcolor": "white",
            "gridwidth": 2,
            "linecolor": "white",
            "showbackground": true,
            "ticks": "",
            "zerolinecolor": "white"
           },
           "zaxis": {
            "backgroundcolor": "#E5ECF6",
            "gridcolor": "white",
            "gridwidth": 2,
            "linecolor": "white",
            "showbackground": true,
            "ticks": "",
            "zerolinecolor": "white"
           }
          },
          "shapedefaults": {
           "line": {
            "color": "#2a3f5f"
           }
          },
          "ternary": {
           "aaxis": {
            "gridcolor": "white",
            "linecolor": "white",
            "ticks": ""
           },
           "baxis": {
            "gridcolor": "white",
            "linecolor": "white",
            "ticks": ""
           },
           "bgcolor": "#E5ECF6",
           "caxis": {
            "gridcolor": "white",
            "linecolor": "white",
            "ticks": ""
           }
          },
          "title": {
           "x": 0.05
          },
          "xaxis": {
           "automargin": true,
           "gridcolor": "white",
           "linecolor": "white",
           "ticks": "",
           "title": {
            "standoff": 15
           },
           "zerolinecolor": "white",
           "zerolinewidth": 2
          },
          "yaxis": {
           "automargin": true,
           "gridcolor": "white",
           "linecolor": "white",
           "ticks": "",
           "title": {
            "standoff": 15
           },
           "zerolinecolor": "white",
           "zerolinewidth": 2
          }
         }
        },
        "title": {
         "font": {
          "color": "#4D5663"
         }
        },
        "xaxis": {
         "gridcolor": "#E1E5ED",
         "showgrid": true,
         "tickfont": {
          "color": "#4D5663"
         },
         "title": {
          "font": {
           "color": "#4D5663"
          },
          "text": ""
         },
         "zerolinecolor": "#E1E5ED"
        },
        "yaxis": {
         "gridcolor": "#E1E5ED",
         "showgrid": true,
         "tickfont": {
          "color": "#4D5663"
         },
         "title": {
          "font": {
           "color": "#4D5663"
          },
          "text": ""
         },
         "zerolinecolor": "#E1E5ED"
        }
       }
      },
      "text/html": [
       "<div>\n",
       "        \n",
       "        \n",
       "            <div id=\"df241d1a-11f9-490a-b65a-4e8b857d3dad\" class=\"plotly-graph-div\" style=\"height:525px; width:100%;\"></div>\n",
       "            <script type=\"text/javascript\">\n",
       "                require([\"plotly\"], function(Plotly) {\n",
       "                    window.PLOTLYENV=window.PLOTLYENV || {};\n",
       "                    window.PLOTLYENV.BASE_URL='https://plot.ly';\n",
       "                    \n",
       "                if (document.getElementById(\"df241d1a-11f9-490a-b65a-4e8b857d3dad\")) {\n",
       "                    Plotly.newPlot(\n",
       "                        'df241d1a-11f9-490a-b65a-4e8b857d3dad',\n",
       "                        [{\"marker\": {\"color\": [\"rgb(255, 153, 51)\", \"rgb(55, 128, 191)\", \"rgb(50, 171, 96)\", \"rgb(128, 0, 128)\", \"rgb(219, 64, 82)\", \"rgb(0, 128, 128)\", \"rgb(255, 255, 51)\", \"rgb(128, 128, 0)\", \"rgb(251, 128, 114)\", \"rgb(128, 177, 211)\"], \"line\": {\"width\": 1.3}, \"size\": [100, 75, 60, 74, 63, 75, 60, 81, 19, 110, 78, 16, 62, 61, 81, 28, 62, 75, 87, 46, 64, 99, 78, 60, 39, 53, 29, 49, 20, 64, 61, 44, 35, 41, 25, 81, 56, 12, 61, 34, 68, 58, 112, 42, 49, 59, 92, 85, 48, 33, 74, 51, 31, 34, 100, 61, 102, 15, 107, 63, 60, 56, 56, 87, 76, 69, 34, 100, 23, 80, 53, 60, 34, 99, 56, 14, 70, 40, 37, 94, 86, 37, 72, 90, 85, 80, 41, 47, 87, 57, 55, 48, 61, 65, 91, 81, 50, 61, 26, 76], \"symbol\": \"circle\"}, \"mode\": \"markers\", \"text\": \"\", \"type\": \"scatter\", \"x\": [-0.6889956521739307, -0.10998876634393508, 0.09699922766269028, -0.8808256190850161, 2.2172396213269425, -0.5181556954513972, 0.044220521243459814, -0.6182983871486031, 0.5035632820391117, -1.9735185015594627, -1.1226476322836956, -0.033709732199987, -0.47506049831864783, 0.4062401342415919, -0.8298431157254298, 0.6484928745668593, -0.8484283621195674, -0.11478932596098841, 0.4156464856047231, -1.2044313934808315, -0.7377218812849837, -0.3530399705530779, -1.2354471686035418, 1.415323768152012, 0.03667147351896974, 1.3757424357499963, -0.6204186792444727, 0.32246037711615533, 0.7176758702542765, -0.08952871392329798, -1.9115942832046897, 0.6464809271333035, 0.25280282897385653, -0.3030241591898929, 0.13348160896768804, 1.7778329413926857, -0.2706982328639064, 0.174223288645667, -0.6443864622112773, 0.05767854227106527, 0.9359769594187413, -0.2108110112579468, 0.7232976098150298, 0.13782196537317143, 0.1965086400798674, -0.35595137558340306, 0.19120368500211257, 1.190555681945383, 0.29840087375121377, 1.709979954740142, -2.448437868821938, 0.23410079150844357, 0.433512903693733, 1.9187512221029763, 0.34796679107170425, 0.28328638799105765, 0.44287235575880485, -0.7266976761259687, 0.3816684048555259, -0.8004660246613597, -0.06094814916289371, -0.48342674827606424, 0.8255274909549741, -0.10068957109932336, -2.172269351419027, -0.7422295876820347, -1.235546393094691, -1.2995927217470409, -0.684511063368568, 0.9958837433328543, -3.1991579221704414, 1.1793687045818502, -0.319124939743108, 0.8491143895203022, -1.1359643999435747, -0.5865615969649363, -0.19172108517410447, -0.30362087781243813, -0.03695050115199503, 0.9785928191618193, 2.0128678073383885, 0.5639780665112403, -1.7990312710673546, -1.114647156508601, 0.2947390593870421, 0.3690855749682276, 0.25285277904826237, 2.1287882496107553, 0.08504298776070535, 0.2704915897148827, -1.039195748914558, 0.5889777880510121, 0.9996470311558219, 0.9065031222001652, -0.7944687044530946, -0.4705706405607836, -0.07239019799691816, 0.017726005413281606, -1.640842578699129, -0.9970442281743205], \"y\": [-1.2073839278312855, -0.8914152871341857, 0.9122000538112298, 0.6498066921507818, -0.00899612165220606, -0.5004526156800174, 0.34729418384591637, 0.15897743642567497, -0.21839432228170258, -0.49991139525442396, 0.9610693389406737, 0.5618914806405604, 1.201558960930769, -0.2273238288028599, 1.1138543091175164, -1.0868005540326964, -1.1715605560090836, 0.9003730719574612, 0.03682778941603213, -0.15459482647855446, 0.7221015269889887, 0.38583033388373106, 0.6543951885091118, 0.040095597861937025, 0.17972487983609023, 0.28158447514524965, 1.8330586456748375, -1.4855936550488982, -0.1883376767633526, 1.0024422321628312, -0.9234550503192078, -0.11575204468620277, -0.6234014385670065, 0.9415011286362762, -1.0517190719433238, 2.0515592254487953, -0.2580451508330001, -0.5150870104052806, 0.09088235032580956, 2.231352209037297, -0.15859836080583842, -0.9808380119046511, 0.06323059919233626, -0.21106543250299467, -0.6576314663591996, 0.09798213161331863, -0.24017783056310635, 0.46385088321858264, 0.256202641291782, 1.5882261135642595, -0.49785387726708114, -2.996055335076067, 1.0979391220131691, 0.3627975014686308, -0.10786076072121988, 0.0641227457433506, -0.5508234727964582, -0.4893642929797324, -0.01295655628743466, 0.6364408498489723, -1.3445070194151048, -1.2060950265348032, -1.302017996699132, 0.30575364739168376, 1.1344522718513066, -0.40899495791668117, -0.1879338341978866, 0.7701867136427122, -0.3142097601883405, 0.3768390832801088, 2.2322106533883845, -0.6105290427360885, 0.12788746771461784, 0.6964055162543205, 1.188468028747178, -0.1983515900990588, -1.8987123602775557, -0.4467780747490587, -1.401342976649239, 1.9570162473353976, -2.181136421012167, -1.1794166803130908, 0.19599267454193595, 0.7740325867092016, -1.0193643289430883, -0.023458044632571996, -1.7150708376874946, 0.397417382762338, -0.7029977592823403, 0.6311539886525172, -0.4145841586488041, -2.4197468703272453, -0.46942188535039864, 0.5744298855541616, -0.29328939444327295, 2.377437799872268, -1.7487701098601915, -0.7913451308489126, 0.46738856275175306, -0.7480590074762296]}],\n",
       "                        {\"legend\": {\"bgcolor\": \"#F5F6F9\", \"font\": {\"color\": \"#4D5663\"}}, \"paper_bgcolor\": \"#F5F6F9\", \"plot_bgcolor\": \"#F5F6F9\", \"template\": {\"data\": {\"bar\": [{\"error_x\": {\"color\": \"#2a3f5f\"}, \"error_y\": {\"color\": \"#2a3f5f\"}, \"marker\": {\"line\": {\"color\": \"#E5ECF6\", \"width\": 0.5}}, \"type\": \"bar\"}], \"barpolar\": [{\"marker\": {\"line\": {\"color\": \"#E5ECF6\", \"width\": 0.5}}, \"type\": \"barpolar\"}], \"carpet\": [{\"aaxis\": {\"endlinecolor\": \"#2a3f5f\", \"gridcolor\": \"white\", \"linecolor\": \"white\", \"minorgridcolor\": \"white\", \"startlinecolor\": \"#2a3f5f\"}, \"baxis\": {\"endlinecolor\": \"#2a3f5f\", \"gridcolor\": \"white\", \"linecolor\": \"white\", \"minorgridcolor\": \"white\", \"startlinecolor\": \"#2a3f5f\"}, \"type\": \"carpet\"}], \"choropleth\": [{\"colorbar\": {\"outlinewidth\": 0, \"ticks\": \"\"}, \"type\": \"choropleth\"}], \"contour\": [{\"colorbar\": {\"outlinewidth\": 0, \"ticks\": \"\"}, \"colorscale\": [[0.0, \"#0d0887\"], [0.1111111111111111, \"#46039f\"], [0.2222222222222222, \"#7201a8\"], [0.3333333333333333, \"#9c179e\"], [0.4444444444444444, \"#bd3786\"], [0.5555555555555556, \"#d8576b\"], [0.6666666666666666, \"#ed7953\"], [0.7777777777777778, \"#fb9f3a\"], [0.8888888888888888, \"#fdca26\"], [1.0, \"#f0f921\"]], \"type\": \"contour\"}], \"contourcarpet\": [{\"colorbar\": {\"outlinewidth\": 0, \"ticks\": \"\"}, \"type\": \"contourcarpet\"}], \"heatmap\": [{\"colorbar\": {\"outlinewidth\": 0, \"ticks\": \"\"}, \"colorscale\": [[0.0, \"#0d0887\"], [0.1111111111111111, \"#46039f\"], [0.2222222222222222, \"#7201a8\"], [0.3333333333333333, \"#9c179e\"], [0.4444444444444444, \"#bd3786\"], [0.5555555555555556, \"#d8576b\"], [0.6666666666666666, \"#ed7953\"], [0.7777777777777778, \"#fb9f3a\"], [0.8888888888888888, \"#fdca26\"], [1.0, \"#f0f921\"]], \"type\": \"heatmap\"}], \"heatmapgl\": [{\"colorbar\": {\"outlinewidth\": 0, \"ticks\": \"\"}, \"colorscale\": [[0.0, \"#0d0887\"], [0.1111111111111111, \"#46039f\"], [0.2222222222222222, \"#7201a8\"], [0.3333333333333333, \"#9c179e\"], [0.4444444444444444, \"#bd3786\"], [0.5555555555555556, \"#d8576b\"], [0.6666666666666666, \"#ed7953\"], [0.7777777777777778, \"#fb9f3a\"], [0.8888888888888888, \"#fdca26\"], [1.0, \"#f0f921\"]], \"type\": \"heatmapgl\"}], \"histogram\": [{\"marker\": {\"colorbar\": {\"outlinewidth\": 0, \"ticks\": \"\"}}, \"type\": \"histogram\"}], \"histogram2d\": [{\"colorbar\": {\"outlinewidth\": 0, \"ticks\": \"\"}, \"colorscale\": [[0.0, \"#0d0887\"], [0.1111111111111111, \"#46039f\"], [0.2222222222222222, \"#7201a8\"], [0.3333333333333333, \"#9c179e\"], [0.4444444444444444, \"#bd3786\"], [0.5555555555555556, \"#d8576b\"], [0.6666666666666666, \"#ed7953\"], [0.7777777777777778, \"#fb9f3a\"], [0.8888888888888888, \"#fdca26\"], [1.0, \"#f0f921\"]], \"type\": \"histogram2d\"}], \"histogram2dcontour\": [{\"colorbar\": {\"outlinewidth\": 0, \"ticks\": \"\"}, \"colorscale\": [[0.0, \"#0d0887\"], [0.1111111111111111, \"#46039f\"], [0.2222222222222222, \"#7201a8\"], [0.3333333333333333, \"#9c179e\"], [0.4444444444444444, \"#bd3786\"], [0.5555555555555556, \"#d8576b\"], [0.6666666666666666, \"#ed7953\"], [0.7777777777777778, \"#fb9f3a\"], [0.8888888888888888, \"#fdca26\"], [1.0, \"#f0f921\"]], \"type\": \"histogram2dcontour\"}], \"mesh3d\": [{\"colorbar\": {\"outlinewidth\": 0, \"ticks\": \"\"}, \"type\": \"mesh3d\"}], \"parcoords\": [{\"line\": {\"colorbar\": {\"outlinewidth\": 0, \"ticks\": \"\"}}, \"type\": \"parcoords\"}], \"pie\": [{\"automargin\": true, \"type\": \"pie\"}], \"scatter\": [{\"marker\": {\"colorbar\": {\"outlinewidth\": 0, \"ticks\": \"\"}}, \"type\": \"scatter\"}], \"scatter3d\": [{\"line\": {\"colorbar\": {\"outlinewidth\": 0, \"ticks\": \"\"}}, \"marker\": {\"colorbar\": {\"outlinewidth\": 0, \"ticks\": \"\"}}, \"type\": \"scatter3d\"}], \"scattercarpet\": [{\"marker\": {\"colorbar\": {\"outlinewidth\": 0, \"ticks\": \"\"}}, \"type\": \"scattercarpet\"}], \"scattergeo\": [{\"marker\": {\"colorbar\": {\"outlinewidth\": 0, \"ticks\": \"\"}}, \"type\": \"scattergeo\"}], \"scattergl\": [{\"marker\": {\"colorbar\": {\"outlinewidth\": 0, \"ticks\": \"\"}}, \"type\": \"scattergl\"}], \"scattermapbox\": [{\"marker\": {\"colorbar\": {\"outlinewidth\": 0, \"ticks\": \"\"}}, \"type\": \"scattermapbox\"}], \"scatterpolar\": [{\"marker\": {\"colorbar\": {\"outlinewidth\": 0, \"ticks\": \"\"}}, \"type\": \"scatterpolar\"}], \"scatterpolargl\": [{\"marker\": {\"colorbar\": {\"outlinewidth\": 0, \"ticks\": \"\"}}, \"type\": \"scatterpolargl\"}], \"scatterternary\": [{\"marker\": {\"colorbar\": {\"outlinewidth\": 0, \"ticks\": \"\"}}, \"type\": \"scatterternary\"}], \"surface\": [{\"colorbar\": {\"outlinewidth\": 0, \"ticks\": \"\"}, \"colorscale\": [[0.0, \"#0d0887\"], [0.1111111111111111, \"#46039f\"], [0.2222222222222222, \"#7201a8\"], [0.3333333333333333, \"#9c179e\"], [0.4444444444444444, \"#bd3786\"], [0.5555555555555556, \"#d8576b\"], [0.6666666666666666, \"#ed7953\"], [0.7777777777777778, \"#fb9f3a\"], [0.8888888888888888, \"#fdca26\"], [1.0, \"#f0f921\"]], \"type\": \"surface\"}], \"table\": [{\"cells\": {\"fill\": {\"color\": \"#EBF0F8\"}, \"line\": {\"color\": \"white\"}}, \"header\": {\"fill\": {\"color\": \"#C8D4E3\"}, \"line\": {\"color\": \"white\"}}, \"type\": \"table\"}]}, \"layout\": {\"annotationdefaults\": {\"arrowcolor\": \"#2a3f5f\", \"arrowhead\": 0, \"arrowwidth\": 1}, \"coloraxis\": {\"colorbar\": {\"outlinewidth\": 0, \"ticks\": \"\"}}, \"colorscale\": {\"diverging\": [[0, \"#8e0152\"], [0.1, \"#c51b7d\"], [0.2, \"#de77ae\"], [0.3, \"#f1b6da\"], [0.4, \"#fde0ef\"], [0.5, \"#f7f7f7\"], [0.6, \"#e6f5d0\"], [0.7, \"#b8e186\"], [0.8, \"#7fbc41\"], [0.9, \"#4d9221\"], [1, \"#276419\"]], \"sequential\": [[0.0, \"#0d0887\"], [0.1111111111111111, \"#46039f\"], [0.2222222222222222, \"#7201a8\"], [0.3333333333333333, \"#9c179e\"], [0.4444444444444444, \"#bd3786\"], [0.5555555555555556, \"#d8576b\"], [0.6666666666666666, \"#ed7953\"], [0.7777777777777778, \"#fb9f3a\"], [0.8888888888888888, \"#fdca26\"], [1.0, \"#f0f921\"]], \"sequentialminus\": [[0.0, \"#0d0887\"], [0.1111111111111111, \"#46039f\"], [0.2222222222222222, \"#7201a8\"], [0.3333333333333333, \"#9c179e\"], [0.4444444444444444, \"#bd3786\"], [0.5555555555555556, \"#d8576b\"], [0.6666666666666666, \"#ed7953\"], [0.7777777777777778, \"#fb9f3a\"], [0.8888888888888888, \"#fdca26\"], [1.0, \"#f0f921\"]]}, \"colorway\": [\"#636efa\", \"#EF553B\", \"#00cc96\", \"#ab63fa\", \"#FFA15A\", \"#19d3f3\", \"#FF6692\", \"#B6E880\", \"#FF97FF\", \"#FECB52\"], \"font\": {\"color\": \"#2a3f5f\"}, \"geo\": {\"bgcolor\": \"white\", \"lakecolor\": \"white\", \"landcolor\": \"#E5ECF6\", \"showlakes\": true, \"showland\": true, \"subunitcolor\": \"white\"}, \"hoverlabel\": {\"align\": \"left\"}, \"hovermode\": \"closest\", \"mapbox\": {\"style\": \"light\"}, \"paper_bgcolor\": \"white\", \"plot_bgcolor\": \"#E5ECF6\", \"polar\": {\"angularaxis\": {\"gridcolor\": \"white\", \"linecolor\": \"white\", \"ticks\": \"\"}, \"bgcolor\": \"#E5ECF6\", \"radialaxis\": {\"gridcolor\": \"white\", \"linecolor\": \"white\", \"ticks\": \"\"}}, \"scene\": {\"xaxis\": {\"backgroundcolor\": \"#E5ECF6\", \"gridcolor\": \"white\", \"gridwidth\": 2, \"linecolor\": \"white\", \"showbackground\": true, \"ticks\": \"\", \"zerolinecolor\": \"white\"}, \"yaxis\": {\"backgroundcolor\": \"#E5ECF6\", \"gridcolor\": \"white\", \"gridwidth\": 2, \"linecolor\": \"white\", \"showbackground\": true, \"ticks\": \"\", \"zerolinecolor\": \"white\"}, \"zaxis\": {\"backgroundcolor\": \"#E5ECF6\", \"gridcolor\": \"white\", \"gridwidth\": 2, \"linecolor\": \"white\", \"showbackground\": true, \"ticks\": \"\", \"zerolinecolor\": \"white\"}}, \"shapedefaults\": {\"line\": {\"color\": \"#2a3f5f\"}}, \"ternary\": {\"aaxis\": {\"gridcolor\": \"white\", \"linecolor\": \"white\", \"ticks\": \"\"}, \"baxis\": {\"gridcolor\": \"white\", \"linecolor\": \"white\", \"ticks\": \"\"}, \"bgcolor\": \"#E5ECF6\", \"caxis\": {\"gridcolor\": \"white\", \"linecolor\": \"white\", \"ticks\": \"\"}}, \"title\": {\"x\": 0.05}, \"xaxis\": {\"automargin\": true, \"gridcolor\": \"white\", \"linecolor\": \"white\", \"ticks\": \"\", \"title\": {\"standoff\": 15}, \"zerolinecolor\": \"white\", \"zerolinewidth\": 2}, \"yaxis\": {\"automargin\": true, \"gridcolor\": \"white\", \"linecolor\": \"white\", \"ticks\": \"\", \"title\": {\"standoff\": 15}, \"zerolinecolor\": \"white\", \"zerolinewidth\": 2}}}, \"title\": {\"font\": {\"color\": \"#4D5663\"}}, \"xaxis\": {\"gridcolor\": \"#E1E5ED\", \"showgrid\": true, \"tickfont\": {\"color\": \"#4D5663\"}, \"title\": {\"font\": {\"color\": \"#4D5663\"}, \"text\": \"\"}, \"zerolinecolor\": \"#E1E5ED\"}, \"yaxis\": {\"gridcolor\": \"#E1E5ED\", \"showgrid\": true, \"tickfont\": {\"color\": \"#4D5663\"}, \"title\": {\"font\": {\"color\": \"#4D5663\"}, \"text\": \"\"}, \"zerolinecolor\": \"#E1E5ED\"}},\n",
       "                        {\"showLink\": true, \"linkText\": \"Export to plot.ly\", \"plotlyServerURL\": \"https://plot.ly\", \"responsive\": true}\n",
       "                    ).then(function(){\n",
       "                            \n",
       "var gd = document.getElementById('df241d1a-11f9-490a-b65a-4e8b857d3dad');\n",
       "var x = new MutationObserver(function (mutations, observer) {{\n",
       "        var display = window.getComputedStyle(gd).display;\n",
       "        if (!display || display === 'none') {{\n",
       "            console.log([gd, 'removed!']);\n",
       "            Plotly.purge(gd);\n",
       "            observer.disconnect();\n",
       "        }}\n",
       "}});\n",
       "\n",
       "// Listen for the removal of the full notebook cells\n",
       "var notebookContainer = gd.closest('#notebook-container');\n",
       "if (notebookContainer) {{\n",
       "    x.observe(notebookContainer, {childList: true});\n",
       "}}\n",
       "\n",
       "// Listen for the clearing of the current output cell\n",
       "var outputEl = gd.closest('.output');\n",
       "if (outputEl) {{\n",
       "    x.observe(outputEl, {childList: true});\n",
       "}}\n",
       "\n",
       "                        })\n",
       "                };\n",
       "                });\n",
       "            </script>\n",
       "        </div>"
      ]
     },
     "metadata": {},
     "output_type": "display_data"
    }
   ],
   "source": [
    "df.iplot(kind='bubble',x='A',y='B',size='C')"
   ]
  },
  {
   "cell_type": "markdown",
   "metadata": {},
   "source": [
    "## scatter_matrix()\n",
    "\n",
    "Similar to sns.pairplot()"
   ]
  },
  {
   "cell_type": "code",
   "execution_count": 19,
   "metadata": {},
   "outputs": [
    {
     "data": {
      "application/vnd.plotly.v1+json": {
       "config": {
        "linkText": "Export to plot.ly",
        "plotlyServerURL": "https://plot.ly",
        "showLink": true
       },
       "data": [
        {
         "histfunc": "count",
         "histnorm": "",
         "marker": {
          "color": "rgba(255, 153, 51, 1.0)",
          "line": {
           "color": "#4D5663",
           "width": 1.3
          }
         },
         "name": "A",
         "nbinsx": 10,
         "opacity": 0.8,
         "orientation": "v",
         "type": "histogram",
         "x": [
          -0.6889956521739307,
          -0.10998876634393508,
          0.09699922766269028,
          -0.8808256190850161,
          2.2172396213269425,
          -0.5181556954513972,
          0.044220521243459814,
          -0.6182983871486031,
          0.5035632820391117,
          -1.9735185015594627,
          -1.1226476322836956,
          -0.033709732199987,
          -0.47506049831864783,
          0.4062401342415919,
          -0.8298431157254298,
          0.6484928745668593,
          -0.8484283621195674,
          -0.11478932596098841,
          0.4156464856047231,
          -1.2044313934808315,
          -0.7377218812849837,
          -0.3530399705530779,
          -1.2354471686035418,
          1.415323768152012,
          0.03667147351896974,
          1.3757424357499963,
          -0.6204186792444727,
          0.32246037711615533,
          0.7176758702542765,
          -0.08952871392329798,
          -1.9115942832046897,
          0.6464809271333035,
          0.25280282897385653,
          -0.3030241591898929,
          0.13348160896768804,
          1.7778329413926857,
          -0.2706982328639064,
          0.174223288645667,
          -0.6443864622112773,
          0.05767854227106527,
          0.9359769594187413,
          -0.2108110112579468,
          0.7232976098150298,
          0.13782196537317143,
          0.1965086400798674,
          -0.35595137558340306,
          0.19120368500211257,
          1.190555681945383,
          0.29840087375121377,
          1.709979954740142,
          -2.448437868821938,
          0.23410079150844357,
          0.433512903693733,
          1.9187512221029763,
          0.34796679107170425,
          0.28328638799105765,
          0.44287235575880485,
          -0.7266976761259687,
          0.3816684048555259,
          -0.8004660246613597,
          -0.06094814916289371,
          -0.48342674827606424,
          0.8255274909549741,
          -0.10068957109932336,
          -2.172269351419027,
          -0.7422295876820347,
          -1.235546393094691,
          -1.2995927217470409,
          -0.684511063368568,
          0.9958837433328543,
          -3.1991579221704414,
          1.1793687045818502,
          -0.319124939743108,
          0.8491143895203022,
          -1.1359643999435747,
          -0.5865615969649363,
          -0.19172108517410447,
          -0.30362087781243813,
          -0.03695050115199503,
          0.9785928191618193,
          2.0128678073383885,
          0.5639780665112403,
          -1.7990312710673546,
          -1.114647156508601,
          0.2947390593870421,
          0.3690855749682276,
          0.25285277904826237,
          2.1287882496107553,
          0.08504298776070535,
          0.2704915897148827,
          -1.039195748914558,
          0.5889777880510121,
          0.9996470311558219,
          0.9065031222001652,
          -0.7944687044530946,
          -0.4705706405607836,
          -0.07239019799691816,
          0.017726005413281606,
          -1.640842578699129,
          -0.9970442281743205
         ],
         "xaxis": "x",
         "yaxis": "y"
        },
        {
         "line": {
          "color": "rgba(128, 128, 128, 1.0)",
          "dash": "solid",
          "shape": "linear",
          "width": 1.3
         },
         "marker": {
          "size": 2,
          "symbol": "circle"
         },
         "mode": "markers",
         "name": "A",
         "text": "",
         "type": "scatter",
         "x": [
          -1.2073839278312855,
          -0.8914152871341857,
          0.9122000538112298,
          0.6498066921507818,
          -0.00899612165220606,
          -0.5004526156800174,
          0.34729418384591637,
          0.15897743642567497,
          -0.21839432228170258,
          -0.49991139525442396,
          0.9610693389406737,
          0.5618914806405604,
          1.201558960930769,
          -0.2273238288028599,
          1.1138543091175164,
          -1.0868005540326964,
          -1.1715605560090836,
          0.9003730719574612,
          0.03682778941603213,
          -0.15459482647855446,
          0.7221015269889887,
          0.38583033388373106,
          0.6543951885091118,
          0.040095597861937025,
          0.17972487983609023,
          0.28158447514524965,
          1.8330586456748375,
          -1.4855936550488982,
          -0.1883376767633526,
          1.0024422321628312,
          -0.9234550503192078,
          -0.11575204468620277,
          -0.6234014385670065,
          0.9415011286362762,
          -1.0517190719433238,
          2.0515592254487953,
          -0.2580451508330001,
          -0.5150870104052806,
          0.09088235032580956,
          2.231352209037297,
          -0.15859836080583842,
          -0.9808380119046511,
          0.06323059919233626,
          -0.21106543250299467,
          -0.6576314663591996,
          0.09798213161331863,
          -0.24017783056310635,
          0.46385088321858264,
          0.256202641291782,
          1.5882261135642595,
          -0.49785387726708114,
          -2.996055335076067,
          1.0979391220131691,
          0.3627975014686308,
          -0.10786076072121988,
          0.0641227457433506,
          -0.5508234727964582,
          -0.4893642929797324,
          -0.01295655628743466,
          0.6364408498489723,
          -1.3445070194151048,
          -1.2060950265348032,
          -1.302017996699132,
          0.30575364739168376,
          1.1344522718513066,
          -0.40899495791668117,
          -0.1879338341978866,
          0.7701867136427122,
          -0.3142097601883405,
          0.3768390832801088,
          2.2322106533883845,
          -0.6105290427360885,
          0.12788746771461784,
          0.6964055162543205,
          1.188468028747178,
          -0.1983515900990588,
          -1.8987123602775557,
          -0.4467780747490587,
          -1.401342976649239,
          1.9570162473353976,
          -2.181136421012167,
          -1.1794166803130908,
          0.19599267454193595,
          0.7740325867092016,
          -1.0193643289430883,
          -0.023458044632571996,
          -1.7150708376874946,
          0.397417382762338,
          -0.7029977592823403,
          0.6311539886525172,
          -0.4145841586488041,
          -2.4197468703272453,
          -0.46942188535039864,
          0.5744298855541616,
          -0.29328939444327295,
          2.377437799872268,
          -1.7487701098601915,
          -0.7913451308489126,
          0.46738856275175306,
          -0.7480590074762296
         ],
         "xaxis": "x2",
         "y": [
          -0.6889956521739307,
          -0.10998876634393508,
          0.09699922766269028,
          -0.8808256190850161,
          2.2172396213269425,
          -0.5181556954513972,
          0.044220521243459814,
          -0.6182983871486031,
          0.5035632820391117,
          -1.9735185015594627,
          -1.1226476322836956,
          -0.033709732199987,
          -0.47506049831864783,
          0.4062401342415919,
          -0.8298431157254298,
          0.6484928745668593,
          -0.8484283621195674,
          -0.11478932596098841,
          0.4156464856047231,
          -1.2044313934808315,
          -0.7377218812849837,
          -0.3530399705530779,
          -1.2354471686035418,
          1.415323768152012,
          0.03667147351896974,
          1.3757424357499963,
          -0.6204186792444727,
          0.32246037711615533,
          0.7176758702542765,
          -0.08952871392329798,
          -1.9115942832046897,
          0.6464809271333035,
          0.25280282897385653,
          -0.3030241591898929,
          0.13348160896768804,
          1.7778329413926857,
          -0.2706982328639064,
          0.174223288645667,
          -0.6443864622112773,
          0.05767854227106527,
          0.9359769594187413,
          -0.2108110112579468,
          0.7232976098150298,
          0.13782196537317143,
          0.1965086400798674,
          -0.35595137558340306,
          0.19120368500211257,
          1.190555681945383,
          0.29840087375121377,
          1.709979954740142,
          -2.448437868821938,
          0.23410079150844357,
          0.433512903693733,
          1.9187512221029763,
          0.34796679107170425,
          0.28328638799105765,
          0.44287235575880485,
          -0.7266976761259687,
          0.3816684048555259,
          -0.8004660246613597,
          -0.06094814916289371,
          -0.48342674827606424,
          0.8255274909549741,
          -0.10068957109932336,
          -2.172269351419027,
          -0.7422295876820347,
          -1.235546393094691,
          -1.2995927217470409,
          -0.684511063368568,
          0.9958837433328543,
          -3.1991579221704414,
          1.1793687045818502,
          -0.319124939743108,
          0.8491143895203022,
          -1.1359643999435747,
          -0.5865615969649363,
          -0.19172108517410447,
          -0.30362087781243813,
          -0.03695050115199503,
          0.9785928191618193,
          2.0128678073383885,
          0.5639780665112403,
          -1.7990312710673546,
          -1.114647156508601,
          0.2947390593870421,
          0.3690855749682276,
          0.25285277904826237,
          2.1287882496107553,
          0.08504298776070535,
          0.2704915897148827,
          -1.039195748914558,
          0.5889777880510121,
          0.9996470311558219,
          0.9065031222001652,
          -0.7944687044530946,
          -0.4705706405607836,
          -0.07239019799691816,
          0.017726005413281606,
          -1.640842578699129,
          -0.9970442281743205
         ],
         "yaxis": "y2"
        },
        {
         "line": {
          "color": "rgba(128, 128, 128, 1.0)",
          "dash": "solid",
          "shape": "linear",
          "width": 1.3
         },
         "marker": {
          "size": 2,
          "symbol": "circle"
         },
         "mode": "markers",
         "name": "A",
         "text": "",
         "type": "scatter",
         "x": [
          1.3572538079600367,
          0.3889542079424232,
          -0.2204280148649024,
          0.32794825283187407,
          -0.10267501810924519,
          0.37705374699585775,
          -0.20890151330780896,
          0.626243751571112,
          -1.8088289714837196,
          1.7252388502558291,
          0.48997474380667844,
          -1.9362219967236907,
          -0.1422968206402504,
          -0.15206945627461832,
          0.6214115109313594,
          -1.4615512777347377,
          -0.14958636372797185,
          0.35745921397008423,
          0.8357978106910908,
          -0.7470122961155502,
          -0.06157342593553133,
          1.312233513749872,
          0.5053341867761568,
          -0.20129983771528723,
          -1.032376489695527,
          -0.5013128056656442,
          -1.4043921119107579,
          -0.6391851582191036,
          -1.7698996934746816,
          -0.04957301282581744,
          -0.15775457767629247,
          -0.8264621718797414,
          -1.2006553269313285,
          -0.942889313612981,
          -1.56754839305474,
          0.5991803867711081,
          -0.38152555293429086,
          -2.1007726559392372,
          -0.17764077846774926,
          -1.2194784693211722,
          0.10525986908387237,
          -0.2759936902369652,
          1.797264068757335,
          -0.9064375293266415,
          -0.631599001198882,
          -0.23606505737488173,
          1.0464383207469847,
          0.7484508615287344,
          -0.6868827872993668,
          -1.2731841825690051,
          0.3194899183878682,
          -0.5449673146027159,
          -1.3574624317646504,
          -1.2157416817511568,
          1.3517008068763363,
          -0.16665352151456828,
          1.4415162667781476,
          -1.9502344824506048,
          1.6216169341371227,
          -0.10540795403149338,
          -0.20377632024452383,
          -0.3845510088852165,
          -0.35362843346234274,
          0.8547599515179909,
          0.4289986468411021,
          0.1426696706224036,
          -1.2294521706700443,
          1.340608730573424,
          -1.6643780335315081,
          0.5844734285376947,
          -0.4966543147921046,
          -0.22723137508522312,
          -1.2264747131258893,
          1.3182194186252083,
          -0.35775241673320024,
          -1.993955115142308,
          0.16731377579434287,
          -0.9746819259679719,
          -1.1010662431715916,
          1.1333955819748986,
          0.7865551264976777,
          -1.1033582478114714,
          0.27667325585704156,
          0.973013539999785,
          0.7472477246538872,
          0.5806588401418527,
          -0.9440690142746736,
          -0.7091314809087226,
          0.8292023335822314,
          -0.3111960484538863,
          -0.38686078242812555,
          -0.6731284700541769,
          -0.18278367881869112,
          -0.014898819710800332,
          0.994963349206386,
          0.5947018519682341,
          -0.6109611236269217,
          -0.18192401819093953,
          -1.5289530012851809,
          0.42490151621141736
         ],
         "xaxis": "x3",
         "y": [
          -0.6889956521739307,
          -0.10998876634393508,
          0.09699922766269028,
          -0.8808256190850161,
          2.2172396213269425,
          -0.5181556954513972,
          0.044220521243459814,
          -0.6182983871486031,
          0.5035632820391117,
          -1.9735185015594627,
          -1.1226476322836956,
          -0.033709732199987,
          -0.47506049831864783,
          0.4062401342415919,
          -0.8298431157254298,
          0.6484928745668593,
          -0.8484283621195674,
          -0.11478932596098841,
          0.4156464856047231,
          -1.2044313934808315,
          -0.7377218812849837,
          -0.3530399705530779,
          -1.2354471686035418,
          1.415323768152012,
          0.03667147351896974,
          1.3757424357499963,
          -0.6204186792444727,
          0.32246037711615533,
          0.7176758702542765,
          -0.08952871392329798,
          -1.9115942832046897,
          0.6464809271333035,
          0.25280282897385653,
          -0.3030241591898929,
          0.13348160896768804,
          1.7778329413926857,
          -0.2706982328639064,
          0.174223288645667,
          -0.6443864622112773,
          0.05767854227106527,
          0.9359769594187413,
          -0.2108110112579468,
          0.7232976098150298,
          0.13782196537317143,
          0.1965086400798674,
          -0.35595137558340306,
          0.19120368500211257,
          1.190555681945383,
          0.29840087375121377,
          1.709979954740142,
          -2.448437868821938,
          0.23410079150844357,
          0.433512903693733,
          1.9187512221029763,
          0.34796679107170425,
          0.28328638799105765,
          0.44287235575880485,
          -0.7266976761259687,
          0.3816684048555259,
          -0.8004660246613597,
          -0.06094814916289371,
          -0.48342674827606424,
          0.8255274909549741,
          -0.10068957109932336,
          -2.172269351419027,
          -0.7422295876820347,
          -1.235546393094691,
          -1.2995927217470409,
          -0.684511063368568,
          0.9958837433328543,
          -3.1991579221704414,
          1.1793687045818502,
          -0.319124939743108,
          0.8491143895203022,
          -1.1359643999435747,
          -0.5865615969649363,
          -0.19172108517410447,
          -0.30362087781243813,
          -0.03695050115199503,
          0.9785928191618193,
          2.0128678073383885,
          0.5639780665112403,
          -1.7990312710673546,
          -1.114647156508601,
          0.2947390593870421,
          0.3690855749682276,
          0.25285277904826237,
          2.1287882496107553,
          0.08504298776070535,
          0.2704915897148827,
          -1.039195748914558,
          0.5889777880510121,
          0.9996470311558219,
          0.9065031222001652,
          -0.7944687044530946,
          -0.4705706405607836,
          -0.07239019799691816,
          0.017726005413281606,
          -1.640842578699129,
          -0.9970442281743205
         ],
         "yaxis": "y3"
        },
        {
         "line": {
          "color": "rgba(128, 128, 128, 1.0)",
          "dash": "solid",
          "shape": "linear",
          "width": 1.3
         },
         "marker": {
          "size": 2,
          "symbol": "circle"
         },
         "mode": "markers",
         "name": "A",
         "text": "",
         "type": "scatter",
         "x": [
          -0.24295250953129108,
          -0.12827460320049489,
          2.970659842989287,
          0.45974132419489866,
          1.164454090962472,
          -0.7314055252035659,
          -0.5449101561588183,
          0.5117415970268605,
          0.3278007948311033,
          -0.23231751877037987,
          1.7868831272568824,
          -1.4135055934875524,
          0.27151805904491494,
          -1.291461804230663,
          0.0012425086116985915,
          2.3664084647711676,
          -0.2622917058892799,
          -2.1388305857772507,
          0.8069542410959432,
          -0.07977536099207176,
          0.7792965860411794,
          0.332539459677594,
          -1.9558835131769172,
          0.3031224284283438,
          -0.4402398607893659,
          -0.7981297374939099,
          0.21206370073994354,
          -0.13652782875817018,
          -0.2917311459639741,
          -0.6619420533173175,
          1.7864338216191098,
          0.4483115694708084,
          -2.8045739317148044,
          -0.37269533039988884,
          -1.03369866435832,
          -0.5065170686228558,
          -0.04597809325360672,
          0.8981809317738958,
          -0.18926184697998172,
          1.0562327390292001,
          -0.7100215522540436,
          0.061721096304667315,
          0.24362661681457334,
          1.2909836539249675,
          -1.8796434891569094,
          0.057165226884120034,
          -1.5442289516993324,
          0.06749486486318663,
          -0.7303673126311082,
          -0.7818430070190294,
          0.3589530849234872,
          0.7869622437653797,
          0.24007604461641832,
          1.1430643912329008,
          -0.708957021897143,
          0.8924603531688191,
          -1.0308859395863692,
          2.346418484754605,
          0.3616548319479292,
          -0.8701918572925443,
          0.7089471483071063,
          -0.9070039750845411,
          -0.17459980432821243,
          0.6702844154161197,
          -1.6249452282300787,
          -1.010142157907602,
          1.53797174447603,
          1.1581519529551638,
          0.24262638010011067,
          0.24072869175425662,
          -0.7941179508060363,
          0.18743613295526848,
          -0.14935234363963534,
          0.5733263723397176,
          1.7615480990725936,
          -0.057318590974638366,
          0.7553419270425359,
          -0.7173722111539768,
          -2.3089432393271414,
          0.6247880749109848,
          0.3911263785508444,
          0.6800977316187646,
          0.31656288728706317,
          1.5833236603519991,
          0.21783726551960741,
          1.2109998478708084,
          0.06837885604751842,
          0.5884254784829538,
          0.6051255415707739,
          0.08791390277971288,
          2.1845592118278785,
          1.527814568834567,
          -1.327221452690222,
          0.5428786782866669,
          0.3806844088743656,
          -1.1559784367300785,
          -0.0117129741558672,
          0.2648788265299483,
          0.35506176003794576,
          0.2318232594759154
         ],
         "xaxis": "x4",
         "y": [
          -0.6889956521739307,
          -0.10998876634393508,
          0.09699922766269028,
          -0.8808256190850161,
          2.2172396213269425,
          -0.5181556954513972,
          0.044220521243459814,
          -0.6182983871486031,
          0.5035632820391117,
          -1.9735185015594627,
          -1.1226476322836956,
          -0.033709732199987,
          -0.47506049831864783,
          0.4062401342415919,
          -0.8298431157254298,
          0.6484928745668593,
          -0.8484283621195674,
          -0.11478932596098841,
          0.4156464856047231,
          -1.2044313934808315,
          -0.7377218812849837,
          -0.3530399705530779,
          -1.2354471686035418,
          1.415323768152012,
          0.03667147351896974,
          1.3757424357499963,
          -0.6204186792444727,
          0.32246037711615533,
          0.7176758702542765,
          -0.08952871392329798,
          -1.9115942832046897,
          0.6464809271333035,
          0.25280282897385653,
          -0.3030241591898929,
          0.13348160896768804,
          1.7778329413926857,
          -0.2706982328639064,
          0.174223288645667,
          -0.6443864622112773,
          0.05767854227106527,
          0.9359769594187413,
          -0.2108110112579468,
          0.7232976098150298,
          0.13782196537317143,
          0.1965086400798674,
          -0.35595137558340306,
          0.19120368500211257,
          1.190555681945383,
          0.29840087375121377,
          1.709979954740142,
          -2.448437868821938,
          0.23410079150844357,
          0.433512903693733,
          1.9187512221029763,
          0.34796679107170425,
          0.28328638799105765,
          0.44287235575880485,
          -0.7266976761259687,
          0.3816684048555259,
          -0.8004660246613597,
          -0.06094814916289371,
          -0.48342674827606424,
          0.8255274909549741,
          -0.10068957109932336,
          -2.172269351419027,
          -0.7422295876820347,
          -1.235546393094691,
          -1.2995927217470409,
          -0.684511063368568,
          0.9958837433328543,
          -3.1991579221704414,
          1.1793687045818502,
          -0.319124939743108,
          0.8491143895203022,
          -1.1359643999435747,
          -0.5865615969649363,
          -0.19172108517410447,
          -0.30362087781243813,
          -0.03695050115199503,
          0.9785928191618193,
          2.0128678073383885,
          0.5639780665112403,
          -1.7990312710673546,
          -1.114647156508601,
          0.2947390593870421,
          0.3690855749682276,
          0.25285277904826237,
          2.1287882496107553,
          0.08504298776070535,
          0.2704915897148827,
          -1.039195748914558,
          0.5889777880510121,
          0.9996470311558219,
          0.9065031222001652,
          -0.7944687044530946,
          -0.4705706405607836,
          -0.07239019799691816,
          0.017726005413281606,
          -1.640842578699129,
          -0.9970442281743205
         ],
         "yaxis": "y4"
        },
        {
         "line": {
          "color": "rgba(128, 128, 128, 1.0)",
          "dash": "solid",
          "shape": "linear",
          "width": 1.3
         },
         "marker": {
          "size": 2,
          "symbol": "circle"
         },
         "mode": "markers",
         "name": "B",
         "text": "",
         "type": "scatter",
         "x": [
          -0.6889956521739307,
          -0.10998876634393508,
          0.09699922766269028,
          -0.8808256190850161,
          2.2172396213269425,
          -0.5181556954513972,
          0.044220521243459814,
          -0.6182983871486031,
          0.5035632820391117,
          -1.9735185015594627,
          -1.1226476322836956,
          -0.033709732199987,
          -0.47506049831864783,
          0.4062401342415919,
          -0.8298431157254298,
          0.6484928745668593,
          -0.8484283621195674,
          -0.11478932596098841,
          0.4156464856047231,
          -1.2044313934808315,
          -0.7377218812849837,
          -0.3530399705530779,
          -1.2354471686035418,
          1.415323768152012,
          0.03667147351896974,
          1.3757424357499963,
          -0.6204186792444727,
          0.32246037711615533,
          0.7176758702542765,
          -0.08952871392329798,
          -1.9115942832046897,
          0.6464809271333035,
          0.25280282897385653,
          -0.3030241591898929,
          0.13348160896768804,
          1.7778329413926857,
          -0.2706982328639064,
          0.174223288645667,
          -0.6443864622112773,
          0.05767854227106527,
          0.9359769594187413,
          -0.2108110112579468,
          0.7232976098150298,
          0.13782196537317143,
          0.1965086400798674,
          -0.35595137558340306,
          0.19120368500211257,
          1.190555681945383,
          0.29840087375121377,
          1.709979954740142,
          -2.448437868821938,
          0.23410079150844357,
          0.433512903693733,
          1.9187512221029763,
          0.34796679107170425,
          0.28328638799105765,
          0.44287235575880485,
          -0.7266976761259687,
          0.3816684048555259,
          -0.8004660246613597,
          -0.06094814916289371,
          -0.48342674827606424,
          0.8255274909549741,
          -0.10068957109932336,
          -2.172269351419027,
          -0.7422295876820347,
          -1.235546393094691,
          -1.2995927217470409,
          -0.684511063368568,
          0.9958837433328543,
          -3.1991579221704414,
          1.1793687045818502,
          -0.319124939743108,
          0.8491143895203022,
          -1.1359643999435747,
          -0.5865615969649363,
          -0.19172108517410447,
          -0.30362087781243813,
          -0.03695050115199503,
          0.9785928191618193,
          2.0128678073383885,
          0.5639780665112403,
          -1.7990312710673546,
          -1.114647156508601,
          0.2947390593870421,
          0.3690855749682276,
          0.25285277904826237,
          2.1287882496107553,
          0.08504298776070535,
          0.2704915897148827,
          -1.039195748914558,
          0.5889777880510121,
          0.9996470311558219,
          0.9065031222001652,
          -0.7944687044530946,
          -0.4705706405607836,
          -0.07239019799691816,
          0.017726005413281606,
          -1.640842578699129,
          -0.9970442281743205
         ],
         "xaxis": "x5",
         "y": [
          -1.2073839278312855,
          -0.8914152871341857,
          0.9122000538112298,
          0.6498066921507818,
          -0.00899612165220606,
          -0.5004526156800174,
          0.34729418384591637,
          0.15897743642567497,
          -0.21839432228170258,
          -0.49991139525442396,
          0.9610693389406737,
          0.5618914806405604,
          1.201558960930769,
          -0.2273238288028599,
          1.1138543091175164,
          -1.0868005540326964,
          -1.1715605560090836,
          0.9003730719574612,
          0.03682778941603213,
          -0.15459482647855446,
          0.7221015269889887,
          0.38583033388373106,
          0.6543951885091118,
          0.040095597861937025,
          0.17972487983609023,
          0.28158447514524965,
          1.8330586456748375,
          -1.4855936550488982,
          -0.1883376767633526,
          1.0024422321628312,
          -0.9234550503192078,
          -0.11575204468620277,
          -0.6234014385670065,
          0.9415011286362762,
          -1.0517190719433238,
          2.0515592254487953,
          -0.2580451508330001,
          -0.5150870104052806,
          0.09088235032580956,
          2.231352209037297,
          -0.15859836080583842,
          -0.9808380119046511,
          0.06323059919233626,
          -0.21106543250299467,
          -0.6576314663591996,
          0.09798213161331863,
          -0.24017783056310635,
          0.46385088321858264,
          0.256202641291782,
          1.5882261135642595,
          -0.49785387726708114,
          -2.996055335076067,
          1.0979391220131691,
          0.3627975014686308,
          -0.10786076072121988,
          0.0641227457433506,
          -0.5508234727964582,
          -0.4893642929797324,
          -0.01295655628743466,
          0.6364408498489723,
          -1.3445070194151048,
          -1.2060950265348032,
          -1.302017996699132,
          0.30575364739168376,
          1.1344522718513066,
          -0.40899495791668117,
          -0.1879338341978866,
          0.7701867136427122,
          -0.3142097601883405,
          0.3768390832801088,
          2.2322106533883845,
          -0.6105290427360885,
          0.12788746771461784,
          0.6964055162543205,
          1.188468028747178,
          -0.1983515900990588,
          -1.8987123602775557,
          -0.4467780747490587,
          -1.401342976649239,
          1.9570162473353976,
          -2.181136421012167,
          -1.1794166803130908,
          0.19599267454193595,
          0.7740325867092016,
          -1.0193643289430883,
          -0.023458044632571996,
          -1.7150708376874946,
          0.397417382762338,
          -0.7029977592823403,
          0.6311539886525172,
          -0.4145841586488041,
          -2.4197468703272453,
          -0.46942188535039864,
          0.5744298855541616,
          -0.29328939444327295,
          2.377437799872268,
          -1.7487701098601915,
          -0.7913451308489126,
          0.46738856275175306,
          -0.7480590074762296
         ],
         "yaxis": "y5"
        },
        {
         "histfunc": "count",
         "histnorm": "",
         "marker": {
          "color": "rgba(55, 128, 191, 1.0)",
          "line": {
           "color": "#4D5663",
           "width": 1.3
          }
         },
         "name": "B",
         "nbinsx": 10,
         "opacity": 0.8,
         "orientation": "v",
         "type": "histogram",
         "x": [
          -1.2073839278312855,
          -0.8914152871341857,
          0.9122000538112298,
          0.6498066921507818,
          -0.00899612165220606,
          -0.5004526156800174,
          0.34729418384591637,
          0.15897743642567497,
          -0.21839432228170258,
          -0.49991139525442396,
          0.9610693389406737,
          0.5618914806405604,
          1.201558960930769,
          -0.2273238288028599,
          1.1138543091175164,
          -1.0868005540326964,
          -1.1715605560090836,
          0.9003730719574612,
          0.03682778941603213,
          -0.15459482647855446,
          0.7221015269889887,
          0.38583033388373106,
          0.6543951885091118,
          0.040095597861937025,
          0.17972487983609023,
          0.28158447514524965,
          1.8330586456748375,
          -1.4855936550488982,
          -0.1883376767633526,
          1.0024422321628312,
          -0.9234550503192078,
          -0.11575204468620277,
          -0.6234014385670065,
          0.9415011286362762,
          -1.0517190719433238,
          2.0515592254487953,
          -0.2580451508330001,
          -0.5150870104052806,
          0.09088235032580956,
          2.231352209037297,
          -0.15859836080583842,
          -0.9808380119046511,
          0.06323059919233626,
          -0.21106543250299467,
          -0.6576314663591996,
          0.09798213161331863,
          -0.24017783056310635,
          0.46385088321858264,
          0.256202641291782,
          1.5882261135642595,
          -0.49785387726708114,
          -2.996055335076067,
          1.0979391220131691,
          0.3627975014686308,
          -0.10786076072121988,
          0.0641227457433506,
          -0.5508234727964582,
          -0.4893642929797324,
          -0.01295655628743466,
          0.6364408498489723,
          -1.3445070194151048,
          -1.2060950265348032,
          -1.302017996699132,
          0.30575364739168376,
          1.1344522718513066,
          -0.40899495791668117,
          -0.1879338341978866,
          0.7701867136427122,
          -0.3142097601883405,
          0.3768390832801088,
          2.2322106533883845,
          -0.6105290427360885,
          0.12788746771461784,
          0.6964055162543205,
          1.188468028747178,
          -0.1983515900990588,
          -1.8987123602775557,
          -0.4467780747490587,
          -1.401342976649239,
          1.9570162473353976,
          -2.181136421012167,
          -1.1794166803130908,
          0.19599267454193595,
          0.7740325867092016,
          -1.0193643289430883,
          -0.023458044632571996,
          -1.7150708376874946,
          0.397417382762338,
          -0.7029977592823403,
          0.6311539886525172,
          -0.4145841586488041,
          -2.4197468703272453,
          -0.46942188535039864,
          0.5744298855541616,
          -0.29328939444327295,
          2.377437799872268,
          -1.7487701098601915,
          -0.7913451308489126,
          0.46738856275175306,
          -0.7480590074762296
         ],
         "xaxis": "x6",
         "yaxis": "y6"
        },
        {
         "line": {
          "color": "rgba(128, 128, 128, 1.0)",
          "dash": "solid",
          "shape": "linear",
          "width": 1.3
         },
         "marker": {
          "size": 2,
          "symbol": "circle"
         },
         "mode": "markers",
         "name": "B",
         "text": "",
         "type": "scatter",
         "x": [
          1.3572538079600367,
          0.3889542079424232,
          -0.2204280148649024,
          0.32794825283187407,
          -0.10267501810924519,
          0.37705374699585775,
          -0.20890151330780896,
          0.626243751571112,
          -1.8088289714837196,
          1.7252388502558291,
          0.48997474380667844,
          -1.9362219967236907,
          -0.1422968206402504,
          -0.15206945627461832,
          0.6214115109313594,
          -1.4615512777347377,
          -0.14958636372797185,
          0.35745921397008423,
          0.8357978106910908,
          -0.7470122961155502,
          -0.06157342593553133,
          1.312233513749872,
          0.5053341867761568,
          -0.20129983771528723,
          -1.032376489695527,
          -0.5013128056656442,
          -1.4043921119107579,
          -0.6391851582191036,
          -1.7698996934746816,
          -0.04957301282581744,
          -0.15775457767629247,
          -0.8264621718797414,
          -1.2006553269313285,
          -0.942889313612981,
          -1.56754839305474,
          0.5991803867711081,
          -0.38152555293429086,
          -2.1007726559392372,
          -0.17764077846774926,
          -1.2194784693211722,
          0.10525986908387237,
          -0.2759936902369652,
          1.797264068757335,
          -0.9064375293266415,
          -0.631599001198882,
          -0.23606505737488173,
          1.0464383207469847,
          0.7484508615287344,
          -0.6868827872993668,
          -1.2731841825690051,
          0.3194899183878682,
          -0.5449673146027159,
          -1.3574624317646504,
          -1.2157416817511568,
          1.3517008068763363,
          -0.16665352151456828,
          1.4415162667781476,
          -1.9502344824506048,
          1.6216169341371227,
          -0.10540795403149338,
          -0.20377632024452383,
          -0.3845510088852165,
          -0.35362843346234274,
          0.8547599515179909,
          0.4289986468411021,
          0.1426696706224036,
          -1.2294521706700443,
          1.340608730573424,
          -1.6643780335315081,
          0.5844734285376947,
          -0.4966543147921046,
          -0.22723137508522312,
          -1.2264747131258893,
          1.3182194186252083,
          -0.35775241673320024,
          -1.993955115142308,
          0.16731377579434287,
          -0.9746819259679719,
          -1.1010662431715916,
          1.1333955819748986,
          0.7865551264976777,
          -1.1033582478114714,
          0.27667325585704156,
          0.973013539999785,
          0.7472477246538872,
          0.5806588401418527,
          -0.9440690142746736,
          -0.7091314809087226,
          0.8292023335822314,
          -0.3111960484538863,
          -0.38686078242812555,
          -0.6731284700541769,
          -0.18278367881869112,
          -0.014898819710800332,
          0.994963349206386,
          0.5947018519682341,
          -0.6109611236269217,
          -0.18192401819093953,
          -1.5289530012851809,
          0.42490151621141736
         ],
         "xaxis": "x7",
         "y": [
          -1.2073839278312855,
          -0.8914152871341857,
          0.9122000538112298,
          0.6498066921507818,
          -0.00899612165220606,
          -0.5004526156800174,
          0.34729418384591637,
          0.15897743642567497,
          -0.21839432228170258,
          -0.49991139525442396,
          0.9610693389406737,
          0.5618914806405604,
          1.201558960930769,
          -0.2273238288028599,
          1.1138543091175164,
          -1.0868005540326964,
          -1.1715605560090836,
          0.9003730719574612,
          0.03682778941603213,
          -0.15459482647855446,
          0.7221015269889887,
          0.38583033388373106,
          0.6543951885091118,
          0.040095597861937025,
          0.17972487983609023,
          0.28158447514524965,
          1.8330586456748375,
          -1.4855936550488982,
          -0.1883376767633526,
          1.0024422321628312,
          -0.9234550503192078,
          -0.11575204468620277,
          -0.6234014385670065,
          0.9415011286362762,
          -1.0517190719433238,
          2.0515592254487953,
          -0.2580451508330001,
          -0.5150870104052806,
          0.09088235032580956,
          2.231352209037297,
          -0.15859836080583842,
          -0.9808380119046511,
          0.06323059919233626,
          -0.21106543250299467,
          -0.6576314663591996,
          0.09798213161331863,
          -0.24017783056310635,
          0.46385088321858264,
          0.256202641291782,
          1.5882261135642595,
          -0.49785387726708114,
          -2.996055335076067,
          1.0979391220131691,
          0.3627975014686308,
          -0.10786076072121988,
          0.0641227457433506,
          -0.5508234727964582,
          -0.4893642929797324,
          -0.01295655628743466,
          0.6364408498489723,
          -1.3445070194151048,
          -1.2060950265348032,
          -1.302017996699132,
          0.30575364739168376,
          1.1344522718513066,
          -0.40899495791668117,
          -0.1879338341978866,
          0.7701867136427122,
          -0.3142097601883405,
          0.3768390832801088,
          2.2322106533883845,
          -0.6105290427360885,
          0.12788746771461784,
          0.6964055162543205,
          1.188468028747178,
          -0.1983515900990588,
          -1.8987123602775557,
          -0.4467780747490587,
          -1.401342976649239,
          1.9570162473353976,
          -2.181136421012167,
          -1.1794166803130908,
          0.19599267454193595,
          0.7740325867092016,
          -1.0193643289430883,
          -0.023458044632571996,
          -1.7150708376874946,
          0.397417382762338,
          -0.7029977592823403,
          0.6311539886525172,
          -0.4145841586488041,
          -2.4197468703272453,
          -0.46942188535039864,
          0.5744298855541616,
          -0.29328939444327295,
          2.377437799872268,
          -1.7487701098601915,
          -0.7913451308489126,
          0.46738856275175306,
          -0.7480590074762296
         ],
         "yaxis": "y7"
        },
        {
         "line": {
          "color": "rgba(128, 128, 128, 1.0)",
          "dash": "solid",
          "shape": "linear",
          "width": 1.3
         },
         "marker": {
          "size": 2,
          "symbol": "circle"
         },
         "mode": "markers",
         "name": "B",
         "text": "",
         "type": "scatter",
         "x": [
          -0.24295250953129108,
          -0.12827460320049489,
          2.970659842989287,
          0.45974132419489866,
          1.164454090962472,
          -0.7314055252035659,
          -0.5449101561588183,
          0.5117415970268605,
          0.3278007948311033,
          -0.23231751877037987,
          1.7868831272568824,
          -1.4135055934875524,
          0.27151805904491494,
          -1.291461804230663,
          0.0012425086116985915,
          2.3664084647711676,
          -0.2622917058892799,
          -2.1388305857772507,
          0.8069542410959432,
          -0.07977536099207176,
          0.7792965860411794,
          0.332539459677594,
          -1.9558835131769172,
          0.3031224284283438,
          -0.4402398607893659,
          -0.7981297374939099,
          0.21206370073994354,
          -0.13652782875817018,
          -0.2917311459639741,
          -0.6619420533173175,
          1.7864338216191098,
          0.4483115694708084,
          -2.8045739317148044,
          -0.37269533039988884,
          -1.03369866435832,
          -0.5065170686228558,
          -0.04597809325360672,
          0.8981809317738958,
          -0.18926184697998172,
          1.0562327390292001,
          -0.7100215522540436,
          0.061721096304667315,
          0.24362661681457334,
          1.2909836539249675,
          -1.8796434891569094,
          0.057165226884120034,
          -1.5442289516993324,
          0.06749486486318663,
          -0.7303673126311082,
          -0.7818430070190294,
          0.3589530849234872,
          0.7869622437653797,
          0.24007604461641832,
          1.1430643912329008,
          -0.708957021897143,
          0.8924603531688191,
          -1.0308859395863692,
          2.346418484754605,
          0.3616548319479292,
          -0.8701918572925443,
          0.7089471483071063,
          -0.9070039750845411,
          -0.17459980432821243,
          0.6702844154161197,
          -1.6249452282300787,
          -1.010142157907602,
          1.53797174447603,
          1.1581519529551638,
          0.24262638010011067,
          0.24072869175425662,
          -0.7941179508060363,
          0.18743613295526848,
          -0.14935234363963534,
          0.5733263723397176,
          1.7615480990725936,
          -0.057318590974638366,
          0.7553419270425359,
          -0.7173722111539768,
          -2.3089432393271414,
          0.6247880749109848,
          0.3911263785508444,
          0.6800977316187646,
          0.31656288728706317,
          1.5833236603519991,
          0.21783726551960741,
          1.2109998478708084,
          0.06837885604751842,
          0.5884254784829538,
          0.6051255415707739,
          0.08791390277971288,
          2.1845592118278785,
          1.527814568834567,
          -1.327221452690222,
          0.5428786782866669,
          0.3806844088743656,
          -1.1559784367300785,
          -0.0117129741558672,
          0.2648788265299483,
          0.35506176003794576,
          0.2318232594759154
         ],
         "xaxis": "x8",
         "y": [
          -1.2073839278312855,
          -0.8914152871341857,
          0.9122000538112298,
          0.6498066921507818,
          -0.00899612165220606,
          -0.5004526156800174,
          0.34729418384591637,
          0.15897743642567497,
          -0.21839432228170258,
          -0.49991139525442396,
          0.9610693389406737,
          0.5618914806405604,
          1.201558960930769,
          -0.2273238288028599,
          1.1138543091175164,
          -1.0868005540326964,
          -1.1715605560090836,
          0.9003730719574612,
          0.03682778941603213,
          -0.15459482647855446,
          0.7221015269889887,
          0.38583033388373106,
          0.6543951885091118,
          0.040095597861937025,
          0.17972487983609023,
          0.28158447514524965,
          1.8330586456748375,
          -1.4855936550488982,
          -0.1883376767633526,
          1.0024422321628312,
          -0.9234550503192078,
          -0.11575204468620277,
          -0.6234014385670065,
          0.9415011286362762,
          -1.0517190719433238,
          2.0515592254487953,
          -0.2580451508330001,
          -0.5150870104052806,
          0.09088235032580956,
          2.231352209037297,
          -0.15859836080583842,
          -0.9808380119046511,
          0.06323059919233626,
          -0.21106543250299467,
          -0.6576314663591996,
          0.09798213161331863,
          -0.24017783056310635,
          0.46385088321858264,
          0.256202641291782,
          1.5882261135642595,
          -0.49785387726708114,
          -2.996055335076067,
          1.0979391220131691,
          0.3627975014686308,
          -0.10786076072121988,
          0.0641227457433506,
          -0.5508234727964582,
          -0.4893642929797324,
          -0.01295655628743466,
          0.6364408498489723,
          -1.3445070194151048,
          -1.2060950265348032,
          -1.302017996699132,
          0.30575364739168376,
          1.1344522718513066,
          -0.40899495791668117,
          -0.1879338341978866,
          0.7701867136427122,
          -0.3142097601883405,
          0.3768390832801088,
          2.2322106533883845,
          -0.6105290427360885,
          0.12788746771461784,
          0.6964055162543205,
          1.188468028747178,
          -0.1983515900990588,
          -1.8987123602775557,
          -0.4467780747490587,
          -1.401342976649239,
          1.9570162473353976,
          -2.181136421012167,
          -1.1794166803130908,
          0.19599267454193595,
          0.7740325867092016,
          -1.0193643289430883,
          -0.023458044632571996,
          -1.7150708376874946,
          0.397417382762338,
          -0.7029977592823403,
          0.6311539886525172,
          -0.4145841586488041,
          -2.4197468703272453,
          -0.46942188535039864,
          0.5744298855541616,
          -0.29328939444327295,
          2.377437799872268,
          -1.7487701098601915,
          -0.7913451308489126,
          0.46738856275175306,
          -0.7480590074762296
         ],
         "yaxis": "y8"
        },
        {
         "line": {
          "color": "rgba(128, 128, 128, 1.0)",
          "dash": "solid",
          "shape": "linear",
          "width": 1.3
         },
         "marker": {
          "size": 2,
          "symbol": "circle"
         },
         "mode": "markers",
         "name": "C",
         "text": "",
         "type": "scatter",
         "x": [
          -0.6889956521739307,
          -0.10998876634393508,
          0.09699922766269028,
          -0.8808256190850161,
          2.2172396213269425,
          -0.5181556954513972,
          0.044220521243459814,
          -0.6182983871486031,
          0.5035632820391117,
          -1.9735185015594627,
          -1.1226476322836956,
          -0.033709732199987,
          -0.47506049831864783,
          0.4062401342415919,
          -0.8298431157254298,
          0.6484928745668593,
          -0.8484283621195674,
          -0.11478932596098841,
          0.4156464856047231,
          -1.2044313934808315,
          -0.7377218812849837,
          -0.3530399705530779,
          -1.2354471686035418,
          1.415323768152012,
          0.03667147351896974,
          1.3757424357499963,
          -0.6204186792444727,
          0.32246037711615533,
          0.7176758702542765,
          -0.08952871392329798,
          -1.9115942832046897,
          0.6464809271333035,
          0.25280282897385653,
          -0.3030241591898929,
          0.13348160896768804,
          1.7778329413926857,
          -0.2706982328639064,
          0.174223288645667,
          -0.6443864622112773,
          0.05767854227106527,
          0.9359769594187413,
          -0.2108110112579468,
          0.7232976098150298,
          0.13782196537317143,
          0.1965086400798674,
          -0.35595137558340306,
          0.19120368500211257,
          1.190555681945383,
          0.29840087375121377,
          1.709979954740142,
          -2.448437868821938,
          0.23410079150844357,
          0.433512903693733,
          1.9187512221029763,
          0.34796679107170425,
          0.28328638799105765,
          0.44287235575880485,
          -0.7266976761259687,
          0.3816684048555259,
          -0.8004660246613597,
          -0.06094814916289371,
          -0.48342674827606424,
          0.8255274909549741,
          -0.10068957109932336,
          -2.172269351419027,
          -0.7422295876820347,
          -1.235546393094691,
          -1.2995927217470409,
          -0.684511063368568,
          0.9958837433328543,
          -3.1991579221704414,
          1.1793687045818502,
          -0.319124939743108,
          0.8491143895203022,
          -1.1359643999435747,
          -0.5865615969649363,
          -0.19172108517410447,
          -0.30362087781243813,
          -0.03695050115199503,
          0.9785928191618193,
          2.0128678073383885,
          0.5639780665112403,
          -1.7990312710673546,
          -1.114647156508601,
          0.2947390593870421,
          0.3690855749682276,
          0.25285277904826237,
          2.1287882496107553,
          0.08504298776070535,
          0.2704915897148827,
          -1.039195748914558,
          0.5889777880510121,
          0.9996470311558219,
          0.9065031222001652,
          -0.7944687044530946,
          -0.4705706405607836,
          -0.07239019799691816,
          0.017726005413281606,
          -1.640842578699129,
          -0.9970442281743205
         ],
         "xaxis": "x9",
         "y": [
          1.3572538079600367,
          0.3889542079424232,
          -0.2204280148649024,
          0.32794825283187407,
          -0.10267501810924519,
          0.37705374699585775,
          -0.20890151330780896,
          0.626243751571112,
          -1.8088289714837196,
          1.7252388502558291,
          0.48997474380667844,
          -1.9362219967236907,
          -0.1422968206402504,
          -0.15206945627461832,
          0.6214115109313594,
          -1.4615512777347377,
          -0.14958636372797185,
          0.35745921397008423,
          0.8357978106910908,
          -0.7470122961155502,
          -0.06157342593553133,
          1.312233513749872,
          0.5053341867761568,
          -0.20129983771528723,
          -1.032376489695527,
          -0.5013128056656442,
          -1.4043921119107579,
          -0.6391851582191036,
          -1.7698996934746816,
          -0.04957301282581744,
          -0.15775457767629247,
          -0.8264621718797414,
          -1.2006553269313285,
          -0.942889313612981,
          -1.56754839305474,
          0.5991803867711081,
          -0.38152555293429086,
          -2.1007726559392372,
          -0.17764077846774926,
          -1.2194784693211722,
          0.10525986908387237,
          -0.2759936902369652,
          1.797264068757335,
          -0.9064375293266415,
          -0.631599001198882,
          -0.23606505737488173,
          1.0464383207469847,
          0.7484508615287344,
          -0.6868827872993668,
          -1.2731841825690051,
          0.3194899183878682,
          -0.5449673146027159,
          -1.3574624317646504,
          -1.2157416817511568,
          1.3517008068763363,
          -0.16665352151456828,
          1.4415162667781476,
          -1.9502344824506048,
          1.6216169341371227,
          -0.10540795403149338,
          -0.20377632024452383,
          -0.3845510088852165,
          -0.35362843346234274,
          0.8547599515179909,
          0.4289986468411021,
          0.1426696706224036,
          -1.2294521706700443,
          1.340608730573424,
          -1.6643780335315081,
          0.5844734285376947,
          -0.4966543147921046,
          -0.22723137508522312,
          -1.2264747131258893,
          1.3182194186252083,
          -0.35775241673320024,
          -1.993955115142308,
          0.16731377579434287,
          -0.9746819259679719,
          -1.1010662431715916,
          1.1333955819748986,
          0.7865551264976777,
          -1.1033582478114714,
          0.27667325585704156,
          0.973013539999785,
          0.7472477246538872,
          0.5806588401418527,
          -0.9440690142746736,
          -0.7091314809087226,
          0.8292023335822314,
          -0.3111960484538863,
          -0.38686078242812555,
          -0.6731284700541769,
          -0.18278367881869112,
          -0.014898819710800332,
          0.994963349206386,
          0.5947018519682341,
          -0.6109611236269217,
          -0.18192401819093953,
          -1.5289530012851809,
          0.42490151621141736
         ],
         "yaxis": "y9"
        },
        {
         "line": {
          "color": "rgba(128, 128, 128, 1.0)",
          "dash": "solid",
          "shape": "linear",
          "width": 1.3
         },
         "marker": {
          "size": 2,
          "symbol": "circle"
         },
         "mode": "markers",
         "name": "C",
         "text": "",
         "type": "scatter",
         "x": [
          -1.2073839278312855,
          -0.8914152871341857,
          0.9122000538112298,
          0.6498066921507818,
          -0.00899612165220606,
          -0.5004526156800174,
          0.34729418384591637,
          0.15897743642567497,
          -0.21839432228170258,
          -0.49991139525442396,
          0.9610693389406737,
          0.5618914806405604,
          1.201558960930769,
          -0.2273238288028599,
          1.1138543091175164,
          -1.0868005540326964,
          -1.1715605560090836,
          0.9003730719574612,
          0.03682778941603213,
          -0.15459482647855446,
          0.7221015269889887,
          0.38583033388373106,
          0.6543951885091118,
          0.040095597861937025,
          0.17972487983609023,
          0.28158447514524965,
          1.8330586456748375,
          -1.4855936550488982,
          -0.1883376767633526,
          1.0024422321628312,
          -0.9234550503192078,
          -0.11575204468620277,
          -0.6234014385670065,
          0.9415011286362762,
          -1.0517190719433238,
          2.0515592254487953,
          -0.2580451508330001,
          -0.5150870104052806,
          0.09088235032580956,
          2.231352209037297,
          -0.15859836080583842,
          -0.9808380119046511,
          0.06323059919233626,
          -0.21106543250299467,
          -0.6576314663591996,
          0.09798213161331863,
          -0.24017783056310635,
          0.46385088321858264,
          0.256202641291782,
          1.5882261135642595,
          -0.49785387726708114,
          -2.996055335076067,
          1.0979391220131691,
          0.3627975014686308,
          -0.10786076072121988,
          0.0641227457433506,
          -0.5508234727964582,
          -0.4893642929797324,
          -0.01295655628743466,
          0.6364408498489723,
          -1.3445070194151048,
          -1.2060950265348032,
          -1.302017996699132,
          0.30575364739168376,
          1.1344522718513066,
          -0.40899495791668117,
          -0.1879338341978866,
          0.7701867136427122,
          -0.3142097601883405,
          0.3768390832801088,
          2.2322106533883845,
          -0.6105290427360885,
          0.12788746771461784,
          0.6964055162543205,
          1.188468028747178,
          -0.1983515900990588,
          -1.8987123602775557,
          -0.4467780747490587,
          -1.401342976649239,
          1.9570162473353976,
          -2.181136421012167,
          -1.1794166803130908,
          0.19599267454193595,
          0.7740325867092016,
          -1.0193643289430883,
          -0.023458044632571996,
          -1.7150708376874946,
          0.397417382762338,
          -0.7029977592823403,
          0.6311539886525172,
          -0.4145841586488041,
          -2.4197468703272453,
          -0.46942188535039864,
          0.5744298855541616,
          -0.29328939444327295,
          2.377437799872268,
          -1.7487701098601915,
          -0.7913451308489126,
          0.46738856275175306,
          -0.7480590074762296
         ],
         "xaxis": "x10",
         "y": [
          1.3572538079600367,
          0.3889542079424232,
          -0.2204280148649024,
          0.32794825283187407,
          -0.10267501810924519,
          0.37705374699585775,
          -0.20890151330780896,
          0.626243751571112,
          -1.8088289714837196,
          1.7252388502558291,
          0.48997474380667844,
          -1.9362219967236907,
          -0.1422968206402504,
          -0.15206945627461832,
          0.6214115109313594,
          -1.4615512777347377,
          -0.14958636372797185,
          0.35745921397008423,
          0.8357978106910908,
          -0.7470122961155502,
          -0.06157342593553133,
          1.312233513749872,
          0.5053341867761568,
          -0.20129983771528723,
          -1.032376489695527,
          -0.5013128056656442,
          -1.4043921119107579,
          -0.6391851582191036,
          -1.7698996934746816,
          -0.04957301282581744,
          -0.15775457767629247,
          -0.8264621718797414,
          -1.2006553269313285,
          -0.942889313612981,
          -1.56754839305474,
          0.5991803867711081,
          -0.38152555293429086,
          -2.1007726559392372,
          -0.17764077846774926,
          -1.2194784693211722,
          0.10525986908387237,
          -0.2759936902369652,
          1.797264068757335,
          -0.9064375293266415,
          -0.631599001198882,
          -0.23606505737488173,
          1.0464383207469847,
          0.7484508615287344,
          -0.6868827872993668,
          -1.2731841825690051,
          0.3194899183878682,
          -0.5449673146027159,
          -1.3574624317646504,
          -1.2157416817511568,
          1.3517008068763363,
          -0.16665352151456828,
          1.4415162667781476,
          -1.9502344824506048,
          1.6216169341371227,
          -0.10540795403149338,
          -0.20377632024452383,
          -0.3845510088852165,
          -0.35362843346234274,
          0.8547599515179909,
          0.4289986468411021,
          0.1426696706224036,
          -1.2294521706700443,
          1.340608730573424,
          -1.6643780335315081,
          0.5844734285376947,
          -0.4966543147921046,
          -0.22723137508522312,
          -1.2264747131258893,
          1.3182194186252083,
          -0.35775241673320024,
          -1.993955115142308,
          0.16731377579434287,
          -0.9746819259679719,
          -1.1010662431715916,
          1.1333955819748986,
          0.7865551264976777,
          -1.1033582478114714,
          0.27667325585704156,
          0.973013539999785,
          0.7472477246538872,
          0.5806588401418527,
          -0.9440690142746736,
          -0.7091314809087226,
          0.8292023335822314,
          -0.3111960484538863,
          -0.38686078242812555,
          -0.6731284700541769,
          -0.18278367881869112,
          -0.014898819710800332,
          0.994963349206386,
          0.5947018519682341,
          -0.6109611236269217,
          -0.18192401819093953,
          -1.5289530012851809,
          0.42490151621141736
         ],
         "yaxis": "y10"
        },
        {
         "histfunc": "count",
         "histnorm": "",
         "marker": {
          "color": "rgba(50, 171, 96, 1.0)",
          "line": {
           "color": "#4D5663",
           "width": 1.3
          }
         },
         "name": "C",
         "nbinsx": 10,
         "opacity": 0.8,
         "orientation": "v",
         "type": "histogram",
         "x": [
          1.3572538079600367,
          0.3889542079424232,
          -0.2204280148649024,
          0.32794825283187407,
          -0.10267501810924519,
          0.37705374699585775,
          -0.20890151330780896,
          0.626243751571112,
          -1.8088289714837196,
          1.7252388502558291,
          0.48997474380667844,
          -1.9362219967236907,
          -0.1422968206402504,
          -0.15206945627461832,
          0.6214115109313594,
          -1.4615512777347377,
          -0.14958636372797185,
          0.35745921397008423,
          0.8357978106910908,
          -0.7470122961155502,
          -0.06157342593553133,
          1.312233513749872,
          0.5053341867761568,
          -0.20129983771528723,
          -1.032376489695527,
          -0.5013128056656442,
          -1.4043921119107579,
          -0.6391851582191036,
          -1.7698996934746816,
          -0.04957301282581744,
          -0.15775457767629247,
          -0.8264621718797414,
          -1.2006553269313285,
          -0.942889313612981,
          -1.56754839305474,
          0.5991803867711081,
          -0.38152555293429086,
          -2.1007726559392372,
          -0.17764077846774926,
          -1.2194784693211722,
          0.10525986908387237,
          -0.2759936902369652,
          1.797264068757335,
          -0.9064375293266415,
          -0.631599001198882,
          -0.23606505737488173,
          1.0464383207469847,
          0.7484508615287344,
          -0.6868827872993668,
          -1.2731841825690051,
          0.3194899183878682,
          -0.5449673146027159,
          -1.3574624317646504,
          -1.2157416817511568,
          1.3517008068763363,
          -0.16665352151456828,
          1.4415162667781476,
          -1.9502344824506048,
          1.6216169341371227,
          -0.10540795403149338,
          -0.20377632024452383,
          -0.3845510088852165,
          -0.35362843346234274,
          0.8547599515179909,
          0.4289986468411021,
          0.1426696706224036,
          -1.2294521706700443,
          1.340608730573424,
          -1.6643780335315081,
          0.5844734285376947,
          -0.4966543147921046,
          -0.22723137508522312,
          -1.2264747131258893,
          1.3182194186252083,
          -0.35775241673320024,
          -1.993955115142308,
          0.16731377579434287,
          -0.9746819259679719,
          -1.1010662431715916,
          1.1333955819748986,
          0.7865551264976777,
          -1.1033582478114714,
          0.27667325585704156,
          0.973013539999785,
          0.7472477246538872,
          0.5806588401418527,
          -0.9440690142746736,
          -0.7091314809087226,
          0.8292023335822314,
          -0.3111960484538863,
          -0.38686078242812555,
          -0.6731284700541769,
          -0.18278367881869112,
          -0.014898819710800332,
          0.994963349206386,
          0.5947018519682341,
          -0.6109611236269217,
          -0.18192401819093953,
          -1.5289530012851809,
          0.42490151621141736
         ],
         "xaxis": "x11",
         "yaxis": "y11"
        },
        {
         "line": {
          "color": "rgba(128, 128, 128, 1.0)",
          "dash": "solid",
          "shape": "linear",
          "width": 1.3
         },
         "marker": {
          "size": 2,
          "symbol": "circle"
         },
         "mode": "markers",
         "name": "C",
         "text": "",
         "type": "scatter",
         "x": [
          -0.24295250953129108,
          -0.12827460320049489,
          2.970659842989287,
          0.45974132419489866,
          1.164454090962472,
          -0.7314055252035659,
          -0.5449101561588183,
          0.5117415970268605,
          0.3278007948311033,
          -0.23231751877037987,
          1.7868831272568824,
          -1.4135055934875524,
          0.27151805904491494,
          -1.291461804230663,
          0.0012425086116985915,
          2.3664084647711676,
          -0.2622917058892799,
          -2.1388305857772507,
          0.8069542410959432,
          -0.07977536099207176,
          0.7792965860411794,
          0.332539459677594,
          -1.9558835131769172,
          0.3031224284283438,
          -0.4402398607893659,
          -0.7981297374939099,
          0.21206370073994354,
          -0.13652782875817018,
          -0.2917311459639741,
          -0.6619420533173175,
          1.7864338216191098,
          0.4483115694708084,
          -2.8045739317148044,
          -0.37269533039988884,
          -1.03369866435832,
          -0.5065170686228558,
          -0.04597809325360672,
          0.8981809317738958,
          -0.18926184697998172,
          1.0562327390292001,
          -0.7100215522540436,
          0.061721096304667315,
          0.24362661681457334,
          1.2909836539249675,
          -1.8796434891569094,
          0.057165226884120034,
          -1.5442289516993324,
          0.06749486486318663,
          -0.7303673126311082,
          -0.7818430070190294,
          0.3589530849234872,
          0.7869622437653797,
          0.24007604461641832,
          1.1430643912329008,
          -0.708957021897143,
          0.8924603531688191,
          -1.0308859395863692,
          2.346418484754605,
          0.3616548319479292,
          -0.8701918572925443,
          0.7089471483071063,
          -0.9070039750845411,
          -0.17459980432821243,
          0.6702844154161197,
          -1.6249452282300787,
          -1.010142157907602,
          1.53797174447603,
          1.1581519529551638,
          0.24262638010011067,
          0.24072869175425662,
          -0.7941179508060363,
          0.18743613295526848,
          -0.14935234363963534,
          0.5733263723397176,
          1.7615480990725936,
          -0.057318590974638366,
          0.7553419270425359,
          -0.7173722111539768,
          -2.3089432393271414,
          0.6247880749109848,
          0.3911263785508444,
          0.6800977316187646,
          0.31656288728706317,
          1.5833236603519991,
          0.21783726551960741,
          1.2109998478708084,
          0.06837885604751842,
          0.5884254784829538,
          0.6051255415707739,
          0.08791390277971288,
          2.1845592118278785,
          1.527814568834567,
          -1.327221452690222,
          0.5428786782866669,
          0.3806844088743656,
          -1.1559784367300785,
          -0.0117129741558672,
          0.2648788265299483,
          0.35506176003794576,
          0.2318232594759154
         ],
         "xaxis": "x12",
         "y": [
          1.3572538079600367,
          0.3889542079424232,
          -0.2204280148649024,
          0.32794825283187407,
          -0.10267501810924519,
          0.37705374699585775,
          -0.20890151330780896,
          0.626243751571112,
          -1.8088289714837196,
          1.7252388502558291,
          0.48997474380667844,
          -1.9362219967236907,
          -0.1422968206402504,
          -0.15206945627461832,
          0.6214115109313594,
          -1.4615512777347377,
          -0.14958636372797185,
          0.35745921397008423,
          0.8357978106910908,
          -0.7470122961155502,
          -0.06157342593553133,
          1.312233513749872,
          0.5053341867761568,
          -0.20129983771528723,
          -1.032376489695527,
          -0.5013128056656442,
          -1.4043921119107579,
          -0.6391851582191036,
          -1.7698996934746816,
          -0.04957301282581744,
          -0.15775457767629247,
          -0.8264621718797414,
          -1.2006553269313285,
          -0.942889313612981,
          -1.56754839305474,
          0.5991803867711081,
          -0.38152555293429086,
          -2.1007726559392372,
          -0.17764077846774926,
          -1.2194784693211722,
          0.10525986908387237,
          -0.2759936902369652,
          1.797264068757335,
          -0.9064375293266415,
          -0.631599001198882,
          -0.23606505737488173,
          1.0464383207469847,
          0.7484508615287344,
          -0.6868827872993668,
          -1.2731841825690051,
          0.3194899183878682,
          -0.5449673146027159,
          -1.3574624317646504,
          -1.2157416817511568,
          1.3517008068763363,
          -0.16665352151456828,
          1.4415162667781476,
          -1.9502344824506048,
          1.6216169341371227,
          -0.10540795403149338,
          -0.20377632024452383,
          -0.3845510088852165,
          -0.35362843346234274,
          0.8547599515179909,
          0.4289986468411021,
          0.1426696706224036,
          -1.2294521706700443,
          1.340608730573424,
          -1.6643780335315081,
          0.5844734285376947,
          -0.4966543147921046,
          -0.22723137508522312,
          -1.2264747131258893,
          1.3182194186252083,
          -0.35775241673320024,
          -1.993955115142308,
          0.16731377579434287,
          -0.9746819259679719,
          -1.1010662431715916,
          1.1333955819748986,
          0.7865551264976777,
          -1.1033582478114714,
          0.27667325585704156,
          0.973013539999785,
          0.7472477246538872,
          0.5806588401418527,
          -0.9440690142746736,
          -0.7091314809087226,
          0.8292023335822314,
          -0.3111960484538863,
          -0.38686078242812555,
          -0.6731284700541769,
          -0.18278367881869112,
          -0.014898819710800332,
          0.994963349206386,
          0.5947018519682341,
          -0.6109611236269217,
          -0.18192401819093953,
          -1.5289530012851809,
          0.42490151621141736
         ],
         "yaxis": "y12"
        },
        {
         "line": {
          "color": "rgba(128, 128, 128, 1.0)",
          "dash": "solid",
          "shape": "linear",
          "width": 1.3
         },
         "marker": {
          "size": 2,
          "symbol": "circle"
         },
         "mode": "markers",
         "name": "D",
         "text": "",
         "type": "scatter",
         "x": [
          -0.6889956521739307,
          -0.10998876634393508,
          0.09699922766269028,
          -0.8808256190850161,
          2.2172396213269425,
          -0.5181556954513972,
          0.044220521243459814,
          -0.6182983871486031,
          0.5035632820391117,
          -1.9735185015594627,
          -1.1226476322836956,
          -0.033709732199987,
          -0.47506049831864783,
          0.4062401342415919,
          -0.8298431157254298,
          0.6484928745668593,
          -0.8484283621195674,
          -0.11478932596098841,
          0.4156464856047231,
          -1.2044313934808315,
          -0.7377218812849837,
          -0.3530399705530779,
          -1.2354471686035418,
          1.415323768152012,
          0.03667147351896974,
          1.3757424357499963,
          -0.6204186792444727,
          0.32246037711615533,
          0.7176758702542765,
          -0.08952871392329798,
          -1.9115942832046897,
          0.6464809271333035,
          0.25280282897385653,
          -0.3030241591898929,
          0.13348160896768804,
          1.7778329413926857,
          -0.2706982328639064,
          0.174223288645667,
          -0.6443864622112773,
          0.05767854227106527,
          0.9359769594187413,
          -0.2108110112579468,
          0.7232976098150298,
          0.13782196537317143,
          0.1965086400798674,
          -0.35595137558340306,
          0.19120368500211257,
          1.190555681945383,
          0.29840087375121377,
          1.709979954740142,
          -2.448437868821938,
          0.23410079150844357,
          0.433512903693733,
          1.9187512221029763,
          0.34796679107170425,
          0.28328638799105765,
          0.44287235575880485,
          -0.7266976761259687,
          0.3816684048555259,
          -0.8004660246613597,
          -0.06094814916289371,
          -0.48342674827606424,
          0.8255274909549741,
          -0.10068957109932336,
          -2.172269351419027,
          -0.7422295876820347,
          -1.235546393094691,
          -1.2995927217470409,
          -0.684511063368568,
          0.9958837433328543,
          -3.1991579221704414,
          1.1793687045818502,
          -0.319124939743108,
          0.8491143895203022,
          -1.1359643999435747,
          -0.5865615969649363,
          -0.19172108517410447,
          -0.30362087781243813,
          -0.03695050115199503,
          0.9785928191618193,
          2.0128678073383885,
          0.5639780665112403,
          -1.7990312710673546,
          -1.114647156508601,
          0.2947390593870421,
          0.3690855749682276,
          0.25285277904826237,
          2.1287882496107553,
          0.08504298776070535,
          0.2704915897148827,
          -1.039195748914558,
          0.5889777880510121,
          0.9996470311558219,
          0.9065031222001652,
          -0.7944687044530946,
          -0.4705706405607836,
          -0.07239019799691816,
          0.017726005413281606,
          -1.640842578699129,
          -0.9970442281743205
         ],
         "xaxis": "x13",
         "y": [
          -0.24295250953129108,
          -0.12827460320049489,
          2.970659842989287,
          0.45974132419489866,
          1.164454090962472,
          -0.7314055252035659,
          -0.5449101561588183,
          0.5117415970268605,
          0.3278007948311033,
          -0.23231751877037987,
          1.7868831272568824,
          -1.4135055934875524,
          0.27151805904491494,
          -1.291461804230663,
          0.0012425086116985915,
          2.3664084647711676,
          -0.2622917058892799,
          -2.1388305857772507,
          0.8069542410959432,
          -0.07977536099207176,
          0.7792965860411794,
          0.332539459677594,
          -1.9558835131769172,
          0.3031224284283438,
          -0.4402398607893659,
          -0.7981297374939099,
          0.21206370073994354,
          -0.13652782875817018,
          -0.2917311459639741,
          -0.6619420533173175,
          1.7864338216191098,
          0.4483115694708084,
          -2.8045739317148044,
          -0.37269533039988884,
          -1.03369866435832,
          -0.5065170686228558,
          -0.04597809325360672,
          0.8981809317738958,
          -0.18926184697998172,
          1.0562327390292001,
          -0.7100215522540436,
          0.061721096304667315,
          0.24362661681457334,
          1.2909836539249675,
          -1.8796434891569094,
          0.057165226884120034,
          -1.5442289516993324,
          0.06749486486318663,
          -0.7303673126311082,
          -0.7818430070190294,
          0.3589530849234872,
          0.7869622437653797,
          0.24007604461641832,
          1.1430643912329008,
          -0.708957021897143,
          0.8924603531688191,
          -1.0308859395863692,
          2.346418484754605,
          0.3616548319479292,
          -0.8701918572925443,
          0.7089471483071063,
          -0.9070039750845411,
          -0.17459980432821243,
          0.6702844154161197,
          -1.6249452282300787,
          -1.010142157907602,
          1.53797174447603,
          1.1581519529551638,
          0.24262638010011067,
          0.24072869175425662,
          -0.7941179508060363,
          0.18743613295526848,
          -0.14935234363963534,
          0.5733263723397176,
          1.7615480990725936,
          -0.057318590974638366,
          0.7553419270425359,
          -0.7173722111539768,
          -2.3089432393271414,
          0.6247880749109848,
          0.3911263785508444,
          0.6800977316187646,
          0.31656288728706317,
          1.5833236603519991,
          0.21783726551960741,
          1.2109998478708084,
          0.06837885604751842,
          0.5884254784829538,
          0.6051255415707739,
          0.08791390277971288,
          2.1845592118278785,
          1.527814568834567,
          -1.327221452690222,
          0.5428786782866669,
          0.3806844088743656,
          -1.1559784367300785,
          -0.0117129741558672,
          0.2648788265299483,
          0.35506176003794576,
          0.2318232594759154
         ],
         "yaxis": "y13"
        },
        {
         "line": {
          "color": "rgba(128, 128, 128, 1.0)",
          "dash": "solid",
          "shape": "linear",
          "width": 1.3
         },
         "marker": {
          "size": 2,
          "symbol": "circle"
         },
         "mode": "markers",
         "name": "D",
         "text": "",
         "type": "scatter",
         "x": [
          -1.2073839278312855,
          -0.8914152871341857,
          0.9122000538112298,
          0.6498066921507818,
          -0.00899612165220606,
          -0.5004526156800174,
          0.34729418384591637,
          0.15897743642567497,
          -0.21839432228170258,
          -0.49991139525442396,
          0.9610693389406737,
          0.5618914806405604,
          1.201558960930769,
          -0.2273238288028599,
          1.1138543091175164,
          -1.0868005540326964,
          -1.1715605560090836,
          0.9003730719574612,
          0.03682778941603213,
          -0.15459482647855446,
          0.7221015269889887,
          0.38583033388373106,
          0.6543951885091118,
          0.040095597861937025,
          0.17972487983609023,
          0.28158447514524965,
          1.8330586456748375,
          -1.4855936550488982,
          -0.1883376767633526,
          1.0024422321628312,
          -0.9234550503192078,
          -0.11575204468620277,
          -0.6234014385670065,
          0.9415011286362762,
          -1.0517190719433238,
          2.0515592254487953,
          -0.2580451508330001,
          -0.5150870104052806,
          0.09088235032580956,
          2.231352209037297,
          -0.15859836080583842,
          -0.9808380119046511,
          0.06323059919233626,
          -0.21106543250299467,
          -0.6576314663591996,
          0.09798213161331863,
          -0.24017783056310635,
          0.46385088321858264,
          0.256202641291782,
          1.5882261135642595,
          -0.49785387726708114,
          -2.996055335076067,
          1.0979391220131691,
          0.3627975014686308,
          -0.10786076072121988,
          0.0641227457433506,
          -0.5508234727964582,
          -0.4893642929797324,
          -0.01295655628743466,
          0.6364408498489723,
          -1.3445070194151048,
          -1.2060950265348032,
          -1.302017996699132,
          0.30575364739168376,
          1.1344522718513066,
          -0.40899495791668117,
          -0.1879338341978866,
          0.7701867136427122,
          -0.3142097601883405,
          0.3768390832801088,
          2.2322106533883845,
          -0.6105290427360885,
          0.12788746771461784,
          0.6964055162543205,
          1.188468028747178,
          -0.1983515900990588,
          -1.8987123602775557,
          -0.4467780747490587,
          -1.401342976649239,
          1.9570162473353976,
          -2.181136421012167,
          -1.1794166803130908,
          0.19599267454193595,
          0.7740325867092016,
          -1.0193643289430883,
          -0.023458044632571996,
          -1.7150708376874946,
          0.397417382762338,
          -0.7029977592823403,
          0.6311539886525172,
          -0.4145841586488041,
          -2.4197468703272453,
          -0.46942188535039864,
          0.5744298855541616,
          -0.29328939444327295,
          2.377437799872268,
          -1.7487701098601915,
          -0.7913451308489126,
          0.46738856275175306,
          -0.7480590074762296
         ],
         "xaxis": "x14",
         "y": [
          -0.24295250953129108,
          -0.12827460320049489,
          2.970659842989287,
          0.45974132419489866,
          1.164454090962472,
          -0.7314055252035659,
          -0.5449101561588183,
          0.5117415970268605,
          0.3278007948311033,
          -0.23231751877037987,
          1.7868831272568824,
          -1.4135055934875524,
          0.27151805904491494,
          -1.291461804230663,
          0.0012425086116985915,
          2.3664084647711676,
          -0.2622917058892799,
          -2.1388305857772507,
          0.8069542410959432,
          -0.07977536099207176,
          0.7792965860411794,
          0.332539459677594,
          -1.9558835131769172,
          0.3031224284283438,
          -0.4402398607893659,
          -0.7981297374939099,
          0.21206370073994354,
          -0.13652782875817018,
          -0.2917311459639741,
          -0.6619420533173175,
          1.7864338216191098,
          0.4483115694708084,
          -2.8045739317148044,
          -0.37269533039988884,
          -1.03369866435832,
          -0.5065170686228558,
          -0.04597809325360672,
          0.8981809317738958,
          -0.18926184697998172,
          1.0562327390292001,
          -0.7100215522540436,
          0.061721096304667315,
          0.24362661681457334,
          1.2909836539249675,
          -1.8796434891569094,
          0.057165226884120034,
          -1.5442289516993324,
          0.06749486486318663,
          -0.7303673126311082,
          -0.7818430070190294,
          0.3589530849234872,
          0.7869622437653797,
          0.24007604461641832,
          1.1430643912329008,
          -0.708957021897143,
          0.8924603531688191,
          -1.0308859395863692,
          2.346418484754605,
          0.3616548319479292,
          -0.8701918572925443,
          0.7089471483071063,
          -0.9070039750845411,
          -0.17459980432821243,
          0.6702844154161197,
          -1.6249452282300787,
          -1.010142157907602,
          1.53797174447603,
          1.1581519529551638,
          0.24262638010011067,
          0.24072869175425662,
          -0.7941179508060363,
          0.18743613295526848,
          -0.14935234363963534,
          0.5733263723397176,
          1.7615480990725936,
          -0.057318590974638366,
          0.7553419270425359,
          -0.7173722111539768,
          -2.3089432393271414,
          0.6247880749109848,
          0.3911263785508444,
          0.6800977316187646,
          0.31656288728706317,
          1.5833236603519991,
          0.21783726551960741,
          1.2109998478708084,
          0.06837885604751842,
          0.5884254784829538,
          0.6051255415707739,
          0.08791390277971288,
          2.1845592118278785,
          1.527814568834567,
          -1.327221452690222,
          0.5428786782866669,
          0.3806844088743656,
          -1.1559784367300785,
          -0.0117129741558672,
          0.2648788265299483,
          0.35506176003794576,
          0.2318232594759154
         ],
         "yaxis": "y14"
        },
        {
         "line": {
          "color": "rgba(128, 128, 128, 1.0)",
          "dash": "solid",
          "shape": "linear",
          "width": 1.3
         },
         "marker": {
          "size": 2,
          "symbol": "circle"
         },
         "mode": "markers",
         "name": "D",
         "text": "",
         "type": "scatter",
         "x": [
          1.3572538079600367,
          0.3889542079424232,
          -0.2204280148649024,
          0.32794825283187407,
          -0.10267501810924519,
          0.37705374699585775,
          -0.20890151330780896,
          0.626243751571112,
          -1.8088289714837196,
          1.7252388502558291,
          0.48997474380667844,
          -1.9362219967236907,
          -0.1422968206402504,
          -0.15206945627461832,
          0.6214115109313594,
          -1.4615512777347377,
          -0.14958636372797185,
          0.35745921397008423,
          0.8357978106910908,
          -0.7470122961155502,
          -0.06157342593553133,
          1.312233513749872,
          0.5053341867761568,
          -0.20129983771528723,
          -1.032376489695527,
          -0.5013128056656442,
          -1.4043921119107579,
          -0.6391851582191036,
          -1.7698996934746816,
          -0.04957301282581744,
          -0.15775457767629247,
          -0.8264621718797414,
          -1.2006553269313285,
          -0.942889313612981,
          -1.56754839305474,
          0.5991803867711081,
          -0.38152555293429086,
          -2.1007726559392372,
          -0.17764077846774926,
          -1.2194784693211722,
          0.10525986908387237,
          -0.2759936902369652,
          1.797264068757335,
          -0.9064375293266415,
          -0.631599001198882,
          -0.23606505737488173,
          1.0464383207469847,
          0.7484508615287344,
          -0.6868827872993668,
          -1.2731841825690051,
          0.3194899183878682,
          -0.5449673146027159,
          -1.3574624317646504,
          -1.2157416817511568,
          1.3517008068763363,
          -0.16665352151456828,
          1.4415162667781476,
          -1.9502344824506048,
          1.6216169341371227,
          -0.10540795403149338,
          -0.20377632024452383,
          -0.3845510088852165,
          -0.35362843346234274,
          0.8547599515179909,
          0.4289986468411021,
          0.1426696706224036,
          -1.2294521706700443,
          1.340608730573424,
          -1.6643780335315081,
          0.5844734285376947,
          -0.4966543147921046,
          -0.22723137508522312,
          -1.2264747131258893,
          1.3182194186252083,
          -0.35775241673320024,
          -1.993955115142308,
          0.16731377579434287,
          -0.9746819259679719,
          -1.1010662431715916,
          1.1333955819748986,
          0.7865551264976777,
          -1.1033582478114714,
          0.27667325585704156,
          0.973013539999785,
          0.7472477246538872,
          0.5806588401418527,
          -0.9440690142746736,
          -0.7091314809087226,
          0.8292023335822314,
          -0.3111960484538863,
          -0.38686078242812555,
          -0.6731284700541769,
          -0.18278367881869112,
          -0.014898819710800332,
          0.994963349206386,
          0.5947018519682341,
          -0.6109611236269217,
          -0.18192401819093953,
          -1.5289530012851809,
          0.42490151621141736
         ],
         "xaxis": "x15",
         "y": [
          -0.24295250953129108,
          -0.12827460320049489,
          2.970659842989287,
          0.45974132419489866,
          1.164454090962472,
          -0.7314055252035659,
          -0.5449101561588183,
          0.5117415970268605,
          0.3278007948311033,
          -0.23231751877037987,
          1.7868831272568824,
          -1.4135055934875524,
          0.27151805904491494,
          -1.291461804230663,
          0.0012425086116985915,
          2.3664084647711676,
          -0.2622917058892799,
          -2.1388305857772507,
          0.8069542410959432,
          -0.07977536099207176,
          0.7792965860411794,
          0.332539459677594,
          -1.9558835131769172,
          0.3031224284283438,
          -0.4402398607893659,
          -0.7981297374939099,
          0.21206370073994354,
          -0.13652782875817018,
          -0.2917311459639741,
          -0.6619420533173175,
          1.7864338216191098,
          0.4483115694708084,
          -2.8045739317148044,
          -0.37269533039988884,
          -1.03369866435832,
          -0.5065170686228558,
          -0.04597809325360672,
          0.8981809317738958,
          -0.18926184697998172,
          1.0562327390292001,
          -0.7100215522540436,
          0.061721096304667315,
          0.24362661681457334,
          1.2909836539249675,
          -1.8796434891569094,
          0.057165226884120034,
          -1.5442289516993324,
          0.06749486486318663,
          -0.7303673126311082,
          -0.7818430070190294,
          0.3589530849234872,
          0.7869622437653797,
          0.24007604461641832,
          1.1430643912329008,
          -0.708957021897143,
          0.8924603531688191,
          -1.0308859395863692,
          2.346418484754605,
          0.3616548319479292,
          -0.8701918572925443,
          0.7089471483071063,
          -0.9070039750845411,
          -0.17459980432821243,
          0.6702844154161197,
          -1.6249452282300787,
          -1.010142157907602,
          1.53797174447603,
          1.1581519529551638,
          0.24262638010011067,
          0.24072869175425662,
          -0.7941179508060363,
          0.18743613295526848,
          -0.14935234363963534,
          0.5733263723397176,
          1.7615480990725936,
          -0.057318590974638366,
          0.7553419270425359,
          -0.7173722111539768,
          -2.3089432393271414,
          0.6247880749109848,
          0.3911263785508444,
          0.6800977316187646,
          0.31656288728706317,
          1.5833236603519991,
          0.21783726551960741,
          1.2109998478708084,
          0.06837885604751842,
          0.5884254784829538,
          0.6051255415707739,
          0.08791390277971288,
          2.1845592118278785,
          1.527814568834567,
          -1.327221452690222,
          0.5428786782866669,
          0.3806844088743656,
          -1.1559784367300785,
          -0.0117129741558672,
          0.2648788265299483,
          0.35506176003794576,
          0.2318232594759154
         ],
         "yaxis": "y15"
        },
        {
         "histfunc": "count",
         "histnorm": "",
         "marker": {
          "color": "rgba(128, 0, 128, 1.0)",
          "line": {
           "color": "#4D5663",
           "width": 1.3
          }
         },
         "name": "D",
         "nbinsx": 10,
         "opacity": 0.8,
         "orientation": "v",
         "type": "histogram",
         "x": [
          -0.24295250953129108,
          -0.12827460320049489,
          2.970659842989287,
          0.45974132419489866,
          1.164454090962472,
          -0.7314055252035659,
          -0.5449101561588183,
          0.5117415970268605,
          0.3278007948311033,
          -0.23231751877037987,
          1.7868831272568824,
          -1.4135055934875524,
          0.27151805904491494,
          -1.291461804230663,
          0.0012425086116985915,
          2.3664084647711676,
          -0.2622917058892799,
          -2.1388305857772507,
          0.8069542410959432,
          -0.07977536099207176,
          0.7792965860411794,
          0.332539459677594,
          -1.9558835131769172,
          0.3031224284283438,
          -0.4402398607893659,
          -0.7981297374939099,
          0.21206370073994354,
          -0.13652782875817018,
          -0.2917311459639741,
          -0.6619420533173175,
          1.7864338216191098,
          0.4483115694708084,
          -2.8045739317148044,
          -0.37269533039988884,
          -1.03369866435832,
          -0.5065170686228558,
          -0.04597809325360672,
          0.8981809317738958,
          -0.18926184697998172,
          1.0562327390292001,
          -0.7100215522540436,
          0.061721096304667315,
          0.24362661681457334,
          1.2909836539249675,
          -1.8796434891569094,
          0.057165226884120034,
          -1.5442289516993324,
          0.06749486486318663,
          -0.7303673126311082,
          -0.7818430070190294,
          0.3589530849234872,
          0.7869622437653797,
          0.24007604461641832,
          1.1430643912329008,
          -0.708957021897143,
          0.8924603531688191,
          -1.0308859395863692,
          2.346418484754605,
          0.3616548319479292,
          -0.8701918572925443,
          0.7089471483071063,
          -0.9070039750845411,
          -0.17459980432821243,
          0.6702844154161197,
          -1.6249452282300787,
          -1.010142157907602,
          1.53797174447603,
          1.1581519529551638,
          0.24262638010011067,
          0.24072869175425662,
          -0.7941179508060363,
          0.18743613295526848,
          -0.14935234363963534,
          0.5733263723397176,
          1.7615480990725936,
          -0.057318590974638366,
          0.7553419270425359,
          -0.7173722111539768,
          -2.3089432393271414,
          0.6247880749109848,
          0.3911263785508444,
          0.6800977316187646,
          0.31656288728706317,
          1.5833236603519991,
          0.21783726551960741,
          1.2109998478708084,
          0.06837885604751842,
          0.5884254784829538,
          0.6051255415707739,
          0.08791390277971288,
          2.1845592118278785,
          1.527814568834567,
          -1.327221452690222,
          0.5428786782866669,
          0.3806844088743656,
          -1.1559784367300785,
          -0.0117129741558672,
          0.2648788265299483,
          0.35506176003794576,
          0.2318232594759154
         ],
         "xaxis": "x16",
         "yaxis": "y16"
        }
       ],
       "layout": {
        "bargap": 0.02,
        "legend": {
         "bgcolor": "#F5F6F9",
         "font": {
          "color": "#4D5663"
         }
        },
        "paper_bgcolor": "#F5F6F9",
        "plot_bgcolor": "#F5F6F9",
        "showlegend": false,
        "template": {
         "data": {
          "bar": [
           {
            "error_x": {
             "color": "#2a3f5f"
            },
            "error_y": {
             "color": "#2a3f5f"
            },
            "marker": {
             "line": {
              "color": "#E5ECF6",
              "width": 0.5
             }
            },
            "type": "bar"
           }
          ],
          "barpolar": [
           {
            "marker": {
             "line": {
              "color": "#E5ECF6",
              "width": 0.5
             }
            },
            "type": "barpolar"
           }
          ],
          "carpet": [
           {
            "aaxis": {
             "endlinecolor": "#2a3f5f",
             "gridcolor": "white",
             "linecolor": "white",
             "minorgridcolor": "white",
             "startlinecolor": "#2a3f5f"
            },
            "baxis": {
             "endlinecolor": "#2a3f5f",
             "gridcolor": "white",
             "linecolor": "white",
             "minorgridcolor": "white",
             "startlinecolor": "#2a3f5f"
            },
            "type": "carpet"
           }
          ],
          "choropleth": [
           {
            "colorbar": {
             "outlinewidth": 0,
             "ticks": ""
            },
            "type": "choropleth"
           }
          ],
          "contour": [
           {
            "colorbar": {
             "outlinewidth": 0,
             "ticks": ""
            },
            "colorscale": [
             [
              0,
              "#0d0887"
             ],
             [
              0.1111111111111111,
              "#46039f"
             ],
             [
              0.2222222222222222,
              "#7201a8"
             ],
             [
              0.3333333333333333,
              "#9c179e"
             ],
             [
              0.4444444444444444,
              "#bd3786"
             ],
             [
              0.5555555555555556,
              "#d8576b"
             ],
             [
              0.6666666666666666,
              "#ed7953"
             ],
             [
              0.7777777777777778,
              "#fb9f3a"
             ],
             [
              0.8888888888888888,
              "#fdca26"
             ],
             [
              1,
              "#f0f921"
             ]
            ],
            "type": "contour"
           }
          ],
          "contourcarpet": [
           {
            "colorbar": {
             "outlinewidth": 0,
             "ticks": ""
            },
            "type": "contourcarpet"
           }
          ],
          "heatmap": [
           {
            "colorbar": {
             "outlinewidth": 0,
             "ticks": ""
            },
            "colorscale": [
             [
              0,
              "#0d0887"
             ],
             [
              0.1111111111111111,
              "#46039f"
             ],
             [
              0.2222222222222222,
              "#7201a8"
             ],
             [
              0.3333333333333333,
              "#9c179e"
             ],
             [
              0.4444444444444444,
              "#bd3786"
             ],
             [
              0.5555555555555556,
              "#d8576b"
             ],
             [
              0.6666666666666666,
              "#ed7953"
             ],
             [
              0.7777777777777778,
              "#fb9f3a"
             ],
             [
              0.8888888888888888,
              "#fdca26"
             ],
             [
              1,
              "#f0f921"
             ]
            ],
            "type": "heatmap"
           }
          ],
          "heatmapgl": [
           {
            "colorbar": {
             "outlinewidth": 0,
             "ticks": ""
            },
            "colorscale": [
             [
              0,
              "#0d0887"
             ],
             [
              0.1111111111111111,
              "#46039f"
             ],
             [
              0.2222222222222222,
              "#7201a8"
             ],
             [
              0.3333333333333333,
              "#9c179e"
             ],
             [
              0.4444444444444444,
              "#bd3786"
             ],
             [
              0.5555555555555556,
              "#d8576b"
             ],
             [
              0.6666666666666666,
              "#ed7953"
             ],
             [
              0.7777777777777778,
              "#fb9f3a"
             ],
             [
              0.8888888888888888,
              "#fdca26"
             ],
             [
              1,
              "#f0f921"
             ]
            ],
            "type": "heatmapgl"
           }
          ],
          "histogram": [
           {
            "marker": {
             "colorbar": {
              "outlinewidth": 0,
              "ticks": ""
             }
            },
            "type": "histogram"
           }
          ],
          "histogram2d": [
           {
            "colorbar": {
             "outlinewidth": 0,
             "ticks": ""
            },
            "colorscale": [
             [
              0,
              "#0d0887"
             ],
             [
              0.1111111111111111,
              "#46039f"
             ],
             [
              0.2222222222222222,
              "#7201a8"
             ],
             [
              0.3333333333333333,
              "#9c179e"
             ],
             [
              0.4444444444444444,
              "#bd3786"
             ],
             [
              0.5555555555555556,
              "#d8576b"
             ],
             [
              0.6666666666666666,
              "#ed7953"
             ],
             [
              0.7777777777777778,
              "#fb9f3a"
             ],
             [
              0.8888888888888888,
              "#fdca26"
             ],
             [
              1,
              "#f0f921"
             ]
            ],
            "type": "histogram2d"
           }
          ],
          "histogram2dcontour": [
           {
            "colorbar": {
             "outlinewidth": 0,
             "ticks": ""
            },
            "colorscale": [
             [
              0,
              "#0d0887"
             ],
             [
              0.1111111111111111,
              "#46039f"
             ],
             [
              0.2222222222222222,
              "#7201a8"
             ],
             [
              0.3333333333333333,
              "#9c179e"
             ],
             [
              0.4444444444444444,
              "#bd3786"
             ],
             [
              0.5555555555555556,
              "#d8576b"
             ],
             [
              0.6666666666666666,
              "#ed7953"
             ],
             [
              0.7777777777777778,
              "#fb9f3a"
             ],
             [
              0.8888888888888888,
              "#fdca26"
             ],
             [
              1,
              "#f0f921"
             ]
            ],
            "type": "histogram2dcontour"
           }
          ],
          "mesh3d": [
           {
            "colorbar": {
             "outlinewidth": 0,
             "ticks": ""
            },
            "type": "mesh3d"
           }
          ],
          "parcoords": [
           {
            "line": {
             "colorbar": {
              "outlinewidth": 0,
              "ticks": ""
             }
            },
            "type": "parcoords"
           }
          ],
          "pie": [
           {
            "automargin": true,
            "type": "pie"
           }
          ],
          "scatter": [
           {
            "marker": {
             "colorbar": {
              "outlinewidth": 0,
              "ticks": ""
             }
            },
            "type": "scatter"
           }
          ],
          "scatter3d": [
           {
            "line": {
             "colorbar": {
              "outlinewidth": 0,
              "ticks": ""
             }
            },
            "marker": {
             "colorbar": {
              "outlinewidth": 0,
              "ticks": ""
             }
            },
            "type": "scatter3d"
           }
          ],
          "scattercarpet": [
           {
            "marker": {
             "colorbar": {
              "outlinewidth": 0,
              "ticks": ""
             }
            },
            "type": "scattercarpet"
           }
          ],
          "scattergeo": [
           {
            "marker": {
             "colorbar": {
              "outlinewidth": 0,
              "ticks": ""
             }
            },
            "type": "scattergeo"
           }
          ],
          "scattergl": [
           {
            "marker": {
             "colorbar": {
              "outlinewidth": 0,
              "ticks": ""
             }
            },
            "type": "scattergl"
           }
          ],
          "scattermapbox": [
           {
            "marker": {
             "colorbar": {
              "outlinewidth": 0,
              "ticks": ""
             }
            },
            "type": "scattermapbox"
           }
          ],
          "scatterpolar": [
           {
            "marker": {
             "colorbar": {
              "outlinewidth": 0,
              "ticks": ""
             }
            },
            "type": "scatterpolar"
           }
          ],
          "scatterpolargl": [
           {
            "marker": {
             "colorbar": {
              "outlinewidth": 0,
              "ticks": ""
             }
            },
            "type": "scatterpolargl"
           }
          ],
          "scatterternary": [
           {
            "marker": {
             "colorbar": {
              "outlinewidth": 0,
              "ticks": ""
             }
            },
            "type": "scatterternary"
           }
          ],
          "surface": [
           {
            "colorbar": {
             "outlinewidth": 0,
             "ticks": ""
            },
            "colorscale": [
             [
              0,
              "#0d0887"
             ],
             [
              0.1111111111111111,
              "#46039f"
             ],
             [
              0.2222222222222222,
              "#7201a8"
             ],
             [
              0.3333333333333333,
              "#9c179e"
             ],
             [
              0.4444444444444444,
              "#bd3786"
             ],
             [
              0.5555555555555556,
              "#d8576b"
             ],
             [
              0.6666666666666666,
              "#ed7953"
             ],
             [
              0.7777777777777778,
              "#fb9f3a"
             ],
             [
              0.8888888888888888,
              "#fdca26"
             ],
             [
              1,
              "#f0f921"
             ]
            ],
            "type": "surface"
           }
          ],
          "table": [
           {
            "cells": {
             "fill": {
              "color": "#EBF0F8"
             },
             "line": {
              "color": "white"
             }
            },
            "header": {
             "fill": {
              "color": "#C8D4E3"
             },
             "line": {
              "color": "white"
             }
            },
            "type": "table"
           }
          ]
         },
         "layout": {
          "annotationdefaults": {
           "arrowcolor": "#2a3f5f",
           "arrowhead": 0,
           "arrowwidth": 1
          },
          "coloraxis": {
           "colorbar": {
            "outlinewidth": 0,
            "ticks": ""
           }
          },
          "colorscale": {
           "diverging": [
            [
             0,
             "#8e0152"
            ],
            [
             0.1,
             "#c51b7d"
            ],
            [
             0.2,
             "#de77ae"
            ],
            [
             0.3,
             "#f1b6da"
            ],
            [
             0.4,
             "#fde0ef"
            ],
            [
             0.5,
             "#f7f7f7"
            ],
            [
             0.6,
             "#e6f5d0"
            ],
            [
             0.7,
             "#b8e186"
            ],
            [
             0.8,
             "#7fbc41"
            ],
            [
             0.9,
             "#4d9221"
            ],
            [
             1,
             "#276419"
            ]
           ],
           "sequential": [
            [
             0,
             "#0d0887"
            ],
            [
             0.1111111111111111,
             "#46039f"
            ],
            [
             0.2222222222222222,
             "#7201a8"
            ],
            [
             0.3333333333333333,
             "#9c179e"
            ],
            [
             0.4444444444444444,
             "#bd3786"
            ],
            [
             0.5555555555555556,
             "#d8576b"
            ],
            [
             0.6666666666666666,
             "#ed7953"
            ],
            [
             0.7777777777777778,
             "#fb9f3a"
            ],
            [
             0.8888888888888888,
             "#fdca26"
            ],
            [
             1,
             "#f0f921"
            ]
           ],
           "sequentialminus": [
            [
             0,
             "#0d0887"
            ],
            [
             0.1111111111111111,
             "#46039f"
            ],
            [
             0.2222222222222222,
             "#7201a8"
            ],
            [
             0.3333333333333333,
             "#9c179e"
            ],
            [
             0.4444444444444444,
             "#bd3786"
            ],
            [
             0.5555555555555556,
             "#d8576b"
            ],
            [
             0.6666666666666666,
             "#ed7953"
            ],
            [
             0.7777777777777778,
             "#fb9f3a"
            ],
            [
             0.8888888888888888,
             "#fdca26"
            ],
            [
             1,
             "#f0f921"
            ]
           ]
          },
          "colorway": [
           "#636efa",
           "#EF553B",
           "#00cc96",
           "#ab63fa",
           "#FFA15A",
           "#19d3f3",
           "#FF6692",
           "#B6E880",
           "#FF97FF",
           "#FECB52"
          ],
          "font": {
           "color": "#2a3f5f"
          },
          "geo": {
           "bgcolor": "white",
           "lakecolor": "white",
           "landcolor": "#E5ECF6",
           "showlakes": true,
           "showland": true,
           "subunitcolor": "white"
          },
          "hoverlabel": {
           "align": "left"
          },
          "hovermode": "closest",
          "mapbox": {
           "style": "light"
          },
          "paper_bgcolor": "white",
          "plot_bgcolor": "#E5ECF6",
          "polar": {
           "angularaxis": {
            "gridcolor": "white",
            "linecolor": "white",
            "ticks": ""
           },
           "bgcolor": "#E5ECF6",
           "radialaxis": {
            "gridcolor": "white",
            "linecolor": "white",
            "ticks": ""
           }
          },
          "scene": {
           "xaxis": {
            "backgroundcolor": "#E5ECF6",
            "gridcolor": "white",
            "gridwidth": 2,
            "linecolor": "white",
            "showbackground": true,
            "ticks": "",
            "zerolinecolor": "white"
           },
           "yaxis": {
            "backgroundcolor": "#E5ECF6",
            "gridcolor": "white",
            "gridwidth": 2,
            "linecolor": "white",
            "showbackground": true,
            "ticks": "",
            "zerolinecolor": "white"
           },
           "zaxis": {
            "backgroundcolor": "#E5ECF6",
            "gridcolor": "white",
            "gridwidth": 2,
            "linecolor": "white",
            "showbackground": true,
            "ticks": "",
            "zerolinecolor": "white"
           }
          },
          "shapedefaults": {
           "line": {
            "color": "#2a3f5f"
           }
          },
          "ternary": {
           "aaxis": {
            "gridcolor": "white",
            "linecolor": "white",
            "ticks": ""
           },
           "baxis": {
            "gridcolor": "white",
            "linecolor": "white",
            "ticks": ""
           },
           "bgcolor": "#E5ECF6",
           "caxis": {
            "gridcolor": "white",
            "linecolor": "white",
            "ticks": ""
           }
          },
          "title": {
           "x": 0.05
          },
          "xaxis": {
           "automargin": true,
           "gridcolor": "white",
           "linecolor": "white",
           "ticks": "",
           "title": {
            "standoff": 15
           },
           "zerolinecolor": "white",
           "zerolinewidth": 2
          },
          "yaxis": {
           "automargin": true,
           "gridcolor": "white",
           "linecolor": "white",
           "ticks": "",
           "title": {
            "standoff": 15
           },
           "zerolinecolor": "white",
           "zerolinewidth": 2
          }
         }
        },
        "title": {
         "font": {
          "color": "#4D5663"
         }
        },
        "xaxis": {
         "anchor": "y",
         "domain": [
          0,
          0.2125
         ],
         "gridcolor": "#E1E5ED",
         "showgrid": false,
         "tickfont": {
          "color": "#4D5663"
         },
         "title": {
          "font": {
           "color": "#4D5663"
          },
          "text": ""
         },
         "zerolinecolor": "#E1E5ED"
        },
        "xaxis10": {
         "anchor": "y10",
         "domain": [
          0.2625,
          0.475
         ],
         "gridcolor": "#E1E5ED",
         "showgrid": false,
         "tickfont": {
          "color": "#4D5663"
         },
         "title": {
          "font": {
           "color": "#4D5663"
          },
          "text": ""
         },
         "zerolinecolor": "#E1E5ED"
        },
        "xaxis11": {
         "anchor": "y11",
         "domain": [
          0.525,
          0.7375
         ],
         "gridcolor": "#E1E5ED",
         "showgrid": false,
         "tickfont": {
          "color": "#4D5663"
         },
         "title": {
          "font": {
           "color": "#4D5663"
          },
          "text": ""
         },
         "zerolinecolor": "#E1E5ED"
        },
        "xaxis12": {
         "anchor": "y12",
         "domain": [
          0.7875,
          1
         ],
         "gridcolor": "#E1E5ED",
         "showgrid": false,
         "tickfont": {
          "color": "#4D5663"
         },
         "title": {
          "font": {
           "color": "#4D5663"
          },
          "text": ""
         },
         "zerolinecolor": "#E1E5ED"
        },
        "xaxis13": {
         "anchor": "y13",
         "domain": [
          0,
          0.2125
         ],
         "gridcolor": "#E1E5ED",
         "showgrid": false,
         "tickfont": {
          "color": "#4D5663"
         },
         "title": {
          "font": {
           "color": "#4D5663"
          },
          "text": ""
         },
         "zerolinecolor": "#E1E5ED"
        },
        "xaxis14": {
         "anchor": "y14",
         "domain": [
          0.2625,
          0.475
         ],
         "gridcolor": "#E1E5ED",
         "showgrid": false,
         "tickfont": {
          "color": "#4D5663"
         },
         "title": {
          "font": {
           "color": "#4D5663"
          },
          "text": ""
         },
         "zerolinecolor": "#E1E5ED"
        },
        "xaxis15": {
         "anchor": "y15",
         "domain": [
          0.525,
          0.7375
         ],
         "gridcolor": "#E1E5ED",
         "showgrid": false,
         "tickfont": {
          "color": "#4D5663"
         },
         "title": {
          "font": {
           "color": "#4D5663"
          },
          "text": ""
         },
         "zerolinecolor": "#E1E5ED"
        },
        "xaxis16": {
         "anchor": "y16",
         "domain": [
          0.7875,
          1
         ],
         "gridcolor": "#E1E5ED",
         "showgrid": false,
         "tickfont": {
          "color": "#4D5663"
         },
         "title": {
          "font": {
           "color": "#4D5663"
          },
          "text": ""
         },
         "zerolinecolor": "#E1E5ED"
        },
        "xaxis2": {
         "anchor": "y2",
         "domain": [
          0.2625,
          0.475
         ],
         "gridcolor": "#E1E5ED",
         "showgrid": false,
         "tickfont": {
          "color": "#4D5663"
         },
         "title": {
          "font": {
           "color": "#4D5663"
          },
          "text": ""
         },
         "zerolinecolor": "#E1E5ED"
        },
        "xaxis3": {
         "anchor": "y3",
         "domain": [
          0.525,
          0.7375
         ],
         "gridcolor": "#E1E5ED",
         "showgrid": false,
         "tickfont": {
          "color": "#4D5663"
         },
         "title": {
          "font": {
           "color": "#4D5663"
          },
          "text": ""
         },
         "zerolinecolor": "#E1E5ED"
        },
        "xaxis4": {
         "anchor": "y4",
         "domain": [
          0.7875,
          1
         ],
         "gridcolor": "#E1E5ED",
         "showgrid": false,
         "tickfont": {
          "color": "#4D5663"
         },
         "title": {
          "font": {
           "color": "#4D5663"
          },
          "text": ""
         },
         "zerolinecolor": "#E1E5ED"
        },
        "xaxis5": {
         "anchor": "y5",
         "domain": [
          0,
          0.2125
         ],
         "gridcolor": "#E1E5ED",
         "showgrid": false,
         "tickfont": {
          "color": "#4D5663"
         },
         "title": {
          "font": {
           "color": "#4D5663"
          },
          "text": ""
         },
         "zerolinecolor": "#E1E5ED"
        },
        "xaxis6": {
         "anchor": "y6",
         "domain": [
          0.2625,
          0.475
         ],
         "gridcolor": "#E1E5ED",
         "showgrid": false,
         "tickfont": {
          "color": "#4D5663"
         },
         "title": {
          "font": {
           "color": "#4D5663"
          },
          "text": ""
         },
         "zerolinecolor": "#E1E5ED"
        },
        "xaxis7": {
         "anchor": "y7",
         "domain": [
          0.525,
          0.7375
         ],
         "gridcolor": "#E1E5ED",
         "showgrid": false,
         "tickfont": {
          "color": "#4D5663"
         },
         "title": {
          "font": {
           "color": "#4D5663"
          },
          "text": ""
         },
         "zerolinecolor": "#E1E5ED"
        },
        "xaxis8": {
         "anchor": "y8",
         "domain": [
          0.7875,
          1
         ],
         "gridcolor": "#E1E5ED",
         "showgrid": false,
         "tickfont": {
          "color": "#4D5663"
         },
         "title": {
          "font": {
           "color": "#4D5663"
          },
          "text": ""
         },
         "zerolinecolor": "#E1E5ED"
        },
        "xaxis9": {
         "anchor": "y9",
         "domain": [
          0,
          0.2125
         ],
         "gridcolor": "#E1E5ED",
         "showgrid": false,
         "tickfont": {
          "color": "#4D5663"
         },
         "title": {
          "font": {
           "color": "#4D5663"
          },
          "text": ""
         },
         "zerolinecolor": "#E1E5ED"
        },
        "yaxis": {
         "anchor": "x",
         "domain": [
          0.8025,
          1
         ],
         "gridcolor": "#E1E5ED",
         "showgrid": false,
         "tickfont": {
          "color": "#4D5663"
         },
         "title": {
          "font": {
           "color": "#4D5663"
          },
          "text": ""
         },
         "zerolinecolor": "#E1E5ED"
        },
        "yaxis10": {
         "anchor": "x10",
         "domain": [
          0.2675,
          0.465
         ],
         "gridcolor": "#E1E5ED",
         "showgrid": false,
         "tickfont": {
          "color": "#4D5663"
         },
         "title": {
          "font": {
           "color": "#4D5663"
          },
          "text": ""
         },
         "zerolinecolor": "#E1E5ED"
        },
        "yaxis11": {
         "anchor": "x11",
         "domain": [
          0.2675,
          0.465
         ],
         "gridcolor": "#E1E5ED",
         "showgrid": false,
         "tickfont": {
          "color": "#4D5663"
         },
         "title": {
          "font": {
           "color": "#4D5663"
          },
          "text": ""
         },
         "zerolinecolor": "#E1E5ED"
        },
        "yaxis12": {
         "anchor": "x12",
         "domain": [
          0.2675,
          0.465
         ],
         "gridcolor": "#E1E5ED",
         "showgrid": false,
         "tickfont": {
          "color": "#4D5663"
         },
         "title": {
          "font": {
           "color": "#4D5663"
          },
          "text": ""
         },
         "zerolinecolor": "#E1E5ED"
        },
        "yaxis13": {
         "anchor": "x13",
         "domain": [
          0,
          0.1975
         ],
         "gridcolor": "#E1E5ED",
         "showgrid": false,
         "tickfont": {
          "color": "#4D5663"
         },
         "title": {
          "font": {
           "color": "#4D5663"
          },
          "text": ""
         },
         "zerolinecolor": "#E1E5ED"
        },
        "yaxis14": {
         "anchor": "x14",
         "domain": [
          0,
          0.1975
         ],
         "gridcolor": "#E1E5ED",
         "showgrid": false,
         "tickfont": {
          "color": "#4D5663"
         },
         "title": {
          "font": {
           "color": "#4D5663"
          },
          "text": ""
         },
         "zerolinecolor": "#E1E5ED"
        },
        "yaxis15": {
         "anchor": "x15",
         "domain": [
          0,
          0.1975
         ],
         "gridcolor": "#E1E5ED",
         "showgrid": false,
         "tickfont": {
          "color": "#4D5663"
         },
         "title": {
          "font": {
           "color": "#4D5663"
          },
          "text": ""
         },
         "zerolinecolor": "#E1E5ED"
        },
        "yaxis16": {
         "anchor": "x16",
         "domain": [
          0,
          0.1975
         ],
         "gridcolor": "#E1E5ED",
         "showgrid": false,
         "tickfont": {
          "color": "#4D5663"
         },
         "title": {
          "font": {
           "color": "#4D5663"
          },
          "text": ""
         },
         "zerolinecolor": "#E1E5ED"
        },
        "yaxis2": {
         "anchor": "x2",
         "domain": [
          0.8025,
          1
         ],
         "gridcolor": "#E1E5ED",
         "showgrid": false,
         "tickfont": {
          "color": "#4D5663"
         },
         "title": {
          "font": {
           "color": "#4D5663"
          },
          "text": ""
         },
         "zerolinecolor": "#E1E5ED"
        },
        "yaxis3": {
         "anchor": "x3",
         "domain": [
          0.8025,
          1
         ],
         "gridcolor": "#E1E5ED",
         "showgrid": false,
         "tickfont": {
          "color": "#4D5663"
         },
         "title": {
          "font": {
           "color": "#4D5663"
          },
          "text": ""
         },
         "zerolinecolor": "#E1E5ED"
        },
        "yaxis4": {
         "anchor": "x4",
         "domain": [
          0.8025,
          1
         ],
         "gridcolor": "#E1E5ED",
         "showgrid": false,
         "tickfont": {
          "color": "#4D5663"
         },
         "title": {
          "font": {
           "color": "#4D5663"
          },
          "text": ""
         },
         "zerolinecolor": "#E1E5ED"
        },
        "yaxis5": {
         "anchor": "x5",
         "domain": [
          0.535,
          0.7325
         ],
         "gridcolor": "#E1E5ED",
         "showgrid": false,
         "tickfont": {
          "color": "#4D5663"
         },
         "title": {
          "font": {
           "color": "#4D5663"
          },
          "text": ""
         },
         "zerolinecolor": "#E1E5ED"
        },
        "yaxis6": {
         "anchor": "x6",
         "domain": [
          0.535,
          0.7325
         ],
         "gridcolor": "#E1E5ED",
         "showgrid": false,
         "tickfont": {
          "color": "#4D5663"
         },
         "title": {
          "font": {
           "color": "#4D5663"
          },
          "text": ""
         },
         "zerolinecolor": "#E1E5ED"
        },
        "yaxis7": {
         "anchor": "x7",
         "domain": [
          0.535,
          0.7325
         ],
         "gridcolor": "#E1E5ED",
         "showgrid": false,
         "tickfont": {
          "color": "#4D5663"
         },
         "title": {
          "font": {
           "color": "#4D5663"
          },
          "text": ""
         },
         "zerolinecolor": "#E1E5ED"
        },
        "yaxis8": {
         "anchor": "x8",
         "domain": [
          0.535,
          0.7325
         ],
         "gridcolor": "#E1E5ED",
         "showgrid": false,
         "tickfont": {
          "color": "#4D5663"
         },
         "title": {
          "font": {
           "color": "#4D5663"
          },
          "text": ""
         },
         "zerolinecolor": "#E1E5ED"
        },
        "yaxis9": {
         "anchor": "x9",
         "domain": [
          0.2675,
          0.465
         ],
         "gridcolor": "#E1E5ED",
         "showgrid": false,
         "tickfont": {
          "color": "#4D5663"
         },
         "title": {
          "font": {
           "color": "#4D5663"
          },
          "text": ""
         },
         "zerolinecolor": "#E1E5ED"
        }
       }
      },
      "text/html": [
       "<div>\n",
       "        \n",
       "        \n",
       "            <div id=\"276cd97d-ffa3-4745-8439-e329492ef26e\" class=\"plotly-graph-div\" style=\"height:525px; width:100%;\"></div>\n",
       "            <script type=\"text/javascript\">\n",
       "                require([\"plotly\"], function(Plotly) {\n",
       "                    window.PLOTLYENV=window.PLOTLYENV || {};\n",
       "                    window.PLOTLYENV.BASE_URL='https://plot.ly';\n",
       "                    \n",
       "                if (document.getElementById(\"276cd97d-ffa3-4745-8439-e329492ef26e\")) {\n",
       "                    Plotly.newPlot(\n",
       "                        '276cd97d-ffa3-4745-8439-e329492ef26e',\n",
       "                        [{\"histfunc\": \"count\", \"histnorm\": \"\", \"marker\": {\"color\": \"rgba(255, 153, 51, 1.0)\", \"line\": {\"color\": \"#4D5663\", \"width\": 1.3}}, \"name\": \"A\", \"nbinsx\": 10, \"opacity\": 0.8, \"orientation\": \"v\", \"type\": \"histogram\", \"x\": [-0.6889956521739307, -0.10998876634393508, 0.09699922766269028, -0.8808256190850161, 2.2172396213269425, -0.5181556954513972, 0.044220521243459814, -0.6182983871486031, 0.5035632820391117, -1.9735185015594627, -1.1226476322836956, -0.033709732199987, -0.47506049831864783, 0.4062401342415919, -0.8298431157254298, 0.6484928745668593, -0.8484283621195674, -0.11478932596098841, 0.4156464856047231, -1.2044313934808315, -0.7377218812849837, -0.3530399705530779, -1.2354471686035418, 1.415323768152012, 0.03667147351896974, 1.3757424357499963, -0.6204186792444727, 0.32246037711615533, 0.7176758702542765, -0.08952871392329798, -1.9115942832046897, 0.6464809271333035, 0.25280282897385653, -0.3030241591898929, 0.13348160896768804, 1.7778329413926857, -0.2706982328639064, 0.174223288645667, -0.6443864622112773, 0.05767854227106527, 0.9359769594187413, -0.2108110112579468, 0.7232976098150298, 0.13782196537317143, 0.1965086400798674, -0.35595137558340306, 0.19120368500211257, 1.190555681945383, 0.29840087375121377, 1.709979954740142, -2.448437868821938, 0.23410079150844357, 0.433512903693733, 1.9187512221029763, 0.34796679107170425, 0.28328638799105765, 0.44287235575880485, -0.7266976761259687, 0.3816684048555259, -0.8004660246613597, -0.06094814916289371, -0.48342674827606424, 0.8255274909549741, -0.10068957109932336, -2.172269351419027, -0.7422295876820347, -1.235546393094691, -1.2995927217470409, -0.684511063368568, 0.9958837433328543, -3.1991579221704414, 1.1793687045818502, -0.319124939743108, 0.8491143895203022, -1.1359643999435747, -0.5865615969649363, -0.19172108517410447, -0.30362087781243813, -0.03695050115199503, 0.9785928191618193, 2.0128678073383885, 0.5639780665112403, -1.7990312710673546, -1.114647156508601, 0.2947390593870421, 0.3690855749682276, 0.25285277904826237, 2.1287882496107553, 0.08504298776070535, 0.2704915897148827, -1.039195748914558, 0.5889777880510121, 0.9996470311558219, 0.9065031222001652, -0.7944687044530946, -0.4705706405607836, -0.07239019799691816, 0.017726005413281606, -1.640842578699129, -0.9970442281743205], \"xaxis\": \"x\", \"yaxis\": \"y\"}, {\"line\": {\"color\": \"rgba(128, 128, 128, 1.0)\", \"dash\": \"solid\", \"shape\": \"linear\", \"width\": 1.3}, \"marker\": {\"size\": 2, \"symbol\": \"circle\"}, \"mode\": \"markers\", \"name\": \"A\", \"text\": \"\", \"type\": \"scatter\", \"x\": [-1.2073839278312855, -0.8914152871341857, 0.9122000538112298, 0.6498066921507818, -0.00899612165220606, -0.5004526156800174, 0.34729418384591637, 0.15897743642567497, -0.21839432228170258, -0.49991139525442396, 0.9610693389406737, 0.5618914806405604, 1.201558960930769, -0.2273238288028599, 1.1138543091175164, -1.0868005540326964, -1.1715605560090836, 0.9003730719574612, 0.03682778941603213, -0.15459482647855446, 0.7221015269889887, 0.38583033388373106, 0.6543951885091118, 0.040095597861937025, 0.17972487983609023, 0.28158447514524965, 1.8330586456748375, -1.4855936550488982, -0.1883376767633526, 1.0024422321628312, -0.9234550503192078, -0.11575204468620277, -0.6234014385670065, 0.9415011286362762, -1.0517190719433238, 2.0515592254487953, -0.2580451508330001, -0.5150870104052806, 0.09088235032580956, 2.231352209037297, -0.15859836080583842, -0.9808380119046511, 0.06323059919233626, -0.21106543250299467, -0.6576314663591996, 0.09798213161331863, -0.24017783056310635, 0.46385088321858264, 0.256202641291782, 1.5882261135642595, -0.49785387726708114, -2.996055335076067, 1.0979391220131691, 0.3627975014686308, -0.10786076072121988, 0.0641227457433506, -0.5508234727964582, -0.4893642929797324, -0.01295655628743466, 0.6364408498489723, -1.3445070194151048, -1.2060950265348032, -1.302017996699132, 0.30575364739168376, 1.1344522718513066, -0.40899495791668117, -0.1879338341978866, 0.7701867136427122, -0.3142097601883405, 0.3768390832801088, 2.2322106533883845, -0.6105290427360885, 0.12788746771461784, 0.6964055162543205, 1.188468028747178, -0.1983515900990588, -1.8987123602775557, -0.4467780747490587, -1.401342976649239, 1.9570162473353976, -2.181136421012167, -1.1794166803130908, 0.19599267454193595, 0.7740325867092016, -1.0193643289430883, -0.023458044632571996, -1.7150708376874946, 0.397417382762338, -0.7029977592823403, 0.6311539886525172, -0.4145841586488041, -2.4197468703272453, -0.46942188535039864, 0.5744298855541616, -0.29328939444327295, 2.377437799872268, -1.7487701098601915, -0.7913451308489126, 0.46738856275175306, -0.7480590074762296], \"xaxis\": \"x2\", \"y\": [-0.6889956521739307, -0.10998876634393508, 0.09699922766269028, -0.8808256190850161, 2.2172396213269425, -0.5181556954513972, 0.044220521243459814, -0.6182983871486031, 0.5035632820391117, -1.9735185015594627, -1.1226476322836956, -0.033709732199987, -0.47506049831864783, 0.4062401342415919, -0.8298431157254298, 0.6484928745668593, -0.8484283621195674, -0.11478932596098841, 0.4156464856047231, -1.2044313934808315, -0.7377218812849837, -0.3530399705530779, -1.2354471686035418, 1.415323768152012, 0.03667147351896974, 1.3757424357499963, -0.6204186792444727, 0.32246037711615533, 0.7176758702542765, -0.08952871392329798, -1.9115942832046897, 0.6464809271333035, 0.25280282897385653, -0.3030241591898929, 0.13348160896768804, 1.7778329413926857, -0.2706982328639064, 0.174223288645667, -0.6443864622112773, 0.05767854227106527, 0.9359769594187413, -0.2108110112579468, 0.7232976098150298, 0.13782196537317143, 0.1965086400798674, -0.35595137558340306, 0.19120368500211257, 1.190555681945383, 0.29840087375121377, 1.709979954740142, -2.448437868821938, 0.23410079150844357, 0.433512903693733, 1.9187512221029763, 0.34796679107170425, 0.28328638799105765, 0.44287235575880485, -0.7266976761259687, 0.3816684048555259, -0.8004660246613597, -0.06094814916289371, -0.48342674827606424, 0.8255274909549741, -0.10068957109932336, -2.172269351419027, -0.7422295876820347, -1.235546393094691, -1.2995927217470409, -0.684511063368568, 0.9958837433328543, -3.1991579221704414, 1.1793687045818502, -0.319124939743108, 0.8491143895203022, -1.1359643999435747, -0.5865615969649363, -0.19172108517410447, -0.30362087781243813, -0.03695050115199503, 0.9785928191618193, 2.0128678073383885, 0.5639780665112403, -1.7990312710673546, -1.114647156508601, 0.2947390593870421, 0.3690855749682276, 0.25285277904826237, 2.1287882496107553, 0.08504298776070535, 0.2704915897148827, -1.039195748914558, 0.5889777880510121, 0.9996470311558219, 0.9065031222001652, -0.7944687044530946, -0.4705706405607836, -0.07239019799691816, 0.017726005413281606, -1.640842578699129, -0.9970442281743205], \"yaxis\": \"y2\"}, {\"line\": {\"color\": \"rgba(128, 128, 128, 1.0)\", \"dash\": \"solid\", \"shape\": \"linear\", \"width\": 1.3}, \"marker\": {\"size\": 2, \"symbol\": \"circle\"}, \"mode\": \"markers\", \"name\": \"A\", \"text\": \"\", \"type\": \"scatter\", \"x\": [1.3572538079600367, 0.3889542079424232, -0.2204280148649024, 0.32794825283187407, -0.10267501810924519, 0.37705374699585775, -0.20890151330780896, 0.626243751571112, -1.8088289714837196, 1.7252388502558291, 0.48997474380667844, -1.9362219967236907, -0.1422968206402504, -0.15206945627461832, 0.6214115109313594, -1.4615512777347377, -0.14958636372797185, 0.35745921397008423, 0.8357978106910908, -0.7470122961155502, -0.06157342593553133, 1.312233513749872, 0.5053341867761568, -0.20129983771528723, -1.032376489695527, -0.5013128056656442, -1.4043921119107579, -0.6391851582191036, -1.7698996934746816, -0.04957301282581744, -0.15775457767629247, -0.8264621718797414, -1.2006553269313285, -0.942889313612981, -1.56754839305474, 0.5991803867711081, -0.38152555293429086, -2.1007726559392372, -0.17764077846774926, -1.2194784693211722, 0.10525986908387237, -0.2759936902369652, 1.797264068757335, -0.9064375293266415, -0.631599001198882, -0.23606505737488173, 1.0464383207469847, 0.7484508615287344, -0.6868827872993668, -1.2731841825690051, 0.3194899183878682, -0.5449673146027159, -1.3574624317646504, -1.2157416817511568, 1.3517008068763363, -0.16665352151456828, 1.4415162667781476, -1.9502344824506048, 1.6216169341371227, -0.10540795403149338, -0.20377632024452383, -0.3845510088852165, -0.35362843346234274, 0.8547599515179909, 0.4289986468411021, 0.1426696706224036, -1.2294521706700443, 1.340608730573424, -1.6643780335315081, 0.5844734285376947, -0.4966543147921046, -0.22723137508522312, -1.2264747131258893, 1.3182194186252083, -0.35775241673320024, -1.993955115142308, 0.16731377579434287, -0.9746819259679719, -1.1010662431715916, 1.1333955819748986, 0.7865551264976777, -1.1033582478114714, 0.27667325585704156, 0.973013539999785, 0.7472477246538872, 0.5806588401418527, -0.9440690142746736, -0.7091314809087226, 0.8292023335822314, -0.3111960484538863, -0.38686078242812555, -0.6731284700541769, -0.18278367881869112, -0.014898819710800332, 0.994963349206386, 0.5947018519682341, -0.6109611236269217, -0.18192401819093953, -1.5289530012851809, 0.42490151621141736], \"xaxis\": \"x3\", \"y\": [-0.6889956521739307, -0.10998876634393508, 0.09699922766269028, -0.8808256190850161, 2.2172396213269425, -0.5181556954513972, 0.044220521243459814, -0.6182983871486031, 0.5035632820391117, -1.9735185015594627, -1.1226476322836956, -0.033709732199987, -0.47506049831864783, 0.4062401342415919, -0.8298431157254298, 0.6484928745668593, -0.8484283621195674, -0.11478932596098841, 0.4156464856047231, -1.2044313934808315, -0.7377218812849837, -0.3530399705530779, -1.2354471686035418, 1.415323768152012, 0.03667147351896974, 1.3757424357499963, -0.6204186792444727, 0.32246037711615533, 0.7176758702542765, -0.08952871392329798, -1.9115942832046897, 0.6464809271333035, 0.25280282897385653, -0.3030241591898929, 0.13348160896768804, 1.7778329413926857, -0.2706982328639064, 0.174223288645667, -0.6443864622112773, 0.05767854227106527, 0.9359769594187413, -0.2108110112579468, 0.7232976098150298, 0.13782196537317143, 0.1965086400798674, -0.35595137558340306, 0.19120368500211257, 1.190555681945383, 0.29840087375121377, 1.709979954740142, -2.448437868821938, 0.23410079150844357, 0.433512903693733, 1.9187512221029763, 0.34796679107170425, 0.28328638799105765, 0.44287235575880485, -0.7266976761259687, 0.3816684048555259, -0.8004660246613597, -0.06094814916289371, -0.48342674827606424, 0.8255274909549741, -0.10068957109932336, -2.172269351419027, -0.7422295876820347, -1.235546393094691, -1.2995927217470409, -0.684511063368568, 0.9958837433328543, -3.1991579221704414, 1.1793687045818502, -0.319124939743108, 0.8491143895203022, -1.1359643999435747, -0.5865615969649363, -0.19172108517410447, -0.30362087781243813, -0.03695050115199503, 0.9785928191618193, 2.0128678073383885, 0.5639780665112403, -1.7990312710673546, -1.114647156508601, 0.2947390593870421, 0.3690855749682276, 0.25285277904826237, 2.1287882496107553, 0.08504298776070535, 0.2704915897148827, -1.039195748914558, 0.5889777880510121, 0.9996470311558219, 0.9065031222001652, -0.7944687044530946, -0.4705706405607836, -0.07239019799691816, 0.017726005413281606, -1.640842578699129, -0.9970442281743205], \"yaxis\": \"y3\"}, {\"line\": {\"color\": \"rgba(128, 128, 128, 1.0)\", \"dash\": \"solid\", \"shape\": \"linear\", \"width\": 1.3}, \"marker\": {\"size\": 2, \"symbol\": \"circle\"}, \"mode\": \"markers\", \"name\": \"A\", \"text\": \"\", \"type\": \"scatter\", \"x\": [-0.24295250953129108, -0.12827460320049489, 2.970659842989287, 0.45974132419489866, 1.164454090962472, -0.7314055252035659, -0.5449101561588183, 0.5117415970268605, 0.3278007948311033, -0.23231751877037987, 1.7868831272568824, -1.4135055934875524, 0.27151805904491494, -1.291461804230663, 0.0012425086116985915, 2.3664084647711676, -0.2622917058892799, -2.1388305857772507, 0.8069542410959432, -0.07977536099207176, 0.7792965860411794, 0.332539459677594, -1.9558835131769172, 0.3031224284283438, -0.4402398607893659, -0.7981297374939099, 0.21206370073994354, -0.13652782875817018, -0.2917311459639741, -0.6619420533173175, 1.7864338216191098, 0.4483115694708084, -2.8045739317148044, -0.37269533039988884, -1.03369866435832, -0.5065170686228558, -0.04597809325360672, 0.8981809317738958, -0.18926184697998172, 1.0562327390292001, -0.7100215522540436, 0.061721096304667315, 0.24362661681457334, 1.2909836539249675, -1.8796434891569094, 0.057165226884120034, -1.5442289516993324, 0.06749486486318663, -0.7303673126311082, -0.7818430070190294, 0.3589530849234872, 0.7869622437653797, 0.24007604461641832, 1.1430643912329008, -0.708957021897143, 0.8924603531688191, -1.0308859395863692, 2.346418484754605, 0.3616548319479292, -0.8701918572925443, 0.7089471483071063, -0.9070039750845411, -0.17459980432821243, 0.6702844154161197, -1.6249452282300787, -1.010142157907602, 1.53797174447603, 1.1581519529551638, 0.24262638010011067, 0.24072869175425662, -0.7941179508060363, 0.18743613295526848, -0.14935234363963534, 0.5733263723397176, 1.7615480990725936, -0.057318590974638366, 0.7553419270425359, -0.7173722111539768, -2.3089432393271414, 0.6247880749109848, 0.3911263785508444, 0.6800977316187646, 0.31656288728706317, 1.5833236603519991, 0.21783726551960741, 1.2109998478708084, 0.06837885604751842, 0.5884254784829538, 0.6051255415707739, 0.08791390277971288, 2.1845592118278785, 1.527814568834567, -1.327221452690222, 0.5428786782866669, 0.3806844088743656, -1.1559784367300785, -0.0117129741558672, 0.2648788265299483, 0.35506176003794576, 0.2318232594759154], \"xaxis\": \"x4\", \"y\": [-0.6889956521739307, -0.10998876634393508, 0.09699922766269028, -0.8808256190850161, 2.2172396213269425, -0.5181556954513972, 0.044220521243459814, -0.6182983871486031, 0.5035632820391117, -1.9735185015594627, -1.1226476322836956, -0.033709732199987, -0.47506049831864783, 0.4062401342415919, -0.8298431157254298, 0.6484928745668593, -0.8484283621195674, -0.11478932596098841, 0.4156464856047231, -1.2044313934808315, -0.7377218812849837, -0.3530399705530779, -1.2354471686035418, 1.415323768152012, 0.03667147351896974, 1.3757424357499963, -0.6204186792444727, 0.32246037711615533, 0.7176758702542765, -0.08952871392329798, -1.9115942832046897, 0.6464809271333035, 0.25280282897385653, -0.3030241591898929, 0.13348160896768804, 1.7778329413926857, -0.2706982328639064, 0.174223288645667, -0.6443864622112773, 0.05767854227106527, 0.9359769594187413, -0.2108110112579468, 0.7232976098150298, 0.13782196537317143, 0.1965086400798674, -0.35595137558340306, 0.19120368500211257, 1.190555681945383, 0.29840087375121377, 1.709979954740142, -2.448437868821938, 0.23410079150844357, 0.433512903693733, 1.9187512221029763, 0.34796679107170425, 0.28328638799105765, 0.44287235575880485, -0.7266976761259687, 0.3816684048555259, -0.8004660246613597, -0.06094814916289371, -0.48342674827606424, 0.8255274909549741, -0.10068957109932336, -2.172269351419027, -0.7422295876820347, -1.235546393094691, -1.2995927217470409, -0.684511063368568, 0.9958837433328543, -3.1991579221704414, 1.1793687045818502, -0.319124939743108, 0.8491143895203022, -1.1359643999435747, -0.5865615969649363, -0.19172108517410447, -0.30362087781243813, -0.03695050115199503, 0.9785928191618193, 2.0128678073383885, 0.5639780665112403, -1.7990312710673546, -1.114647156508601, 0.2947390593870421, 0.3690855749682276, 0.25285277904826237, 2.1287882496107553, 0.08504298776070535, 0.2704915897148827, -1.039195748914558, 0.5889777880510121, 0.9996470311558219, 0.9065031222001652, -0.7944687044530946, -0.4705706405607836, -0.07239019799691816, 0.017726005413281606, -1.640842578699129, -0.9970442281743205], \"yaxis\": \"y4\"}, {\"line\": {\"color\": \"rgba(128, 128, 128, 1.0)\", \"dash\": \"solid\", \"shape\": \"linear\", \"width\": 1.3}, \"marker\": {\"size\": 2, \"symbol\": \"circle\"}, \"mode\": \"markers\", \"name\": \"B\", \"text\": \"\", \"type\": \"scatter\", \"x\": [-0.6889956521739307, -0.10998876634393508, 0.09699922766269028, -0.8808256190850161, 2.2172396213269425, -0.5181556954513972, 0.044220521243459814, -0.6182983871486031, 0.5035632820391117, -1.9735185015594627, -1.1226476322836956, -0.033709732199987, -0.47506049831864783, 0.4062401342415919, -0.8298431157254298, 0.6484928745668593, -0.8484283621195674, -0.11478932596098841, 0.4156464856047231, -1.2044313934808315, -0.7377218812849837, -0.3530399705530779, -1.2354471686035418, 1.415323768152012, 0.03667147351896974, 1.3757424357499963, -0.6204186792444727, 0.32246037711615533, 0.7176758702542765, -0.08952871392329798, -1.9115942832046897, 0.6464809271333035, 0.25280282897385653, -0.3030241591898929, 0.13348160896768804, 1.7778329413926857, -0.2706982328639064, 0.174223288645667, -0.6443864622112773, 0.05767854227106527, 0.9359769594187413, -0.2108110112579468, 0.7232976098150298, 0.13782196537317143, 0.1965086400798674, -0.35595137558340306, 0.19120368500211257, 1.190555681945383, 0.29840087375121377, 1.709979954740142, -2.448437868821938, 0.23410079150844357, 0.433512903693733, 1.9187512221029763, 0.34796679107170425, 0.28328638799105765, 0.44287235575880485, -0.7266976761259687, 0.3816684048555259, -0.8004660246613597, -0.06094814916289371, -0.48342674827606424, 0.8255274909549741, -0.10068957109932336, -2.172269351419027, -0.7422295876820347, -1.235546393094691, -1.2995927217470409, -0.684511063368568, 0.9958837433328543, -3.1991579221704414, 1.1793687045818502, -0.319124939743108, 0.8491143895203022, -1.1359643999435747, -0.5865615969649363, -0.19172108517410447, -0.30362087781243813, -0.03695050115199503, 0.9785928191618193, 2.0128678073383885, 0.5639780665112403, -1.7990312710673546, -1.114647156508601, 0.2947390593870421, 0.3690855749682276, 0.25285277904826237, 2.1287882496107553, 0.08504298776070535, 0.2704915897148827, -1.039195748914558, 0.5889777880510121, 0.9996470311558219, 0.9065031222001652, -0.7944687044530946, -0.4705706405607836, -0.07239019799691816, 0.017726005413281606, -1.640842578699129, -0.9970442281743205], \"xaxis\": \"x5\", \"y\": [-1.2073839278312855, -0.8914152871341857, 0.9122000538112298, 0.6498066921507818, -0.00899612165220606, -0.5004526156800174, 0.34729418384591637, 0.15897743642567497, -0.21839432228170258, -0.49991139525442396, 0.9610693389406737, 0.5618914806405604, 1.201558960930769, -0.2273238288028599, 1.1138543091175164, -1.0868005540326964, -1.1715605560090836, 0.9003730719574612, 0.03682778941603213, -0.15459482647855446, 0.7221015269889887, 0.38583033388373106, 0.6543951885091118, 0.040095597861937025, 0.17972487983609023, 0.28158447514524965, 1.8330586456748375, -1.4855936550488982, -0.1883376767633526, 1.0024422321628312, -0.9234550503192078, -0.11575204468620277, -0.6234014385670065, 0.9415011286362762, -1.0517190719433238, 2.0515592254487953, -0.2580451508330001, -0.5150870104052806, 0.09088235032580956, 2.231352209037297, -0.15859836080583842, -0.9808380119046511, 0.06323059919233626, -0.21106543250299467, -0.6576314663591996, 0.09798213161331863, -0.24017783056310635, 0.46385088321858264, 0.256202641291782, 1.5882261135642595, -0.49785387726708114, -2.996055335076067, 1.0979391220131691, 0.3627975014686308, -0.10786076072121988, 0.0641227457433506, -0.5508234727964582, -0.4893642929797324, -0.01295655628743466, 0.6364408498489723, -1.3445070194151048, -1.2060950265348032, -1.302017996699132, 0.30575364739168376, 1.1344522718513066, -0.40899495791668117, -0.1879338341978866, 0.7701867136427122, -0.3142097601883405, 0.3768390832801088, 2.2322106533883845, -0.6105290427360885, 0.12788746771461784, 0.6964055162543205, 1.188468028747178, -0.1983515900990588, -1.8987123602775557, -0.4467780747490587, -1.401342976649239, 1.9570162473353976, -2.181136421012167, -1.1794166803130908, 0.19599267454193595, 0.7740325867092016, -1.0193643289430883, -0.023458044632571996, -1.7150708376874946, 0.397417382762338, -0.7029977592823403, 0.6311539886525172, -0.4145841586488041, -2.4197468703272453, -0.46942188535039864, 0.5744298855541616, -0.29328939444327295, 2.377437799872268, -1.7487701098601915, -0.7913451308489126, 0.46738856275175306, -0.7480590074762296], \"yaxis\": \"y5\"}, {\"histfunc\": \"count\", \"histnorm\": \"\", \"marker\": {\"color\": \"rgba(55, 128, 191, 1.0)\", \"line\": {\"color\": \"#4D5663\", \"width\": 1.3}}, \"name\": \"B\", \"nbinsx\": 10, \"opacity\": 0.8, \"orientation\": \"v\", \"type\": \"histogram\", \"x\": [-1.2073839278312855, -0.8914152871341857, 0.9122000538112298, 0.6498066921507818, -0.00899612165220606, -0.5004526156800174, 0.34729418384591637, 0.15897743642567497, -0.21839432228170258, -0.49991139525442396, 0.9610693389406737, 0.5618914806405604, 1.201558960930769, -0.2273238288028599, 1.1138543091175164, -1.0868005540326964, -1.1715605560090836, 0.9003730719574612, 0.03682778941603213, -0.15459482647855446, 0.7221015269889887, 0.38583033388373106, 0.6543951885091118, 0.040095597861937025, 0.17972487983609023, 0.28158447514524965, 1.8330586456748375, -1.4855936550488982, -0.1883376767633526, 1.0024422321628312, -0.9234550503192078, -0.11575204468620277, -0.6234014385670065, 0.9415011286362762, -1.0517190719433238, 2.0515592254487953, -0.2580451508330001, -0.5150870104052806, 0.09088235032580956, 2.231352209037297, -0.15859836080583842, -0.9808380119046511, 0.06323059919233626, -0.21106543250299467, -0.6576314663591996, 0.09798213161331863, -0.24017783056310635, 0.46385088321858264, 0.256202641291782, 1.5882261135642595, -0.49785387726708114, -2.996055335076067, 1.0979391220131691, 0.3627975014686308, -0.10786076072121988, 0.0641227457433506, -0.5508234727964582, -0.4893642929797324, -0.01295655628743466, 0.6364408498489723, -1.3445070194151048, -1.2060950265348032, -1.302017996699132, 0.30575364739168376, 1.1344522718513066, -0.40899495791668117, -0.1879338341978866, 0.7701867136427122, -0.3142097601883405, 0.3768390832801088, 2.2322106533883845, -0.6105290427360885, 0.12788746771461784, 0.6964055162543205, 1.188468028747178, -0.1983515900990588, -1.8987123602775557, -0.4467780747490587, -1.401342976649239, 1.9570162473353976, -2.181136421012167, -1.1794166803130908, 0.19599267454193595, 0.7740325867092016, -1.0193643289430883, -0.023458044632571996, -1.7150708376874946, 0.397417382762338, -0.7029977592823403, 0.6311539886525172, -0.4145841586488041, -2.4197468703272453, -0.46942188535039864, 0.5744298855541616, -0.29328939444327295, 2.377437799872268, -1.7487701098601915, -0.7913451308489126, 0.46738856275175306, -0.7480590074762296], \"xaxis\": \"x6\", \"yaxis\": \"y6\"}, {\"line\": {\"color\": \"rgba(128, 128, 128, 1.0)\", \"dash\": \"solid\", \"shape\": \"linear\", \"width\": 1.3}, \"marker\": {\"size\": 2, \"symbol\": \"circle\"}, \"mode\": \"markers\", \"name\": \"B\", \"text\": \"\", \"type\": \"scatter\", \"x\": [1.3572538079600367, 0.3889542079424232, -0.2204280148649024, 0.32794825283187407, -0.10267501810924519, 0.37705374699585775, -0.20890151330780896, 0.626243751571112, -1.8088289714837196, 1.7252388502558291, 0.48997474380667844, -1.9362219967236907, -0.1422968206402504, -0.15206945627461832, 0.6214115109313594, -1.4615512777347377, -0.14958636372797185, 0.35745921397008423, 0.8357978106910908, -0.7470122961155502, -0.06157342593553133, 1.312233513749872, 0.5053341867761568, -0.20129983771528723, -1.032376489695527, -0.5013128056656442, -1.4043921119107579, -0.6391851582191036, -1.7698996934746816, -0.04957301282581744, -0.15775457767629247, -0.8264621718797414, -1.2006553269313285, -0.942889313612981, -1.56754839305474, 0.5991803867711081, -0.38152555293429086, -2.1007726559392372, -0.17764077846774926, -1.2194784693211722, 0.10525986908387237, -0.2759936902369652, 1.797264068757335, -0.9064375293266415, -0.631599001198882, -0.23606505737488173, 1.0464383207469847, 0.7484508615287344, -0.6868827872993668, -1.2731841825690051, 0.3194899183878682, -0.5449673146027159, -1.3574624317646504, -1.2157416817511568, 1.3517008068763363, -0.16665352151456828, 1.4415162667781476, -1.9502344824506048, 1.6216169341371227, -0.10540795403149338, -0.20377632024452383, -0.3845510088852165, -0.35362843346234274, 0.8547599515179909, 0.4289986468411021, 0.1426696706224036, -1.2294521706700443, 1.340608730573424, -1.6643780335315081, 0.5844734285376947, -0.4966543147921046, -0.22723137508522312, -1.2264747131258893, 1.3182194186252083, -0.35775241673320024, -1.993955115142308, 0.16731377579434287, -0.9746819259679719, -1.1010662431715916, 1.1333955819748986, 0.7865551264976777, -1.1033582478114714, 0.27667325585704156, 0.973013539999785, 0.7472477246538872, 0.5806588401418527, -0.9440690142746736, -0.7091314809087226, 0.8292023335822314, -0.3111960484538863, -0.38686078242812555, -0.6731284700541769, -0.18278367881869112, -0.014898819710800332, 0.994963349206386, 0.5947018519682341, -0.6109611236269217, -0.18192401819093953, -1.5289530012851809, 0.42490151621141736], \"xaxis\": \"x7\", \"y\": [-1.2073839278312855, -0.8914152871341857, 0.9122000538112298, 0.6498066921507818, -0.00899612165220606, -0.5004526156800174, 0.34729418384591637, 0.15897743642567497, -0.21839432228170258, -0.49991139525442396, 0.9610693389406737, 0.5618914806405604, 1.201558960930769, -0.2273238288028599, 1.1138543091175164, -1.0868005540326964, -1.1715605560090836, 0.9003730719574612, 0.03682778941603213, -0.15459482647855446, 0.7221015269889887, 0.38583033388373106, 0.6543951885091118, 0.040095597861937025, 0.17972487983609023, 0.28158447514524965, 1.8330586456748375, -1.4855936550488982, -0.1883376767633526, 1.0024422321628312, -0.9234550503192078, -0.11575204468620277, -0.6234014385670065, 0.9415011286362762, -1.0517190719433238, 2.0515592254487953, -0.2580451508330001, -0.5150870104052806, 0.09088235032580956, 2.231352209037297, -0.15859836080583842, -0.9808380119046511, 0.06323059919233626, -0.21106543250299467, -0.6576314663591996, 0.09798213161331863, -0.24017783056310635, 0.46385088321858264, 0.256202641291782, 1.5882261135642595, -0.49785387726708114, -2.996055335076067, 1.0979391220131691, 0.3627975014686308, -0.10786076072121988, 0.0641227457433506, -0.5508234727964582, -0.4893642929797324, -0.01295655628743466, 0.6364408498489723, -1.3445070194151048, -1.2060950265348032, -1.302017996699132, 0.30575364739168376, 1.1344522718513066, -0.40899495791668117, -0.1879338341978866, 0.7701867136427122, -0.3142097601883405, 0.3768390832801088, 2.2322106533883845, -0.6105290427360885, 0.12788746771461784, 0.6964055162543205, 1.188468028747178, -0.1983515900990588, -1.8987123602775557, -0.4467780747490587, -1.401342976649239, 1.9570162473353976, -2.181136421012167, -1.1794166803130908, 0.19599267454193595, 0.7740325867092016, -1.0193643289430883, -0.023458044632571996, -1.7150708376874946, 0.397417382762338, -0.7029977592823403, 0.6311539886525172, -0.4145841586488041, -2.4197468703272453, -0.46942188535039864, 0.5744298855541616, -0.29328939444327295, 2.377437799872268, -1.7487701098601915, -0.7913451308489126, 0.46738856275175306, -0.7480590074762296], \"yaxis\": \"y7\"}, {\"line\": {\"color\": \"rgba(128, 128, 128, 1.0)\", \"dash\": \"solid\", \"shape\": \"linear\", \"width\": 1.3}, \"marker\": {\"size\": 2, \"symbol\": \"circle\"}, \"mode\": \"markers\", \"name\": \"B\", \"text\": \"\", \"type\": \"scatter\", \"x\": [-0.24295250953129108, -0.12827460320049489, 2.970659842989287, 0.45974132419489866, 1.164454090962472, -0.7314055252035659, -0.5449101561588183, 0.5117415970268605, 0.3278007948311033, -0.23231751877037987, 1.7868831272568824, -1.4135055934875524, 0.27151805904491494, -1.291461804230663, 0.0012425086116985915, 2.3664084647711676, -0.2622917058892799, -2.1388305857772507, 0.8069542410959432, -0.07977536099207176, 0.7792965860411794, 0.332539459677594, -1.9558835131769172, 0.3031224284283438, -0.4402398607893659, -0.7981297374939099, 0.21206370073994354, -0.13652782875817018, -0.2917311459639741, -0.6619420533173175, 1.7864338216191098, 0.4483115694708084, -2.8045739317148044, -0.37269533039988884, -1.03369866435832, -0.5065170686228558, -0.04597809325360672, 0.8981809317738958, -0.18926184697998172, 1.0562327390292001, -0.7100215522540436, 0.061721096304667315, 0.24362661681457334, 1.2909836539249675, -1.8796434891569094, 0.057165226884120034, -1.5442289516993324, 0.06749486486318663, -0.7303673126311082, -0.7818430070190294, 0.3589530849234872, 0.7869622437653797, 0.24007604461641832, 1.1430643912329008, -0.708957021897143, 0.8924603531688191, -1.0308859395863692, 2.346418484754605, 0.3616548319479292, -0.8701918572925443, 0.7089471483071063, -0.9070039750845411, -0.17459980432821243, 0.6702844154161197, -1.6249452282300787, -1.010142157907602, 1.53797174447603, 1.1581519529551638, 0.24262638010011067, 0.24072869175425662, -0.7941179508060363, 0.18743613295526848, -0.14935234363963534, 0.5733263723397176, 1.7615480990725936, -0.057318590974638366, 0.7553419270425359, -0.7173722111539768, -2.3089432393271414, 0.6247880749109848, 0.3911263785508444, 0.6800977316187646, 0.31656288728706317, 1.5833236603519991, 0.21783726551960741, 1.2109998478708084, 0.06837885604751842, 0.5884254784829538, 0.6051255415707739, 0.08791390277971288, 2.1845592118278785, 1.527814568834567, -1.327221452690222, 0.5428786782866669, 0.3806844088743656, -1.1559784367300785, -0.0117129741558672, 0.2648788265299483, 0.35506176003794576, 0.2318232594759154], \"xaxis\": \"x8\", \"y\": [-1.2073839278312855, -0.8914152871341857, 0.9122000538112298, 0.6498066921507818, -0.00899612165220606, -0.5004526156800174, 0.34729418384591637, 0.15897743642567497, -0.21839432228170258, -0.49991139525442396, 0.9610693389406737, 0.5618914806405604, 1.201558960930769, -0.2273238288028599, 1.1138543091175164, -1.0868005540326964, -1.1715605560090836, 0.9003730719574612, 0.03682778941603213, -0.15459482647855446, 0.7221015269889887, 0.38583033388373106, 0.6543951885091118, 0.040095597861937025, 0.17972487983609023, 0.28158447514524965, 1.8330586456748375, -1.4855936550488982, -0.1883376767633526, 1.0024422321628312, -0.9234550503192078, -0.11575204468620277, -0.6234014385670065, 0.9415011286362762, -1.0517190719433238, 2.0515592254487953, -0.2580451508330001, -0.5150870104052806, 0.09088235032580956, 2.231352209037297, -0.15859836080583842, -0.9808380119046511, 0.06323059919233626, -0.21106543250299467, -0.6576314663591996, 0.09798213161331863, -0.24017783056310635, 0.46385088321858264, 0.256202641291782, 1.5882261135642595, -0.49785387726708114, -2.996055335076067, 1.0979391220131691, 0.3627975014686308, -0.10786076072121988, 0.0641227457433506, -0.5508234727964582, -0.4893642929797324, -0.01295655628743466, 0.6364408498489723, -1.3445070194151048, -1.2060950265348032, -1.302017996699132, 0.30575364739168376, 1.1344522718513066, -0.40899495791668117, -0.1879338341978866, 0.7701867136427122, -0.3142097601883405, 0.3768390832801088, 2.2322106533883845, -0.6105290427360885, 0.12788746771461784, 0.6964055162543205, 1.188468028747178, -0.1983515900990588, -1.8987123602775557, -0.4467780747490587, -1.401342976649239, 1.9570162473353976, -2.181136421012167, -1.1794166803130908, 0.19599267454193595, 0.7740325867092016, -1.0193643289430883, -0.023458044632571996, -1.7150708376874946, 0.397417382762338, -0.7029977592823403, 0.6311539886525172, -0.4145841586488041, -2.4197468703272453, -0.46942188535039864, 0.5744298855541616, -0.29328939444327295, 2.377437799872268, -1.7487701098601915, -0.7913451308489126, 0.46738856275175306, -0.7480590074762296], \"yaxis\": \"y8\"}, {\"line\": {\"color\": \"rgba(128, 128, 128, 1.0)\", \"dash\": \"solid\", \"shape\": \"linear\", \"width\": 1.3}, \"marker\": {\"size\": 2, \"symbol\": \"circle\"}, \"mode\": \"markers\", \"name\": \"C\", \"text\": \"\", \"type\": \"scatter\", \"x\": [-0.6889956521739307, -0.10998876634393508, 0.09699922766269028, -0.8808256190850161, 2.2172396213269425, -0.5181556954513972, 0.044220521243459814, -0.6182983871486031, 0.5035632820391117, -1.9735185015594627, -1.1226476322836956, -0.033709732199987, -0.47506049831864783, 0.4062401342415919, -0.8298431157254298, 0.6484928745668593, -0.8484283621195674, -0.11478932596098841, 0.4156464856047231, -1.2044313934808315, -0.7377218812849837, -0.3530399705530779, -1.2354471686035418, 1.415323768152012, 0.03667147351896974, 1.3757424357499963, -0.6204186792444727, 0.32246037711615533, 0.7176758702542765, -0.08952871392329798, -1.9115942832046897, 0.6464809271333035, 0.25280282897385653, -0.3030241591898929, 0.13348160896768804, 1.7778329413926857, -0.2706982328639064, 0.174223288645667, -0.6443864622112773, 0.05767854227106527, 0.9359769594187413, -0.2108110112579468, 0.7232976098150298, 0.13782196537317143, 0.1965086400798674, -0.35595137558340306, 0.19120368500211257, 1.190555681945383, 0.29840087375121377, 1.709979954740142, -2.448437868821938, 0.23410079150844357, 0.433512903693733, 1.9187512221029763, 0.34796679107170425, 0.28328638799105765, 0.44287235575880485, -0.7266976761259687, 0.3816684048555259, -0.8004660246613597, -0.06094814916289371, -0.48342674827606424, 0.8255274909549741, -0.10068957109932336, -2.172269351419027, -0.7422295876820347, -1.235546393094691, -1.2995927217470409, -0.684511063368568, 0.9958837433328543, -3.1991579221704414, 1.1793687045818502, -0.319124939743108, 0.8491143895203022, -1.1359643999435747, -0.5865615969649363, -0.19172108517410447, -0.30362087781243813, -0.03695050115199503, 0.9785928191618193, 2.0128678073383885, 0.5639780665112403, -1.7990312710673546, -1.114647156508601, 0.2947390593870421, 0.3690855749682276, 0.25285277904826237, 2.1287882496107553, 0.08504298776070535, 0.2704915897148827, -1.039195748914558, 0.5889777880510121, 0.9996470311558219, 0.9065031222001652, -0.7944687044530946, -0.4705706405607836, -0.07239019799691816, 0.017726005413281606, -1.640842578699129, -0.9970442281743205], \"xaxis\": \"x9\", \"y\": [1.3572538079600367, 0.3889542079424232, -0.2204280148649024, 0.32794825283187407, -0.10267501810924519, 0.37705374699585775, -0.20890151330780896, 0.626243751571112, -1.8088289714837196, 1.7252388502558291, 0.48997474380667844, -1.9362219967236907, -0.1422968206402504, -0.15206945627461832, 0.6214115109313594, -1.4615512777347377, -0.14958636372797185, 0.35745921397008423, 0.8357978106910908, -0.7470122961155502, -0.06157342593553133, 1.312233513749872, 0.5053341867761568, -0.20129983771528723, -1.032376489695527, -0.5013128056656442, -1.4043921119107579, -0.6391851582191036, -1.7698996934746816, -0.04957301282581744, -0.15775457767629247, -0.8264621718797414, -1.2006553269313285, -0.942889313612981, -1.56754839305474, 0.5991803867711081, -0.38152555293429086, -2.1007726559392372, -0.17764077846774926, -1.2194784693211722, 0.10525986908387237, -0.2759936902369652, 1.797264068757335, -0.9064375293266415, -0.631599001198882, -0.23606505737488173, 1.0464383207469847, 0.7484508615287344, -0.6868827872993668, -1.2731841825690051, 0.3194899183878682, -0.5449673146027159, -1.3574624317646504, -1.2157416817511568, 1.3517008068763363, -0.16665352151456828, 1.4415162667781476, -1.9502344824506048, 1.6216169341371227, -0.10540795403149338, -0.20377632024452383, -0.3845510088852165, -0.35362843346234274, 0.8547599515179909, 0.4289986468411021, 0.1426696706224036, -1.2294521706700443, 1.340608730573424, -1.6643780335315081, 0.5844734285376947, -0.4966543147921046, -0.22723137508522312, -1.2264747131258893, 1.3182194186252083, -0.35775241673320024, -1.993955115142308, 0.16731377579434287, -0.9746819259679719, -1.1010662431715916, 1.1333955819748986, 0.7865551264976777, -1.1033582478114714, 0.27667325585704156, 0.973013539999785, 0.7472477246538872, 0.5806588401418527, -0.9440690142746736, -0.7091314809087226, 0.8292023335822314, -0.3111960484538863, -0.38686078242812555, -0.6731284700541769, -0.18278367881869112, -0.014898819710800332, 0.994963349206386, 0.5947018519682341, -0.6109611236269217, -0.18192401819093953, -1.5289530012851809, 0.42490151621141736], \"yaxis\": \"y9\"}, {\"line\": {\"color\": \"rgba(128, 128, 128, 1.0)\", \"dash\": \"solid\", \"shape\": \"linear\", \"width\": 1.3}, \"marker\": {\"size\": 2, \"symbol\": \"circle\"}, \"mode\": \"markers\", \"name\": \"C\", \"text\": \"\", \"type\": \"scatter\", \"x\": [-1.2073839278312855, -0.8914152871341857, 0.9122000538112298, 0.6498066921507818, -0.00899612165220606, -0.5004526156800174, 0.34729418384591637, 0.15897743642567497, -0.21839432228170258, -0.49991139525442396, 0.9610693389406737, 0.5618914806405604, 1.201558960930769, -0.2273238288028599, 1.1138543091175164, -1.0868005540326964, -1.1715605560090836, 0.9003730719574612, 0.03682778941603213, -0.15459482647855446, 0.7221015269889887, 0.38583033388373106, 0.6543951885091118, 0.040095597861937025, 0.17972487983609023, 0.28158447514524965, 1.8330586456748375, -1.4855936550488982, -0.1883376767633526, 1.0024422321628312, -0.9234550503192078, -0.11575204468620277, -0.6234014385670065, 0.9415011286362762, -1.0517190719433238, 2.0515592254487953, -0.2580451508330001, -0.5150870104052806, 0.09088235032580956, 2.231352209037297, -0.15859836080583842, -0.9808380119046511, 0.06323059919233626, -0.21106543250299467, -0.6576314663591996, 0.09798213161331863, -0.24017783056310635, 0.46385088321858264, 0.256202641291782, 1.5882261135642595, -0.49785387726708114, -2.996055335076067, 1.0979391220131691, 0.3627975014686308, -0.10786076072121988, 0.0641227457433506, -0.5508234727964582, -0.4893642929797324, -0.01295655628743466, 0.6364408498489723, -1.3445070194151048, -1.2060950265348032, -1.302017996699132, 0.30575364739168376, 1.1344522718513066, -0.40899495791668117, -0.1879338341978866, 0.7701867136427122, -0.3142097601883405, 0.3768390832801088, 2.2322106533883845, -0.6105290427360885, 0.12788746771461784, 0.6964055162543205, 1.188468028747178, -0.1983515900990588, -1.8987123602775557, -0.4467780747490587, -1.401342976649239, 1.9570162473353976, -2.181136421012167, -1.1794166803130908, 0.19599267454193595, 0.7740325867092016, -1.0193643289430883, -0.023458044632571996, -1.7150708376874946, 0.397417382762338, -0.7029977592823403, 0.6311539886525172, -0.4145841586488041, -2.4197468703272453, -0.46942188535039864, 0.5744298855541616, -0.29328939444327295, 2.377437799872268, -1.7487701098601915, -0.7913451308489126, 0.46738856275175306, -0.7480590074762296], \"xaxis\": \"x10\", \"y\": [1.3572538079600367, 0.3889542079424232, -0.2204280148649024, 0.32794825283187407, -0.10267501810924519, 0.37705374699585775, -0.20890151330780896, 0.626243751571112, -1.8088289714837196, 1.7252388502558291, 0.48997474380667844, -1.9362219967236907, -0.1422968206402504, -0.15206945627461832, 0.6214115109313594, -1.4615512777347377, -0.14958636372797185, 0.35745921397008423, 0.8357978106910908, -0.7470122961155502, -0.06157342593553133, 1.312233513749872, 0.5053341867761568, -0.20129983771528723, -1.032376489695527, -0.5013128056656442, -1.4043921119107579, -0.6391851582191036, -1.7698996934746816, -0.04957301282581744, -0.15775457767629247, -0.8264621718797414, -1.2006553269313285, -0.942889313612981, -1.56754839305474, 0.5991803867711081, -0.38152555293429086, -2.1007726559392372, -0.17764077846774926, -1.2194784693211722, 0.10525986908387237, -0.2759936902369652, 1.797264068757335, -0.9064375293266415, -0.631599001198882, -0.23606505737488173, 1.0464383207469847, 0.7484508615287344, -0.6868827872993668, -1.2731841825690051, 0.3194899183878682, -0.5449673146027159, -1.3574624317646504, -1.2157416817511568, 1.3517008068763363, -0.16665352151456828, 1.4415162667781476, -1.9502344824506048, 1.6216169341371227, -0.10540795403149338, -0.20377632024452383, -0.3845510088852165, -0.35362843346234274, 0.8547599515179909, 0.4289986468411021, 0.1426696706224036, -1.2294521706700443, 1.340608730573424, -1.6643780335315081, 0.5844734285376947, -0.4966543147921046, -0.22723137508522312, -1.2264747131258893, 1.3182194186252083, -0.35775241673320024, -1.993955115142308, 0.16731377579434287, -0.9746819259679719, -1.1010662431715916, 1.1333955819748986, 0.7865551264976777, -1.1033582478114714, 0.27667325585704156, 0.973013539999785, 0.7472477246538872, 0.5806588401418527, -0.9440690142746736, -0.7091314809087226, 0.8292023335822314, -0.3111960484538863, -0.38686078242812555, -0.6731284700541769, -0.18278367881869112, -0.014898819710800332, 0.994963349206386, 0.5947018519682341, -0.6109611236269217, -0.18192401819093953, -1.5289530012851809, 0.42490151621141736], \"yaxis\": \"y10\"}, {\"histfunc\": \"count\", \"histnorm\": \"\", \"marker\": {\"color\": \"rgba(50, 171, 96, 1.0)\", \"line\": {\"color\": \"#4D5663\", \"width\": 1.3}}, \"name\": \"C\", \"nbinsx\": 10, \"opacity\": 0.8, \"orientation\": \"v\", \"type\": \"histogram\", \"x\": [1.3572538079600367, 0.3889542079424232, -0.2204280148649024, 0.32794825283187407, -0.10267501810924519, 0.37705374699585775, -0.20890151330780896, 0.626243751571112, -1.8088289714837196, 1.7252388502558291, 0.48997474380667844, -1.9362219967236907, -0.1422968206402504, -0.15206945627461832, 0.6214115109313594, -1.4615512777347377, -0.14958636372797185, 0.35745921397008423, 0.8357978106910908, -0.7470122961155502, -0.06157342593553133, 1.312233513749872, 0.5053341867761568, -0.20129983771528723, -1.032376489695527, -0.5013128056656442, -1.4043921119107579, -0.6391851582191036, -1.7698996934746816, -0.04957301282581744, -0.15775457767629247, -0.8264621718797414, -1.2006553269313285, -0.942889313612981, -1.56754839305474, 0.5991803867711081, -0.38152555293429086, -2.1007726559392372, -0.17764077846774926, -1.2194784693211722, 0.10525986908387237, -0.2759936902369652, 1.797264068757335, -0.9064375293266415, -0.631599001198882, -0.23606505737488173, 1.0464383207469847, 0.7484508615287344, -0.6868827872993668, -1.2731841825690051, 0.3194899183878682, -0.5449673146027159, -1.3574624317646504, -1.2157416817511568, 1.3517008068763363, -0.16665352151456828, 1.4415162667781476, -1.9502344824506048, 1.6216169341371227, -0.10540795403149338, -0.20377632024452383, -0.3845510088852165, -0.35362843346234274, 0.8547599515179909, 0.4289986468411021, 0.1426696706224036, -1.2294521706700443, 1.340608730573424, -1.6643780335315081, 0.5844734285376947, -0.4966543147921046, -0.22723137508522312, -1.2264747131258893, 1.3182194186252083, -0.35775241673320024, -1.993955115142308, 0.16731377579434287, -0.9746819259679719, -1.1010662431715916, 1.1333955819748986, 0.7865551264976777, -1.1033582478114714, 0.27667325585704156, 0.973013539999785, 0.7472477246538872, 0.5806588401418527, -0.9440690142746736, -0.7091314809087226, 0.8292023335822314, -0.3111960484538863, -0.38686078242812555, -0.6731284700541769, -0.18278367881869112, -0.014898819710800332, 0.994963349206386, 0.5947018519682341, -0.6109611236269217, -0.18192401819093953, -1.5289530012851809, 0.42490151621141736], \"xaxis\": \"x11\", \"yaxis\": \"y11\"}, {\"line\": {\"color\": \"rgba(128, 128, 128, 1.0)\", \"dash\": \"solid\", \"shape\": \"linear\", \"width\": 1.3}, \"marker\": {\"size\": 2, \"symbol\": \"circle\"}, \"mode\": \"markers\", \"name\": \"C\", \"text\": \"\", \"type\": \"scatter\", \"x\": [-0.24295250953129108, -0.12827460320049489, 2.970659842989287, 0.45974132419489866, 1.164454090962472, -0.7314055252035659, -0.5449101561588183, 0.5117415970268605, 0.3278007948311033, -0.23231751877037987, 1.7868831272568824, -1.4135055934875524, 0.27151805904491494, -1.291461804230663, 0.0012425086116985915, 2.3664084647711676, -0.2622917058892799, -2.1388305857772507, 0.8069542410959432, -0.07977536099207176, 0.7792965860411794, 0.332539459677594, -1.9558835131769172, 0.3031224284283438, -0.4402398607893659, -0.7981297374939099, 0.21206370073994354, -0.13652782875817018, -0.2917311459639741, -0.6619420533173175, 1.7864338216191098, 0.4483115694708084, -2.8045739317148044, -0.37269533039988884, -1.03369866435832, -0.5065170686228558, -0.04597809325360672, 0.8981809317738958, -0.18926184697998172, 1.0562327390292001, -0.7100215522540436, 0.061721096304667315, 0.24362661681457334, 1.2909836539249675, -1.8796434891569094, 0.057165226884120034, -1.5442289516993324, 0.06749486486318663, -0.7303673126311082, -0.7818430070190294, 0.3589530849234872, 0.7869622437653797, 0.24007604461641832, 1.1430643912329008, -0.708957021897143, 0.8924603531688191, -1.0308859395863692, 2.346418484754605, 0.3616548319479292, -0.8701918572925443, 0.7089471483071063, -0.9070039750845411, -0.17459980432821243, 0.6702844154161197, -1.6249452282300787, -1.010142157907602, 1.53797174447603, 1.1581519529551638, 0.24262638010011067, 0.24072869175425662, -0.7941179508060363, 0.18743613295526848, -0.14935234363963534, 0.5733263723397176, 1.7615480990725936, -0.057318590974638366, 0.7553419270425359, -0.7173722111539768, -2.3089432393271414, 0.6247880749109848, 0.3911263785508444, 0.6800977316187646, 0.31656288728706317, 1.5833236603519991, 0.21783726551960741, 1.2109998478708084, 0.06837885604751842, 0.5884254784829538, 0.6051255415707739, 0.08791390277971288, 2.1845592118278785, 1.527814568834567, -1.327221452690222, 0.5428786782866669, 0.3806844088743656, -1.1559784367300785, -0.0117129741558672, 0.2648788265299483, 0.35506176003794576, 0.2318232594759154], \"xaxis\": \"x12\", \"y\": [1.3572538079600367, 0.3889542079424232, -0.2204280148649024, 0.32794825283187407, -0.10267501810924519, 0.37705374699585775, -0.20890151330780896, 0.626243751571112, -1.8088289714837196, 1.7252388502558291, 0.48997474380667844, -1.9362219967236907, -0.1422968206402504, -0.15206945627461832, 0.6214115109313594, -1.4615512777347377, -0.14958636372797185, 0.35745921397008423, 0.8357978106910908, -0.7470122961155502, -0.06157342593553133, 1.312233513749872, 0.5053341867761568, -0.20129983771528723, -1.032376489695527, -0.5013128056656442, -1.4043921119107579, -0.6391851582191036, -1.7698996934746816, -0.04957301282581744, -0.15775457767629247, -0.8264621718797414, -1.2006553269313285, -0.942889313612981, -1.56754839305474, 0.5991803867711081, -0.38152555293429086, -2.1007726559392372, -0.17764077846774926, -1.2194784693211722, 0.10525986908387237, -0.2759936902369652, 1.797264068757335, -0.9064375293266415, -0.631599001198882, -0.23606505737488173, 1.0464383207469847, 0.7484508615287344, -0.6868827872993668, -1.2731841825690051, 0.3194899183878682, -0.5449673146027159, -1.3574624317646504, -1.2157416817511568, 1.3517008068763363, -0.16665352151456828, 1.4415162667781476, -1.9502344824506048, 1.6216169341371227, -0.10540795403149338, -0.20377632024452383, -0.3845510088852165, -0.35362843346234274, 0.8547599515179909, 0.4289986468411021, 0.1426696706224036, -1.2294521706700443, 1.340608730573424, -1.6643780335315081, 0.5844734285376947, -0.4966543147921046, -0.22723137508522312, -1.2264747131258893, 1.3182194186252083, -0.35775241673320024, -1.993955115142308, 0.16731377579434287, -0.9746819259679719, -1.1010662431715916, 1.1333955819748986, 0.7865551264976777, -1.1033582478114714, 0.27667325585704156, 0.973013539999785, 0.7472477246538872, 0.5806588401418527, -0.9440690142746736, -0.7091314809087226, 0.8292023335822314, -0.3111960484538863, -0.38686078242812555, -0.6731284700541769, -0.18278367881869112, -0.014898819710800332, 0.994963349206386, 0.5947018519682341, -0.6109611236269217, -0.18192401819093953, -1.5289530012851809, 0.42490151621141736], \"yaxis\": \"y12\"}, {\"line\": {\"color\": \"rgba(128, 128, 128, 1.0)\", \"dash\": \"solid\", \"shape\": \"linear\", \"width\": 1.3}, \"marker\": {\"size\": 2, \"symbol\": \"circle\"}, \"mode\": \"markers\", \"name\": \"D\", \"text\": \"\", \"type\": \"scatter\", \"x\": [-0.6889956521739307, -0.10998876634393508, 0.09699922766269028, -0.8808256190850161, 2.2172396213269425, -0.5181556954513972, 0.044220521243459814, -0.6182983871486031, 0.5035632820391117, -1.9735185015594627, -1.1226476322836956, -0.033709732199987, -0.47506049831864783, 0.4062401342415919, -0.8298431157254298, 0.6484928745668593, -0.8484283621195674, -0.11478932596098841, 0.4156464856047231, -1.2044313934808315, -0.7377218812849837, -0.3530399705530779, -1.2354471686035418, 1.415323768152012, 0.03667147351896974, 1.3757424357499963, -0.6204186792444727, 0.32246037711615533, 0.7176758702542765, -0.08952871392329798, -1.9115942832046897, 0.6464809271333035, 0.25280282897385653, -0.3030241591898929, 0.13348160896768804, 1.7778329413926857, -0.2706982328639064, 0.174223288645667, -0.6443864622112773, 0.05767854227106527, 0.9359769594187413, -0.2108110112579468, 0.7232976098150298, 0.13782196537317143, 0.1965086400798674, -0.35595137558340306, 0.19120368500211257, 1.190555681945383, 0.29840087375121377, 1.709979954740142, -2.448437868821938, 0.23410079150844357, 0.433512903693733, 1.9187512221029763, 0.34796679107170425, 0.28328638799105765, 0.44287235575880485, -0.7266976761259687, 0.3816684048555259, -0.8004660246613597, -0.06094814916289371, -0.48342674827606424, 0.8255274909549741, -0.10068957109932336, -2.172269351419027, -0.7422295876820347, -1.235546393094691, -1.2995927217470409, -0.684511063368568, 0.9958837433328543, -3.1991579221704414, 1.1793687045818502, -0.319124939743108, 0.8491143895203022, -1.1359643999435747, -0.5865615969649363, -0.19172108517410447, -0.30362087781243813, -0.03695050115199503, 0.9785928191618193, 2.0128678073383885, 0.5639780665112403, -1.7990312710673546, -1.114647156508601, 0.2947390593870421, 0.3690855749682276, 0.25285277904826237, 2.1287882496107553, 0.08504298776070535, 0.2704915897148827, -1.039195748914558, 0.5889777880510121, 0.9996470311558219, 0.9065031222001652, -0.7944687044530946, -0.4705706405607836, -0.07239019799691816, 0.017726005413281606, -1.640842578699129, -0.9970442281743205], \"xaxis\": \"x13\", \"y\": [-0.24295250953129108, -0.12827460320049489, 2.970659842989287, 0.45974132419489866, 1.164454090962472, -0.7314055252035659, -0.5449101561588183, 0.5117415970268605, 0.3278007948311033, -0.23231751877037987, 1.7868831272568824, -1.4135055934875524, 0.27151805904491494, -1.291461804230663, 0.0012425086116985915, 2.3664084647711676, -0.2622917058892799, -2.1388305857772507, 0.8069542410959432, -0.07977536099207176, 0.7792965860411794, 0.332539459677594, -1.9558835131769172, 0.3031224284283438, -0.4402398607893659, -0.7981297374939099, 0.21206370073994354, -0.13652782875817018, -0.2917311459639741, -0.6619420533173175, 1.7864338216191098, 0.4483115694708084, -2.8045739317148044, -0.37269533039988884, -1.03369866435832, -0.5065170686228558, -0.04597809325360672, 0.8981809317738958, -0.18926184697998172, 1.0562327390292001, -0.7100215522540436, 0.061721096304667315, 0.24362661681457334, 1.2909836539249675, -1.8796434891569094, 0.057165226884120034, -1.5442289516993324, 0.06749486486318663, -0.7303673126311082, -0.7818430070190294, 0.3589530849234872, 0.7869622437653797, 0.24007604461641832, 1.1430643912329008, -0.708957021897143, 0.8924603531688191, -1.0308859395863692, 2.346418484754605, 0.3616548319479292, -0.8701918572925443, 0.7089471483071063, -0.9070039750845411, -0.17459980432821243, 0.6702844154161197, -1.6249452282300787, -1.010142157907602, 1.53797174447603, 1.1581519529551638, 0.24262638010011067, 0.24072869175425662, -0.7941179508060363, 0.18743613295526848, -0.14935234363963534, 0.5733263723397176, 1.7615480990725936, -0.057318590974638366, 0.7553419270425359, -0.7173722111539768, -2.3089432393271414, 0.6247880749109848, 0.3911263785508444, 0.6800977316187646, 0.31656288728706317, 1.5833236603519991, 0.21783726551960741, 1.2109998478708084, 0.06837885604751842, 0.5884254784829538, 0.6051255415707739, 0.08791390277971288, 2.1845592118278785, 1.527814568834567, -1.327221452690222, 0.5428786782866669, 0.3806844088743656, -1.1559784367300785, -0.0117129741558672, 0.2648788265299483, 0.35506176003794576, 0.2318232594759154], \"yaxis\": \"y13\"}, {\"line\": {\"color\": \"rgba(128, 128, 128, 1.0)\", \"dash\": \"solid\", \"shape\": \"linear\", \"width\": 1.3}, \"marker\": {\"size\": 2, \"symbol\": \"circle\"}, \"mode\": \"markers\", \"name\": \"D\", \"text\": \"\", \"type\": \"scatter\", \"x\": [-1.2073839278312855, -0.8914152871341857, 0.9122000538112298, 0.6498066921507818, -0.00899612165220606, -0.5004526156800174, 0.34729418384591637, 0.15897743642567497, -0.21839432228170258, -0.49991139525442396, 0.9610693389406737, 0.5618914806405604, 1.201558960930769, -0.2273238288028599, 1.1138543091175164, -1.0868005540326964, -1.1715605560090836, 0.9003730719574612, 0.03682778941603213, -0.15459482647855446, 0.7221015269889887, 0.38583033388373106, 0.6543951885091118, 0.040095597861937025, 0.17972487983609023, 0.28158447514524965, 1.8330586456748375, -1.4855936550488982, -0.1883376767633526, 1.0024422321628312, -0.9234550503192078, -0.11575204468620277, -0.6234014385670065, 0.9415011286362762, -1.0517190719433238, 2.0515592254487953, -0.2580451508330001, -0.5150870104052806, 0.09088235032580956, 2.231352209037297, -0.15859836080583842, -0.9808380119046511, 0.06323059919233626, -0.21106543250299467, -0.6576314663591996, 0.09798213161331863, -0.24017783056310635, 0.46385088321858264, 0.256202641291782, 1.5882261135642595, -0.49785387726708114, -2.996055335076067, 1.0979391220131691, 0.3627975014686308, -0.10786076072121988, 0.0641227457433506, -0.5508234727964582, -0.4893642929797324, -0.01295655628743466, 0.6364408498489723, -1.3445070194151048, -1.2060950265348032, -1.302017996699132, 0.30575364739168376, 1.1344522718513066, -0.40899495791668117, -0.1879338341978866, 0.7701867136427122, -0.3142097601883405, 0.3768390832801088, 2.2322106533883845, -0.6105290427360885, 0.12788746771461784, 0.6964055162543205, 1.188468028747178, -0.1983515900990588, -1.8987123602775557, -0.4467780747490587, -1.401342976649239, 1.9570162473353976, -2.181136421012167, -1.1794166803130908, 0.19599267454193595, 0.7740325867092016, -1.0193643289430883, -0.023458044632571996, -1.7150708376874946, 0.397417382762338, -0.7029977592823403, 0.6311539886525172, -0.4145841586488041, -2.4197468703272453, -0.46942188535039864, 0.5744298855541616, -0.29328939444327295, 2.377437799872268, -1.7487701098601915, -0.7913451308489126, 0.46738856275175306, -0.7480590074762296], \"xaxis\": \"x14\", \"y\": [-0.24295250953129108, -0.12827460320049489, 2.970659842989287, 0.45974132419489866, 1.164454090962472, -0.7314055252035659, -0.5449101561588183, 0.5117415970268605, 0.3278007948311033, -0.23231751877037987, 1.7868831272568824, -1.4135055934875524, 0.27151805904491494, -1.291461804230663, 0.0012425086116985915, 2.3664084647711676, -0.2622917058892799, -2.1388305857772507, 0.8069542410959432, -0.07977536099207176, 0.7792965860411794, 0.332539459677594, -1.9558835131769172, 0.3031224284283438, -0.4402398607893659, -0.7981297374939099, 0.21206370073994354, -0.13652782875817018, -0.2917311459639741, -0.6619420533173175, 1.7864338216191098, 0.4483115694708084, -2.8045739317148044, -0.37269533039988884, -1.03369866435832, -0.5065170686228558, -0.04597809325360672, 0.8981809317738958, -0.18926184697998172, 1.0562327390292001, -0.7100215522540436, 0.061721096304667315, 0.24362661681457334, 1.2909836539249675, -1.8796434891569094, 0.057165226884120034, -1.5442289516993324, 0.06749486486318663, -0.7303673126311082, -0.7818430070190294, 0.3589530849234872, 0.7869622437653797, 0.24007604461641832, 1.1430643912329008, -0.708957021897143, 0.8924603531688191, -1.0308859395863692, 2.346418484754605, 0.3616548319479292, -0.8701918572925443, 0.7089471483071063, -0.9070039750845411, -0.17459980432821243, 0.6702844154161197, -1.6249452282300787, -1.010142157907602, 1.53797174447603, 1.1581519529551638, 0.24262638010011067, 0.24072869175425662, -0.7941179508060363, 0.18743613295526848, -0.14935234363963534, 0.5733263723397176, 1.7615480990725936, -0.057318590974638366, 0.7553419270425359, -0.7173722111539768, -2.3089432393271414, 0.6247880749109848, 0.3911263785508444, 0.6800977316187646, 0.31656288728706317, 1.5833236603519991, 0.21783726551960741, 1.2109998478708084, 0.06837885604751842, 0.5884254784829538, 0.6051255415707739, 0.08791390277971288, 2.1845592118278785, 1.527814568834567, -1.327221452690222, 0.5428786782866669, 0.3806844088743656, -1.1559784367300785, -0.0117129741558672, 0.2648788265299483, 0.35506176003794576, 0.2318232594759154], \"yaxis\": \"y14\"}, {\"line\": {\"color\": \"rgba(128, 128, 128, 1.0)\", \"dash\": \"solid\", \"shape\": \"linear\", \"width\": 1.3}, \"marker\": {\"size\": 2, \"symbol\": \"circle\"}, \"mode\": \"markers\", \"name\": \"D\", \"text\": \"\", \"type\": \"scatter\", \"x\": [1.3572538079600367, 0.3889542079424232, -0.2204280148649024, 0.32794825283187407, -0.10267501810924519, 0.37705374699585775, -0.20890151330780896, 0.626243751571112, -1.8088289714837196, 1.7252388502558291, 0.48997474380667844, -1.9362219967236907, -0.1422968206402504, -0.15206945627461832, 0.6214115109313594, -1.4615512777347377, -0.14958636372797185, 0.35745921397008423, 0.8357978106910908, -0.7470122961155502, -0.06157342593553133, 1.312233513749872, 0.5053341867761568, -0.20129983771528723, -1.032376489695527, -0.5013128056656442, -1.4043921119107579, -0.6391851582191036, -1.7698996934746816, -0.04957301282581744, -0.15775457767629247, -0.8264621718797414, -1.2006553269313285, -0.942889313612981, -1.56754839305474, 0.5991803867711081, -0.38152555293429086, -2.1007726559392372, -0.17764077846774926, -1.2194784693211722, 0.10525986908387237, -0.2759936902369652, 1.797264068757335, -0.9064375293266415, -0.631599001198882, -0.23606505737488173, 1.0464383207469847, 0.7484508615287344, -0.6868827872993668, -1.2731841825690051, 0.3194899183878682, -0.5449673146027159, -1.3574624317646504, -1.2157416817511568, 1.3517008068763363, -0.16665352151456828, 1.4415162667781476, -1.9502344824506048, 1.6216169341371227, -0.10540795403149338, -0.20377632024452383, -0.3845510088852165, -0.35362843346234274, 0.8547599515179909, 0.4289986468411021, 0.1426696706224036, -1.2294521706700443, 1.340608730573424, -1.6643780335315081, 0.5844734285376947, -0.4966543147921046, -0.22723137508522312, -1.2264747131258893, 1.3182194186252083, -0.35775241673320024, -1.993955115142308, 0.16731377579434287, -0.9746819259679719, -1.1010662431715916, 1.1333955819748986, 0.7865551264976777, -1.1033582478114714, 0.27667325585704156, 0.973013539999785, 0.7472477246538872, 0.5806588401418527, -0.9440690142746736, -0.7091314809087226, 0.8292023335822314, -0.3111960484538863, -0.38686078242812555, -0.6731284700541769, -0.18278367881869112, -0.014898819710800332, 0.994963349206386, 0.5947018519682341, -0.6109611236269217, -0.18192401819093953, -1.5289530012851809, 0.42490151621141736], \"xaxis\": \"x15\", \"y\": [-0.24295250953129108, -0.12827460320049489, 2.970659842989287, 0.45974132419489866, 1.164454090962472, -0.7314055252035659, -0.5449101561588183, 0.5117415970268605, 0.3278007948311033, -0.23231751877037987, 1.7868831272568824, -1.4135055934875524, 0.27151805904491494, -1.291461804230663, 0.0012425086116985915, 2.3664084647711676, -0.2622917058892799, -2.1388305857772507, 0.8069542410959432, -0.07977536099207176, 0.7792965860411794, 0.332539459677594, -1.9558835131769172, 0.3031224284283438, -0.4402398607893659, -0.7981297374939099, 0.21206370073994354, -0.13652782875817018, -0.2917311459639741, -0.6619420533173175, 1.7864338216191098, 0.4483115694708084, -2.8045739317148044, -0.37269533039988884, -1.03369866435832, -0.5065170686228558, -0.04597809325360672, 0.8981809317738958, -0.18926184697998172, 1.0562327390292001, -0.7100215522540436, 0.061721096304667315, 0.24362661681457334, 1.2909836539249675, -1.8796434891569094, 0.057165226884120034, -1.5442289516993324, 0.06749486486318663, -0.7303673126311082, -0.7818430070190294, 0.3589530849234872, 0.7869622437653797, 0.24007604461641832, 1.1430643912329008, -0.708957021897143, 0.8924603531688191, -1.0308859395863692, 2.346418484754605, 0.3616548319479292, -0.8701918572925443, 0.7089471483071063, -0.9070039750845411, -0.17459980432821243, 0.6702844154161197, -1.6249452282300787, -1.010142157907602, 1.53797174447603, 1.1581519529551638, 0.24262638010011067, 0.24072869175425662, -0.7941179508060363, 0.18743613295526848, -0.14935234363963534, 0.5733263723397176, 1.7615480990725936, -0.057318590974638366, 0.7553419270425359, -0.7173722111539768, -2.3089432393271414, 0.6247880749109848, 0.3911263785508444, 0.6800977316187646, 0.31656288728706317, 1.5833236603519991, 0.21783726551960741, 1.2109998478708084, 0.06837885604751842, 0.5884254784829538, 0.6051255415707739, 0.08791390277971288, 2.1845592118278785, 1.527814568834567, -1.327221452690222, 0.5428786782866669, 0.3806844088743656, -1.1559784367300785, -0.0117129741558672, 0.2648788265299483, 0.35506176003794576, 0.2318232594759154], \"yaxis\": \"y15\"}, {\"histfunc\": \"count\", \"histnorm\": \"\", \"marker\": {\"color\": \"rgba(128, 0, 128, 1.0)\", \"line\": {\"color\": \"#4D5663\", \"width\": 1.3}}, \"name\": \"D\", \"nbinsx\": 10, \"opacity\": 0.8, \"orientation\": \"v\", \"type\": \"histogram\", \"x\": [-0.24295250953129108, -0.12827460320049489, 2.970659842989287, 0.45974132419489866, 1.164454090962472, -0.7314055252035659, -0.5449101561588183, 0.5117415970268605, 0.3278007948311033, -0.23231751877037987, 1.7868831272568824, -1.4135055934875524, 0.27151805904491494, -1.291461804230663, 0.0012425086116985915, 2.3664084647711676, -0.2622917058892799, -2.1388305857772507, 0.8069542410959432, -0.07977536099207176, 0.7792965860411794, 0.332539459677594, -1.9558835131769172, 0.3031224284283438, -0.4402398607893659, -0.7981297374939099, 0.21206370073994354, -0.13652782875817018, -0.2917311459639741, -0.6619420533173175, 1.7864338216191098, 0.4483115694708084, -2.8045739317148044, -0.37269533039988884, -1.03369866435832, -0.5065170686228558, -0.04597809325360672, 0.8981809317738958, -0.18926184697998172, 1.0562327390292001, -0.7100215522540436, 0.061721096304667315, 0.24362661681457334, 1.2909836539249675, -1.8796434891569094, 0.057165226884120034, -1.5442289516993324, 0.06749486486318663, -0.7303673126311082, -0.7818430070190294, 0.3589530849234872, 0.7869622437653797, 0.24007604461641832, 1.1430643912329008, -0.708957021897143, 0.8924603531688191, -1.0308859395863692, 2.346418484754605, 0.3616548319479292, -0.8701918572925443, 0.7089471483071063, -0.9070039750845411, -0.17459980432821243, 0.6702844154161197, -1.6249452282300787, -1.010142157907602, 1.53797174447603, 1.1581519529551638, 0.24262638010011067, 0.24072869175425662, -0.7941179508060363, 0.18743613295526848, -0.14935234363963534, 0.5733263723397176, 1.7615480990725936, -0.057318590974638366, 0.7553419270425359, -0.7173722111539768, -2.3089432393271414, 0.6247880749109848, 0.3911263785508444, 0.6800977316187646, 0.31656288728706317, 1.5833236603519991, 0.21783726551960741, 1.2109998478708084, 0.06837885604751842, 0.5884254784829538, 0.6051255415707739, 0.08791390277971288, 2.1845592118278785, 1.527814568834567, -1.327221452690222, 0.5428786782866669, 0.3806844088743656, -1.1559784367300785, -0.0117129741558672, 0.2648788265299483, 0.35506176003794576, 0.2318232594759154], \"xaxis\": \"x16\", \"yaxis\": \"y16\"}],\n",
       "                        {\"bargap\": 0.02, \"legend\": {\"bgcolor\": \"#F5F6F9\", \"font\": {\"color\": \"#4D5663\"}}, \"paper_bgcolor\": \"#F5F6F9\", \"plot_bgcolor\": \"#F5F6F9\", \"showlegend\": false, \"template\": {\"data\": {\"bar\": [{\"error_x\": {\"color\": \"#2a3f5f\"}, \"error_y\": {\"color\": \"#2a3f5f\"}, \"marker\": {\"line\": {\"color\": \"#E5ECF6\", \"width\": 0.5}}, \"type\": \"bar\"}], \"barpolar\": [{\"marker\": {\"line\": {\"color\": \"#E5ECF6\", \"width\": 0.5}}, \"type\": \"barpolar\"}], \"carpet\": [{\"aaxis\": {\"endlinecolor\": \"#2a3f5f\", \"gridcolor\": \"white\", \"linecolor\": \"white\", \"minorgridcolor\": \"white\", \"startlinecolor\": \"#2a3f5f\"}, \"baxis\": {\"endlinecolor\": \"#2a3f5f\", \"gridcolor\": \"white\", \"linecolor\": \"white\", \"minorgridcolor\": \"white\", \"startlinecolor\": \"#2a3f5f\"}, \"type\": \"carpet\"}], \"choropleth\": [{\"colorbar\": {\"outlinewidth\": 0, \"ticks\": \"\"}, \"type\": \"choropleth\"}], \"contour\": [{\"colorbar\": {\"outlinewidth\": 0, \"ticks\": \"\"}, \"colorscale\": [[0.0, \"#0d0887\"], [0.1111111111111111, \"#46039f\"], [0.2222222222222222, \"#7201a8\"], [0.3333333333333333, \"#9c179e\"], [0.4444444444444444, \"#bd3786\"], [0.5555555555555556, \"#d8576b\"], [0.6666666666666666, \"#ed7953\"], [0.7777777777777778, \"#fb9f3a\"], [0.8888888888888888, \"#fdca26\"], [1.0, \"#f0f921\"]], \"type\": \"contour\"}], \"contourcarpet\": [{\"colorbar\": {\"outlinewidth\": 0, \"ticks\": \"\"}, \"type\": \"contourcarpet\"}], \"heatmap\": [{\"colorbar\": {\"outlinewidth\": 0, \"ticks\": \"\"}, \"colorscale\": [[0.0, \"#0d0887\"], [0.1111111111111111, \"#46039f\"], [0.2222222222222222, \"#7201a8\"], [0.3333333333333333, \"#9c179e\"], [0.4444444444444444, \"#bd3786\"], [0.5555555555555556, \"#d8576b\"], [0.6666666666666666, \"#ed7953\"], [0.7777777777777778, \"#fb9f3a\"], [0.8888888888888888, \"#fdca26\"], [1.0, \"#f0f921\"]], \"type\": \"heatmap\"}], \"heatmapgl\": [{\"colorbar\": {\"outlinewidth\": 0, \"ticks\": \"\"}, \"colorscale\": [[0.0, \"#0d0887\"], [0.1111111111111111, \"#46039f\"], [0.2222222222222222, \"#7201a8\"], [0.3333333333333333, \"#9c179e\"], [0.4444444444444444, \"#bd3786\"], [0.5555555555555556, \"#d8576b\"], [0.6666666666666666, \"#ed7953\"], [0.7777777777777778, \"#fb9f3a\"], [0.8888888888888888, \"#fdca26\"], [1.0, \"#f0f921\"]], \"type\": \"heatmapgl\"}], \"histogram\": [{\"marker\": {\"colorbar\": {\"outlinewidth\": 0, \"ticks\": \"\"}}, \"type\": \"histogram\"}], \"histogram2d\": [{\"colorbar\": {\"outlinewidth\": 0, \"ticks\": \"\"}, \"colorscale\": [[0.0, \"#0d0887\"], [0.1111111111111111, \"#46039f\"], [0.2222222222222222, \"#7201a8\"], [0.3333333333333333, \"#9c179e\"], [0.4444444444444444, \"#bd3786\"], [0.5555555555555556, \"#d8576b\"], [0.6666666666666666, \"#ed7953\"], [0.7777777777777778, \"#fb9f3a\"], [0.8888888888888888, \"#fdca26\"], [1.0, \"#f0f921\"]], \"type\": \"histogram2d\"}], \"histogram2dcontour\": [{\"colorbar\": {\"outlinewidth\": 0, \"ticks\": \"\"}, \"colorscale\": [[0.0, \"#0d0887\"], [0.1111111111111111, \"#46039f\"], [0.2222222222222222, \"#7201a8\"], [0.3333333333333333, \"#9c179e\"], [0.4444444444444444, \"#bd3786\"], [0.5555555555555556, \"#d8576b\"], [0.6666666666666666, \"#ed7953\"], [0.7777777777777778, \"#fb9f3a\"], [0.8888888888888888, \"#fdca26\"], [1.0, \"#f0f921\"]], \"type\": \"histogram2dcontour\"}], \"mesh3d\": [{\"colorbar\": {\"outlinewidth\": 0, \"ticks\": \"\"}, \"type\": \"mesh3d\"}], \"parcoords\": [{\"line\": {\"colorbar\": {\"outlinewidth\": 0, \"ticks\": \"\"}}, \"type\": \"parcoords\"}], \"pie\": [{\"automargin\": true, \"type\": \"pie\"}], \"scatter\": [{\"marker\": {\"colorbar\": {\"outlinewidth\": 0, \"ticks\": \"\"}}, \"type\": \"scatter\"}], \"scatter3d\": [{\"line\": {\"colorbar\": {\"outlinewidth\": 0, \"ticks\": \"\"}}, \"marker\": {\"colorbar\": {\"outlinewidth\": 0, \"ticks\": \"\"}}, \"type\": \"scatter3d\"}], \"scattercarpet\": [{\"marker\": {\"colorbar\": {\"outlinewidth\": 0, \"ticks\": \"\"}}, \"type\": \"scattercarpet\"}], \"scattergeo\": [{\"marker\": {\"colorbar\": {\"outlinewidth\": 0, \"ticks\": \"\"}}, \"type\": \"scattergeo\"}], \"scattergl\": [{\"marker\": {\"colorbar\": {\"outlinewidth\": 0, \"ticks\": \"\"}}, \"type\": \"scattergl\"}], \"scattermapbox\": [{\"marker\": {\"colorbar\": {\"outlinewidth\": 0, \"ticks\": \"\"}}, \"type\": \"scattermapbox\"}], \"scatterpolar\": [{\"marker\": {\"colorbar\": {\"outlinewidth\": 0, \"ticks\": \"\"}}, \"type\": \"scatterpolar\"}], \"scatterpolargl\": [{\"marker\": {\"colorbar\": {\"outlinewidth\": 0, \"ticks\": \"\"}}, \"type\": \"scatterpolargl\"}], \"scatterternary\": [{\"marker\": {\"colorbar\": {\"outlinewidth\": 0, \"ticks\": \"\"}}, \"type\": \"scatterternary\"}], \"surface\": [{\"colorbar\": {\"outlinewidth\": 0, \"ticks\": \"\"}, \"colorscale\": [[0.0, \"#0d0887\"], [0.1111111111111111, \"#46039f\"], [0.2222222222222222, \"#7201a8\"], [0.3333333333333333, \"#9c179e\"], [0.4444444444444444, \"#bd3786\"], [0.5555555555555556, \"#d8576b\"], [0.6666666666666666, \"#ed7953\"], [0.7777777777777778, \"#fb9f3a\"], [0.8888888888888888, \"#fdca26\"], [1.0, \"#f0f921\"]], \"type\": \"surface\"}], \"table\": [{\"cells\": {\"fill\": {\"color\": \"#EBF0F8\"}, \"line\": {\"color\": \"white\"}}, \"header\": {\"fill\": {\"color\": \"#C8D4E3\"}, \"line\": {\"color\": \"white\"}}, \"type\": \"table\"}]}, \"layout\": {\"annotationdefaults\": {\"arrowcolor\": \"#2a3f5f\", \"arrowhead\": 0, \"arrowwidth\": 1}, \"coloraxis\": {\"colorbar\": {\"outlinewidth\": 0, \"ticks\": \"\"}}, \"colorscale\": {\"diverging\": [[0, \"#8e0152\"], [0.1, \"#c51b7d\"], [0.2, \"#de77ae\"], [0.3, \"#f1b6da\"], [0.4, \"#fde0ef\"], [0.5, \"#f7f7f7\"], [0.6, \"#e6f5d0\"], [0.7, \"#b8e186\"], [0.8, \"#7fbc41\"], [0.9, \"#4d9221\"], [1, \"#276419\"]], \"sequential\": [[0.0, \"#0d0887\"], [0.1111111111111111, \"#46039f\"], [0.2222222222222222, \"#7201a8\"], [0.3333333333333333, \"#9c179e\"], [0.4444444444444444, \"#bd3786\"], [0.5555555555555556, \"#d8576b\"], [0.6666666666666666, \"#ed7953\"], [0.7777777777777778, \"#fb9f3a\"], [0.8888888888888888, \"#fdca26\"], [1.0, \"#f0f921\"]], \"sequentialminus\": [[0.0, \"#0d0887\"], [0.1111111111111111, \"#46039f\"], [0.2222222222222222, \"#7201a8\"], [0.3333333333333333, \"#9c179e\"], [0.4444444444444444, \"#bd3786\"], [0.5555555555555556, \"#d8576b\"], [0.6666666666666666, \"#ed7953\"], [0.7777777777777778, \"#fb9f3a\"], [0.8888888888888888, \"#fdca26\"], [1.0, \"#f0f921\"]]}, \"colorway\": [\"#636efa\", \"#EF553B\", \"#00cc96\", \"#ab63fa\", \"#FFA15A\", \"#19d3f3\", \"#FF6692\", \"#B6E880\", \"#FF97FF\", \"#FECB52\"], \"font\": {\"color\": \"#2a3f5f\"}, \"geo\": {\"bgcolor\": \"white\", \"lakecolor\": \"white\", \"landcolor\": \"#E5ECF6\", \"showlakes\": true, \"showland\": true, \"subunitcolor\": \"white\"}, \"hoverlabel\": {\"align\": \"left\"}, \"hovermode\": \"closest\", \"mapbox\": {\"style\": \"light\"}, \"paper_bgcolor\": \"white\", \"plot_bgcolor\": \"#E5ECF6\", \"polar\": {\"angularaxis\": {\"gridcolor\": \"white\", \"linecolor\": \"white\", \"ticks\": \"\"}, \"bgcolor\": \"#E5ECF6\", \"radialaxis\": {\"gridcolor\": \"white\", \"linecolor\": \"white\", \"ticks\": \"\"}}, \"scene\": {\"xaxis\": {\"backgroundcolor\": \"#E5ECF6\", \"gridcolor\": \"white\", \"gridwidth\": 2, \"linecolor\": \"white\", \"showbackground\": true, \"ticks\": \"\", \"zerolinecolor\": \"white\"}, \"yaxis\": {\"backgroundcolor\": \"#E5ECF6\", \"gridcolor\": \"white\", \"gridwidth\": 2, \"linecolor\": \"white\", \"showbackground\": true, \"ticks\": \"\", \"zerolinecolor\": \"white\"}, \"zaxis\": {\"backgroundcolor\": \"#E5ECF6\", \"gridcolor\": \"white\", \"gridwidth\": 2, \"linecolor\": \"white\", \"showbackground\": true, \"ticks\": \"\", \"zerolinecolor\": \"white\"}}, \"shapedefaults\": {\"line\": {\"color\": \"#2a3f5f\"}}, \"ternary\": {\"aaxis\": {\"gridcolor\": \"white\", \"linecolor\": \"white\", \"ticks\": \"\"}, \"baxis\": {\"gridcolor\": \"white\", \"linecolor\": \"white\", \"ticks\": \"\"}, \"bgcolor\": \"#E5ECF6\", \"caxis\": {\"gridcolor\": \"white\", \"linecolor\": \"white\", \"ticks\": \"\"}}, \"title\": {\"x\": 0.05}, \"xaxis\": {\"automargin\": true, \"gridcolor\": \"white\", \"linecolor\": \"white\", \"ticks\": \"\", \"title\": {\"standoff\": 15}, \"zerolinecolor\": \"white\", \"zerolinewidth\": 2}, \"yaxis\": {\"automargin\": true, \"gridcolor\": \"white\", \"linecolor\": \"white\", \"ticks\": \"\", \"title\": {\"standoff\": 15}, \"zerolinecolor\": \"white\", \"zerolinewidth\": 2}}}, \"title\": {\"font\": {\"color\": \"#4D5663\"}}, \"xaxis\": {\"anchor\": \"y\", \"domain\": [0.0, 0.2125], \"gridcolor\": \"#E1E5ED\", \"showgrid\": false, \"tickfont\": {\"color\": \"#4D5663\"}, \"title\": {\"font\": {\"color\": \"#4D5663\"}, \"text\": \"\"}, \"zerolinecolor\": \"#E1E5ED\"}, \"xaxis10\": {\"anchor\": \"y10\", \"domain\": [0.2625, 0.475], \"gridcolor\": \"#E1E5ED\", \"showgrid\": false, \"tickfont\": {\"color\": \"#4D5663\"}, \"title\": {\"font\": {\"color\": \"#4D5663\"}, \"text\": \"\"}, \"zerolinecolor\": \"#E1E5ED\"}, \"xaxis11\": {\"anchor\": \"y11\", \"domain\": [0.525, 0.7375], \"gridcolor\": \"#E1E5ED\", \"showgrid\": false, \"tickfont\": {\"color\": \"#4D5663\"}, \"title\": {\"font\": {\"color\": \"#4D5663\"}, \"text\": \"\"}, \"zerolinecolor\": \"#E1E5ED\"}, \"xaxis12\": {\"anchor\": \"y12\", \"domain\": [0.7875, 1.0], \"gridcolor\": \"#E1E5ED\", \"showgrid\": false, \"tickfont\": {\"color\": \"#4D5663\"}, \"title\": {\"font\": {\"color\": \"#4D5663\"}, \"text\": \"\"}, \"zerolinecolor\": \"#E1E5ED\"}, \"xaxis13\": {\"anchor\": \"y13\", \"domain\": [0.0, 0.2125], \"gridcolor\": \"#E1E5ED\", \"showgrid\": false, \"tickfont\": {\"color\": \"#4D5663\"}, \"title\": {\"font\": {\"color\": \"#4D5663\"}, \"text\": \"\"}, \"zerolinecolor\": \"#E1E5ED\"}, \"xaxis14\": {\"anchor\": \"y14\", \"domain\": [0.2625, 0.475], \"gridcolor\": \"#E1E5ED\", \"showgrid\": false, \"tickfont\": {\"color\": \"#4D5663\"}, \"title\": {\"font\": {\"color\": \"#4D5663\"}, \"text\": \"\"}, \"zerolinecolor\": \"#E1E5ED\"}, \"xaxis15\": {\"anchor\": \"y15\", \"domain\": [0.525, 0.7375], \"gridcolor\": \"#E1E5ED\", \"showgrid\": false, \"tickfont\": {\"color\": \"#4D5663\"}, \"title\": {\"font\": {\"color\": \"#4D5663\"}, \"text\": \"\"}, \"zerolinecolor\": \"#E1E5ED\"}, \"xaxis16\": {\"anchor\": \"y16\", \"domain\": [0.7875, 1.0], \"gridcolor\": \"#E1E5ED\", \"showgrid\": false, \"tickfont\": {\"color\": \"#4D5663\"}, \"title\": {\"font\": {\"color\": \"#4D5663\"}, \"text\": \"\"}, \"zerolinecolor\": \"#E1E5ED\"}, \"xaxis2\": {\"anchor\": \"y2\", \"domain\": [0.2625, 0.475], \"gridcolor\": \"#E1E5ED\", \"showgrid\": false, \"tickfont\": {\"color\": \"#4D5663\"}, \"title\": {\"font\": {\"color\": \"#4D5663\"}, \"text\": \"\"}, \"zerolinecolor\": \"#E1E5ED\"}, \"xaxis3\": {\"anchor\": \"y3\", \"domain\": [0.525, 0.7375], \"gridcolor\": \"#E1E5ED\", \"showgrid\": false, \"tickfont\": {\"color\": \"#4D5663\"}, \"title\": {\"font\": {\"color\": \"#4D5663\"}, \"text\": \"\"}, \"zerolinecolor\": \"#E1E5ED\"}, \"xaxis4\": {\"anchor\": \"y4\", \"domain\": [0.7875, 1.0], \"gridcolor\": \"#E1E5ED\", \"showgrid\": false, \"tickfont\": {\"color\": \"#4D5663\"}, \"title\": {\"font\": {\"color\": \"#4D5663\"}, \"text\": \"\"}, \"zerolinecolor\": \"#E1E5ED\"}, \"xaxis5\": {\"anchor\": \"y5\", \"domain\": [0.0, 0.2125], \"gridcolor\": \"#E1E5ED\", \"showgrid\": false, \"tickfont\": {\"color\": \"#4D5663\"}, \"title\": {\"font\": {\"color\": \"#4D5663\"}, \"text\": \"\"}, \"zerolinecolor\": \"#E1E5ED\"}, \"xaxis6\": {\"anchor\": \"y6\", \"domain\": [0.2625, 0.475], \"gridcolor\": \"#E1E5ED\", \"showgrid\": false, \"tickfont\": {\"color\": \"#4D5663\"}, \"title\": {\"font\": {\"color\": \"#4D5663\"}, \"text\": \"\"}, \"zerolinecolor\": \"#E1E5ED\"}, \"xaxis7\": {\"anchor\": \"y7\", \"domain\": [0.525, 0.7375], \"gridcolor\": \"#E1E5ED\", \"showgrid\": false, \"tickfont\": {\"color\": \"#4D5663\"}, \"title\": {\"font\": {\"color\": \"#4D5663\"}, \"text\": \"\"}, \"zerolinecolor\": \"#E1E5ED\"}, \"xaxis8\": {\"anchor\": \"y8\", \"domain\": [0.7875, 1.0], \"gridcolor\": \"#E1E5ED\", \"showgrid\": false, \"tickfont\": {\"color\": \"#4D5663\"}, \"title\": {\"font\": {\"color\": \"#4D5663\"}, \"text\": \"\"}, \"zerolinecolor\": \"#E1E5ED\"}, \"xaxis9\": {\"anchor\": \"y9\", \"domain\": [0.0, 0.2125], \"gridcolor\": \"#E1E5ED\", \"showgrid\": false, \"tickfont\": {\"color\": \"#4D5663\"}, \"title\": {\"font\": {\"color\": \"#4D5663\"}, \"text\": \"\"}, \"zerolinecolor\": \"#E1E5ED\"}, \"yaxis\": {\"anchor\": \"x\", \"domain\": [0.8025, 1.0], \"gridcolor\": \"#E1E5ED\", \"showgrid\": false, \"tickfont\": {\"color\": \"#4D5663\"}, \"title\": {\"font\": {\"color\": \"#4D5663\"}, \"text\": \"\"}, \"zerolinecolor\": \"#E1E5ED\"}, \"yaxis10\": {\"anchor\": \"x10\", \"domain\": [0.2675, 0.465], \"gridcolor\": \"#E1E5ED\", \"showgrid\": false, \"tickfont\": {\"color\": \"#4D5663\"}, \"title\": {\"font\": {\"color\": \"#4D5663\"}, \"text\": \"\"}, \"zerolinecolor\": \"#E1E5ED\"}, \"yaxis11\": {\"anchor\": \"x11\", \"domain\": [0.2675, 0.465], \"gridcolor\": \"#E1E5ED\", \"showgrid\": false, \"tickfont\": {\"color\": \"#4D5663\"}, \"title\": {\"font\": {\"color\": \"#4D5663\"}, \"text\": \"\"}, \"zerolinecolor\": \"#E1E5ED\"}, \"yaxis12\": {\"anchor\": \"x12\", \"domain\": [0.2675, 0.465], \"gridcolor\": \"#E1E5ED\", \"showgrid\": false, \"tickfont\": {\"color\": \"#4D5663\"}, \"title\": {\"font\": {\"color\": \"#4D5663\"}, \"text\": \"\"}, \"zerolinecolor\": \"#E1E5ED\"}, \"yaxis13\": {\"anchor\": \"x13\", \"domain\": [0.0, 0.1975], \"gridcolor\": \"#E1E5ED\", \"showgrid\": false, \"tickfont\": {\"color\": \"#4D5663\"}, \"title\": {\"font\": {\"color\": \"#4D5663\"}, \"text\": \"\"}, \"zerolinecolor\": \"#E1E5ED\"}, \"yaxis14\": {\"anchor\": \"x14\", \"domain\": [0.0, 0.1975], \"gridcolor\": \"#E1E5ED\", \"showgrid\": false, \"tickfont\": {\"color\": \"#4D5663\"}, \"title\": {\"font\": {\"color\": \"#4D5663\"}, \"text\": \"\"}, \"zerolinecolor\": \"#E1E5ED\"}, \"yaxis15\": {\"anchor\": \"x15\", \"domain\": [0.0, 0.1975], \"gridcolor\": \"#E1E5ED\", \"showgrid\": false, \"tickfont\": {\"color\": \"#4D5663\"}, \"title\": {\"font\": {\"color\": \"#4D5663\"}, \"text\": \"\"}, \"zerolinecolor\": \"#E1E5ED\"}, \"yaxis16\": {\"anchor\": \"x16\", \"domain\": [0.0, 0.1975], \"gridcolor\": \"#E1E5ED\", \"showgrid\": false, \"tickfont\": {\"color\": \"#4D5663\"}, \"title\": {\"font\": {\"color\": \"#4D5663\"}, \"text\": \"\"}, \"zerolinecolor\": \"#E1E5ED\"}, \"yaxis2\": {\"anchor\": \"x2\", \"domain\": [0.8025, 1.0], \"gridcolor\": \"#E1E5ED\", \"showgrid\": false, \"tickfont\": {\"color\": \"#4D5663\"}, \"title\": {\"font\": {\"color\": \"#4D5663\"}, \"text\": \"\"}, \"zerolinecolor\": \"#E1E5ED\"}, \"yaxis3\": {\"anchor\": \"x3\", \"domain\": [0.8025, 1.0], \"gridcolor\": \"#E1E5ED\", \"showgrid\": false, \"tickfont\": {\"color\": \"#4D5663\"}, \"title\": {\"font\": {\"color\": \"#4D5663\"}, \"text\": \"\"}, \"zerolinecolor\": \"#E1E5ED\"}, \"yaxis4\": {\"anchor\": \"x4\", \"domain\": [0.8025, 1.0], \"gridcolor\": \"#E1E5ED\", \"showgrid\": false, \"tickfont\": {\"color\": \"#4D5663\"}, \"title\": {\"font\": {\"color\": \"#4D5663\"}, \"text\": \"\"}, \"zerolinecolor\": \"#E1E5ED\"}, \"yaxis5\": {\"anchor\": \"x5\", \"domain\": [0.535, 0.7325], \"gridcolor\": \"#E1E5ED\", \"showgrid\": false, \"tickfont\": {\"color\": \"#4D5663\"}, \"title\": {\"font\": {\"color\": \"#4D5663\"}, \"text\": \"\"}, \"zerolinecolor\": \"#E1E5ED\"}, \"yaxis6\": {\"anchor\": \"x6\", \"domain\": [0.535, 0.7325], \"gridcolor\": \"#E1E5ED\", \"showgrid\": false, \"tickfont\": {\"color\": \"#4D5663\"}, \"title\": {\"font\": {\"color\": \"#4D5663\"}, \"text\": \"\"}, \"zerolinecolor\": \"#E1E5ED\"}, \"yaxis7\": {\"anchor\": \"x7\", \"domain\": [0.535, 0.7325], \"gridcolor\": \"#E1E5ED\", \"showgrid\": false, \"tickfont\": {\"color\": \"#4D5663\"}, \"title\": {\"font\": {\"color\": \"#4D5663\"}, \"text\": \"\"}, \"zerolinecolor\": \"#E1E5ED\"}, \"yaxis8\": {\"anchor\": \"x8\", \"domain\": [0.535, 0.7325], \"gridcolor\": \"#E1E5ED\", \"showgrid\": false, \"tickfont\": {\"color\": \"#4D5663\"}, \"title\": {\"font\": {\"color\": \"#4D5663\"}, \"text\": \"\"}, \"zerolinecolor\": \"#E1E5ED\"}, \"yaxis9\": {\"anchor\": \"x9\", \"domain\": [0.2675, 0.465], \"gridcolor\": \"#E1E5ED\", \"showgrid\": false, \"tickfont\": {\"color\": \"#4D5663\"}, \"title\": {\"font\": {\"color\": \"#4D5663\"}, \"text\": \"\"}, \"zerolinecolor\": \"#E1E5ED\"}},\n",
       "                        {\"showLink\": true, \"linkText\": \"Export to plot.ly\", \"plotlyServerURL\": \"https://plot.ly\", \"responsive\": true}\n",
       "                    ).then(function(){\n",
       "                            \n",
       "var gd = document.getElementById('276cd97d-ffa3-4745-8439-e329492ef26e');\n",
       "var x = new MutationObserver(function (mutations, observer) {{\n",
       "        var display = window.getComputedStyle(gd).display;\n",
       "        if (!display || display === 'none') {{\n",
       "            console.log([gd, 'removed!']);\n",
       "            Plotly.purge(gd);\n",
       "            observer.disconnect();\n",
       "        }}\n",
       "}});\n",
       "\n",
       "// Listen for the removal of the full notebook cells\n",
       "var notebookContainer = gd.closest('#notebook-container');\n",
       "if (notebookContainer) {{\n",
       "    x.observe(notebookContainer, {childList: true});\n",
       "}}\n",
       "\n",
       "// Listen for the clearing of the current output cell\n",
       "var outputEl = gd.closest('.output');\n",
       "if (outputEl) {{\n",
       "    x.observe(outputEl, {childList: true});\n",
       "}}\n",
       "\n",
       "                        })\n",
       "                };\n",
       "                });\n",
       "            </script>\n",
       "        </div>"
      ]
     },
     "metadata": {},
     "output_type": "display_data"
    }
   ],
   "source": [
    "df.scatter_matrix()"
   ]
  },
  {
   "cell_type": "markdown",
   "metadata": {
    "collapsed": true
   },
   "source": [
    "# Great Job!"
   ]
  }
 ],
 "metadata": {
  "kernelspec": {
   "display_name": "Python 3",
   "language": "python",
   "name": "python3"
  },
  "language_info": {
   "codemirror_mode": {
    "name": "ipython",
    "version": 3
   },
   "file_extension": ".py",
   "mimetype": "text/x-python",
   "name": "python",
   "nbconvert_exporter": "python",
   "pygments_lexer": "ipython3",
   "version": "3.7.3"
  },
  "toc": {
   "base_numbering": 1,
   "nav_menu": {},
   "number_sections": true,
   "sideBar": true,
   "skip_h1_title": false,
   "title_cell": "Table of Contents",
   "title_sidebar": "Contents",
   "toc_cell": false,
   "toc_position": {},
   "toc_section_display": true,
   "toc_window_display": false
  }
 },
 "nbformat": 4,
 "nbformat_minor": 1
}
