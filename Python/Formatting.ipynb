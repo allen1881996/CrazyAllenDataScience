{
 "cells": [
  {
   "cell_type": "markdown",
   "metadata": {},
   "source": [
    "# Formatting\n",
    "## By Allen Huang"
   ]
  },
  {
   "cell_type": "code",
   "execution_count": 1,
   "metadata": {},
   "outputs": [
    {
     "name": "stdout",
     "output_type": "stream",
     "text": [
      "My name is Jenn and I am 23 years old.\n"
     ]
    }
   ],
   "source": [
    "# string concatnation is not readable and \n",
    "person = {'name': 'Jenn', 'age': 23}\n",
    "\n",
    "sentence = 'My name is ' + person['name'] + ' and I am ' + str(person['age']) + ' years old.'\n",
    "print(sentence)"
   ]
  },
  {
   "cell_type": "code",
   "execution_count": 2,
   "metadata": {},
   "outputs": [
    {
     "name": "stdout",
     "output_type": "stream",
     "text": [
      "My name is Jenn and I am 23 years old.\n"
     ]
    }
   ],
   "source": [
    "# braces: placeholders, format method, pass in the value that we want to replace our placeholders\n",
    "# pass the first value to the frist placeholder\n",
    "sentence = 'My name is {} and I am {} years old.'.format(person['name'], person['age'])\n",
    "print(sentence)"
   ]
  },
  {
   "cell_type": "code",
   "execution_count": 3,
   "metadata": {},
   "outputs": [
    {
     "name": "stdout",
     "output_type": "stream",
     "text": [
      "My name is Jenn and I am 23 years old.\n"
     ]
    }
   ],
   "source": [
    "# number the placeholder\n",
    "# 0 is the first value you pass in to format\n",
    "sentence = 'My name is {0} and I am {1} years old.'.format(person['name'], person['age'])\n",
    "print(sentence)"
   ]
  },
  {
   "cell_type": "code",
   "execution_count": 4,
   "metadata": {},
   "outputs": [
    {
     "name": "stdout",
     "output_type": "stream",
     "text": [
      "<h1>This is a headline</h1>\n"
     ]
    }
   ],
   "source": [
    "# when you need to pass the value repeatly, use the number in placeholder\n",
    "tag = 'h1'\n",
    "text = 'This is a headline'\n",
    "\n",
    "sentence = '<{0}>{1}</{0}>'.format(tag, text)\n",
    "print(sentence)"
   ]
  },
  {
   "cell_type": "code",
   "execution_count": 9,
   "metadata": {},
   "outputs": [
    {
     "name": "stdout",
     "output_type": "stream",
     "text": [
      "My name is Jenn and I am 23 years old.\n",
      "My name is Jenn and I am 23 years old.\n"
     ]
    }
   ],
   "source": [
    "# pass in a dictionary\n",
    "sentence = 'My name is {0} and I am {1} years old.'.format(person['name'], person['age'])\n",
    "print(sentence)\n",
    "sentence = 'My name is {0[name]} and I am {0[age]} years old.'.format(person)\n",
    "print(sentence)\n",
    "#注意，因为整体都已经加了字符串的'',name 和 age 不需要再加"
   ]
  },
  {
   "cell_type": "code",
   "execution_count": 10,
   "metadata": {},
   "outputs": [
    {
     "name": "stdout",
     "output_type": "stream",
     "text": [
      "My name is Allen and I am 23 years old.\n"
     ]
    }
   ],
   "source": [
    "# pass in a list\n",
    "l = ['Allen',23]\n",
    "sentence = 'My name is {0[0]} and I am {0[1]} years old.'.format(l)\n",
    "print(sentence)"
   ]
  },
  {
   "cell_type": "code",
   "execution_count": 12,
   "metadata": {},
   "outputs": [],
   "source": [
    "# access attributes\n",
    "class Person():\n",
    "\n",
    "    def __init__(self, name, age):\n",
    "        self.name = name\n",
    "        self.age = age"
   ]
  },
  {
   "cell_type": "code",
   "execution_count": 13,
   "metadata": {},
   "outputs": [
    {
     "name": "stdout",
     "output_type": "stream",
     "text": [
      "My name is Jack and I am 33 years old.\n"
     ]
    }
   ],
   "source": [
    "p1 = Person('Jack', '33')\n",
    "\n",
    "sentence = 'My name is {0.name} and I am {0.age} years old.'.format(p1)\n",
    "print(sentence)"
   ]
  },
  {
   "cell_type": "code",
   "execution_count": 14,
   "metadata": {},
   "outputs": [
    {
     "name": "stdout",
     "output_type": "stream",
     "text": [
      "My name is Jenn and I am 30 years old.\n"
     ]
    }
   ],
   "source": [
    "# passing in key words\n",
    "# setting the passing value, match the key word\n",
    "sentence = 'My name is {name} and I am {age} years old.'.format(name='Jenn', age='30')\n",
    "print(sentence)"
   ]
  },
  {
   "cell_type": "code",
   "execution_count": 19,
   "metadata": {},
   "outputs": [],
   "source": [
    "person = {'name': 'Jenn', 'age': 23}"
   ]
  },
  {
   "cell_type": "code",
   "execution_count": 21,
   "metadata": {},
   "outputs": [
    {
     "name": "stdout",
     "output_type": "stream",
     "text": [
      "My name is Jenn and I am 23 years old.\n"
     ]
    }
   ],
   "source": [
    "# best way to print out dictionary values\n",
    "# unpack that dictionary, and fill in those key word arguments\n",
    "sentence = 'My name is {name} and I am {age} years old.'.format(**person)\n",
    "print(sentence)"
   ]
  },
  {
   "cell_type": "code",
   "execution_count": 22,
   "metadata": {
    "scrolled": true
   },
   "outputs": [
    {
     "name": "stdout",
     "output_type": "stream",
     "text": [
      "The value is 1\n",
      "The value is 2\n",
      "The value is 3\n",
      "The value is 4\n",
      "The value is 5\n",
      "The value is 6\n",
      "The value is 7\n",
      "The value is 8\n",
      "The value is 9\n",
      "The value is 10\n"
     ]
    }
   ],
   "source": [
    "# format and print out numbers\n",
    "for i in range(1, 11):\n",
    "    sentence = 'The value is {}'.format(i)\n",
    "    print(sentence)"
   ]
  },
  {
   "cell_type": "code",
   "execution_count": 23,
   "metadata": {},
   "outputs": [
    {
     "name": "stdout",
     "output_type": "stream",
     "text": [
      "The value is 01\n",
      "The value is 02\n",
      "The value is 03\n",
      "The value is 04\n",
      "The value is 05\n",
      "The value is 06\n",
      "The value is 07\n",
      "The value is 08\n",
      "The value is 09\n",
      "The value is 10\n"
     ]
    }
   ],
   "source": [
    "# if you want these numbers to have 2 digits\n",
    "# 用0填充到2位数字\n",
    "for i in range(1, 11):\n",
    "    sentence = 'The value is {:02}'.format(i)\n",
    "    print(sentence)"
   ]
  },
  {
   "cell_type": "code",
   "execution_count": 25,
   "metadata": {},
   "outputs": [
    {
     "name": "stdout",
     "output_type": "stream",
     "text": [
      "Pi is equal to 3.14\n"
     ]
    }
   ],
   "source": [
    "# format decimal\n",
    "# .2f 小数点后两位\n",
    "pi = 3.14159265\n",
    "\n",
    "sentence = 'Pi is equal to {:.2f}'.format(pi)\n",
    "\n",
    "print(sentence)"
   ]
  },
  {
   "cell_type": "code",
   "execution_count": 26,
   "metadata": {},
   "outputs": [
    {
     "name": "stdout",
     "output_type": "stream",
     "text": [
      "1 MB is equal to 1,000,000 bytes\n"
     ]
    }
   ],
   "source": [
    "# print out a large number\n",
    "# using some comma separators to make it more readable\n",
    "sentence = '1 MB is equal to {:,} bytes'.format(1000**2)\n",
    "print(sentence) "
   ]
  },
  {
   "cell_type": "code",
   "execution_count": 28,
   "metadata": {},
   "outputs": [
    {
     "name": "stdout",
     "output_type": "stream",
     "text": [
      "1 MB is equal to 1,000,000.000 bytes\n"
     ]
    }
   ],
   "source": [
    "sentence = '1 MB is equal to {:,.3f} bytes'.format(1000**2)\n",
    "print(sentence) "
   ]
  },
  {
   "cell_type": "code",
   "execution_count": 29,
   "metadata": {},
   "outputs": [],
   "source": [
    "# format and print out date\n",
    "import datetime\n",
    "my_date = datetime.datetime(2016, 9, 24, 12, 30, 45)"
   ]
  },
  {
   "cell_type": "code",
   "execution_count": 30,
   "metadata": {},
   "outputs": [
    {
     "name": "stdout",
     "output_type": "stream",
     "text": [
      "2016-09-24 12:30:45\n"
     ]
    }
   ],
   "source": [
    "# year-month-day hours:minutes:seconds\n",
    "print(my_date)"
   ]
  },
  {
   "cell_type": "markdown",
   "metadata": {},
   "source": [
    "Datetime Doc: https://docs.python.org/3/library/datetime.html"
   ]
  },
  {
   "cell_type": "code",
   "execution_count": 32,
   "metadata": {},
   "outputs": [
    {
     "name": "stdout",
     "output_type": "stream",
     "text": [
      "September 24, 2016\n"
     ]
    }
   ],
   "source": [
    "# March 01, 2016\n",
    "# : is to specify we want to do some format\n",
    "sentence = '{:%B %d, %Y}'.format(my_date)\n",
    "print(sentence)"
   ]
  },
  {
   "cell_type": "code",
   "execution_count": 34,
   "metadata": {},
   "outputs": [
    {
     "name": "stdout",
     "output_type": "stream",
     "text": [
      "September 24, 2016 fell on a Saturday and was the 268 day of the year\n"
     ]
    }
   ],
   "source": [
    "# March 01, 2016 fell on a Tuesday and was the 061 day of the year.\n",
    "# 0 index is needed here, 因为有三个花括号\n",
    "sentence = '{0:%B %d, %Y} fell on a {0:%A} and was the {0:%j} day of the year'.format(my_date)\n",
    "print(sentence)"
   ]
  }
 ],
 "metadata": {
  "kernelspec": {
   "display_name": "Python 3",
   "language": "python",
   "name": "python3"
  },
  "language_info": {
   "codemirror_mode": {
    "name": "ipython",
    "version": 3
   },
   "file_extension": ".py",
   "mimetype": "text/x-python",
   "name": "python",
   "nbconvert_exporter": "python",
   "pygments_lexer": "ipython3",
   "version": "3.7.4"
  }
 },
 "nbformat": 4,
 "nbformat_minor": 2
}
