{
 "cells": [
  {
   "cell_type": "markdown",
   "metadata": {},
   "source": [
    "# Function\n",
    "## By Allen Huang"
   ]
  },
  {
   "cell_type": "markdown",
   "metadata": {},
   "source": [
    "1. 定义并调用函数\n",
    "2. 传递实参\n",
    "3. 返回值\n",
    "4. 模块"
   ]
  },
  {
   "cell_type": "markdown",
   "metadata": {},
   "source": [
    "### 1. 定义并调用函数"
   ]
  },
  {
   "cell_type": "code",
   "execution_count": 18,
   "metadata": {
    "scrolled": true
   },
   "outputs": [],
   "source": [
    "# define a function, defination should be ending with a colon.\n",
    "def love(name):\n",
    "    \"\"\" This is docstring \"\"\"\n",
    "    print('I love' + ' ' + name.title())\n",
    "# docstring用来表示函数是用来做什么"
   ]
  },
  {
   "cell_type": "code",
   "execution_count": 20,
   "metadata": {
    "scrolled": true
   },
   "outputs": [
    {
     "name": "stdout",
     "output_type": "stream",
     "text": [
      "I love Allen\n"
     ]
    }
   ],
   "source": [
    "# 调用函数\n",
    "love('allen')\n",
    "# 实参allen被储存在形参name中，并传递给函数love()"
   ]
  },
  {
   "cell_type": "markdown",
   "metadata": {},
   "source": [
    "### 2. 传递实参"
   ]
  },
  {
   "cell_type": "code",
   "execution_count": 21,
   "metadata": {},
   "outputs": [],
   "source": [
    "# 位置实参：按照形参的顺序，传递实参. Order is very important\n",
    "def movie(movie1,movie2):\n",
    "    print('Jack likes' + ' ' + movie1)\n",
    "    print('Karl likes ' + movie2)"
   ]
  },
  {
   "cell_type": "code",
   "execution_count": 22,
   "metadata": {},
   "outputs": [
    {
     "name": "stdout",
     "output_type": "stream",
     "text": [
      "Jack likes Harry Potter\n",
      "Karl likes The Lord of the Rings\n"
     ]
    }
   ],
   "source": [
    "movie('Harry Potter','The Lord of the Rings')"
   ]
  },
  {
   "cell_type": "code",
   "execution_count": 23,
   "metadata": {
    "scrolled": true
   },
   "outputs": [
    {
     "name": "stdout",
     "output_type": "stream",
     "text": [
      "Jack likes Harry Potter\n",
      "Karl likes The Lord of the Rings\n"
     ]
    }
   ],
   "source": [
    "# 关键字实参. Order does not matter, 但务必指定形参名\n",
    "movie(movie2 = 'The Lord of the Rings', movie1 = 'Harry Potter')"
   ]
  },
  {
   "cell_type": "code",
   "execution_count": 26,
   "metadata": {},
   "outputs": [],
   "source": [
    "# 默认值：如果传递了实参，就用实参；otherwise, 用默认值\n",
    "# 为形参设置默认值'adult ticket' \n",
    "def buy(name, commodity = 'adult ticket'):\n",
    "    print(name.title() + \" want to buy a \" + commodity)"
   ]
  },
  {
   "cell_type": "code",
   "execution_count": 27,
   "metadata": {},
   "outputs": [
    {
     "name": "stdout",
     "output_type": "stream",
     "text": [
      "Curry want to buy a adult ticket\n"
     ]
    }
   ],
   "source": [
    "buy('Curry')\n",
    "#注意，此时采用位置实参，传递给出现的第一个形参"
   ]
  },
  {
   "cell_type": "code",
   "execution_count": 45,
   "metadata": {},
   "outputs": [],
   "source": [
    "# 可选形参\n",
    "# 通过加一个''，将movie2设置为可选形参\n",
    "def movie(movie1,movie2 = ''):\n",
    "    if movie2:\n",
    "        print('Jack likes ' + movie1 + ' and ' + movie2  )\n",
    "    else:\n",
    "        print('Jack likes ' + movie1)\n",
    "# Python将非空字符串当作True，空字符串当作False"
   ]
  },
  {
   "cell_type": "code",
   "execution_count": 46,
   "metadata": {
    "scrolled": true
   },
   "outputs": [
    {
     "name": "stdout",
     "output_type": "stream",
     "text": [
      "Jack likes Harry Potter\n"
     ]
    }
   ],
   "source": [
    "movie('Harry Potter')\n",
    "# 没有传递movie2的实参，因此movie2是空字符串，执行else语句"
   ]
  },
  {
   "cell_type": "code",
   "execution_count": 47,
   "metadata": {},
   "outputs": [
    {
     "name": "stdout",
     "output_type": "stream",
     "text": [
      "Jack likes The Lord of the Rings and Harry Potter\n"
     ]
    }
   ],
   "source": [
    "movie('The Lord of the Rings','Harry Potter')\n",
    "# 传递了movie2的实参，因此movie2是不空字符串，执行if语句"
   ]
  },
  {
   "cell_type": "markdown",
   "metadata": {},
   "source": [
    "### 3. 返回值"
   ]
  },
  {
   "cell_type": "code",
   "execution_count": 34,
   "metadata": {},
   "outputs": [],
   "source": [
    "# return语句将值返回到调用函数的代码行\n",
    "def get_formatted_name(first_name, last_name):\n",
    "    \"\"\" 返回整洁的姓名 \"\"\"\n",
    "    full_name = first_name + ' ' + last_name\n",
    "    return full_name.title()"
   ]
  },
  {
   "cell_type": "code",
   "execution_count": 36,
   "metadata": {},
   "outputs": [
    {
     "name": "stdout",
     "output_type": "stream",
     "text": [
      "Allen Huang\n"
     ]
    }
   ],
   "source": [
    "formatted_name = get_formatted_name('allen','huang')\n",
    "print(formatted_name)\n",
    "# 实参传递到函数中，函数返回一个字符串给调用函数语句，也就是这个赋值语句\n",
    "# 调用返回值的函数时，需要提供一个变量，用于存储返回的值"
   ]
  },
  {
   "cell_type": "markdown",
   "metadata": {},
   "source": [
    "返回字典"
   ]
  },
  {
   "cell_type": "code",
   "execution_count": 53,
   "metadata": {},
   "outputs": [],
   "source": [
    "def build_person(first_name, last_name):\n",
    "    \"\"\"返回一个字典，其中包含有关一个人的信息\"\"\"\n",
    "    person = {'first': first_name, 'last': last_name}\n",
    "    return person\n",
    "# 函数将参数封装到字典中，返回字典"
   ]
  },
  {
   "cell_type": "code",
   "execution_count": 70,
   "metadata": {
    "scrolled": true
   },
   "outputs": [],
   "source": [
    "musician = build_person('jimi', 'hendrix')\n",
    "# 如此以来，给键'first'赋予了值'jimi', 给键'last'赋予了值'hendrix' "
   ]
  },
  {
   "cell_type": "code",
   "execution_count": 52,
   "metadata": {
    "scrolled": false
   },
   "outputs": [
    {
     "name": "stdout",
     "output_type": "stream",
     "text": [
      "{'first': 'jimi', 'last': 'hendrix'}\n"
     ]
    }
   ],
   "source": [
    "print(musician)"
   ]
  },
  {
   "cell_type": "markdown",
   "metadata": {},
   "source": [
    "应用1: 电影偏好清单"
   ]
  },
  {
   "cell_type": "code",
   "execution_count": 93,
   "metadata": {},
   "outputs": [],
   "source": [
    "list_name = []\n",
    "list_movie = []\n",
    "# 先定义两个空的列表，分别用于储存用户姓名和喜欢看的电影"
   ]
  },
  {
   "cell_type": "code",
   "execution_count": 94,
   "metadata": {
    "scrolled": false
   },
   "outputs": [],
   "source": [
    "def movie_doc(name,movie): \n",
    "    list_name.append(name)\n",
    "    list_movie.append(movie)\n",
    "    fav_movie = {'Name':list_name, 'Movie':list_movie}\n",
    "    return fav_movie\n",
    "# 定义一个函数，函数接受参数name和movie，分别添加进两个预设的列表，并封装进字典fav_movie中，随后返回这个字典"
   ]
  },
  {
   "cell_type": "code",
   "execution_count": 95,
   "metadata": {
    "scrolled": false
   },
   "outputs": [
    {
     "name": "stdout",
     "output_type": "stream",
     "text": [
      "What is your name?:allen \n",
      "Which movie do you like?:北京爱情故事\n",
      "Enter Q at any time to quit\n",
      "What is your name?:Jack\n",
      "Which movie do you like?:X战警\n",
      "Enter Q at any time to quit\n",
      "What is your name?:Q\n"
     ]
    }
   ],
   "source": [
    "while True:\n",
    "    name_input = input(\"What is your name?:\")\n",
    "    if name_input == 'Q':\n",
    "        break\n",
    "    movie_input = input(\"Which movie do you like?:\")\n",
    "    if movie_input == 'Q':\n",
    "        break\n",
    "    prefer_movie = movie_doc(name_input,movie_input)    \n",
    "    # 通过接受用户输入的信息，获得实参name_input和movie_input, 调用函数movie_doc, 字典fav_movie被储存在了prefer_movie中\n",
    "    print('Enter Q at any time to quit')\n",
    "    # 通过循环，实现不断获取input并调用函数    "
   ]
  },
  {
   "cell_type": "code",
   "execution_count": 96,
   "metadata": {
    "scrolled": true
   },
   "outputs": [
    {
     "data": {
      "text/plain": [
       "{'Name': ['allen ', 'Jack'], 'Movie': ['北京爱情故事', 'X战警']}"
      ]
     },
     "execution_count": 96,
     "metadata": {},
     "output_type": "execute_result"
    }
   ],
   "source": [
    "prefer_movie"
   ]
  },
  {
   "cell_type": "markdown",
   "metadata": {},
   "source": [
    "传递列表"
   ]
  },
  {
   "cell_type": "markdown",
   "metadata": {},
   "source": [
    "应用2: 3D打印清单"
   ]
  },
  {
   "cell_type": "code",
   "execution_count": 103,
   "metadata": {},
   "outputs": [],
   "source": [
    "# 模拟打印每个设计，直到没有未打印的设计为止,打印每个设计后，都将其移到列表completed_models中 \n",
    "def print_models(unprinted_designs, completed_models):\n",
    "    while unprinted_designs:\n",
    "        current_design = unprinted_designs.pop()\n",
    "# 模拟根据设计制作3D打印模型的过程 \n",
    "        print(\"Printing model: \" + current_design) \n",
    "        completed_models.append(current_design)"
   ]
  },
  {
   "cell_type": "code",
   "execution_count": 112,
   "metadata": {},
   "outputs": [],
   "source": [
    "def show_completed_models(completed_models):\n",
    "    # 显示打印好的所有模型\n",
    "    print(\"\\nThe following models have been printed:\") \n",
    "    for completed_model in completed_models:\n",
    "        print(completed_model)"
   ]
  },
  {
   "cell_type": "code",
   "execution_count": 113,
   "metadata": {},
   "outputs": [],
   "source": [
    "unprinted_designs = ['iphone case', 'robot pendant', 'dodecahedron'] \n",
    "completed_models = []"
   ]
  },
  {
   "cell_type": "code",
   "execution_count": 114,
   "metadata": {},
   "outputs": [
    {
     "name": "stdout",
     "output_type": "stream",
     "text": [
      "Printing model: dodecahedron\n",
      "Printing model: robot pendant\n",
      "Printing model: iphone case\n",
      "\n",
      "The following models have been printed:\n",
      "dodecahedron\n",
      "robot pendant\n",
      "iphone case\n"
     ]
    }
   ],
   "source": [
    "print_models(unprinted_designs, completed_models) \n",
    "show_completed_models(completed_models)"
   ]
  },
  {
   "cell_type": "markdown",
   "metadata": {},
   "source": [
    "传递任意数量的实参"
   ]
  },
  {
   "cell_type": "code",
   "execution_count": 117,
   "metadata": {},
   "outputs": [],
   "source": [
    "def make_pizza(size, *toppings):\n",
    "# *toppings表示将所有实参存入名为toppings的元组中\n",
    "    print(\"\\nMaking a \" + str(size) +\"-inch pizza with the following toppings:\")\n",
    "    for topping in toppings:\n",
    "        print(\"- \" + topping)"
   ]
  },
  {
   "cell_type": "code",
   "execution_count": 118,
   "metadata": {},
   "outputs": [
    {
     "name": "stdout",
     "output_type": "stream",
     "text": [
      "\n",
      "Making a 16-inch pizza with the following toppings:\n",
      "- pepperoni\n",
      "\n",
      "Making a 12-inch pizza with the following toppings:\n",
      "- mushrooms\n",
      "- green peppers\n",
      "- extra cheese\n"
     ]
    }
   ],
   "source": [
    "make_pizza(16, 'pepperoni')\n",
    "make_pizza(12, 'mushrooms', 'green peppers', 'extra cheese')\n",
    "# 第一个实参按照位置存入size中，其余存入元组toppings"
   ]
  },
  {
   "cell_type": "markdown",
   "metadata": {},
   "source": [
    "应用3：用户资料"
   ]
  },
  {
   "cell_type": "code",
   "execution_count": 136,
   "metadata": {},
   "outputs": [],
   "source": [
    "def build_profile(first, last, **user_info): \n",
    "# **user_info表示将所有实参存入名为user_info的字典中\n",
    "    profile = {}\n",
    "# 定一个一个空字典\n",
    "    profile['first_name'] = first\n",
    "    profile['last_name'] = last\n",
    "# 创建两个键值对，将实参传递进来作为值\n",
    "    for key, value in user_info.items():\n",
    "# user_info是一个字典，\n",
    "        profile[key] = value\n",
    "# key和value又被添加到字典profile中\n",
    "    return profile"
   ]
  },
  {
   "cell_type": "code",
   "execution_count": 137,
   "metadata": {},
   "outputs": [
    {
     "name": "stdout",
     "output_type": "stream",
     "text": [
      "{'first_name': 'albert', 'last_name': 'einstein', 'location': 'princeton', 'field': 'physics'}\n"
     ]
    }
   ],
   "source": [
    "user_profile = build_profile('albert', 'einstein', location='princeton', field='physics')\n",
    "# 按照位置实参，前两个实参被分别传入first和last, 而后两个储存在了字典user_info中\n",
    "print(user_profile)"
   ]
  },
  {
   "cell_type": "markdown",
   "metadata": {},
   "source": [
    "### 4. 模块"
   ]
  },
  {
   "cell_type": "code",
   "execution_count": 138,
   "metadata": {},
   "outputs": [],
   "source": [
    "# 通过将函数存储在独立的文件中，可隐藏程序代码的细节，将重点放在程序的高层逻辑上\n",
    "# 这部分内容可以使用Pycharm，分别创建两个.py文件，一个创建模块，一个使用模块\n",
    "# 创建模块 — 模块名.py文件\n",
    "def build_profile(first, last, **user_info): \n",
    "    profile = {}\n",
    "    profile['first_name'] = first\n",
    "    profile['last_name'] = last\n",
    "    for key, value in user_info.items():\n",
    "        profile[key] = value\n",
    "    return profile"
   ]
  },
  {
   "cell_type": "code",
   "execution_count": null,
   "metadata": {},
   "outputs": [],
   "source": [
    "# 创建新文件，导入模块\n",
    "import profile \n",
    "user_profile = profile.build_profile('albert', 'einstein', location='princeton', field='physics')\n",
    "print(user_profile)"
   ]
  },
  {
   "cell_type": "code",
   "execution_count": null,
   "metadata": {},
   "outputs": [],
   "source": [
    "module_name.function_name() # 使用导入模块中的任何一个函数\n",
    "from module_name import function_name # 导入模块中特定函数\n",
    "from module_name import function_0, function_1, function_2 # 导入模块中任意数量的特定函数\n",
    "from module_name import function_name as fn # 给函数指定别名\n",
    "import module_name as mn # 给模块指定别名\n",
    "from module_name import * # 导入模块中全部函数"
   ]
  }
 ],
 "metadata": {
  "kernelspec": {
   "display_name": "Python 3",
   "language": "python",
   "name": "python3"
  },
  "language_info": {
   "codemirror_mode": {
    "name": "ipython",
    "version": 3
   },
   "file_extension": ".py",
   "mimetype": "text/x-python",
   "name": "python",
   "nbconvert_exporter": "python",
   "pygments_lexer": "ipython3",
   "version": "3.7.4"
  },
  "toc": {
   "base_numbering": 1,
   "nav_menu": {},
   "number_sections": true,
   "sideBar": true,
   "skip_h1_title": false,
   "title_cell": "Table of Contents",
   "title_sidebar": "Contents",
   "toc_cell": false,
   "toc_position": {},
   "toc_section_display": true,
   "toc_window_display": false
  }
 },
 "nbformat": 4,
 "nbformat_minor": 2
}
