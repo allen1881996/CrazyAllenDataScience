{
 "cells": [
  {
   "cell_type": "code",
   "execution_count": 130,
   "metadata": {},
   "outputs": [],
   "source": [
    "import pandas as pd\n",
    "import numpy as np\n",
    "import seaborn as sns\n",
    "import matplotlib.pyplot as plt\n",
    "from sklearn.feature_selection import SelectKBest\n",
    "from scipy.stats import pearsonr\n",
    "from sklearn.model_selection import train_test_split\n",
    "from sklearn.feature_selection import f_classif\n",
    "from sklearn.ensemble import RandomForestClassifier\n",
    "from sklearn.linear_model import LogisticRegression\n",
    "from sklearn.neighbors import KNeighborsClassifier\n",
    "from sklearn.ensemble import VotingClassifier\n",
    "from sklearn.model_selection import cross_val_score\n",
    "from sklearn import metrics\n",
    "from imblearn.over_sampling import SMOTE"
   ]
  },
  {
   "cell_type": "markdown",
   "metadata": {},
   "source": [
    "## Data Loading"
   ]
  },
  {
   "cell_type": "code",
   "execution_count": 131,
   "metadata": {},
   "outputs": [
    {
     "data": {
      "text/html": [
       "<div>\n",
       "<style scoped>\n",
       "    .dataframe tbody tr th:only-of-type {\n",
       "        vertical-align: middle;\n",
       "    }\n",
       "\n",
       "    .dataframe tbody tr th {\n",
       "        vertical-align: top;\n",
       "    }\n",
       "\n",
       "    .dataframe thead th {\n",
       "        text-align: right;\n",
       "    }\n",
       "</style>\n",
       "<table border=\"1\" class=\"dataframe\">\n",
       "  <thead>\n",
       "    <tr style=\"text-align: right;\">\n",
       "      <th></th>\n",
       "      <th>ID</th>\n",
       "      <th>CODE_GENDER</th>\n",
       "      <th>FLAG_OWN_CAR</th>\n",
       "      <th>FLAG_OWN_REALTY</th>\n",
       "      <th>CNT_CHILDREN</th>\n",
       "      <th>AMT_INCOME_TOTAL</th>\n",
       "      <th>NAME_INCOME_TYPE</th>\n",
       "      <th>NAME_EDUCATION_TYPE</th>\n",
       "      <th>NAME_FAMILY_STATUS</th>\n",
       "      <th>NAME_HOUSING_TYPE</th>\n",
       "      <th>DAYS_BIRTH</th>\n",
       "      <th>DAYS_EMPLOYED</th>\n",
       "      <th>FLAG_MOBIL</th>\n",
       "      <th>FLAG_WORK_PHONE</th>\n",
       "      <th>FLAG_PHONE</th>\n",
       "      <th>FLAG_EMAIL</th>\n",
       "      <th>OCCUPATION_TYPE</th>\n",
       "      <th>CNT_FAM_MEMBERS</th>\n",
       "    </tr>\n",
       "  </thead>\n",
       "  <tbody>\n",
       "    <tr>\n",
       "      <td>0</td>\n",
       "      <td>5008804</td>\n",
       "      <td>M</td>\n",
       "      <td>Y</td>\n",
       "      <td>Y</td>\n",
       "      <td>0</td>\n",
       "      <td>427500.0</td>\n",
       "      <td>Working</td>\n",
       "      <td>Higher education</td>\n",
       "      <td>Civil marriage</td>\n",
       "      <td>Rented apartment</td>\n",
       "      <td>-12005</td>\n",
       "      <td>-4542</td>\n",
       "      <td>1</td>\n",
       "      <td>1</td>\n",
       "      <td>0</td>\n",
       "      <td>0</td>\n",
       "      <td>NaN</td>\n",
       "      <td>2.0</td>\n",
       "    </tr>\n",
       "    <tr>\n",
       "      <td>1</td>\n",
       "      <td>5008805</td>\n",
       "      <td>M</td>\n",
       "      <td>Y</td>\n",
       "      <td>Y</td>\n",
       "      <td>0</td>\n",
       "      <td>427500.0</td>\n",
       "      <td>Working</td>\n",
       "      <td>Higher education</td>\n",
       "      <td>Civil marriage</td>\n",
       "      <td>Rented apartment</td>\n",
       "      <td>-12005</td>\n",
       "      <td>-4542</td>\n",
       "      <td>1</td>\n",
       "      <td>1</td>\n",
       "      <td>0</td>\n",
       "      <td>0</td>\n",
       "      <td>NaN</td>\n",
       "      <td>2.0</td>\n",
       "    </tr>\n",
       "    <tr>\n",
       "      <td>2</td>\n",
       "      <td>5008806</td>\n",
       "      <td>M</td>\n",
       "      <td>Y</td>\n",
       "      <td>Y</td>\n",
       "      <td>0</td>\n",
       "      <td>112500.0</td>\n",
       "      <td>Working</td>\n",
       "      <td>Secondary / secondary special</td>\n",
       "      <td>Married</td>\n",
       "      <td>House / apartment</td>\n",
       "      <td>-21474</td>\n",
       "      <td>-1134</td>\n",
       "      <td>1</td>\n",
       "      <td>0</td>\n",
       "      <td>0</td>\n",
       "      <td>0</td>\n",
       "      <td>Security staff</td>\n",
       "      <td>2.0</td>\n",
       "    </tr>\n",
       "    <tr>\n",
       "      <td>3</td>\n",
       "      <td>5008808</td>\n",
       "      <td>F</td>\n",
       "      <td>N</td>\n",
       "      <td>Y</td>\n",
       "      <td>0</td>\n",
       "      <td>270000.0</td>\n",
       "      <td>Commercial associate</td>\n",
       "      <td>Secondary / secondary special</td>\n",
       "      <td>Single / not married</td>\n",
       "      <td>House / apartment</td>\n",
       "      <td>-19110</td>\n",
       "      <td>-3051</td>\n",
       "      <td>1</td>\n",
       "      <td>0</td>\n",
       "      <td>1</td>\n",
       "      <td>1</td>\n",
       "      <td>Sales staff</td>\n",
       "      <td>1.0</td>\n",
       "    </tr>\n",
       "    <tr>\n",
       "      <td>4</td>\n",
       "      <td>5008809</td>\n",
       "      <td>F</td>\n",
       "      <td>N</td>\n",
       "      <td>Y</td>\n",
       "      <td>0</td>\n",
       "      <td>270000.0</td>\n",
       "      <td>Commercial associate</td>\n",
       "      <td>Secondary / secondary special</td>\n",
       "      <td>Single / not married</td>\n",
       "      <td>House / apartment</td>\n",
       "      <td>-19110</td>\n",
       "      <td>-3051</td>\n",
       "      <td>1</td>\n",
       "      <td>0</td>\n",
       "      <td>1</td>\n",
       "      <td>1</td>\n",
       "      <td>Sales staff</td>\n",
       "      <td>1.0</td>\n",
       "    </tr>\n",
       "  </tbody>\n",
       "</table>\n",
       "</div>"
      ],
      "text/plain": [
       "        ID CODE_GENDER FLAG_OWN_CAR FLAG_OWN_REALTY  CNT_CHILDREN  AMT_INCOME_TOTAL      NAME_INCOME_TYPE            NAME_EDUCATION_TYPE    NAME_FAMILY_STATUS  NAME_HOUSING_TYPE  DAYS_BIRTH  DAYS_EMPLOYED  FLAG_MOBIL  FLAG_WORK_PHONE  FLAG_PHONE  FLAG_EMAIL OCCUPATION_TYPE  CNT_FAM_MEMBERS\n",
       "0  5008804           M            Y               Y             0          427500.0               Working               Higher education        Civil marriage   Rented apartment      -12005          -4542           1                1           0           0             NaN              2.0\n",
       "1  5008805           M            Y               Y             0          427500.0               Working               Higher education        Civil marriage   Rented apartment      -12005          -4542           1                1           0           0             NaN              2.0\n",
       "2  5008806           M            Y               Y             0          112500.0               Working  Secondary / secondary special               Married  House / apartment      -21474          -1134           1                0           0           0  Security staff              2.0\n",
       "3  5008808           F            N               Y             0          270000.0  Commercial associate  Secondary / secondary special  Single / not married  House / apartment      -19110          -3051           1                0           1           1     Sales staff              1.0\n",
       "4  5008809           F            N               Y             0          270000.0  Commercial associate  Secondary / secondary special  Single / not married  House / apartment      -19110          -3051           1                0           1           1     Sales staff              1.0"
      ]
     },
     "execution_count": 131,
     "metadata": {},
     "output_type": "execute_result"
    }
   ],
   "source": [
    "df = pd.read_csv(\"application_record.csv\")\n",
    "df.head()"
   ]
  },
  {
   "cell_type": "code",
   "execution_count": 132,
   "metadata": {},
   "outputs": [
    {
     "name": "stdout",
     "output_type": "stream",
     "text": [
      "<class 'pandas.core.frame.DataFrame'>\n",
      "RangeIndex: 438557 entries, 0 to 438556\n",
      "Data columns (total 18 columns):\n",
      "ID                     438557 non-null int64\n",
      "CODE_GENDER            438557 non-null object\n",
      "FLAG_OWN_CAR           438557 non-null object\n",
      "FLAG_OWN_REALTY        438557 non-null object\n",
      "CNT_CHILDREN           438557 non-null int64\n",
      "AMT_INCOME_TOTAL       438557 non-null float64\n",
      "NAME_INCOME_TYPE       438557 non-null object\n",
      "NAME_EDUCATION_TYPE    438557 non-null object\n",
      "NAME_FAMILY_STATUS     438557 non-null object\n",
      "NAME_HOUSING_TYPE      438557 non-null object\n",
      "DAYS_BIRTH             438557 non-null int64\n",
      "DAYS_EMPLOYED          438557 non-null int64\n",
      "FLAG_MOBIL             438557 non-null int64\n",
      "FLAG_WORK_PHONE        438557 non-null int64\n",
      "FLAG_PHONE             438557 non-null int64\n",
      "FLAG_EMAIL             438557 non-null int64\n",
      "OCCUPATION_TYPE        304354 non-null object\n",
      "CNT_FAM_MEMBERS        438557 non-null float64\n",
      "dtypes: float64(2), int64(8), object(8)\n",
      "memory usage: 60.2+ MB\n"
     ]
    }
   ],
   "source": [
    "df.info()"
   ]
  },
  {
   "cell_type": "code",
   "execution_count": 133,
   "metadata": {},
   "outputs": [
    {
     "data": {
      "text/plain": [
       "(438557, 18)"
      ]
     },
     "execution_count": 133,
     "metadata": {},
     "output_type": "execute_result"
    }
   ],
   "source": [
    "# 43万行，18个feature，cross sectional data，没有时间，每一行是一个observation，也就是用户信息\n",
    "df.shape"
   ]
  },
  {
   "cell_type": "code",
   "execution_count": 134,
   "metadata": {},
   "outputs": [],
   "source": [
    "# 去掉ID重复的\n",
    "df_remove_dup = df.drop_duplicates(subset = df.columns[0], keep='first', inplace=False)"
   ]
  },
  {
   "cell_type": "code",
   "execution_count": 135,
   "metadata": {},
   "outputs": [
    {
     "data": {
      "text/plain": [
       "(438510, 18)"
      ]
     },
     "execution_count": 135,
     "metadata": {},
     "output_type": "execute_result"
    }
   ],
   "source": [
    "df_remove_dup.shape"
   ]
  },
  {
   "cell_type": "code",
   "execution_count": 136,
   "metadata": {},
   "outputs": [],
   "source": [
    "df_response = pd.read_csv(\"credit_record.csv\")"
   ]
  },
  {
   "cell_type": "code",
   "execution_count": 137,
   "metadata": {},
   "outputs": [
    {
     "data": {
      "text/html": [
       "<div>\n",
       "<style scoped>\n",
       "    .dataframe tbody tr th:only-of-type {\n",
       "        vertical-align: middle;\n",
       "    }\n",
       "\n",
       "    .dataframe tbody tr th {\n",
       "        vertical-align: top;\n",
       "    }\n",
       "\n",
       "    .dataframe thead th {\n",
       "        text-align: right;\n",
       "    }\n",
       "</style>\n",
       "<table border=\"1\" class=\"dataframe\">\n",
       "  <thead>\n",
       "    <tr style=\"text-align: right;\">\n",
       "      <th></th>\n",
       "      <th>ID</th>\n",
       "      <th>MONTHS_BALANCE</th>\n",
       "      <th>STATUS</th>\n",
       "    </tr>\n",
       "  </thead>\n",
       "  <tbody>\n",
       "    <tr>\n",
       "      <td>1048570</td>\n",
       "      <td>5150487</td>\n",
       "      <td>-25</td>\n",
       "      <td>C</td>\n",
       "    </tr>\n",
       "    <tr>\n",
       "      <td>1048571</td>\n",
       "      <td>5150487</td>\n",
       "      <td>-26</td>\n",
       "      <td>C</td>\n",
       "    </tr>\n",
       "    <tr>\n",
       "      <td>1048572</td>\n",
       "      <td>5150487</td>\n",
       "      <td>-27</td>\n",
       "      <td>C</td>\n",
       "    </tr>\n",
       "    <tr>\n",
       "      <td>1048573</td>\n",
       "      <td>5150487</td>\n",
       "      <td>-28</td>\n",
       "      <td>C</td>\n",
       "    </tr>\n",
       "    <tr>\n",
       "      <td>1048574</td>\n",
       "      <td>5150487</td>\n",
       "      <td>-29</td>\n",
       "      <td>C</td>\n",
       "    </tr>\n",
       "  </tbody>\n",
       "</table>\n",
       "</div>"
      ],
      "text/plain": [
       "              ID  MONTHS_BALANCE STATUS\n",
       "1048570  5150487             -25      C\n",
       "1048571  5150487             -26      C\n",
       "1048572  5150487             -27      C\n",
       "1048573  5150487             -28      C\n",
       "1048574  5150487             -29      C"
      ]
     },
     "execution_count": 137,
     "metadata": {},
     "output_type": "execute_result"
    }
   ],
   "source": [
    "df_response.tail()"
   ]
  },
  {
   "cell_type": "code",
   "execution_count": 138,
   "metadata": {},
   "outputs": [
    {
     "data": {
      "text/html": [
       "<div>\n",
       "<style scoped>\n",
       "    .dataframe tbody tr th:only-of-type {\n",
       "        vertical-align: middle;\n",
       "    }\n",
       "\n",
       "    .dataframe tbody tr th {\n",
       "        vertical-align: top;\n",
       "    }\n",
       "\n",
       "    .dataframe thead th {\n",
       "        text-align: right;\n",
       "    }\n",
       "</style>\n",
       "<table border=\"1\" class=\"dataframe\">\n",
       "  <thead>\n",
       "    <tr style=\"text-align: right;\">\n",
       "      <th></th>\n",
       "      <th>ID</th>\n",
       "      <th>MONTHS_BALANCE</th>\n",
       "      <th>STATUS</th>\n",
       "    </tr>\n",
       "  </thead>\n",
       "  <tbody>\n",
       "    <tr>\n",
       "      <td>93004</td>\n",
       "      <td>5008809</td>\n",
       "      <td>-22</td>\n",
       "      <td>X</td>\n",
       "    </tr>\n",
       "    <tr>\n",
       "      <td>93005</td>\n",
       "      <td>5008809</td>\n",
       "      <td>-23</td>\n",
       "      <td>X</td>\n",
       "    </tr>\n",
       "    <tr>\n",
       "      <td>93006</td>\n",
       "      <td>5008809</td>\n",
       "      <td>-24</td>\n",
       "      <td>X</td>\n",
       "    </tr>\n",
       "    <tr>\n",
       "      <td>93007</td>\n",
       "      <td>5008809</td>\n",
       "      <td>-25</td>\n",
       "      <td>X</td>\n",
       "    </tr>\n",
       "    <tr>\n",
       "      <td>93008</td>\n",
       "      <td>5008809</td>\n",
       "      <td>-26</td>\n",
       "      <td>X</td>\n",
       "    </tr>\n",
       "  </tbody>\n",
       "</table>\n",
       "</div>"
      ],
      "text/plain": [
       "            ID  MONTHS_BALANCE STATUS\n",
       "93004  5008809             -22      X\n",
       "93005  5008809             -23      X\n",
       "93006  5008809             -24      X\n",
       "93007  5008809             -25      X\n",
       "93008  5008809             -26      X"
      ]
     },
     "execution_count": 138,
     "metadata": {},
     "output_type": "execute_result"
    }
   ],
   "source": [
    "df_response[df_response['ID'] == 5008809]\n",
    "# 从这里可以看出，每一个用户不仅仅被记录了一次"
   ]
  },
  {
   "cell_type": "code",
   "execution_count": 139,
   "metadata": {},
   "outputs": [
    {
     "name": "stdout",
     "output_type": "stream",
     "text": [
      "<class 'pandas.core.frame.DataFrame'>\n",
      "RangeIndex: 1048575 entries, 0 to 1048574\n",
      "Data columns (total 3 columns):\n",
      "ID                1048575 non-null int64\n",
      "MONTHS_BALANCE    1048575 non-null int64\n",
      "STATUS            1048575 non-null object\n",
      "dtypes: int64(2), object(1)\n",
      "memory usage: 24.0+ MB\n"
     ]
    }
   ],
   "source": [
    "# df_response可以和df（user information）用ID join在一起\n",
    "df_response.info()"
   ]
  },
  {
   "cell_type": "markdown",
   "metadata": {},
   "source": [
    "## 处理Response Variable"
   ]
  },
  {
   "cell_type": "code",
   "execution_count": 140,
   "metadata": {},
   "outputs": [],
   "source": [
    "# 由于每一个用户多次记录，只取信用最差的一次\n",
    "df_response_single = df_response.groupby('ID').STATUS.max()\n",
    "df_response_single = df_response_single.reset_index()"
   ]
  },
  {
   "cell_type": "code",
   "execution_count": 141,
   "metadata": {
    "scrolled": true
   },
   "outputs": [
    {
     "data": {
      "text/plain": [
       "(45985, 2)"
      ]
     },
     "execution_count": 141,
     "metadata": {},
     "output_type": "execute_result"
    }
   ],
   "source": [
    "df_response_single.shape"
   ]
  },
  {
   "cell_type": "code",
   "execution_count": 142,
   "metadata": {},
   "outputs": [],
   "source": [
    "df_final = pd.merge(df_remove_dup, df_response_single, how='inner', on=['ID'])"
   ]
  },
  {
   "cell_type": "code",
   "execution_count": 143,
   "metadata": {},
   "outputs": [
    {
     "data": {
      "text/html": [
       "<div>\n",
       "<style scoped>\n",
       "    .dataframe tbody tr th:only-of-type {\n",
       "        vertical-align: middle;\n",
       "    }\n",
       "\n",
       "    .dataframe tbody tr th {\n",
       "        vertical-align: top;\n",
       "    }\n",
       "\n",
       "    .dataframe thead th {\n",
       "        text-align: right;\n",
       "    }\n",
       "</style>\n",
       "<table border=\"1\" class=\"dataframe\">\n",
       "  <thead>\n",
       "    <tr style=\"text-align: right;\">\n",
       "      <th></th>\n",
       "      <th>ID</th>\n",
       "      <th>CODE_GENDER</th>\n",
       "      <th>FLAG_OWN_CAR</th>\n",
       "      <th>FLAG_OWN_REALTY</th>\n",
       "      <th>CNT_CHILDREN</th>\n",
       "      <th>AMT_INCOME_TOTAL</th>\n",
       "      <th>NAME_INCOME_TYPE</th>\n",
       "      <th>NAME_EDUCATION_TYPE</th>\n",
       "      <th>NAME_FAMILY_STATUS</th>\n",
       "      <th>NAME_HOUSING_TYPE</th>\n",
       "      <th>DAYS_BIRTH</th>\n",
       "      <th>DAYS_EMPLOYED</th>\n",
       "      <th>FLAG_MOBIL</th>\n",
       "      <th>FLAG_WORK_PHONE</th>\n",
       "      <th>FLAG_PHONE</th>\n",
       "      <th>FLAG_EMAIL</th>\n",
       "      <th>OCCUPATION_TYPE</th>\n",
       "      <th>CNT_FAM_MEMBERS</th>\n",
       "      <th>STATUS</th>\n",
       "    </tr>\n",
       "  </thead>\n",
       "  <tbody>\n",
       "    <tr>\n",
       "      <td>0</td>\n",
       "      <td>5008804</td>\n",
       "      <td>M</td>\n",
       "      <td>Y</td>\n",
       "      <td>Y</td>\n",
       "      <td>0</td>\n",
       "      <td>427500.0</td>\n",
       "      <td>Working</td>\n",
       "      <td>Higher education</td>\n",
       "      <td>Civil marriage</td>\n",
       "      <td>Rented apartment</td>\n",
       "      <td>-12005</td>\n",
       "      <td>-4542</td>\n",
       "      <td>1</td>\n",
       "      <td>1</td>\n",
       "      <td>0</td>\n",
       "      <td>0</td>\n",
       "      <td>NaN</td>\n",
       "      <td>2.0</td>\n",
       "      <td>X</td>\n",
       "    </tr>\n",
       "    <tr>\n",
       "      <td>1</td>\n",
       "      <td>5008805</td>\n",
       "      <td>M</td>\n",
       "      <td>Y</td>\n",
       "      <td>Y</td>\n",
       "      <td>0</td>\n",
       "      <td>427500.0</td>\n",
       "      <td>Working</td>\n",
       "      <td>Higher education</td>\n",
       "      <td>Civil marriage</td>\n",
       "      <td>Rented apartment</td>\n",
       "      <td>-12005</td>\n",
       "      <td>-4542</td>\n",
       "      <td>1</td>\n",
       "      <td>1</td>\n",
       "      <td>0</td>\n",
       "      <td>0</td>\n",
       "      <td>NaN</td>\n",
       "      <td>2.0</td>\n",
       "      <td>X</td>\n",
       "    </tr>\n",
       "    <tr>\n",
       "      <td>2</td>\n",
       "      <td>5008806</td>\n",
       "      <td>M</td>\n",
       "      <td>Y</td>\n",
       "      <td>Y</td>\n",
       "      <td>0</td>\n",
       "      <td>112500.0</td>\n",
       "      <td>Working</td>\n",
       "      <td>Secondary / secondary special</td>\n",
       "      <td>Married</td>\n",
       "      <td>House / apartment</td>\n",
       "      <td>-21474</td>\n",
       "      <td>-1134</td>\n",
       "      <td>1</td>\n",
       "      <td>0</td>\n",
       "      <td>0</td>\n",
       "      <td>0</td>\n",
       "      <td>Security staff</td>\n",
       "      <td>2.0</td>\n",
       "      <td>X</td>\n",
       "    </tr>\n",
       "    <tr>\n",
       "      <td>3</td>\n",
       "      <td>5008808</td>\n",
       "      <td>F</td>\n",
       "      <td>N</td>\n",
       "      <td>Y</td>\n",
       "      <td>0</td>\n",
       "      <td>270000.0</td>\n",
       "      <td>Commercial associate</td>\n",
       "      <td>Secondary / secondary special</td>\n",
       "      <td>Single / not married</td>\n",
       "      <td>House / apartment</td>\n",
       "      <td>-19110</td>\n",
       "      <td>-3051</td>\n",
       "      <td>1</td>\n",
       "      <td>0</td>\n",
       "      <td>1</td>\n",
       "      <td>1</td>\n",
       "      <td>Sales staff</td>\n",
       "      <td>1.0</td>\n",
       "      <td>X</td>\n",
       "    </tr>\n",
       "    <tr>\n",
       "      <td>4</td>\n",
       "      <td>5008809</td>\n",
       "      <td>F</td>\n",
       "      <td>N</td>\n",
       "      <td>Y</td>\n",
       "      <td>0</td>\n",
       "      <td>270000.0</td>\n",
       "      <td>Commercial associate</td>\n",
       "      <td>Secondary / secondary special</td>\n",
       "      <td>Single / not married</td>\n",
       "      <td>House / apartment</td>\n",
       "      <td>-19110</td>\n",
       "      <td>-3051</td>\n",
       "      <td>1</td>\n",
       "      <td>0</td>\n",
       "      <td>1</td>\n",
       "      <td>1</td>\n",
       "      <td>Sales staff</td>\n",
       "      <td>1.0</td>\n",
       "      <td>X</td>\n",
       "    </tr>\n",
       "  </tbody>\n",
       "</table>\n",
       "</div>"
      ],
      "text/plain": [
       "        ID CODE_GENDER FLAG_OWN_CAR FLAG_OWN_REALTY  CNT_CHILDREN  AMT_INCOME_TOTAL      NAME_INCOME_TYPE            NAME_EDUCATION_TYPE    NAME_FAMILY_STATUS  NAME_HOUSING_TYPE  DAYS_BIRTH  DAYS_EMPLOYED  FLAG_MOBIL  FLAG_WORK_PHONE  FLAG_PHONE  FLAG_EMAIL OCCUPATION_TYPE  CNT_FAM_MEMBERS STATUS\n",
       "0  5008804           M            Y               Y             0          427500.0               Working               Higher education        Civil marriage   Rented apartment      -12005          -4542           1                1           0           0             NaN              2.0      X\n",
       "1  5008805           M            Y               Y             0          427500.0               Working               Higher education        Civil marriage   Rented apartment      -12005          -4542           1                1           0           0             NaN              2.0      X\n",
       "2  5008806           M            Y               Y             0          112500.0               Working  Secondary / secondary special               Married  House / apartment      -21474          -1134           1                0           0           0  Security staff              2.0      X\n",
       "3  5008808           F            N               Y             0          270000.0  Commercial associate  Secondary / secondary special  Single / not married  House / apartment      -19110          -3051           1                0           1           1     Sales staff              1.0      X\n",
       "4  5008809           F            N               Y             0          270000.0  Commercial associate  Secondary / secondary special  Single / not married  House / apartment      -19110          -3051           1                0           1           1     Sales staff              1.0      X"
      ]
     },
     "execution_count": 143,
     "metadata": {},
     "output_type": "execute_result"
    }
   ],
   "source": [
    "# merge两个表\n",
    "df_final.head()"
   ]
  },
  {
   "cell_type": "code",
   "execution_count": 144,
   "metadata": {},
   "outputs": [
    {
     "data": {
      "text/plain": [
       "X    19648\n",
       "C    11759\n",
       "0     4282\n",
       "1      660\n",
       "5       48\n",
       "2       48\n",
       "3        9\n",
       "4        3\n",
       "Name: STATUS, dtype: int64"
      ]
     },
     "execution_count": 144,
     "metadata": {},
     "output_type": "execute_result"
    }
   ],
   "source": [
    "# STATUS是我们用来划定一个用户是defaulter的变量，STATUS本身不是response variable，需要我们划定一个边界来生成response variable\n",
    "df_final[\"STATUS\"].value_counts()"
   ]
  },
  {
   "cell_type": "markdown",
   "metadata": {},
   "source": [
    "0: 1-29 days past due 1: 30-59 days past due 2: 60-89 days overdue 3: 90-119 days overdue 4: 120-149 days overdue 5: Overdue or bad debts, write-offs for more than 150 days C: paid off that month X: No loan for the month \n",
    "\n",
    "从字段可以看出，C是付清，1-5是不同程度的逾期或者烂账，X表示无贷款。我们需要在这个基础上划定一个界限。\n",
    "*其实应该用更复杂的方法界定，比如这个项目推荐的vintage analysis。这里我们用简单的方法就好了。"
   ]
  },
  {
   "cell_type": "code",
   "execution_count": 145,
   "metadata": {},
   "outputs": [
    {
     "data": {
      "text/plain": [
       "X    53.893628\n",
       "C    32.254437\n",
       "0    11.745344\n",
       "1     1.810352\n",
       "5     0.131662\n",
       "2     0.131662\n",
       "3     0.024687\n",
       "4     0.008229\n",
       "Name: STATUS, dtype: float64"
      ]
     },
     "execution_count": 145,
     "metadata": {},
     "output_type": "execute_result"
    }
   ],
   "source": [
    "# 看一下各种类型的占比 比如C（付清）就是53%,1-29天是32%\n",
    "df_final[\"STATUS\"].value_counts() / df_final.shape[0]*100"
   ]
  },
  {
   "cell_type": "markdown",
   "metadata": {},
   "source": [
    "这里我们界定方法是，STATUS 0-5也就是有逾期，我们就认为这个客户是defaulter，defaulter = 1。\n",
    "C和X是非defaulter，defaulter = 0。"
   ]
  },
  {
   "cell_type": "code",
   "execution_count": 146,
   "metadata": {},
   "outputs": [],
   "source": [
    "df_final['defaulter'] = np.where(df_final[\"STATUS\"].isin([\"0\",\"1\",\"2\",\"3\",\"4\",\"5\"]), 1, 0)"
   ]
  },
  {
   "cell_type": "code",
   "execution_count": 147,
   "metadata": {},
   "outputs": [
    {
     "data": {
      "text/plain": [
       "0    31407\n",
       "1     5050\n",
       "Name: defaulter, dtype: int64"
      ]
     },
     "execution_count": 147,
     "metadata": {},
     "output_type": "execute_result"
    }
   ],
   "source": [
    "df_final['defaulter'].value_counts()"
   ]
  },
  {
   "cell_type": "code",
   "execution_count": 148,
   "metadata": {},
   "outputs": [
    {
     "data": {
      "text/plain": [
       "Index(['ID', 'CODE_GENDER', 'FLAG_OWN_CAR', 'FLAG_OWN_REALTY', 'CNT_CHILDREN', 'AMT_INCOME_TOTAL', 'NAME_INCOME_TYPE', 'NAME_EDUCATION_TYPE', 'NAME_FAMILY_STATUS', 'NAME_HOUSING_TYPE', 'DAYS_BIRTH', 'DAYS_EMPLOYED', 'FLAG_MOBIL', 'FLAG_WORK_PHONE', 'FLAG_PHONE', 'FLAG_EMAIL', 'OCCUPATION_TYPE', 'CNT_FAM_MEMBERS', 'STATUS', 'defaulter'], dtype='object')"
      ]
     },
     "execution_count": 148,
     "metadata": {},
     "output_type": "execute_result"
    }
   ],
   "source": [
    "df_final.columns"
   ]
  },
  {
   "cell_type": "code",
   "execution_count": 149,
   "metadata": {},
   "outputs": [
    {
     "data": {
      "image/png": "[encoded data removed]",
      "text/plain": [
       "<Figure size 432x288 with 1 Axes>"
      ]
     },
     "metadata": {
      "needs_background": "light"
     },
     "output_type": "display_data"
    }
   ],
   "source": [
    "chart=sns.countplot(x ='defaulter', data = df_final, palette = 'hls')"
   ]
  },
  {
   "cell_type": "markdown",
   "metadata": {},
   "source": [
    "现在我们的response variable 就是defaulter这一列。数据集不平衡，需要过采样或者欠采样。"
   ]
  },
  {
   "cell_type": "markdown",
   "metadata": {},
   "source": [
    "## 特征工程"
   ]
  },
  {
   "cell_type": "code",
   "execution_count": 150,
   "metadata": {
    "scrolled": true
   },
   "outputs": [
    {
     "data": {
      "text/html": [
       "<div>\n",
       "<style scoped>\n",
       "    .dataframe tbody tr th:only-of-type {\n",
       "        vertical-align: middle;\n",
       "    }\n",
       "\n",
       "    .dataframe tbody tr th {\n",
       "        vertical-align: top;\n",
       "    }\n",
       "\n",
       "    .dataframe thead th {\n",
       "        text-align: right;\n",
       "    }\n",
       "</style>\n",
       "<table border=\"1\" class=\"dataframe\">\n",
       "  <thead>\n",
       "    <tr style=\"text-align: right;\">\n",
       "      <th></th>\n",
       "      <th>ID</th>\n",
       "      <th>CODE_GENDER</th>\n",
       "      <th>FLAG_OWN_CAR</th>\n",
       "      <th>FLAG_OWN_REALTY</th>\n",
       "      <th>CNT_CHILDREN</th>\n",
       "      <th>AMT_INCOME_TOTAL</th>\n",
       "      <th>NAME_INCOME_TYPE</th>\n",
       "      <th>NAME_EDUCATION_TYPE</th>\n",
       "      <th>NAME_FAMILY_STATUS</th>\n",
       "      <th>NAME_HOUSING_TYPE</th>\n",
       "      <th>DAYS_BIRTH</th>\n",
       "      <th>DAYS_EMPLOYED</th>\n",
       "      <th>FLAG_MOBIL</th>\n",
       "      <th>FLAG_WORK_PHONE</th>\n",
       "      <th>FLAG_PHONE</th>\n",
       "      <th>FLAG_EMAIL</th>\n",
       "      <th>OCCUPATION_TYPE</th>\n",
       "      <th>CNT_FAM_MEMBERS</th>\n",
       "      <th>STATUS</th>\n",
       "      <th>defaulter</th>\n",
       "    </tr>\n",
       "  </thead>\n",
       "  <tbody>\n",
       "    <tr>\n",
       "      <td>0</td>\n",
       "      <td>5008804</td>\n",
       "      <td>M</td>\n",
       "      <td>Y</td>\n",
       "      <td>Y</td>\n",
       "      <td>0</td>\n",
       "      <td>427500.0</td>\n",
       "      <td>Working</td>\n",
       "      <td>Higher education</td>\n",
       "      <td>Civil marriage</td>\n",
       "      <td>Rented apartment</td>\n",
       "      <td>-12005</td>\n",
       "      <td>-4542</td>\n",
       "      <td>1</td>\n",
       "      <td>1</td>\n",
       "      <td>0</td>\n",
       "      <td>0</td>\n",
       "      <td>NaN</td>\n",
       "      <td>2.0</td>\n",
       "      <td>X</td>\n",
       "      <td>0</td>\n",
       "    </tr>\n",
       "    <tr>\n",
       "      <td>1</td>\n",
       "      <td>5008805</td>\n",
       "      <td>M</td>\n",
       "      <td>Y</td>\n",
       "      <td>Y</td>\n",
       "      <td>0</td>\n",
       "      <td>427500.0</td>\n",
       "      <td>Working</td>\n",
       "      <td>Higher education</td>\n",
       "      <td>Civil marriage</td>\n",
       "      <td>Rented apartment</td>\n",
       "      <td>-12005</td>\n",
       "      <td>-4542</td>\n",
       "      <td>1</td>\n",
       "      <td>1</td>\n",
       "      <td>0</td>\n",
       "      <td>0</td>\n",
       "      <td>NaN</td>\n",
       "      <td>2.0</td>\n",
       "      <td>X</td>\n",
       "      <td>0</td>\n",
       "    </tr>\n",
       "    <tr>\n",
       "      <td>2</td>\n",
       "      <td>5008806</td>\n",
       "      <td>M</td>\n",
       "      <td>Y</td>\n",
       "      <td>Y</td>\n",
       "      <td>0</td>\n",
       "      <td>112500.0</td>\n",
       "      <td>Working</td>\n",
       "      <td>Secondary / secondary special</td>\n",
       "      <td>Married</td>\n",
       "      <td>House / apartment</td>\n",
       "      <td>-21474</td>\n",
       "      <td>-1134</td>\n",
       "      <td>1</td>\n",
       "      <td>0</td>\n",
       "      <td>0</td>\n",
       "      <td>0</td>\n",
       "      <td>Security staff</td>\n",
       "      <td>2.0</td>\n",
       "      <td>X</td>\n",
       "      <td>0</td>\n",
       "    </tr>\n",
       "    <tr>\n",
       "      <td>3</td>\n",
       "      <td>5008808</td>\n",
       "      <td>F</td>\n",
       "      <td>N</td>\n",
       "      <td>Y</td>\n",
       "      <td>0</td>\n",
       "      <td>270000.0</td>\n",
       "      <td>Commercial associate</td>\n",
       "      <td>Secondary / secondary special</td>\n",
       "      <td>Single / not married</td>\n",
       "      <td>House / apartment</td>\n",
       "      <td>-19110</td>\n",
       "      <td>-3051</td>\n",
       "      <td>1</td>\n",
       "      <td>0</td>\n",
       "      <td>1</td>\n",
       "      <td>1</td>\n",
       "      <td>Sales staff</td>\n",
       "      <td>1.0</td>\n",
       "      <td>X</td>\n",
       "      <td>0</td>\n",
       "    </tr>\n",
       "    <tr>\n",
       "      <td>4</td>\n",
       "      <td>5008809</td>\n",
       "      <td>F</td>\n",
       "      <td>N</td>\n",
       "      <td>Y</td>\n",
       "      <td>0</td>\n",
       "      <td>270000.0</td>\n",
       "      <td>Commercial associate</td>\n",
       "      <td>Secondary / secondary special</td>\n",
       "      <td>Single / not married</td>\n",
       "      <td>House / apartment</td>\n",
       "      <td>-19110</td>\n",
       "      <td>-3051</td>\n",
       "      <td>1</td>\n",
       "      <td>0</td>\n",
       "      <td>1</td>\n",
       "      <td>1</td>\n",
       "      <td>Sales staff</td>\n",
       "      <td>1.0</td>\n",
       "      <td>X</td>\n",
       "      <td>0</td>\n",
       "    </tr>\n",
       "  </tbody>\n",
       "</table>\n",
       "</div>"
      ],
      "text/plain": [
       "        ID CODE_GENDER FLAG_OWN_CAR FLAG_OWN_REALTY  CNT_CHILDREN  AMT_INCOME_TOTAL      NAME_INCOME_TYPE            NAME_EDUCATION_TYPE    NAME_FAMILY_STATUS  NAME_HOUSING_TYPE  DAYS_BIRTH  DAYS_EMPLOYED  FLAG_MOBIL  FLAG_WORK_PHONE  FLAG_PHONE  FLAG_EMAIL OCCUPATION_TYPE  CNT_FAM_MEMBERS STATUS  defaulter\n",
       "0  5008804           M            Y               Y             0          427500.0               Working               Higher education        Civil marriage   Rented apartment      -12005          -4542           1                1           0           0             NaN              2.0      X          0\n",
       "1  5008805           M            Y               Y             0          427500.0               Working               Higher education        Civil marriage   Rented apartment      -12005          -4542           1                1           0           0             NaN              2.0      X          0\n",
       "2  5008806           M            Y               Y             0          112500.0               Working  Secondary / secondary special               Married  House / apartment      -21474          -1134           1                0           0           0  Security staff              2.0      X          0\n",
       "3  5008808           F            N               Y             0          270000.0  Commercial associate  Secondary / secondary special  Single / not married  House / apartment      -19110          -3051           1                0           1           1     Sales staff              1.0      X          0\n",
       "4  5008809           F            N               Y             0          270000.0  Commercial associate  Secondary / secondary special  Single / not married  House / apartment      -19110          -3051           1                0           1           1     Sales staff              1.0      X          0"
      ]
     },
     "execution_count": 150,
     "metadata": {},
     "output_type": "execute_result"
    }
   ],
   "source": [
    "df_final.head()"
   ]
  },
  {
   "cell_type": "code",
   "execution_count": 151,
   "metadata": {},
   "outputs": [],
   "source": [
    "# 去掉STATUS\n",
    "df_final.drop(\"STATUS\",axis=1,inplace=True)"
   ]
  },
  {
   "cell_type": "code",
   "execution_count": 152,
   "metadata": {},
   "outputs": [
    {
     "data": {
      "text/plain": [
       "(25134, 19)"
      ]
     },
     "execution_count": 152,
     "metadata": {},
     "output_type": "execute_result"
    }
   ],
   "source": [
    "df_final.dropna(inplace=True)\n",
    "df_final.shape"
   ]
  },
  {
   "cell_type": "code",
   "execution_count": 153,
   "metadata": {},
   "outputs": [
    {
     "data": {
      "text/plain": [
       "{'ID': 25134,\n",
       " 'CODE_GENDER': 2,\n",
       " 'FLAG_OWN_CAR': 2,\n",
       " 'FLAG_OWN_REALTY': 2,\n",
       " 'CNT_CHILDREN': 9,\n",
       " 'AMT_INCOME_TOTAL': 195,\n",
       " 'NAME_INCOME_TYPE': 5,\n",
       " 'NAME_EDUCATION_TYPE': 5,\n",
       " 'NAME_FAMILY_STATUS': 5,\n",
       " 'NAME_HOUSING_TYPE': 6,\n",
       " 'DAYS_BIRTH': 5206,\n",
       " 'DAYS_EMPLOYED': 3299,\n",
       " 'FLAG_MOBIL': 1,\n",
       " 'FLAG_WORK_PHONE': 2,\n",
       " 'FLAG_PHONE': 2,\n",
       " 'FLAG_EMAIL': 2,\n",
       " 'OCCUPATION_TYPE': 18,\n",
       " 'CNT_FAM_MEMBERS': 10,\n",
       " 'defaulter': 2}"
      ]
     },
     "execution_count": 153,
     "metadata": {},
     "output_type": "execute_result"
    }
   ],
   "source": [
    "# 区分连续数据和分类数据\n",
    "unique_values = {}\n",
    "\n",
    "for i in df_final.columns:\n",
    "    unique_values[i] = len(set(df_final[i]))\n",
    "\n",
    "unique_values"
   ]
  },
  {
   "cell_type": "code",
   "execution_count": 154,
   "metadata": {},
   "outputs": [
    {
     "name": "stdout",
     "output_type": "stream",
     "text": [
      "{'F', 'M'}\n",
      "{'N', 'Y'}\n",
      "{'N', 'Y'}\n",
      "{0, 1, 2, 3, 4, 5, 7, 14, 19}\n",
      "{'Commercial associate', 'State servant', 'Pensioner', 'Working', 'Student'}\n",
      "{'Academic degree', 'Lower secondary', 'Incomplete higher', 'Higher education', 'Secondary / secondary special'}\n",
      "{'Separated', 'Single / not married', 'Widow', 'Civil marriage', 'Married'}\n",
      "{'House / apartment', 'Co-op apartment', 'Municipal apartment', 'Rented apartment', 'Office apartment', 'With parents'}\n",
      "{1}\n",
      "{0, 1}\n",
      "{0, 1}\n",
      "{0, 1}\n",
      "{'Secretaries', 'Low-skill Laborers', 'Waiters/barmen staff', 'Realty agents', 'High skill tech staff', 'Medicine staff', 'IT staff', 'Laborers', 'Sales staff', 'Cooking staff', 'Managers', 'Drivers', 'Security staff', 'Private service staff', 'Accountants', 'HR staff', 'Cleaning staff', 'Core staff'}\n",
      "{1.0, 2.0, 3.0, 4.0, 5.0, 6.0, 7.0, 9.0, 15.0, 20.0}\n",
      "{0, 1}\n"
     ]
    }
   ],
   "source": [
    "# here, I just assume 19 is a threshold of categorial and continuous variables\n",
    "for i,j in unique_values.items():\n",
    "    if j < 19:\n",
    "        print(set(df_final[i]))"
   ]
  },
  {
   "cell_type": "code",
   "execution_count": 155,
   "metadata": {},
   "outputs": [
    {
     "name": "stdout",
     "output_type": "stream",
     "text": [
      "The continuous variables:  ['AMT_INCOME_TOTAL', 'DAYS_BIRTH', 'DAYS_EMPLOYED']\n",
      "The categorial variables:  ['CODE_GENDER', 'FLAG_OWN_CAR', 'FLAG_OWN_REALTY', 'CNT_CHILDREN', 'NAME_INCOME_TYPE', 'NAME_EDUCATION_TYPE', 'NAME_FAMILY_STATUS', 'NAME_HOUSING_TYPE', 'FLAG_MOBIL', 'FLAG_WORK_PHONE', 'FLAG_PHONE', 'FLAG_EMAIL', 'OCCUPATION_TYPE', 'CNT_FAM_MEMBERS']\n"
     ]
    }
   ],
   "source": [
    "cat_variables = [i for i in unique_values.keys() if unique_values[i] < 19]\n",
    "con_variables = [i for i in unique_values.keys() if unique_values[i] > 19]\n",
    "# Y is the response variable, our target\n",
    "cat_variables.remove(\"defaulter\")\n",
    "con_variables.remove(\"ID\")\n",
    "print(\"The continuous variables: \",con_variables)\n",
    "print(\"The categorial variables: \",cat_variables)"
   ]
  },
  {
   "cell_type": "code",
   "execution_count": 156,
   "metadata": {},
   "outputs": [
    {
     "data": {
      "text/plain": [
       "1    25134\n",
       "Name: FLAG_MOBIL, dtype: int64"
      ]
     },
     "execution_count": 156,
     "metadata": {},
     "output_type": "execute_result"
    }
   ],
   "source": [
    "# 全是1，没有任何意义\n",
    "df_final.FLAG_MOBIL.value_counts()"
   ]
  },
  {
   "cell_type": "code",
   "execution_count": 157,
   "metadata": {},
   "outputs": [],
   "source": [
    "df_final.drop(\"FLAG_MOBIL\",axis=1,inplace=True)"
   ]
  },
  {
   "cell_type": "code",
   "execution_count": 158,
   "metadata": {},
   "outputs": [],
   "source": [
    "# 划分数据集\n",
    "Y = df_final[\"defaulter\"]\n",
    "X = df_final.drop(['defaulter', 'ID'], axis= 1)\n",
    "x_train, x_test, y_train, y_test = train_test_split(X, Y, test_size=0.2, random_state=1)"
   ]
  },
  {
   "cell_type": "code",
   "execution_count": 159,
   "metadata": {
    "scrolled": true
   },
   "outputs": [
    {
     "data": {
      "text/plain": [
       "((20107, 16), (5027, 16), (20107,), (5027,))"
      ]
     },
     "execution_count": 159,
     "metadata": {},
     "output_type": "execute_result"
    }
   ],
   "source": [
    "x_train.shape, x_test.shape, y_train.shape, y_test.shape"
   ]
  },
  {
   "cell_type": "code",
   "execution_count": 160,
   "metadata": {
    "scrolled": false
   },
   "outputs": [
    {
     "data": {
      "image/png": "[encoded data removed]",
      "text/plain": [
       "<Figure size 720x1080 with 2 Axes>"
      ]
     },
     "metadata": {
      "needs_background": "light"
     },
     "output_type": "display_data"
    },
    {
     "data": {
      "image/png": "[encoded data removed]",
      "text/plain": [
       "<Figure size 720x1080 with 2 Axes>"
      ]
     },
     "metadata": {
      "needs_background": "light"
     },
     "output_type": "display_data"
    },
    {
     "data": {
      "image/png": "[encoded data removed]",
      "text/plain": [
       "<Figure size 720x1080 with 2 Axes>"
      ]
     },
     "metadata": {
      "needs_background": "light"
     },
     "output_type": "display_data"
    }
   ],
   "source": [
    "count = 1\n",
    "\n",
    "for i in range(len(con_variables)):\n",
    "    fig = plt.figure(figsize = (10,15))\n",
    "    plt.subplot(len(con_variables),2,count)\n",
    "    sns.boxplot(x_train[con_variables[i]],palette=\"hls\")\n",
    "    plt.title(\"Train\")\n",
    "    \n",
    "    plt.subplot(len(con_variables),2,count+1)\n",
    "    sns.boxplot(x_test[con_variables[i]],palette=\"Paired\")\n",
    "    plt.title(\"Test\")\n",
    "    count += 2\n",
    "    \n",
    "# 主要是对比测试集和训练集数据分布是否一致，来保证模型可靠性"
   ]
  },
  {
   "cell_type": "code",
   "execution_count": 161,
   "metadata": {},
   "outputs": [
    {
     "data": {
      "image/png": "[encoded data removed]",
      "text/plain": [
       "<Figure size 1080x864 with 2 Axes>"
      ]
     },
     "metadata": {
      "needs_background": "light"
     },
     "output_type": "display_data"
    }
   ],
   "source": [
    "plt.figure(figsize=(15,12))\n",
    "sns.heatmap(df_final.corr(),cmap='coolwarm',linecolor='white',linewidths=0.25,annot=True)\n",
    "plt.show()"
   ]
  },
  {
   "cell_type": "code",
   "execution_count": 162,
   "metadata": {},
   "outputs": [
    {
     "data": {
      "text/plain": [
       "2.0     12697\n",
       "3.0      5216\n",
       "1.0      4263\n",
       "4.0      2576\n",
       "5.0       307\n",
       "6.0        51\n",
       "7.0        18\n",
       "15.0        3\n",
       "9.0         2\n",
       "20.0        1\n",
       "Name: CNT_FAM_MEMBERS, dtype: int64"
      ]
     },
     "execution_count": 162,
     "metadata": {},
     "output_type": "execute_result"
    }
   ],
   "source": [
    "# CNT_FAM_MEMBERS 和 CNT_CHILDREN 相关性0.9,剔除\n",
    "df_final.CNT_FAM_MEMBERS.value_counts()"
   ]
  },
  {
   "cell_type": "code",
   "execution_count": 163,
   "metadata": {},
   "outputs": [
    {
     "data": {
      "text/plain": [
       "0     15908\n",
       "1      6118\n",
       "2      2715\n",
       "3       312\n",
       "4        57\n",
       "5        18\n",
       "14        3\n",
       "7         2\n",
       "19        1\n",
       "Name: CNT_CHILDREN, dtype: int64"
      ]
     },
     "execution_count": 163,
     "metadata": {},
     "output_type": "execute_result"
    }
   ],
   "source": [
    "df_final.CNT_CHILDREN.value_counts()"
   ]
  },
  {
   "cell_type": "code",
   "execution_count": 164,
   "metadata": {},
   "outputs": [],
   "source": [
    "#去掉相对复杂的\n",
    "df_final.drop(\"CNT_FAM_MEMBERS\",axis=1,inplace=True)"
   ]
  },
  {
   "cell_type": "code",
   "execution_count": 165,
   "metadata": {
    "scrolled": false
   },
   "outputs": [
    {
     "name": "stderr",
     "output_type": "stream",
     "text": [
      "/Users/hkmac/anaconda3/lib/python3.7/site-packages/pandas/core/frame.py:4102: SettingWithCopyWarning: \n",
      "A value is trying to be set on a copy of a slice from a DataFrame\n",
      "\n",
      "See the caveats in the documentation: http://pandas.pydata.org/pandas-docs/stable/user_guide/indexing.html#returning-a-view-versus-a-copy\n",
      "  errors=errors,\n"
     ]
    }
   ],
   "source": [
    "x_train.drop(\"CNT_FAM_MEMBERS\",axis=1,inplace=True)\n",
    "x_test.drop(\"CNT_FAM_MEMBERS\",axis=1,inplace=True)"
   ]
  },
  {
   "cell_type": "code",
   "execution_count": 166,
   "metadata": {},
   "outputs": [
    {
     "data": {
      "text/plain": [
       "AMT_INCOME_TOTAL    104510.987243\n",
       "DAYS_BIRTH            3486.969790\n",
       "DAYS_EMPLOYED         2339.224822\n",
       "Name: std, dtype: float64"
      ]
     },
     "execution_count": 166,
     "metadata": {},
     "output_type": "execute_result"
    }
   ],
   "source": [
    "# 看有没有variance较低的需要剔除\n",
    "df_final[con_variables].describe().loc[\"std\",:]\n",
    "# here, we do not have any feature with a very low variance (nearly zero)"
   ]
  },
  {
   "cell_type": "code",
   "execution_count": 167,
   "metadata": {},
   "outputs": [
    {
     "data": {
      "text/plain": [
       "(20107, 15)"
      ]
     },
     "execution_count": 167,
     "metadata": {},
     "output_type": "execute_result"
    }
   ],
   "source": [
    "x_train.shape"
   ]
  },
  {
   "cell_type": "code",
   "execution_count": 168,
   "metadata": {},
   "outputs": [],
   "source": [
    "# 将分类数据（字符串类型）转化为dummy variable\n",
    "x_train = pd.get_dummies(x_train,drop_first=True)\n",
    "x_test = pd.get_dummies(x_test,drop_first=True)"
   ]
  },
  {
   "cell_type": "code",
   "execution_count": 169,
   "metadata": {},
   "outputs": [
    {
     "data": {
      "text/plain": [
       "((20107, 52), (5027, 44))"
      ]
     },
     "execution_count": 169,
     "metadata": {},
     "output_type": "execute_result"
    }
   ],
   "source": [
    "x_trian.shape, x_test.shape"
   ]
  },
  {
   "cell_type": "code",
   "execution_count": 172,
   "metadata": {},
   "outputs": [
    {
     "data": {
      "text/plain": [
       "Index(['CNT_CHILDREN', 'AMT_INCOME_TOTAL', 'DAYS_BIRTH', 'DAYS_EMPLOYED', 'FLAG_WORK_PHONE', 'FLAG_PHONE', 'FLAG_EMAIL', 'CODE_GENDER_M', 'FLAG_OWN_CAR_Y', 'FLAG_OWN_REALTY_Y', 'NAME_INCOME_TYPE_Pensioner', 'NAME_INCOME_TYPE_State servant', 'NAME_INCOME_TYPE_Student', 'NAME_INCOME_TYPE_Working', 'NAME_EDUCATION_TYPE_Higher education', 'NAME_EDUCATION_TYPE_Incomplete higher', 'NAME_EDUCATION_TYPE_Lower secondary', 'NAME_EDUCATION_TYPE_Secondary / secondary special', 'NAME_FAMILY_STATUS_Married', 'NAME_FAMILY_STATUS_Separated', 'NAME_FAMILY_STATUS_Single / not married', 'NAME_FAMILY_STATUS_Widow', 'NAME_HOUSING_TYPE_House / apartment', 'NAME_HOUSING_TYPE_Municipal apartment', 'NAME_HOUSING_TYPE_Office apartment', 'NAME_HOUSING_TYPE_Rented apartment', 'NAME_HOUSING_TYPE_With parents', 'OCCUPATION_TYPE_Cleaning staff', 'OCCUPATION_TYPE_Cooking staff', 'OCCUPATION_TYPE_Core staff', 'OCCUPATION_TYPE_Drivers', 'OCCUPATION_TYPE_HR staff', 'OCCUPATION_TYPE_High skill tech staff',\n",
       "       'OCCUPATION_TYPE_IT staff', 'OCCUPATION_TYPE_Laborers', 'OCCUPATION_TYPE_Low-skill Laborers', 'OCCUPATION_TYPE_Managers', 'OCCUPATION_TYPE_Medicine staff', 'OCCUPATION_TYPE_Private service staff', 'OCCUPATION_TYPE_Realty agents', 'OCCUPATION_TYPE_Sales staff', 'OCCUPATION_TYPE_Secretaries', 'OCCUPATION_TYPE_Security staff', 'OCCUPATION_TYPE_Waiters/barmen staff'],\n",
       "      dtype='object')"
      ]
     },
     "execution_count": 172,
     "metadata": {},
     "output_type": "execute_result"
    }
   ],
   "source": [
    "x_train.columns"
   ]
  },
  {
   "cell_type": "code",
   "execution_count": 173,
   "metadata": {},
   "outputs": [],
   "source": [
    "# 采用SMOTE算法生成人工样本，解决不平衡问题\n",
    "sm = SMOTE(sampling_strategy='minority', random_state=10)\n",
    "x_resampled, y_resampled = SMOTE().fit_resample(x_train, y_train)"
   ]
  },
  {
   "cell_type": "code",
   "execution_count": 174,
   "metadata": {},
   "outputs": [
    {
     "data": {
      "text/plain": [
       "(34604, 44)"
      ]
     },
     "execution_count": 174,
     "metadata": {},
     "output_type": "execute_result"
    }
   ],
   "source": [
    "x_resampled.shape"
   ]
  },
  {
   "cell_type": "code",
   "execution_count": 175,
   "metadata": {},
   "outputs": [
    {
     "data": {
      "text/plain": [
       "(34604,)"
      ]
     },
     "execution_count": 175,
     "metadata": {},
     "output_type": "execute_result"
    }
   ],
   "source": [
    "y_resampled.shape"
   ]
  },
  {
   "cell_type": "code",
   "execution_count": 176,
   "metadata": {},
   "outputs": [
    {
     "data": {
      "text/plain": [
       "1    17302\n",
       "0    17302\n",
       "Name: defaulter, dtype: int64"
      ]
     },
     "execution_count": 176,
     "metadata": {},
     "output_type": "execute_result"
    }
   ],
   "source": [
    "y_resampled.value_counts()\n",
    "# 得到了平衡的label"
   ]
  },
  {
   "cell_type": "markdown",
   "metadata": {},
   "source": [
    "## 模型"
   ]
  },
  {
   "cell_type": "markdown",
   "metadata": {},
   "source": [
    "这里先用了一个OLS模型，普通最小二乘(OLS)。因为这个包和上课讲的比较类似，偏统计类型。"
   ]
  },
  {
   "cell_type": "code",
   "execution_count": 177,
   "metadata": {},
   "outputs": [],
   "source": [
    "from statsmodels.sandbox.regression.predstd import wls_prediction_std"
   ]
  },
  {
   "cell_type": "code",
   "execution_count": 178,
   "metadata": {},
   "outputs": [],
   "source": [
    "import statsmodels.api as sm"
   ]
  },
  {
   "cell_type": "code",
   "execution_count": 179,
   "metadata": {
    "scrolled": false
   },
   "outputs": [
    {
     "name": "stdout",
     "output_type": "stream",
     "text": [
      "                                 OLS Regression Results                                \n",
      "=======================================================================================\n",
      "Dep. Variable:              defaulter   R-squared (uncentered):                   0.616\n",
      "Model:                            OLS   Adj. R-squared (uncentered):              0.615\n",
      "Method:                 Least Squares   F-statistic:                              1259.\n",
      "Date:                Thu, 03 Dec 2020   Prob (F-statistic):                        0.00\n",
      "Time:                        03:47:53   Log-Likelihood:                         -20558.\n",
      "No. Observations:               34604   AIC:                                  4.120e+04\n",
      "Df Residuals:                   34560   BIC:                                  4.158e+04\n",
      "Df Model:                          44                                                  \n",
      "Covariance Type:            nonrobust                                                  \n",
      "=====================================================================================================================\n",
      "                                                        coef    std err          t      P>|t|      [0.025      0.975]\n",
      "---------------------------------------------------------------------------------------------------------------------\n",
      "CNT_CHILDREN                                          0.0533      0.003     15.828      0.000       0.047       0.060\n",
      "AMT_INCOME_TOTAL                                   5.804e-07   2.43e-08     23.871      0.000    5.33e-07    6.28e-07\n",
      "DAYS_BIRTH                                        -4.141e-05   6.14e-07    -67.442      0.000   -4.26e-05   -4.02e-05\n",
      "DAYS_EMPLOYED                                      1.043e-05   1.13e-06      9.216      0.000    8.21e-06    1.26e-05\n",
      "FLAG_WORK_PHONE                                      -0.0282      0.007     -4.315      0.000      -0.041      -0.015\n",
      "FLAG_PHONE                                           -0.0652      0.006    -10.356      0.000      -0.078      -0.053\n",
      "FLAG_EMAIL                                           -0.0085      0.009     -0.918      0.359      -0.027       0.010\n",
      "CODE_GENDER_M                                         0.0425      0.006      6.651      0.000       0.030       0.055\n",
      "FLAG_OWN_CAR_Y                                       -0.0700      0.006    -12.521      0.000      -0.081      -0.059\n",
      "FLAG_OWN_REALTY_Y                                    -0.0219      0.005     -4.288      0.000      -0.032      -0.012\n",
      "NAME_INCOME_TYPE_Pensioner                           -0.0684      0.139     -0.492      0.622      -0.340       0.204\n",
      "NAME_INCOME_TYPE_State servant                       -0.0832      0.011     -7.759      0.000      -0.104      -0.062\n",
      "NAME_INCOME_TYPE_Student                             -0.3945      0.155     -2.538      0.011      -0.699      -0.090\n",
      "NAME_INCOME_TYPE_Working                              0.0241      0.005      4.605      0.000       0.014       0.034\n",
      "NAME_EDUCATION_TYPE_Higher education                 -0.1001      0.009    -10.944      0.000      -0.118      -0.082\n",
      "NAME_EDUCATION_TYPE_Incomplete higher                 0.0101      0.016      0.634      0.526      -0.021       0.041\n",
      "NAME_EDUCATION_TYPE_Lower secondary                  -0.2055      0.037     -5.612      0.000      -0.277      -0.134\n",
      "NAME_EDUCATION_TYPE_Secondary / secondary special    -0.0190      0.008     -2.383      0.017      -0.035      -0.003\n",
      "NAME_FAMILY_STATUS_Married                           -0.0350      0.006     -5.475      0.000      -0.048      -0.022\n",
      "NAME_FAMILY_STATUS_Separated                         -0.2378      0.014    -17.100      0.000      -0.265      -0.211\n",
      "NAME_FAMILY_STATUS_Single / not married              -0.0011      0.010     -0.118      0.906      -0.020       0.018\n",
      "NAME_FAMILY_STATUS_Widow                             -0.2238      0.020    -11.146      0.000      -0.263      -0.184\n",
      "NAME_HOUSING_TYPE_House / apartment                   0.2156      0.009     24.157      0.000       0.198       0.233\n",
      "NAME_HOUSING_TYPE_Municipal apartment                 0.0712      0.019      3.747      0.000       0.034       0.108\n",
      "NAME_HOUSING_TYPE_Office apartment                    0.1116      0.033      3.356      0.001       0.046       0.177\n",
      "NAME_HOUSING_TYPE_Rented apartment                    0.1870      0.023      7.959      0.000       0.141       0.233\n",
      "NAME_HOUSING_TYPE_With parents                        0.2062      0.015     13.950      0.000       0.177       0.235\n",
      "OCCUPATION_TYPE_Cleaning staff                       -0.5855      0.020    -28.819      0.000      -0.625      -0.546\n",
      "OCCUPATION_TYPE_Cooking staff                        -0.4988      0.019    -26.749      0.000      -0.535      -0.462\n",
      "OCCUPATION_TYPE_Core staff                           -0.4631      0.010    -47.836      0.000      -0.482      -0.444\n",
      "OCCUPATION_TYPE_Drivers                              -0.5557      0.012    -45.613      0.000      -0.580      -0.532\n",
      "OCCUPATION_TYPE_HR staff                             -0.3952      0.050     -7.939      0.000      -0.493      -0.298\n",
      "OCCUPATION_TYPE_High skill tech staff                -0.5623      0.014    -40.835      0.000      -0.589      -0.535\n",
      "OCCUPATION_TYPE_IT staff                             -0.2499      0.055     -4.582      0.000      -0.357      -0.143\n",
      "OCCUPATION_TYPE_Laborers                             -0.4760      0.008    -57.153      0.000      -0.492      -0.460\n",
      "OCCUPATION_TYPE_Low-skill Laborers                   -0.4514      0.032    -14.059      0.000      -0.514      -0.388\n",
      "OCCUPATION_TYPE_Managers                             -0.5540      0.010    -53.619      0.000      -0.574      -0.534\n",
      "OCCUPATION_TYPE_Medicine staff                       -0.5372      0.015    -36.446      0.000      -0.566      -0.508\n",
      "OCCUPATION_TYPE_Private service staff                -0.5150      0.025    -20.542      0.000      -0.564      -0.466\n",
      "OCCUPATION_TYPE_Realty agents                        -0.6306      0.055    -11.424      0.000      -0.739      -0.522\n",
      "OCCUPATION_TYPE_Sales staff                          -0.4401      0.009    -46.612      0.000      -0.459      -0.422\n",
      "OCCUPATION_TYPE_Secretaries                          -0.4972      0.037    -13.316      0.000      -0.570      -0.424\n",
      "OCCUPATION_TYPE_Security staff                       -0.5728      0.019    -29.472      0.000      -0.611      -0.535\n",
      "OCCUPATION_TYPE_Waiters/barmen staff                 -0.6604      0.038    -17.516      0.000      -0.734      -0.587\n",
      "==============================================================================\n",
      "Omnibus:                     2608.249   Durbin-Watson:                   1.329\n",
      "Prob(Omnibus):                  0.000   Jarque-Bera (JB):             1454.699\n",
      "Skew:                           0.355   Prob(JB):                         0.00\n",
      "Kurtosis:                       2.289   Cond. No.                     1.45e+07\n",
      "==============================================================================\n",
      "\n",
      "Warnings:\n",
      "[1] Standard Errors assume that the covariance matrix of the errors is correctly specified.\n",
      "[2] The condition number is large, 1.45e+07. This might indicate that there are\n",
      "strong multicollinearity or other numerical problems.\n"
     ]
    }
   ],
   "source": [
    "# 普通最小二乘(OLS)\n",
    "model = sm.OLS(y_resampled, x_resampled) \n",
    "results = model.fit()\n",
    "print(results.summary())"
   ]
  },
  {
   "cell_type": "markdown",
   "metadata": {},
   "source": [
    "根据这个结果可以结合下课上的内容. The condition number is large, 1.45e+07. This might indicate that there are\n",
    "strong multicollinearity or other numerical problems.\n",
    "多重共线性很强，参考最下面这个 Cond. No. 很大"
   ]
  },
  {
   "cell_type": "code",
   "execution_count": 184,
   "metadata": {},
   "outputs": [],
   "source": [
    "## 随机森林模型"
   ]
  },
  {
   "cell_type": "code",
   "execution_count": 181,
   "metadata": {},
   "outputs": [
    {
     "name": "stdout",
     "output_type": "stream",
     "text": [
      "              precision    recall  f1-score   support\n",
      "\n",
      "           0       0.90      0.77      0.83      4312\n",
      "           1       0.25      0.45      0.32       715\n",
      "\n",
      "    accuracy                           0.73      5027\n",
      "   macro avg       0.57      0.61      0.57      5027\n",
      "weighted avg       0.80      0.73      0.76      5027\n",
      "\n"
     ]
    }
   ],
   "source": [
    "rfModel = RandomForestClassifier(class_weight = {0:1,1:10})\n",
    "rfModel = rfModel.fit(x_resampled, y_resampled)\n",
    "y_pred = rfModel.predict(x_test)\n",
    "print(metrics.classification_report(y_test, y_pred))"
   ]
  },
  {
   "cell_type": "code",
   "execution_count": 182,
   "metadata": {},
   "outputs": [],
   "source": [
    "def search_model(x_train, y_train, est, param_grid, n_jobs, cv):\n",
    "    model = GridSearchCV(estimator = est,\n",
    "                                     param_grid = param_grid,\n",
    "                                     scoring = 'f1_weighted',\n",
    "                                     # controls the verbosity: the higher, the more messages\n",
    "                                     verbose = 10,\n",
    "                                     # number of jobs to run in parallel.\n",
    "                                     n_jobs = n_jobs,\n",
    "                                     # return the average score across folds, weighted by the number of samples in each test set.\n",
    "                                     iid = True,\n",
    "                                     # cross-validation generator or an iterable\n",
    "                                     cv = cv)\n",
    "    # fit grid search model\n",
    "    model.fit(x_resampled, y_resampled)   \n",
    "    return model"
   ]
  },
  {
   "cell_type": "code",
   "execution_count": 186,
   "metadata": {},
   "outputs": [
    {
     "name": "stdout",
     "output_type": "stream",
     "text": [
      "Fitting 5 folds for each of 6 candidates, totalling 30 fits\n"
     ]
    },
    {
     "name": "stderr",
     "output_type": "stream",
     "text": [
      "[Parallel(n_jobs=-1)]: Using backend LokyBackend with 8 concurrent workers.\n",
      "[Parallel(n_jobs=-1)]: Done   2 tasks      | elapsed:    5.4s\n",
      "[Parallel(n_jobs=-1)]: Done   9 tasks      | elapsed:   23.9s\n",
      "[Parallel(n_jobs=-1)]: Done  19 out of  30 | elapsed:   49.5s remaining:   28.7s\n",
      "[Parallel(n_jobs=-1)]: Done  23 out of  30 | elapsed:   55.2s remaining:   16.8s\n",
      "[Parallel(n_jobs=-1)]: Done  27 out of  30 | elapsed:  1.2min remaining:    8.0s\n",
      "[Parallel(n_jobs=-1)]: Done  30 out of  30 | elapsed:  1.2min finished\n",
      "/Users/hkmac/anaconda3/lib/python3.7/site-packages/sklearn/model_selection/_search.py:849: FutureWarning: The parameter 'iid' is deprecated in 0.22 and will be removed in 0.24.\n",
      "  \"removed in 0.24.\", FutureWarning\n"
     ]
    }
   ],
   "source": [
    "from sklearn.model_selection import GridSearchCV\n",
    "param_grid = {'n_estimators':[100,300,500],\n",
    "             'criterion':['gini', 'entropy'],\n",
    "             'class_weight': [{0:1, 1:10}]}\n",
    "\n",
    "# a prameter grid was given for our model, and we will iterate over different combination of gini and entropy.\n",
    "# Find the optimal combination according to F1-score.\n",
    "rfModel = search_model(x_train.values, y_train.values, RandomForestClassifier(), param_grid, -1, 5)"
   ]
  },
  {
   "cell_type": "code",
   "execution_count": 187,
   "metadata": {},
   "outputs": [
    {
     "name": "stdout",
     "output_type": "stream",
     "text": [
      "Best score: 0.851\n",
      "Best parameters set: {'class_weight': {0: 1, 1: 10}, 'criterion': 'entropy', 'n_estimators': 100}\n"
     ]
    }
   ],
   "source": [
    "print(\"Best score: %0.3f\" % rfModel.best_score_)\n",
    "print(\"Best parameters set:\", rfModel.best_params_)"
   ]
  },
  {
   "cell_type": "code",
   "execution_count": 188,
   "metadata": {},
   "outputs": [],
   "source": [
    "# 经过grid search随机森林准确率可以到85%左右。"
   ]
  },
  {
   "cell_type": "code",
   "execution_count": null,
   "metadata": {},
   "outputs": [],
   "source": []
  }
 ],
 "metadata": {
  "kernelspec": {
   "display_name": "Python 3",
   "language": "python",
   "name": "python3"
  },
  "language_info": {
   "codemirror_mode": {
    "name": "ipython",
    "version": 3
   },
   "file_extension": ".py",
   "mimetype": "text/x-python",
   "name": "python",
   "nbconvert_exporter": "python",
   "pygments_lexer": "ipython3",
   "version": "3.7.4"
  },
  "toc": {
   "base_numbering": 1,
   "nav_menu": {},
   "number_sections": true,
   "sideBar": true,
   "skip_h1_title": false,
   "title_cell": "Table of Contents",
   "title_sidebar": "Contents",
   "toc_cell": false,
   "toc_position": {},
   "toc_section_display": true,
   "toc_window_display": false
  }
 },
 "nbformat": 4,
 "nbformat_minor": 2
}
