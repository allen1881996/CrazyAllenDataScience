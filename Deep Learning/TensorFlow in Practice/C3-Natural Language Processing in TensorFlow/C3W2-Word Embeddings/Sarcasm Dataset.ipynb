{
 "cells": [
  {
   "cell_type": "code",
   "execution_count": 1,
   "metadata": {
    "colab": {},
    "colab_type": "code",
    "id": "XYYDvoskkE61"
   },
   "outputs": [],
   "source": [
    "import json\n",
    "import tensorflow as tf\n",
    "\n",
    "from tensorflow.keras.preprocessing.text import Tokenizer\n",
    "from tensorflow.keras.preprocessing.sequence import pad_sequences"
   ]
  },
  {
   "cell_type": "code",
   "execution_count": 3,
   "metadata": {
    "colab": {},
    "colab_type": "code",
    "id": "0eJSTTYnkJQd"
   },
   "outputs": [],
   "source": [
    "# hyper parameters\n",
    "vocab_size = 2000\n",
    "embedding_dim = 12\n",
    "max_length = 20\n",
    "trunc_type='post'\n",
    "padding_type='post'\n",
    "oov_tok = \"<OOV>\"\n",
    "training_size = 20000\n",
    "# validate on the rest"
   ]
  },
  {
   "cell_type": "code",
   "execution_count": 5,
   "metadata": {
    "colab": {},
    "colab_type": "code",
    "id": "BQVuQrZNkPn9"
   },
   "outputs": [
    {
     "data": {
      "text/plain": [
       "'/tmp/sarcasm (1).json'"
      ]
     },
     "execution_count": 5,
     "metadata": {},
     "output_type": "execute_result"
    }
   ],
   "source": [
    "import wget\n",
    "# download our data\n",
    "wget.download(\"https://storage.googleapis.com/laurencemoroney-blog.appspot.com/sarcasm.json\", out=\"/tmp/sarcasm.json\")"
   ]
  },
  {
   "cell_type": "code",
   "execution_count": 6,
   "metadata": {
    "colab": {},
    "colab_type": "code",
    "id": "oaLaaqhNkUPd"
   },
   "outputs": [],
   "source": [
    "with open(\"/tmp/sarcasm.json\", 'r') as f:\n",
    "    datastore = json.load(f)\n",
    "\n",
    "sentences = []\n",
    "labels = []\n",
    "\n",
    "for item in datastore:\n",
    "    sentences.append(item['headline'])\n",
    "    labels.append(item['is_sarcastic'])"
   ]
  },
  {
   "cell_type": "code",
   "execution_count": 7,
   "metadata": {
    "colab": {},
    "colab_type": "code",
    "id": "S1sD-7v0kYWk",
    "scrolled": true
   },
   "outputs": [],
   "source": [
    "training_sentences = sentences[0:training_size]\n",
    "testing_sentences = sentences[training_size:]\n",
    "training_labels = labels[0:training_size]\n",
    "testing_labels = labels[training_size:]"
   ]
  },
  {
   "cell_type": "code",
   "execution_count": 8,
   "metadata": {
    "colab": {},
    "colab_type": "code",
    "id": "3u8UB0MCkZ5N"
   },
   "outputs": [],
   "source": [
    "tokenizer = Tokenizer(num_words=vocab_size, oov_token=oov_tok)\n",
    "tokenizer.fit_on_texts(training_sentences)\n",
    "\n",
    "word_index = tokenizer.word_index\n",
    "\n",
    "training_sequences = tokenizer.texts_to_sequences(training_sentences)\n",
    "training_padded = pad_sequences(training_sequences, maxlen=max_length, padding=padding_type, truncating=trunc_type)\n",
    "\n",
    "testing_sequences = tokenizer.texts_to_sequences(testing_sentences)\n",
    "testing_padded = pad_sequences(testing_sequences, maxlen=max_length, padding=padding_type, truncating=trunc_type)"
   ]
  },
  {
   "cell_type": "code",
   "execution_count": 9,
   "metadata": {
    "colab": {},
    "colab_type": "code",
    "id": "FufaT4vlkiDE"
   },
   "outputs": [],
   "source": [
    "model = tf.keras.Sequential([\n",
    "    tf.keras.layers.Embedding(vocab_size, embedding_dim, input_length=max_length),\n",
    "    tf.keras.layers.GlobalAveragePooling1D(),\n",
    "    tf.keras.layers.Dense(24, activation='relu'),\n",
    "    tf.keras.layers.Dense(1, activation='sigmoid')\n",
    "])\n",
    "model.compile(loss='binary_crossentropy',optimizer='adam',metrics=['accuracy'])"
   ]
  },
  {
   "cell_type": "code",
   "execution_count": 10,
   "metadata": {
    "colab": {},
    "colab_type": "code",
    "id": "XfDt1hmYkiys"
   },
   "outputs": [
    {
     "name": "stdout",
     "output_type": "stream",
     "text": [
      "Model: \"sequential\"\n",
      "_________________________________________________________________\n",
      "Layer (type)                 Output Shape              Param #   \n",
      "=================================================================\n",
      "embedding (Embedding)        (None, 20, 12)            24000     \n",
      "_________________________________________________________________\n",
      "global_average_pooling1d (Gl (None, 12)                0         \n",
      "_________________________________________________________________\n",
      "dense (Dense)                (None, 24)                312       \n",
      "_________________________________________________________________\n",
      "dense_1 (Dense)              (None, 1)                 25        \n",
      "=================================================================\n",
      "Total params: 24,337\n",
      "Trainable params: 24,337\n",
      "Non-trainable params: 0\n",
      "_________________________________________________________________\n"
     ]
    }
   ],
   "source": [
    "model.summary()"
   ]
  },
  {
   "cell_type": "code",
   "execution_count": 11,
   "metadata": {
    "colab": {},
    "colab_type": "code",
    "id": "2DTKQFf1kkyc"
   },
   "outputs": [
    {
     "name": "stdout",
     "output_type": "stream",
     "text": [
      "WARNING:tensorflow:From //anaconda3/lib/python3.7/site-packages/tensorflow/python/ops/math_grad.py:1250: add_dispatch_support.<locals>.wrapper (from tensorflow.python.ops.array_ops) is deprecated and will be removed in a future version.\n",
      "Instructions for updating:\n",
      "Use tf.where in 2.0, which has the same broadcast rule as np.where\n",
      "Train on 20000 samples, validate on 6709 samples\n",
      "Epoch 1/30\n",
      "20000/20000 - 1s - loss: 0.5425 - accuracy: 0.7225 - val_loss: 0.3989 - val_accuracy: 0.8250\n",
      "Epoch 2/30\n",
      "20000/20000 - 1s - loss: 0.3513 - accuracy: 0.8468 - val_loss: 0.3709 - val_accuracy: 0.8272\n",
      "Epoch 3/30\n",
      "20000/20000 - 1s - loss: 0.3190 - accuracy: 0.8609 - val_loss: 0.3732 - val_accuracy: 0.8258\n",
      "Epoch 4/30\n",
      "20000/20000 - 1s - loss: 0.3060 - accuracy: 0.8662 - val_loss: 0.3764 - val_accuracy: 0.8301\n",
      "Epoch 5/30\n",
      "20000/20000 - 1s - loss: 0.2990 - accuracy: 0.8701 - val_loss: 0.3855 - val_accuracy: 0.8286\n",
      "Epoch 6/30\n",
      "20000/20000 - 1s - loss: 0.2946 - accuracy: 0.8707 - val_loss: 0.3858 - val_accuracy: 0.8286\n",
      "Epoch 7/30\n",
      "20000/20000 - 1s - loss: 0.2915 - accuracy: 0.8720 - val_loss: 0.3950 - val_accuracy: 0.8223\n",
      "Epoch 8/30\n",
      "20000/20000 - 1s - loss: 0.2897 - accuracy: 0.8741 - val_loss: 0.3944 - val_accuracy: 0.8283\n",
      "Epoch 9/30\n",
      "20000/20000 - 1s - loss: 0.2876 - accuracy: 0.8755 - val_loss: 0.4189 - val_accuracy: 0.8153\n",
      "Epoch 10/30\n",
      "20000/20000 - 1s - loss: 0.2861 - accuracy: 0.8758 - val_loss: 0.3983 - val_accuracy: 0.8287\n",
      "Epoch 11/30\n",
      "20000/20000 - 1s - loss: 0.2857 - accuracy: 0.8766 - val_loss: 0.3991 - val_accuracy: 0.8259\n",
      "Epoch 12/30\n",
      "20000/20000 - 1s - loss: 0.2832 - accuracy: 0.8763 - val_loss: 0.4056 - val_accuracy: 0.8275\n",
      "Epoch 13/30\n",
      "20000/20000 - 1s - loss: 0.2826 - accuracy: 0.8759 - val_loss: 0.4029 - val_accuracy: 0.8259\n",
      "Epoch 14/30\n",
      "20000/20000 - 1s - loss: 0.2795 - accuracy: 0.8799 - val_loss: 0.3996 - val_accuracy: 0.8265\n",
      "Epoch 15/30\n",
      "20000/20000 - 1s - loss: 0.2778 - accuracy: 0.8792 - val_loss: 0.3994 - val_accuracy: 0.8278\n",
      "Epoch 16/30\n",
      "20000/20000 - 1s - loss: 0.2750 - accuracy: 0.8813 - val_loss: 0.3957 - val_accuracy: 0.8292\n",
      "Epoch 17/30\n",
      "20000/20000 - 1s - loss: 0.2729 - accuracy: 0.8831 - val_loss: 0.3962 - val_accuracy: 0.8301\n",
      "Epoch 18/30\n",
      "20000/20000 - 1s - loss: 0.2703 - accuracy: 0.8839 - val_loss: 0.4023 - val_accuracy: 0.8280\n",
      "Epoch 19/30\n",
      "20000/20000 - 1s - loss: 0.2666 - accuracy: 0.8831 - val_loss: 0.4016 - val_accuracy: 0.8269\n",
      "Epoch 20/30\n",
      "20000/20000 - 1s - loss: 0.2642 - accuracy: 0.8862 - val_loss: 0.3980 - val_accuracy: 0.8311\n",
      "Epoch 21/30\n",
      "20000/20000 - 1s - loss: 0.2609 - accuracy: 0.8892 - val_loss: 0.3979 - val_accuracy: 0.8329\n",
      "Epoch 22/30\n",
      "20000/20000 - 1s - loss: 0.2579 - accuracy: 0.8899 - val_loss: 0.4124 - val_accuracy: 0.8243\n",
      "Epoch 23/30\n",
      "20000/20000 - 1s - loss: 0.2542 - accuracy: 0.8923 - val_loss: 0.4074 - val_accuracy: 0.8296\n",
      "Epoch 24/30\n",
      "20000/20000 - 1s - loss: 0.2512 - accuracy: 0.8936 - val_loss: 0.4021 - val_accuracy: 0.8332\n",
      "Epoch 25/30\n",
      "20000/20000 - 1s - loss: 0.2481 - accuracy: 0.8963 - val_loss: 0.4062 - val_accuracy: 0.8305\n",
      "Epoch 26/30\n",
      "20000/20000 - 1s - loss: 0.2440 - accuracy: 0.8980 - val_loss: 0.4144 - val_accuracy: 0.8265\n",
      "Epoch 27/30\n",
      "20000/20000 - 1s - loss: 0.2422 - accuracy: 0.8997 - val_loss: 0.4108 - val_accuracy: 0.8307\n",
      "Epoch 28/30\n",
      "20000/20000 - 1s - loss: 0.2382 - accuracy: 0.9012 - val_loss: 0.4121 - val_accuracy: 0.8311\n",
      "Epoch 29/30\n",
      "20000/20000 - 1s - loss: 0.2347 - accuracy: 0.9025 - val_loss: 0.4198 - val_accuracy: 0.8313\n",
      "Epoch 30/30\n",
      "20000/20000 - 1s - loss: 0.2328 - accuracy: 0.9043 - val_loss: 0.4210 - val_accuracy: 0.8314\n"
     ]
    }
   ],
   "source": [
    "num_epochs = \n",
    "history = model.fit(training_padded, training_labels, epochs=num_epochs, validation_data=(testing_padded, testing_labels), verbose=2)"
   ]
  },
  {
   "cell_type": "code",
   "execution_count": 41,
   "metadata": {
    "scrolled": false
   },
   "outputs": [
    {
     "data": {
      "text/plain": [
       "<tensorflow.python.keras.callbacks.History at 0x63565dc88>"
      ]
     },
     "execution_count": 41,
     "metadata": {},
     "output_type": "execute_result"
    }
   ],
   "source": [
    "history"
   ]
  },
  {
   "cell_type": "code",
   "execution_count": 13,
   "metadata": {
    "colab": {},
    "colab_type": "code",
    "id": "2HYfBKXjkmU8"
   },
   "outputs": [
    {
     "data": {
      "image/png": "[encoded data removed]",
      "text/plain": [
       "<Figure size 432x288 with 1 Axes>"
      ]
     },
     "metadata": {
      "needs_background": "light"
     },
     "output_type": "display_data"
    },
    {
     "data": {
      "image/png": "[encoded data removed]",
      "text/plain": [
       "<Figure size 432x288 with 1 Axes>"
      ]
     },
     "metadata": {
      "needs_background": "light"
     },
     "output_type": "display_data"
    }
   ],
   "source": [
    "import matplotlib.pyplot as plt\n",
    "\n",
    "\n",
    "def plot_graphs(history, string):\n",
    "    plt.plot(history.history[string])\n",
    "    plt.plot(history.history['val_'+string])\n",
    "    plt.xlabel(\"Epochs\")\n",
    "    plt.ylabel(string)\n",
    "    plt.legend([string, 'val_'+string])\n",
    "    plt.show()\n",
    "\n",
    "plot_graphs(history, \"accuracy\")\n",
    "plot_graphs(history, \"loss\")"
   ]
  },
  {
   "cell_type": "code",
   "execution_count": 0,
   "metadata": {
    "colab": {},
    "colab_type": "code",
    "id": "7SBdAZAenvzL"
   },
   "outputs": [],
   "source": [
    "reverse_word_index = dict([(value, key) for (key, value) in word_index.items()])\n",
    "\n",
    "def decode_sentence(text):\n",
    "    return ' '.join([reverse_word_index.get(i, '?') for i in text])\n",
    "\n",
    "print(decode_sentence(training_padded[0]))\n",
    "print(training_sentences[2])\n",
    "print(labels[2])"
   ]
  },
  {
   "cell_type": "code",
   "execution_count": 0,
   "metadata": {
    "colab": {},
    "colab_type": "code",
    "id": "c9MqihtEkzQ9"
   },
   "outputs": [],
   "source": [
    "e = model.layers[0]\n",
    "weights = e.get_weights()[0]\n",
    "print(weights.shape) # shape: (vocab_size, embedding_dim)\n"
   ]
  },
  {
   "cell_type": "code",
   "execution_count": 0,
   "metadata": {
    "colab": {},
    "colab_type": "code",
    "id": "LoBXVffknldU"
   },
   "outputs": [],
   "source": [
    "import io\n",
    "\n",
    "out_v = io.open('vecs.tsv', 'w', encoding='utf-8')\n",
    "out_m = io.open('meta.tsv', 'w', encoding='utf-8')\n",
    "for word_num in range(1, vocab_size):\n",
    "  word = reverse_word_index[word_num]\n",
    "  embeddings = weights[word_num]\n",
    "  out_m.write(word + \"\\n\")\n",
    "  out_v.write('\\t'.join([str(x) for x in embeddings]) + \"\\n\")\n",
    "out_v.close()\n",
    "out_m.close()"
   ]
  },
  {
   "cell_type": "code",
   "execution_count": 0,
   "metadata": {
    "colab": {},
    "colab_type": "code",
    "id": "U4eZ5HtVnnEE"
   },
   "outputs": [],
   "source": [
    "try:\n",
    "  from google.colab import files\n",
    "except ImportError:\n",
    "  pass\n",
    "else:\n",
    "  files.download('vecs.tsv')\n",
    "  files.download('meta.tsv')"
   ]
  },
  {
   "cell_type": "code",
   "execution_count": 13,
   "metadata": {
    "colab": {},
    "colab_type": "code",
    "id": "cG8-ArY-qDcz"
   },
   "outputs": [
    {
     "name": "stdout",
     "output_type": "stream",
     "text": [
      "[[0.7367925 ]\n",
      " [0.04853459]]\n"
     ]
    }
   ],
   "source": [
    "sentence = [\"granny starting to fear spiders in the garden might be real\", \"game of thrones season finale showing this sunday night\"]\n",
    "sequences = tokenizer.texts_to_sequences(sentence)\n",
    "padded = pad_sequences(sequences, maxlen=max_length, padding=padding_type, truncating=trunc_type)\n",
    "print(model.predict(padded))"
   ]
  },
  {
   "cell_type": "code",
   "execution_count": null,
   "metadata": {},
   "outputs": [],
   "source": []
  }
 ],
 "metadata": {
  "accelerator": "GPU",
  "colab": {
   "collapsed_sections": [],
   "name": "Course 3 - Week 2 - Lesson 2.ipynb",
   "provenance": [],
   "version": "0.3.2"
  },
  "kernelspec": {
   "display_name": "Python 3",
   "language": "python",
   "name": "python3"
  },
  "language_info": {
   "codemirror_mode": {
    "name": "ipython",
    "version": 3
   },
   "file_extension": ".py",
   "mimetype": "text/x-python",
   "name": "python",
   "nbconvert_exporter": "python",
   "pygments_lexer": "ipython3",
   "version": "3.7.3"
  }
 },
 "nbformat": 4,
 "nbformat_minor": 1
}
