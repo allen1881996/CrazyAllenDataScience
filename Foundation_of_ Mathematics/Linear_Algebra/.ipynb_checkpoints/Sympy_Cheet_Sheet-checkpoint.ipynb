{
 "cells": [
  {
   "cell_type": "markdown",
   "metadata": {},
   "source": [
    "### Import"
   ]
  },
  {
   "cell_type": "markdown",
   "metadata": {},
   "source": [
    "```Python\n",
    "from sympy import init_printing\n",
    "# initializing LaTex printing\n",
    "init_printing()\n",
    "```"
   ]
  },
  {
   "cell_type": "markdown",
   "metadata": {},
   "source": [
    "### Creating (one or more than one) symbol\n",
    "```Python\n",
    "from sympy import symbols\n",
    "x, y = symbols('x y') \n",
    "z = symbols('z')\n",
    "# also we can specify the type of values that a mathematical symbol can hold\n",
    "x, y = symbols('x y', positive = True)\n",
    "a, b = symbols('a b', real = True)\n",
    "#  this function recognizes special characters such as alpha\n",
    "```"
   ]
  },
  {
   "cell_type": "markdown",
   "metadata": {},
   "source": [
    "### Math"
   ]
  },
  {
   "cell_type": "markdown",
   "metadata": {},
   "source": [
    "```Python\n",
    "from sympy import Rational, sqrt, log, exp, sin, pi, I\n",
    "# Rational: calculates an exact solution for fraction\n",
    "# evalf() method still allows us to get a numerical approximation\n",
    "(Rational(5, 3)).evalf(3) \n",
    "\n",
    "# square root\n",
    "sqrt(8)\n",
    "\n",
    "# euler number\n",
    "exp(1).evalf(40)\n",
    "\n",
    "# others\n",
    "sin(pi / 6)\n",
    "log(exp(1))\n",
    "\n",
    "# substitutions\n",
    "<expression>.subs(x, 3)\n",
    "<expression>.subs([(x, 2), (y, 5)])\n",
    "<expression>.evalf(subs = {x:2, y:5})\n",
    "\n",
    "# lambdify()\n",
    "from numpy import arange\n",
    "from sympy import lambdify\n",
    "my_domain = arange(-3, 4, 1)\n",
    "f = lambdify(x, <expression>, 'numpy')\n",
    "f(my_domain)\n",
    "```"
   ]
  },
  {
   "cell_type": "markdown",
   "metadata": {},
   "source": [
    "### Equation"
   ]
  },
  {
   "cell_type": "markdown",
   "metadata": {},
   "source": [
    "```Python\n",
    "\n",
    "# Simplify a expression (简化方程)\n",
    "from sympy import simplify\n",
    "simplify(<expression>)\n",
    "\n",
    "# Factoring (因式分解，提取公因子)\n",
    "(<expression>).factor() \n",
    "# 反之\n",
    "(<expression>).expand() \n",
    "# or\n",
    "from sympy import factor, expand\n",
    "factor(<expression>)\n",
    "expand(<expression>) \n",
    "\n",
    "# Collect: the results is an expression with descending powers of  𝑥\n",
    "from sympy import collect\n",
    "collect(<expression>, x) \n",
    "# for example\n",
    "collect(x * y - 2 + 2 * x**2 - z * x**2 + x**3, x)\n",
    "# we get \n",
    "x**3+𝑥**2*(−z+2)+x*y−2\n",
    "\n",
    "# Cancel: puts a rational function in canonical form\n",
    "from sympy import cancel\n",
    "cancel(<expression 1> / <expression 2>)\n",
    "# the difference from\n",
    "(<expression 1> / <expression 2>).factor\n",
    "# is the later one also factoring the polynomials\n",
    "\n",
    "# Apart: It calculates partial fraction decomposition (部分分式分解)\n",
    "from sympy import apart\n",
    "apart(<expression>)\n",
    "```"
   ]
  },
  {
   "cell_type": "markdown",
   "metadata": {},
   "source": [
    "### Trigonometric"
   ]
  },
  {
   "cell_type": "markdown",
   "metadata": {},
   "source": [
    "```Python\n",
    "# Trigonometric simplification\n",
    "from sympy import trigsimp, sin, cos\n",
    "theta = symbols('theta')\n",
    "trigsimp((sin(theta))**2 + (cos(theta))**2) \n",
    "\n",
    "# Trigonometric expansion\n",
    "phi = symbols('phi')\n",
    "from sympy import expand_trig\n",
    "expand_trig(sin(theta + phi))\n",
    "```"
   ]
  },
  {
   "cell_type": "markdown",
   "metadata": {},
   "source": [
    "### Powers"
   ]
  },
  {
   "cell_type": "markdown",
   "metadata": {},
   "source": [
    "$$\\begin{align}&x^a x^b = x^{a+b}, \\forall a, b, x \\in \\mathbb{C} \\\\\n",
    "&x^a y^a = \\left( xy \\right)^a, \\forall x, y > 0, \\forall a \\in \\mathbb{R} \\\\\n",
    "&\\left( x^a \\right)^b = x^{ab}, \\forall b \\in \\mathbb{Z} \\end{align} $$"
   ]
  },
  {
   "cell_type": "markdown",
   "metadata": {},
   "source": [
    "```Python\n",
    "# powsimp: simplify a power expression\n",
    "from sympy import powsimp\n",
    "powsimp(<expression>) \n",
    "# irrespective of having defined the type of mathematical variable\n",
    "powsimp(<expression>, force = True)\n",
    "\n",
    "# expand_power_exp: expand a power expression\n",
    "from sympy import expand_power_exp, expand_power_base\n",
    "expand_power_exp(<expression>, force = True)\n",
    "expand_power_base(<expression>)\n",
    "```"
   ]
  },
  {
   "cell_type": "code",
   "execution_count": null,
   "metadata": {},
   "outputs": [],
   "source": [
    "```Python\n",
    "\n",
    "\n",
    "```"
   ]
  },
  {
   "cell_type": "markdown",
   "metadata": {},
   "source": [
    "### Logarithms"
   ]
  },
  {
   "cell_type": "markdown",
   "metadata": {},
   "source": [
    "$$\\begin{align} &\\log{ x y } = \\log{x} + \\log{y} \\\\ &\\log{x^n} = n \\log{x}, \\forall x, y \\in \\mathbb{R}, > 0 \\end{align}$$"
   ]
  },
  {
   "cell_type": "markdown",
   "metadata": {},
   "source": [
    "$$\\begin{align} \\log{\\frac{x}{y}} &= \\log{x \\frac{1}{y}} \\\\ &= \\log{x y^{-1}} \\\\ &= \\log{x} + \\log{y^{-1}} \\\\ &= \\log{x} - \\log{y} \\end{align}$$"
   ]
  },
  {
   "cell_type": "markdown",
   "metadata": {},
   "source": [
    "```Python\n",
    "# expand_log() will expand expression\n",
    "from sympy import expand_log, log\n",
    "expand_log(<expression>)\n",
    "# logcombine() function will simplify our expression\n",
    "from sympy import logcombine\n",
    "logcombine(<expression>)\n",
    "```"
   ]
  },
  {
   "cell_type": "markdown",
   "metadata": {},
   "source": [
    "### Binomial"
   ]
  },
  {
   "cell_type": "markdown",
   "metadata": {},
   "source": [
    "```Python \n",
    "from sympy import binomial\n",
    "n, k = symbols('n k', positive = True, integer = True)\n",
    "binomial(n, k)\n",
    "# substitute values using the .evalf() method\n",
    "binomial(n, k).evalf(subs = {n:4, k:2})\n",
    "```"
   ]
  },
  {
   "cell_type": "markdown",
   "metadata": {},
   "source": [
    "### Matirx"
   ]
  },
  {
   "cell_type": "markdown",
   "metadata": {},
   "source": [
    "```Python\n",
    "# create a matrix\n",
    "from sympy import Matrix\n",
    "matrix_1 = Matrix([[1, 2, 3],\n",
    "                  [4, 5, 6],\n",
    "                  [7, 8, 9],\n",
    "                  [10, 11, 12]])\n",
    "\n",
    "# calculates the number of rows and columns of a matrix\n",
    "matrix_1.shape\n",
    "\n",
    "# accessing values in rows and columns (index begin from 0)\n",
    "matrix_1.row(0)\n",
    "matrix_1.col(0)\n",
    "matrix_1.row(-1)\n",
    "\n",
    "# deleting and inserting rows using .row_insert(), .col_insert(), .row_del(), and .col_del()\n",
    "matrix_2 = matrix_1.row_insert(<index>, Matrix([[10, 20, 30]]))\n",
    "matrix_3 = matrix_1.row_del(1)\n",
    "\n",
    "# useful matrix constructors\n",
    "from sympy import zeros, eye\n",
    "# a 5x5 matrix of all zeros\n",
    "zeros(5)  \n",
    "# a 4x4 identity matrix\n",
    "eye(4)\n",
    "\n",
    "# creates a diagonal matrix\n",
    "from sympy import diag\n",
    "diag(1, 2, 3, 4, 5)\n",
    "```"
   ]
  }
 ],
 "metadata": {
  "kernelspec": {
   "display_name": "Python 3",
   "language": "python",
   "name": "python3"
  },
  "language_info": {
   "codemirror_mode": {
    "name": "ipython",
    "version": 3
   },
   "file_extension": ".py",
   "mimetype": "text/x-python",
   "name": "python",
   "nbconvert_exporter": "python",
   "pygments_lexer": "ipython3",
   "version": "3.7.3"
  },
  "toc": {
   "base_numbering": 1,
   "nav_menu": {},
   "number_sections": true,
   "sideBar": true,
   "skip_h1_title": false,
   "title_cell": "Table of Contents",
   "title_sidebar": "Contents",
   "toc_cell": false,
   "toc_position": {},
   "toc_section_display": true,
   "toc_window_display": false
  }
 },
 "nbformat": 4,
 "nbformat_minor": 2
}
