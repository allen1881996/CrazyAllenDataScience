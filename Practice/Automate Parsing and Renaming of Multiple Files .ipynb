{
 "cells": [
  {
   "cell_type": "markdown",
   "metadata": {},
   "source": [
    "首先，我想要随机生成100个files，并随机生成按照固定格式的filename"
   ]
  },
  {
   "cell_type": "code",
   "execution_count": 23,
   "metadata": {},
   "outputs": [],
   "source": [
    "import os\n",
    "os.chdir('/Users/hkmac/Desktop/Carzy_Allen_Github/Data_and_Testfile/random_files')"
   ]
  },
  {
   "cell_type": "code",
   "execution_count": 24,
   "metadata": {},
   "outputs": [
    {
     "data": {
      "text/plain": [
       "'/Users/hkmac/Desktop/Carzy_Allen_Github/Data_and_Testfile/random_files'"
      ]
     },
     "execution_count": 24,
     "metadata": {},
     "output_type": "execute_result"
    }
   ],
   "source": [
    "os.getcwd()"
   ]
  },
  {
   "cell_type": "code",
   "execution_count": 25,
   "metadata": {},
   "outputs": [],
   "source": [
    "import random"
   ]
  },
  {
   "cell_type": "code",
   "execution_count": 125,
   "metadata": {
    "scrolled": true
   },
   "outputs": [
    {
     "name": "stdout",
     "output_type": "stream",
     "text": [
      "[0, 1, 2, 3, 4, 5, 6, 7, 8, 9, 10, 11, 12, 13, 14, 15, 16, 17, 18, 19, 20, 21, 22, 23, 24, 25, 26, 27, 28, 29, 30, 31, 32, 33, 34, 35, 36, 37, 38, 39, 40, 41, 42, 43, 44, 45, 46, 47, 48, 49, 50, 51, 52, 53, 54, 55, 56, 57, 58, 59, 60, 61, 62, 63, 64, 65, 66, 67, 68, 69, 70, 71, 72, 73, 74, 75, 76, 77, 78, 79, 80, 81, 82, 83, 84, 85, 86, 87, 88, 89, 90, 91, 92, 93, 94, 95, 96, 97, 98, 99]\n"
     ]
    }
   ],
   "source": [
    "number_list = []\n",
    "for i in range(0,100):\n",
    "    number_list.append(i)\n",
    "print(number_list)    "
   ]
  },
  {
   "cell_type": "code",
   "execution_count": 126,
   "metadata": {},
   "outputs": [],
   "source": [
    "name_str = 'abcdefghijklmnopqrstuvwxyz'"
   ]
  },
  {
   "cell_type": "code",
   "execution_count": 127,
   "metadata": {},
   "outputs": [],
   "source": [
    "for i in range(0,100):\n",
    "    file_number = random.sample(number_list, k = 1)\n",
    "    popnumber = file_number.pop()\n",
    "    file_number = popnumber\n",
    "    number_list.remove(popnumber)\n",
    "    name = random.choices(name_str, k=4)\n",
    "    file_name = name[0] + name[1] + name[2] + name[3]   \n",
    "    filename = f'Randomfile_{file_name.title()}_{file_number}'\n",
    "    with open(f'{filename}.txt', \"w\") as wf:\n",
    "        wf.write(f'原来的filename是：{filename}')"
   ]
  },
  {
   "cell_type": "code",
   "execution_count": 128,
   "metadata": {
    "scrolled": true
   },
   "outputs": [
    {
     "name": "stdout",
     "output_type": "stream",
     "text": [
      "Randomfile_Nuus_24.txt\n",
      "Randomfile_Vbbc_99.txt\n",
      "Randomfile_Obhm_7.txt\n",
      "Randomfile_Arct_68.txt\n",
      "Randomfile_Tipu_62.txt\n",
      "Randomfile_Vxsw_4.txt\n",
      "Randomfile_Fazz_64.txt\n",
      "Randomfile_Uehj_98.txt\n",
      "Randomfile_Jhum_54.txt\n",
      "Randomfile_Dyzg_75.txt\n",
      "Randomfile_Nxtl_59.txt\n",
      "Randomfile_Zqsm_57.txt\n",
      "Randomfile_Dfbm_32.txt\n",
      "Randomfile_Kevo_5.txt\n",
      "Randomfile_Nytg_83.txt\n",
      ".DS_Store\n",
      "Randomfile_Ikyl_79.txt\n",
      "Randomfile_Isnv_51.txt\n",
      "Randomfile_Lnnj_50.txt\n",
      "Randomfile_Gpwo_91.txt\n",
      "Randomfile_Sivt_38.txt\n",
      "Randomfile_Goat_72.txt\n",
      "Randomfile_Kwvg_34.txt\n",
      "Randomfile_Xtqp_58.txt\n",
      "Randomfile_Ftqw_27.txt\n",
      "Randomfile_Gyzv_3.txt\n",
      "Randomfile_Xyvv_93.txt\n",
      "Randomfile_Jffq_21.txt\n",
      "Randomfile_Olhq_85.txt\n",
      "Randomfile_Diih_30.txt\n",
      "Randomfile_Zubx_48.txt\n",
      "Randomfile_Pzrs_22.txt\n",
      "Randomfile_Yzxw_76.txt\n",
      "Randomfile_Xavl_20.txt\n",
      "Randomfile_Rsoa_2.txt\n",
      "Randomfile_Yiti_87.txt\n",
      "Randomfile_Ldcg_94.txt\n",
      "Randomfile_Sfgw_9.txt\n",
      "Randomfile_Bdvi_71.txt\n",
      "Randomfile_Lpmr_52.txt\n",
      "Randomfile_Kzui_84.txt\n",
      "Randomfile_Ccvg_67.txt\n",
      "Randomfile_Ubzz_92.txt\n",
      "Randomfile_Xryj_89.txt\n",
      "Randomfile_Rpii_36.txt\n",
      "Randomfile_Qatw_96.txt\n",
      "Randomfile_Vvau_60.txt\n",
      "Randomfile_Guri_69.txt\n",
      "Randomfile_Pnkm_73.txt\n",
      "Randomfile_Acrd_1.txt\n",
      "Randomfile_Pzsa_81.txt\n",
      "Randomfile_Hoip_18.txt\n",
      "Randomfile_Huwb_10.txt\n",
      "Randomfile_Qnhp_97.txt\n",
      "Randomfile_Mapj_31.txt\n",
      "Randomfile_Cndb_46.txt\n",
      "Randomfile_Jbfs_26.txt\n",
      "Randomfile_Vpzp_78.txt\n",
      "Randomfile_Okwv_80.txt\n",
      "Randomfile_Jslx_43.txt\n",
      "Randomfile_Xuou_8.txt\n",
      "Randomfile_Yiil_47.txt\n",
      "Randomfile_Ocvu_53.txt\n",
      "Randomfile_Qrre_23.txt\n",
      "Randomfile_Jfox_19.txt\n",
      "Randomfile_Femg_90.txt\n",
      "Randomfile_Hjjq_29.txt\n",
      "Randomfile_Aqnn_74.txt\n",
      "Randomfile_Kabi_35.txt\n",
      "Randomfile_Aqrt_77.txt\n",
      "Randomfile_Ixsb_17.txt\n",
      "Randomfile_Rqxe_0.txt\n",
      "Randomfile_Fwbc_16.txt\n",
      "Randomfile_Nlxu_42.txt\n",
      "Randomfile_Iavc_39.txt\n",
      "Randomfile_Tydt_45.txt\n",
      "Randomfile_Jduv_33.txt\n",
      "Randomfile_Liag_66.txt\n",
      "Randomfile_Ncur_11.txt\n",
      "Randomfile_Mdug_15.txt\n",
      "Randomfile_Ehaw_37.txt\n",
      "Randomfile_Xlyp_6.txt\n",
      "Randomfile_Gbed_63.txt\n",
      "Randomfile_Myee_88.txt\n",
      "Randomfile_Jsfx_82.txt\n",
      "Randomfile_Dktx_41.txt\n",
      "Randomfile_Rdeb_65.txt\n",
      "Randomfile_Ymtf_61.txt\n",
      "Randomfile_Vvzd_55.txt\n",
      "Randomfile_Wabw_70.txt\n",
      "Randomfile_Qous_95.txt\n",
      "Randomfile_Ommi_25.txt\n",
      "Randomfile_Zgre_44.txt\n",
      "Randomfile_Vidx_40.txt\n",
      "Randomfile_Gews_13.txt\n",
      "Randomfile_Xvmv_49.txt\n",
      "Randomfile_Oxgh_28.txt\n",
      "Randomfile_Elfx_14.txt\n",
      "Randomfile_Uqfk_86.txt\n",
      "Randomfile_Lyxk_12.txt\n",
      "Randomfile_Rpkf_56.txt\n"
     ]
    }
   ],
   "source": [
    "# print all of the files\n",
    "for f in os.listdir():\n",
    "    print(f)"
   ]
  },
  {
   "cell_type": "code",
   "execution_count": 130,
   "metadata": {
    "scrolled": true
   },
   "outputs": [
    {
     "name": "stdout",
     "output_type": "stream",
     "text": [
      "['77', 'Aqrt']\n",
      "['09', 'Sfgw']\n",
      "['39', 'Iavc']\n",
      "['65', 'Rdeb']\n",
      "['14', 'Elfx']\n",
      "['12', 'Lyxk']\n",
      "['10', 'Huwb']\n",
      "['15', 'Mdug']\n",
      "['80', 'Okwv']\n",
      "['95', 'Qous']\n",
      "['33', 'Jduv']\n",
      "['23', 'Qrre']\n",
      "['56', 'Rpkf']\n",
      "['61', 'Ymtf']\n",
      "['32', 'Dfbm']\n",
      "['36', 'Rpii']\n",
      "['51', 'Isnv']\n",
      "['89', 'Xryj']\n",
      "['11', 'Ncur']\n",
      "['75', 'Dyzg']\n",
      "['46', 'Cndb']\n",
      "['69', 'Guri']\n",
      "['50', 'Lnnj']\n",
      "['83', 'Nytg']\n",
      "['40', 'Vidx']\n",
      "['55', 'Vvzd']\n",
      "['67', 'Ccvg']\n",
      "['43', 'Jslx']\n",
      "['84', 'Kzui']\n",
      "['31', 'Mapj']\n",
      "['05', 'Kevo']\n",
      "['68', 'Arct']\n",
      "['87', 'Yiti']\n",
      "['28', 'Oxgh']\n",
      "['97', 'Qnhp']\n",
      "['82', 'Jsfx']\n",
      "['44', 'Zgre']\n",
      "['53', 'Ocvu']\n",
      "['22', 'Pzrs']\n",
      "['70', 'Wabw']\n",
      "['86', 'Uqfk']\n",
      "['54', 'Jhum']\n",
      "['16', 'Fwbc']\n",
      "['71', 'Bdvi']\n",
      "['79', 'Ikyl']\n",
      "['58', 'Xtqp']\n",
      "['88', 'Myee']\n",
      "['30', 'Diih']\n",
      "['96', 'Qatw']\n",
      "['25', 'Ommi']\n",
      "['98', 'Uehj']\n",
      "['08', 'Xuou']\n",
      "['62', 'Tipu']\n",
      "['78', 'Vpzp']\n",
      "['24', 'Nuus']\n",
      "['13', 'Gews']\n",
      "['07', 'Obhm']\n",
      "['18', 'Hoip']\n",
      "['06', 'Xlyp']\n",
      "['37', 'Ehaw']\n",
      "['81', 'Pzsa']\n",
      "['27', 'Ftqw']\n",
      "['41', 'Dktx']\n",
      "['92', 'Ubzz']\n",
      "['60', 'Vvau']\n",
      "['19', 'Jfox']\n",
      "['00', 'Rqxe']\n",
      "['90', 'Femg']\n",
      "['47', 'Yiil']\n",
      "['72', 'Goat']\n",
      "['49', 'Xvmv']\n",
      "['35', 'Kabi']\n",
      "['21', 'Jffq']\n",
      "['94', 'Ldcg']\n",
      "['01', 'Acrd']\n",
      "['03', 'Gyzv']\n",
      "['34', 'Kwvg']\n",
      "['48', 'Zubx']\n",
      "['29', 'Hjjq']\n",
      "['59', 'Nxtl']\n",
      "['04', 'Vxsw']\n",
      "['64', 'Fazz']\n",
      "['42', 'Nlxu']\n",
      "['93', 'Xyvv']\n",
      "['76', 'Yzxw']\n",
      "['45', 'Tydt']\n",
      "['99', 'Vbbc']\n",
      "['85', 'Olhq']\n",
      "['17', 'Ixsb']\n",
      "['38', 'Sivt']\n",
      "['91', 'Gpwo']\n",
      "['20', 'Xavl']\n",
      "['63', 'Gbed']\n",
      "['73', 'Pnkm']\n",
      "['26', 'Jbfs']\n",
      "['57', 'Zqsm']\n",
      "['52', 'Lpmr']\n",
      "['74', 'Aqnn']\n",
      "['66', 'Liag']\n",
      "['02', 'Rsoa']\n"
     ]
    }
   ],
   "source": [
    "# split the extension and filename\n",
    "for f in os.listdir():\n",
    "    if f == '.DS_Store':\n",
    "        continue\n",
    "    random_name, file_ext = os.path.splitext(f)\n",
    "    print(random_name.split('_'))"
   ]
  },
  {
   "cell_type": "code",
   "execution_count": 123,
   "metadata": {
    "collapsed": true
   },
   "outputs": [
    {
     "name": "stdout",
     "output_type": "stream",
     "text": [
      "12_Vbxr.txt\n",
      "14_Hwzz.txt\n",
      "11_Akjg.txt\n",
      "13_Uzcp.txt\n",
      "18_Slcx.txt\n",
      "07_Bwfj.txt\n",
      "05_Onwm.txt\n",
      "02_Xebl.txt\n",
      "06_Cpyl.txt\n",
      "17_Odyn.txt\n",
      "03_Vaea.txt\n",
      "10_Pajv.txt\n",
      "04_Cknu.txt\n",
      "09_Jxji.txt\n",
      "08_Iclu.txt\n",
      "15_Fjea.txt\n",
      "00_Eieq.txt\n",
      "01_Cqtl.txt\n",
      "19_Eujd.txt\n",
      "16_Pphz.txt\n"
     ]
    }
   ],
   "source": [
    "for f in os.listdir():\n",
    "    if f == '.DS_Store':\n",
    "            continue\n",
    "    random_name,file_ext = os.path.splitext(f)\n",
    "    f_title,f_name,f_number = random_name.split('_')\n",
    "    f_number = f_number.zfill(2)\n",
    "    # padded with a 0 to 2 length\n",
    "    print('{}_{}{}'.format(f_number,f_name,file_ext))"
   ]
  },
  {
   "cell_type": "code",
   "execution_count": 129,
   "metadata": {},
   "outputs": [],
   "source": [
    "# rename the file \n",
    "for f in os.listdir():\n",
    "    if f == '.DS_Store':\n",
    "            continue\n",
    "    random_name,file_ext = os.path.splitext(f)\n",
    "    f_title,f_name,f_number = random_name.split('_')\n",
    "    f_number = f_number.zfill(2)\n",
    "    # padded with a 0 to 2 length\n",
    "    newname = '{}_{}{}'.format(f_number,f_name,file_ext)\n",
    "    os.rename(f,newname)"
   ]
  }
 ],
 "metadata": {
  "kernelspec": {
   "display_name": "Python 3",
   "language": "python",
   "name": "python3"
  },
  "language_info": {
   "codemirror_mode": {
    "name": "ipython",
    "version": 3
   },
   "file_extension": ".py",
   "mimetype": "text/x-python",
   "name": "python",
   "nbconvert_exporter": "python",
   "pygments_lexer": "ipython3",
   "version": "3.7.3"
  }
 },
 "nbformat": 4,
 "nbformat_minor": 2
}
